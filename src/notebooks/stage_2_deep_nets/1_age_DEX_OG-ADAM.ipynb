{
 "cells": [
  {
   "cell_type": "markdown",
   "metadata": {
    "deletable": true,
    "editable": true
   },
   "source": [
    "# Model Evaluation"
   ]
  },
  {
   "cell_type": "markdown",
   "metadata": {
    "deletable": true,
    "editable": true
   },
   "source": [
    "## 1. Setup"
   ]
  },
  {
   "cell_type": "code",
   "execution_count": 70,
   "metadata": {
    "collapsed": false,
    "deletable": true,
    "editable": true
   },
   "outputs": [],
   "source": [
    "# NECESSARY IMPORTS\n",
    "import pandas as pd\n",
    "import numpy  as np\n",
    "\n",
    "from keras.models     import Sequential\n",
    "from keras.layers     import Dense, Dropout, Activation, Flatten, advanced_activations\n",
    "from keras.layers     import Convolution2D, MaxPooling2D, ZeroPadding2D\n",
    "from keras.optimizers import SGD, Adam\n",
    "\n",
    "from keras.utils.data_utils import get_file\n",
    "from keras import initializations\n",
    "from keras.callbacks import ModelCheckpoint\n",
    "import keras.backend     as K\n",
    "import matplotlib.pyplot as plt\n",
    "\n",
    "from pandas                     import Series\n",
    "from scipy.misc                 import imresize\n",
    "from keras.layers.normalization import BatchNormalization\n",
    "from keras.preprocessing.image  import (ImageDataGenerator, \n",
    "                                        array_to_img,\n",
    "                                        img_to_array,\n",
    "                                        load_img)\n",
    "from keras.wrappers.scikit_learn import KerasClassifier\n",
    "from sklearn.metrics import precision_score, recall_score, f1_score, confusion_matrix"
   ]
  },
  {
   "cell_type": "code",
   "execution_count": 71,
   "metadata": {
    "collapsed": true,
    "deletable": true,
    "editable": true
   },
   "outputs": [],
   "source": [
    "# VGG16-Face Pre-trained weights download links\n",
    "TF_WEIGHTS_PATH = 'https://github.com/fchollet/deep-learning-models/releases/download/v0.1/vgg16_weights_tf_dim_ordering_tf_kernels.h5'\n",
    "VGG16_LOCAL_W   = \"'vgg16_weights_tf_dim_ordering_tf_kernels.h5'\""
   ]
  },
  {
   "cell_type": "code",
   "execution_count": 72,
   "metadata": {
    "collapsed": false,
    "deletable": true,
    "editable": true
   },
   "outputs": [],
   "source": [
    "%matplotlib inline"
   ]
  },
  {
   "cell_type": "code",
   "execution_count": 73,
   "metadata": {
    "collapsed": true,
    "deletable": true,
    "editable": true
   },
   "outputs": [],
   "source": [
    "# Ensure reproducibility\n",
    "np.random.seed(0)"
   ]
  },
  {
   "cell_type": "code",
   "execution_count": 74,
   "metadata": {
    "collapsed": true,
    "deletable": true,
    "editable": true
   },
   "outputs": [],
   "source": [
    "# Path constants\n",
    "DATA_TEMPLATE     = \"./../../data/\"\n",
    "ADIENCE_META_P    = DATA_TEMPLATE + \"adience/meta\"\n",
    "ADIENCE_RAW_P     = DATA_TEMPLATE + \"adience/keras_format\"\n",
    "ADIENCE_AGE_P     = ADIENCE_RAW_P + \"/age\"\n",
    "ADIENCE_GEN_P     = ADIENCE_RAW_P + \"/gender\"\n",
    "IMG_PATH          = DATA_TEMPLATE + \"wiki/%s\"\n",
    "\n",
    "WIKI_META_P       = DATA_TEMPLATE + \"wiki_meta\"\n",
    "MODEL_TEMPLATE    = \"./models/%s\"\n",
    "WEIGHTS_TEMPLATE  = \"./weights/%s\"\n",
    "GRAPHS_TEMPLATE   = \"./graphs/%s\"\n",
    "HISTORY_TEMPLATE   = \"./histories/%s\""
   ]
  },
  {
   "cell_type": "code",
   "execution_count": 75,
   "metadata": {
    "collapsed": false,
    "deletable": true,
    "editable": true
   },
   "outputs": [],
   "source": [
    "# Independent constants\n",
    "MODEL_NAME = \"1_age_DEX_OG-ADAM\"\n",
    "INITIALIZATION = 'normal'\n",
    "LOSS           = \"binary_crossentropy\"\n",
    "OPTIMIZER      = Adam(lr=1e-3)\n",
    "BATCH_SIZE     = 32\n",
    "\n",
    "\n",
    "PIC_NAME     = GRAPHS_TEMPLATE % (MODEL_NAME + \".png\")\n",
    "PIC_NAME_FINETUNING = GRAPHS_TEMPLATE % (MODEL_NAME + \"_finetuning_.png\")\n",
    "WEIGHTS_NAME = WEIGHTS_TEMPLATE % (MODEL_NAME + \".h5\")\n",
    "TRA_HISTORY_NAME = HISTORY_TEMPLATE % (MODEL_NAME + \"_train_\"+\".npy\")\n",
    "VAL_HISTORY_NAME = HISTORY_TEMPLATE % (MODEL_NAME + \"_valid_\"+\".npy\")\n",
    "\n",
    "\n",
    "WEIGHTS_NAME_FINETUNING = WEIGHTS_TEMPLATE % (MODEL_NAME + \"_finetuning_.h5\")\n",
    "TRA_HISTORY_NAME_FINETUNING = HISTORY_TEMPLATE % (MODEL_NAME + \"_train_\"+\"_finetuning_.npy\")\n",
    "VAL_HISTORY_NAME_FINETUNING = HISTORY_TEMPLATE % (MODEL_NAME + \"_valid_\"+\"_finetuning_.npy\")\n",
    "\n",
    "IMG_WIDTH  = 227\n",
    "IMG_HEIGHT = 227\n",
    "\n",
    "\n",
    "ADIENCE_FULL = [\"idx\",\"user_id\",\"face_id\",\"original_image\",\"gender\",\"age\",\"img_path\",\"keras_path\"]\n",
    "ADIENCE_HEADER = [\"user_id\",\"face_id\",\"original_image\",\"gender\",\"age\",\"img_path\",\"keras_path\"]\n",
    "WIKI_HEADER    = [\"full_path\",\"age\",\"gender\"]\n",
    "\n",
    "NUM_EPOCHS  = 1500\n",
    "NUM_EPOCHS2 = 500\n",
    "\n",
    "\n",
    "BEST_CHECKPOINT = MODEL_NAME + \".weights.{epoch:02d}-{val_loss:.2f}.hdf5\"\n",
    "BEST_CHECKPOINT_FINE = MODEL_NAME + \"FINETUNE.weights.{epoch:02d}-{val_loss:.2f}.hdf5\""
   ]
  },
  {
   "cell_type": "code",
   "execution_count": 76,
   "metadata": {
    "collapsed": false,
    "deletable": true,
    "editable": true
   },
   "outputs": [],
   "source": [
    "callback1 = ModelCheckpoint(BEST_CHECKPOINT, monitor='val_loss', verbose=0, save_best_only=True, save_weights_only=True, mode='auto', period=10)"
   ]
  },
  {
   "cell_type": "code",
   "execution_count": 77,
   "metadata": {
    "collapsed": true,
    "deletable": true,
    "editable": true
   },
   "outputs": [],
   "source": [
    "callback2 = ModelCheckpoint(BEST_CHECKPOINT_FINE, monitor='val_loss', verbose=0, save_best_only=True, save_weights_only=True, mode='auto', period=10)"
   ]
  },
  {
   "cell_type": "code",
   "execution_count": 78,
   "metadata": {
    "collapsed": false,
    "deletable": true,
    "editable": true
   },
   "outputs": [],
   "source": [
    "# Dependent constants\n",
    "IMG_DIMS = (IMG_WIDTH, IMG_HEIGHT)\n",
    "MODEL_W  = MODEL_NAME + \".h5\"\n",
    "MODEL_P  = MODEL_NAME + \".txt\" "
   ]
  },
  {
   "cell_type": "markdown",
   "metadata": {
    "deletable": true,
    "editable": true
   },
   "source": [
    "## 2. Loading metadata"
   ]
  },
  {
   "cell_type": "markdown",
   "metadata": {
    "deletable": true,
    "editable": true
   },
   "source": [
    "### Adience"
   ]
  },
  {
   "cell_type": "code",
   "execution_count": 79,
   "metadata": {
    "collapsed": false,
    "deletable": true,
    "editable": true
   },
   "outputs": [],
   "source": [
    "gender_train_path = ADIENCE_META_P + \"/gender_train_0.csv\"\n",
    "gender_valid_path = ADIENCE_META_P + \"/gender_valid_0.csv\"\n",
    "gender_train = pd.read_csv(filepath_or_buffer =gender_train_path)\n",
    "gender_valid = pd.read_csv(filepath_or_buffer =gender_valid_path)\n",
    "\n",
    "gender_train = gender_train[ADIENCE_HEADER]\n",
    "gender_valid = gender_valid[ADIENCE_HEADER]"
   ]
  },
  {
   "cell_type": "code",
   "execution_count": 80,
   "metadata": {
    "collapsed": false,
    "deletable": true,
    "editable": true
   },
   "outputs": [],
   "source": [
    "age_train_path = ADIENCE_META_P + \"/age_train_0.csv\"\n",
    "age_valid_path = ADIENCE_META_P + \"/age_valid_0.csv\"\n",
    "age_train = pd.read_csv(filepath_or_buffer =gender_train_path)\n",
    "age_valid = pd.read_csv(filepath_or_buffer =gender_valid_path)\n",
    "\n",
    "age_train = age_train[ADIENCE_HEADER]\n",
    "age_valid = age_valid[ADIENCE_HEADER]"
   ]
  },
  {
   "cell_type": "markdown",
   "metadata": {
    "deletable": true,
    "editable": true
   },
   "source": [
    "### Wiki"
   ]
  },
  {
   "cell_type": "code",
   "execution_count": 81,
   "metadata": {
    "collapsed": false,
    "deletable": true,
    "editable": true
   },
   "outputs": [],
   "source": [
    "w_gender_train_path = WIKI_META_P + \"/gender/train_1.csv\"\n",
    "w_gender_valid_path = WIKI_META_P + \"/gender/valid_1.csv\"\n",
    "\n",
    "w_gender_train = pd.read_csv(filepath_or_buffer =w_gender_train_path)\n",
    "w_gender_valid = pd.read_csv(filepath_or_buffer =w_gender_valid_path)\n",
    "\n",
    "w_gender_train = w_gender_train[WIKI_HEADER]\n",
    "w_gender_valid = w_gender_valid[WIKI_HEADER]"
   ]
  },
  {
   "cell_type": "code",
   "execution_count": 82,
   "metadata": {
    "collapsed": false,
    "deletable": true,
    "editable": true
   },
   "outputs": [],
   "source": [
    "w_age_train_path = WIKI_META_P + \"/gender/train_1.csv\"\n",
    "w_age_valid_path = WIKI_META_P + \"/gender/valid_1.csv\"\n",
    "w_age_train = pd.read_csv(filepath_or_buffer =w_age_train_path)\n",
    "w_age_valid = pd.read_csv(filepath_or_buffer =w_age_valid_path)\n",
    "\n",
    "w_age_train = w_age_train[WIKI_HEADER]\n",
    "w_age_valid = w_age_valid[WIKI_HEADER]"
   ]
  },
  {
   "cell_type": "markdown",
   "metadata": {
    "deletable": true,
    "editable": true
   },
   "source": [
    "### SHALLOW-ONLY TASK: Fix age ranges"
   ]
  },
  {
   "cell_type": "code",
   "execution_count": 83,
   "metadata": {
    "collapsed": false,
    "deletable": true,
    "editable": true
   },
   "outputs": [
    {
     "data": {
      "text/plain": [
       "'\\ndef fix_age_ranges(age):\\n    if age < 4:\\n        return \"(0, 2)\"\\n    if age < 8:\\n        return \"(4, 6)\"\\n    if age < 15:\\n        return \"(8, 13)\"\\n    if age < 25:\\n        return \"(15, 20)\"\\n    if age < 38:\\n        return \"(25, 32)\"\\n    if age < 48:\\n        return \"(38, 43)\"\\n    if age < 60:\\n        return \"(48, 53)\"\\n    return \"(60-100)\"\\n\\nw_age_train[\"age\"]    = w_age_train[\"age\"].apply(lambda x: fix_age_ranges(x))\\nw_age_valid[\"age\"]    = w_age_valid[\"age\"].apply(lambda x: fix_age_ranges(x))\\nw_gender_train[\"age\"] = w_gender_train[\"age\"].apply(lambda x: fix_age_ranges(x))\\nw_gender_valid[\"age\"] = w_gender_valid[\"age\"].apply(lambda x: fix_age_ranges(x))\\n'"
      ]
     },
     "execution_count": 83,
     "metadata": {},
     "output_type": "execute_result"
    }
   ],
   "source": [
    "\"\"\"\n",
    "def fix_age_ranges(age):\n",
    "    if age < 4:\n",
    "        return \"(0, 2)\"\n",
    "    if age < 8:\n",
    "        return \"(4, 6)\"\n",
    "    if age < 15:\n",
    "        return \"(8, 13)\"\n",
    "    if age < 25:\n",
    "        return \"(15, 20)\"\n",
    "    if age < 38:\n",
    "        return \"(25, 32)\"\n",
    "    if age < 48:\n",
    "        return \"(38, 43)\"\n",
    "    if age < 60:\n",
    "        return \"(48, 53)\"\n",
    "    return \"(60-100)\"\n",
    "\n",
    "w_age_train[\"age\"]    = w_age_train[\"age\"].apply(lambda x: fix_age_ranges(x))\n",
    "w_age_valid[\"age\"]    = w_age_valid[\"age\"].apply(lambda x: fix_age_ranges(x))\n",
    "w_gender_train[\"age\"] = w_gender_train[\"age\"].apply(lambda x: fix_age_ranges(x))\n",
    "w_gender_valid[\"age\"] = w_gender_valid[\"age\"].apply(lambda x: fix_age_ranges(x))\n",
    "\"\"\""
   ]
  },
  {
   "cell_type": "markdown",
   "metadata": {
    "deletable": true,
    "editable": true
   },
   "source": [
    "## 3. Data pipeline"
   ]
  },
  {
   "cell_type": "markdown",
   "metadata": {
    "deletable": true,
    "editable": true
   },
   "source": [
    "### 3.1 Adience"
   ]
  },
  {
   "cell_type": "code",
   "execution_count": 84,
   "metadata": {
    "collapsed": false,
    "deletable": true,
    "editable": true
   },
   "outputs": [],
   "source": [
    "adience_train_aug = ImageDataGenerator(\n",
    "        rotation_range=40,\n",
    "        width_shift_range=0.2,\n",
    "        height_shift_range=0.2,\n",
    "        shear_range=0.2,\n",
    "        zoom_range=0.2,\n",
    "        rescale=1./255,\n",
    "        horizontal_flip=True,\n",
    "        fill_mode='nearest')"
   ]
  },
  {
   "cell_type": "code",
   "execution_count": 85,
   "metadata": {
    "collapsed": true,
    "deletable": true,
    "editable": true
   },
   "outputs": [],
   "source": [
    "adience_valid_aug = ImageDataGenerator(rescale=1./255)"
   ]
  },
  {
   "cell_type": "markdown",
   "metadata": {
    "deletable": true,
    "editable": true
   },
   "source": [
    "### Train"
   ]
  },
  {
   "cell_type": "code",
   "execution_count": 86,
   "metadata": {
    "collapsed": false,
    "deletable": true,
    "editable": true
   },
   "outputs": [
    {
     "name": "stdout",
     "output_type": "stream",
     "text": [
      "Found 10505 images belonging to 2 classes.\n"
     ]
    }
   ],
   "source": [
    "ADIENCE_GENDER_TRAIN_P = ADIENCE_GEN_P + \"/train/1\"\n",
    "adience_gender_train_gen = adience_train_aug.flow_from_directory(\n",
    "    ADIENCE_GENDER_TRAIN_P,\n",
    "    target_size=IMG_DIMS,\n",
    "    batch_size=BATCH_SIZE,\n",
    "    class_mode=\"categorical\")"
   ]
  },
  {
   "cell_type": "code",
   "execution_count": 87,
   "metadata": {
    "collapsed": false,
    "deletable": true,
    "editable": true
   },
   "outputs": [
    {
     "name": "stdout",
     "output_type": "stream",
     "text": [
      "Found 10505 images belonging to 8 classes.\n"
     ]
    }
   ],
   "source": [
    "ADIENCE_AGE_TRAIN_P = ADIENCE_AGE_P + \"/train/1\"\n",
    "adience_age_train_gen = adience_train_aug.flow_from_directory(\n",
    "    ADIENCE_AGE_TRAIN_P,\n",
    "    target_size=IMG_DIMS,\n",
    "    batch_size=BATCH_SIZE,\n",
    "    class_mode=\"categorical\")"
   ]
  },
  {
   "cell_type": "markdown",
   "metadata": {
    "deletable": true,
    "editable": true
   },
   "source": [
    "### Validation"
   ]
  },
  {
   "cell_type": "code",
   "execution_count": 88,
   "metadata": {
    "collapsed": false,
    "deletable": true,
    "editable": true
   },
   "outputs": [
    {
     "name": "stdout",
     "output_type": "stream",
     "text": [
      "Found 3502 images belonging to 2 classes.\n"
     ]
    }
   ],
   "source": [
    "ADIENCE_GENDER_VALID_P = ADIENCE_GEN_P + \"/valid/1\"\n",
    "adience_gender_valid_gen = adience_valid_aug.flow_from_directory(\n",
    "    ADIENCE_GENDER_VALID_P,\n",
    "    target_size=IMG_DIMS,\n",
    "    batch_size=BATCH_SIZE,\n",
    "    class_mode=\"categorical\")"
   ]
  },
  {
   "cell_type": "code",
   "execution_count": 89,
   "metadata": {
    "collapsed": false,
    "deletable": true,
    "editable": true
   },
   "outputs": [
    {
     "name": "stdout",
     "output_type": "stream",
     "text": [
      "Found 3502 images belonging to 8 classes.\n"
     ]
    }
   ],
   "source": [
    "ADIENCE_AGE_VALID_P = ADIENCE_AGE_P + \"/valid/1\"\n",
    "adience_age_valid_gen = adience_valid_aug.flow_from_directory(\n",
    "    ADIENCE_AGE_VALID_P,\n",
    "    target_size=IMG_DIMS,\n",
    "    batch_size=BATCH_SIZE,\n",
    "    class_mode=\"categorical\")"
   ]
  },
  {
   "cell_type": "markdown",
   "metadata": {
    "deletable": true,
    "editable": true
   },
   "source": [
    "### Test"
   ]
  },
  {
   "cell_type": "code",
   "execution_count": 90,
   "metadata": {
    "collapsed": false,
    "deletable": true,
    "editable": true
   },
   "outputs": [
    {
     "name": "stdout",
     "output_type": "stream",
     "text": [
      "Found 3445 images belonging to 2 classes.\n"
     ]
    }
   ],
   "source": [
    "ADIENCE_GENDER_TEST_P = ADIENCE_GEN_P + \"/test/\"\n",
    "adience_gender_test_gen = adience_valid_aug.flow_from_directory(\n",
    "    ADIENCE_GENDER_TEST_P,\n",
    "    target_size=IMG_DIMS,\n",
    "    batch_size=BATCH_SIZE,\n",
    "    class_mode=\"categorical\")"
   ]
  },
  {
   "cell_type": "code",
   "execution_count": 91,
   "metadata": {
    "collapsed": false,
    "deletable": true,
    "editable": true
   },
   "outputs": [
    {
     "name": "stdout",
     "output_type": "stream",
     "text": [
      "Found 3445 images belonging to 8 classes.\n"
     ]
    }
   ],
   "source": [
    "ADIENCE_AGE_TEST_P = ADIENCE_AGE_P + \"/test/\"\n",
    "adience_age_test_gen = adience_valid_aug.flow_from_directory(\n",
    "    ADIENCE_AGE_TEST_P,\n",
    "    target_size=IMG_DIMS,\n",
    "    batch_size=BATCH_SIZE,\n",
    "    class_mode=\"categorical\")"
   ]
  },
  {
   "cell_type": "markdown",
   "metadata": {
    "deletable": true,
    "editable": true
   },
   "source": [
    "### 3.2 Wiki"
   ]
  },
  {
   "cell_type": "code",
   "execution_count": 92,
   "metadata": {
    "collapsed": false,
    "deletable": true,
    "editable": true
   },
   "outputs": [],
   "source": [
    "true_path = lambda x: IMG_PATH % x\n",
    "w_age_train[\"full_path\"]    = w_age_train[\"full_path\"].apply(lambda x: true_path(x))\n",
    "w_gender_train[\"full_path\"] = w_gender_train[\"full_path\"].apply(lambda x: true_path(x))\n",
    "w_age_valid[\"full_path\"]    = w_age_valid[\"full_path\"].apply(lambda x: true_path(x))\n",
    "w_gender_valid[\"full_path\"] = w_gender_valid[\"full_path\"].apply(lambda x: true_path(x))"
   ]
  },
  {
   "cell_type": "code",
   "execution_count": 93,
   "metadata": {
    "collapsed": true,
    "deletable": true,
    "editable": true
   },
   "outputs": [],
   "source": [
    "def get_image(x):\n",
    "    try:\n",
    "        val = img_to_array(imresize(load_img(x),IMG_DIMS))\n",
    "    except:\n",
    "        val = \"ERR\"\n",
    "    return val"
   ]
  },
  {
   "cell_type": "code",
   "execution_count": 94,
   "metadata": {
    "collapsed": false,
    "deletable": true,
    "editable": true
   },
   "outputs": [],
   "source": [
    "# Data generator\n",
    "def generate_test(df, batch_size, target_feature):\n",
    "    start, end = 0, batch_size\n",
    "    while True:\n",
    "        while end < len(dfs.shape[0]):\n",
    "            ages_h = list(pd.get_dummies(data[\"age\"]).columns.values)\n",
    "            ages   = pd.get_dummies(data[\"age\"])\n",
    "            data[ages_h] = ages\n",
    "            \n",
    "            \n",
    "            genders_h = list(pd.get_dummies(data[\"gender\"]).columns.values)\n",
    "            genders   = pd.get_dummies(data[\"gender\"])\n",
    "            data[genders_h] = genders\n",
    "\n",
    "            sample = data[start:end]\n",
    "            start += batch_size\n",
    "            end   += batch_size\n",
    "\n",
    "            X         = pd.DataFrame(sample[\"full_path\"].apply(lambda x:get_image(x)))\n",
    "            good_rows = X[\"full_path\"] != \"ERR\"\n",
    "            X         = X[good_rows]\n",
    "            X.reset_index(inplace=True)\n",
    "            X = X[\"full_path\"].apply(lambda x: x.reshape((1,)+ x.shape))\n",
    "            X = np.vstack(X)\n",
    "            X /= 255\n",
    "\n",
    "            #X = model.predict(X, X.shape[0])\n",
    "\n",
    "            Y = sample[good_rows]\n",
    "            if target_feature == \"age\":\n",
    "                Y = Y[ages_h].as_matrix()\n",
    "            else:\n",
    "                Y = pd.get_dummies(Y[genders_h]).as_matrix()\n",
    "            yield (X,Y)"
   ]
  },
  {
   "cell_type": "code",
   "execution_count": 95,
   "metadata": {
    "collapsed": false,
    "deletable": true,
    "editable": true
   },
   "outputs": [],
   "source": [
    "# Data generator\n",
    "def generate_data(df, batch_size, target_feature):\n",
    "    start, end = 0, batch_size\n",
    "    while True:\n",
    "        data   = df.sample(frac=1).reset_index(drop=True)\n",
    "        ages_h = list(pd.get_dummies(data[\"age\"]).columns.values)\n",
    "        ages   = pd.get_dummies(data[\"age\"])\n",
    "        data[ages_h] = ages\n",
    "        \n",
    "        genders_h = list(pd.get_dummies(data[\"gender\"]).columns.values)\n",
    "        genders   = pd.get_dummies(data[\"gender\"])\n",
    "        data[genders_h] = genders\n",
    "        \n",
    "        sample = data[start:end]\n",
    "        \n",
    "        X         = pd.DataFrame(sample[\"full_path\"].apply(lambda x:get_image(x)))\n",
    "        good_rows = X[\"full_path\"] != \"ERR\"\n",
    "        X         = X[good_rows]\n",
    "        X.reset_index(inplace=True)\n",
    "        X = X[\"full_path\"].apply(lambda x: x.reshape((1,)+ x.shape))\n",
    "        X = np.vstack(X)\n",
    "        X /= 255\n",
    "        #X = model.predict(X, X.shape[0])\n",
    "        \n",
    "        Y = sample[good_rows]\n",
    "        if target_feature == \"age\":\n",
    "            Y = Y[ages_h].as_matrix()\n",
    "        else:\n",
    "            Y = pd.get_dummies(Y[genders_h]).as_matrix()\n",
    "        yield (X,Y)"
   ]
  },
  {
   "cell_type": "code",
   "execution_count": 96,
   "metadata": {
    "collapsed": false,
    "deletable": true,
    "editable": true
   },
   "outputs": [],
   "source": [
    "w_age_train_gen = generate_data(w_age_train, BATCH_SIZE, \"age\")\n",
    "w_age_valid_gen = generate_data(w_age_valid, BATCH_SIZE, \"age\")\n",
    "w_gender_train_gen = generate_data(w_gender_train, BATCH_SIZE, \"gender\")\n",
    "w_gender_valid_gen = generate_data(w_gender_valid, BATCH_SIZE, \"gender\")"
   ]
  },
  {
   "cell_type": "code",
   "execution_count": 97,
   "metadata": {
    "collapsed": false,
    "deletable": true,
    "editable": true
   },
   "outputs": [],
   "source": [
    "from keras.engine.topology import Layer\n",
    "class LRN2D(Layer):\n",
    "    \"\"\"\n",
    "    This code is adapted from pylearn2.\n",
    "    License at: https://github.com/lisa-lab/pylearn2/blob/master/LICENSE.txt\n",
    "    \"\"\"\n",
    "\n",
    "    def __init__(self, alpha=1e-4, k=2, beta=0.75, n=5):\n",
    "        if n % 2 == 0:\n",
    "            raise NotImplementedError(\"LRN2D only works with odd n. n provided: \" + str(n))\n",
    "        super(LRN2D, self).__init__()\n",
    "        self.alpha = alpha\n",
    "        self.k = k\n",
    "        self.beta = beta\n",
    "        self.n = n\n",
    "\n",
    "    def get_output(self, train):\n",
    "        X = self.get_input(train)\n",
    "        b, ch, r, c = X.shape\n",
    "        half_n = self.n // 2\n",
    "        input_sqr = T.sqr(X)\n",
    "        extra_channels = T.alloc(0., b, ch + 2*half_n, r, c)\n",
    "        input_sqr = T.set_subtensor(extra_channels[:, half_n:half_n+ch, :, :], input_sqr)\n",
    "        scale = self.k\n",
    "        for i in range(self.n):\n",
    "            scale += self.alpha * input_sqr[:, i:i+ch, :, :]\n",
    "        scale = scale ** self.beta\n",
    "        return X / scale\n",
    "\n",
    "    def get_config(self):\n",
    "        return {\"name\": self.__class__.__name__,\n",
    "                \"alpha\": self.alpha,\n",
    "                \"k\": self.k,\n",
    "                \"beta\": self.beta,\n",
    "\"n\": self.n}"
   ]
  },
  {
   "cell_type": "markdown",
   "metadata": {
    "deletable": true,
    "editable": true
   },
   "source": [
    "## 4. Building the model"
   ]
  },
  {
   "cell_type": "code",
   "execution_count": 98,
   "metadata": {
    "collapsed": false,
    "deletable": true,
    "editable": true
   },
   "outputs": [],
   "source": [
    "# VGG16 network\n",
    "model = Sequential()\n",
    "model.add(ZeroPadding2D((1, 1), input_shape=(IMG_WIDTH, IMG_HEIGHT,3)))\n",
    "\n",
    "model.add(Convolution2D(64, 3, 3, activation='relu', name='conv1_1'))\n",
    "model.add(ZeroPadding2D((1, 1)))\n",
    "model.add(Convolution2D(64, 3, 3, activation='relu', name='conv1_2'))\n",
    "model.add(MaxPooling2D((2, 2), strides=(2, 2), dim_ordering=\"tf\"))\n",
    "\n",
    "model.add(ZeroPadding2D((1, 1)))\n",
    "model.add(Convolution2D(128, 3, 3, activation='relu', name='conv2_1'))\n",
    "model.add(ZeroPadding2D((1, 1)))\n",
    "model.add(Convolution2D(128, 3, 3, activation='relu', name='conv2_2'))\n",
    "model.add(MaxPooling2D((2, 2), strides=(2, 2), dim_ordering=\"tf\"))\n",
    "\n",
    "model.add(ZeroPadding2D((1, 1)))\n",
    "model.add(Convolution2D(256, 3, 3, activation='relu', name='conv3_1'))\n",
    "model.add(ZeroPadding2D((1, 1)))\n",
    "model.add(Convolution2D(256, 3, 3, activation='relu', name='conv3_2'))\n",
    "model.add(ZeroPadding2D((1, 1)))\n",
    "model.add(Convolution2D(256, 3, 3, activation='relu', name='conv3_3'))\n",
    "model.add(MaxPooling2D((2, 2), strides=(2, 2), dim_ordering=\"tf\"))\n",
    "\n",
    "model.add(ZeroPadding2D((1, 1)))\n",
    "model.add(Convolution2D(512, 3, 3, activation='relu', name='conv4_1'))\n",
    "model.add(ZeroPadding2D((1, 1)))\n",
    "model.add(Convolution2D(512, 3, 3, activation='relu', name='conv4_2'))\n",
    "model.add(ZeroPadding2D((1, 1)))\n",
    "model.add(Convolution2D(512, 3, 3, activation='relu', name='conv4_3'))\n",
    "model.add(MaxPooling2D((2, 2), strides=(2, 2), dim_ordering=\"tf\"))\n",
    "\n",
    "model.add(ZeroPadding2D((1, 1)))\n",
    "model.add(Convolution2D(512, 3, 3, activation='relu', name='conv5_1'))\n",
    "model.add(ZeroPadding2D((1, 1)))\n",
    "model.add(Convolution2D(512, 3, 3, activation='relu', name='conv5_2'))\n",
    "model.add(ZeroPadding2D((1, 1)))\n",
    "model.add(Convolution2D(512, 3, 3, activation='relu', name='conv5_3'))\n",
    "model.add(MaxPooling2D((2, 2), strides=(2, 2), dim_ordering=\"tf\"))\n",
    "\n",
    "model.add(Flatten())\n",
    "model.add(Dense(4096, activation='relu', name=\"fc_1\"))\n",
    "model.add(Dense(4096, activation='relu', name=\"fc_w\"))\n",
    "model.add(Dense(1000, activation='softmax',  name=\"predictions\"))"
   ]
  },
  {
   "cell_type": "code",
   "execution_count": 99,
   "metadata": {
    "collapsed": false,
    "deletable": true,
    "editable": true
   },
   "outputs": [],
   "source": [
    "# Obtain VGG16-Face weights\n",
    "weights_path = get_file(VGG16_LOCAL_W,TF_WEIGHTS_PATH, cache_subdir='models')"
   ]
  },
  {
   "cell_type": "code",
   "execution_count": 100,
   "metadata": {
    "collapsed": true,
    "deletable": true,
    "editable": true
   },
   "outputs": [],
   "source": [
    "# Loading VGG16-Face weights to VGG16 network\n",
    "model.load_weights(weights_path)"
   ]
  },
  {
   "cell_type": "code",
   "execution_count": 101,
   "metadata": {
    "collapsed": false,
    "deletable": true,
    "editable": true
   },
   "outputs": [],
   "source": [
    "from keras import backend as K\n",
    "\n",
    "def my_init(shape, name=None):\n",
    "    return K.variable(np.reshape(np.arange(0, shape[0], 1), (101,1)), name=name)\n"
   ]
  },
  {
   "cell_type": "code",
   "execution_count": 102,
   "metadata": {
    "collapsed": false,
    "deletable": true,
    "editable": true
   },
   "outputs": [
    {
     "name": "stdout",
     "output_type": "stream",
     "text": [
      "[<keras.layers.convolutional.ZeroPadding2D object at 0x7fb07e7f0a90>, <keras.layers.convolutional.Convolution2D object at 0x7fb07e7f0b10>, <keras.layers.convolutional.ZeroPadding2D object at 0x7fb07e7f0dd0>, <keras.layers.convolutional.Convolution2D object at 0x7fb0821a5250>, <keras.layers.pooling.MaxPooling2D object at 0x7fb07e7f09d0>, <keras.layers.convolutional.ZeroPadding2D object at 0x7fb07e500f90>, <keras.layers.convolutional.Convolution2D object at 0x7fb07e7f0e10>, <keras.layers.convolutional.ZeroPadding2D object at 0x7fb0812db490>, <keras.layers.convolutional.Convolution2D object at 0x7fb07e500b90>, <keras.layers.pooling.MaxPooling2D object at 0x7fb081b58750>, <keras.layers.convolutional.ZeroPadding2D object at 0x7fb080ea1c50>, <keras.layers.convolutional.Convolution2D object at 0x7fb081b58c50>, <keras.layers.convolutional.ZeroPadding2D object at 0x7fb081783550>, <keras.layers.convolutional.Convolution2D object at 0x7fb080eb09d0>, <keras.layers.convolutional.ZeroPadding2D object at 0x7fb081153950>, <keras.layers.convolutional.Convolution2D object at 0x7fb07e6d9150>, <keras.layers.pooling.MaxPooling2D object at 0x7fb0817a1d50>, <keras.layers.convolutional.ZeroPadding2D object at 0x7fb081450b90>, <keras.layers.convolutional.Convolution2D object at 0x7fb0817a1510>, <keras.layers.convolutional.ZeroPadding2D object at 0x7fb081bb6550>, <keras.layers.convolutional.Convolution2D object at 0x7fb08143ebd0>, <keras.layers.convolutional.ZeroPadding2D object at 0x7fb081b69f10>, <keras.layers.convolutional.Convolution2D object at 0x7fb081b69790>, <keras.layers.pooling.MaxPooling2D object at 0x7fb081b6a110>, <keras.layers.convolutional.ZeroPadding2D object at 0x7fb081181e50>, <keras.layers.convolutional.Convolution2D object at 0x7fb081181f90>, <keras.layers.convolutional.ZeroPadding2D object at 0x7fb0811bd910>, <keras.layers.convolutional.Convolution2D object at 0x7fb08118afd0>, <keras.layers.convolutional.ZeroPadding2D object at 0x7fb0811b0fd0>, <keras.layers.convolutional.Convolution2D object at 0x7fb0811b0e10>, <keras.layers.pooling.MaxPooling2D object at 0x7fb080ee8bd0>, <keras.layers.core.Flatten object at 0x7fb07f4c6910>, <keras.layers.core.Dense object at 0x7fb080ee5f10>, <keras.layers.core.Dense object at 0x7fb080f20b50>]\n"
     ]
    }
   ],
   "source": [
    "model.layers.pop()\n",
    "print model.layers\n",
    "model.add(Dense(99,activation='softmax'))\n",
    "#model.add(Dense(1, init=my_init))"
   ]
  },
  {
   "cell_type": "code",
   "execution_count": 103,
   "metadata": {
    "collapsed": false,
    "deletable": true,
    "editable": true
   },
   "outputs": [],
   "source": [
    "#layer = model.layers[-1]\n",
    "#layer.trainable = False\n",
    "\n",
    "for layer in model.layers[:25]:\n",
    "    layer.trainable = False"
   ]
  },
  {
   "cell_type": "code",
   "execution_count": null,
   "metadata": {
    "collapsed": false,
    "deletable": true,
    "editable": true
   },
   "outputs": [],
   "source": [
    "model.compile(loss=LOSS, optimizer=OPTIMIZER, metrics=['acc'])"
   ]
  },
  {
   "cell_type": "markdown",
   "metadata": {
    "deletable": true,
    "editable": true
   },
   "source": [
    "## 6. Training the model"
   ]
  },
  {
   "cell_type": "code",
   "execution_count": null,
   "metadata": {
    "collapsed": false,
    "deletable": true,
    "editable": true
   },
   "outputs": [
    {
     "name": "stdout",
     "output_type": "stream",
     "text": [
      "Epoch 1/1500\n",
      "32/32 [==============================] - 3s - loss: 0.0970 - acc: 0.9811 - val_loss: 0.0970 - val_acc: 0.9811\n",
      "Epoch 2/1500\n",
      "32/32 [==============================] - 1s - loss: 0.0925 - acc: 0.9820 - val_loss: 0.0897 - val_acc: 0.9826\n",
      "Epoch 3/1500\n",
      "32/32 [==============================] - 1s - loss: 0.0953 - acc: 0.9814 - val_loss: 0.0939 - val_acc: 0.9817\n",
      "Epoch 4/1500\n",
      "32/32 [==============================] - 1s - loss: 0.0939 - acc: 0.9817 - val_loss: 0.0966 - val_acc: 0.9811\n",
      "Epoch 5/1500\n",
      "32/32 [==============================] - 1s - loss: 0.0938 - acc: 0.9817 - val_loss: 0.0867 - val_acc: 0.9833\n",
      "Epoch 6/1500\n",
      "32/32 [==============================] - 1s - loss: 0.0866 - acc: 0.9833 - val_loss: 0.0924 - val_acc: 0.9820\n",
      "Epoch 7/1500\n",
      "32/32 [==============================] - 1s - loss: 0.0982 - acc: 0.9807 - val_loss: 0.0881 - val_acc: 0.9830\n",
      "Epoch 8/1500\n",
      "32/32 [==============================] - 1s - loss: 0.0952 - acc: 0.9814 - val_loss: 0.0923 - val_acc: 0.9820\n",
      "Epoch 9/1500\n",
      "32/32 [==============================] - 1s - loss: 0.0968 - acc: 0.9811 - val_loss: 0.0825 - val_acc: 0.9842\n",
      "Epoch 10/1500\n",
      "32/32 [==============================] - 1s - loss: 0.1010 - acc: 0.9801 - val_loss: 0.0863 - val_acc: 0.9833\n",
      "Epoch 11/1500\n",
      "32/32 [==============================] - 1s - loss: 0.0923 - acc: 0.9820 - val_loss: 0.0937 - val_acc: 0.9817\n",
      "Epoch 12/1500\n",
      "32/32 [==============================] - 1s - loss: 0.0950 - acc: 0.9814 - val_loss: 0.0894 - val_acc: 0.9826\n",
      "Epoch 13/1500\n",
      "32/32 [==============================] - 1s - loss: 0.0978 - acc: 0.9807 - val_loss: 0.0907 - val_acc: 0.9823\n",
      "Epoch 14/1500\n",
      "32/32 [==============================] - 1s - loss: 0.0907 - acc: 0.9823 - val_loss: 0.0964 - val_acc: 0.9811\n",
      "Epoch 15/1500\n",
      "32/32 [==============================] - 1s - loss: 0.0879 - acc: 0.9830 - val_loss: 0.0921 - val_acc: 0.9820\n",
      "Epoch 16/1500\n",
      "32/32 [==============================] - 1s - loss: 0.0905 - acc: 0.9823 - val_loss: 0.0963 - val_acc: 0.9811\n",
      "Epoch 17/1500\n",
      "32/32 [==============================] - 1s - loss: 0.0936 - acc: 0.9817 - val_loss: 0.0905 - val_acc: 0.9823\n",
      "Epoch 18/1500\n",
      "32/32 [==============================] - 1s - loss: 0.0920 - acc: 0.9820 - val_loss: 0.0920 - val_acc: 0.9820\n",
      "Epoch 19/1500\n",
      "32/32 [==============================] - 1s - loss: 0.0934 - acc: 0.9817 - val_loss: 0.0948 - val_acc: 0.9814\n",
      "Epoch 20/1500\n",
      "32/32 [==============================] - 1s - loss: 0.0933 - acc: 0.9817 - val_loss: 0.0847 - val_acc: 0.9836\n",
      "Epoch 21/1500\n",
      "32/32 [==============================] - 1s - loss: 0.0890 - acc: 0.9826 - val_loss: 0.0919 - val_acc: 0.9820\n",
      "Epoch 22/1500\n",
      "32/32 [==============================] - 1s - loss: 0.0920 - acc: 0.9820 - val_loss: 0.0917 - val_acc: 0.9820\n",
      "Epoch 23/1500\n",
      "32/32 [==============================] - 1s - loss: 0.0903 - acc: 0.9823 - val_loss: 0.0931 - val_acc: 0.9817\n",
      "Epoch 24/1500\n",
      "32/32 [==============================] - 1s - loss: 0.0876 - acc: 0.9830 - val_loss: 0.0932 - val_acc: 0.9817\n",
      "Epoch 25/1500\n",
      "32/32 [==============================] - 1s - loss: 0.0960 - acc: 0.9811 - val_loss: 0.0917 - val_acc: 0.9820\n",
      "Epoch 26/1500\n",
      "32/32 [==============================] - 1s - loss: 0.0832 - acc: 0.9839 - val_loss: 0.0903 - val_acc: 0.9823\n",
      "Epoch 27/1500\n",
      "32/32 [==============================] - 1s - loss: 0.0916 - acc: 0.9820 - val_loss: 0.0944 - val_acc: 0.9814\n",
      "Epoch 28/1500\n",
      "32/32 [==============================] - 1s - loss: 0.0959 - acc: 0.9811 - val_loss: 0.0887 - val_acc: 0.9826\n",
      "Epoch 29/1500\n",
      "32/32 [==============================] - 1s - loss: 0.0930 - acc: 0.9817 - val_loss: 0.0901 - val_acc: 0.9823\n",
      "Epoch 30/1500\n",
      "32/32 [==============================] - 1s - loss: 0.0930 - acc: 0.9817 - val_loss: 0.0887 - val_acc: 0.9826\n",
      "Epoch 31/1500\n",
      "32/32 [==============================] - 1s - loss: 0.0931 - acc: 0.9817 - val_loss: 0.0915 - val_acc: 0.9820\n",
      "Epoch 32/1500\n",
      "32/32 [==============================] - 1s - loss: 0.0901 - acc: 0.9823 - val_loss: 0.0887 - val_acc: 0.9826\n",
      "Epoch 33/1500\n",
      "32/32 [==============================] - 1s - loss: 0.0916 - acc: 0.9820 - val_loss: 0.0872 - val_acc: 0.9830\n",
      "Epoch 34/1500\n",
      "32/32 [==============================] - 1s - loss: 0.0915 - acc: 0.9820 - val_loss: 0.0914 - val_acc: 0.9820\n",
      "Epoch 35/1500\n",
      "32/32 [==============================] - 1s - loss: 0.0901 - acc: 0.9823 - val_loss: 0.0900 - val_acc: 0.9823\n",
      "Epoch 36/1500\n",
      "32/32 [==============================] - 1s - loss: 0.0858 - acc: 0.9833 - val_loss: 0.0926 - val_acc: 0.9817\n",
      "Epoch 37/1500\n",
      "32/32 [==============================] - 1s - loss: 0.0971 - acc: 0.9807 - val_loss: 0.0938 - val_acc: 0.9814\n",
      "Epoch 38/1500\n",
      "32/32 [==============================] - 1s - loss: 0.0928 - acc: 0.9817 - val_loss: 0.0984 - val_acc: 0.9804\n",
      "Epoch 39/1500\n",
      "32/32 [==============================] - 1s - loss: 0.0872 - acc: 0.9830 - val_loss: 0.0871 - val_acc: 0.9830\n",
      "Epoch 40/1500\n",
      "32/32 [==============================] - 1s - loss: 0.0926 - acc: 0.9817 - val_loss: 0.0857 - val_acc: 0.9833\n",
      "Epoch 41/1500\n",
      "32/32 [==============================] - 1s - loss: 0.0855 - acc: 0.9833 - val_loss: 0.0926 - val_acc: 0.9817\n",
      "Epoch 42/1500\n",
      "32/32 [==============================] - 1s - loss: 0.0913 - acc: 0.9820 - val_loss: 0.0912 - val_acc: 0.9820\n",
      "Epoch 43/1500\n",
      "32/32 [==============================] - 1s - loss: 0.0898 - acc: 0.9823 - val_loss: 0.0941 - val_acc: 0.9814\n",
      "Epoch 44/1500\n",
      "32/32 [==============================] - 1s - loss: 0.0912 - acc: 0.9820 - val_loss: 0.0828 - val_acc: 0.9839\n",
      "Epoch 45/1500\n",
      "32/32 [==============================] - 1s - loss: 0.0899 - acc: 0.9823 - val_loss: 0.0939 - val_acc: 0.9814\n",
      "Epoch 46/1500\n",
      "32/32 [==============================] - 1s - loss: 0.0938 - acc: 0.9814 - val_loss: 0.0881 - val_acc: 0.9826\n",
      "Epoch 47/1500\n",
      "32/32 [==============================] - 1s - loss: 0.0912 - acc: 0.9820 - val_loss: 0.0940 - val_acc: 0.9814\n",
      "Epoch 48/1500\n",
      "32/32 [==============================] - 1s - loss: 0.0939 - acc: 0.9814 - val_loss: 0.0911 - val_acc: 0.9820\n",
      "Epoch 49/1500\n",
      "32/32 [==============================] - 1s - loss: 0.0896 - acc: 0.9823 - val_loss: 0.0921 - val_acc: 0.9817\n",
      "Epoch 50/1500\n",
      "32/32 [==============================] - 1s - loss: 0.0855 - acc: 0.9833 - val_loss: 0.0937 - val_acc: 0.9814\n",
      "Epoch 51/1500\n",
      "32/32 [==============================] - 1s - loss: 0.0855 - acc: 0.9833 - val_loss: 0.0881 - val_acc: 0.9826\n",
      "Epoch 52/1500\n",
      "32/32 [==============================] - 1s - loss: 0.0893 - acc: 0.9823 - val_loss: 0.0896 - val_acc: 0.9823\n",
      "Epoch 53/1500\n",
      "32/32 [==============================] - 1s - loss: 0.0923 - acc: 0.9817 - val_loss: 0.0812 - val_acc: 0.9842\n",
      "Epoch 54/1500\n",
      "32/32 [==============================] - 1s - loss: 0.0950 - acc: 0.9811 - val_loss: 0.0936 - val_acc: 0.9814\n",
      "Epoch 55/1500\n",
      "32/32 [==============================] - 1s - loss: 0.0951 - acc: 0.9811 - val_loss: 0.0866 - val_acc: 0.9830\n",
      "Epoch 56/1500\n",
      "32/32 [==============================] - 1s - loss: 0.0891 - acc: 0.9823 - val_loss: 0.0893 - val_acc: 0.9823\n",
      "Epoch 57/1500\n",
      "32/32 [==============================] - 1s - loss: 0.0881 - acc: 0.9826 - val_loss: 0.0950 - val_acc: 0.9811\n",
      "Epoch 58/1500\n",
      "32/32 [==============================] - 1s - loss: 0.0867 - acc: 0.9830 - val_loss: 0.0877 - val_acc: 0.9826\n",
      "Epoch 59/1500\n",
      "32/32 [==============================] - 1s - loss: 0.0921 - acc: 0.9817 - val_loss: 0.0920 - val_acc: 0.9817\n",
      "Epoch 60/1500\n",
      "32/32 [==============================] - 1s - loss: 0.0797 - acc: 0.9845 - val_loss: 0.0877 - val_acc: 0.9826\n",
      "Epoch 61/1500\n",
      "32/32 [==============================] - 1s - loss: 0.0919 - acc: 0.9817 - val_loss: 0.0891 - val_acc: 0.9823\n",
      "Epoch 62/1500\n",
      "32/32 [==============================] - 1s - loss: 0.0889 - acc: 0.9823 - val_loss: 0.0959 - val_acc: 0.9807\n",
      "Epoch 63/1500\n",
      "32/32 [==============================] - 1s - loss: 0.0892 - acc: 0.9823 - val_loss: 0.0933 - val_acc: 0.9814\n",
      "Epoch 64/1500\n",
      "32/32 [==============================] - 1s - loss: 0.0918 - acc: 0.9817 - val_loss: 0.0919 - val_acc: 0.9817\n",
      "Epoch 65/1500\n",
      "32/32 [==============================] - 1s - loss: 0.0862 - acc: 0.9830 - val_loss: 0.0904 - val_acc: 0.9820\n",
      "Epoch 66/1500\n",
      "32/32 [==============================] - 1s - loss: 0.0848 - acc: 0.9833 - val_loss: 0.0878 - val_acc: 0.9826\n",
      "Epoch 67/1500\n",
      "32/32 [==============================] - 1s - loss: 0.0904 - acc: 0.9820 - val_loss: 0.0944 - val_acc: 0.9811\n",
      "Epoch 68/1500\n",
      "32/32 [==============================] - 1s - loss: 0.0904 - acc: 0.9820 - val_loss: 0.0888 - val_acc: 0.9823\n",
      "Epoch 69/1500\n",
      "32/32 [==============================] - 1s - loss: 0.0919 - acc: 0.9817 - val_loss: 0.0931 - val_acc: 0.9814\n",
      "Epoch 70/1500\n",
      "32/32 [==============================] - 1s - loss: 0.0861 - acc: 0.9830 - val_loss: 0.0930 - val_acc: 0.9814\n",
      "Epoch 71/1500\n",
      "32/32 [==============================] - 1s - loss: 0.0960 - acc: 0.9807 - val_loss: 0.0890 - val_acc: 0.9823\n",
      "Epoch 72/1500\n",
      "32/32 [==============================] - 1s - loss: 0.0917 - acc: 0.9817 - val_loss: 0.0903 - val_acc: 0.9820\n",
      "Epoch 73/1500\n",
      "32/32 [==============================] - 1s - loss: 0.0930 - acc: 0.9814 - val_loss: 0.0835 - val_acc: 0.9836\n",
      "Epoch 74/1500\n",
      "32/32 [==============================] - 1s - loss: 0.0929 - acc: 0.9814 - val_loss: 0.0914 - val_acc: 0.9817\n",
      "Epoch 75/1500\n",
      "32/32 [==============================] - 1s - loss: 0.0818 - acc: 0.9839 - val_loss: 0.0872 - val_acc: 0.9826\n",
      "Epoch 76/1500\n",
      "32/32 [==============================] - 1s - loss: 0.0861 - acc: 0.9830 - val_loss: 0.0932 - val_acc: 0.9814\n",
      "Epoch 77/1500\n",
      "32/32 [==============================] - 1s - loss: 0.0915 - acc: 0.9817 - val_loss: 0.0900 - val_acc: 0.9820\n",
      "Epoch 78/1500\n",
      "32/32 [==============================] - 1s - loss: 0.0899 - acc: 0.9820 - val_loss: 0.0914 - val_acc: 0.9817\n",
      "Epoch 79/1500\n",
      "32/32 [==============================] - 1s - loss: 0.0859 - acc: 0.9830 - val_loss: 0.0874 - val_acc: 0.9826\n",
      "Epoch 80/1500\n",
      "32/32 [==============================] - 1s - loss: 0.0831 - acc: 0.9836 - val_loss: 0.0886 - val_acc: 0.9823\n",
      "Epoch 81/1500\n",
      "32/32 [==============================] - 1s - loss: 0.0901 - acc: 0.9820 - val_loss: 0.0831 - val_acc: 0.9836\n",
      "Epoch 82/1500\n",
      "32/32 [==============================] - 1s - loss: 0.0913 - acc: 0.9817 - val_loss: 0.0926 - val_acc: 0.9814\n",
      "Epoch 83/1500\n",
      "32/32 [==============================] - 1s - loss: 0.0815 - acc: 0.9839 - val_loss: 0.0954 - val_acc: 0.9807\n",
      "Epoch 84/1500\n",
      "32/32 [==============================] - 1s - loss: 0.0869 - acc: 0.9826 - val_loss: 0.0914 - val_acc: 0.9817\n",
      "Epoch 85/1500\n",
      "32/32 [==============================] - 1s - loss: 0.0913 - acc: 0.9817 - val_loss: 0.0955 - val_acc: 0.9807\n",
      "Epoch 86/1500\n",
      "32/32 [==============================] - 1s - loss: 0.0927 - acc: 0.9814 - val_loss: 0.0884 - val_acc: 0.9823\n",
      "Epoch 87/1500\n",
      "32/32 [==============================] - 1s - loss: 0.0870 - acc: 0.9826 - val_loss: 0.0954 - val_acc: 0.9807\n",
      "Epoch 88/1500\n",
      "32/32 [==============================] - 1s - loss: 0.0921 - acc: 0.9814 - val_loss: 0.0911 - val_acc: 0.9817\n",
      "Epoch 89/1500\n",
      "32/32 [==============================] - 1s - loss: 0.0910 - acc: 0.9817 - val_loss: 0.0926 - val_acc: 0.9814\n",
      "Epoch 90/1500\n",
      "32/32 [==============================] - 1s - loss: 0.0908 - acc: 0.9817 - val_loss: 0.0884 - val_acc: 0.9823\n",
      "Epoch 91/1500\n",
      "32/32 [==============================] - 1s - loss: 0.0954 - acc: 0.9807 - val_loss: 0.0845 - val_acc: 0.9833\n",
      "Epoch 92/1500\n",
      "32/32 [==============================] - 1s - loss: 0.0893 - acc: 0.9820 - val_loss: 0.0907 - val_acc: 0.9817\n",
      "Epoch 93/1500\n",
      "32/32 [==============================] - 1s - loss: 0.0856 - acc: 0.9830 - val_loss: 0.0939 - val_acc: 0.9811\n",
      "Epoch 94/1500\n",
      "32/32 [==============================] - 1s - loss: 0.0921 - acc: 0.9814 - val_loss: 0.0867 - val_acc: 0.9826\n",
      "Epoch 95/1500\n",
      "32/32 [==============================] - 1s - loss: 0.0948 - acc: 0.9807 - val_loss: 0.0883 - val_acc: 0.9823\n",
      "Epoch 96/1500\n",
      "32/32 [==============================] - 1s - loss: 0.0880 - acc: 0.9823 - val_loss: 0.0842 - val_acc: 0.9833\n",
      "Epoch 97/1500\n",
      "32/32 [==============================] - 1s - loss: 0.0934 - acc: 0.9811 - val_loss: 0.0880 - val_acc: 0.9823\n",
      "Epoch 98/1500\n",
      "32/32 [==============================] - 1s - loss: 0.0841 - acc: 0.9833 - val_loss: 0.0907 - val_acc: 0.9817\n",
      "Epoch 99/1500\n",
      "32/32 [==============================] - 1s - loss: 0.0866 - acc: 0.9826 - val_loss: 0.0853 - val_acc: 0.9830\n",
      "Epoch 100/1500\n",
      "32/32 [==============================] - 1s - loss: 0.0924 - acc: 0.9814 - val_loss: 0.0865 - val_acc: 0.9826\n",
      "Epoch 101/1500\n",
      "32/32 [==============================] - 1s - loss: 0.0946 - acc: 0.9807 - val_loss: 0.0840 - val_acc: 0.9833\n",
      "Epoch 102/1500\n",
      "32/32 [==============================] - 1s - loss: 0.0922 - acc: 0.9814 - val_loss: 0.0842 - val_acc: 0.9833\n",
      "Epoch 103/1500\n",
      "32/32 [==============================] - 1s - loss: 0.0935 - acc: 0.9811 - val_loss: 0.0960 - val_acc: 0.9804\n",
      "Epoch 104/1500\n",
      "32/32 [==============================] - 1s - loss: 0.0919 - acc: 0.9814 - val_loss: 0.0918 - val_acc: 0.9814\n",
      "Epoch 105/1500\n",
      "32/32 [==============================] - 1s - loss: 0.0880 - acc: 0.9823 - val_loss: 0.0861 - val_acc: 0.9826\n",
      "Epoch 106/1500\n",
      "32/32 [==============================] - 1s - loss: 0.0877 - acc: 0.9823 - val_loss: 0.0891 - val_acc: 0.9820"
     ]
    }
   ],
   "source": [
    "history = model.fit_generator(w_age_train_gen, \n",
    "                              validation_data=w_age_valid_gen,\n",
    "                              nb_val_samples=BATCH_SIZE,\n",
    "                              samples_per_epoch=BATCH_SIZE, \n",
    "                              nb_epoch=NUM_EPOCHS)"
   ]
  },
  {
   "cell_type": "markdown",
   "metadata": {
    "deletable": true,
    "editable": true
   },
   "source": [
    "## 7. Evaluating the results"
   ]
  },
  {
   "cell_type": "code",
   "execution_count": null,
   "metadata": {
    "collapsed": false,
    "deletable": true,
    "editable": true
   },
   "outputs": [],
   "source": [
    "history.history.keys()"
   ]
  },
  {
   "cell_type": "code",
   "execution_count": null,
   "metadata": {
    "collapsed": false,
    "deletable": true,
    "editable": true
   },
   "outputs": [],
   "source": [
    "train_history = history.history['acc']\n",
    "valid_history = history.history['val_acc']"
   ]
  },
  {
   "cell_type": "code",
   "execution_count": null,
   "metadata": {
    "collapsed": false,
    "deletable": true,
    "editable": true
   },
   "outputs": [],
   "source": [
    " # Plotting training accuracy and testing accuracy acros epochs\n",
    "plt.figure(figsize=(20,10))\n",
    "plt.plot(train_history)\n",
    "plt.plot(valid_history)\n",
    "plt.title('Training and Validation Accuracy')\n",
    "plt.ylabel('accuracy')\n",
    "plt.xlabel('epoch')\n",
    "plt.legend(['train', 'test'], loc='upper left')\n",
    "plt.show()\n",
    "plt.savefig(PIC_NAME)"
   ]
  },
  {
   "cell_type": "code",
   "execution_count": null,
   "metadata": {
    "collapsed": true,
    "deletable": true,
    "editable": true
   },
   "outputs": [],
   "source": [
    "# Tail-rolling average transform\n",
    "series_train = Series(train_history)\n",
    "rolling_train = series_train.rolling(window=100)\n",
    "rolling_mean_train = rolling_train.mean()\n",
    "\n",
    "series_valid = Series(valid_history)\n",
    "rolling_valid = series_valid.rolling(window=100)\n",
    "rolling_mean_valid = rolling_valid.mean()"
   ]
  },
  {
   "cell_type": "code",
   "execution_count": null,
   "metadata": {
    "collapsed": false,
    "deletable": true,
    "editable": true
   },
   "outputs": [],
   "source": [
    "plt.figure(figsize=(20,10))\n",
    "plt.plot(rolling_mean_train)\n",
    "plt.plot(rolling_mean_valid)\n",
    "plt.title('Smoothened training and Validation Accuracy')\n",
    "plt.ylabel('accuracy')\n",
    "plt.xlabel('epoch')\n",
    "plt.legend(['train', 'validation'], loc='upper left')\n",
    "plt.show()"
   ]
  },
  {
   "cell_type": "code",
   "execution_count": null,
   "metadata": {
    "collapsed": false,
    "deletable": true,
    "editable": true
   },
   "outputs": [],
   "source": [
    "# Saving histories\n",
    "np.save(TRA_HISTORY_NAME, train_history)\n",
    "np.save(VAL_HISTORY_NAME, valid_history)"
   ]
  },
  {
   "cell_type": "code",
   "execution_count": null,
   "metadata": {
    "collapsed": true,
    "deletable": true,
    "editable": true
   },
   "outputs": [],
   "source": [
    "# saving weights\n",
    "model.save_weights(WEIGHTS_NAME)"
   ]
  },
  {
   "cell_type": "markdown",
   "metadata": {
    "deletable": true,
    "editable": true
   },
   "source": [
    "### Results on Adience"
   ]
  },
  {
   "cell_type": "code",
   "execution_count": null,
   "metadata": {
    "collapsed": false,
    "deletable": true,
    "editable": true
   },
   "outputs": [],
   "source": [
    "model.evaluate_generator(adience_gender_test_gen,BATCH_SIZE*400)"
   ]
  },
  {
   "cell_type": "code",
   "execution_count": null,
   "metadata": {
    "collapsed": false,
    "deletable": true,
    "editable": true
   },
   "outputs": [],
   "source": [
    "raise EX"
   ]
  },
  {
   "cell_type": "markdown",
   "metadata": {
    "deletable": true,
    "editable": true
   },
   "source": [
    "## Finetuning with Adience"
   ]
  },
  {
   "cell_type": "code",
   "execution_count": null,
   "metadata": {
    "collapsed": false,
    "deletable": true,
    "editable": true
   },
   "outputs": [],
   "source": [
    "history = model.fit_generator(adience_gender_train_gen, \n",
    "                              validation_data=adience_gender_valid_gen,\n",
    "                              nb_val_samples=BATCH_SIZE,\n",
    "                              samples_per_epoch=BATCH_SIZE, \n",
    "                              nb_epoch=NUM_EPOCHS2)"
   ]
  },
  {
   "cell_type": "code",
   "execution_count": null,
   "metadata": {
    "collapsed": true,
    "deletable": true,
    "editable": true
   },
   "outputs": [],
   "source": [
    "train_history = history.history['acc']\n",
    "valid_history = history.history['val_acc']"
   ]
  },
  {
   "cell_type": "code",
   "execution_count": null,
   "metadata": {
    "collapsed": false,
    "deletable": true,
    "editable": true
   },
   "outputs": [],
   "source": [
    " # Plotting training accuracy and testing accuracy acros epochs\n",
    "plt.figure(figsize=(20,10))\n",
    "plt.plot(train_history)\n",
    "plt.plot(valid_history)\n",
    "plt.title('Training and Validation Accuracy')\n",
    "plt.ylabel('accuracy')\n",
    "plt.xlabel('epoch')\n",
    "plt.legend(['train', 'test'], loc='upper left')\n",
    "plt.show()\n",
    "plt.savefig(PIC_NAME_FINETUNING)"
   ]
  },
  {
   "cell_type": "code",
   "execution_count": null,
   "metadata": {
    "collapsed": false,
    "deletable": true,
    "editable": true
   },
   "outputs": [],
   "source": [
    "# Tail-rolling average transform\n",
    "series_train = Series(train_history)\n",
    "rolling_train = series_train.rolling(window=100)\n",
    "rolling_mean_train = rolling_train.mean()\n",
    "\n",
    "series_valid = Series(valid_history)\n",
    "rolling_valid = series_valid.rolling(window=100)\n",
    "rolling_mean_valid = rolling_valid.mean()"
   ]
  },
  {
   "cell_type": "code",
   "execution_count": null,
   "metadata": {
    "collapsed": false,
    "deletable": true,
    "editable": true
   },
   "outputs": [],
   "source": [
    "plt.figure(figsize=(20,10))\n",
    "plt.plot(rolling_mean_train)\n",
    "plt.plot(rolling_mean_valid)\n",
    "plt.title('Smoothened training and Validation Accuracy')\n",
    "plt.ylabel('accuracy')\n",
    "plt.xlabel('epoch')\n",
    "plt.legend(['train', 'validation'], loc='upper left')\n",
    "plt.show()"
   ]
  },
  {
   "cell_type": "code",
   "execution_count": null,
   "metadata": {
    "collapsed": false,
    "deletable": true,
    "editable": true
   },
   "outputs": [],
   "source": [
    "# Saving histories\n",
    "np.save(TRA_HISTORY_NAME_FINETUNING, train_history)\n",
    "np.save(VAL_HISTORY_NAME_FINETUNING, valid_history)"
   ]
  },
  {
   "cell_type": "code",
   "execution_count": null,
   "metadata": {
    "collapsed": true,
    "deletable": true,
    "editable": true
   },
   "outputs": [],
   "source": [
    "# saving weights\n",
    "model.save_weights(WEIGHTS_NAME_FINETUNING)"
   ]
  },
  {
   "cell_type": "code",
   "execution_count": null,
   "metadata": {
    "collapsed": false,
    "deletable": true,
    "editable": true
   },
   "outputs": [],
   "source": [
    "model.evaluate_generator(adience_gender_test_gen,BATCH_SIZE*400)"
   ]
  }
 ],
 "metadata": {
  "kernelspec": {
   "display_name": "Python 2",
   "language": "python",
   "name": "python2"
  },
  "language_info": {
   "codemirror_mode": {
    "name": "ipython",
    "version": 2
   },
   "file_extension": ".py",
   "mimetype": "text/x-python",
   "name": "python",
   "nbconvert_exporter": "python",
   "pygments_lexer": "ipython2",
   "version": "2.7.6"
  }
 },
 "nbformat": 4,
 "nbformat_minor": 2
}
