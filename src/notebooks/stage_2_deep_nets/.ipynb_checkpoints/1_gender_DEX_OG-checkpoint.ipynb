{
 "cells": [
  {
   "cell_type": "markdown",
   "metadata": {
    "deletable": true,
    "editable": true
   },
   "source": [
    "# Model Evaluation"
   ]
  },
  {
   "cell_type": "markdown",
   "metadata": {
    "deletable": true,
    "editable": true
   },
   "source": [
    "## 1. Setup"
   ]
  },
  {
   "cell_type": "code",
   "execution_count": 1,
   "metadata": {
    "collapsed": false,
    "deletable": true,
    "editable": true
   },
   "outputs": [
    {
     "name": "stderr",
     "output_type": "stream",
     "text": [
      "Using TensorFlow backend.\n"
     ]
    }
   ],
   "source": [
    "# NECESSARY IMPORTS\n",
    "import pandas as pd\n",
    "import numpy  as np\n",
    "\n",
    "from keras.models     import Sequential\n",
    "from keras.layers     import Dense, Dropout, Activation, Flatten, advanced_activations\n",
    "from keras.layers     import Convolution2D, MaxPooling2D, ZeroPadding2D\n",
    "from keras.optimizers import SGD, Adam\n",
    "\n",
    "from keras.utils.data_utils import get_file\n",
    "from keras import initializations\n",
    "from keras.callbacks import ModelCheckpoint\n",
    "import keras.backend     as K\n",
    "import matplotlib.pyplot as plt\n",
    "\n",
    "from pandas                     import Series\n",
    "from scipy.misc                 import imresize\n",
    "from keras.layers.normalization import BatchNormalization\n",
    "from keras.preprocessing.image  import (ImageDataGenerator, \n",
    "                                        array_to_img,\n",
    "                                        img_to_array,\n",
    "                                        load_img)\n",
    "from keras.wrappers.scikit_learn import KerasClassifier\n",
    "from sklearn.metrics import precision_score, recall_score, f1_score, confusion_matrix"
   ]
  },
  {
   "cell_type": "code",
   "execution_count": 2,
   "metadata": {
    "collapsed": true,
    "deletable": true,
    "editable": true
   },
   "outputs": [],
   "source": [
    "# VGG16-Face Pre-trained weights download links\n",
    "TF_WEIGHTS_PATH = 'https://github.com/fchollet/deep-learning-models/releases/download/v0.1/vgg16_weights_tf_dim_ordering_tf_kernels.h5'\n",
    "VGG16_LOCAL_W   = \"'vgg16_weights_tf_dim_ordering_tf_kernels.h5'\""
   ]
  },
  {
   "cell_type": "code",
   "execution_count": 3,
   "metadata": {
    "collapsed": false,
    "deletable": true,
    "editable": true
   },
   "outputs": [],
   "source": [
    "%matplotlib inline"
   ]
  },
  {
   "cell_type": "code",
   "execution_count": 4,
   "metadata": {
    "collapsed": true,
    "deletable": true,
    "editable": true
   },
   "outputs": [],
   "source": [
    "# Ensure reproducibility\n",
    "np.random.seed(0)"
   ]
  },
  {
   "cell_type": "code",
   "execution_count": 5,
   "metadata": {
    "collapsed": true,
    "deletable": true,
    "editable": true
   },
   "outputs": [],
   "source": [
    "# Path constants\n",
    "DATA_TEMPLATE     = \"./../../data/\"\n",
    "ADIENCE_META_P    = DATA_TEMPLATE + \"adience/meta\"\n",
    "ADIENCE_RAW_P     = DATA_TEMPLATE + \"adience/keras_format\"\n",
    "ADIENCE_AGE_P     = ADIENCE_RAW_P + \"/age\"\n",
    "ADIENCE_GEN_P     = ADIENCE_RAW_P + \"/gender\"\n",
    "IMG_PATH          = DATA_TEMPLATE + \"wiki/%s\"\n",
    "\n",
    "WIKI_META_P       = DATA_TEMPLATE + \"wiki_meta\"\n",
    "MODEL_TEMPLATE    = \"./models/%s\"\n",
    "WEIGHTS_TEMPLATE  = \"./weights/%s\"\n",
    "GRAPHS_TEMPLATE   = \"./graphs/%s\"\n",
    "HISTORY_TEMPLATE   = \"./histories/%s\""
   ]
  },
  {
   "cell_type": "code",
   "execution_count": 6,
   "metadata": {
    "collapsed": false,
    "deletable": true,
    "editable": true
   },
   "outputs": [],
   "source": [
    "# Independent constants\n",
    "MODEL_NAME = \"1_gender_SGD1e3_randomNormal_LHet_ReLu-OG\"\n",
    "INITIALIZATION = 'normal'\n",
    "LOSS           = \"categorical_crossentropy\"\n",
    "OPTIMIZER      = SGD(lr=1e-3, momentum=0.9, decay=5e-4)\n",
    "BATCH_SIZE     = 32\n",
    "\n",
    "\n",
    "PIC_NAME     = GRAPHS_TEMPLATE % (MODEL_NAME + \".png\")\n",
    "PIC_NAME_FINETUNING = GRAPHS_TEMPLATE % (MODEL_NAME + \"_finetuning_.png\")\n",
    "WEIGHTS_NAME = WEIGHTS_TEMPLATE % (MODEL_NAME + \".h5\")\n",
    "TRA_HISTORY_NAME = HISTORY_TEMPLATE % (MODEL_NAME + \"_train_\"+\".npy\")\n",
    "VAL_HISTORY_NAME = HISTORY_TEMPLATE % (MODEL_NAME + \"_valid_\"+\".npy\")\n",
    "\n",
    "\n",
    "WEIGHTS_NAME_FINETUNING = WEIGHTS_TEMPLATE % (MODEL_NAME + \"_finetuning_.h5\")\n",
    "TRA_HISTORY_NAME_FINETUNING = HISTORY_TEMPLATE % (MODEL_NAME + \"_train_\"+\"_finetuning_.npy\")\n",
    "VAL_HISTORY_NAME_FINETUNING = HISTORY_TEMPLATE % (MODEL_NAME + \"_valid_\"+\"_finetuning_.npy\")\n",
    "\n",
    "IMG_WIDTH  = 227\n",
    "IMG_HEIGHT = 227\n",
    "\n",
    "\n",
    "ADIENCE_FULL = [\"idx\",\"user_id\",\"face_id\",\"original_image\",\"gender\",\"age\",\"img_path\",\"keras_path\"]\n",
    "ADIENCE_HEADER = [\"user_id\",\"face_id\",\"original_image\",\"gender\",\"age\",\"img_path\",\"keras_path\"]\n",
    "WIKI_HEADER    = [\"full_path\",\"age\",\"gender\"]\n",
    "\n",
    "NUM_EPOCHS  = 1500\n",
    "NUM_EPOCHS2 = 500\n",
    "\n",
    "\n",
    "BEST_CHECKPOINT = MODEL_NAME + \".weights.{epoch:02d}-{val_loss:.2f}.hdf5\"\n",
    "BEST_CHECKPOINT_FINE = MODEL_NAME + \"FINETUNE.weights.{epoch:02d}-{val_loss:.2f}.hdf5\""
   ]
  },
  {
   "cell_type": "code",
   "execution_count": 7,
   "metadata": {
    "collapsed": false,
    "deletable": true,
    "editable": true
   },
   "outputs": [],
   "source": [
    "callback1 = ModelCheckpoint(BEST_CHECKPOINT, monitor='val_loss', verbose=0, save_best_only=True, save_weights_only=True, mode='auto', period=10)"
   ]
  },
  {
   "cell_type": "code",
   "execution_count": 8,
   "metadata": {
    "collapsed": true,
    "deletable": true,
    "editable": true
   },
   "outputs": [],
   "source": [
    "callback2 = ModelCheckpoint(BEST_CHECKPOINT_FINE, monitor='val_loss', verbose=0, save_best_only=True, save_weights_only=True, mode='auto', period=10)"
   ]
  },
  {
   "cell_type": "code",
   "execution_count": 9,
   "metadata": {
    "collapsed": false,
    "deletable": true,
    "editable": true
   },
   "outputs": [],
   "source": [
    "# Dependent constants\n",
    "IMG_DIMS = (IMG_WIDTH, IMG_HEIGHT)\n",
    "MODEL_W  = MODEL_NAME + \".h5\"\n",
    "MODEL_P  = MODEL_NAME + \".txt\" "
   ]
  },
  {
   "cell_type": "markdown",
   "metadata": {
    "deletable": true,
    "editable": true
   },
   "source": [
    "## 2. Loading metadata"
   ]
  },
  {
   "cell_type": "markdown",
   "metadata": {
    "deletable": true,
    "editable": true
   },
   "source": [
    "### Adience"
   ]
  },
  {
   "cell_type": "code",
   "execution_count": 10,
   "metadata": {
    "collapsed": false,
    "deletable": true,
    "editable": true
   },
   "outputs": [],
   "source": [
    "gender_train_path = ADIENCE_META_P + \"/gender_train_0.csv\"\n",
    "gender_valid_path = ADIENCE_META_P + \"/gender_valid_0.csv\"\n",
    "gender_train = pd.read_csv(filepath_or_buffer =gender_train_path)\n",
    "gender_valid = pd.read_csv(filepath_or_buffer =gender_valid_path)\n",
    "\n",
    "gender_train = gender_train[ADIENCE_HEADER]\n",
    "gender_valid = gender_valid[ADIENCE_HEADER]"
   ]
  },
  {
   "cell_type": "code",
   "execution_count": 11,
   "metadata": {
    "collapsed": false,
    "deletable": true,
    "editable": true
   },
   "outputs": [],
   "source": [
    "age_train_path = ADIENCE_META_P + \"/age_train_0.csv\"\n",
    "age_valid_path = ADIENCE_META_P + \"/age_valid_0.csv\"\n",
    "age_train = pd.read_csv(filepath_or_buffer =gender_train_path)\n",
    "age_valid = pd.read_csv(filepath_or_buffer =gender_valid_path)\n",
    "\n",
    "age_train = age_train[ADIENCE_HEADER]\n",
    "age_valid = age_valid[ADIENCE_HEADER]"
   ]
  },
  {
   "cell_type": "markdown",
   "metadata": {
    "deletable": true,
    "editable": true
   },
   "source": [
    "### Wiki"
   ]
  },
  {
   "cell_type": "code",
   "execution_count": 12,
   "metadata": {
    "collapsed": false,
    "deletable": true,
    "editable": true
   },
   "outputs": [],
   "source": [
    "w_gender_train_path = WIKI_META_P + \"/gender/train_1.csv\"\n",
    "w_gender_valid_path = WIKI_META_P + \"/gender/valid_1.csv\"\n",
    "\n",
    "w_gender_train = pd.read_csv(filepath_or_buffer =w_gender_train_path)\n",
    "w_gender_valid = pd.read_csv(filepath_or_buffer =w_gender_valid_path)\n",
    "\n",
    "w_gender_train = w_gender_train[WIKI_HEADER]\n",
    "w_gender_valid = w_gender_valid[WIKI_HEADER]"
   ]
  },
  {
   "cell_type": "code",
   "execution_count": 13,
   "metadata": {
    "collapsed": false,
    "deletable": true,
    "editable": true
   },
   "outputs": [],
   "source": [
    "w_age_train_path = WIKI_META_P + \"/gender/train_1.csv\"\n",
    "w_age_valid_path = WIKI_META_P + \"/gender/valid_1.csv\"\n",
    "w_age_train = pd.read_csv(filepath_or_buffer =w_age_train_path)\n",
    "w_age_valid = pd.read_csv(filepath_or_buffer =w_age_valid_path)\n",
    "\n",
    "w_age_train = w_age_train[WIKI_HEADER]\n",
    "w_age_valid = w_age_valid[WIKI_HEADER]"
   ]
  },
  {
   "cell_type": "markdown",
   "metadata": {
    "deletable": true,
    "editable": true
   },
   "source": [
    "### SHALLOW-ONLY TASK: Fix age ranges"
   ]
  },
  {
   "cell_type": "code",
   "execution_count": 14,
   "metadata": {
    "collapsed": false,
    "deletable": true,
    "editable": true
   },
   "outputs": [
    {
     "data": {
      "text/plain": [
       "'\\ndef fix_age_ranges(age):\\n    if age < 4:\\n        return \"(0, 2)\"\\n    if age < 8:\\n        return \"(4, 6)\"\\n    if age < 15:\\n        return \"(8, 13)\"\\n    if age < 25:\\n        return \"(15, 20)\"\\n    if age < 38:\\n        return \"(25, 32)\"\\n    if age < 48:\\n        return \"(38, 43)\"\\n    if age < 60:\\n        return \"(48, 53)\"\\n    return \"(60-100)\"\\n\\nw_age_train[\"age\"]    = w_age_train[\"age\"].apply(lambda x: fix_age_ranges(x))\\nw_age_valid[\"age\"]    = w_age_valid[\"age\"].apply(lambda x: fix_age_ranges(x))\\nw_gender_train[\"age\"] = w_gender_train[\"age\"].apply(lambda x: fix_age_ranges(x))\\nw_gender_valid[\"age\"] = w_gender_valid[\"age\"].apply(lambda x: fix_age_ranges(x))\\n'"
      ]
     },
     "execution_count": 14,
     "metadata": {},
     "output_type": "execute_result"
    }
   ],
   "source": [
    "\"\"\"\n",
    "def fix_age_ranges(age):\n",
    "    if age < 4:\n",
    "        return \"(0, 2)\"\n",
    "    if age < 8:\n",
    "        return \"(4, 6)\"\n",
    "    if age < 15:\n",
    "        return \"(8, 13)\"\n",
    "    if age < 25:\n",
    "        return \"(15, 20)\"\n",
    "    if age < 38:\n",
    "        return \"(25, 32)\"\n",
    "    if age < 48:\n",
    "        return \"(38, 43)\"\n",
    "    if age < 60:\n",
    "        return \"(48, 53)\"\n",
    "    return \"(60-100)\"\n",
    "\n",
    "w_age_train[\"age\"]    = w_age_train[\"age\"].apply(lambda x: fix_age_ranges(x))\n",
    "w_age_valid[\"age\"]    = w_age_valid[\"age\"].apply(lambda x: fix_age_ranges(x))\n",
    "w_gender_train[\"age\"] = w_gender_train[\"age\"].apply(lambda x: fix_age_ranges(x))\n",
    "w_gender_valid[\"age\"] = w_gender_valid[\"age\"].apply(lambda x: fix_age_ranges(x))\n",
    "\"\"\""
   ]
  },
  {
   "cell_type": "markdown",
   "metadata": {
    "deletable": true,
    "editable": true
   },
   "source": [
    "## 3. Data pipeline"
   ]
  },
  {
   "cell_type": "markdown",
   "metadata": {
    "deletable": true,
    "editable": true
   },
   "source": [
    "### 3.1 Adience"
   ]
  },
  {
   "cell_type": "code",
   "execution_count": 15,
   "metadata": {
    "collapsed": false,
    "deletable": true,
    "editable": true
   },
   "outputs": [],
   "source": [
    "adience_train_aug = ImageDataGenerator(\n",
    "        rotation_range=40,\n",
    "        width_shift_range=0.2,\n",
    "        height_shift_range=0.2,\n",
    "        shear_range=0.2,\n",
    "        zoom_range=0.2,\n",
    "        rescale=1./255,\n",
    "        horizontal_flip=True,\n",
    "        fill_mode='nearest')"
   ]
  },
  {
   "cell_type": "code",
   "execution_count": 16,
   "metadata": {
    "collapsed": true,
    "deletable": true,
    "editable": true
   },
   "outputs": [],
   "source": [
    "adience_valid_aug = ImageDataGenerator(rescale=1./255)"
   ]
  },
  {
   "cell_type": "markdown",
   "metadata": {
    "deletable": true,
    "editable": true
   },
   "source": [
    "### Train"
   ]
  },
  {
   "cell_type": "code",
   "execution_count": 17,
   "metadata": {
    "collapsed": false,
    "deletable": true,
    "editable": true
   },
   "outputs": [
    {
     "name": "stdout",
     "output_type": "stream",
     "text": [
      "Found 10505 images belonging to 2 classes.\n"
     ]
    }
   ],
   "source": [
    "ADIENCE_GENDER_TRAIN_P = ADIENCE_GEN_P + \"/train/1\"\n",
    "adience_gender_train_gen = adience_train_aug.flow_from_directory(\n",
    "    ADIENCE_GENDER_TRAIN_P,\n",
    "    target_size=IMG_DIMS,\n",
    "    batch_size=BATCH_SIZE,\n",
    "    class_mode=\"categorical\")"
   ]
  },
  {
   "cell_type": "code",
   "execution_count": 18,
   "metadata": {
    "collapsed": false,
    "deletable": true,
    "editable": true
   },
   "outputs": [
    {
     "name": "stdout",
     "output_type": "stream",
     "text": [
      "Found 10505 images belonging to 8 classes.\n"
     ]
    }
   ],
   "source": [
    "ADIENCE_AGE_TRAIN_P = ADIENCE_AGE_P + \"/train/1\"\n",
    "adience_age_train_gen = adience_train_aug.flow_from_directory(\n",
    "    ADIENCE_AGE_TRAIN_P,\n",
    "    target_size=IMG_DIMS,\n",
    "    batch_size=BATCH_SIZE,\n",
    "    class_mode=\"categorical\")"
   ]
  },
  {
   "cell_type": "markdown",
   "metadata": {
    "deletable": true,
    "editable": true
   },
   "source": [
    "### Validation"
   ]
  },
  {
   "cell_type": "code",
   "execution_count": 19,
   "metadata": {
    "collapsed": false,
    "deletable": true,
    "editable": true
   },
   "outputs": [
    {
     "name": "stdout",
     "output_type": "stream",
     "text": [
      "Found 3502 images belonging to 2 classes.\n"
     ]
    }
   ],
   "source": [
    "ADIENCE_GENDER_VALID_P = ADIENCE_GEN_P + \"/valid/1\"\n",
    "adience_gender_valid_gen = adience_valid_aug.flow_from_directory(\n",
    "    ADIENCE_GENDER_VALID_P,\n",
    "    target_size=IMG_DIMS,\n",
    "    batch_size=BATCH_SIZE,\n",
    "    class_mode=\"categorical\")"
   ]
  },
  {
   "cell_type": "code",
   "execution_count": 20,
   "metadata": {
    "collapsed": false,
    "deletable": true,
    "editable": true
   },
   "outputs": [
    {
     "name": "stdout",
     "output_type": "stream",
     "text": [
      "Found 3502 images belonging to 8 classes.\n"
     ]
    }
   ],
   "source": [
    "ADIENCE_AGE_VALID_P = ADIENCE_AGE_P + \"/valid/1\"\n",
    "adience_age_valid_gen = adience_valid_aug.flow_from_directory(\n",
    "    ADIENCE_AGE_VALID_P,\n",
    "    target_size=IMG_DIMS,\n",
    "    batch_size=BATCH_SIZE,\n",
    "    class_mode=\"categorical\")"
   ]
  },
  {
   "cell_type": "markdown",
   "metadata": {
    "deletable": true,
    "editable": true
   },
   "source": [
    "### Test"
   ]
  },
  {
   "cell_type": "code",
   "execution_count": 21,
   "metadata": {
    "collapsed": false,
    "deletable": true,
    "editable": true
   },
   "outputs": [
    {
     "name": "stdout",
     "output_type": "stream",
     "text": [
      "Found 3445 images belonging to 2 classes.\n"
     ]
    }
   ],
   "source": [
    "ADIENCE_GENDER_TEST_P = ADIENCE_GEN_P + \"/test/\"\n",
    "adience_gender_test_gen = adience_valid_aug.flow_from_directory(\n",
    "    ADIENCE_GENDER_TEST_P,\n",
    "    target_size=IMG_DIMS,\n",
    "    batch_size=BATCH_SIZE,\n",
    "    class_mode=\"categorical\")"
   ]
  },
  {
   "cell_type": "code",
   "execution_count": 22,
   "metadata": {
    "collapsed": false,
    "deletable": true,
    "editable": true
   },
   "outputs": [
    {
     "name": "stdout",
     "output_type": "stream",
     "text": [
      "Found 3445 images belonging to 8 classes.\n"
     ]
    }
   ],
   "source": [
    "ADIENCE_AGE_TEST_P = ADIENCE_AGE_P + \"/test/\"\n",
    "adience_age_test_gen = adience_valid_aug.flow_from_directory(\n",
    "    ADIENCE_AGE_TEST_P,\n",
    "    target_size=IMG_DIMS,\n",
    "    batch_size=BATCH_SIZE,\n",
    "    class_mode=\"categorical\")"
   ]
  },
  {
   "cell_type": "markdown",
   "metadata": {
    "deletable": true,
    "editable": true
   },
   "source": [
    "### 3.2 Wiki"
   ]
  },
  {
   "cell_type": "code",
   "execution_count": 23,
   "metadata": {
    "collapsed": false,
    "deletable": true,
    "editable": true
   },
   "outputs": [],
   "source": [
    "true_path = lambda x: IMG_PATH % x\n",
    "w_age_train[\"full_path\"]    = w_age_train[\"full_path\"].apply(lambda x: true_path(x))\n",
    "w_gender_train[\"full_path\"] = w_gender_train[\"full_path\"].apply(lambda x: true_path(x))\n",
    "w_age_valid[\"full_path\"]    = w_age_valid[\"full_path\"].apply(lambda x: true_path(x))\n",
    "w_gender_valid[\"full_path\"] = w_gender_valid[\"full_path\"].apply(lambda x: true_path(x))"
   ]
  },
  {
   "cell_type": "code",
   "execution_count": 24,
   "metadata": {
    "collapsed": true,
    "deletable": true,
    "editable": true
   },
   "outputs": [],
   "source": [
    "def get_image(x):\n",
    "    try:\n",
    "        val = img_to_array(imresize(load_img(x),IMG_DIMS))\n",
    "    except:\n",
    "        val = \"ERR\"\n",
    "    return val"
   ]
  },
  {
   "cell_type": "code",
   "execution_count": 25,
   "metadata": {
    "collapsed": false,
    "deletable": true,
    "editable": true
   },
   "outputs": [],
   "source": [
    "# Data generator\n",
    "def generate_test(df, batch_size, target_feature):\n",
    "    start, end = 0, batch_size\n",
    "    while True:\n",
    "        while end < len(dfs.shape[0]):\n",
    "            #ages_h = list(pd.get_dummies(data[\"age\"]).columns.values)\n",
    "            #ages   = pd.get_dummies(data[\"age\"])\n",
    "            #data[ages_h] = ages\n",
    "\n",
    "            sample = data[start:end]\n",
    "            start += batch_size\n",
    "            end   += batch_size\n",
    "\n",
    "            X         = pd.DataFrame(sample[\"full_path\"].apply(lambda x:get_image(x)))\n",
    "            good_rows = X[\"full_path\"] != \"ERR\"\n",
    "            X         = X[good_rows]\n",
    "            X.reset_index(inplace=True)\n",
    "            X = X[\"full_path\"].apply(lambda x: x.reshape((1,)+ x.shape))\n",
    "            X = np.vstack(X)\n",
    "            X /= 255\n",
    "\n",
    "            #X = model.predict(X, X.shape[0])\n",
    "\n",
    "            Y = sample[good_rows]\n",
    "            if target_feature == \"age\":\n",
    "                Y = Y[\"age\"]\n",
    "            else:\n",
    "                Y = pd.get_dummies(Y[\"gender\"]).as_matrix()\n",
    "            yield (X,Y)"
   ]
  },
  {
   "cell_type": "code",
   "execution_count": 26,
   "metadata": {
    "collapsed": false,
    "deletable": true,
    "editable": true
   },
   "outputs": [],
   "source": [
    "# Data generator\n",
    "def generate_data(df, batch_size, target_feature):\n",
    "    start, end = 0, batch_size\n",
    "    while True:\n",
    "        data   = df.sample(frac=1).reset_index(drop=True)\n",
    "        #ages_h = list(pd.get_dummies(data[\"age\"]).columns.values)\n",
    "        #ages   = pd.get_dummies(data[\"age\"])\n",
    "        #data[ages_h] = ages\n",
    "        \n",
    "        sample = data[start:end]\n",
    "        \n",
    "        X         = pd.DataFrame(sample[\"full_path\"].apply(lambda x:get_image(x)))\n",
    "        good_rows = X[\"full_path\"] != \"ERR\"\n",
    "        X         = X[good_rows]\n",
    "        X.reset_index(inplace=True)\n",
    "        X = X[\"full_path\"].apply(lambda x: x.reshape((1,)+ x.shape))\n",
    "        X = np.vstack(X)\n",
    "        X /= 255\n",
    "        #X = model.predict(X, X.shape[0])\n",
    "        \n",
    "        Y = sample[good_rows]\n",
    "        if target_feature == \"age\":\n",
    "            Y = Y[\"age\"].as_matrix()\n",
    "        else:\n",
    "            Y = pd.get_dummies(Y[\"gender\"]).as_matrix()\n",
    "        yield (X,Y)"
   ]
  },
  {
   "cell_type": "code",
   "execution_count": 27,
   "metadata": {
    "collapsed": false,
    "deletable": true,
    "editable": true
   },
   "outputs": [],
   "source": [
    "w_age_train_gen = generate_data(w_age_train, BATCH_SIZE, \"age\")\n",
    "w_age_valid_gen = generate_data(w_age_valid, BATCH_SIZE, \"age\")\n",
    "w_gender_train_gen = generate_data(w_gender_train, BATCH_SIZE, \"gender\")\n",
    "w_gender_valid_gen = generate_data(w_gender_valid, BATCH_SIZE, \"gender\")"
   ]
  },
  {
   "cell_type": "code",
   "execution_count": 28,
   "metadata": {
    "collapsed": false,
    "deletable": true,
    "editable": true
   },
   "outputs": [],
   "source": [
    "from keras.engine.topology import Layer\n",
    "class LRN2D(Layer):\n",
    "    \"\"\"\n",
    "    This code is adapted from pylearn2.\n",
    "    License at: https://github.com/lisa-lab/pylearn2/blob/master/LICENSE.txt\n",
    "    \"\"\"\n",
    "\n",
    "    def __init__(self, alpha=1e-4, k=2, beta=0.75, n=5):\n",
    "        if n % 2 == 0:\n",
    "            raise NotImplementedError(\"LRN2D only works with odd n. n provided: \" + str(n))\n",
    "        super(LRN2D, self).__init__()\n",
    "        self.alpha = alpha\n",
    "        self.k = k\n",
    "        self.beta = beta\n",
    "        self.n = n\n",
    "\n",
    "    def get_output(self, train):\n",
    "        X = self.get_input(train)\n",
    "        b, ch, r, c = X.shape\n",
    "        half_n = self.n // 2\n",
    "        input_sqr = T.sqr(X)\n",
    "        extra_channels = T.alloc(0., b, ch + 2*half_n, r, c)\n",
    "        input_sqr = T.set_subtensor(extra_channels[:, half_n:half_n+ch, :, :], input_sqr)\n",
    "        scale = self.k\n",
    "        for i in range(self.n):\n",
    "            scale += self.alpha * input_sqr[:, i:i+ch, :, :]\n",
    "        scale = scale ** self.beta\n",
    "        return X / scale\n",
    "\n",
    "    def get_config(self):\n",
    "        return {\"name\": self.__class__.__name__,\n",
    "                \"alpha\": self.alpha,\n",
    "                \"k\": self.k,\n",
    "                \"beta\": self.beta,\n",
    "\"n\": self.n}"
   ]
  },
  {
   "cell_type": "markdown",
   "metadata": {
    "deletable": true,
    "editable": true
   },
   "source": [
    "## 4. Building the model"
   ]
  },
  {
   "cell_type": "code",
   "execution_count": 29,
   "metadata": {
    "collapsed": false,
    "deletable": true,
    "editable": true
   },
   "outputs": [],
   "source": [
    "# VGG16 network\n",
    "model = Sequential()\n",
    "model.add(ZeroPadding2D((1, 1), input_shape=(IMG_WIDTH, IMG_HEIGHT,3)))\n",
    "\n",
    "model.add(Convolution2D(64, 3, 3, activation='relu', name='conv1_1'))\n",
    "model.add(ZeroPadding2D((1, 1)))\n",
    "model.add(Convolution2D(64, 3, 3, activation='relu', name='conv1_2'))\n",
    "model.add(MaxPooling2D((2, 2), strides=(2, 2), dim_ordering=\"tf\"))\n",
    "\n",
    "model.add(ZeroPadding2D((1, 1)))\n",
    "model.add(Convolution2D(128, 3, 3, activation='relu', name='conv2_1'))\n",
    "model.add(ZeroPadding2D((1, 1)))\n",
    "model.add(Convolution2D(128, 3, 3, activation='relu', name='conv2_2'))\n",
    "model.add(MaxPooling2D((2, 2), strides=(2, 2), dim_ordering=\"tf\"))\n",
    "\n",
    "model.add(ZeroPadding2D((1, 1)))\n",
    "model.add(Convolution2D(256, 3, 3, activation='relu', name='conv3_1'))\n",
    "model.add(ZeroPadding2D((1, 1)))\n",
    "model.add(Convolution2D(256, 3, 3, activation='relu', name='conv3_2'))\n",
    "model.add(ZeroPadding2D((1, 1)))\n",
    "model.add(Convolution2D(256, 3, 3, activation='relu', name='conv3_3'))\n",
    "model.add(MaxPooling2D((2, 2), strides=(2, 2), dim_ordering=\"tf\"))\n",
    "\n",
    "model.add(ZeroPadding2D((1, 1)))\n",
    "model.add(Convolution2D(512, 3, 3, activation='relu', name='conv4_1'))\n",
    "model.add(ZeroPadding2D((1, 1)))\n",
    "model.add(Convolution2D(512, 3, 3, activation='relu', name='conv4_2'))\n",
    "model.add(ZeroPadding2D((1, 1)))\n",
    "model.add(Convolution2D(512, 3, 3, activation='relu', name='conv4_3'))\n",
    "model.add(MaxPooling2D((2, 2), strides=(2, 2), dim_ordering=\"tf\"))\n",
    "\n",
    "model.add(ZeroPadding2D((1, 1)))\n",
    "model.add(Convolution2D(512, 3, 3, activation='relu', name='conv5_1'))\n",
    "model.add(ZeroPadding2D((1, 1)))\n",
    "model.add(Convolution2D(512, 3, 3, activation='relu', name='conv5_2'))\n",
    "model.add(ZeroPadding2D((1, 1)))\n",
    "model.add(Convolution2D(512, 3, 3, activation='relu', name='conv5_3'))\n",
    "model.add(MaxPooling2D((2, 2), strides=(2, 2), dim_ordering=\"tf\"))\n",
    "\n",
    "model.add(Flatten())\n",
    "model.add(Dense(4096, activation='relu', name=\"fc_1\"))\n",
    "model.add(Dense(4096, activation='relu', name=\"fc_w\"))\n",
    "model.add(Dense(1000, activation='softmax',  name=\"predictions\"))"
   ]
  },
  {
   "cell_type": "code",
   "execution_count": 30,
   "metadata": {
    "collapsed": false,
    "deletable": true,
    "editable": true
   },
   "outputs": [],
   "source": [
    "# Obtain VGG16-Face weights\n",
    "weights_path = get_file(VGG16_LOCAL_W,TF_WEIGHTS_PATH, cache_subdir='models')"
   ]
  },
  {
   "cell_type": "code",
   "execution_count": 31,
   "metadata": {
    "collapsed": true,
    "deletable": true,
    "editable": true
   },
   "outputs": [],
   "source": [
    "# Loading VGG16-Face weights to VGG16 network\n",
    "model.load_weights(weights_path)"
   ]
  },
  {
   "cell_type": "code",
   "execution_count": 32,
   "metadata": {
    "collapsed": false,
    "deletable": true,
    "editable": true
   },
   "outputs": [],
   "source": [
    "from keras import backend as K\n",
    "\n",
    "def my_init(shape, name=None):\n",
    "    return K.variable(np.reshape(np.arange(0, shape[0], 1), (101,1)), name=name)\n"
   ]
  },
  {
   "cell_type": "code",
   "execution_count": 33,
   "metadata": {
    "collapsed": false,
    "deletable": true,
    "editable": true
   },
   "outputs": [],
   "source": [
    "model.layers.pop()\n",
    "model.add(Dense(101))\n",
    "model.add(Activation(\"softmax\"))\n",
    "model.add(Dense(1, init=my_init))"
   ]
  },
  {
   "cell_type": "code",
   "execution_count": 34,
   "metadata": {
    "collapsed": false
   },
   "outputs": [],
   "source": [
    "layer = model.layers[-1]\n",
    "layer.trainable = False\n",
    "\n",
    "for layer in model.layers[:25]:\n",
    "    layer.trainable = False"
   ]
  },
  {
   "cell_type": "code",
   "execution_count": 35,
   "metadata": {
    "collapsed": false,
    "deletable": true,
    "editable": true
   },
   "outputs": [],
   "source": [
    "# Compile\n",
    "model.compile(loss='mean_squared_error', optimizer=OPTIMIZER, metrics=['mse','mae'])"
   ]
  },
  {
   "cell_type": "code",
   "execution_count": 36,
   "metadata": {
    "collapsed": false,
    "deletable": true,
    "editable": true
   },
   "outputs": [],
   "source": [
    "#model.compile(loss=LOSS, optimizer=OPTIMIZER, metrics=['accuracy', 'recall', 'precision','f1score'])"
   ]
  },
  {
   "cell_type": "markdown",
   "metadata": {
    "deletable": true,
    "editable": true
   },
   "source": [
    "## 6. Training the model"
   ]
  },
  {
   "cell_type": "code",
   "execution_count": 37,
   "metadata": {
    "collapsed": false,
    "deletable": true,
    "editable": true
   },
   "outputs": [
    {
     "name": "stdout",
     "output_type": "stream",
     "text": [
      "Epoch 1/1500\n"
     ]
    },
    {
     "name": "stderr",
     "output_type": "stream",
     "text": [
      "/usr/local/lib/python2.7/dist-packages/pandas/core/ops.py:739: FutureWarning: elementwise comparison failed; returning scalar instead, but in the future will perform elementwise comparison\n",
      "  result = lib.scalar_compare(x, y, op)\n"
     ]
    },
    {
     "name": "stdout",
     "output_type": "stream",
     "text": [
      "32/32 [==============================] - 6s - loss: 485.1611 - mean_squared_error: 485.1611 - mean_absolute_error: 18.9011 - val_loss: 394.9643 - val_mean_squared_error: 394.9643 - val_mean_absolute_error: 18.0924\n",
      "Epoch 2/1500\n",
      "32/32 [==============================] - 1s - loss: 391.2587 - mean_squared_error: 391.2587 - mean_absolute_error: 18.0994 - val_loss: 442.1716 - val_mean_squared_error: 442.1716 - val_mean_absolute_error: 18.8087\n",
      "Epoch 3/1500\n",
      "32/32 [==============================] - 1s - loss: 419.0132 - mean_squared_error: 419.0132 - mean_absolute_error: 18.7448 - val_loss: 407.6068 - val_mean_squared_error: 407.6068 - val_mean_absolute_error: 17.8011\n",
      "Epoch 4/1500\n",
      "32/32 [==============================] - 1s - loss: 446.8524 - mean_squared_error: 446.8524 - mean_absolute_error: 19.1022 - val_loss: 438.4549 - val_mean_squared_error: 438.4549 - val_mean_absolute_error: 19.0643\n",
      "Epoch 5/1500\n",
      "32/32 [==============================] - 1s - loss: 470.6029 - mean_squared_error: 470.6029 - mean_absolute_error: 19.4393 - val_loss: 366.2057 - val_mean_squared_error: 366.2057 - val_mean_absolute_error: 16.2517\n",
      "Epoch 6/1500\n",
      "32/32 [==============================] - 1s - loss: 379.3849 - mean_squared_error: 379.3849 - mean_absolute_error: 17.8767 - val_loss: 358.1450 - val_mean_squared_error: 358.1450 - val_mean_absolute_error: 16.0435\n",
      "Epoch 7/1500\n",
      "32/32 [==============================] - 1s - loss: 376.6395 - mean_squared_error: 376.6395 - mean_absolute_error: 17.1032 - val_loss: 480.1447 - val_mean_squared_error: 480.1447 - val_mean_absolute_error: 19.3385\n",
      "Epoch 8/1500\n",
      "32/32 [==============================] - 1s - loss: 414.4417 - mean_squared_error: 414.4417 - mean_absolute_error: 18.0941 - val_loss: 517.8554 - val_mean_squared_error: 517.8554 - val_mean_absolute_error: 20.6185\n",
      "Epoch 9/1500\n",
      "32/32 [==============================] - 1s - loss: 537.5700 - mean_squared_error: 537.5700 - mean_absolute_error: 21.1691 - val_loss: 443.7562 - val_mean_squared_error: 443.7562 - val_mean_absolute_error: 18.1291\n",
      "Epoch 10/1500\n",
      "32/32 [==============================] - 1s - loss: 410.3113 - mean_squared_error: 410.3113 - mean_absolute_error: 18.5549 - val_loss: 412.0604 - val_mean_squared_error: 412.0604 - val_mean_absolute_error: 18.7239\n",
      "Epoch 11/1500\n",
      "32/32 [==============================] - 1s - loss: 380.3926 - mean_squared_error: 380.3926 - mean_absolute_error: 17.0087 - val_loss: 374.2902 - val_mean_squared_error: 374.2902 - val_mean_absolute_error: 17.0805\n",
      "Epoch 12/1500\n",
      "32/32 [==============================] - 1s - loss: 449.1690 - mean_squared_error: 449.1690 - mean_absolute_error: 19.1297 - val_loss: 369.4909 - val_mean_squared_error: 369.4909 - val_mean_absolute_error: 17.1756\n",
      "Epoch 13/1500\n",
      "32/32 [==============================] - 1s - loss: 368.3597 - mean_squared_error: 368.3597 - mean_absolute_error: 16.8112 - val_loss: 384.9590 - val_mean_squared_error: 384.9590 - val_mean_absolute_error: 16.9986\n",
      "Epoch 14/1500\n",
      "32/32 [==============================] - 1s - loss: 447.7711 - mean_squared_error: 447.7711 - mean_absolute_error: 17.6577 - val_loss: 424.2851 - val_mean_squared_error: 424.2851 - val_mean_absolute_error: 17.7971\n",
      "Epoch 15/1500\n",
      "32/32 [==============================] - 1s - loss: 429.7708 - mean_squared_error: 429.7708 - mean_absolute_error: 17.9613 - val_loss: 448.1650 - val_mean_squared_error: 448.1650 - val_mean_absolute_error: 19.0734\n",
      "Epoch 16/1500\n",
      "32/32 [==============================] - 1s - loss: 380.0706 - mean_squared_error: 380.0706 - mean_absolute_error: 17.6959 - val_loss: 425.1816 - val_mean_squared_error: 425.1816 - val_mean_absolute_error: 18.2580\n",
      "Epoch 17/1500\n",
      "32/32 [==============================] - 1s - loss: 454.2280 - mean_squared_error: 454.2280 - mean_absolute_error: 19.4478 - val_loss: 419.9623 - val_mean_squared_error: 419.9623 - val_mean_absolute_error: 17.8824\n",
      "Epoch 18/1500\n",
      "32/32 [==============================] - 1s - loss: 441.7415 - mean_squared_error: 441.7415 - mean_absolute_error: 19.6379 - val_loss: 409.1240 - val_mean_squared_error: 409.1240 - val_mean_absolute_error: 18.6994\n",
      "Epoch 19/1500\n",
      "32/32 [==============================] - 1s - loss: 392.9547 - mean_squared_error: 392.9547 - mean_absolute_error: 18.2030 - val_loss: 483.5708 - val_mean_squared_error: 483.5708 - val_mean_absolute_error: 19.4167\n",
      "Epoch 20/1500\n",
      "32/32 [==============================] - 1s - loss: 553.4481 - mean_squared_error: 553.4481 - mean_absolute_error: 21.5180 - val_loss: 472.9201 - val_mean_squared_error: 472.9201 - val_mean_absolute_error: 18.9085\n",
      "Epoch 21/1500\n",
      "32/32 [==============================] - 1s - loss: 571.4283 - mean_squared_error: 571.4283 - mean_absolute_error: 21.4893 - val_loss: 380.1463 - val_mean_squared_error: 380.1463 - val_mean_absolute_error: 17.4110\n",
      "Epoch 22/1500\n",
      "32/32 [==============================] - 1s - loss: 496.9401 - mean_squared_error: 496.9401 - mean_absolute_error: 21.0543 - val_loss: 416.3255 - val_mean_squared_error: 416.3255 - val_mean_absolute_error: 18.0153\n",
      "Epoch 23/1500\n",
      "32/32 [==============================] - 1s - loss: 437.0007 - mean_squared_error: 437.0007 - mean_absolute_error: 19.2028 - val_loss: 451.5304 - val_mean_squared_error: 451.5304 - val_mean_absolute_error: 18.8842\n",
      "Epoch 24/1500\n",
      "32/32 [==============================] - 1s - loss: 391.2550 - mean_squared_error: 391.2550 - mean_absolute_error: 17.9962 - val_loss: 354.5376 - val_mean_squared_error: 354.5376 - val_mean_absolute_error: 17.3047\n",
      "Epoch 25/1500\n",
      "32/32 [==============================] - 1s - loss: 367.2579 - mean_squared_error: 367.2579 - mean_absolute_error: 16.3427 - val_loss: 336.1230 - val_mean_squared_error: 336.1230 - val_mean_absolute_error: 16.2829\n",
      "Epoch 26/1500\n",
      "32/32 [==============================] - 1s - loss: 420.0605 - mean_squared_error: 420.0605 - mean_absolute_error: 18.4075 - val_loss: 441.1767 - val_mean_squared_error: 441.1767 - val_mean_absolute_error: 18.7516\n",
      "Epoch 27/1500\n",
      "32/32 [==============================] - 1s - loss: 346.6678 - mean_squared_error: 346.6678 - mean_absolute_error: 16.4703 - val_loss: 387.9276 - val_mean_squared_error: 387.9276 - val_mean_absolute_error: 17.6947\n",
      "Epoch 28/1500\n",
      "32/32 [==============================] - 1s - loss: 339.4697 - mean_squared_error: 339.4697 - mean_absolute_error: 16.0697 - val_loss: 334.4293 - val_mean_squared_error: 334.4293 - val_mean_absolute_error: 16.1754\n",
      "Epoch 29/1500\n",
      "32/32 [==============================] - 1s - loss: 498.6960 - mean_squared_error: 498.6960 - mean_absolute_error: 20.7752 - val_loss: 503.3497 - val_mean_squared_error: 503.3497 - val_mean_absolute_error: 20.4328\n",
      "Epoch 30/1500\n",
      "32/32 [==============================] - 1s - loss: 438.9934 - mean_squared_error: 438.9934 - mean_absolute_error: 19.2207 - val_loss: 388.8282 - val_mean_squared_error: 388.8282 - val_mean_absolute_error: 16.5019\n",
      "Epoch 31/1500\n",
      "32/32 [==============================] - 1s - loss: 333.8718 - mean_squared_error: 333.8718 - mean_absolute_error: 15.7372 - val_loss: 333.0585 - val_mean_squared_error: 333.0585 - val_mean_absolute_error: 15.4085\n",
      "Epoch 32/1500\n",
      "32/32 [==============================] - 1s - loss: 422.8621 - mean_squared_error: 422.8621 - mean_absolute_error: 17.7781 - val_loss: 421.7182 - val_mean_squared_error: 421.7182 - val_mean_absolute_error: 18.5064\n",
      "Epoch 33/1500\n",
      "32/32 [==============================] - 1s - loss: 403.5494 - mean_squared_error: 403.5494 - mean_absolute_error: 18.7652 - val_loss: 367.0992 - val_mean_squared_error: 367.0992 - val_mean_absolute_error: 17.7917\n",
      "Epoch 34/1500\n",
      "32/32 [==============================] - 1s - loss: 414.1738 - mean_squared_error: 414.1738 - mean_absolute_error: 19.0939 - val_loss: 432.3189 - val_mean_squared_error: 432.3189 - val_mean_absolute_error: 18.9412\n",
      "Epoch 35/1500\n",
      "32/32 [==============================] - 1s - loss: 397.0486 - mean_squared_error: 397.0486 - mean_absolute_error: 17.7850 - val_loss: 367.9922 - val_mean_squared_error: 367.9922 - val_mean_absolute_error: 16.7568\n",
      "Epoch 36/1500\n",
      "32/32 [==============================] - 1s - loss: 277.4500 - mean_squared_error: 277.4500 - mean_absolute_error: 14.5983 - val_loss: 394.5385 - val_mean_squared_error: 394.5385 - val_mean_absolute_error: 18.0416\n",
      "Epoch 37/1500\n",
      "32/32 [==============================] - 1s - loss: 364.1743 - mean_squared_error: 364.1743 - mean_absolute_error: 17.2847 - val_loss: 369.7187 - val_mean_squared_error: 369.7187 - val_mean_absolute_error: 16.8459\n",
      "Epoch 38/1500\n",
      "32/32 [==============================] - 1s - loss: 439.4572 - mean_squared_error: 439.4572 - mean_absolute_error: 19.1436 - val_loss: 300.8767 - val_mean_squared_error: 300.8767 - val_mean_absolute_error: 15.3598\n",
      "Epoch 39/1500\n",
      "32/32 [==============================] - 1s - loss: 393.1294 - mean_squared_error: 393.1294 - mean_absolute_error: 18.0925 - val_loss: 427.6743 - val_mean_squared_error: 427.6743 - val_mean_absolute_error: 18.5141\n",
      "Epoch 40/1500\n",
      "32/32 [==============================] - 1s - loss: 452.9728 - mean_squared_error: 452.9728 - mean_absolute_error: 19.1822 - val_loss: 398.8143 - val_mean_squared_error: 398.8143 - val_mean_absolute_error: 18.1111\n",
      "Epoch 41/1500\n",
      "32/32 [==============================] - 1s - loss: 437.5371 - mean_squared_error: 437.5371 - mean_absolute_error: 18.9758 - val_loss: 438.6579 - val_mean_squared_error: 438.6579 - val_mean_absolute_error: 18.7782\n",
      "Epoch 42/1500\n",
      "32/32 [==============================] - 1s - loss: 374.5847 - mean_squared_error: 374.5847 - mean_absolute_error: 16.8331 - val_loss: 451.9016 - val_mean_squared_error: 451.9016 - val_mean_absolute_error: 19.1916\n",
      "Epoch 43/1500\n",
      "32/32 [==============================] - 1s - loss: 376.1274 - mean_squared_error: 376.1274 - mean_absolute_error: 16.2150 - val_loss: 379.1706 - val_mean_squared_error: 379.1706 - val_mean_absolute_error: 16.2525\n",
      "Epoch 44/1500\n",
      "32/32 [==============================] - 1s - loss: 298.0017 - mean_squared_error: 298.0017 - mean_absolute_error: 15.1723 - val_loss: 445.2861 - val_mean_squared_error: 445.2861 - val_mean_absolute_error: 19.3156\n",
      "Epoch 45/1500\n",
      "32/32 [==============================] - 1s - loss: 531.9129 - mean_squared_error: 531.9129 - mean_absolute_error: 20.4132 - val_loss: 394.7902 - val_mean_squared_error: 394.7902 - val_mean_absolute_error: 17.2247\n",
      "Epoch 46/1500\n",
      "32/32 [==============================] - 1s - loss: 464.8912 - mean_squared_error: 464.8912 - mean_absolute_error: 20.3530 - val_loss: 438.8588 - val_mean_squared_error: 438.8588 - val_mean_absolute_error: 18.2346\n",
      "Epoch 47/1500\n",
      "32/32 [==============================] - 1s - loss: 458.1058 - mean_squared_error: 458.1058 - mean_absolute_error: 20.0137 - val_loss: 365.8103 - val_mean_squared_error: 365.8103 - val_mean_absolute_error: 16.6298\n",
      "Epoch 48/1500\n",
      "32/32 [==============================] - 1s - loss: 316.7490 - mean_squared_error: 316.7490 - mean_absolute_error: 15.2550 - val_loss: 373.2850 - val_mean_squared_error: 373.2850 - val_mean_absolute_error: 16.7849\n",
      "Epoch 49/1500\n",
      "32/32 [==============================] - 1s - loss: 381.4451 - mean_squared_error: 381.4451 - mean_absolute_error: 16.6845 - val_loss: 375.1392 - val_mean_squared_error: 375.1392 - val_mean_absolute_error: 17.6191\n",
      "Epoch 50/1500\n",
      "32/32 [==============================] - 1s - loss: 359.5430 - mean_squared_error: 359.5430 - mean_absolute_error: 17.3177 - val_loss: 259.6988 - val_mean_squared_error: 259.6988 - val_mean_absolute_error: 14.3330\n",
      "Epoch 51/1500\n",
      "32/32 [==============================] - 1s - loss: 323.6536 - mean_squared_error: 323.6536 - mean_absolute_error: 15.6068 - val_loss: 357.7040 - val_mean_squared_error: 357.7040 - val_mean_absolute_error: 17.2060\n",
      "Epoch 52/1500\n",
      "32/32 [==============================] - 1s - loss: 366.9876 - mean_squared_error: 366.9876 - mean_absolute_error: 16.5548 - val_loss: 513.5489 - val_mean_squared_error: 513.5489 - val_mean_absolute_error: 20.5723\n",
      "Epoch 53/1500\n",
      "32/32 [==============================] - 1s - loss: 421.0580 - mean_squared_error: 421.0580 - mean_absolute_error: 17.9523 - val_loss: 428.3326 - val_mean_squared_error: 428.3326 - val_mean_absolute_error: 17.9413\n",
      "Epoch 54/1500\n",
      "32/32 [==============================] - 1s - loss: 296.4612 - mean_squared_error: 296.4612 - mean_absolute_error: 15.6951 - val_loss: 295.5601 - val_mean_squared_error: 295.5601 - val_mean_absolute_error: 15.4175\n",
      "Epoch 55/1500\n",
      "32/32 [==============================] - 1s - loss: 455.0461 - mean_squared_error: 455.0461 - mean_absolute_error: 19.1796 - val_loss: 438.6003 - val_mean_squared_error: 438.6003 - val_mean_absolute_error: 19.3465\n",
      "Epoch 56/1500\n",
      "32/32 [==============================] - 1s - loss: 450.0551 - mean_squared_error: 450.0551 - mean_absolute_error: 19.8812 - val_loss: 403.9816 - val_mean_squared_error: 403.9816 - val_mean_absolute_error: 18.4726\n",
      "Epoch 57/1500\n",
      "32/32 [==============================] - 1s - loss: 385.7507 - mean_squared_error: 385.7507 - mean_absolute_error: 17.0669 - val_loss: 336.5818 - val_mean_squared_error: 336.5818 - val_mean_absolute_error: 15.9269\n",
      "Epoch 58/1500\n",
      "32/32 [==============================] - 1s - loss: 341.9619 - mean_squared_error: 341.9619 - mean_absolute_error: 16.4455 - val_loss: 277.4460 - val_mean_squared_error: 277.4460 - val_mean_absolute_error: 13.3814\n",
      "Epoch 59/1500\n",
      "32/32 [==============================] - 1s - loss: 288.0094 - mean_squared_error: 288.0094 - mean_absolute_error: 15.0753 - val_loss: 328.5004 - val_mean_squared_error: 328.5004 - val_mean_absolute_error: 16.6637\n",
      "Epoch 60/1500\n",
      "32/32 [==============================] - 1s - loss: 367.6601 - mean_squared_error: 367.6601 - mean_absolute_error: 18.3669 - val_loss: 369.7779 - val_mean_squared_error: 369.7779 - val_mean_absolute_error: 17.1427\n",
      "Epoch 61/1500\n",
      "32/32 [==============================] - 1s - loss: 455.7227 - mean_squared_error: 455.7227 - mean_absolute_error: 19.0714 - val_loss: 332.0847 - val_mean_squared_error: 332.0847 - val_mean_absolute_error: 15.6865\n",
      "Epoch 62/1500\n",
      "32/32 [==============================] - 1s - loss: 370.4878 - mean_squared_error: 370.4878 - mean_absolute_error: 15.6552 - val_loss: 383.4979 - val_mean_squared_error: 383.4979 - val_mean_absolute_error: 17.2423\n",
      "Epoch 63/1500\n",
      "32/32 [==============================] - 1s - loss: 413.2384 - mean_squared_error: 413.2384 - mean_absolute_error: 18.6524 - val_loss: 243.0439 - val_mean_squared_error: 243.0439 - val_mean_absolute_error: 12.7365\n",
      "Epoch 64/1500\n",
      "32/32 [==============================] - 1s - loss: 301.5629 - mean_squared_error: 301.5629 - mean_absolute_error: 15.0680 - val_loss: 401.4002 - val_mean_squared_error: 401.4002 - val_mean_absolute_error: 17.1085\n",
      "Epoch 65/1500\n",
      "32/32 [==============================] - 1s - loss: 374.9738 - mean_squared_error: 374.9738 - mean_absolute_error: 17.3994 - val_loss: 446.2547 - val_mean_squared_error: 446.2547 - val_mean_absolute_error: 18.8062\n",
      "Epoch 66/1500\n",
      "32/32 [==============================] - 1s - loss: 444.9809 - mean_squared_error: 444.9809 - mean_absolute_error: 17.7851 - val_loss: 382.4095 - val_mean_squared_error: 382.4095 - val_mean_absolute_error: 17.3212\n",
      "Epoch 67/1500\n",
      "32/32 [==============================] - 1s - loss: 327.4494 - mean_squared_error: 327.4494 - mean_absolute_error: 15.2811 - val_loss: 301.1295 - val_mean_squared_error: 301.1295 - val_mean_absolute_error: 16.0444\n",
      "Epoch 68/1500\n",
      "32/32 [==============================] - 1s - loss: 306.9980 - mean_squared_error: 306.9980 - mean_absolute_error: 14.4194 - val_loss: 364.1191 - val_mean_squared_error: 364.1191 - val_mean_absolute_error: 16.1201\n",
      "Epoch 69/1500\n",
      "32/32 [==============================] - 1s - loss: 424.0039 - mean_squared_error: 424.0039 - mean_absolute_error: 18.5576 - val_loss: 327.6921 - val_mean_squared_error: 327.6921 - val_mean_absolute_error: 15.2813\n",
      "Epoch 70/1500\n",
      "32/32 [==============================] - 1s - loss: 364.9012 - mean_squared_error: 364.9012 - mean_absolute_error: 17.1594 - val_loss: 395.1296 - val_mean_squared_error: 395.1296 - val_mean_absolute_error: 17.9150\n",
      "Epoch 71/1500\n",
      "32/32 [==============================] - 1s - loss: 270.9252 - mean_squared_error: 270.9252 - mean_absolute_error: 14.2844 - val_loss: 398.3860 - val_mean_squared_error: 398.3860 - val_mean_absolute_error: 17.8417\n",
      "Epoch 72/1500\n",
      "32/32 [==============================] - 1s - loss: 310.5714 - mean_squared_error: 310.5714 - mean_absolute_error: 15.2954 - val_loss: 417.9225 - val_mean_squared_error: 417.9225 - val_mean_absolute_error: 17.5726\n",
      "Epoch 73/1500\n",
      "32/32 [==============================] - 1s - loss: 267.4745 - mean_squared_error: 267.4745 - mean_absolute_error: 13.7181 - val_loss: 390.7684 - val_mean_squared_error: 390.7684 - val_mean_absolute_error: 17.0473\n",
      "Epoch 74/1500\n",
      "32/32 [==============================] - 1s - loss: 347.8667 - mean_squared_error: 347.8667 - mean_absolute_error: 16.6335 - val_loss: 327.0608 - val_mean_squared_error: 327.0608 - val_mean_absolute_error: 15.5948\n",
      "Epoch 75/1500\n",
      "32/32 [==============================] - 1s - loss: 354.9088 - mean_squared_error: 354.9088 - mean_absolute_error: 17.0944 - val_loss: 284.3666 - val_mean_squared_error: 284.3666 - val_mean_absolute_error: 14.2546\n",
      "Epoch 76/1500\n",
      "32/32 [==============================] - 1s - loss: 306.7649 - mean_squared_error: 306.7649 - mean_absolute_error: 15.2280 - val_loss: 438.7519 - val_mean_squared_error: 438.7519 - val_mean_absolute_error: 19.1190\n",
      "Epoch 77/1500\n",
      "32/32 [==============================] - 1s - loss: 504.8483 - mean_squared_error: 504.8483 - mean_absolute_error: 20.0142 - val_loss: 386.5987 - val_mean_squared_error: 386.5987 - val_mean_absolute_error: 16.6849\n",
      "Epoch 78/1500\n",
      "32/32 [==============================] - 1s - loss: 329.8805 - mean_squared_error: 329.8805 - mean_absolute_error: 16.3497 - val_loss: 226.7753 - val_mean_squared_error: 226.7753 - val_mean_absolute_error: 13.4801\n",
      "Epoch 79/1500\n",
      "32/32 [==============================] - 1s - loss: 400.6358 - mean_squared_error: 400.6358 - mean_absolute_error: 19.0044 - val_loss: 388.1223 - val_mean_squared_error: 388.1223 - val_mean_absolute_error: 17.9723\n",
      "Epoch 80/1500\n",
      "32/32 [==============================] - 1s - loss: 344.6707 - mean_squared_error: 344.6707 - mean_absolute_error: 16.9063 - val_loss: 384.2398 - val_mean_squared_error: 384.2398 - val_mean_absolute_error: 17.5711\n",
      "Epoch 81/1500\n",
      "32/32 [==============================] - 1s - loss: 386.2654 - mean_squared_error: 386.2654 - mean_absolute_error: 17.2230 - val_loss: 445.0822 - val_mean_squared_error: 445.0822 - val_mean_absolute_error: 18.7009\n",
      "Epoch 82/1500\n",
      "32/32 [==============================] - 1s - loss: 348.5352 - mean_squared_error: 348.5352 - mean_absolute_error: 16.3340 - val_loss: 357.5092 - val_mean_squared_error: 357.5092 - val_mean_absolute_error: 17.4280\n",
      "Epoch 83/1500\n",
      "32/32 [==============================] - 1s - loss: 408.8666 - mean_squared_error: 408.8666 - mean_absolute_error: 18.0775 - val_loss: 374.0560 - val_mean_squared_error: 374.0560 - val_mean_absolute_error: 16.8237\n",
      "Epoch 84/1500\n",
      "32/32 [==============================] - 1s - loss: 479.1037 - mean_squared_error: 479.1037 - mean_absolute_error: 19.6114 - val_loss: 406.9286 - val_mean_squared_error: 406.9286 - val_mean_absolute_error: 18.3279\n",
      "Epoch 85/1500\n",
      "32/32 [==============================] - 1s - loss: 309.0974 - mean_squared_error: 309.0974 - mean_absolute_error: 15.7203 - val_loss: 252.9871 - val_mean_squared_error: 252.9871 - val_mean_absolute_error: 13.6324\n",
      "Epoch 86/1500\n",
      "32/32 [==============================] - 1s - loss: 281.4760 - mean_squared_error: 281.4760 - mean_absolute_error: 13.7978 - val_loss: 267.5745 - val_mean_squared_error: 267.5745 - val_mean_absolute_error: 14.9246\n",
      "Epoch 87/1500\n",
      "32/32 [==============================] - 1s - loss: 421.9969 - mean_squared_error: 421.9969 - mean_absolute_error: 19.3801 - val_loss: 323.3131 - val_mean_squared_error: 323.3131 - val_mean_absolute_error: 15.1870\n",
      "Epoch 88/1500\n",
      "32/32 [==============================] - 1s - loss: 267.8130 - mean_squared_error: 267.8130 - mean_absolute_error: 14.1873 - val_loss: 301.0138 - val_mean_squared_error: 301.0138 - val_mean_absolute_error: 15.6010\n",
      "Epoch 89/1500\n",
      "32/32 [==============================] - 1s - loss: 319.0716 - mean_squared_error: 319.0716 - mean_absolute_error: 15.7260 - val_loss: 329.3609 - val_mean_squared_error: 329.3609 - val_mean_absolute_error: 14.7314\n",
      "Epoch 90/1500\n",
      "32/32 [==============================] - 1s - loss: 276.7790 - mean_squared_error: 276.7790 - mean_absolute_error: 14.5243 - val_loss: 348.8687 - val_mean_squared_error: 348.8687 - val_mean_absolute_error: 17.2313\n",
      "Epoch 91/1500\n",
      "32/32 [==============================] - 1s - loss: 225.4552 - mean_squared_error: 225.4552 - mean_absolute_error: 13.4553 - val_loss: 333.1505 - val_mean_squared_error: 333.1505 - val_mean_absolute_error: 15.6589\n",
      "Epoch 92/1500\n",
      "32/32 [==============================] - 1s - loss: 358.0040 - mean_squared_error: 358.0040 - mean_absolute_error: 17.4315 - val_loss: 400.6679 - val_mean_squared_error: 400.6679 - val_mean_absolute_error: 18.2371\n",
      "Epoch 93/1500\n",
      "32/32 [==============================] - 1s - loss: 314.8937 - mean_squared_error: 314.8937 - mean_absolute_error: 15.9215 - val_loss: 311.3888 - val_mean_squared_error: 311.3888 - val_mean_absolute_error: 15.9734\n",
      "Epoch 94/1500\n",
      "32/32 [==============================] - 1s - loss: 295.7555 - mean_squared_error: 295.7555 - mean_absolute_error: 15.4713 - val_loss: 243.6834 - val_mean_squared_error: 243.6834 - val_mean_absolute_error: 12.8297\n",
      "Epoch 95/1500\n",
      "32/32 [==============================] - 1s - loss: 392.5448 - mean_squared_error: 392.5448 - mean_absolute_error: 18.5736 - val_loss: 378.4207 - val_mean_squared_error: 378.4207 - val_mean_absolute_error: 18.1369\n",
      "Epoch 96/1500\n",
      "32/32 [==============================] - 1s - loss: 353.5934 - mean_squared_error: 353.5934 - mean_absolute_error: 17.2040 - val_loss: 309.2050 - val_mean_squared_error: 309.2050 - val_mean_absolute_error: 15.9421\n",
      "Epoch 97/1500\n",
      "32/32 [==============================] - 1s - loss: 345.1254 - mean_squared_error: 345.1254 - mean_absolute_error: 15.9638 - val_loss: 507.4399 - val_mean_squared_error: 507.4399 - val_mean_absolute_error: 19.9821\n",
      "Epoch 98/1500\n",
      "32/32 [==============================] - 1s - loss: 482.2615 - mean_squared_error: 482.2615 - mean_absolute_error: 19.2107 - val_loss: 296.9906 - val_mean_squared_error: 296.9906 - val_mean_absolute_error: 15.8268\n",
      "Epoch 99/1500\n",
      "32/32 [==============================] - 1s - loss: 271.2972 - mean_squared_error: 271.2972 - mean_absolute_error: 14.8959 - val_loss: 297.4622 - val_mean_squared_error: 297.4622 - val_mean_absolute_error: 14.0492\n",
      "Epoch 100/1500\n",
      "32/32 [==============================] - 1s - loss: 286.6833 - mean_squared_error: 286.6833 - mean_absolute_error: 14.3960 - val_loss: 393.2950 - val_mean_squared_error: 393.2950 - val_mean_absolute_error: 16.7079\n",
      "Epoch 101/1500\n",
      "32/32 [==============================] - 1s - loss: 423.1794 - mean_squared_error: 423.1794 - mean_absolute_error: 18.3467 - val_loss: 374.4829 - val_mean_squared_error: 374.4829 - val_mean_absolute_error: 16.4965\n",
      "Epoch 102/1500\n",
      "32/32 [==============================] - 1s - loss: 366.5800 - mean_squared_error: 366.5800 - mean_absolute_error: 17.8029 - val_loss: 211.3589 - val_mean_squared_error: 211.3589 - val_mean_absolute_error: 12.0342\n",
      "Epoch 103/1500\n",
      "32/32 [==============================] - 1s - loss: 413.4043 - mean_squared_error: 413.4043 - mean_absolute_error: 17.6763 - val_loss: 371.7847 - val_mean_squared_error: 371.7847 - val_mean_absolute_error: 17.4592\n",
      "Epoch 104/1500\n",
      "32/32 [==============================] - 1s - loss: 357.0715 - mean_squared_error: 357.0715 - mean_absolute_error: 16.6974 - val_loss: 391.3849 - val_mean_squared_error: 391.3849 - val_mean_absolute_error: 17.3071\n",
      "Epoch 105/1500\n",
      "32/32 [==============================] - 1s - loss: 238.1656 - mean_squared_error: 238.1656 - mean_absolute_error: 13.4504 - val_loss: 211.2922 - val_mean_squared_error: 211.2922 - val_mean_absolute_error: 12.9747\n",
      "Epoch 106/1500\n",
      "32/32 [==============================] - 1s - loss: 354.9927 - mean_squared_error: 354.9927 - mean_absolute_error: 16.5964 - val_loss: 315.4179 - val_mean_squared_error: 315.4179 - val_mean_absolute_error: 15.8938\n",
      "Epoch 107/1500\n",
      "32/32 [==============================] - 1s - loss: 410.3875 - mean_squared_error: 410.3875 - mean_absolute_error: 17.7063 - val_loss: 266.8143 - val_mean_squared_error: 266.8143 - val_mean_absolute_error: 14.8461\n",
      "Epoch 108/1500\n",
      "32/32 [==============================] - 1s - loss: 466.0661 - mean_squared_error: 466.0661 - mean_absolute_error: 19.6315 - val_loss: 235.0179 - val_mean_squared_error: 235.0179 - val_mean_absolute_error: 13.2990\n",
      "Epoch 109/1500\n",
      "32/32 [==============================] - 1s - loss: 297.6171 - mean_squared_error: 297.6171 - mean_absolute_error: 14.7741 - val_loss: 311.5930 - val_mean_squared_error: 311.5930 - val_mean_absolute_error: 14.8943\n",
      "Epoch 110/1500\n",
      "32/32 [==============================] - 1s - loss: 311.5525 - mean_squared_error: 311.5525 - mean_absolute_error: 15.4030 - val_loss: 273.3511 - val_mean_squared_error: 273.3511 - val_mean_absolute_error: 14.5395\n",
      "Epoch 111/1500\n"
     ]
    },
    {
     "ename": "KeyboardInterrupt",
     "evalue": "",
     "output_type": "error",
     "traceback": [
      "\u001b[0;31m---------------------------------------------------------------------------\u001b[0m",
      "\u001b[0;31mKeyboardInterrupt\u001b[0m                         Traceback (most recent call last)",
      "\u001b[0;32m<ipython-input-37-40ab8f106606>\u001b[0m in \u001b[0;36m<module>\u001b[0;34m()\u001b[0m\n\u001b[1;32m      3\u001b[0m                               \u001b[0mnb_val_samples\u001b[0m\u001b[0;34m=\u001b[0m\u001b[0mBATCH_SIZE\u001b[0m\u001b[0;34m,\u001b[0m\u001b[0;34m\u001b[0m\u001b[0m\n\u001b[1;32m      4\u001b[0m                               \u001b[0msamples_per_epoch\u001b[0m\u001b[0;34m=\u001b[0m\u001b[0mBATCH_SIZE\u001b[0m\u001b[0;34m,\u001b[0m\u001b[0;34m\u001b[0m\u001b[0m\n\u001b[0;32m----> 5\u001b[0;31m                               nb_epoch=NUM_EPOCHS)\n\u001b[0m",
      "\u001b[0;32m/usr/local/lib/python2.7/dist-packages/Keras-1.2.0-py2.7.egg/keras/models.pyc\u001b[0m in \u001b[0;36mfit_generator\u001b[0;34m(self, generator, samples_per_epoch, nb_epoch, verbose, callbacks, validation_data, nb_val_samples, class_weight, max_q_size, nb_worker, pickle_safe, **kwargs)\u001b[0m\n\u001b[1;32m    922\u001b[0m                                         \u001b[0mmax_q_size\u001b[0m\u001b[0;34m=\u001b[0m\u001b[0mmax_q_size\u001b[0m\u001b[0;34m,\u001b[0m\u001b[0;34m\u001b[0m\u001b[0m\n\u001b[1;32m    923\u001b[0m                                         \u001b[0mnb_worker\u001b[0m\u001b[0;34m=\u001b[0m\u001b[0mnb_worker\u001b[0m\u001b[0;34m,\u001b[0m\u001b[0;34m\u001b[0m\u001b[0m\n\u001b[0;32m--> 924\u001b[0;31m                                         pickle_safe=pickle_safe)\n\u001b[0m\u001b[1;32m    925\u001b[0m \u001b[0;34m\u001b[0m\u001b[0m\n\u001b[1;32m    926\u001b[0m     def evaluate_generator(self, generator, val_samples,\n",
      "\u001b[0;32m/usr/local/lib/python2.7/dist-packages/Keras-1.2.0-py2.7.egg/keras/engine/training.pyc\u001b[0m in \u001b[0;36mfit_generator\u001b[0;34m(self, generator, samples_per_epoch, nb_epoch, verbose, callbacks, validation_data, nb_val_samples, class_weight, max_q_size, nb_worker, pickle_safe, initial_epoch)\u001b[0m\n\u001b[1;32m   1506\u001b[0m                     outs = self.train_on_batch(x, y,\n\u001b[1;32m   1507\u001b[0m                                                \u001b[0msample_weight\u001b[0m\u001b[0;34m=\u001b[0m\u001b[0msample_weight\u001b[0m\u001b[0;34m,\u001b[0m\u001b[0;34m\u001b[0m\u001b[0m\n\u001b[0;32m-> 1508\u001b[0;31m                                                class_weight=class_weight)\n\u001b[0m\u001b[1;32m   1509\u001b[0m                 \u001b[0;32mexcept\u001b[0m\u001b[0;34m:\u001b[0m\u001b[0;34m\u001b[0m\u001b[0m\n\u001b[1;32m   1510\u001b[0m                     \u001b[0m_stop\u001b[0m\u001b[0;34m.\u001b[0m\u001b[0mset\u001b[0m\u001b[0;34m(\u001b[0m\u001b[0;34m)\u001b[0m\u001b[0;34m\u001b[0m\u001b[0m\n",
      "\u001b[0;32m/usr/local/lib/python2.7/dist-packages/Keras-1.2.0-py2.7.egg/keras/engine/training.pyc\u001b[0m in \u001b[0;36mtrain_on_batch\u001b[0;34m(self, x, y, sample_weight, class_weight)\u001b[0m\n\u001b[1;32m   1265\u001b[0m             \u001b[0mins\u001b[0m \u001b[0;34m=\u001b[0m \u001b[0mx\u001b[0m \u001b[0;34m+\u001b[0m \u001b[0my\u001b[0m \u001b[0;34m+\u001b[0m \u001b[0msample_weights\u001b[0m\u001b[0;34m\u001b[0m\u001b[0m\n\u001b[1;32m   1266\u001b[0m         \u001b[0mself\u001b[0m\u001b[0;34m.\u001b[0m\u001b[0m_make_train_function\u001b[0m\u001b[0;34m(\u001b[0m\u001b[0;34m)\u001b[0m\u001b[0;34m\u001b[0m\u001b[0m\n\u001b[0;32m-> 1267\u001b[0;31m         \u001b[0moutputs\u001b[0m \u001b[0;34m=\u001b[0m \u001b[0mself\u001b[0m\u001b[0;34m.\u001b[0m\u001b[0mtrain_function\u001b[0m\u001b[0;34m(\u001b[0m\u001b[0mins\u001b[0m\u001b[0;34m)\u001b[0m\u001b[0;34m\u001b[0m\u001b[0m\n\u001b[0m\u001b[1;32m   1268\u001b[0m         \u001b[0;32mif\u001b[0m \u001b[0mlen\u001b[0m\u001b[0;34m(\u001b[0m\u001b[0moutputs\u001b[0m\u001b[0;34m)\u001b[0m \u001b[0;34m==\u001b[0m \u001b[0;36m1\u001b[0m\u001b[0;34m:\u001b[0m\u001b[0;34m\u001b[0m\u001b[0m\n\u001b[1;32m   1269\u001b[0m             \u001b[0;32mreturn\u001b[0m \u001b[0moutputs\u001b[0m\u001b[0;34m[\u001b[0m\u001b[0;36m0\u001b[0m\u001b[0;34m]\u001b[0m\u001b[0;34m\u001b[0m\u001b[0m\n",
      "\u001b[0;32m/usr/local/lib/python2.7/dist-packages/Keras-1.2.0-py2.7.egg/keras/backend/tensorflow_backend.pyc\u001b[0m in \u001b[0;36m__call__\u001b[0;34m(self, inputs)\u001b[0m\n\u001b[1;32m   1601\u001b[0m         \u001b[0msession\u001b[0m \u001b[0;34m=\u001b[0m \u001b[0mget_session\u001b[0m\u001b[0;34m(\u001b[0m\u001b[0;34m)\u001b[0m\u001b[0;34m\u001b[0m\u001b[0m\n\u001b[1;32m   1602\u001b[0m         updated = session.run(self.outputs + [self.updates_op],\n\u001b[0;32m-> 1603\u001b[0;31m                               feed_dict=feed_dict)\n\u001b[0m\u001b[1;32m   1604\u001b[0m         \u001b[0;32mreturn\u001b[0m \u001b[0mupdated\u001b[0m\u001b[0;34m[\u001b[0m\u001b[0;34m:\u001b[0m\u001b[0mlen\u001b[0m\u001b[0;34m(\u001b[0m\u001b[0mself\u001b[0m\u001b[0;34m.\u001b[0m\u001b[0moutputs\u001b[0m\u001b[0;34m)\u001b[0m\u001b[0;34m]\u001b[0m\u001b[0;34m\u001b[0m\u001b[0m\n\u001b[1;32m   1605\u001b[0m \u001b[0;34m\u001b[0m\u001b[0m\n",
      "\u001b[0;32m/usr/local/lib/python2.7/dist-packages/tensorflow/python/client/session.pyc\u001b[0m in \u001b[0;36mrun\u001b[0;34m(self, fetches, feed_dict, options, run_metadata)\u001b[0m\n\u001b[1;32m    764\u001b[0m     \u001b[0;32mtry\u001b[0m\u001b[0;34m:\u001b[0m\u001b[0;34m\u001b[0m\u001b[0m\n\u001b[1;32m    765\u001b[0m       result = self._run(None, fetches, feed_dict, options_ptr,\n\u001b[0;32m--> 766\u001b[0;31m                          run_metadata_ptr)\n\u001b[0m\u001b[1;32m    767\u001b[0m       \u001b[0;32mif\u001b[0m \u001b[0mrun_metadata\u001b[0m\u001b[0;34m:\u001b[0m\u001b[0;34m\u001b[0m\u001b[0m\n\u001b[1;32m    768\u001b[0m         \u001b[0mproto_data\u001b[0m \u001b[0;34m=\u001b[0m \u001b[0mtf_session\u001b[0m\u001b[0;34m.\u001b[0m\u001b[0mTF_GetBuffer\u001b[0m\u001b[0;34m(\u001b[0m\u001b[0mrun_metadata_ptr\u001b[0m\u001b[0;34m)\u001b[0m\u001b[0;34m\u001b[0m\u001b[0m\n",
      "\u001b[0;32m/usr/local/lib/python2.7/dist-packages/tensorflow/python/client/session.pyc\u001b[0m in \u001b[0;36m_run\u001b[0;34m(self, handle, fetches, feed_dict, options, run_metadata)\u001b[0m\n\u001b[1;32m    962\u001b[0m     \u001b[0;32mif\u001b[0m \u001b[0mfinal_fetches\u001b[0m \u001b[0;32mor\u001b[0m \u001b[0mfinal_targets\u001b[0m\u001b[0;34m:\u001b[0m\u001b[0;34m\u001b[0m\u001b[0m\n\u001b[1;32m    963\u001b[0m       results = self._do_run(handle, final_targets, final_fetches,\n\u001b[0;32m--> 964\u001b[0;31m                              feed_dict_string, options, run_metadata)\n\u001b[0m\u001b[1;32m    965\u001b[0m     \u001b[0;32melse\u001b[0m\u001b[0;34m:\u001b[0m\u001b[0;34m\u001b[0m\u001b[0m\n\u001b[1;32m    966\u001b[0m       \u001b[0mresults\u001b[0m \u001b[0;34m=\u001b[0m \u001b[0;34m[\u001b[0m\u001b[0;34m]\u001b[0m\u001b[0;34m\u001b[0m\u001b[0m\n",
      "\u001b[0;32m/usr/local/lib/python2.7/dist-packages/tensorflow/python/client/session.pyc\u001b[0m in \u001b[0;36m_do_run\u001b[0;34m(self, handle, target_list, fetch_list, feed_dict, options, run_metadata)\u001b[0m\n\u001b[1;32m   1012\u001b[0m     \u001b[0;32mif\u001b[0m \u001b[0mhandle\u001b[0m \u001b[0;32mis\u001b[0m \u001b[0mNone\u001b[0m\u001b[0;34m:\u001b[0m\u001b[0;34m\u001b[0m\u001b[0m\n\u001b[1;32m   1013\u001b[0m       return self._do_call(_run_fn, self._session, feed_dict, fetch_list,\n\u001b[0;32m-> 1014\u001b[0;31m                            target_list, options, run_metadata)\n\u001b[0m\u001b[1;32m   1015\u001b[0m     \u001b[0;32melse\u001b[0m\u001b[0;34m:\u001b[0m\u001b[0;34m\u001b[0m\u001b[0m\n\u001b[1;32m   1016\u001b[0m       return self._do_call(_prun_fn, self._session, handle, feed_dict,\n",
      "\u001b[0;32m/usr/local/lib/python2.7/dist-packages/tensorflow/python/client/session.pyc\u001b[0m in \u001b[0;36m_do_call\u001b[0;34m(self, fn, *args)\u001b[0m\n\u001b[1;32m   1019\u001b[0m   \u001b[0;32mdef\u001b[0m \u001b[0m_do_call\u001b[0m\u001b[0;34m(\u001b[0m\u001b[0mself\u001b[0m\u001b[0;34m,\u001b[0m \u001b[0mfn\u001b[0m\u001b[0;34m,\u001b[0m \u001b[0;34m*\u001b[0m\u001b[0margs\u001b[0m\u001b[0;34m)\u001b[0m\u001b[0;34m:\u001b[0m\u001b[0;34m\u001b[0m\u001b[0m\n\u001b[1;32m   1020\u001b[0m     \u001b[0;32mtry\u001b[0m\u001b[0;34m:\u001b[0m\u001b[0;34m\u001b[0m\u001b[0m\n\u001b[0;32m-> 1021\u001b[0;31m       \u001b[0;32mreturn\u001b[0m \u001b[0mfn\u001b[0m\u001b[0;34m(\u001b[0m\u001b[0;34m*\u001b[0m\u001b[0margs\u001b[0m\u001b[0;34m)\u001b[0m\u001b[0;34m\u001b[0m\u001b[0m\n\u001b[0m\u001b[1;32m   1022\u001b[0m     \u001b[0;32mexcept\u001b[0m \u001b[0merrors\u001b[0m\u001b[0;34m.\u001b[0m\u001b[0mOpError\u001b[0m \u001b[0;32mas\u001b[0m \u001b[0me\u001b[0m\u001b[0;34m:\u001b[0m\u001b[0;34m\u001b[0m\u001b[0m\n\u001b[1;32m   1023\u001b[0m       \u001b[0mmessage\u001b[0m \u001b[0;34m=\u001b[0m \u001b[0mcompat\u001b[0m\u001b[0;34m.\u001b[0m\u001b[0mas_text\u001b[0m\u001b[0;34m(\u001b[0m\u001b[0me\u001b[0m\u001b[0;34m.\u001b[0m\u001b[0mmessage\u001b[0m\u001b[0;34m)\u001b[0m\u001b[0;34m\u001b[0m\u001b[0m\n",
      "\u001b[0;32m/usr/local/lib/python2.7/dist-packages/tensorflow/python/client/session.pyc\u001b[0m in \u001b[0;36m_run_fn\u001b[0;34m(session, feed_dict, fetch_list, target_list, options, run_metadata)\u001b[0m\n\u001b[1;32m   1001\u001b[0m         return tf_session.TF_Run(session, options,\n\u001b[1;32m   1002\u001b[0m                                  \u001b[0mfeed_dict\u001b[0m\u001b[0;34m,\u001b[0m \u001b[0mfetch_list\u001b[0m\u001b[0;34m,\u001b[0m \u001b[0mtarget_list\u001b[0m\u001b[0;34m,\u001b[0m\u001b[0;34m\u001b[0m\u001b[0m\n\u001b[0;32m-> 1003\u001b[0;31m                                  status, run_metadata)\n\u001b[0m\u001b[1;32m   1004\u001b[0m \u001b[0;34m\u001b[0m\u001b[0m\n\u001b[1;32m   1005\u001b[0m     \u001b[0;32mdef\u001b[0m \u001b[0m_prun_fn\u001b[0m\u001b[0;34m(\u001b[0m\u001b[0msession\u001b[0m\u001b[0;34m,\u001b[0m \u001b[0mhandle\u001b[0m\u001b[0;34m,\u001b[0m \u001b[0mfeed_dict\u001b[0m\u001b[0;34m,\u001b[0m \u001b[0mfetch_list\u001b[0m\u001b[0;34m)\u001b[0m\u001b[0;34m:\u001b[0m\u001b[0;34m\u001b[0m\u001b[0m\n",
      "\u001b[0;31mKeyboardInterrupt\u001b[0m: "
     ]
    }
   ],
   "source": [
    "history = model.fit_generator(w_age_train_gen, \n",
    "                              validation_data=w_age_valid_gen,\n",
    "                              nb_val_samples=BATCH_SIZE,\n",
    "                              samples_per_epoch=BATCH_SIZE, \n",
    "                              nb_epoch=NUM_EPOCHS)"
   ]
  },
  {
   "cell_type": "markdown",
   "metadata": {
    "deletable": true,
    "editable": true
   },
   "source": [
    "## 7. Evaluating the results"
   ]
  },
  {
   "cell_type": "code",
   "execution_count": null,
   "metadata": {
    "collapsed": false,
    "deletable": true,
    "editable": true
   },
   "outputs": [],
   "source": [
    "train_history = history.history['acc']\n",
    "valid_history = history.history['val_acc']"
   ]
  },
  {
   "cell_type": "code",
   "execution_count": null,
   "metadata": {
    "collapsed": false,
    "deletable": true,
    "editable": true
   },
   "outputs": [],
   "source": [
    " # Plotting training accuracy and testing accuracy acros epochs\n",
    "plt.figure(figsize=(20,10))\n",
    "plt.plot(train_history)\n",
    "plt.plot(valid_history)\n",
    "plt.title('Training and Validation Accuracy')\n",
    "plt.ylabel('accuracy')\n",
    "plt.xlabel('epoch')\n",
    "plt.legend(['train', 'test'], loc='upper left')\n",
    "plt.show()\n",
    "plt.savefig(PIC_NAME)"
   ]
  },
  {
   "cell_type": "code",
   "execution_count": null,
   "metadata": {
    "collapsed": true,
    "deletable": true,
    "editable": true
   },
   "outputs": [],
   "source": [
    "# Tail-rolling average transform\n",
    "series_train = Series(train_history)\n",
    "rolling_train = series_train.rolling(window=100)\n",
    "rolling_mean_train = rolling_train.mean()\n",
    "\n",
    "series_valid = Series(valid_history)\n",
    "rolling_valid = series_valid.rolling(window=100)\n",
    "rolling_mean_valid = rolling_valid.mean()"
   ]
  },
  {
   "cell_type": "code",
   "execution_count": null,
   "metadata": {
    "collapsed": false,
    "deletable": true,
    "editable": true
   },
   "outputs": [],
   "source": [
    "plt.figure(figsize=(20,10))\n",
    "plt.plot(rolling_mean_train)\n",
    "plt.plot(rolling_mean_valid)\n",
    "plt.title('Smoothened training and Validation Accuracy')\n",
    "plt.ylabel('accuracy')\n",
    "plt.xlabel('epoch')\n",
    "plt.legend(['train', 'validation'], loc='upper left')\n",
    "plt.show()"
   ]
  },
  {
   "cell_type": "code",
   "execution_count": null,
   "metadata": {
    "collapsed": false,
    "deletable": true,
    "editable": true
   },
   "outputs": [],
   "source": [
    "# Saving histories\n",
    "np.save(TRA_HISTORY_NAME, train_history)\n",
    "np.save(VAL_HISTORY_NAME, valid_history)"
   ]
  },
  {
   "cell_type": "code",
   "execution_count": null,
   "metadata": {
    "collapsed": true,
    "deletable": true,
    "editable": true
   },
   "outputs": [],
   "source": [
    "# saving weights\n",
    "model.save_weights(WEIGHTS_NAME)"
   ]
  },
  {
   "cell_type": "markdown",
   "metadata": {
    "deletable": true,
    "editable": true
   },
   "source": [
    "### Results on Adience"
   ]
  },
  {
   "cell_type": "code",
   "execution_count": null,
   "metadata": {
    "collapsed": false,
    "deletable": true,
    "editable": true
   },
   "outputs": [],
   "source": [
    "model.evaluate_generator(adience_gender_test_gen,BATCH_SIZE*400)"
   ]
  },
  {
   "cell_type": "code",
   "execution_count": null,
   "metadata": {
    "collapsed": false,
    "deletable": true,
    "editable": true
   },
   "outputs": [],
   "source": [
    "raise EX"
   ]
  },
  {
   "cell_type": "markdown",
   "metadata": {
    "deletable": true,
    "editable": true
   },
   "source": [
    "## Finetuning with Adience"
   ]
  },
  {
   "cell_type": "code",
   "execution_count": null,
   "metadata": {
    "collapsed": false,
    "deletable": true,
    "editable": true
   },
   "outputs": [],
   "source": [
    "history = model.fit_generator(adience_gender_train_gen, \n",
    "                              validation_data=adience_gender_valid_gen,\n",
    "                              nb_val_samples=BATCH_SIZE,\n",
    "                              samples_per_epoch=BATCH_SIZE, \n",
    "                              nb_epoch=NUM_EPOCHS2)"
   ]
  },
  {
   "cell_type": "code",
   "execution_count": null,
   "metadata": {
    "collapsed": true,
    "deletable": true,
    "editable": true
   },
   "outputs": [],
   "source": [
    "train_history = history.history['acc']\n",
    "valid_history = history.history['val_acc']"
   ]
  },
  {
   "cell_type": "code",
   "execution_count": null,
   "metadata": {
    "collapsed": false,
    "deletable": true,
    "editable": true
   },
   "outputs": [],
   "source": [
    " # Plotting training accuracy and testing accuracy acros epochs\n",
    "plt.figure(figsize=(20,10))\n",
    "plt.plot(train_history)\n",
    "plt.plot(valid_history)\n",
    "plt.title('Training and Validation Accuracy')\n",
    "plt.ylabel('accuracy')\n",
    "plt.xlabel('epoch')\n",
    "plt.legend(['train', 'test'], loc='upper left')\n",
    "plt.show()\n",
    "plt.savefig(PIC_NAME_FINETUNING)"
   ]
  },
  {
   "cell_type": "code",
   "execution_count": null,
   "metadata": {
    "collapsed": false,
    "deletable": true,
    "editable": true
   },
   "outputs": [],
   "source": [
    "# Tail-rolling average transform\n",
    "series_train = Series(train_history)\n",
    "rolling_train = series_train.rolling(window=100)\n",
    "rolling_mean_train = rolling_train.mean()\n",
    "\n",
    "series_valid = Series(valid_history)\n",
    "rolling_valid = series_valid.rolling(window=100)\n",
    "rolling_mean_valid = rolling_valid.mean()"
   ]
  },
  {
   "cell_type": "code",
   "execution_count": null,
   "metadata": {
    "collapsed": false,
    "deletable": true,
    "editable": true
   },
   "outputs": [],
   "source": [
    "plt.figure(figsize=(20,10))\n",
    "plt.plot(rolling_mean_train)\n",
    "plt.plot(rolling_mean_valid)\n",
    "plt.title('Smoothened training and Validation Accuracy')\n",
    "plt.ylabel('accuracy')\n",
    "plt.xlabel('epoch')\n",
    "plt.legend(['train', 'validation'], loc='upper left')\n",
    "plt.show()"
   ]
  },
  {
   "cell_type": "code",
   "execution_count": null,
   "metadata": {
    "collapsed": false,
    "deletable": true,
    "editable": true
   },
   "outputs": [],
   "source": [
    "# Saving histories\n",
    "np.save(TRA_HISTORY_NAME_FINETUNING, train_history)\n",
    "np.save(VAL_HISTORY_NAME_FINETUNING, valid_history)"
   ]
  },
  {
   "cell_type": "code",
   "execution_count": null,
   "metadata": {
    "collapsed": true,
    "deletable": true,
    "editable": true
   },
   "outputs": [],
   "source": [
    "# saving weights\n",
    "model.save_weights(WEIGHTS_NAME_FINETUNING)"
   ]
  },
  {
   "cell_type": "code",
   "execution_count": null,
   "metadata": {
    "collapsed": false,
    "deletable": true,
    "editable": true
   },
   "outputs": [],
   "source": [
    "model.evaluate_generator(adience_gender_test_gen,BATCH_SIZE*400)"
   ]
  }
 ],
 "metadata": {
  "kernelspec": {
   "display_name": "Python 2",
   "language": "python",
   "name": "python2"
  },
  "language_info": {
   "codemirror_mode": {
    "name": "ipython",
    "version": 2
   },
   "file_extension": ".py",
   "mimetype": "text/x-python",
   "name": "python",
   "nbconvert_exporter": "python",
   "pygments_lexer": "ipython2",
   "version": "2.7.6"
  }
 },
 "nbformat": 4,
 "nbformat_minor": 2
}
