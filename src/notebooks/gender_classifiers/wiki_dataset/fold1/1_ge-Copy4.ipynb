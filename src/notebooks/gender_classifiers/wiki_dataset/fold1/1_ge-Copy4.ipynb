{
 "cells": [
  {
   "cell_type": "code",
   "execution_count": 2,
   "metadata": {
    "collapsed": false,
    "deletable": true,
    "editable": true
   },
   "outputs": [
    {
     "name": "stderr",
     "output_type": "stream",
     "text": [
      "Using TensorFlow backend.\n"
     ]
    }
   ],
   "source": [
    "import pandas as pd\n",
    "import numpy  as np\n",
    "from scipy.misc import imresize\n",
    "import matplotlib.pyplot as plt\n",
    "from keras import backend as K\n",
    "from keras.models     import Sequential\n",
    "from keras.layers     import Dense, Dropout, Activation, Flatten\n",
    "from keras.layers.advanced_activations import LeakyReLU\n",
    "from keras.layers     import Convolution2D, MaxPooling2D\n",
    "from keras.optimizers import SGD\n",
    "from keras.layers.normalization import BatchNormalization\n",
    "import keras\n",
    "\n",
    "\n",
    "from keras.preprocessing.image import ImageDataGenerator, array_to_img, img_to_array, load_img\n",
    "%matplotlib inline"
   ]
  },
  {
   "cell_type": "code",
   "execution_count": 3,
   "metadata": {
    "collapsed": true,
    "deletable": true,
    "editable": true
   },
   "outputs": [],
   "source": [
    "np.random.seed(0)"
   ]
  },
  {
   "cell_type": "code",
   "execution_count": 4,
   "metadata": {
    "collapsed": true,
    "deletable": true,
    "editable": true
   },
   "outputs": [],
   "source": [
    "TRAIN_PATH = \"../../../../data/wiki_folds/age/train_1.csv\"\n",
    "VALID_PATH = \"../../../../data/wiki_folds/age/valid_1.csv\"\n",
    "IMG_PATH  = \"../../../../data/wiki/%s\"\n",
    "\n",
    "IMG_WIDTH  = 150\n",
    "IMG_HEIGHT = 150\n",
    "IMG_DIMS = (IMG_WIDTH, IMG_HEIGHT)"
   ]
  },
  {
   "cell_type": "code",
   "execution_count": 5,
   "metadata": {
    "collapsed": false,
    "deletable": true,
    "editable": true
   },
   "outputs": [],
   "source": [
    "train = pd.read_csv(TRAIN_PATH)\n",
    "valid = pd.read_csv(VALID_PATH)\n",
    "\n",
    "train = train[[\"full_path\",\"gender\",\"age\"]]\n",
    "valid = valid[[\"full_path\",\"gender\",\"age\"]]"
   ]
  },
  {
   "cell_type": "code",
   "execution_count": 6,
   "metadata": {
    "collapsed": false,
    "deletable": true,
    "editable": true
   },
   "outputs": [
    {
     "data": {
      "text/html": [
       "<div>\n",
       "<table border=\"1\" class=\"dataframe\">\n",
       "  <thead>\n",
       "    <tr style=\"text-align: right;\">\n",
       "      <th></th>\n",
       "      <th>full_path</th>\n",
       "      <th>gender</th>\n",
       "      <th>age</th>\n",
       "    </tr>\n",
       "  </thead>\n",
       "  <tbody>\n",
       "    <tr>\n",
       "      <th>0</th>\n",
       "      <td>57/33135157_1995-06-05_2013.jpg</td>\n",
       "      <td>0.0</td>\n",
       "      <td>18</td>\n",
       "    </tr>\n",
       "    <tr>\n",
       "      <th>1</th>\n",
       "      <td>35/6123935_1952-07-21_2007.jpg</td>\n",
       "      <td>1.0</td>\n",
       "      <td>55</td>\n",
       "    </tr>\n",
       "    <tr>\n",
       "      <th>2</th>\n",
       "      <td>69/445169_1986-03-03_2006.jpg</td>\n",
       "      <td>0.0</td>\n",
       "      <td>20</td>\n",
       "    </tr>\n",
       "    <tr>\n",
       "      <th>3</th>\n",
       "      <td>46/3963146_1974-07-16_2004.jpg</td>\n",
       "      <td>0.0</td>\n",
       "      <td>30</td>\n",
       "    </tr>\n",
       "    <tr>\n",
       "      <th>4</th>\n",
       "      <td>65/3058665_1924-10-14_1966.jpg</td>\n",
       "      <td>1.0</td>\n",
       "      <td>42</td>\n",
       "    </tr>\n",
       "  </tbody>\n",
       "</table>\n",
       "</div>"
      ],
      "text/plain": [
       "                         full_path  gender  age\n",
       "0  57/33135157_1995-06-05_2013.jpg     0.0   18\n",
       "1   35/6123935_1952-07-21_2007.jpg     1.0   55\n",
       "2    69/445169_1986-03-03_2006.jpg     0.0   20\n",
       "3   46/3963146_1974-07-16_2004.jpg     0.0   30\n",
       "4   65/3058665_1924-10-14_1966.jpg     1.0   42"
      ]
     },
     "execution_count": 6,
     "metadata": {},
     "output_type": "execute_result"
    }
   ],
   "source": [
    "train.head()"
   ]
  },
  {
   "cell_type": "code",
   "execution_count": 7,
   "metadata": {
    "collapsed": false,
    "deletable": true,
    "editable": true
   },
   "outputs": [
    {
     "data": {
      "text/html": [
       "<div>\n",
       "<table border=\"1\" class=\"dataframe\">\n",
       "  <thead>\n",
       "    <tr style=\"text-align: right;\">\n",
       "      <th></th>\n",
       "      <th>full_path</th>\n",
       "      <th>gender</th>\n",
       "      <th>age</th>\n",
       "    </tr>\n",
       "  </thead>\n",
       "  <tbody>\n",
       "    <tr>\n",
       "      <th>0</th>\n",
       "      <td>65/40839965_1975-03-07_2013.jpg</td>\n",
       "      <td>1.0</td>\n",
       "      <td>38</td>\n",
       "    </tr>\n",
       "    <tr>\n",
       "      <th>1</th>\n",
       "      <td>48/26219548_1931-10-23_2009.jpg</td>\n",
       "      <td>1.0</td>\n",
       "      <td>78</td>\n",
       "    </tr>\n",
       "    <tr>\n",
       "      <th>2</th>\n",
       "      <td>62/543262_1934-11-13_2008.jpg</td>\n",
       "      <td>1.0</td>\n",
       "      <td>74</td>\n",
       "    </tr>\n",
       "    <tr>\n",
       "      <th>3</th>\n",
       "      <td>68/4554668_1980-08-04_2013.jpg</td>\n",
       "      <td>1.0</td>\n",
       "      <td>33</td>\n",
       "    </tr>\n",
       "    <tr>\n",
       "      <th>4</th>\n",
       "      <td>88/9288_1935-01-08_1957.jpg</td>\n",
       "      <td>1.0</td>\n",
       "      <td>22</td>\n",
       "    </tr>\n",
       "  </tbody>\n",
       "</table>\n",
       "</div>"
      ],
      "text/plain": [
       "                         full_path  gender  age\n",
       "0  65/40839965_1975-03-07_2013.jpg     1.0   38\n",
       "1  48/26219548_1931-10-23_2009.jpg     1.0   78\n",
       "2    62/543262_1934-11-13_2008.jpg     1.0   74\n",
       "3   68/4554668_1980-08-04_2013.jpg     1.0   33\n",
       "4      88/9288_1935-01-08_1957.jpg     1.0   22"
      ]
     },
     "execution_count": 7,
     "metadata": {},
     "output_type": "execute_result"
    }
   ],
   "source": [
    "valid.head()"
   ]
  },
  {
   "cell_type": "code",
   "execution_count": 8,
   "metadata": {
    "collapsed": false,
    "deletable": true,
    "editable": true
   },
   "outputs": [],
   "source": [
    "true_path = lambda x: IMG_PATH % x\n",
    "train[\"full_path\"] = train[\"full_path\"].apply(lambda x: true_path(x))\n",
    "valid[\"full_path\"] = valid[\"full_path\"].apply(lambda x: true_path(x))"
   ]
  },
  {
   "cell_type": "code",
   "execution_count": 9,
   "metadata": {
    "collapsed": false,
    "deletable": true,
    "editable": true
   },
   "outputs": [],
   "source": [
    "def get_image(x):\n",
    "    try:\n",
    "        val = img_to_array(imresize(load_img(x),IMG_DIMS))\n",
    "    except:\n",
    "        val = \"ERR\"\n",
    "    return val\n",
    "\n",
    "def generate_data(df):\n",
    "    while True:\n",
    "        size = 200\n",
    "        data = df.sample(frac=1).reset_index(drop=True)\n",
    "        sample  = data.ix[range(32)]\n",
    "        sample.reset_index(inplace=True)\n",
    "        \n",
    "        sample[\"new_path\"] = sample[\"full_path\"].apply( lambda x:get_image(x))\n",
    "        sample = sample[sample[\"new_path\"] != \"ERR\"]\n",
    "        sample.reset_index(inplace=True)\n",
    "        \n",
    "        X = sample\n",
    "        X = X[\"new_path\"].apply(lambda x: x.reshape((1,)+ x.shape))\n",
    "        X = np.vstack(X)\n",
    "        \n",
    "        Y = sample[\"age\"].as_matrix()\n",
    "        yield (X,Y)"
   ]
  },
  {
   "cell_type": "code",
   "execution_count": 10,
   "metadata": {
    "collapsed": false,
    "deletable": true,
    "editable": true
   },
   "outputs": [],
   "source": [
    "train_generator = generate_data(train)\n",
    "valid_generator = generate_data(valid)"
   ]
  },
  {
   "cell_type": "code",
   "execution_count": 11,
   "metadata": {
    "collapsed": false,
    "deletable": true,
    "editable": true
   },
   "outputs": [],
   "source": [
    "# Building a vainilla CNN\n",
    "vainilla_cnn = Sequential()\n",
    "vainilla_cnn.add(Convolution2D(15, 3, 3, input_shape=(IMG_WIDTH,IMG_HEIGHT,3), name='conv1_1'))\n",
    "vainilla_cnn.add(LeakyReLU(alpha=0.3))\n",
    "vainilla_cnn.add(MaxPooling2D(pool_size=(2, 2)))\n",
    "vainilla_cnn.add(Dropout(0.25))\n",
    "\n",
    "vainilla_cnn.add(Convolution2D(30, 3, 3))\n",
    "vainilla_cnn.add(LeakyReLU(alpha=0.3))\n",
    "\n",
    "vainilla_cnn.add(Convolution2D(60, 3, 3))\n",
    "vainilla_cnn.add(LeakyReLU(alpha=0.3))\n",
    "vainilla_cnn.add(Dropout(0.75))\n",
    "\n",
    "vainilla_cnn.add(Convolution2D(30, 3, 3))\n",
    "vainilla_cnn.add(LeakyReLU(alpha=0.3))\n",
    "\n",
    "vainilla_cnn.add(Convolution2D(15, 3, 3))\n",
    "vainilla_cnn.add(LeakyReLU(alpha=0.3))\n",
    "vainilla_cnn.add(MaxPooling2D(pool_size=(2, 2)))\n",
    "vainilla_cnn.add(Dropout(0.5))\n",
    "\n",
    "vainilla_cnn.add(Flatten())\n",
    "vainilla_cnn.add(Dense(output_dim=1000))\n",
    "vainilla_cnn.add(Dropout(0.25))\n",
    "vainilla_cnn.add(BatchNormalization())\n",
    "vainilla_cnn.add(Activation(\"relu\"))\n",
    "vainilla_cnn.add(Dense(output_dim=500))\n",
    "vainilla_cnn.add(BatchNormalization())\n",
    "vainilla_cnn.add(Activation(\"relu\"))\n",
    "vainilla_cnn.add(Dense(output_dim=400))\n",
    "vainilla_cnn.add(BatchNormalization())\n",
    "vainilla_cnn.add(Activation(\"relu\"))\n",
    "vainilla_cnn.add(Dense(output_dim=200))\n",
    "vainilla_cnn.add(BatchNormalization())\n",
    "vainilla_cnn.add(Activation(\"relu\"))\n",
    "vainilla_cnn.add(Dense(output_dim=100, input_dim=200))\n",
    "vainilla_cnn.add(BatchNormalization())\n",
    "vainilla_cnn.add(Activation(\"relu\"))\n",
    "vainilla_cnn.add(Dropout(0.5))\n",
    "vainilla_cnn.add(Dense(output_dim=1))"
   ]
  },
  {
   "cell_type": "code",
   "execution_count": 14,
   "metadata": {
    "collapsed": false,
    "deletable": true,
    "editable": true
   },
   "outputs": [],
   "source": [
    "# Compile\n",
    "vainilla_cnn.compile(loss='mean_squared_error', optimizer=keras.optimizers.SGD(lr=0.001, momentum=0.9, nesterov=True), metrics=['mse'])"
   ]
  },
  {
   "cell_type": "code",
   "execution_count": null,
   "metadata": {
    "collapsed": false,
    "deletable": true,
    "editable": true
   },
   "outputs": [],
   "source": [
    "# Train\n",
    "history = vainilla_cnn.fit_generator(train_generator, \n",
    "                           validation_data=valid_generator,\n",
    "                           nb_val_samples=200,\n",
    "                           samples_per_epoch=200, \n",
    "                           nb_epoch=200)"
   ]
  },
  {
   "cell_type": "code",
   "execution_count": null,
   "metadata": {
    "collapsed": false,
    "deletable": true,
    "editable": true
   },
   "outputs": [],
   "source": [
    " # Plotting training accuracy and testing accuracy acros epochs\n",
    "plt.figure(figsize=(20,10))\n",
    "plt.plot(history.history['mean_squared_error'])\n",
    "plt.plot(history.history['val_mean_squared_error'])\n",
    "plt.title('Training and Validation MSE')\n",
    "plt.ylabel('MSE')\n",
    "plt.xlabel('epoch')\n",
    "plt.legend(['train', 'test'], loc='upper left')\n",
    "plt.show()"
   ]
  },
  {
   "cell_type": "code",
   "execution_count": null,
   "metadata": {
    "collapsed": false,
    "deletable": true,
    "editable": true
   },
   "outputs": [],
   "source": [
    "raise Ex"
   ]
  },
  {
   "cell_type": "code",
   "execution_count": null,
   "metadata": {
    "collapsed": false,
    "deletable": true,
    "editable": true
   },
   "outputs": [],
   "source": [
    "# serialize model to JSON\n",
    "model_json = vainilla_cnn.to_json()\n",
    "with open(\"model.json\", \"w\") as json_file:\n",
    "    json_file.write(model_json)\n",
    "# serialize weights to HDF5\n",
    "vainilla_cnn.save_weights(\"model.h5\")\n",
    "print(\"Saved model to disk\")"
   ]
  }
 ],
 "metadata": {
  "kernelspec": {
   "display_name": "Python 2",
   "language": "python",
   "name": "python2"
  },
  "language_info": {
   "codemirror_mode": {
    "name": "ipython",
    "version": 2
   },
   "file_extension": ".py",
   "mimetype": "text/x-python",
   "name": "python",
   "nbconvert_exporter": "python",
   "pygments_lexer": "ipython2",
   "version": "2.7.6"
  }
 },
 "nbformat": 4,
 "nbformat_minor": 2
}
