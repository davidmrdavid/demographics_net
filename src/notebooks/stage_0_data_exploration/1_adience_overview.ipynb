{
 "cells": [
  {
   "cell_type": "markdown",
   "metadata": {
    "deletable": true,
    "editable": true
   },
   "source": [
    "<center><h1>1. Adience Overview</h1></center>"
   ]
  },
  {
   "cell_type": "markdown",
   "metadata": {
    "deletable": true,
    "editable": true
   },
   "source": [
    "## About this notebook"
   ]
  },
  {
   "cell_type": "markdown",
   "metadata": {
    "deletable": true,
    "editable": true
   },
   "source": [
    "In order to evaluate our model, we need to split our available data intro training, validation and testing portions. That way, we can use the traning split to learn parameters, the validation set to decide on hyperparameters and the testing set to determine the final performance of our models unseen data. This method of model evaluation is called <b>Cross Validation</b>.\n",
    "\n",
    "However, it is often problematic to decide on which portions of the dataset should be used for training, testing and validation because the quality of the splits has a non-trivial effect on the model's performance. Luckily enough, the question of which portion to use for testing is already answered by the Adience Benchmark guidelines. More precisely, the 5th fold - that would be the fold4 because the folds are indexed starting at 0- is to be used as the testing set.\n",
    "\n",
    "With that question out of the way, we're still concerned with how to split the remaining data into a training and validation split. The technique of <b>K-Fold Cross Validation</b> answer this question by creating K different training and validation splits out of the remaining data, then testing our model and all of them and having the average performance of our models on all splits be our measure of accuracy / 'goodness'. We'll be using a specific variant of K-Fold Cross Validation called <b>Stratified K-Fold Cross Validation</b>.\n",
    "\n",
    "Stratified K-Fold Cross Validation forces the K different training-validation splits to have roughly the same distribution of classes in each of them. The idea here is to prevent any fold from having a non-trivial excess of a given class that would then bias the classifier created on it.\n",
    "\n",
    "Lastly, after our folds have been created, we'll organize them into directories in such a way that Keras's Image Processing tools can make use of it without extra -often hacky- workarounds"
   ]
  },
  {
   "cell_type": "markdown",
   "metadata": {
    "deletable": true,
    "editable": true
   },
   "source": [
    "## Suggested Sources"
   ]
  },
  {
   "cell_type": "markdown",
   "metadata": {
    "deletable": true,
    "editable": true
   },
   "source": [
    "If the explanation above didn't quite make sense. I recommend reviewing the sources below.\n",
    "\n",
    "1. https://www.youtube.com/watch?v=TIgfjmp-4BA\n",
    "2. stats.stackexchange.com/questions/117643/why-use-stratified-cross-validation-why-does-this-not-damage-variance-related-b"
   ]
  },
  {
   "cell_type": "markdown",
   "metadata": {
    "deletable": true,
    "editable": true
   },
   "source": [
    "## Creating the foundational splits on the Adience Benchmark"
   ]
  },
  {
   "cell_type": "markdown",
   "metadata": {
    "deletable": true,
    "editable": true
   },
   "source": [
    "Adience Benchmark source: http://www.openu.ac.il/home/hassner/Adience/data.html"
   ]
  },
  {
   "cell_type": "code",
   "execution_count": 1,
   "metadata": {
    "collapsed": false,
    "deletable": true,
    "editable": true
   },
   "outputs": [],
   "source": [
    "# Necessary imports\n",
    "import os\n",
    "import pandas as pd\n",
    "import numpy  as np\n",
    "from sklearn.model_selection import StratifiedShuffleSplit"
   ]
  },
  {
   "cell_type": "code",
   "execution_count": 2,
   "metadata": {
    "collapsed": true,
    "deletable": true,
    "editable": true
   },
   "outputs": [],
   "source": [
    "# Ensure reproducibility\n",
    "np.random.seed(0)"
   ]
  },
  {
   "cell_type": "code",
   "execution_count": 3,
   "metadata": {
    "collapsed": true,
    "deletable": true,
    "editable": true
   },
   "outputs": [],
   "source": [
    "# Path constants\n",
    "ADIENCE_TEMPALTE  = \"../../data/adience/%s\"\n",
    "METADATA_TEMPLATE = \"../../data/adience/meta/fold_%s_data.txt\"\n",
    "IMG_TEMPLATE      = \"../../data/adience/aligned/%s/landmark_aligned_face.%d.%s\"\n",
    "\n",
    "AGE_TRAIN_TEMPLATE = \"../../data/adience/keras_format/age/train/%d/%s/%d.jpg\"\n",
    "AGE_VALID_TEMPLATE = \"../../data/adience/keras_format/age/valid/%d/%s/%d.jpg\"\n",
    "AGE_TEST_TEMPLATE  = \"../../data/adience/keras_format/age/test/%s/%d.jpg\"\n",
    "\n",
    "GENDER_TRAIN_TEMPLATE = \"../../data/adience/keras_format/gender/train/%d/%s/%d.jpg\"\n",
    "GENDER_VALID_TEMPLATE = \"../../data/adience/keras_format/gender/valid/%d/%s/%d.jpg\"\n",
    "GENDER_TEST_TEMPLATE  = \"../../data/adience/keras_format/gender/test/%s/%d.jpg\"\n",
    "\n",
    "RELEVANT_COLS = [\"user_id\",\"face_id\",\"original_image\",\"gender\",\"age\"]\n",
    "\n",
    "META_SAVE_TEMPLATE = \"../../data/adience/meta/%s_%d.csv\""
   ]
  },
  {
   "cell_type": "code",
   "execution_count": 4,
   "metadata": {
    "collapsed": true,
    "deletable": true,
    "editable": true
   },
   "outputs": [],
   "source": [
    "# Indepdendent constants\n",
    "NUM_TRAIN_FOLDS = 4\n",
    "IDX_TEST_FOLD   = 4\n",
    "NUM_SPLITS      = 5"
   ]
  },
  {
   "cell_type": "code",
   "execution_count": 5,
   "metadata": {
    "collapsed": true,
    "deletable": true,
    "editable": true
   },
   "outputs": [],
   "source": [
    "# Dependendent constants\n",
    "METADATA_TEST = METADATA_TEMPLATE % IDX_TEST_FOLD"
   ]
  },
  {
   "cell_type": "code",
   "execution_count": 6,
   "metadata": {
    "collapsed": false,
    "deletable": true,
    "editable": true
   },
   "outputs": [],
   "source": [
    "# Extracting the test partition and \n",
    "# creating a combined train_validation (trvl) superset\n",
    "\n",
    "folds = []\n",
    "for index in range(NUM_TRAIN_FOLDS):\n",
    "    path = METADATA_TEMPLATE % index\n",
    "    folds.append(pd.read_csv(filepath_or_buffer=path, sep=\"\\t\"))\n",
    "    \n",
    "trvl_meta = pd.concat(folds, ignore_index=True)\n",
    "test_meta = pd.read_csv(filepath_or_buffer=METADATA_TEST, sep=\"\\t\")\n",
    "\n",
    "trvl_meta = trvl_meta[RELEVANT_COLS]\n",
    "test_meta = test_meta[RELEVANT_COLS]"
   ]
  },
  {
   "cell_type": "markdown",
   "metadata": {
    "deletable": true,
    "editable": true
   },
   "source": [
    "At this point, we've created an initial partition of our dataset into a testing split and its complement. Both splits still need more processing before they're ready for primetime"
   ]
  },
  {
   "cell_type": "markdown",
   "metadata": {
    "deletable": true,
    "editable": true
   },
   "source": [
    "## Overview of current splits"
   ]
  },
  {
   "cell_type": "markdown",
   "metadata": {
    "deletable": true,
    "editable": true
   },
   "source": [
    "### Testing split"
   ]
  },
  {
   "cell_type": "code",
   "execution_count": 7,
   "metadata": {
    "collapsed": false,
    "deletable": true,
    "editable": true
   },
   "outputs": [
    {
     "data": {
      "text/html": [
       "<div>\n",
       "<table border=\"1\" class=\"dataframe\">\n",
       "  <thead>\n",
       "    <tr style=\"text-align: right;\">\n",
       "      <th></th>\n",
       "      <th>user_id</th>\n",
       "      <th>face_id</th>\n",
       "      <th>original_image</th>\n",
       "      <th>gender</th>\n",
       "      <th>age</th>\n",
       "    </tr>\n",
       "  </thead>\n",
       "  <tbody>\n",
       "    <tr>\n",
       "      <th>0</th>\n",
       "      <td>115321157@N03</td>\n",
       "      <td>1744</td>\n",
       "      <td>12111738395_a7f715aa4e_o.jpg</td>\n",
       "      <td>m</td>\n",
       "      <td>(4, 6)</td>\n",
       "    </tr>\n",
       "    <tr>\n",
       "      <th>1</th>\n",
       "      <td>115321157@N03</td>\n",
       "      <td>1745</td>\n",
       "      <td>12112413505_0aea8e17c6_o.jpg</td>\n",
       "      <td>m</td>\n",
       "      <td>(48, 53)</td>\n",
       "    </tr>\n",
       "    <tr>\n",
       "      <th>2</th>\n",
       "      <td>115321157@N03</td>\n",
       "      <td>1744</td>\n",
       "      <td>12112392255_995532c2f0_o.jpg</td>\n",
       "      <td>m</td>\n",
       "      <td>(4, 6)</td>\n",
       "    </tr>\n",
       "    <tr>\n",
       "      <th>3</th>\n",
       "      <td>115321157@N03</td>\n",
       "      <td>1746</td>\n",
       "      <td>12112392255_995532c2f0_o.jpg</td>\n",
       "      <td>m</td>\n",
       "      <td>(25, 32)</td>\n",
       "    </tr>\n",
       "    <tr>\n",
       "      <th>4</th>\n",
       "      <td>115321157@N03</td>\n",
       "      <td>1747</td>\n",
       "      <td>12112392255_995532c2f0_o.jpg</td>\n",
       "      <td>m</td>\n",
       "      <td>(25, 32)</td>\n",
       "    </tr>\n",
       "  </tbody>\n",
       "</table>\n",
       "</div>"
      ],
      "text/plain": [
       "         user_id  face_id                original_image gender       age\n",
       "0  115321157@N03     1744  12111738395_a7f715aa4e_o.jpg      m    (4, 6)\n",
       "1  115321157@N03     1745  12112413505_0aea8e17c6_o.jpg      m  (48, 53)\n",
       "2  115321157@N03     1744  12112392255_995532c2f0_o.jpg      m    (4, 6)\n",
       "3  115321157@N03     1746  12112392255_995532c2f0_o.jpg      m  (25, 32)\n",
       "4  115321157@N03     1747  12112392255_995532c2f0_o.jpg      m  (25, 32)"
      ]
     },
     "execution_count": 7,
     "metadata": {},
     "output_type": "execute_result"
    }
   ],
   "source": [
    "test_meta.head()"
   ]
  },
  {
   "cell_type": "code",
   "execution_count": 8,
   "metadata": {
    "collapsed": false,
    "deletable": true,
    "editable": true
   },
   "outputs": [
    {
     "data": {
      "text/plain": [
       "(3816, 5)"
      ]
     },
     "execution_count": 8,
     "metadata": {},
     "output_type": "execute_result"
    }
   ],
   "source": [
    "test_meta.shape"
   ]
  },
  {
   "cell_type": "code",
   "execution_count": 9,
   "metadata": {
    "collapsed": false,
    "deletable": true,
    "editable": true
   },
   "outputs": [
    {
     "data": {
      "text/plain": [
       "f    1848\n",
       "m    1597\n",
       "u     286\n",
       "Name: gender, dtype: int64"
      ]
     },
     "execution_count": 9,
     "metadata": {},
     "output_type": "execute_result"
    }
   ],
   "source": [
    "test_meta[\"gender\"].value_counts()"
   ]
  },
  {
   "cell_type": "code",
   "execution_count": 10,
   "metadata": {
    "collapsed": false,
    "deletable": true,
    "editable": true
   },
   "outputs": [
    {
     "data": {
      "text/plain": [
       "(25, 32)     1056\n",
       "(4, 6)        570\n",
       "(38, 43)      502\n",
       "(0, 2)        483\n",
       "(8, 12)       340\n",
       "(60, 100)     257\n",
       "(48, 53)      241\n",
       "(15, 20)      227\n",
       "None           62\n",
       "35             36\n",
       "57             17\n",
       "55             11\n",
       "45              6\n",
       "(38, 48)        5\n",
       "32              3\n",
       "Name: age, dtype: int64"
      ]
     },
     "execution_count": 10,
     "metadata": {},
     "output_type": "execute_result"
    }
   ],
   "source": [
    "test_meta[\"age\"].value_counts()"
   ]
  },
  {
   "cell_type": "markdown",
   "metadata": {
    "deletable": true,
    "editable": true
   },
   "source": [
    "Aha! There are 'None'-valued ages. That's problematic. We'll need to do something about those. Thanfully, it's apparently only a few"
   ]
  },
  {
   "cell_type": "code",
   "execution_count": 11,
   "metadata": {
    "collapsed": false,
    "deletable": true,
    "editable": true
   },
   "outputs": [
    {
     "data": {
      "text/plain": [
       "True"
      ]
     },
     "execution_count": 11,
     "metadata": {},
     "output_type": "execute_result"
    }
   ],
   "source": [
    "test_meta.isnull().values.any()"
   ]
  },
  {
   "cell_type": "markdown",
   "metadata": {
    "deletable": true,
    "editable": true
   },
   "source": [
    "This is unexpected, there are null / NaN values in this split. Let us inspect that further"
   ]
  },
  {
   "cell_type": "code",
   "execution_count": 12,
   "metadata": {
    "collapsed": false,
    "deletable": true,
    "editable": true
   },
   "outputs": [
    {
     "data": {
      "text/html": [
       "<div>\n",
       "<table border=\"1\" class=\"dataframe\">\n",
       "  <thead>\n",
       "    <tr style=\"text-align: right;\">\n",
       "      <th></th>\n",
       "      <th>user_id</th>\n",
       "      <th>face_id</th>\n",
       "      <th>original_image</th>\n",
       "      <th>gender</th>\n",
       "      <th>age</th>\n",
       "    </tr>\n",
       "  </thead>\n",
       "  <tbody>\n",
       "    <tr>\n",
       "      <th>2805</th>\n",
       "      <td>7285955@N06</td>\n",
       "      <td>2059</td>\n",
       "      <td>9489513876_86d04ff460_o.jpg</td>\n",
       "      <td>NaN</td>\n",
       "      <td>None</td>\n",
       "    </tr>\n",
       "    <tr>\n",
       "      <th>3091</th>\n",
       "      <td>8007224@N07</td>\n",
       "      <td>2118</td>\n",
       "      <td>8917875562_c7925a4e2b_o.jpg</td>\n",
       "      <td>NaN</td>\n",
       "      <td>(25, 32)</td>\n",
       "    </tr>\n",
       "    <tr>\n",
       "      <th>3092</th>\n",
       "      <td>8007224@N07</td>\n",
       "      <td>2118</td>\n",
       "      <td>8755673180_d6945bff9f_o.jpg</td>\n",
       "      <td>NaN</td>\n",
       "      <td>(25, 32)</td>\n",
       "    </tr>\n",
       "    <tr>\n",
       "      <th>3096</th>\n",
       "      <td>8007224@N07</td>\n",
       "      <td>2118</td>\n",
       "      <td>11866643475_3a8d5ef09f_o.jpg</td>\n",
       "      <td>NaN</td>\n",
       "      <td>(25, 32)</td>\n",
       "    </tr>\n",
       "    <tr>\n",
       "      <th>3103</th>\n",
       "      <td>8007224@N07</td>\n",
       "      <td>2118</td>\n",
       "      <td>8917875226_98976f714e_o.jpg</td>\n",
       "      <td>NaN</td>\n",
       "      <td>(25, 32)</td>\n",
       "    </tr>\n",
       "  </tbody>\n",
       "</table>\n",
       "</div>"
      ],
      "text/plain": [
       "          user_id  face_id                original_image gender       age\n",
       "2805  7285955@N06     2059   9489513876_86d04ff460_o.jpg    NaN      None\n",
       "3091  8007224@N07     2118   8917875562_c7925a4e2b_o.jpg    NaN  (25, 32)\n",
       "3092  8007224@N07     2118   8755673180_d6945bff9f_o.jpg    NaN  (25, 32)\n",
       "3096  8007224@N07     2118  11866643475_3a8d5ef09f_o.jpg    NaN  (25, 32)\n",
       "3103  8007224@N07     2118   8917875226_98976f714e_o.jpg    NaN  (25, 32)"
      ]
     },
     "execution_count": 12,
     "metadata": {},
     "output_type": "execute_result"
    }
   ],
   "source": [
    "test_meta[test_meta.isnull().any(axis=1)].head()"
   ]
  },
  {
   "cell_type": "markdown",
   "metadata": {
    "deletable": true,
    "editable": true
   },
   "source": [
    "### test complement set"
   ]
  },
  {
   "cell_type": "code",
   "execution_count": 13,
   "metadata": {
    "collapsed": false,
    "deletable": true,
    "editable": true
   },
   "outputs": [
    {
     "data": {
      "text/html": [
       "<div>\n",
       "<table border=\"1\" class=\"dataframe\">\n",
       "  <thead>\n",
       "    <tr style=\"text-align: right;\">\n",
       "      <th></th>\n",
       "      <th>user_id</th>\n",
       "      <th>face_id</th>\n",
       "      <th>original_image</th>\n",
       "      <th>gender</th>\n",
       "      <th>age</th>\n",
       "    </tr>\n",
       "  </thead>\n",
       "  <tbody>\n",
       "    <tr>\n",
       "      <th>0</th>\n",
       "      <td>30601258@N03</td>\n",
       "      <td>1</td>\n",
       "      <td>10399646885_67c7d20df9_o.jpg</td>\n",
       "      <td>f</td>\n",
       "      <td>(25, 32)</td>\n",
       "    </tr>\n",
       "    <tr>\n",
       "      <th>1</th>\n",
       "      <td>30601258@N03</td>\n",
       "      <td>2</td>\n",
       "      <td>10424815813_e94629b1ec_o.jpg</td>\n",
       "      <td>m</td>\n",
       "      <td>(25, 32)</td>\n",
       "    </tr>\n",
       "    <tr>\n",
       "      <th>2</th>\n",
       "      <td>30601258@N03</td>\n",
       "      <td>1</td>\n",
       "      <td>10437979845_5985be4b26_o.jpg</td>\n",
       "      <td>f</td>\n",
       "      <td>(25, 32)</td>\n",
       "    </tr>\n",
       "    <tr>\n",
       "      <th>3</th>\n",
       "      <td>30601258@N03</td>\n",
       "      <td>3</td>\n",
       "      <td>10437979845_5985be4b26_o.jpg</td>\n",
       "      <td>m</td>\n",
       "      <td>(25, 32)</td>\n",
       "    </tr>\n",
       "    <tr>\n",
       "      <th>4</th>\n",
       "      <td>30601258@N03</td>\n",
       "      <td>2</td>\n",
       "      <td>11816644924_075c3d8d59_o.jpg</td>\n",
       "      <td>m</td>\n",
       "      <td>(25, 32)</td>\n",
       "    </tr>\n",
       "  </tbody>\n",
       "</table>\n",
       "</div>"
      ],
      "text/plain": [
       "        user_id  face_id                original_image gender       age\n",
       "0  30601258@N03        1  10399646885_67c7d20df9_o.jpg      f  (25, 32)\n",
       "1  30601258@N03        2  10424815813_e94629b1ec_o.jpg      m  (25, 32)\n",
       "2  30601258@N03        1  10437979845_5985be4b26_o.jpg      f  (25, 32)\n",
       "3  30601258@N03        3  10437979845_5985be4b26_o.jpg      m  (25, 32)\n",
       "4  30601258@N03        2  11816644924_075c3d8d59_o.jpg      m  (25, 32)"
      ]
     },
     "execution_count": 13,
     "metadata": {},
     "output_type": "execute_result"
    }
   ],
   "source": [
    "trvl_meta.head()"
   ]
  },
  {
   "cell_type": "code",
   "execution_count": 14,
   "metadata": {
    "collapsed": false,
    "deletable": true,
    "editable": true
   },
   "outputs": [
    {
     "data": {
      "text/plain": [
       "(15554, 5)"
      ]
     },
     "execution_count": 14,
     "metadata": {},
     "output_type": "execute_result"
    }
   ],
   "source": [
    "trvl_meta.shape"
   ]
  },
  {
   "cell_type": "code",
   "execution_count": 15,
   "metadata": {
    "collapsed": false,
    "deletable": true,
    "editable": true
   },
   "outputs": [
    {
     "data": {
      "text/plain": [
       "f    7524\n",
       "m    6523\n",
       "u     813\n",
       "Name: gender, dtype: int64"
      ]
     },
     "execution_count": 15,
     "metadata": {},
     "output_type": "execute_result"
    }
   ],
   "source": [
    "trvl_meta[\"gender\"].value_counts()"
   ]
  },
  {
   "cell_type": "code",
   "execution_count": 16,
   "metadata": {
    "collapsed": false,
    "deletable": true,
    "editable": true
   },
   "outputs": [
    {
     "data": {
      "text/plain": [
       "(25, 32)     3948\n",
       "(0, 2)       2005\n",
       "(38, 43)     1791\n",
       "(8, 12)      1784\n",
       "(4, 6)       1570\n",
       "(15, 20)     1415\n",
       "None          686\n",
       "(60, 100)     615\n",
       "(48, 53)      589\n",
       "35            257\n",
       "13            168\n",
       "22            149\n",
       "34            105\n",
       "23             96\n",
       "45             82\n",
       "(27, 32)       77\n",
       "55             65\n",
       "36             56\n",
       "(38, 42)       46\n",
       "3              18\n",
       "29             11\n",
       "57              7\n",
       "58              5\n",
       "2               3\n",
       "56              2\n",
       "42              1\n",
       "(38, 48)        1\n",
       "46              1\n",
       "(8, 23)         1\n",
       "Name: age, dtype: int64"
      ]
     },
     "execution_count": 16,
     "metadata": {},
     "output_type": "execute_result"
    }
   ],
   "source": [
    "trvl_meta[\"age\"].value_counts()"
   ]
  },
  {
   "cell_type": "markdown",
   "metadata": {
    "deletable": true,
    "editable": true
   },
   "source": [
    "This is weird. There should not be ages outside ranges. Let's look into this as well"
   ]
  },
  {
   "cell_type": "code",
   "execution_count": 17,
   "metadata": {
    "collapsed": false,
    "deletable": true,
    "editable": true
   },
   "outputs": [
    {
     "data": {
      "text/plain": [
       "True"
      ]
     },
     "execution_count": 17,
     "metadata": {},
     "output_type": "execute_result"
    }
   ],
   "source": [
    "trvl_meta.isnull().values.any()"
   ]
  },
  {
   "cell_type": "markdown",
   "metadata": {
    "deletable": true,
    "editable": true
   },
   "source": [
    "Is is TRUE that there are NaN value in this set as well. We'll have to fix it too"
   ]
  },
  {
   "cell_type": "markdown",
   "metadata": {
    "deletable": true,
    "editable": true
   },
   "source": [
    "## Fixing dataset inconsistencies and filling missing values"
   ]
  },
  {
   "cell_type": "markdown",
   "metadata": {
    "deletable": true,
    "editable": true
   },
   "source": [
    "The summaries above show problems with the dataset. Namely, NaNs as gender values, None as age values and inconsistent / overlapping labels for age. We address those issues right here."
   ]
  },
  {
   "cell_type": "markdown",
   "metadata": {
    "deletable": true,
    "editable": true
   },
   "source": [
    "### Dropping rows with NaN gender and None age simultaneously"
   ]
  },
  {
   "cell_type": "markdown",
   "metadata": {
    "deletable": true,
    "editable": true
   },
   "source": [
    "Rows with NaN gender and None age are the most problematic because we cannot average any values in order to 'guesstimate' their real values. A possible solution would be to fill in those values by running a state-of-the-art model such as Face++ or Microsofts' Facial Features model but we think that'd be unecessary given that there aren't that many rows with these two characteristics at the same time"
   ]
  },
  {
   "cell_type": "code",
   "execution_count": 18,
   "metadata": {
    "collapsed": false,
    "deletable": true,
    "editable": true
   },
   "outputs": [],
   "source": [
    "# Conditions for dropping\n",
    "NaN_gender_trvl = trvl_meta[\"gender\"].isnull()\n",
    "None_age_trvl   = trvl_meta[\"age\"] == \"None\"\n",
    "trvl_bad_rows    = NaN_gender_trvl & None_age_trvl\n",
    "trvl_bad_indices = trvl_meta[trvl_bad_rows].index.values\n",
    "\n",
    "# Dropping rows when two conditions are present\n",
    "trvl_meta.drop(labels=trvl_bad_indices, inplace=True)"
   ]
  },
  {
   "cell_type": "code",
   "execution_count": 19,
   "metadata": {
    "collapsed": false,
    "deletable": true,
    "editable": true
   },
   "outputs": [],
   "source": [
    "# Conditions for dropping\n",
    "NaN_gender_test = test_meta[\"gender\"].isnull()\n",
    "None_age_test   = test_meta[\"age\"] == \"None\"\n",
    "test_bad_rows   = NaN_gender_test & None_age_test\n",
    "test_bad_indices = test_meta[test_bad_rows].index.values\n",
    "\n",
    "# Dropping rows when two conditions are present\n",
    "test_meta.drop(labels=test_bad_indices, inplace=True)"
   ]
  },
  {
   "cell_type": "markdown",
   "metadata": {
    "deletable": true,
    "editable": true
   },
   "source": [
    "### Fixing bad age ranges"
   ]
  },
  {
   "cell_type": "markdown",
   "metadata": {
    "deletable": true,
    "editable": true
   },
   "source": [
    "We already know that some of the age labels for some reason are not declared as a range, as most other labels, but instead as a single number. This is problematic. The next section transform real, continuous ages into their matching ranges"
   ]
  },
  {
   "cell_type": "markdown",
   "metadata": {
    "deletable": true,
    "editable": true
   },
   "source": [
    "#### Testing complement"
   ]
  },
  {
   "cell_type": "code",
   "execution_count": 20,
   "metadata": {
    "collapsed": false,
    "deletable": true,
    "editable": true
   },
   "outputs": [
    {
     "data": {
      "text/plain": [
       "(25, 32)     3948\n",
       "(0, 2)       2005\n",
       "(38, 43)     1791\n",
       "(8, 12)      1784\n",
       "(4, 6)       1570\n",
       "(15, 20)     1415\n",
       "(60, 100)     615\n",
       "(48, 53)      589\n",
       "35            257\n",
       "13            168\n",
       "22            149\n",
       "34            105\n",
       "23             96\n",
       "45             82\n",
       "(27, 32)       77\n",
       "55             65\n",
       "36             56\n",
       "(38, 42)       46\n",
       "None           40\n",
       "3              18\n",
       "29             11\n",
       "57              7\n",
       "58              5\n",
       "2               3\n",
       "56              2\n",
       "42              1\n",
       "(38, 48)        1\n",
       "46              1\n",
       "(8, 23)         1\n",
       "Name: age, dtype: int64"
      ]
     },
     "execution_count": 20,
     "metadata": {},
     "output_type": "execute_result"
    }
   ],
   "source": [
    "trvl_meta[\"age\"].value_counts()"
   ]
  },
  {
   "cell_type": "markdown",
   "metadata": {
    "deletable": true,
    "editable": true
   },
   "source": [
    "So we see that there are a lot of ages that are not in range format. Since the number of such occurences is rather limited. We'll fix them manually in the cell below."
   ]
  },
  {
   "cell_type": "code",
   "execution_count": 21,
   "metadata": {
    "collapsed": false,
    "deletable": true,
    "editable": true
   },
   "outputs": [],
   "source": [
    "trvl_meta[\"age\"] = trvl_meta[\"age\"].replace(\"13\",\"(8, 13)\")\n",
    "trvl_meta[\"age\"] = trvl_meta[\"age\"].replace(\"(8, 12)\",\"(8, 13)\")\n",
    "trvl_meta[\"age\"] = trvl_meta[\"age\"].replace(\"42\",\"(38, 43)\")\n",
    "trvl_meta[\"age\"] = trvl_meta[\"age\"].replace(\"2\",\"(0, 2)\")\n",
    "trvl_meta[\"age\"] = trvl_meta[\"age\"].replace(\"29\",\"(25, 32)\")"
   ]
  },
  {
   "cell_type": "markdown",
   "metadata": {
    "deletable": true,
    "editable": true
   },
   "source": [
    "What follows is a non-trivial change. For some reason, some of the ages don't fit into the supposed labeled ranges in the dataset. So we're gonna have to take some ages and simply group them inside their closest label, which will not necessary extend to the right range"
   ]
  },
  {
   "cell_type": "code",
   "execution_count": 22,
   "metadata": {
    "collapsed": false,
    "deletable": true,
    "editable": true
   },
   "outputs": [],
   "source": [
    "trvl_meta[\"age\"] = trvl_meta[\"age\"].replace(\"35\",\"(25, 32)\")\n",
    "trvl_meta[\"age\"] = trvl_meta[\"age\"].replace(\"22\",\"(15, 20)\")\n",
    "trvl_meta[\"age\"] = trvl_meta[\"age\"].replace(\"34\",\"(25, 32)\")\n",
    "trvl_meta[\"age\"] = trvl_meta[\"age\"].replace(\"23\",\"(25, 32)\")\n",
    "trvl_meta[\"age\"] = trvl_meta[\"age\"].replace(\"45\",\"(48, 53)\")\n",
    "trvl_meta[\"age\"] = trvl_meta[\"age\"].replace(\"55\",\"(48, 53)\")\n",
    "trvl_meta[\"age\"] = trvl_meta[\"age\"].replace(\"36\",\"(38, 43)\")\n",
    "trvl_meta[\"age\"] = trvl_meta[\"age\"].replace(\"3\",\"(0, 2)\")\n",
    "\n",
    "\n",
    "trvl_meta[\"age\"] = trvl_meta[\"age\"].replace(\"57\",\"(60, 100)\")\n",
    "trvl_meta[\"age\"] = trvl_meta[\"age\"].replace(\"58\",\"(60, 100)\")\n",
    "trvl_meta[\"age\"] = trvl_meta[\"age\"].replace(\"56\",\"(60, 100)\")\n",
    "trvl_meta[\"age\"] = trvl_meta[\"age\"].replace(\"46\",\"(48, 53)\")\n",
    "trvl_meta[\"age\"] = trvl_meta[\"age\"].replace(\"(27, 32)\",\"(25, 32)\")\n",
    "trvl_meta[\"age\"] = trvl_meta[\"age\"].replace(\"(38, 48)\",\"(38, 43)\")\n",
    "trvl_meta[\"age\"] = trvl_meta[\"age\"].replace(\"(38, 42)\",\"(38, 43)\")\n",
    "trvl_meta[\"age\"] = trvl_meta[\"age\"].replace(\"(8, 23)\",\"(8, 13)\")"
   ]
  },
  {
   "cell_type": "code",
   "execution_count": 23,
   "metadata": {
    "collapsed": false,
    "deletable": true,
    "editable": true
   },
   "outputs": [
    {
     "data": {
      "text/plain": [
       "(25, 32)     4494\n",
       "(0, 2)       2026\n",
       "(8, 13)      1953\n",
       "(38, 43)     1895\n",
       "(4, 6)       1570\n",
       "(15, 20)     1564\n",
       "(48, 53)      737\n",
       "(60, 100)     629\n",
       "None           40\n",
       "Name: age, dtype: int64"
      ]
     },
     "execution_count": 23,
     "metadata": {},
     "output_type": "execute_result"
    }
   ],
   "source": [
    "trvl_meta[\"age\"].value_counts()"
   ]
  },
  {
   "cell_type": "code",
   "execution_count": 24,
   "metadata": {
    "collapsed": false,
    "deletable": true,
    "editable": true
   },
   "outputs": [],
   "source": [
    "# Dropping None ages. Not worth manually tagging them\n",
    "trvl_meta = trvl_meta[trvl_meta[\"age\"] != \"None\"]"
   ]
  },
  {
   "cell_type": "code",
   "execution_count": 25,
   "metadata": {
    "collapsed": false,
    "deletable": true,
    "editable": true
   },
   "outputs": [
    {
     "data": {
      "text/plain": [
       "(25, 32)     4494\n",
       "(0, 2)       2026\n",
       "(8, 13)      1953\n",
       "(38, 43)     1895\n",
       "(4, 6)       1570\n",
       "(15, 20)     1564\n",
       "(48, 53)      737\n",
       "(60, 100)     629\n",
       "Name: age, dtype: int64"
      ]
     },
     "execution_count": 25,
     "metadata": {},
     "output_type": "execute_result"
    }
   ],
   "source": [
    "trvl_meta[\"age\"].value_counts()"
   ]
  },
  {
   "cell_type": "markdown",
   "metadata": {
    "deletable": true,
    "editable": true
   },
   "source": [
    "Now we do the same procedure as above but with the testing set"
   ]
  },
  {
   "cell_type": "markdown",
   "metadata": {
    "deletable": true,
    "editable": true
   },
   "source": [
    "#### Testing set"
   ]
  },
  {
   "cell_type": "code",
   "execution_count": 26,
   "metadata": {
    "collapsed": false,
    "deletable": true,
    "editable": true
   },
   "outputs": [
    {
     "data": {
      "text/plain": [
       "(25, 32)     1056\n",
       "(4, 6)        570\n",
       "(38, 43)      502\n",
       "(0, 2)        483\n",
       "(8, 12)       340\n",
       "(60, 100)     257\n",
       "(48, 53)      241\n",
       "(15, 20)      227\n",
       "35             36\n",
       "57             17\n",
       "55             11\n",
       "45              6\n",
       "(38, 48)        5\n",
       "32              3\n",
       "Name: age, dtype: int64"
      ]
     },
     "execution_count": 26,
     "metadata": {},
     "output_type": "execute_result"
    }
   ],
   "source": [
    "test_meta[\"age\"].value_counts()"
   ]
  },
  {
   "cell_type": "code",
   "execution_count": 27,
   "metadata": {
    "collapsed": false,
    "deletable": true,
    "editable": true
   },
   "outputs": [],
   "source": [
    "test_meta[\"age\"] = test_meta[\"age\"].replace(\"35\", \"(25, 32)\")\n",
    "test_meta[\"age\"] = test_meta[\"age\"].replace(\"57\", \"(60, 100)\")\n",
    "test_meta[\"age\"] = test_meta[\"age\"].replace(\"55\", \"(48, 53)\")\n",
    "test_meta[\"age\"] = test_meta[\"age\"].replace(\"45\", \"(38, 43)\")\n",
    "test_meta[\"age\"] = test_meta[\"age\"].replace(\"32\", \"(25, 32)\")\n",
    "test_meta[\"age\"] = test_meta[\"age\"].replace(\"(8, 14)\", \"(8, 13)\")\n",
    "test_meta[\"age\"] = test_meta[\"age\"].replace(\"(38, 48)\", \"(38, 43)\")"
   ]
  },
  {
   "cell_type": "code",
   "execution_count": 28,
   "metadata": {
    "collapsed": false,
    "deletable": true,
    "editable": true
   },
   "outputs": [
    {
     "data": {
      "text/plain": [
       "f    1848\n",
       "m    1597\n",
       "u     286\n",
       "Name: gender, dtype: int64"
      ]
     },
     "execution_count": 28,
     "metadata": {},
     "output_type": "execute_result"
    }
   ],
   "source": [
    "test_meta[\"gender\"].value_counts()"
   ]
  },
  {
   "cell_type": "code",
   "execution_count": 29,
   "metadata": {
    "collapsed": false,
    "deletable": true,
    "editable": true
   },
   "outputs": [
    {
     "data": {
      "text/plain": [
       "(25, 32)     1095\n",
       "(4, 6)        570\n",
       "(38, 43)      513\n",
       "(0, 2)        483\n",
       "(8, 12)       340\n",
       "(60, 100)     274\n",
       "(48, 53)      252\n",
       "(15, 20)      227\n",
       "Name: age, dtype: int64"
      ]
     },
     "execution_count": 29,
     "metadata": {},
     "output_type": "execute_result"
    }
   ],
   "source": [
    "test_meta[\"age\"].value_counts()"
   ]
  },
  {
   "cell_type": "markdown",
   "metadata": {
    "deletable": true,
    "editable": true
   },
   "source": [
    "### Nan Genders"
   ]
  },
  {
   "cell_type": "code",
   "execution_count": 30,
   "metadata": {
    "collapsed": false,
    "deletable": true,
    "editable": true
   },
   "outputs": [
    {
     "data": {
      "text/plain": [
       "True     14820\n",
       "False       48\n",
       "Name: gender, dtype: int64"
      ]
     },
     "execution_count": 30,
     "metadata": {},
     "output_type": "execute_result"
    }
   ],
   "source": [
    "NaN_gender_trvl = trvl_meta[\"gender\"].notnull()\n",
    "NaN_gender_trvl.value_counts()"
   ]
  },
  {
   "cell_type": "code",
   "execution_count": 31,
   "metadata": {
    "collapsed": false,
    "deletable": true,
    "editable": true
   },
   "outputs": [
    {
     "data": {
      "text/plain": [
       "True     3731\n",
       "False      23\n",
       "Name: gender, dtype: int64"
      ]
     },
     "execution_count": 31,
     "metadata": {},
     "output_type": "execute_result"
    }
   ],
   "source": [
    "NaN_gender_test = test_meta[\"gender\"].notnull()\n",
    "NaN_gender_test.value_counts()"
   ]
  },
  {
   "cell_type": "markdown",
   "metadata": {
    "deletable": true,
    "editable": true
   },
   "source": [
    "Since the number of NaN gender is quite small, there's no problem with dropping those as wel"
   ]
  },
  {
   "cell_type": "code",
   "execution_count": 32,
   "metadata": {
    "collapsed": false,
    "deletable": true,
    "editable": true
   },
   "outputs": [],
   "source": [
    "test_meta = test_meta[NaN_gender_test]\n",
    "trvl_meta = trvl_meta[NaN_gender_trvl]"
   ]
  },
  {
   "cell_type": "markdown",
   "metadata": {
    "deletable": true,
    "editable": true
   },
   "source": [
    "Checking value counts again for sanity check"
   ]
  },
  {
   "cell_type": "code",
   "execution_count": 33,
   "metadata": {
    "collapsed": false,
    "deletable": true,
    "editable": true
   },
   "outputs": [
    {
     "data": {
      "text/plain": [
       "True    14820\n",
       "Name: gender, dtype: int64"
      ]
     },
     "execution_count": 33,
     "metadata": {},
     "output_type": "execute_result"
    }
   ],
   "source": [
    "NaN_gender_trvl = trvl_meta[\"gender\"].notnull()\n",
    "NaN_gender_trvl.value_counts()"
   ]
  },
  {
   "cell_type": "code",
   "execution_count": 34,
   "metadata": {
    "collapsed": false,
    "deletable": true,
    "editable": true
   },
   "outputs": [
    {
     "data": {
      "text/plain": [
       "True    3731\n",
       "Name: gender, dtype: int64"
      ]
     },
     "execution_count": 34,
     "metadata": {},
     "output_type": "execute_result"
    }
   ],
   "source": [
    "NaN_gender_test = test_meta[\"gender\"].notnull()\n",
    "NaN_gender_test.value_counts()"
   ]
  },
  {
   "cell_type": "markdown",
   "metadata": {
    "deletable": true,
    "editable": true
   },
   "source": [
    "Perfect! The dataset has been fully curated"
   ]
  },
  {
   "cell_type": "markdown",
   "metadata": {
    "deletable": true,
    "editable": true
   },
   "source": [
    "## No U gender"
   ]
  },
  {
   "cell_type": "code",
   "execution_count": 35,
   "metadata": {
    "collapsed": false,
    "deletable": true,
    "editable": true
   },
   "outputs": [],
   "source": [
    "binary_gender = test_meta[\"gender\"] != \"u\"\n",
    "test_meta = test_meta[binary_gender]\n",
    "test_meta.reset_index(inplace=True)"
   ]
  },
  {
   "cell_type": "code",
   "execution_count": 36,
   "metadata": {
    "collapsed": false,
    "deletable": true,
    "editable": true
   },
   "outputs": [
    {
     "data": {
      "text/plain": [
       "f    1848\n",
       "m    1597\n",
       "Name: gender, dtype: int64"
      ]
     },
     "execution_count": 36,
     "metadata": {},
     "output_type": "execute_result"
    }
   ],
   "source": [
    "test_meta[\"gender\"].value_counts()"
   ]
  },
  {
   "cell_type": "code",
   "execution_count": 37,
   "metadata": {
    "collapsed": false,
    "deletable": true,
    "editable": true
   },
   "outputs": [],
   "source": [
    "binary_gender = trvl_meta[\"gender\"] != \"u\"\n",
    "trvl_meta = trvl_meta[binary_gender]\n",
    "trvl_meta.reset_index(inplace=True)"
   ]
  },
  {
   "cell_type": "code",
   "execution_count": 38,
   "metadata": {
    "collapsed": false,
    "deletable": true,
    "editable": true
   },
   "outputs": [
    {
     "data": {
      "text/plain": [
       "f    7484\n",
       "m    6523\n",
       "Name: gender, dtype: int64"
      ]
     },
     "execution_count": 38,
     "metadata": {},
     "output_type": "execute_result"
    }
   ],
   "source": [
    "trvl_meta[\"gender\"].value_counts()"
   ]
  },
  {
   "cell_type": "markdown",
   "metadata": {
    "deletable": true,
    "editable": true
   },
   "source": [
    "## Generating k-folds of train and validation splits"
   ]
  },
  {
   "cell_type": "markdown",
   "metadata": {
    "deletable": true,
    "editable": true
   },
   "source": [
    "In this section we create K stratified folds of training and validation splits out of the complement of the testing set. We'll set the number of folds created to be equal to 5 as that is the number of splits suggested by the Adience Benchmark README file.\n",
    "\n",
    "Let us take this moment to discuss propotions. Each fold of the original, unprocessed, dataset contains roughly the same amount of data. Given that there are a total of 5 folds and one of them is reserved for testing, the percentage of the dataset used for testing will be roughly 20%. Out of the remaining data, we'll use  25% of each of the k-folds to be reserved for validation. This means that our testing dataset split follows roughly the following proportions.\n",
    "\n",
    "<ul>\n",
    "<li><b>Testing:</b> 20%</li>\n",
    "<li><b>Validation:</b>20%</li>\n",
    "<li><b>Training</b>:60%</li>\n",
    "</ul>\n",
    "\n",
    "This configuration is not accidental, we've chosen this proportions because they're common practice"
   ]
  },
  {
   "cell_type": "code",
   "execution_count": 39,
   "metadata": {
    "collapsed": true,
    "deletable": true,
    "editable": true
   },
   "outputs": [],
   "source": [
    "num_splits = 1\n",
    "validation_prop = 0.25"
   ]
  },
  {
   "cell_type": "code",
   "execution_count": 40,
   "metadata": {
    "collapsed": true,
    "deletable": true,
    "editable": true
   },
   "outputs": [],
   "source": [
    "sss = StratifiedShuffleSplit(n_splits=num_splits, test_size=validation_prop, random_state=0)"
   ]
  },
  {
   "cell_type": "markdown",
   "metadata": {
    "deletable": true,
    "editable": true
   },
   "source": [
    "### Prepping the test complement set"
   ]
  },
  {
   "cell_type": "markdown",
   "metadata": {
    "deletable": true,
    "editable": true
   },
   "source": [
    "For the stratified k-fold partitioning tool to function, all classes need to appear at least twice in the training dataset. Given the amount of data we've dropped, such is not the case anymore. Observe below the current frequency of targets for age."
   ]
  },
  {
   "cell_type": "code",
   "execution_count": 41,
   "metadata": {
    "collapsed": false,
    "deletable": true,
    "editable": true
   },
   "outputs": [
    {
     "data": {
      "text/plain": [
       "(25, 32)     4461\n",
       "(8, 13)      1946\n",
       "(38, 43)     1895\n",
       "(4, 6)       1569\n",
       "(15, 20)     1564\n",
       "(0, 2)       1219\n",
       "(48, 53)      732\n",
       "(60, 100)     621\n",
       "Name: age, dtype: int64"
      ]
     },
     "execution_count": 41,
     "metadata": {},
     "output_type": "execute_result"
    }
   ],
   "source": [
    "trvl_meta[\"age\"].value_counts()"
   ]
  },
  {
   "cell_type": "markdown",
   "metadata": {
    "deletable": true,
    "editable": true
   },
   "source": [
    "Now we're good to go! "
   ]
  },
  {
   "cell_type": "markdown",
   "metadata": {
    "deletable": true,
    "editable": true
   },
   "source": [
    "Here I'll introduce a minor but necessary fix to the dataset. Directory names in UNIX cannot start with parenthesis. Thus, I'll remove the parenthesis from the age column and replace them with '_'"
   ]
  },
  {
   "cell_type": "code",
   "execution_count": 42,
   "metadata": {
    "collapsed": false,
    "deletable": true,
    "editable": true
   },
   "outputs": [
    {
     "data": {
      "text/plain": [
       "_25-32_     4461\n",
       "_8-13_      1946\n",
       "_38-43_     1895\n",
       "_4-6_       1569\n",
       "_15-20_     1564\n",
       "_0-2_       1219\n",
       "_48-53_      732\n",
       "_60-100_     621\n",
       "Name: age, dtype: int64"
      ]
     },
     "execution_count": 42,
     "metadata": {},
     "output_type": "execute_result"
    }
   ],
   "source": [
    "trvl_meta[\"age\"] = trvl_meta[\"age\"].str.replace(\"(\", \"_\")\n",
    "trvl_meta[\"age\"] = trvl_meta[\"age\"].str.replace(\")\", \"_\")\n",
    "trvl_meta[\"age\"] = trvl_meta[\"age\"].str.replace(\" \", \"-\")\n",
    "trvl_meta[\"age\"] = trvl_meta[\"age\"].str.replace(\",\", \"\")\n",
    "trvl_meta[\"age\"].value_counts()"
   ]
  },
  {
   "cell_type": "code",
   "execution_count": 43,
   "metadata": {
    "collapsed": false,
    "deletable": true,
    "editable": true
   },
   "outputs": [
    {
     "data": {
      "text/plain": [
       "_25-32_     1072\n",
       "_4-6_        570\n",
       "_38-43_      513\n",
       "_8-12_       340\n",
       "_60-100_     274\n",
       "_48-53_      252\n",
       "_15-20_      225\n",
       "_0-2_        199\n",
       "Name: age, dtype: int64"
      ]
     },
     "execution_count": 43,
     "metadata": {},
     "output_type": "execute_result"
    }
   ],
   "source": [
    "test_meta[\"age\"] = test_meta[\"age\"].str.replace(\"(\", \"_\")\n",
    "test_meta[\"age\"] = test_meta[\"age\"].str.replace(\")\", \"_\")\n",
    "test_meta[\"age\"] = test_meta[\"age\"].str.replace(\" \", \"-\")\n",
    "test_meta[\"age\"] = test_meta[\"age\"].str.replace(\",\", \"\")\n",
    "test_meta[\"age\"].value_counts()"
   ]
  },
  {
   "cell_type": "code",
   "execution_count": 44,
   "metadata": {
    "collapsed": false,
    "deletable": true,
    "editable": true
   },
   "outputs": [],
   "source": [
    "trvl_meta_X     = trvl_meta\n",
    "trvl_meta_X_arr = trvl_meta_X.as_matrix()\n",
    "trvl_meta_X_arr = trvl_meta_X_arr[:,1:]"
   ]
  },
  {
   "cell_type": "code",
   "execution_count": 45,
   "metadata": {
    "collapsed": false,
    "deletable": true,
    "editable": true
   },
   "outputs": [],
   "source": [
    "trvl_meta_Y_gender  = trvl_meta[\"gender\"].as_matrix()\n",
    "trvl_meta_Y_age     = trvl_meta[\"age\"].as_matrix()"
   ]
  },
  {
   "cell_type": "markdown",
   "metadata": {
    "deletable": true,
    "editable": true
   },
   "source": [
    "### Splits for gender-only classication"
   ]
  },
  {
   "cell_type": "code",
   "execution_count": 46,
   "metadata": {
    "collapsed": false,
    "deletable": true,
    "editable": true
   },
   "outputs": [
    {
     "name": "stdout",
     "output_type": "stream",
     "text": [
      "FOLD #: 1\n",
      "TRAIN      : [ 8731 13493 11406 ...,  2407  1246 11011]\n",
      "VALIDATION : [6691 3259 9592 ..., 9279 5220 2231]\n",
      "=========================================================\n"
     ]
    }
   ],
   "source": [
    "from sklearn.model_selection import StratifiedShuffleSplit\n",
    "X = trvl_meta_X_arr\n",
    "y = trvl_meta_Y_gender\n",
    "sss = StratifiedShuffleSplit(n_splits=num_splits, test_size=validation_prop, random_state=0)\n",
    "sss.get_n_splits(X, y)\n",
    "\n",
    "fold_count   = 1\n",
    "fold_container_gender = []\n",
    "for train_index, test_index in sss.split(X, y):\n",
    "    print \"FOLD #: %d\" % fold_count\n",
    "    print \"TRAIN      :\", train_index\n",
    "    print \"VALIDATION :\", test_index\n",
    "    print \"=========================================================\"\n",
    "    fold_count += 1\n",
    "    X_train, X_valid = X[train_index], X[test_index]\n",
    "    fold_container_gender.append([X_train,X_valid])"
   ]
  },
  {
   "cell_type": "markdown",
   "metadata": {
    "deletable": true,
    "editable": true
   },
   "source": [
    "### Splits for age-only classication"
   ]
  },
  {
   "cell_type": "code",
   "execution_count": 47,
   "metadata": {
    "collapsed": false,
    "deletable": true,
    "editable": true
   },
   "outputs": [
    {
     "name": "stdout",
     "output_type": "stream",
     "text": [
      "FOLD #: 1\n",
      "TRAIN      : [13782  9718 12814 ..., 13946 11385  6384]\n",
      "VALIDATION : [ 7028  4560  9145 ..., 12546   423  2167]\n",
      "=========================================================\n"
     ]
    }
   ],
   "source": [
    "from sklearn.model_selection import StratifiedShuffleSplit\n",
    "X = trvl_meta_X_arr\n",
    "y = trvl_meta_Y_age\n",
    "sss = StratifiedShuffleSplit(n_splits=num_splits, test_size=validation_prop, random_state=0)\n",
    "sss.get_n_splits(X, y)\n",
    "\n",
    "fold_count   = 1\n",
    "fold_container_age = []\n",
    "for train_index, test_index in sss.split(X, y):\n",
    "    print \"FOLD #: %d\" % fold_count\n",
    "    print \"TRAIN      :\", train_index\n",
    "    print \"VALIDATION :\", test_index\n",
    "    print \"=========================================================\"\n",
    "    fold_count += 1\n",
    "    X_train, X_valid = X[train_index], X[test_index]\n",
    "    fold_container_age.append([X_train,X_valid])"
   ]
  },
  {
   "cell_type": "markdown",
   "metadata": {
    "deletable": true,
    "editable": true
   },
   "source": [
    "## Generating dataframes for each classification task"
   ]
  },
  {
   "cell_type": "code",
   "execution_count": 48,
   "metadata": {
    "collapsed": true,
    "deletable": true,
    "editable": true
   },
   "outputs": [],
   "source": [
    "headers = [\"user_id\",\"face_id\",\"original_image\",\"gender\",\"age\"]"
   ]
  },
  {
   "cell_type": "code",
   "execution_count": 49,
   "metadata": {
    "collapsed": false,
    "deletable": true,
    "editable": true
   },
   "outputs": [],
   "source": [
    "gender_fold1_train = pd.DataFrame(fold_container_gender[0][0], columns=headers)\n",
    "gender_fold1_valid = pd.DataFrame(fold_container_gender[0][1], columns=headers)"
   ]
  },
  {
   "cell_type": "code",
   "execution_count": 50,
   "metadata": {
    "collapsed": true,
    "deletable": true,
    "editable": true
   },
   "outputs": [],
   "source": [
    "age_fold1_train = pd.DataFrame(fold_container_age[0][0], columns=headers)\n",
    "age_fold1_valid = pd.DataFrame(fold_container_age[0][1], columns=headers)"
   ]
  },
  {
   "cell_type": "markdown",
   "metadata": {
    "deletable": true,
    "editable": true
   },
   "source": [
    "## Augment Dataframes to contain the current image path and the image path to generate"
   ]
  },
  {
   "cell_type": "markdown",
   "metadata": {
    "deletable": true,
    "editable": true
   },
   "source": [
    "### Image path"
   ]
  },
  {
   "cell_type": "code",
   "execution_count": 51,
   "metadata": {
    "collapsed": false,
    "deletable": true,
    "editable": true
   },
   "outputs": [],
   "source": [
    "gender_fold1_train[\"img_path\"] = gender_fold1_train[RELEVANT_COLS].apply(lambda x: IMG_TEMPLATE % (x[0],x[1],x[2]), axis=1)\n",
    "gender_fold1_valid[\"img_path\"] = gender_fold1_valid[RELEVANT_COLS].apply(lambda x: IMG_TEMPLATE % (x[0],x[1],x[2]), axis=1)"
   ]
  },
  {
   "cell_type": "code",
   "execution_count": 52,
   "metadata": {
    "collapsed": false,
    "deletable": true,
    "editable": true
   },
   "outputs": [],
   "source": [
    "age_fold1_train[\"img_path\"] = age_fold1_train[RELEVANT_COLS].apply(lambda x: IMG_TEMPLATE % (x[0],x[1],x[2]), axis=1)\n",
    "age_fold1_valid[\"img_path\"] = age_fold1_valid[RELEVANT_COLS].apply(lambda x: IMG_TEMPLATE % (x[0],x[1],x[2]), axis=1)"
   ]
  },
  {
   "cell_type": "code",
   "execution_count": 53,
   "metadata": {
    "collapsed": false,
    "deletable": true,
    "editable": true
   },
   "outputs": [],
   "source": [
    "test_meta[\"img_path\"] = test_meta[RELEVANT_COLS].apply(lambda x: IMG_TEMPLATE % (x[0],x[1],x[2]), axis=1)"
   ]
  },
  {
   "cell_type": "markdown",
   "metadata": {
    "deletable": true,
    "editable": true
   },
   "source": [
    "### Keras path"
   ]
  },
  {
   "cell_type": "code",
   "execution_count": 54,
   "metadata": {
    "collapsed": false,
    "deletable": true,
    "editable": true
   },
   "outputs": [],
   "source": [
    "age_test_set = test_meta.copy()\n",
    "gender_test_set = (test_meta).copy()"
   ]
  },
  {
   "cell_type": "code",
   "execution_count": 55,
   "metadata": {
    "collapsed": true,
    "deletable": true,
    "editable": true
   },
   "outputs": [],
   "source": [
    "gender_test_set[\"keras_path\"] = test_meta[RELEVANT_COLS].apply(lambda x: GENDER_TEST_TEMPLATE % (x[3],x.name), axis=1)\n",
    "age_test_set[\"keras_path\"] = test_meta[RELEVANT_COLS].apply(lambda x: AGE_TEST_TEMPLATE % (x[4],x.name), axis=1)"
   ]
  },
  {
   "cell_type": "code",
   "execution_count": 56,
   "metadata": {
    "collapsed": false,
    "deletable": true,
    "editable": true
   },
   "outputs": [],
   "source": [
    "gender_fold1_train[\"keras_path\"] = gender_fold1_train[RELEVANT_COLS].apply(lambda x: GENDER_TRAIN_TEMPLATE % (1, x[3], x.name), axis=1)\n",
    "gender_fold1_valid[\"keras_path\"] = gender_fold1_valid[RELEVANT_COLS].apply(lambda x: GENDER_VALID_TEMPLATE % (1, x[3], x.name), axis=1)"
   ]
  },
  {
   "cell_type": "code",
   "execution_count": 57,
   "metadata": {
    "collapsed": false,
    "deletable": true,
    "editable": true
   },
   "outputs": [],
   "source": [
    "age_fold1_train[\"keras_path\"] = age_fold1_train[RELEVANT_COLS].apply(lambda x: AGE_TRAIN_TEMPLATE % (1, x[4], x.name), axis=1)\n",
    "age_fold1_valid[\"keras_path\"] = age_fold1_valid[RELEVANT_COLS].apply(lambda x: AGE_VALID_TEMPLATE % (1, x[4], x.name), axis=1)"
   ]
  },
  {
   "cell_type": "code",
   "execution_count": 58,
   "metadata": {
    "collapsed": false,
    "deletable": true,
    "editable": true
   },
   "outputs": [],
   "source": [
    "def prep_adience():\n",
    "    all_gender_train = [gender_fold1_train]\n",
    "    all_gender_valid = [gender_fold1_valid]\n",
    "    \n",
    "    all_age_train = [age_fold1_train]\n",
    "    all_age_valid = [age_fold1_valid]\n",
    "    \n",
    "    full_meta = pd.concat(all_gender_train + all_gender_valid + all_age_train + all_age_valid)\n",
    "\n",
    "    for index, row in full_meta.iterrows():\n",
    "        \n",
    "        mkdir_template = \"mkdir -p %s\"\n",
    "        command_template = \"cp -p %s %s\"\n",
    "        command0 = mkdir_template % row[\"keras_path\"]\n",
    "        command1 = command_template % (row[\"img_path\"], row[\"keras_path\"])\n",
    "        wkspFldr = os.path.dirname(row[\"keras_path\"])\n",
    "        \n",
    "        os.system(command0)\n",
    "        os.system(command1)\n",
    "        \n"
   ]
  },
  {
   "cell_type": "code",
   "execution_count": 59,
   "metadata": {
    "collapsed": true,
    "deletable": true,
    "editable": true
   },
   "outputs": [],
   "source": [
    "full_meta = pd.concat([gender_test_set] + [age_test_set])\n",
    "for index, row in full_meta.iterrows():\n",
    "        \n",
    "    mkdir_template = \"mkdir -p %s\"\n",
    "    command_template = \"cp -p %s %s\"\n",
    "    command0 = mkdir_template % row[\"keras_path\"]\n",
    "    command1 = command_template % (row[\"img_path\"], row[\"keras_path\"])\n",
    "    wkspFldr = os.path.dirname(row[\"keras_path\"])\n",
    "        \n",
    "    os.system(command0)\n",
    "    os.system(command1)"
   ]
  },
  {
   "cell_type": "code",
   "execution_count": 60,
   "metadata": {
    "collapsed": false,
    "deletable": true,
    "editable": true
   },
   "outputs": [],
   "source": [
    "prep_adience()"
   ]
  },
  {
   "cell_type": "code",
   "execution_count": 61,
   "metadata": {
    "collapsed": false,
    "deletable": true,
    "editable": true
   },
   "outputs": [],
   "source": [
    "all_gender_train = [gender_fold1_train]\n",
    "all_gender_valid = [gender_fold1_valid]\n",
    "    \n",
    "all_age_train = [age_fold1_train]\n",
    "all_age_valid = [age_fold1_valid]\n",
    "    \n",
    "fold_num = 0\n",
    "for df in all_gender_train:\n",
    "    path  = META_SAVE_TEMPLATE % (\"gender_train\",fold_num)\n",
    "    fold_num += 1\n",
    "    df.to_csv(path)\n",
    "    \n",
    "fold_num = 0\n",
    "for df in all_gender_valid:\n",
    "    path  = META_SAVE_TEMPLATE % (\"gender_valid\",fold_num)\n",
    "    fold_num += 1\n",
    "    df.to_csv(path)\n",
    "    \n",
    "fold_num = 0\n",
    "for df in all_age_train:\n",
    "    path  = META_SAVE_TEMPLATE % (\"age_train\",fold_num)\n",
    "    fold_num += 1\n",
    "    df.to_csv(path)\n",
    "\n",
    "fold_num = 0\n",
    "for df in all_gender_valid:\n",
    "    path  = META_SAVE_TEMPLATE % (\"age_valid\",fold_num)\n",
    "    fold_num += 1\n",
    "    df.to_csv(path)\n",
    "    \n",
    "fold_num = 0\n",
    "path = META_SAVE_TEMPLATE % (\"test\", fold_num)\n",
    "test_meta.to_csv(path)\n",
    "\n"
   ]
  }
 ],
 "metadata": {
  "kernelspec": {
   "display_name": "Python 2",
   "language": "python",
   "name": "python2"
  },
  "language_info": {
   "codemirror_mode": {
    "name": "ipython",
    "version": 2
   },
   "file_extension": ".py",
   "mimetype": "text/x-python",
   "name": "python",
   "nbconvert_exporter": "python",
   "pygments_lexer": "ipython2",
   "version": "2.7.6"
  }
 },
 "nbformat": 4,
 "nbformat_minor": 2
}
