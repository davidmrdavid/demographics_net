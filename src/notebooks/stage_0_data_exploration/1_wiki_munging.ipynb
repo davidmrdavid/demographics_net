{
 "cells": [
  {
   "cell_type": "markdown",
   "metadata": {
    "deletable": true,
    "editable": true
   },
   "source": [
    " "
   ]
  },
  {
   "cell_type": "markdown",
   "metadata": {
    "deletable": true,
    "editable": true
   },
   "source": [
    "# Preparing the Wiki dataset"
   ]
  },
  {
   "cell_type": "markdown",
   "metadata": {
    "deletable": true,
    "editable": true
   },
   "source": [
    "## Introduction"
   ]
  },
  {
   "cell_type": "markdown",
   "metadata": {
    "deletable": true,
    "editable": true
   },
   "source": [
    "The Wiki Dataset is a subset of the IMDB-Wiki Dataset, which composes the largest age and gender classification dataset available for free online as of 2017. More information on it can be found on the IMDB-Wiki Dataset website: https://data.vision.ee.ethz.ch/cvl/rrothe/imdb-wiki/"
   ]
  },
  {
   "cell_type": "markdown",
   "metadata": {
    "deletable": true,
    "editable": true
   },
   "source": [
    "## Goal of this notebook"
   ]
  },
  {
   "cell_type": "markdown",
   "metadata": {
    "deletable": true,
    "editable": true
   },
   "source": [
    "The goal of this notebook is to prepare the Wiki Dataset for gender and age classification using Keras. Namely, here we clean the dataset of any missing values, which thankfully were very few, and create stratified 8-fold cross-validation sets for model evaluation"
   ]
  },
  {
   "cell_type": "markdown",
   "metadata": {
    "deletable": true,
    "editable": true
   },
   "source": [
    "## Part 1 - Basic setup"
   ]
  },
  {
   "cell_type": "code",
   "execution_count": 1,
   "metadata": {
    "collapsed": false,
    "deletable": true,
    "editable": true
   },
   "outputs": [],
   "source": [
    "# Necessary modules\n",
    "import numpy    as np\n",
    "import pandas   as pd\n",
    "import datetime as dt\n",
    "\n",
    "from scipy.io                import loadmat \n",
    "from sklearn.model_selection import train_test_split\n",
    "from sklearn.model_selection import StratifiedShuffleSplit\n",
    "from datetime                import datetime, timedelta"
   ]
  },
  {
   "cell_type": "code",
   "execution_count": 2,
   "metadata": {
    "collapsed": false,
    "deletable": true,
    "editable": true
   },
   "outputs": [],
   "source": [
    "# Ensures reproducibility\n",
    "np.random.seed(0)"
   ]
  },
  {
   "cell_type": "code",
   "execution_count": 3,
   "metadata": {
    "collapsed": true,
    "deletable": true,
    "editable": true
   },
   "outputs": [],
   "source": [
    "# Constants\n",
    "WIKI_DATA_PATH    = \"../data/wiki/\"\n",
    "WIKI_META_PATH    = \"../data/wiki/wiki.mat\"\n",
    "WIKI_ALL_HEADERS  = [\"dob\",\"photo_taken\",\"full_path\",\"gender\",\"name\",\"face_loc\",\"face_score\",\"second_face_score\"]\n",
    "RELEVANT_HEADERS  = [\"full_path\",\"gender\",\"dob\",\"photo_taken\"]\n",
    "FINAL_HEADERS     = [\"full_path\",\"gender\",\"age\"]"
   ]
  },
  {
   "cell_type": "markdown",
   "metadata": {
    "deletable": true,
    "editable": true
   },
   "source": [
    "## Part 2 - Initial loading of the metadata"
   ]
  },
  {
   "cell_type": "markdown",
   "metadata": {
    "deletable": true,
    "editable": true
   },
   "source": [
    "The Wiki dataset metadata exists on a '.mat' (for matlab) file. Thus, we need to go through a few workarounds to adapt it to a python readable format. That occurs below. The end goal is to construct a Pandas Dataframe with the proper types"
   ]
  },
  {
   "cell_type": "code",
   "execution_count": 4,
   "metadata": {
    "collapsed": false,
    "deletable": true,
    "editable": true
   },
   "outputs": [],
   "source": [
    "# Load dataset\n",
    "wiki_mat = loadmat(WIKI_META_PATH)\n",
    "wiki_mat = wiki_mat['wiki'][0][0]  # For some reason, the dataset was nested inside 2 1-dimensional arrays"
   ]
  },
  {
   "cell_type": "code",
   "execution_count": 5,
   "metadata": {
    "collapsed": false,
    "deletable": true,
    "editable": true
   },
   "outputs": [],
   "source": [
    "# Dimensions of the Pandas Dataframe\n",
    "num_rows = wiki_mat[0].shape[1]\n",
    "num_cols = len(WIKI_ALL_HEADERS)"
   ]
  },
  {
   "cell_type": "code",
   "execution_count": 6,
   "metadata": {
    "collapsed": false,
    "deletable": true,
    "editable": true
   },
   "outputs": [],
   "source": [
    "# Dataframe placeholder\n",
    "data_matrix = np.zeros(shape=(num_rows,num_cols))\n",
    "wiki_frame  = pd.DataFrame(data=data_matrix, columns=WIKI_ALL_HEADERS)"
   ]
  },
  {
   "cell_type": "code",
   "execution_count": 7,
   "metadata": {
    "collapsed": false,
    "deletable": true,
    "editable": true
   },
   "outputs": [
    {
     "data": {
      "text/html": [
       "<div>\n",
       "<table border=\"1\" class=\"dataframe\">\n",
       "  <thead>\n",
       "    <tr style=\"text-align: right;\">\n",
       "      <th></th>\n",
       "      <th>dob</th>\n",
       "      <th>photo_taken</th>\n",
       "      <th>full_path</th>\n",
       "      <th>gender</th>\n",
       "      <th>name</th>\n",
       "      <th>face_loc</th>\n",
       "      <th>face_score</th>\n",
       "      <th>second_face_score</th>\n",
       "    </tr>\n",
       "  </thead>\n",
       "  <tbody>\n",
       "    <tr>\n",
       "      <th>0</th>\n",
       "      <td>723671</td>\n",
       "      <td>2009</td>\n",
       "      <td>[17/10000217_1981-05-05_2009.jpg]</td>\n",
       "      <td>1.0</td>\n",
       "      <td>[Sami Jauhojärvi]</td>\n",
       "      <td>[[111.291094733, 111.291094733, 252.669930818,...</td>\n",
       "      <td>4.300962</td>\n",
       "      <td>NaN</td>\n",
       "    </tr>\n",
       "    <tr>\n",
       "      <th>1</th>\n",
       "      <td>703186</td>\n",
       "      <td>1964</td>\n",
       "      <td>[48/10000548_1925-04-04_1964.jpg]</td>\n",
       "      <td>1.0</td>\n",
       "      <td>[Dettmar Cramer]</td>\n",
       "      <td>[[252.483302295, 126.681651148, 354.531925962,...</td>\n",
       "      <td>2.645639</td>\n",
       "      <td>1.949248</td>\n",
       "    </tr>\n",
       "    <tr>\n",
       "      <th>2</th>\n",
       "      <td>711677</td>\n",
       "      <td>2008</td>\n",
       "      <td>[12/100012_1948-07-03_2008.jpg]</td>\n",
       "      <td>1.0</td>\n",
       "      <td>[Marc Okrand]</td>\n",
       "      <td>[[113.52, 169.84, 366.08, 422.4]]</td>\n",
       "      <td>4.329329</td>\n",
       "      <td>NaN</td>\n",
       "    </tr>\n",
       "    <tr>\n",
       "      <th>3</th>\n",
       "      <td>705061</td>\n",
       "      <td>1961</td>\n",
       "      <td>[65/10001965_1930-05-23_1961.jpg]</td>\n",
       "      <td>1.0</td>\n",
       "      <td>[Aleksandar Matanović]</td>\n",
       "      <td>[[1, 1, 634, 440]]</td>\n",
       "      <td>-inf</td>\n",
       "      <td>NaN</td>\n",
       "    </tr>\n",
       "    <tr>\n",
       "      <th>4</th>\n",
       "      <td>720044</td>\n",
       "      <td>2012</td>\n",
       "      <td>[16/10002116_1971-05-31_2012.jpg]</td>\n",
       "      <td>0.0</td>\n",
       "      <td>[Diana Damrau]</td>\n",
       "      <td>[[171.610314052, 75.5745123976, 266.766115706,...</td>\n",
       "      <td>3.408442</td>\n",
       "      <td>NaN</td>\n",
       "    </tr>\n",
       "  </tbody>\n",
       "</table>\n",
       "</div>"
      ],
      "text/plain": [
       "      dob  photo_taken                          full_path  gender  \\\n",
       "0  723671         2009  [17/10000217_1981-05-05_2009.jpg]     1.0   \n",
       "1  703186         1964  [48/10000548_1925-04-04_1964.jpg]     1.0   \n",
       "2  711677         2008    [12/100012_1948-07-03_2008.jpg]     1.0   \n",
       "3  705061         1961  [65/10001965_1930-05-23_1961.jpg]     1.0   \n",
       "4  720044         2012  [16/10002116_1971-05-31_2012.jpg]     0.0   \n",
       "\n",
       "                     name                                           face_loc  \\\n",
       "0       [Sami Jauhojärvi]  [[111.291094733, 111.291094733, 252.669930818,...   \n",
       "1        [Dettmar Cramer]  [[252.483302295, 126.681651148, 354.531925962,...   \n",
       "2           [Marc Okrand]                  [[113.52, 169.84, 366.08, 422.4]]   \n",
       "3  [Aleksandar Matanović]                                 [[1, 1, 634, 440]]   \n",
       "4          [Diana Damrau]  [[171.610314052, 75.5745123976, 266.766115706,...   \n",
       "\n",
       "   face_score  second_face_score  \n",
       "0    4.300962                NaN  \n",
       "1    2.645639           1.949248  \n",
       "2    4.329329                NaN  \n",
       "3        -inf                NaN  \n",
       "4    3.408442                NaN  "
      ]
     },
     "execution_count": 7,
     "metadata": {},
     "output_type": "execute_result"
    }
   ],
   "source": [
    "# Loading dataset into placeholder\n",
    "for col in range(num_cols):\n",
    "    curr_values = wiki_mat[col][0]\n",
    "    curr_header = WIKI_ALL_HEADERS[col]\n",
    "    wiki_frame[curr_header] = curr_values\n",
    "\n",
    "wiki_frame.head()"
   ]
  },
  {
   "cell_type": "markdown",
   "metadata": {
    "deletable": true,
    "editable": true
   },
   "source": [
    "The data clearly needs some fixing. The DOB (Date of Birth) column does not show an age (instead it shows a serialized matlab value which needs to be converted), the name column displays 1-d arrays with the names inside of it instead of simply the names in string values and, lastly, we have unecessary columns."
   ]
  },
  {
   "cell_type": "code",
   "execution_count": 8,
   "metadata": {
    "collapsed": false,
    "deletable": true,
    "editable": true
   },
   "outputs": [
    {
     "data": {
      "text/html": [
       "<div>\n",
       "<table border=\"1\" class=\"dataframe\">\n",
       "  <thead>\n",
       "    <tr style=\"text-align: right;\">\n",
       "      <th></th>\n",
       "      <th>full_path</th>\n",
       "      <th>gender</th>\n",
       "      <th>dob</th>\n",
       "      <th>photo_taken</th>\n",
       "    </tr>\n",
       "  </thead>\n",
       "  <tbody>\n",
       "    <tr>\n",
       "      <th>0</th>\n",
       "      <td>[17/10000217_1981-05-05_2009.jpg]</td>\n",
       "      <td>1.0</td>\n",
       "      <td>723671</td>\n",
       "      <td>2009</td>\n",
       "    </tr>\n",
       "    <tr>\n",
       "      <th>1</th>\n",
       "      <td>[48/10000548_1925-04-04_1964.jpg]</td>\n",
       "      <td>1.0</td>\n",
       "      <td>703186</td>\n",
       "      <td>1964</td>\n",
       "    </tr>\n",
       "    <tr>\n",
       "      <th>2</th>\n",
       "      <td>[12/100012_1948-07-03_2008.jpg]</td>\n",
       "      <td>1.0</td>\n",
       "      <td>711677</td>\n",
       "      <td>2008</td>\n",
       "    </tr>\n",
       "    <tr>\n",
       "      <th>3</th>\n",
       "      <td>[65/10001965_1930-05-23_1961.jpg]</td>\n",
       "      <td>1.0</td>\n",
       "      <td>705061</td>\n",
       "      <td>1961</td>\n",
       "    </tr>\n",
       "    <tr>\n",
       "      <th>4</th>\n",
       "      <td>[16/10002116_1971-05-31_2012.jpg]</td>\n",
       "      <td>0.0</td>\n",
       "      <td>720044</td>\n",
       "      <td>2012</td>\n",
       "    </tr>\n",
       "  </tbody>\n",
       "</table>\n",
       "</div>"
      ],
      "text/plain": [
       "                           full_path  gender     dob  photo_taken\n",
       "0  [17/10000217_1981-05-05_2009.jpg]     1.0  723671         2009\n",
       "1  [48/10000548_1925-04-04_1964.jpg]     1.0  703186         1964\n",
       "2    [12/100012_1948-07-03_2008.jpg]     1.0  711677         2008\n",
       "3  [65/10001965_1930-05-23_1961.jpg]     1.0  705061         1961\n",
       "4  [16/10002116_1971-05-31_2012.jpg]     0.0  720044         2012"
      ]
     },
     "execution_count": 8,
     "metadata": {},
     "output_type": "execute_result"
    }
   ],
   "source": [
    "# Dropping unecessary columns\n",
    "wiki_frame = wiki_frame[RELEVANT_HEADERS]\n",
    "wiki_frame.head()"
   ]
  },
  {
   "cell_type": "code",
   "execution_count": 9,
   "metadata": {
    "collapsed": false,
    "deletable": true,
    "editable": true,
    "scrolled": true
   },
   "outputs": [
    {
     "data": {
      "text/html": [
       "<div>\n",
       "<table border=\"1\" class=\"dataframe\">\n",
       "  <thead>\n",
       "    <tr style=\"text-align: right;\">\n",
       "      <th></th>\n",
       "      <th>full_path</th>\n",
       "      <th>gender</th>\n",
       "      <th>dob</th>\n",
       "      <th>photo_taken</th>\n",
       "    </tr>\n",
       "  </thead>\n",
       "  <tbody>\n",
       "    <tr>\n",
       "      <th>0</th>\n",
       "      <td>[17/10000217_1981-05-05_2009.jpg]</td>\n",
       "      <td>1.0</td>\n",
       "      <td>1981</td>\n",
       "      <td>2009</td>\n",
       "    </tr>\n",
       "    <tr>\n",
       "      <th>1</th>\n",
       "      <td>[48/10000548_1925-04-04_1964.jpg]</td>\n",
       "      <td>1.0</td>\n",
       "      <td>1925</td>\n",
       "      <td>1964</td>\n",
       "    </tr>\n",
       "    <tr>\n",
       "      <th>2</th>\n",
       "      <td>[12/100012_1948-07-03_2008.jpg]</td>\n",
       "      <td>1.0</td>\n",
       "      <td>1948</td>\n",
       "      <td>2008</td>\n",
       "    </tr>\n",
       "    <tr>\n",
       "      <th>3</th>\n",
       "      <td>[65/10001965_1930-05-23_1961.jpg]</td>\n",
       "      <td>1.0</td>\n",
       "      <td>1930</td>\n",
       "      <td>1961</td>\n",
       "    </tr>\n",
       "    <tr>\n",
       "      <th>4</th>\n",
       "      <td>[16/10002116_1971-05-31_2012.jpg]</td>\n",
       "      <td>0.0</td>\n",
       "      <td>1971</td>\n",
       "      <td>2012</td>\n",
       "    </tr>\n",
       "  </tbody>\n",
       "</table>\n",
       "</div>"
      ],
      "text/plain": [
       "                           full_path  gender   dob  photo_taken\n",
       "0  [17/10000217_1981-05-05_2009.jpg]     1.0  1981         2009\n",
       "1  [48/10000548_1925-04-04_1964.jpg]     1.0  1925         1964\n",
       "2    [12/100012_1948-07-03_2008.jpg]     1.0  1948         2008\n",
       "3  [65/10001965_1930-05-23_1961.jpg]     1.0  1930         1961\n",
       "4  [16/10002116_1971-05-31_2012.jpg]     0.0  1971         2012"
      ]
     },
     "execution_count": 9,
     "metadata": {},
     "output_type": "execute_result"
    }
   ],
   "source": [
    "# Converting matlab time to a python datetime object\n",
    "\n",
    "# Not our function, found on Stack Overflow\n",
    "matlab2datetime = lambda dob: datetime.fromordinal(int(dob)) + timedelta(days=dob%1) - timedelta(days = 366)\n",
    "\n",
    "wiki_frame[\"dob\"] = wiki_frame[\"dob\"].apply(lambda x: matlab2datetime(x).year)\n",
    "wiki_frame.head()"
   ]
  },
  {
   "cell_type": "code",
   "execution_count": 10,
   "metadata": {
    "collapsed": false,
    "deletable": true,
    "editable": true
   },
   "outputs": [
    {
     "data": {
      "text/html": [
       "<div>\n",
       "<table border=\"1\" class=\"dataframe\">\n",
       "  <thead>\n",
       "    <tr style=\"text-align: right;\">\n",
       "      <th></th>\n",
       "      <th>full_path</th>\n",
       "      <th>gender</th>\n",
       "      <th>dob</th>\n",
       "      <th>photo_taken</th>\n",
       "      <th>age</th>\n",
       "    </tr>\n",
       "  </thead>\n",
       "  <tbody>\n",
       "    <tr>\n",
       "      <th>0</th>\n",
       "      <td>[17/10000217_1981-05-05_2009.jpg]</td>\n",
       "      <td>1.0</td>\n",
       "      <td>1981</td>\n",
       "      <td>2009</td>\n",
       "      <td>28</td>\n",
       "    </tr>\n",
       "    <tr>\n",
       "      <th>1</th>\n",
       "      <td>[48/10000548_1925-04-04_1964.jpg]</td>\n",
       "      <td>1.0</td>\n",
       "      <td>1925</td>\n",
       "      <td>1964</td>\n",
       "      <td>39</td>\n",
       "    </tr>\n",
       "    <tr>\n",
       "      <th>2</th>\n",
       "      <td>[12/100012_1948-07-03_2008.jpg]</td>\n",
       "      <td>1.0</td>\n",
       "      <td>1948</td>\n",
       "      <td>2008</td>\n",
       "      <td>60</td>\n",
       "    </tr>\n",
       "    <tr>\n",
       "      <th>3</th>\n",
       "      <td>[65/10001965_1930-05-23_1961.jpg]</td>\n",
       "      <td>1.0</td>\n",
       "      <td>1930</td>\n",
       "      <td>1961</td>\n",
       "      <td>31</td>\n",
       "    </tr>\n",
       "    <tr>\n",
       "      <th>4</th>\n",
       "      <td>[16/10002116_1971-05-31_2012.jpg]</td>\n",
       "      <td>0.0</td>\n",
       "      <td>1971</td>\n",
       "      <td>2012</td>\n",
       "      <td>41</td>\n",
       "    </tr>\n",
       "  </tbody>\n",
       "</table>\n",
       "</div>"
      ],
      "text/plain": [
       "                           full_path  gender   dob  photo_taken  age\n",
       "0  [17/10000217_1981-05-05_2009.jpg]     1.0  1981         2009   28\n",
       "1  [48/10000548_1925-04-04_1964.jpg]     1.0  1925         1964   39\n",
       "2    [12/100012_1948-07-03_2008.jpg]     1.0  1948         2008   60\n",
       "3  [65/10001965_1930-05-23_1961.jpg]     1.0  1930         1961   31\n",
       "4  [16/10002116_1971-05-31_2012.jpg]     0.0  1971         2012   41"
      ]
     },
     "execution_count": 10,
     "metadata": {},
     "output_type": "execute_result"
    }
   ],
   "source": [
    "# Creating age feature out of dob and photo_taken\n",
    "years_headers     = [\"photo_taken\",\"dob\"]\n",
    "wiki_frame[\"age\"] = wiki_frame[years_headers].apply(lambda x: x[0]-x[1], axis=1)\n",
    "wiki_frame.head()"
   ]
  },
  {
   "cell_type": "code",
   "execution_count": 11,
   "metadata": {
    "collapsed": false,
    "deletable": true,
    "editable": true
   },
   "outputs": [
    {
     "data": {
      "text/html": [
       "<div>\n",
       "<table border=\"1\" class=\"dataframe\">\n",
       "  <thead>\n",
       "    <tr style=\"text-align: right;\">\n",
       "      <th></th>\n",
       "      <th>full_path</th>\n",
       "      <th>gender</th>\n",
       "      <th>dob</th>\n",
       "      <th>photo_taken</th>\n",
       "      <th>age</th>\n",
       "    </tr>\n",
       "  </thead>\n",
       "  <tbody>\n",
       "    <tr>\n",
       "      <th>0</th>\n",
       "      <td>17/10000217_1981-05-05_2009.jpg</td>\n",
       "      <td>1.0</td>\n",
       "      <td>1981</td>\n",
       "      <td>2009</td>\n",
       "      <td>28</td>\n",
       "    </tr>\n",
       "    <tr>\n",
       "      <th>1</th>\n",
       "      <td>48/10000548_1925-04-04_1964.jpg</td>\n",
       "      <td>1.0</td>\n",
       "      <td>1925</td>\n",
       "      <td>1964</td>\n",
       "      <td>39</td>\n",
       "    </tr>\n",
       "    <tr>\n",
       "      <th>2</th>\n",
       "      <td>12/100012_1948-07-03_2008.jpg</td>\n",
       "      <td>1.0</td>\n",
       "      <td>1948</td>\n",
       "      <td>2008</td>\n",
       "      <td>60</td>\n",
       "    </tr>\n",
       "    <tr>\n",
       "      <th>3</th>\n",
       "      <td>65/10001965_1930-05-23_1961.jpg</td>\n",
       "      <td>1.0</td>\n",
       "      <td>1930</td>\n",
       "      <td>1961</td>\n",
       "      <td>31</td>\n",
       "    </tr>\n",
       "    <tr>\n",
       "      <th>4</th>\n",
       "      <td>16/10002116_1971-05-31_2012.jpg</td>\n",
       "      <td>0.0</td>\n",
       "      <td>1971</td>\n",
       "      <td>2012</td>\n",
       "      <td>41</td>\n",
       "    </tr>\n",
       "  </tbody>\n",
       "</table>\n",
       "</div>"
      ],
      "text/plain": [
       "                         full_path  gender   dob  photo_taken  age\n",
       "0  17/10000217_1981-05-05_2009.jpg     1.0  1981         2009   28\n",
       "1  48/10000548_1925-04-04_1964.jpg     1.0  1925         1964   39\n",
       "2    12/100012_1948-07-03_2008.jpg     1.0  1948         2008   60\n",
       "3  65/10001965_1930-05-23_1961.jpg     1.0  1930         1961   31\n",
       "4  16/10002116_1971-05-31_2012.jpg     0.0  1971         2012   41"
      ]
     },
     "execution_count": 11,
     "metadata": {},
     "output_type": "execute_result"
    }
   ],
   "source": [
    "# Converting full_path from 1-d array containing string to just the string\n",
    "wiki_frame[\"full_path\"] = wiki_frame[\"full_path\"].apply(lambda x: x[0])\n",
    "wiki_frame.head()"
   ]
  },
  {
   "cell_type": "markdown",
   "metadata": {
    "deletable": true,
    "editable": true
   },
   "source": [
    "## Part 2 - Initial values sanity check"
   ]
  },
  {
   "cell_type": "markdown",
   "metadata": {
    "deletable": true,
    "editable": true
   },
   "source": [
    "In this part of the notebook, we ensure that the current columns in our dataframe all have the types of values that we'd expect them to have."
   ]
  },
  {
   "cell_type": "markdown",
   "metadata": {
    "deletable": true,
    "editable": true
   },
   "source": [
    "### 2.1 Age problems"
   ]
  },
  {
   "cell_type": "code",
   "execution_count": 12,
   "metadata": {
    "collapsed": false,
    "deletable": true,
    "editable": true
   },
   "outputs": [
    {
     "name": "stdout",
     "output_type": "stream",
     "text": [
      "A total of 2.72429726608 percent of the data is faulty\n"
     ]
    }
   ],
   "source": [
    "# Nonsensical conditions in the dataset\n",
    "negative_ages   = wiki_frame[\"photo_taken\"] < wiki_frame[\"dob\"] \n",
    "ridiculous_ages = wiki_frame[\"age\"] > 100\n",
    "\n",
    "# Calculating count of bad and total data\n",
    "bad_rows_count    = wiki_frame[negative_ages | ridiculous_ages].shape[0]\n",
    "total_rows_count = wiki_frame.shape[0]\n",
    "\n",
    "# Quick report\n",
    "bad_percentage = ( bad_rows_count / float(total_rows_count) ) * 100\n",
    "print \"A total of %s percent of the data is faulty\" % bad_percentage"
   ]
  },
  {
   "cell_type": "markdown",
   "metadata": {
    "deletable": true,
    "editable": true
   },
   "source": [
    "That's not a problem. We can just drop them without loosing a significant amount of data. We expected these problems to be there because Wikipedia can be unreliable sometimes"
   ]
  },
  {
   "cell_type": "code",
   "execution_count": 13,
   "metadata": {
    "collapsed": false,
    "deletable": true,
    "editable": true
   },
   "outputs": [],
   "source": [
    "# Dropping bad data\n",
    "positive_ages   = wiki_frame[\"photo_taken\"] > wiki_frame[\"dob\"] \n",
    "reasonable_ages = wiki_frame[\"age\"] < 100\n",
    "\n",
    "wiki_frame = wiki_frame[positive_ages & reasonable_ages]"
   ]
  },
  {
   "cell_type": "code",
   "execution_count": 14,
   "metadata": {
    "collapsed": false,
    "deletable": true,
    "editable": true
   },
   "outputs": [
    {
     "name": "stdout",
     "output_type": "stream",
     "text": [
      "There are now 0 bad age values\n"
     ]
    }
   ],
   "source": [
    "# Sanity check\n",
    "\n",
    "# Nonsensical conditions in the dataset\n",
    "negative_ages   = wiki_frame[\"photo_taken\"] < wiki_frame[\"dob\"] \n",
    "ridiculous_ages = wiki_frame[\"age\"] > 100\n",
    "\n",
    "# Calculating count of bad and total data\n",
    "bad_rows_count    = wiki_frame[negative_ages | ridiculous_ages].shape[0]\n",
    "print \"There are now %s bad age values\" % bad_rows_count"
   ]
  },
  {
   "cell_type": "markdown",
   "metadata": {
    "deletable": true,
    "editable": true
   },
   "source": [
    "### 2.2 Gender problems"
   ]
  },
  {
   "cell_type": "code",
   "execution_count": 15,
   "metadata": {
    "collapsed": false,
    "deletable": true,
    "editable": true
   },
   "outputs": [
    {
     "data": {
      "text/plain": [
       "full_path         0\n",
       "gender         2476\n",
       "dob               0\n",
       "photo_taken       0\n",
       "age               0\n",
       "dtype: int64"
      ]
     },
     "execution_count": 15,
     "metadata": {},
     "output_type": "execute_result"
    }
   ],
   "source": [
    "# Checking for NaNs\n",
    "wiki_frame.isnull().sum()"
   ]
  },
  {
   "cell_type": "markdown",
   "metadata": {
    "deletable": true,
    "editable": true
   },
   "source": [
    "The gender column has NaN values. That's problematic. Let's see how much of the dataset we'd be missing if we drop them all"
   ]
  },
  {
   "cell_type": "code",
   "execution_count": 16,
   "metadata": {
    "collapsed": false,
    "deletable": true,
    "editable": true
   },
   "outputs": [
    {
     "name": "stdout",
     "output_type": "stream",
     "text": [
      "In total, 4.09879486161 pecent of the data is NaN\n"
     ]
    }
   ],
   "source": [
    "num_missing = wiki_frame[wiki_frame[\"gender\"].isnull()].shape[0]\n",
    "num_rows    = wiki_frame.shape[0]\n",
    "\n",
    "percentage_missing = (num_missing / float(num_rows)) * 100\n",
    "print \"In total, %s pecent of the data is NaN\" % percentage_missing"
   ]
  },
  {
   "cell_type": "code",
   "execution_count": 17,
   "metadata": {
    "collapsed": false,
    "deletable": true,
    "editable": true
   },
   "outputs": [],
   "source": [
    "# Preserving only rows without NaNs\n",
    "good_rows  = wiki_frame[\"gender\"].notnull()\n",
    "wiki_frame = wiki_frame[good_rows]"
   ]
  },
  {
   "cell_type": "code",
   "execution_count": 18,
   "metadata": {
    "collapsed": false,
    "deletable": true,
    "editable": true
   },
   "outputs": [
    {
     "name": "stdout",
     "output_type": "stream",
     "text": [
      "In total, now 0 percent of the data is NaN\n"
     ]
    }
   ],
   "source": [
    "# Sanity check\n",
    "num_missing = wiki_frame[wiki_frame[\"gender\"].isnull()].shape[0]\n",
    "print \"In total, now %d percent of the data is NaN\" % num_missing"
   ]
  },
  {
   "cell_type": "markdown",
   "metadata": {
    "deletable": true,
    "editable": true
   },
   "source": [
    "The dataframe was successfully loaded and type-corrected!"
   ]
  },
  {
   "cell_type": "code",
   "execution_count": 19,
   "metadata": {
    "collapsed": false,
    "deletable": true,
    "editable": true
   },
   "outputs": [
    {
     "name": "stdout",
     "output_type": "stream",
     "text": [
      "We are now working with 95 percent of the original dataset\n"
     ]
    }
   ],
   "source": [
    "rows_count = wiki_frame.shape[0]\n",
    "working_percentage = ( rows_count / float(num_rows) ) * 100\n",
    "print \"We are now working with %d percent of the original dataset\" % working_percentage"
   ]
  },
  {
   "cell_type": "code",
   "execution_count": 20,
   "metadata": {
    "collapsed": false,
    "deletable": true,
    "editable": true
   },
   "outputs": [
    {
     "data": {
      "text/html": [
       "<div>\n",
       "<table border=\"1\" class=\"dataframe\">\n",
       "  <thead>\n",
       "    <tr style=\"text-align: right;\">\n",
       "      <th></th>\n",
       "      <th>full_path</th>\n",
       "      <th>gender</th>\n",
       "      <th>age</th>\n",
       "    </tr>\n",
       "  </thead>\n",
       "  <tbody>\n",
       "    <tr>\n",
       "      <th>0</th>\n",
       "      <td>17/10000217_1981-05-05_2009.jpg</td>\n",
       "      <td>1.0</td>\n",
       "      <td>28</td>\n",
       "    </tr>\n",
       "    <tr>\n",
       "      <th>1</th>\n",
       "      <td>48/10000548_1925-04-04_1964.jpg</td>\n",
       "      <td>1.0</td>\n",
       "      <td>39</td>\n",
       "    </tr>\n",
       "    <tr>\n",
       "      <th>2</th>\n",
       "      <td>12/100012_1948-07-03_2008.jpg</td>\n",
       "      <td>1.0</td>\n",
       "      <td>60</td>\n",
       "    </tr>\n",
       "    <tr>\n",
       "      <th>3</th>\n",
       "      <td>65/10001965_1930-05-23_1961.jpg</td>\n",
       "      <td>1.0</td>\n",
       "      <td>31</td>\n",
       "    </tr>\n",
       "    <tr>\n",
       "      <th>4</th>\n",
       "      <td>16/10002116_1971-05-31_2012.jpg</td>\n",
       "      <td>0.0</td>\n",
       "      <td>41</td>\n",
       "    </tr>\n",
       "  </tbody>\n",
       "</table>\n",
       "</div>"
      ],
      "text/plain": [
       "                         full_path  gender  age\n",
       "0  17/10000217_1981-05-05_2009.jpg     1.0   28\n",
       "1  48/10000548_1925-04-04_1964.jpg     1.0   39\n",
       "2    12/100012_1948-07-03_2008.jpg     1.0   60\n",
       "3  65/10001965_1930-05-23_1961.jpg     1.0   31\n",
       "4  16/10002116_1971-05-31_2012.jpg     0.0   41"
      ]
     },
     "execution_count": 20,
     "metadata": {},
     "output_type": "execute_result"
    }
   ],
   "source": [
    "# Dropping unecessary headers one last time\n",
    "wiki_frame = wiki_frame[FINAL_HEADERS]\n",
    "wiki_frame.head()"
   ]
  },
  {
   "cell_type": "markdown",
   "metadata": {
    "deletable": true,
    "editable": true
   },
   "source": [
    "## Part 3 - Generating stratified cross-validation folds"
   ]
  },
  {
   "cell_type": "markdown",
   "metadata": {
    "deletable": true,
    "editable": true
   },
   "source": [
    "Now that the dataset has been curated, we can finally create our stratified cross-validation folds. We'll do a train/validation/test split of the following percentages: 60/20/20"
   ]
  },
  {
   "cell_type": "code",
   "execution_count": 21,
   "metadata": {
    "collapsed": false,
    "deletable": true,
    "editable": true
   },
   "outputs": [],
   "source": [
    "train_validation, test = train_test_split(wiki_frame, test_size = 0.2)"
   ]
  },
  {
   "cell_type": "code",
   "execution_count": 22,
   "metadata": {
    "collapsed": false,
    "deletable": true,
    "editable": true
   },
   "outputs": [],
   "source": [
    "train_validation.reset_index(inplace=True)\n",
    "test.reset_index(inplace=True)"
   ]
  },
  {
   "cell_type": "code",
   "execution_count": 23,
   "metadata": {
    "collapsed": true,
    "deletable": true,
    "editable": true
   },
   "outputs": [],
   "source": [
    "Y_train_validation_age    = train_validation[\"age\"]\n",
    "Y_train_validation_gender = train_validation[\"gender\"]"
   ]
  },
  {
   "cell_type": "code",
   "execution_count": 24,
   "metadata": {
    "collapsed": false,
    "deletable": true,
    "editable": true
   },
   "outputs": [],
   "source": [
    "num_folds = 10\n",
    "skf       = StratifiedShuffleSplit(n_splits=num_folds,random_state=0,test_size=0.2)"
   ]
  },
  {
   "cell_type": "code",
   "execution_count": 25,
   "metadata": {
    "collapsed": true,
    "deletable": true,
    "editable": true
   },
   "outputs": [],
   "source": [
    "age_folds    = []\n",
    "gender_folds = []"
   ]
  },
  {
   "cell_type": "code",
   "execution_count": 26,
   "metadata": {
    "collapsed": false,
    "deletable": true,
    "editable": true
   },
   "outputs": [],
   "source": [
    "for train_validation_tuple in skf.split(train_validation, Y_train_validation_age):\n",
    "    age_folds.append(train_validation_tuple) "
   ]
  },
  {
   "cell_type": "code",
   "execution_count": 27,
   "metadata": {
    "collapsed": false,
    "deletable": true,
    "editable": true
   },
   "outputs": [],
   "source": [
    "for train_validation_tuple in skf.split(train_validation, Y_train_validation_gender):\n",
    "    gender_folds.append(train_validation_tuple) "
   ]
  },
  {
   "cell_type": "markdown",
   "metadata": {
    "deletable": true,
    "editable": true
   },
   "source": [
    "We now have our fold indices! ALl that remains is now to save them in an easy to transport format. That occurs in the next and last section."
   ]
  },
  {
   "cell_type": "markdown",
   "metadata": {
    "deletable": true,
    "editable": true
   },
   "source": [
    "## Part 4 - Saving folds and testing set as DataFrames"
   ]
  },
  {
   "cell_type": "markdown",
   "metadata": {
    "deletable": true,
    "editable": true
   },
   "source": [
    "### 4.1 Age folds"
   ]
  },
  {
   "cell_type": "code",
   "execution_count": 28,
   "metadata": {
    "collapsed": false,
    "deletable": true,
    "editable": true
   },
   "outputs": [],
   "source": [
    "age_dataframes    = []\n",
    "gender_dataframes = []"
   ]
  },
  {
   "cell_type": "code",
   "execution_count": 29,
   "metadata": {
    "collapsed": false,
    "deletable": true,
    "editable": true
   },
   "outputs": [],
   "source": [
    "for fold in age_folds:\n",
    "    train_df = train_validation.ix[fold[0]].reset_index(inplace=False)\n",
    "    valid_df = train_validation.ix[fold[1]].reset_index(inplace=False)\n",
    "    fold_tupl = (train_df, valid_df)\n",
    "    age_dataframes.append(fold_tupl)\n",
    "    \n",
    "for fold in age_folds:\n",
    "    train_df = train_validation.ix[fold[0]].reset_index(inplace=False)\n",
    "    valid_df = train_validation.ix[fold[1]].reset_index(inplace=False)\n",
    "    fold_tupl = (train_df, valid_df)\n",
    "    gender_dataframes.append(fold_tupl)"
   ]
  },
  {
   "cell_type": "code",
   "execution_count": 30,
   "metadata": {
    "collapsed": true,
    "deletable": true,
    "editable": true
   },
   "outputs": [],
   "source": [
    "AGE_SAVE_PATH   = \"../data/wiki_folds/age/%s\"\n",
    "GENDER_SAVE_PATH = \"../data/wiki_folds/gender/%s\""
   ]
  },
  {
   "cell_type": "code",
   "execution_count": 31,
   "metadata": {
    "collapsed": false,
    "deletable": true,
    "editable": true
   },
   "outputs": [],
   "source": [
    "count = 1\n",
    "for train, valid in age_dataframes:\n",
    "    fname_t = \"train_%d.csv\" % count\n",
    "    fname_v = \"valid_%d.csv\" % count\n",
    "    train.to_csv(AGE_SAVE_PATH % fname_t)\n",
    "    valid.to_csv(AGE_SAVE_PATH % fname_v)\n",
    "    \n",
    "count = 1\n",
    "for train, valid in gender_dataframes:\n",
    "    fname_t = \"train_%d.csv\" % count\n",
    "    fname_v = \"valid_%d.csv\" % count\n",
    "    train.to_csv(GENDER_SAVE_PATH % fname_t)\n",
    "    valid.to_csv(GENDER_SAVE_PATH % fname_v)\n",
    "    count += 1"
   ]
  },
  {
   "cell_type": "markdown",
   "metadata": {
    "deletable": true,
    "editable": true
   },
   "source": [
    "We're done! Wohoo :)"
   ]
  }
 ],
 "metadata": {
  "kernelspec": {
   "display_name": "Python 2",
   "language": "python",
   "name": "python2"
  },
  "language_info": {
   "codemirror_mode": {
    "name": "ipython",
    "version": 2
   },
   "file_extension": ".py",
   "mimetype": "text/x-python",
   "name": "python",
   "nbconvert_exporter": "python",
   "pygments_lexer": "ipython2",
   "version": "2.7.6"
  }
 },
 "nbformat": 4,
 "nbformat_minor": 2
}
