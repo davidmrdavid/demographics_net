{
 "cells": [
  {
   "cell_type": "markdown",
   "metadata": {
    "deletable": true,
    "editable": true
   },
   "source": [
    "# Model Evaluation"
   ]
  },
  {
   "cell_type": "markdown",
   "metadata": {
    "deletable": true,
    "editable": true
   },
   "source": [
    "## 1. Setup"
   ]
  },
  {
   "cell_type": "code",
   "execution_count": 1,
   "metadata": {
    "collapsed": false,
    "deletable": true,
    "editable": true
   },
   "outputs": [
    {
     "name": "stderr",
     "output_type": "stream",
     "text": [
      "Using TensorFlow backend.\n"
     ]
    }
   ],
   "source": [
    "# NECESSARY IMPORTS\n",
    "import pandas as pd\n",
    "import numpy  as np\n",
    "\n",
    "from keras.models     import Sequential\n",
    "from keras.layers     import Dense, Dropout, Activation, Flatten, advanced_activations\n",
    "from keras.layers     import Convolution2D, MaxPooling2D\n",
    "from keras.optimizers import SGD, Adam\n",
    "\n",
    "from keras import initializations\n",
    "from keras.callbacks import ModelCheckpoint\n",
    "import keras.backend     as K\n",
    "import matplotlib.pyplot as plt\n",
    "\n",
    "from pandas                     import Series\n",
    "from scipy.misc                 import imresize\n",
    "from keras.layers.normalization import BatchNormalization\n",
    "from keras.preprocessing.image  import (ImageDataGenerator, \n",
    "                                        array_to_img,\n",
    "                                        img_to_array,\n",
    "                                        load_img)\n",
    "from keras.wrappers.scikit_learn import KerasClassifier\n",
    "from sklearn.metrics import precision_score, recall_score, f1_score, confusion_matrix"
   ]
  },
  {
   "cell_type": "code",
   "execution_count": 2,
   "metadata": {
    "collapsed": false,
    "deletable": true,
    "editable": true
   },
   "outputs": [],
   "source": [
    "%matplotlib inline"
   ]
  },
  {
   "cell_type": "code",
   "execution_count": 3,
   "metadata": {
    "collapsed": false,
    "deletable": true,
    "editable": true
   },
   "outputs": [
    {
     "data": {
      "text/plain": [
       "['__call__',\n",
       " '__class__',\n",
       " '__closure__',\n",
       " '__code__',\n",
       " '__defaults__',\n",
       " '__delattr__',\n",
       " '__dict__',\n",
       " '__doc__',\n",
       " '__format__',\n",
       " '__get__',\n",
       " '__getattribute__',\n",
       " '__globals__',\n",
       " '__hash__',\n",
       " '__init__',\n",
       " '__module__',\n",
       " '__name__',\n",
       " '__new__',\n",
       " '__reduce__',\n",
       " '__reduce_ex__',\n",
       " '__repr__',\n",
       " '__setattr__',\n",
       " '__sizeof__',\n",
       " '__str__',\n",
       " '__subclasshook__',\n",
       " 'func_closure',\n",
       " 'func_code',\n",
       " 'func_defaults',\n",
       " 'func_dict',\n",
       " 'func_doc',\n",
       " 'func_globals',\n",
       " 'func_name']"
      ]
     },
     "execution_count": 3,
     "metadata": {},
     "output_type": "execute_result"
    }
   ],
   "source": [
    "dir(initializations.normal)"
   ]
  },
  {
   "cell_type": "code",
   "execution_count": 4,
   "metadata": {
    "collapsed": true,
    "deletable": true,
    "editable": true
   },
   "outputs": [],
   "source": [
    "# Ensure reproducibility\n",
    "np.random.seed(0)"
   ]
  },
  {
   "cell_type": "code",
   "execution_count": 5,
   "metadata": {
    "collapsed": true,
    "deletable": true,
    "editable": true
   },
   "outputs": [],
   "source": [
    "# Path constants\n",
    "DATA_TEMPLATE     = \"./../../data/\"\n",
    "ADIENCE_META_P    = DATA_TEMPLATE + \"adience/meta\"\n",
    "ADIENCE_RAW_P     = DATA_TEMPLATE + \"adience/keras_format\"\n",
    "ADIENCE_AGE_P     = ADIENCE_RAW_P + \"/age\"\n",
    "ADIENCE_GEN_P     = ADIENCE_RAW_P + \"/gender\"\n",
    "IMG_PATH          = DATA_TEMPLATE + \"wiki/%s\"\n",
    "\n",
    "WIKI_META_P       = DATA_TEMPLATE + \"wiki_meta\"\n",
    "MODEL_TEMPLATE    = \"./models/%s\"\n",
    "WEIGHTS_TEMPLATE  = \"./weights/%s\"\n",
    "GRAPHS_TEMPLATE   = \"./graphs/%s\"\n",
    "HISTORY_TEMPLATE   = \"./histories/%s\""
   ]
  },
  {
   "cell_type": "code",
   "execution_count": 6,
   "metadata": {
    "collapsed": false,
    "deletable": true,
    "editable": true
   },
   "outputs": [],
   "source": [
    "# Independent constants\n",
    "MODEL_NAME = \"1_gender_SGD1e3_randomNormal_LHet_ReLu-OG\"\n",
    "INITIALIZATION = 'normal'\n",
    "LOSS           = \"categorical_crossentropy\"\n",
    "OPTIMIZER      = SGD(lr=1e-3)\n",
    "BATCH_SIZE     = 32\n",
    "\n",
    "\n",
    "PIC_NAME     = GRAPHS_TEMPLATE % (MODEL_NAME + \".png\")\n",
    "PIC_NAME_FINETUNING = GRAPHS_TEMPLATE % (MODEL_NAME + \"_finetuning_.png\")\n",
    "WEIGHTS_NAME = WEIGHTS_TEMPLATE % (MODEL_NAME + \".h5\")\n",
    "TRA_HISTORY_NAME = HISTORY_TEMPLATE % (MODEL_NAME + \"_train_\"+\".npy\")\n",
    "VAL_HISTORY_NAME = HISTORY_TEMPLATE % (MODEL_NAME + \"_valid_\"+\".npy\")\n",
    "\n",
    "\n",
    "WEIGHTS_NAME_FINETUNING = WEIGHTS_TEMPLATE % (MODEL_NAME + \"_finetuning_.h5\")\n",
    "TRA_HISTORY_NAME_FINETUNING = HISTORY_TEMPLATE % (MODEL_NAME + \"_train_\"+\"_finetuning_.npy\")\n",
    "VAL_HISTORY_NAME_FINETUNING = HISTORY_TEMPLATE % (MODEL_NAME + \"_valid_\"+\"_finetuning_.npy\")\n",
    "\n",
    "IMG_WIDTH  = 227\n",
    "IMG_HEIGHT = 227\n",
    "\n",
    "\n",
    "ADIENCE_FULL = [\"idx\",\"user_id\",\"face_id\",\"original_image\",\"gender\",\"age\",\"img_path\",\"keras_path\"]\n",
    "ADIENCE_HEADER = [\"user_id\",\"face_id\",\"original_image\",\"gender\",\"age\",\"img_path\",\"keras_path\"]\n",
    "WIKI_HEADER    = [\"full_path\",\"age\",\"gender\"]\n",
    "\n",
    "NUM_EPOCHS  = 1500\n",
    "NUM_EPOCHS2 = 500\n",
    "\n",
    "\n",
    "BEST_CHECKPOINT = MODEL_NAME + \".weights.{epoch:02d}-{val_loss:.2f}.hdf5\"\n",
    "BEST_CHECKPOINT_FINE = MODEL_NAME + \"FINETUNE.weights.{epoch:02d}-{val_loss:.2f}.hdf5\""
   ]
  },
  {
   "cell_type": "code",
   "execution_count": 7,
   "metadata": {
    "collapsed": false,
    "deletable": true,
    "editable": true
   },
   "outputs": [],
   "source": [
    "callback1 = ModelCheckpoint(BEST_CHECKPOINT, monitor='val_loss', verbose=0, save_best_only=True, save_weights_only=True, mode='auto', period=10)"
   ]
  },
  {
   "cell_type": "code",
   "execution_count": 8,
   "metadata": {
    "collapsed": true,
    "deletable": true,
    "editable": true
   },
   "outputs": [],
   "source": [
    "callback2 = ModelCheckpoint(BEST_CHECKPOINT_FINE, monitor='val_loss', verbose=0, save_best_only=True, save_weights_only=True, mode='auto', period=10)"
   ]
  },
  {
   "cell_type": "code",
   "execution_count": 9,
   "metadata": {
    "collapsed": false,
    "deletable": true,
    "editable": true
   },
   "outputs": [],
   "source": [
    "# Dependent constants\n",
    "IMG_DIMS = (IMG_WIDTH, IMG_HEIGHT)\n",
    "MODEL_W  = MODEL_NAME + \".h5\"\n",
    "MODEL_P  = MODEL_NAME + \".txt\" "
   ]
  },
  {
   "cell_type": "markdown",
   "metadata": {
    "deletable": true,
    "editable": true
   },
   "source": [
    "## 2. Loading metadata"
   ]
  },
  {
   "cell_type": "markdown",
   "metadata": {
    "deletable": true,
    "editable": true
   },
   "source": [
    "### Adience"
   ]
  },
  {
   "cell_type": "code",
   "execution_count": 10,
   "metadata": {
    "collapsed": false,
    "deletable": true,
    "editable": true
   },
   "outputs": [],
   "source": [
    "gender_train_path = ADIENCE_META_P + \"/gender_train_0.csv\"\n",
    "gender_valid_path = ADIENCE_META_P + \"/gender_valid_0.csv\"\n",
    "gender_train = pd.read_csv(filepath_or_buffer =gender_train_path)\n",
    "gender_valid = pd.read_csv(filepath_or_buffer =gender_valid_path)\n",
    "\n",
    "gender_train = gender_train[ADIENCE_HEADER]\n",
    "gender_valid = gender_valid[ADIENCE_HEADER]"
   ]
  },
  {
   "cell_type": "code",
   "execution_count": 11,
   "metadata": {
    "collapsed": false,
    "deletable": true,
    "editable": true
   },
   "outputs": [],
   "source": [
    "age_train_path = ADIENCE_META_P + \"/age_train_0.csv\"\n",
    "age_valid_path = ADIENCE_META_P + \"/age_valid_0.csv\"\n",
    "age_train = pd.read_csv(filepath_or_buffer =gender_train_path)\n",
    "age_valid = pd.read_csv(filepath_or_buffer =gender_valid_path)\n",
    "\n",
    "age_train = age_train[ADIENCE_HEADER]\n",
    "age_valid = age_valid[ADIENCE_HEADER]"
   ]
  },
  {
   "cell_type": "markdown",
   "metadata": {
    "deletable": true,
    "editable": true
   },
   "source": [
    "### Wiki"
   ]
  },
  {
   "cell_type": "code",
   "execution_count": 12,
   "metadata": {
    "collapsed": false,
    "deletable": true,
    "editable": true
   },
   "outputs": [],
   "source": [
    "w_gender_train_path = WIKI_META_P + \"/gender/train_1.csv\"\n",
    "w_gender_valid_path = WIKI_META_P + \"/gender/valid_1.csv\"\n",
    "\n",
    "w_gender_train = pd.read_csv(filepath_or_buffer =w_gender_train_path)\n",
    "w_gender_valid = pd.read_csv(filepath_or_buffer =w_gender_valid_path)\n",
    "\n",
    "w_gender_train = w_gender_train[WIKI_HEADER]\n",
    "w_gender_valid = w_gender_valid[WIKI_HEADER]"
   ]
  },
  {
   "cell_type": "code",
   "execution_count": 13,
   "metadata": {
    "collapsed": false,
    "deletable": true,
    "editable": true
   },
   "outputs": [],
   "source": [
    "w_age_train_path = WIKI_META_P + \"/gender/train_1.csv\"\n",
    "w_age_valid_path = WIKI_META_P + \"/gender/valid_1.csv\"\n",
    "w_age_train = pd.read_csv(filepath_or_buffer =w_age_train_path)\n",
    "w_age_valid = pd.read_csv(filepath_or_buffer =w_age_valid_path)\n",
    "\n",
    "w_age_train = w_age_train[WIKI_HEADER]\n",
    "w_age_valid = w_age_valid[WIKI_HEADER]"
   ]
  },
  {
   "cell_type": "markdown",
   "metadata": {
    "deletable": true,
    "editable": true
   },
   "source": [
    "### SHALLOW-ONLY TASK: Fix age ranges"
   ]
  },
  {
   "cell_type": "code",
   "execution_count": 14,
   "metadata": {
    "collapsed": false,
    "deletable": true,
    "editable": true
   },
   "outputs": [],
   "source": [
    "def fix_age_ranges(age):\n",
    "    if age < 4:\n",
    "        return \"(0, 2)\"\n",
    "    if age < 8:\n",
    "        return \"(4, 6)\"\n",
    "    if age < 15:\n",
    "        return \"(8, 13)\"\n",
    "    if age < 25:\n",
    "        return \"(15, 20)\"\n",
    "    if age < 38:\n",
    "        return \"(25, 32)\"\n",
    "    if age < 48:\n",
    "        return \"(38, 43)\"\n",
    "    if age < 60:\n",
    "        return \"(48, 53)\"\n",
    "    return \"(60-100)\"\n",
    "\n",
    "w_age_train[\"age\"]    = w_age_train[\"age\"].apply(lambda x: fix_age_ranges(x))\n",
    "w_age_valid[\"age\"]    = w_age_valid[\"age\"].apply(lambda x: fix_age_ranges(x))\n",
    "w_gender_train[\"age\"] = w_gender_train[\"age\"].apply(lambda x: fix_age_ranges(x))\n",
    "w_gender_valid[\"age\"] = w_gender_valid[\"age\"].apply(lambda x: fix_age_ranges(x))"
   ]
  },
  {
   "cell_type": "markdown",
   "metadata": {
    "deletable": true,
    "editable": true
   },
   "source": [
    "## 3. Data pipeline"
   ]
  },
  {
   "cell_type": "markdown",
   "metadata": {
    "deletable": true,
    "editable": true
   },
   "source": [
    "### 3.1 Adience"
   ]
  },
  {
   "cell_type": "code",
   "execution_count": 15,
   "metadata": {
    "collapsed": false,
    "deletable": true,
    "editable": true
   },
   "outputs": [],
   "source": [
    "adience_train_aug = ImageDataGenerator(\n",
    "        rotation_range=40,\n",
    "        width_shift_range=0.2,\n",
    "        height_shift_range=0.2,\n",
    "        shear_range=0.2,\n",
    "        zoom_range=0.2,\n",
    "        rescale=1./255,\n",
    "        horizontal_flip=True,\n",
    "        fill_mode='nearest')"
   ]
  },
  {
   "cell_type": "code",
   "execution_count": 16,
   "metadata": {
    "collapsed": true,
    "deletable": true,
    "editable": true
   },
   "outputs": [],
   "source": [
    "adience_valid_aug = ImageDataGenerator(rescale=1./255)"
   ]
  },
  {
   "cell_type": "markdown",
   "metadata": {
    "deletable": true,
    "editable": true
   },
   "source": [
    "### Train"
   ]
  },
  {
   "cell_type": "code",
   "execution_count": 17,
   "metadata": {
    "collapsed": false,
    "deletable": true,
    "editable": true
   },
   "outputs": [
    {
     "name": "stdout",
     "output_type": "stream",
     "text": [
      "Found 10505 images belonging to 2 classes.\n"
     ]
    }
   ],
   "source": [
    "ADIENCE_GENDER_TRAIN_P = ADIENCE_GEN_P + \"/train/1\"\n",
    "adience_gender_train_gen = adience_train_aug.flow_from_directory(\n",
    "    ADIENCE_GENDER_TRAIN_P,\n",
    "    target_size=IMG_DIMS,\n",
    "    batch_size=BATCH_SIZE,\n",
    "    class_mode=\"categorical\")"
   ]
  },
  {
   "cell_type": "code",
   "execution_count": 18,
   "metadata": {
    "collapsed": false,
    "deletable": true,
    "editable": true
   },
   "outputs": [
    {
     "name": "stdout",
     "output_type": "stream",
     "text": [
      "Found 10505 images belonging to 8 classes.\n"
     ]
    }
   ],
   "source": [
    "ADIENCE_AGE_TRAIN_P = ADIENCE_AGE_P + \"/train/1\"\n",
    "adience_age_train_gen = adience_train_aug.flow_from_directory(\n",
    "    ADIENCE_AGE_TRAIN_P,\n",
    "    target_size=IMG_DIMS,\n",
    "    batch_size=BATCH_SIZE,\n",
    "    class_mode=\"categorical\")"
   ]
  },
  {
   "cell_type": "markdown",
   "metadata": {
    "deletable": true,
    "editable": true
   },
   "source": [
    "### Validation"
   ]
  },
  {
   "cell_type": "code",
   "execution_count": 19,
   "metadata": {
    "collapsed": false,
    "deletable": true,
    "editable": true
   },
   "outputs": [
    {
     "name": "stdout",
     "output_type": "stream",
     "text": [
      "Found 3502 images belonging to 2 classes.\n"
     ]
    }
   ],
   "source": [
    "ADIENCE_GENDER_VALID_P = ADIENCE_GEN_P + \"/valid/1\"\n",
    "adience_gender_valid_gen = adience_valid_aug.flow_from_directory(\n",
    "    ADIENCE_GENDER_VALID_P,\n",
    "    target_size=IMG_DIMS,\n",
    "    batch_size=BATCH_SIZE,\n",
    "    class_mode=\"categorical\")"
   ]
  },
  {
   "cell_type": "code",
   "execution_count": 20,
   "metadata": {
    "collapsed": false,
    "deletable": true,
    "editable": true
   },
   "outputs": [
    {
     "name": "stdout",
     "output_type": "stream",
     "text": [
      "Found 3502 images belonging to 8 classes.\n"
     ]
    }
   ],
   "source": [
    "ADIENCE_AGE_VALID_P = ADIENCE_AGE_P + \"/valid/1\"\n",
    "adience_age_valid_gen = adience_valid_aug.flow_from_directory(\n",
    "    ADIENCE_AGE_VALID_P,\n",
    "    target_size=IMG_DIMS,\n",
    "    batch_size=BATCH_SIZE,\n",
    "    class_mode=\"categorical\")"
   ]
  },
  {
   "cell_type": "markdown",
   "metadata": {
    "deletable": true,
    "editable": true
   },
   "source": [
    "### Test"
   ]
  },
  {
   "cell_type": "code",
   "execution_count": 21,
   "metadata": {
    "collapsed": false,
    "deletable": true,
    "editable": true
   },
   "outputs": [
    {
     "name": "stdout",
     "output_type": "stream",
     "text": [
      "Found 3445 images belonging to 2 classes.\n"
     ]
    }
   ],
   "source": [
    "ADIENCE_GENDER_TEST_P = ADIENCE_GEN_P + \"/test/\"\n",
    "adience_gender_test_gen = adience_valid_aug.flow_from_directory(\n",
    "    ADIENCE_GENDER_TEST_P,\n",
    "    target_size=IMG_DIMS,\n",
    "    batch_size=BATCH_SIZE,\n",
    "    class_mode=\"categorical\")"
   ]
  },
  {
   "cell_type": "code",
   "execution_count": 22,
   "metadata": {
    "collapsed": false,
    "deletable": true,
    "editable": true
   },
   "outputs": [
    {
     "name": "stdout",
     "output_type": "stream",
     "text": [
      "Found 3445 images belonging to 8 classes.\n"
     ]
    }
   ],
   "source": [
    "ADIENCE_AGE_TEST_P = ADIENCE_AGE_P + \"/test/\"\n",
    "adience_age_test_gen = adience_valid_aug.flow_from_directory(\n",
    "    ADIENCE_AGE_TEST_P,\n",
    "    target_size=IMG_DIMS,\n",
    "    batch_size=BATCH_SIZE,\n",
    "    class_mode=\"categorical\")"
   ]
  },
  {
   "cell_type": "markdown",
   "metadata": {
    "deletable": true,
    "editable": true
   },
   "source": [
    "### 3.2 Wiki"
   ]
  },
  {
   "cell_type": "code",
   "execution_count": 23,
   "metadata": {
    "collapsed": false,
    "deletable": true,
    "editable": true
   },
   "outputs": [],
   "source": [
    "true_path = lambda x: IMG_PATH % x\n",
    "w_age_train[\"full_path\"]    = w_age_train[\"full_path\"].apply(lambda x: true_path(x))\n",
    "w_gender_train[\"full_path\"] = w_gender_train[\"full_path\"].apply(lambda x: true_path(x))\n",
    "w_age_valid[\"full_path\"]    = w_age_valid[\"full_path\"].apply(lambda x: true_path(x))\n",
    "w_gender_valid[\"full_path\"] = w_gender_valid[\"full_path\"].apply(lambda x: true_path(x))"
   ]
  },
  {
   "cell_type": "code",
   "execution_count": 24,
   "metadata": {
    "collapsed": true,
    "deletable": true,
    "editable": true
   },
   "outputs": [],
   "source": [
    "def get_image(x):\n",
    "    try:\n",
    "        val = img_to_array(imresize(load_img(x),IMG_DIMS))\n",
    "    except:\n",
    "        val = \"ERR\"\n",
    "    return val"
   ]
  },
  {
   "cell_type": "code",
   "execution_count": 25,
   "metadata": {
    "collapsed": false,
    "deletable": true,
    "editable": true
   },
   "outputs": [],
   "source": [
    "# Data generator\n",
    "def generate_test(df, batch_size, target_feature):\n",
    "    start, end = 0, batch_size\n",
    "    while True:\n",
    "        while end < len(dfs.shape[0]):\n",
    "            ages_h = list(pd.get_dummies(data[\"age\"]).columns.values)\n",
    "            ages   = pd.get_dummies(data[\"age\"])\n",
    "            data[ages_h] = ages\n",
    "\n",
    "            sample = data[start:end]\n",
    "            start += batch_size\n",
    "            end   += batch_size\n",
    "\n",
    "            X         = pd.DataFrame(sample[\"full_path\"].apply(lambda x:get_image(x)))\n",
    "            good_rows = X[\"full_path\"] != \"ERR\"\n",
    "            X         = X[good_rows]\n",
    "            X.reset_index(inplace=True)\n",
    "            X = X[\"full_path\"].apply(lambda x: x.reshape((1,)+ x.shape))\n",
    "            X = np.vstack(X)\n",
    "            X /= 255\n",
    "\n",
    "            #X = model.predict(X, X.shape[0])\n",
    "\n",
    "            Y = sample[good_rows]\n",
    "            if target_feature == \"age\":\n",
    "                Y = Y[ages_h].as_matrix()\n",
    "            else:\n",
    "                Y = pd.get_dummies(Y[\"gender\"]).as_matrix()\n",
    "            yield (X,Y)"
   ]
  },
  {
   "cell_type": "code",
   "execution_count": 26,
   "metadata": {
    "collapsed": false,
    "deletable": true,
    "editable": true
   },
   "outputs": [],
   "source": [
    "# Data generator\n",
    "def generate_data(df, batch_size, target_feature):\n",
    "    start, end = 0, batch_size\n",
    "    while True:\n",
    "        data   = df.sample(frac=1).reset_index(drop=True)\n",
    "        ages_h = list(pd.get_dummies(data[\"age\"]).columns.values)\n",
    "        ages   = pd.get_dummies(data[\"age\"])\n",
    "        data[ages_h] = ages\n",
    "        \n",
    "        sample = data[start:end]\n",
    "        \n",
    "        X         = pd.DataFrame(sample[\"full_path\"].apply(lambda x:get_image(x)))\n",
    "        good_rows = X[\"full_path\"] != \"ERR\"\n",
    "        X         = X[good_rows]\n",
    "        X.reset_index(inplace=True)\n",
    "        X = X[\"full_path\"].apply(lambda x: x.reshape((1,)+ x.shape))\n",
    "        X = np.vstack(X)\n",
    "        X /= 255\n",
    "        #X = model.predict(X, X.shape[0])\n",
    "        \n",
    "        Y = sample[good_rows]\n",
    "        if target_feature == \"age\":\n",
    "            Y = Y[ages_h].as_matrix()\n",
    "        else:\n",
    "            Y = pd.get_dummies(Y[\"gender\"]).as_matrix()\n",
    "        yield (X,Y)"
   ]
  },
  {
   "cell_type": "code",
   "execution_count": 27,
   "metadata": {
    "collapsed": false,
    "deletable": true,
    "editable": true
   },
   "outputs": [],
   "source": [
    "w_age_train_gen = generate_data(w_age_train, BATCH_SIZE, \"age\")\n",
    "w_age_valid_gen = generate_data(w_age_valid, BATCH_SIZE, \"age\")\n",
    "w_gender_train_gen = generate_data(w_gender_train, BATCH_SIZE, \"gender\")\n",
    "w_gender_valid_gen = generate_data(w_gender_valid, BATCH_SIZE, \"gender\")"
   ]
  },
  {
   "cell_type": "code",
   "execution_count": 28,
   "metadata": {
    "collapsed": false,
    "deletable": true,
    "editable": true
   },
   "outputs": [],
   "source": [
    "from keras.engine.topology import Layer\n",
    "class LRN2D(Layer):\n",
    "    \"\"\"\n",
    "    This code is adapted from pylearn2.\n",
    "    License at: https://github.com/lisa-lab/pylearn2/blob/master/LICENSE.txt\n",
    "    \"\"\"\n",
    "\n",
    "    def __init__(self, alpha=1e-4, k=2, beta=0.75, n=5):\n",
    "        if n % 2 == 0:\n",
    "            raise NotImplementedError(\"LRN2D only works with odd n. n provided: \" + str(n))\n",
    "        super(LRN2D, self).__init__()\n",
    "        self.alpha = alpha\n",
    "        self.k = k\n",
    "        self.beta = beta\n",
    "        self.n = n\n",
    "\n",
    "    def get_output(self, train):\n",
    "        X = self.get_input(train)\n",
    "        b, ch, r, c = X.shape\n",
    "        half_n = self.n // 2\n",
    "        input_sqr = T.sqr(X)\n",
    "        extra_channels = T.alloc(0., b, ch + 2*half_n, r, c)\n",
    "        input_sqr = T.set_subtensor(extra_channels[:, half_n:half_n+ch, :, :], input_sqr)\n",
    "        scale = self.k\n",
    "        for i in range(self.n):\n",
    "            scale += self.alpha * input_sqr[:, i:i+ch, :, :]\n",
    "        scale = scale ** self.beta\n",
    "        return X / scale\n",
    "\n",
    "    def get_config(self):\n",
    "        return {\"name\": self.__class__.__name__,\n",
    "                \"alpha\": self.alpha,\n",
    "                \"k\": self.k,\n",
    "                \"beta\": self.beta,\n",
    "\"n\": self.n}"
   ]
  },
  {
   "cell_type": "markdown",
   "metadata": {
    "deletable": true,
    "editable": true
   },
   "source": [
    "## 4. Building the model"
   ]
  },
  {
   "cell_type": "code",
   "execution_count": 29,
   "metadata": {
    "collapsed": false,
    "deletable": true,
    "editable": true
   },
   "outputs": [],
   "source": [
    "# Building a vainilla CNN\n",
    "model = Sequential()\n",
    "model.add(Convolution2D(96, 7, 7, input_shape=(IMG_WIDTH,IMG_HEIGHT,3), init=INITIALIZATION))\n",
    "model.add(Activation('relu'))\n",
    "model.add(MaxPooling2D(pool_size=(3, 3),strides=(2,2)))\n",
    "model.add(LRN2D())\n",
    "\n",
    "model.add(Convolution2D(256, 5, 5, init=INITIALIZATION))\n",
    "model.add(Activation('relu'))\n",
    "model.add(Convolution2D(64, 3, 3, init=INITIALIZATION))\n",
    "model.add(Activation('relu'))\n",
    "model.add(MaxPooling2D(pool_size=(2, 2)))\n",
    "model.add(LRN2D())\n",
    "\n",
    "model.add(Convolution2D(384, 3, 3, init=INITIALIZATION))\n",
    "model.add(Activation('relu'))\n",
    "model.add(MaxPooling2D(pool_size=(3, 3)))\n",
    "\n",
    "model.add(Flatten())\n",
    "model.add(Dense(output_dim=512,input_dim=512, init=INITIALIZATION))\n",
    "model.add(Dropout(0.5))\n",
    "model.add(Activation('relu'))\n",
    "model.add(Dense(output_dim=512,input_dim=512, init=INITIALIZATION))\n",
    "model.add(Dropout(0.5))\n",
    "model.add(Activation('relu'))\n",
    "model.add(Dense(output_dim=2))\n",
    "model.add(Activation(\"softmax\"))\n"
   ]
  },
  {
   "cell_type": "code",
   "execution_count": null,
   "metadata": {
    "collapsed": false,
    "deletable": true,
    "editable": true
   },
   "outputs": [],
   "source": [
    "model.compile(loss=LOSS, optimizer=OPTIMIZER, metrics=['accuracy', 'recall', 'precision','f1score'])"
   ]
  },
  {
   "cell_type": "markdown",
   "metadata": {
    "deletable": true,
    "editable": true
   },
   "source": [
    "## 6. Training the model"
   ]
  },
  {
   "cell_type": "code",
   "execution_count": null,
   "metadata": {
    "collapsed": false,
    "deletable": true,
    "editable": true
   },
   "outputs": [
    {
     "name": "stdout",
     "output_type": "stream",
     "text": [
      "Epoch 1/1500\n"
     ]
    },
    {
     "name": "stderr",
     "output_type": "stream",
     "text": [
      "/usr/local/lib/python2.7/dist-packages/pandas/core/ops.py:739: FutureWarning: elementwise comparison failed; returning scalar instead, but in the future will perform elementwise comparison\n",
      "  result = lib.scalar_compare(x, y, op)\n"
     ]
    },
    {
     "name": "stdout",
     "output_type": "stream",
     "text": [
      "32/32 [==============================] - 8s - loss: 5.4338 - acc: 0.4062 - recall: 0.4062 - precision: 0.4062 - fmeasure: 0.4062 - val_loss: 2.5626 - val_acc: 0.8125 - val_recall: 0.8125 - val_precision: 0.8125 - val_fmeasure: 0.8125\n",
      "Epoch 2/1500\n",
      "32/32 [==============================] - 1s - loss: 2.0441 - acc: 0.8125 - recall: 0.8125 - precision: 0.8125 - fmeasure: 0.8125 - val_loss: 2.3311 - val_acc: 0.8438 - val_recall: 0.8438 - val_precision: 0.8438 - val_fmeasure: 0.8437\n",
      "Epoch 3/1500\n",
      "32/32 [==============================] - 1s - loss: 4.4144 - acc: 0.5625 - recall: 0.5625 - precision: 0.5625 - fmeasure: 0.5625 - val_loss: 1.3091 - val_acc: 0.7812 - val_recall: 0.7812 - val_precision: 0.7812 - val_fmeasure: 0.7812\n",
      "Epoch 4/1500\n",
      "32/32 [==============================] - 1s - loss: 3.3900 - acc: 0.6875 - recall: 0.6875 - precision: 0.6875 - fmeasure: 0.6875 - val_loss: 4.1578 - val_acc: 0.6875 - val_recall: 0.6875 - val_precision: 0.6875 - val_fmeasure: 0.6875\n",
      "Epoch 5/1500\n",
      "32/32 [==============================] - 1s - loss: 2.2185 - acc: 0.7188 - recall: 0.7188 - precision: 0.7188 - fmeasure: 0.7187 - val_loss: 1.7385 - val_acc: 0.7812 - val_recall: 0.7812 - val_precision: 0.7812 - val_fmeasure: 0.7812\n",
      "Epoch 6/1500\n",
      "32/32 [==============================] - 1s - loss: 3.6690 - acc: 0.5625 - recall: 0.5625 - precision: 0.5625 - fmeasure: 0.5625 - val_loss: 2.8102 - val_acc: 0.7500 - val_recall: 0.7500 - val_precision: 0.7500 - val_fmeasure: 0.7500\n",
      "Epoch 7/1500\n",
      "32/32 [==============================] - 1s - loss: 2.0569 - acc: 0.7500 - recall: 0.7500 - precision: 0.7500 - fmeasure: 0.7500 - val_loss: 2.1773 - val_acc: 0.8125 - val_recall: 0.8125 - val_precision: 0.8125 - val_fmeasure: 0.8125\n",
      "Epoch 8/1500\n",
      "32/32 [==============================] - 1s - loss: 1.1275 - acc: 0.9062 - recall: 0.9062 - precision: 0.9062 - fmeasure: 0.9062 - val_loss: 2.2003 - val_acc: 0.7812 - val_recall: 0.7812 - val_precision: 0.7812 - val_fmeasure: 0.7812\n",
      "Epoch 9/1500\n",
      "32/32 [==============================] - 1s - loss: 3.1007 - acc: 0.6250 - recall: 0.6250 - precision: 0.6250 - fmeasure: 0.6250 - val_loss: 1.1245 - val_acc: 0.8438 - val_recall: 0.8438 - val_precision: 0.8438 - val_fmeasure: 0.8437\n",
      "Epoch 10/1500\n",
      "32/32 [==============================] - 1s - loss: 1.7233 - acc: 0.6875 - recall: 0.6875 - precision: 0.6875 - fmeasure: 0.6875 - val_loss: 0.9914 - val_acc: 0.8438 - val_recall: 0.8438 - val_precision: 0.8438 - val_fmeasure: 0.8437\n",
      "Epoch 11/1500\n",
      "32/32 [==============================] - 1s - loss: 2.5495 - acc: 0.6875 - recall: 0.6875 - precision: 0.6875 - fmeasure: 0.6875 - val_loss: 0.6137 - val_acc: 0.8750 - val_recall: 0.8750 - val_precision: 0.8750 - val_fmeasure: 0.8750\n",
      "Epoch 12/1500\n",
      "32/32 [==============================] - 1s - loss: 2.7840 - acc: 0.5625 - recall: 0.5625 - precision: 0.5625 - fmeasure: 0.5625 - val_loss: 1.5474 - val_acc: 0.8125 - val_recall: 0.8125 - val_precision: 0.8125 - val_fmeasure: 0.8125\n",
      "Epoch 13/1500\n",
      "32/32 [==============================] - 1s - loss: 3.6393 - acc: 0.5625 - recall: 0.5625 - precision: 0.5625 - fmeasure: 0.5625 - val_loss: 0.5220 - val_acc: 0.7812 - val_recall: 0.7812 - val_precision: 0.7812 - val_fmeasure: 0.7812\n",
      "Epoch 14/1500\n",
      "32/32 [==============================] - 1s - loss: 1.9927 - acc: 0.6562 - recall: 0.6562 - precision: 0.6562 - fmeasure: 0.6562 - val_loss: 1.2087 - val_acc: 0.7188 - val_recall: 0.7188 - val_precision: 0.7188 - val_fmeasure: 0.7187\n",
      "Epoch 15/1500\n",
      "32/32 [==============================] - 1s - loss: 1.9330 - acc: 0.6562 - recall: 0.6562 - precision: 0.6562 - fmeasure: 0.6562 - val_loss: 0.3755 - val_acc: 0.9062 - val_recall: 0.9062 - val_precision: 0.9062 - val_fmeasure: 0.9062\n",
      "Epoch 16/1500\n",
      "32/32 [==============================] - 1s - loss: 2.1473 - acc: 0.5938 - recall: 0.5938 - precision: 0.5938 - fmeasure: 0.5937 - val_loss: 1.3315 - val_acc: 0.5312 - val_recall: 0.5312 - val_precision: 0.5312 - val_fmeasure: 0.5312\n",
      "Epoch 17/1500\n",
      "32/32 [==============================] - 1s - loss: 1.4304 - acc: 0.5000 - recall: 0.5000 - precision: 0.5000 - fmeasure: 0.5000 - val_loss: 0.6036 - val_acc: 0.7188 - val_recall: 0.7188 - val_precision: 0.7188 - val_fmeasure: 0.7187\n",
      "Epoch 18/1500\n",
      "32/32 [==============================] - 1s - loss: 2.3369 - acc: 0.5625 - recall: 0.5625 - precision: 0.5625 - fmeasure: 0.5625 - val_loss: 0.5784 - val_acc: 0.6250 - val_recall: 0.6250 - val_precision: 0.6250 - val_fmeasure: 0.6250\n",
      "Epoch 19/1500\n",
      "32/32 [==============================] - 1s - loss: 1.3686 - acc: 0.5625 - recall: 0.5625 - precision: 0.5625 - fmeasure: 0.5625 - val_loss: 0.4709 - val_acc: 0.7812 - val_recall: 0.7812 - val_precision: 0.7812 - val_fmeasure: 0.7812\n",
      "Epoch 20/1500\n",
      "32/32 [==============================] - 1s - loss: 1.7272 - acc: 0.5312 - recall: 0.5312 - precision: 0.5312 - fmeasure: 0.5312 - val_loss: 0.4687 - val_acc: 0.8125 - val_recall: 0.8125 - val_precision: 0.8125 - val_fmeasure: 0.8125\n",
      "Epoch 21/1500\n",
      "32/32 [==============================] - 1s - loss: 1.9436 - acc: 0.5312 - recall: 0.5312 - precision: 0.5312 - fmeasure: 0.5312 - val_loss: 0.6593 - val_acc: 0.6250 - val_recall: 0.6250 - val_precision: 0.6250 - val_fmeasure: 0.6250\n",
      "Epoch 22/1500\n",
      "32/32 [==============================] - 1s - loss: 0.9182 - acc: 0.6250 - recall: 0.6250 - precision: 0.6250 - fmeasure: 0.6250 - val_loss: 0.6420 - val_acc: 0.7500 - val_recall: 0.7500 - val_precision: 0.7500 - val_fmeasure: 0.7500\n",
      "Epoch 23/1500\n",
      "32/32 [==============================] - 1s - loss: 1.1162 - acc: 0.5625 - recall: 0.5625 - precision: 0.5625 - fmeasure: 0.5625 - val_loss: 0.6607 - val_acc: 0.7500 - val_recall: 0.7500 - val_precision: 0.7500 - val_fmeasure: 0.7500\n",
      "Epoch 24/1500\n",
      "32/32 [==============================] - 1s - loss: 0.8907 - acc: 0.6875 - recall: 0.6875 - precision: 0.6875 - fmeasure: 0.6875 - val_loss: 0.5223 - val_acc: 0.8438 - val_recall: 0.8438 - val_precision: 0.8438 - val_fmeasure: 0.8437\n",
      "Epoch 25/1500\n",
      "32/32 [==============================] - 1s - loss: 1.3671 - acc: 0.6562 - recall: 0.6562 - precision: 0.6562 - fmeasure: 0.6562 - val_loss: 0.5519 - val_acc: 0.7812 - val_recall: 0.7812 - val_precision: 0.7812 - val_fmeasure: 0.7812\n",
      "Epoch 26/1500\n",
      "32/32 [==============================] - 1s - loss: 0.9307 - acc: 0.6250 - recall: 0.6250 - precision: 0.6250 - fmeasure: 0.6250 - val_loss: 0.8398 - val_acc: 0.7188 - val_recall: 0.7188 - val_precision: 0.7188 - val_fmeasure: 0.7187\n",
      "Epoch 27/1500\n",
      "32/32 [==============================] - 1s - loss: 0.5611 - acc: 0.7500 - recall: 0.7500 - precision: 0.7500 - fmeasure: 0.7500 - val_loss: 0.4853 - val_acc: 0.8750 - val_recall: 0.8750 - val_precision: 0.8750 - val_fmeasure: 0.8750\n",
      "Epoch 28/1500\n",
      "32/32 [==============================] - 1s - loss: 0.8090 - acc: 0.6875 - recall: 0.6875 - precision: 0.6875 - fmeasure: 0.6875 - val_loss: 0.6500 - val_acc: 0.7500 - val_recall: 0.7500 - val_precision: 0.7500 - val_fmeasure: 0.7500\n",
      "Epoch 29/1500\n",
      "32/32 [==============================] - 1s - loss: 1.1943 - acc: 0.5312 - recall: 0.5312 - precision: 0.5312 - fmeasure: 0.5312 - val_loss: 0.5763 - val_acc: 0.7812 - val_recall: 0.7812 - val_precision: 0.7812 - val_fmeasure: 0.7812\n",
      "Epoch 30/1500\n",
      "32/32 [==============================] - 1s - loss: 1.0766 - acc: 0.5312 - recall: 0.5312 - precision: 0.5312 - fmeasure: 0.5312 - val_loss: 0.5727 - val_acc: 0.7500 - val_recall: 0.7500 - val_precision: 0.7500 - val_fmeasure: 0.7500\n",
      "Epoch 31/1500\n",
      "32/32 [==============================] - 1s - loss: 0.7530 - acc: 0.5938 - recall: 0.5938 - precision: 0.5938 - fmeasure: 0.5937 - val_loss: 0.5273 - val_acc: 0.8125 - val_recall: 0.8125 - val_precision: 0.8125 - val_fmeasure: 0.8125\n",
      "Epoch 32/1500\n",
      "32/32 [==============================] - 1s - loss: 0.7607 - acc: 0.7812 - recall: 0.7812 - precision: 0.7812 - fmeasure: 0.7812 - val_loss: 0.5372 - val_acc: 0.8125 - val_recall: 0.8125 - val_precision: 0.8125 - val_fmeasure: 0.8125\n",
      "Epoch 33/1500\n",
      "32/32 [==============================] - 1s - loss: 1.1106 - acc: 0.5000 - recall: 0.5000 - precision: 0.5000 - fmeasure: 0.5000 - val_loss: 0.5390 - val_acc: 0.7812 - val_recall: 0.7812 - val_precision: 0.7812 - val_fmeasure: 0.7812\n",
      "Epoch 34/1500\n",
      "32/32 [==============================] - 1s - loss: 1.0274 - acc: 0.4062 - recall: 0.4062 - precision: 0.4062 - fmeasure: 0.4062 - val_loss: 0.6547 - val_acc: 0.7812 - val_recall: 0.7812 - val_precision: 0.7812 - val_fmeasure: 0.7812\n",
      "Epoch 35/1500\n",
      "32/32 [==============================] - 1s - loss: 0.9446 - acc: 0.6250 - recall: 0.6250 - precision: 0.6250 - fmeasure: 0.6250 - val_loss: 0.5478 - val_acc: 0.7500 - val_recall: 0.7500 - val_precision: 0.7500 - val_fmeasure: 0.7500\n",
      "Epoch 36/1500\n",
      "32/32 [==============================] - 1s - loss: 0.9150 - acc: 0.5625 - recall: 0.5625 - precision: 0.5625 - fmeasure: 0.5625 - val_loss: 0.6604 - val_acc: 0.6875 - val_recall: 0.6875 - val_precision: 0.6875 - val_fmeasure: 0.6875\n",
      "Epoch 37/1500\n",
      "32/32 [==============================] - 1s - loss: 0.9078 - acc: 0.5938 - recall: 0.5938 - precision: 0.5938 - fmeasure: 0.5937 - val_loss: 0.5744 - val_acc: 0.7500 - val_recall: 0.7500 - val_precision: 0.7500 - val_fmeasure: 0.7500\n",
      "Epoch 38/1500\n",
      "32/32 [==============================] - 1s - loss: 0.6706 - acc: 0.7188 - recall: 0.7188 - precision: 0.7188 - fmeasure: 0.7187 - val_loss: 0.5653 - val_acc: 0.7500 - val_recall: 0.7500 - val_precision: 0.7500 - val_fmeasure: 0.7500\n",
      "Epoch 39/1500\n",
      "32/32 [==============================] - 1s - loss: 0.6347 - acc: 0.6875 - recall: 0.6875 - precision: 0.6875 - fmeasure: 0.6875 - val_loss: 0.5810 - val_acc: 0.7812 - val_recall: 0.7812 - val_precision: 0.7812 - val_fmeasure: 0.7812\n",
      "Epoch 40/1500\n",
      "32/32 [==============================] - 1s - loss: 0.6299 - acc: 0.7812 - recall: 0.7812 - precision: 0.7812 - fmeasure: 0.7812 - val_loss: 0.5875 - val_acc: 0.7500 - val_recall: 0.7500 - val_precision: 0.7500 - val_fmeasure: 0.7500\n",
      "Epoch 41/1500\n",
      "32/32 [==============================] - 1s - loss: 0.7770 - acc: 0.5938 - recall: 0.5938 - precision: 0.5938 - fmeasure: 0.5937 - val_loss: 0.5990 - val_acc: 0.7500 - val_recall: 0.7500 - val_precision: 0.7500 - val_fmeasure: 0.7500\n",
      "Epoch 42/1500\n",
      "32/32 [==============================] - 1s - loss: 0.5191 - acc: 0.8438 - recall: 0.8438 - precision: 0.8438 - fmeasure: 0.8437 - val_loss: 0.6124 - val_acc: 0.8438 - val_recall: 0.8438 - val_precision: 0.8438 - val_fmeasure: 0.8437\n",
      "Epoch 43/1500\n",
      "32/32 [==============================] - 1s - loss: 0.7523 - acc: 0.6562 - recall: 0.6562 - precision: 0.6562 - fmeasure: 0.6562 - val_loss: 0.5214 - val_acc: 0.8125 - val_recall: 0.8125 - val_precision: 0.8125 - val_fmeasure: 0.8125\n",
      "Epoch 44/1500\n",
      "32/32 [==============================] - 1s - loss: 0.5892 - acc: 0.7500 - recall: 0.7500 - precision: 0.7500 - fmeasure: 0.7500 - val_loss: 0.5105 - val_acc: 0.8125 - val_recall: 0.8125 - val_precision: 0.8125 - val_fmeasure: 0.8125\n",
      "Epoch 45/1500\n",
      "32/32 [==============================] - 1s - loss: 0.3858 - acc: 0.7812 - recall: 0.7812 - precision: 0.7812 - fmeasure: 0.7812 - val_loss: 0.5051 - val_acc: 0.7812 - val_recall: 0.7812 - val_precision: 0.7812 - val_fmeasure: 0.7812\n",
      "Epoch 46/1500\n",
      "32/32 [==============================] - 1s - loss: 0.5389 - acc: 0.8125 - recall: 0.8125 - precision: 0.8125 - fmeasure: 0.8125 - val_loss: 0.5447 - val_acc: 0.8125 - val_recall: 0.8125 - val_precision: 0.8125 - val_fmeasure: 0.8125\n",
      "Epoch 47/1500\n",
      "32/32 [==============================] - 1s - loss: 0.6464 - acc: 0.6562 - recall: 0.6562 - precision: 0.6562 - fmeasure: 0.6562 - val_loss: 0.4514 - val_acc: 0.8438 - val_recall: 0.8438 - val_precision: 0.8438 - val_fmeasure: 0.8437\n",
      "Epoch 48/1500\n",
      "32/32 [==============================] - 1s - loss: 0.5131 - acc: 0.7188 - recall: 0.7188 - precision: 0.7188 - fmeasure: 0.7187 - val_loss: 0.5497 - val_acc: 0.7188 - val_recall: 0.7188 - val_precision: 0.7188 - val_fmeasure: 0.7187\n",
      "Epoch 49/1500\n",
      "32/32 [==============================] - 1s - loss: 0.5112 - acc: 0.7188 - recall: 0.7188 - precision: 0.7188 - fmeasure: 0.7187 - val_loss: 0.9633 - val_acc: 0.6562 - val_recall: 0.6562 - val_precision: 0.6562 - val_fmeasure: 0.6562\n",
      "Epoch 50/1500\n",
      "32/32 [==============================] - 1s - loss: 0.6209 - acc: 0.7500 - recall: 0.7500 - precision: 0.7500 - fmeasure: 0.7500 - val_loss: 0.3272 - val_acc: 0.9062 - val_recall: 0.9062 - val_precision: 0.9062 - val_fmeasure: 0.9062\n",
      "Epoch 51/1500\n",
      "32/32 [==============================] - 1s - loss: 0.4923 - acc: 0.8125 - recall: 0.8125 - precision: 0.8125 - fmeasure: 0.8125 - val_loss: 0.5215 - val_acc: 0.8438 - val_recall: 0.8438 - val_precision: 0.8438 - val_fmeasure: 0.8437\n",
      "Epoch 52/1500\n",
      "32/32 [==============================] - 1s - loss: 0.6817 - acc: 0.6250 - recall: 0.6250 - precision: 0.6250 - fmeasure: 0.6250 - val_loss: 0.4399 - val_acc: 0.8125 - val_recall: 0.8125 - val_precision: 0.8125 - val_fmeasure: 0.8125\n",
      "Epoch 53/1500\n",
      "32/32 [==============================] - 1s - loss: 1.0537 - acc: 0.6250 - recall: 0.6250 - precision: 0.6250 - fmeasure: 0.6250 - val_loss: 0.5692 - val_acc: 0.7812 - val_recall: 0.7812 - val_precision: 0.7812 - val_fmeasure: 0.7812\n",
      "Epoch 54/1500\n",
      "32/32 [==============================] - 1s - loss: 0.7905 - acc: 0.6250 - recall: 0.6250 - precision: 0.6250 - fmeasure: 0.6250 - val_loss: 0.6632 - val_acc: 0.6875 - val_recall: 0.6875 - val_precision: 0.6875 - val_fmeasure: 0.6875\n",
      "Epoch 55/1500\n",
      "32/32 [==============================] - 1s - loss: 0.5644 - acc: 0.7812 - recall: 0.7812 - precision: 0.7812 - fmeasure: 0.7812 - val_loss: 0.5581 - val_acc: 0.7812 - val_recall: 0.7812 - val_precision: 0.7812 - val_fmeasure: 0.7812\n",
      "Epoch 56/1500\n",
      "32/32 [==============================] - 1s - loss: 1.0489 - acc: 0.6562 - recall: 0.6562 - precision: 0.6562 - fmeasure: 0.6562 - val_loss: 0.6306 - val_acc: 0.7188 - val_recall: 0.7188 - val_precision: 0.7188 - val_fmeasure: 0.7187\n",
      "Epoch 57/1500\n",
      "32/32 [==============================] - 1s - loss: 0.5245 - acc: 0.7188 - recall: 0.7188 - precision: 0.7188 - fmeasure: 0.7187 - val_loss: 0.4976 - val_acc: 0.8438 - val_recall: 0.8438 - val_precision: 0.8438 - val_fmeasure: 0.8437\n",
      "Epoch 58/1500\n",
      "32/32 [==============================] - 1s - loss: 0.8210 - acc: 0.6250 - recall: 0.6250 - precision: 0.6250 - fmeasure: 0.6250 - val_loss: 0.5238 - val_acc: 0.8438 - val_recall: 0.8438 - val_precision: 0.8438 - val_fmeasure: 0.8437\n",
      "Epoch 59/1500\n",
      "32/32 [==============================] - 1s - loss: 0.7926 - acc: 0.5938 - recall: 0.5938 - precision: 0.5938 - fmeasure: 0.5937 - val_loss: 0.6598 - val_acc: 0.7500 - val_recall: 0.7500 - val_precision: 0.7500 - val_fmeasure: 0.7500\n",
      "Epoch 60/1500\n",
      "32/32 [==============================] - 1s - loss: 0.5843 - acc: 0.7500 - recall: 0.7500 - precision: 0.7500 - fmeasure: 0.7500 - val_loss: 0.4859 - val_acc: 0.8125 - val_recall: 0.8125 - val_precision: 0.8125 - val_fmeasure: 0.8125\n",
      "Epoch 61/1500\n",
      "32/32 [==============================] - 1s - loss: 0.6718 - acc: 0.7500 - recall: 0.7500 - precision: 0.7500 - fmeasure: 0.7500 - val_loss: 0.6441 - val_acc: 0.7188 - val_recall: 0.7188 - val_precision: 0.7188 - val_fmeasure: 0.7187\n",
      "Epoch 62/1500\n",
      "32/32 [==============================] - 1s - loss: 0.8079 - acc: 0.5625 - recall: 0.5625 - precision: 0.5625 - fmeasure: 0.5625 - val_loss: 0.7975 - val_acc: 0.6562 - val_recall: 0.6562 - val_precision: 0.6562 - val_fmeasure: 0.6562\n",
      "Epoch 63/1500\n",
      "32/32 [==============================] - 1s - loss: 0.7903 - acc: 0.7188 - recall: 0.7188 - precision: 0.7188 - fmeasure: 0.7187 - val_loss: 0.5529 - val_acc: 0.8125 - val_recall: 0.8125 - val_precision: 0.8125 - val_fmeasure: 0.8125\n",
      "Epoch 64/1500\n",
      "32/32 [==============================] - 1s - loss: 0.4957 - acc: 0.8438 - recall: 0.8438 - precision: 0.8438 - fmeasure: 0.8437 - val_loss: 0.5841 - val_acc: 0.8438 - val_recall: 0.8438 - val_precision: 0.8438 - val_fmeasure: 0.8437\n",
      "Epoch 65/1500\n",
      "32/32 [==============================] - 1s - loss: 0.5606 - acc: 0.8125 - recall: 0.8125 - precision: 0.8125 - fmeasure: 0.8125 - val_loss: 0.4805 - val_acc: 0.8438 - val_recall: 0.8438 - val_precision: 0.8438 - val_fmeasure: 0.8437\n",
      "Epoch 66/1500\n",
      "32/32 [==============================] - 1s - loss: 0.5640 - acc: 0.7812 - recall: 0.7812 - precision: 0.7812 - fmeasure: 0.7812 - val_loss: 0.5668 - val_acc: 0.7812 - val_recall: 0.7812 - val_precision: 0.7812 - val_fmeasure: 0.7812\n",
      "Epoch 67/1500\n",
      "32/32 [==============================] - 1s - loss: 0.7970 - acc: 0.5938 - recall: 0.5938 - precision: 0.5938 - fmeasure: 0.5937 - val_loss: 0.5709 - val_acc: 0.8125 - val_recall: 0.8125 - val_precision: 0.8125 - val_fmeasure: 0.8125\n",
      "Epoch 68/1500\n",
      "32/32 [==============================] - 1s - loss: 0.5380 - acc: 0.7188 - recall: 0.7188 - precision: 0.7188 - fmeasure: 0.7187 - val_loss: 0.5781 - val_acc: 0.7812 - val_recall: 0.7812 - val_precision: 0.7812 - val_fmeasure: 0.7812\n",
      "Epoch 69/1500\n",
      "32/32 [==============================] - 1s - loss: 0.8298 - acc: 0.7188 - recall: 0.7188 - precision: 0.7188 - fmeasure: 0.7187 - val_loss: 0.5450 - val_acc: 0.7812 - val_recall: 0.7812 - val_precision: 0.7812 - val_fmeasure: 0.7812\n",
      "Epoch 70/1500\n",
      "32/32 [==============================] - 1s - loss: 0.5974 - acc: 0.6875 - recall: 0.6875 - precision: 0.6875 - fmeasure: 0.6875 - val_loss: 0.6473 - val_acc: 0.7188 - val_recall: 0.7188 - val_precision: 0.7188 - val_fmeasure: 0.7187\n",
      "Epoch 71/1500\n",
      "32/32 [==============================] - 1s - loss: 0.7026 - acc: 0.5000 - recall: 0.5000 - precision: 0.5000 - fmeasure: 0.5000 - val_loss: 0.3967 - val_acc: 0.9062 - val_recall: 0.9062 - val_precision: 0.9062 - val_fmeasure: 0.9062\n",
      "Epoch 72/1500\n",
      "32/32 [==============================] - 1s - loss: 0.6169 - acc: 0.8125 - recall: 0.8125 - precision: 0.8125 - fmeasure: 0.8125 - val_loss: 0.6098 - val_acc: 0.6875 - val_recall: 0.6875 - val_precision: 0.6875 - val_fmeasure: 0.6875\n",
      "Epoch 73/1500\n",
      "32/32 [==============================] - 1s - loss: 0.6393 - acc: 0.7500 - recall: 0.7500 - precision: 0.7500 - fmeasure: 0.7500 - val_loss: 0.5520 - val_acc: 0.7188 - val_recall: 0.7188 - val_precision: 0.7188 - val_fmeasure: 0.7187\n",
      "Epoch 74/1500\n",
      "32/32 [==============================] - 1s - loss: 0.5513 - acc: 0.8438 - recall: 0.8438 - precision: 0.8438 - fmeasure: 0.8437 - val_loss: 0.6240 - val_acc: 0.7500 - val_recall: 0.7500 - val_precision: 0.7500 - val_fmeasure: 0.7500\n",
      "Epoch 75/1500\n",
      "32/32 [==============================] - 1s - loss: 0.6136 - acc: 0.6562 - recall: 0.6562 - precision: 0.6562 - fmeasure: 0.6562 - val_loss: 0.5089 - val_acc: 0.8125 - val_recall: 0.8125 - val_precision: 0.8125 - val_fmeasure: 0.8125\n",
      "Epoch 76/1500\n",
      "32/32 [==============================] - 1s - loss: 0.5523 - acc: 0.7500 - recall: 0.7500 - precision: 0.7500 - fmeasure: 0.7500 - val_loss: 0.5462 - val_acc: 0.8438 - val_recall: 0.8438 - val_precision: 0.8438 - val_fmeasure: 0.8437\n",
      "Epoch 77/1500\n",
      "32/32 [==============================] - 1s - loss: 0.6506 - acc: 0.6562 - recall: 0.6562 - precision: 0.6562 - fmeasure: 0.6562 - val_loss: 0.3970 - val_acc: 0.9062 - val_recall: 0.9062 - val_precision: 0.9062 - val_fmeasure: 0.9062\n",
      "Epoch 78/1500\n",
      "32/32 [==============================] - 1s - loss: 0.6030 - acc: 0.5938 - recall: 0.5938 - precision: 0.5938 - fmeasure: 0.5937 - val_loss: 0.5268 - val_acc: 0.8125 - val_recall: 0.8125 - val_precision: 0.8125 - val_fmeasure: 0.8125\n",
      "Epoch 79/1500\n",
      "32/32 [==============================] - 1s - loss: 0.5946 - acc: 0.8125 - recall: 0.8125 - precision: 0.8125 - fmeasure: 0.8125 - val_loss: 0.6694 - val_acc: 0.6875 - val_recall: 0.6875 - val_precision: 0.6875 - val_fmeasure: 0.6875\n",
      "Epoch 80/1500\n",
      "32/32 [==============================] - 1s - loss: 0.4917 - acc: 0.8750 - recall: 0.8750 - precision: 0.8750 - fmeasure: 0.8750 - val_loss: 0.6177 - val_acc: 0.7812 - val_recall: 0.7812 - val_precision: 0.7812 - val_fmeasure: 0.7812\n",
      "Epoch 81/1500\n",
      "32/32 [==============================] - 1s - loss: 0.4602 - acc: 0.7812 - recall: 0.7812 - precision: 0.7812 - fmeasure: 0.7812 - val_loss: 0.3937 - val_acc: 0.9375 - val_recall: 0.9375 - val_precision: 0.9375 - val_fmeasure: 0.9375\n",
      "Epoch 82/1500\n",
      "32/32 [==============================] - 1s - loss: 0.6566 - acc: 0.7188 - recall: 0.7188 - precision: 0.7188 - fmeasure: 0.7187 - val_loss: 0.5684 - val_acc: 0.6875 - val_recall: 0.6875 - val_precision: 0.6875 - val_fmeasure: 0.6875\n",
      "Epoch 83/1500\n",
      "32/32 [==============================] - 1s - loss: 0.7594 - acc: 0.6562 - recall: 0.6562 - precision: 0.6562 - fmeasure: 0.6562 - val_loss: 0.4773 - val_acc: 0.8438 - val_recall: 0.8438 - val_precision: 0.8438 - val_fmeasure: 0.8437\n",
      "Epoch 84/1500\n",
      "32/32 [==============================] - 1s - loss: 0.7223 - acc: 0.6875 - recall: 0.6875 - precision: 0.6875 - fmeasure: 0.6875 - val_loss: 0.5700 - val_acc: 0.7500 - val_recall: 0.7500 - val_precision: 0.7500 - val_fmeasure: 0.7500\n",
      "Epoch 85/1500\n",
      "32/32 [==============================] - 1s - loss: 0.5481 - acc: 0.7500 - recall: 0.7500 - precision: 0.7500 - fmeasure: 0.7500 - val_loss: 0.5955 - val_acc: 0.7812 - val_recall: 0.7812 - val_precision: 0.7812 - val_fmeasure: 0.7812\n",
      "Epoch 86/1500\n",
      "32/32 [==============================] - 1s - loss: 0.7081 - acc: 0.5938 - recall: 0.5938 - precision: 0.5938 - fmeasure: 0.5937 - val_loss: 0.3853 - val_acc: 0.9375 - val_recall: 0.9375 - val_precision: 0.9375 - val_fmeasure: 0.9375\n",
      "Epoch 87/1500\n",
      "32/32 [==============================] - 1s - loss: 0.6919 - acc: 0.5625 - recall: 0.5625 - precision: 0.5625 - fmeasure: 0.5625 - val_loss: 0.7039 - val_acc: 0.6875 - val_recall: 0.6875 - val_precision: 0.6875 - val_fmeasure: 0.6875\n",
      "Epoch 88/1500\n",
      "32/32 [==============================] - 1s - loss: 0.6092 - acc: 0.7500 - recall: 0.7500 - precision: 0.7500 - fmeasure: 0.7500 - val_loss: 0.5583 - val_acc: 0.8125 - val_recall: 0.8125 - val_precision: 0.8125 - val_fmeasure: 0.8125\n",
      "Epoch 89/1500\n",
      "32/32 [==============================] - 1s - loss: 0.6563 - acc: 0.6562 - recall: 0.6562 - precision: 0.6562 - fmeasure: 0.6562 - val_loss: 0.5015 - val_acc: 0.8438 - val_recall: 0.8438 - val_precision: 0.8438 - val_fmeasure: 0.8437\n",
      "Epoch 90/1500\n",
      "32/32 [==============================] - 1s - loss: 0.5477 - acc: 0.7812 - recall: 0.7812 - precision: 0.7812 - fmeasure: 0.7812 - val_loss: 0.6897 - val_acc: 0.6250 - val_recall: 0.6250 - val_precision: 0.6250 - val_fmeasure: 0.6250\n",
      "Epoch 91/1500\n",
      "32/32 [==============================] - 1s - loss: 0.5919 - acc: 0.7188 - recall: 0.7188 - precision: 0.7188 - fmeasure: 0.7187 - val_loss: 0.5889 - val_acc: 0.8750 - val_recall: 0.8750 - val_precision: 0.8750 - val_fmeasure: 0.8750\n",
      "Epoch 92/1500\n",
      "32/32 [==============================] - 1s - loss: 0.7837 - acc: 0.6562 - recall: 0.6562 - precision: 0.6562 - fmeasure: 0.6562 - val_loss: 0.5533 - val_acc: 0.7188 - val_recall: 0.7188 - val_precision: 0.7188 - val_fmeasure: 0.7187\n",
      "Epoch 93/1500\n",
      "32/32 [==============================] - 1s - loss: 0.5753 - acc: 0.8750 - recall: 0.8750 - precision: 0.8750 - fmeasure: 0.8750 - val_loss: 0.5312 - val_acc: 0.8438 - val_recall: 0.8438 - val_precision: 0.8438 - val_fmeasure: 0.8437\n",
      "Epoch 94/1500\n",
      "32/32 [==============================] - 1s - loss: 0.7396 - acc: 0.7188 - recall: 0.7188 - precision: 0.7188 - fmeasure: 0.7187 - val_loss: 0.5536 - val_acc: 0.7500 - val_recall: 0.7500 - val_precision: 0.7500 - val_fmeasure: 0.7500\n",
      "Epoch 95/1500\n",
      "32/32 [==============================] - 1s - loss: 0.4821 - acc: 0.8750 - recall: 0.8750 - precision: 0.8750 - fmeasure: 0.8750 - val_loss: 0.5840 - val_acc: 0.7500 - val_recall: 0.7500 - val_precision: 0.7500 - val_fmeasure: 0.7500\n",
      "Epoch 96/1500\n",
      "32/32 [==============================] - 1s - loss: 0.8260 - acc: 0.6250 - recall: 0.6250 - precision: 0.6250 - fmeasure: 0.6250 - val_loss: 0.4516 - val_acc: 0.8750 - val_recall: 0.8750 - val_precision: 0.8750 - val_fmeasure: 0.8750\n",
      "Epoch 97/1500\n",
      "32/32 [==============================] - 1s - loss: 0.4586 - acc: 0.7812 - recall: 0.7812 - precision: 0.7812 - fmeasure: 0.7812 - val_loss: 0.6513 - val_acc: 0.7188 - val_recall: 0.7188 - val_precision: 0.7188 - val_fmeasure: 0.7187\n",
      "Epoch 98/1500\n",
      "32/32 [==============================] - 1s - loss: 0.7360 - acc: 0.7500 - recall: 0.7500 - precision: 0.7500 - fmeasure: 0.7500 - val_loss: 0.5970 - val_acc: 0.8125 - val_recall: 0.8125 - val_precision: 0.8125 - val_fmeasure: 0.8125\n",
      "Epoch 99/1500\n",
      "32/32 [==============================] - 1s - loss: 0.9045 - acc: 0.6250 - recall: 0.6250 - precision: 0.6250 - fmeasure: 0.6250 - val_loss: 0.5618 - val_acc: 0.7812 - val_recall: 0.7812 - val_precision: 0.7812 - val_fmeasure: 0.7812\n",
      "Epoch 100/1500\n",
      "32/32 [==============================] - 1s - loss: 0.5661 - acc: 0.8125 - recall: 0.8125 - precision: 0.8125 - fmeasure: 0.8125 - val_loss: 0.6342 - val_acc: 0.7500 - val_recall: 0.7500 - val_precision: 0.7500 - val_fmeasure: 0.7500\n",
      "Epoch 101/1500\n",
      "32/32 [==============================] - 1s - loss: 0.5657 - acc: 0.8125 - recall: 0.8125 - precision: 0.8125 - fmeasure: 0.8125 - val_loss: 0.5208 - val_acc: 0.8438 - val_recall: 0.8438 - val_precision: 0.8438 - val_fmeasure: 0.8437\n",
      "Epoch 102/1500\n",
      "32/32 [==============================] - 1s - loss: 0.5890 - acc: 0.6562 - recall: 0.6562 - precision: 0.6562 - fmeasure: 0.6562 - val_loss: 0.5093 - val_acc: 0.8750 - val_recall: 0.8750 - val_precision: 0.8750 - val_fmeasure: 0.8750\n",
      "Epoch 103/1500\n",
      "32/32 [==============================] - 1s - loss: 0.5861 - acc: 0.6875 - recall: 0.6875 - precision: 0.6875 - fmeasure: 0.6875 - val_loss: 0.7397 - val_acc: 0.6562 - val_recall: 0.6562 - val_precision: 0.6562 - val_fmeasure: 0.6562\n",
      "Epoch 104/1500\n",
      "32/32 [==============================] - 1s - loss: 0.7528 - acc: 0.5938 - recall: 0.5938 - precision: 0.5938 - fmeasure: 0.5937 - val_loss: 0.5227 - val_acc: 0.8438 - val_recall: 0.8438 - val_precision: 0.8438 - val_fmeasure: 0.8437\n",
      "Epoch 105/1500\n",
      "32/32 [==============================] - 1s - loss: 0.6612 - acc: 0.6875 - recall: 0.6875 - precision: 0.6875 - fmeasure: 0.6875 - val_loss: 0.6354 - val_acc: 0.7812 - val_recall: 0.7812 - val_precision: 0.7812 - val_fmeasure: 0.7812\n",
      "Epoch 106/1500\n",
      "32/32 [==============================] - 1s - loss: 0.6350 - acc: 0.7500 - recall: 0.7500 - precision: 0.7500 - fmeasure: 0.7500 - val_loss: 0.6212 - val_acc: 0.6562 - val_recall: 0.6562 - val_precision: 0.6562 - val_fmeasure: 0.6562\n",
      "Epoch 107/1500\n",
      "32/32 [==============================] - 1s - loss: 0.5676 - acc: 0.6250 - recall: 0.6250 - precision: 0.6250 - fmeasure: 0.6250 - val_loss: 0.5684 - val_acc: 0.7812 - val_recall: 0.7812 - val_precision: 0.7812 - val_fmeasure: 0.7812\n",
      "Epoch 108/1500\n",
      "32/32 [==============================] - 1s - loss: 0.6696 - acc: 0.7500 - recall: 0.7500 - precision: 0.7500 - fmeasure: 0.7500 - val_loss: 0.4616 - val_acc: 0.8125 - val_recall: 0.8125 - val_precision: 0.8125 - val_fmeasure: 0.8125\n",
      "Epoch 109/1500\n",
      "32/32 [==============================] - 1s - loss: 0.7113 - acc: 0.7188 - recall: 0.7188 - precision: 0.7188 - fmeasure: 0.7187 - val_loss: 0.6100 - val_acc: 0.6250 - val_recall: 0.6250 - val_precision: 0.6250 - val_fmeasure: 0.6250\n",
      "Epoch 110/1500\n",
      "32/32 [==============================] - 1s - loss: 0.6329 - acc: 0.7500 - recall: 0.7500 - precision: 0.7500 - fmeasure: 0.7500 - val_loss: 0.5086 - val_acc: 0.8125 - val_recall: 0.8125 - val_precision: 0.8125 - val_fmeasure: 0.8125\n",
      "Epoch 111/1500\n",
      "32/32 [==============================] - 1s - loss: 0.5844 - acc: 0.7812 - recall: 0.7812 - precision: 0.7812 - fmeasure: 0.7812 - val_loss: 0.6317 - val_acc: 0.6562 - val_recall: 0.6562 - val_precision: 0.6562 - val_fmeasure: 0.6562\n",
      "Epoch 112/1500\n",
      "32/32 [==============================] - 1s - loss: 0.5208 - acc: 0.8125 - recall: 0.8125 - precision: 0.8125 - fmeasure: 0.8125 - val_loss: 0.5308 - val_acc: 0.7812 - val_recall: 0.7812 - val_precision: 0.7812 - val_fmeasure: 0.7812\n",
      "Epoch 113/1500\n",
      "32/32 [==============================] - 1s - loss: 0.6024 - acc: 0.7812 - recall: 0.7812 - precision: 0.7812 - fmeasure: 0.7812 - val_loss: 0.5209 - val_acc: 0.8438 - val_recall: 0.8438 - val_precision: 0.8438 - val_fmeasure: 0.8437\n",
      "Epoch 114/1500\n",
      "32/32 [==============================] - 1s - loss: 0.6335 - acc: 0.6875 - recall: 0.6875 - precision: 0.6875 - fmeasure: 0.6875 - val_loss: 0.5561 - val_acc: 0.7500 - val_recall: 0.7500 - val_precision: 0.7500 - val_fmeasure: 0.7500\n",
      "Epoch 115/1500\n",
      "32/32 [==============================] - 1s - loss: 0.6547 - acc: 0.6875 - recall: 0.6875 - precision: 0.6875 - fmeasure: 0.6875 - val_loss: 0.5680 - val_acc: 0.8438 - val_recall: 0.8438 - val_precision: 0.8438 - val_fmeasure: 0.8437\n",
      "Epoch 116/1500\n",
      "32/32 [==============================] - 1s - loss: 0.6792 - acc: 0.7188 - recall: 0.7188 - precision: 0.7188 - fmeasure: 0.7187 - val_loss: 0.5569 - val_acc: 0.7500 - val_recall: 0.7500 - val_precision: 0.7500 - val_fmeasure: 0.7500\n",
      "Epoch 117/1500\n",
      "32/32 [==============================] - 1s - loss: 0.5188 - acc: 0.7500 - recall: 0.7500 - precision: 0.7500 - fmeasure: 0.7500 - val_loss: 0.5436 - val_acc: 0.8438 - val_recall: 0.8438 - val_precision: 0.8438 - val_fmeasure: 0.8437\n",
      "Epoch 118/1500\n",
      "32/32 [==============================] - 1s - loss: 0.5385 - acc: 0.7812 - recall: 0.7812 - precision: 0.7812 - fmeasure: 0.7812 - val_loss: 0.5579 - val_acc: 0.7500 - val_recall: 0.7500 - val_precision: 0.7500 - val_fmeasure: 0.7500\n",
      "Epoch 119/1500\n",
      "32/32 [==============================] - 1s - loss: 0.5613 - acc: 0.8438 - recall: 0.8438 - precision: 0.8438 - fmeasure: 0.8437 - val_loss: 0.5738 - val_acc: 0.8125 - val_recall: 0.8125 - val_precision: 0.8125 - val_fmeasure: 0.8125\n",
      "Epoch 120/1500\n",
      "32/32 [==============================] - 1s - loss: 0.4412 - acc: 0.9062 - recall: 0.9062 - precision: 0.9062 - fmeasure: 0.9062 - val_loss: 0.5699 - val_acc: 0.8125 - val_recall: 0.8125 - val_precision: 0.8125 - val_fmeasure: 0.8125\n",
      "Epoch 121/1500\n",
      "32/32 [==============================] - 1s - loss: 0.5486 - acc: 0.7812 - recall: 0.7812 - precision: 0.7812 - fmeasure: 0.7812 - val_loss: 0.5289 - val_acc: 0.8125 - val_recall: 0.8125 - val_precision: 0.8125 - val_fmeasure: 0.8125\n",
      "Epoch 122/1500\n",
      "32/32 [==============================] - 1s - loss: 0.5862 - acc: 0.7188 - recall: 0.7188 - precision: 0.7188 - fmeasure: 0.7187 - val_loss: 0.5391 - val_acc: 0.8125 - val_recall: 0.8125 - val_precision: 0.8125 - val_fmeasure: 0.8125\n",
      "Epoch 123/1500\n",
      "32/32 [==============================] - 1s - loss: 0.7536 - acc: 0.6562 - recall: 0.6562 - precision: 0.6562 - fmeasure: 0.6562 - val_loss: 0.6016 - val_acc: 0.6875 - val_recall: 0.6875 - val_precision: 0.6875 - val_fmeasure: 0.6875\n",
      "Epoch 124/1500\n",
      "32/32 [==============================] - 1s - loss: 0.4769 - acc: 0.8125 - recall: 0.8125 - precision: 0.8125 - fmeasure: 0.8125 - val_loss: 0.5355 - val_acc: 0.8438 - val_recall: 0.8438 - val_precision: 0.8438 - val_fmeasure: 0.8437\n",
      "Epoch 125/1500\n",
      "32/32 [==============================] - 1s - loss: 0.6960 - acc: 0.6875 - recall: 0.6875 - precision: 0.6875 - fmeasure: 0.6875 - val_loss: 0.6329 - val_acc: 0.7188 - val_recall: 0.7188 - val_precision: 0.7188 - val_fmeasure: 0.7187\n",
      "Epoch 126/1500\n",
      "32/32 [==============================] - 1s - loss: 0.5816 - acc: 0.7500 - recall: 0.7500 - precision: 0.7500 - fmeasure: 0.7500 - val_loss: 0.4784 - val_acc: 0.9062 - val_recall: 0.9062 - val_precision: 0.9062 - val_fmeasure: 0.9062\n",
      "Epoch 127/1500\n",
      "32/32 [==============================] - 1s - loss: 0.4154 - acc: 0.9375 - recall: 0.9375 - precision: 0.9375 - fmeasure: 0.9375 - val_loss: 0.4834 - val_acc: 0.8750 - val_recall: 0.8750 - val_precision: 0.8750 - val_fmeasure: 0.8750\n",
      "Epoch 128/1500\n",
      "32/32 [==============================] - 1s - loss: 0.4881 - acc: 0.8125 - recall: 0.8125 - precision: 0.8125 - fmeasure: 0.8125 - val_loss: 0.6242 - val_acc: 0.6875 - val_recall: 0.6875 - val_precision: 0.6875 - val_fmeasure: 0.6875\n",
      "Epoch 129/1500\n",
      "32/32 [==============================] - 1s - loss: 0.6047 - acc: 0.6875 - recall: 0.6875 - precision: 0.6875 - fmeasure: 0.6875 - val_loss: 0.7328 - val_acc: 0.6875 - val_recall: 0.6875 - val_precision: 0.6875 - val_fmeasure: 0.6875\n",
      "Epoch 130/1500\n",
      "32/32 [==============================] - 1s - loss: 0.4232 - acc: 0.8125 - recall: 0.8125 - precision: 0.8125 - fmeasure: 0.8125 - val_loss: 0.5247 - val_acc: 0.8125 - val_recall: 0.8125 - val_precision: 0.8125 - val_fmeasure: 0.8125\n",
      "Epoch 131/1500\n",
      "32/32 [==============================] - 1s - loss: 0.3494 - acc: 0.9375 - recall: 0.9375 - precision: 0.9375 - fmeasure: 0.9375 - val_loss: 0.3270 - val_acc: 0.9062 - val_recall: 0.9062 - val_precision: 0.9062 - val_fmeasure: 0.9062\n",
      "Epoch 132/1500\n",
      "32/32 [==============================] - 1s - loss: 0.7334 - acc: 0.6250 - recall: 0.6250 - precision: 0.6250 - fmeasure: 0.6250 - val_loss: 0.4812 - val_acc: 0.8438 - val_recall: 0.8438 - val_precision: 0.8438 - val_fmeasure: 0.8437\n",
      "Epoch 133/1500\n",
      "32/32 [==============================] - 1s - loss: 0.5919 - acc: 0.7500 - recall: 0.7500 - precision: 0.7500 - fmeasure: 0.7500 - val_loss: 0.6143 - val_acc: 0.7812 - val_recall: 0.7812 - val_precision: 0.7812 - val_fmeasure: 0.7812\n",
      "Epoch 134/1500\n",
      "32/32 [==============================] - 1s - loss: 0.4745 - acc: 0.8750 - recall: 0.8750 - precision: 0.8750 - fmeasure: 0.8750 - val_loss: 0.4787 - val_acc: 0.8438 - val_recall: 0.8438 - val_precision: 0.8438 - val_fmeasure: 0.8437\n",
      "Epoch 135/1500\n",
      "32/32 [==============================] - 1s - loss: 0.4471 - acc: 0.8438 - recall: 0.8438 - precision: 0.8438 - fmeasure: 0.8437 - val_loss: 0.5792 - val_acc: 0.8125 - val_recall: 0.8125 - val_precision: 0.8125 - val_fmeasure: 0.8125\n",
      "Epoch 136/1500\n",
      "32/32 [==============================] - 1s - loss: 0.4309 - acc: 0.7812 - recall: 0.7812 - precision: 0.7812 - fmeasure: 0.7812 - val_loss: 0.5083 - val_acc: 0.8438 - val_recall: 0.8438 - val_precision: 0.8438 - val_fmeasure: 0.8437\n",
      "Epoch 137/1500\n",
      "32/32 [==============================] - 1s - loss: 0.4294 - acc: 0.8125 - recall: 0.8125 - precision: 0.8125 - fmeasure: 0.8125 - val_loss: 0.6486 - val_acc: 0.7188 - val_recall: 0.7188 - val_precision: 0.7188 - val_fmeasure: 0.7187\n",
      "Epoch 138/1500\n",
      "32/32 [==============================] - 1s - loss: 0.6777 - acc: 0.7812 - recall: 0.7812 - precision: 0.7812 - fmeasure: 0.7812 - val_loss: 0.4805 - val_acc: 0.8438 - val_recall: 0.8438 - val_precision: 0.8438 - val_fmeasure: 0.8437\n",
      "Epoch 139/1500\n",
      "32/32 [==============================] - 1s - loss: 0.4513 - acc: 0.8438 - recall: 0.8438 - precision: 0.8438 - fmeasure: 0.8437 - val_loss: 0.5870 - val_acc: 0.7812 - val_recall: 0.7812 - val_precision: 0.7812 - val_fmeasure: 0.7812\n",
      "Epoch 140/1500\n",
      "32/32 [==============================] - 1s - loss: 0.5904 - acc: 0.7812 - recall: 0.7812 - precision: 0.7812 - fmeasure: 0.7812 - val_loss: 0.4720 - val_acc: 0.8438 - val_recall: 0.8438 - val_precision: 0.8438 - val_fmeasure: 0.8437\n",
      "Epoch 141/1500\n",
      "32/32 [==============================] - 1s - loss: 0.6571 - acc: 0.7500 - recall: 0.7500 - precision: 0.7500 - fmeasure: 0.7500 - val_loss: 0.5867 - val_acc: 0.7188 - val_recall: 0.7188 - val_precision: 0.7188 - val_fmeasure: 0.7187\n",
      "Epoch 142/1500\n",
      "32/32 [==============================] - 1s - loss: 0.5376 - acc: 0.8438 - recall: 0.8438 - precision: 0.8438 - fmeasure: 0.8437 - val_loss: 0.4988 - val_acc: 0.8750 - val_recall: 0.8750 - val_precision: 0.8750 - val_fmeasure: 0.8750\n",
      "Epoch 143/1500\n",
      "32/32 [==============================] - 1s - loss: 0.4085 - acc: 0.8750 - recall: 0.8750 - precision: 0.8750 - fmeasure: 0.8750 - val_loss: 0.5242 - val_acc: 0.8125 - val_recall: 0.8125 - val_precision: 0.8125 - val_fmeasure: 0.8125\n",
      "Epoch 144/1500\n",
      "32/32 [==============================] - 1s - loss: 0.6205 - acc: 0.6875 - recall: 0.6875 - precision: 0.6875 - fmeasure: 0.6875 - val_loss: 0.5517 - val_acc: 0.8125 - val_recall: 0.8125 - val_precision: 0.8125 - val_fmeasure: 0.8125\n",
      "Epoch 145/1500\n",
      "32/32 [==============================] - 1s - loss: 0.5750 - acc: 0.7188 - recall: 0.7188 - precision: 0.7188 - fmeasure: 0.7187 - val_loss: 0.6401 - val_acc: 0.6875 - val_recall: 0.6875 - val_precision: 0.6875 - val_fmeasure: 0.6875\n",
      "Epoch 146/1500\n",
      "32/32 [==============================] - 1s - loss: 0.6856 - acc: 0.6875 - recall: 0.6875 - precision: 0.6875 - fmeasure: 0.6875 - val_loss: 0.5934 - val_acc: 0.7500 - val_recall: 0.7500 - val_precision: 0.7500 - val_fmeasure: 0.7500\n",
      "Epoch 147/1500\n",
      "32/32 [==============================] - 1s - loss: 0.4131 - acc: 0.9062 - recall: 0.9062 - precision: 0.9062 - fmeasure: 0.9062 - val_loss: 0.6269 - val_acc: 0.7188 - val_recall: 0.7188 - val_precision: 0.7188 - val_fmeasure: 0.7187\n",
      "Epoch 148/1500\n",
      "32/32 [==============================] - 1s - loss: 0.6358 - acc: 0.6562 - recall: 0.6562 - precision: 0.6562 - fmeasure: 0.6562 - val_loss: 0.3973 - val_acc: 0.8750 - val_recall: 0.8750 - val_precision: 0.8750 - val_fmeasure: 0.8750\n",
      "Epoch 149/1500\n",
      "32/32 [==============================] - 1s - loss: 0.6601 - acc: 0.7500 - recall: 0.7500 - precision: 0.7500 - fmeasure: 0.7500 - val_loss: 0.6047 - val_acc: 0.7188 - val_recall: 0.7188 - val_precision: 0.7188 - val_fmeasure: 0.7187\n",
      "Epoch 150/1500\n",
      "32/32 [==============================] - 1s - loss: 0.8472 - acc: 0.5625 - recall: 0.5625 - precision: 0.5625 - fmeasure: 0.5625 - val_loss: 0.4771 - val_acc: 0.9375 - val_recall: 0.9375 - val_precision: 0.9375 - val_fmeasure: 0.9375\n",
      "Epoch 151/1500\n",
      "32/32 [==============================] - 1s - loss: 0.6871 - acc: 0.7812 - recall: 0.7812 - precision: 0.7812 - fmeasure: 0.7812 - val_loss: 0.5888 - val_acc: 0.7188 - val_recall: 0.7188 - val_precision: 0.7188 - val_fmeasure: 0.7187\n",
      "Epoch 152/1500\n",
      "32/32 [==============================] - 1s - loss: 0.5158 - acc: 0.8438 - recall: 0.8438 - precision: 0.8438 - fmeasure: 0.8437 - val_loss: 0.4055 - val_acc: 0.9062 - val_recall: 0.9062 - val_precision: 0.9062 - val_fmeasure: 0.9062\n",
      "Epoch 153/1500\n",
      "32/32 [==============================] - 1s - loss: 0.6296 - acc: 0.7188 - recall: 0.7188 - precision: 0.7188 - fmeasure: 0.7187 - val_loss: 0.5234 - val_acc: 0.8438 - val_recall: 0.8438 - val_precision: 0.8438 - val_fmeasure: 0.8437\n",
      "Epoch 154/1500\n",
      "32/32 [==============================] - 1s - loss: 0.5264 - acc: 0.7500 - recall: 0.7500 - precision: 0.7500 - fmeasure: 0.7500 - val_loss: 0.4817 - val_acc: 0.8438 - val_recall: 0.8438 - val_precision: 0.8438 - val_fmeasure: 0.8437\n",
      "Epoch 155/1500\n",
      "32/32 [==============================] - 1s - loss: 0.6141 - acc: 0.7812 - recall: 0.7812 - precision: 0.7812 - fmeasure: 0.7812 - val_loss: 0.5251 - val_acc: 0.7812 - val_recall: 0.7812 - val_precision: 0.7812 - val_fmeasure: 0.7812\n",
      "Epoch 156/1500\n",
      "32/32 [==============================] - 1s - loss: 0.7424 - acc: 0.6250 - recall: 0.6250 - precision: 0.6250 - fmeasure: 0.6250 - val_loss: 0.5718 - val_acc: 0.7500 - val_recall: 0.7500 - val_precision: 0.7500 - val_fmeasure: 0.7500\n",
      "Epoch 157/1500\n",
      "32/32 [==============================] - 1s - loss: 0.8130 - acc: 0.6875 - recall: 0.6875 - precision: 0.6875 - fmeasure: 0.6875 - val_loss: 0.6259 - val_acc: 0.6562 - val_recall: 0.6562 - val_precision: 0.6562 - val_fmeasure: 0.6562\n",
      "Epoch 158/1500\n",
      "32/32 [==============================] - 1s - loss: 0.5174 - acc: 0.8125 - recall: 0.8125 - precision: 0.8125 - fmeasure: 0.8125 - val_loss: 0.5371 - val_acc: 0.7812 - val_recall: 0.7812 - val_precision: 0.7812 - val_fmeasure: 0.7812\n",
      "Epoch 159/1500\n",
      "32/32 [==============================] - 1s - loss: 0.6450 - acc: 0.8125 - recall: 0.8125 - precision: 0.8125 - fmeasure: 0.8125 - val_loss: 0.5631 - val_acc: 0.8125 - val_recall: 0.8125 - val_precision: 0.8125 - val_fmeasure: 0.8125\n",
      "Epoch 160/1500\n",
      "32/32 [==============================] - 1s - loss: 0.6197 - acc: 0.7188 - recall: 0.7188 - precision: 0.7188 - fmeasure: 0.7187 - val_loss: 0.5111 - val_acc: 0.8125 - val_recall: 0.8125 - val_precision: 0.8125 - val_fmeasure: 0.8125\n",
      "Epoch 161/1500\n",
      "32/32 [==============================] - 1s - loss: 0.6308 - acc: 0.7188 - recall: 0.7188 - precision: 0.7188 - fmeasure: 0.7187 - val_loss: 0.4934 - val_acc: 0.8125 - val_recall: 0.8125 - val_precision: 0.8125 - val_fmeasure: 0.8125\n",
      "Epoch 162/1500\n",
      "32/32 [==============================] - 1s - loss: 0.5152 - acc: 0.7812 - recall: 0.7812 - precision: 0.7812 - fmeasure: 0.7812 - val_loss: 0.5111 - val_acc: 0.8125 - val_recall: 0.8125 - val_precision: 0.8125 - val_fmeasure: 0.8125\n",
      "Epoch 163/1500\n",
      "32/32 [==============================] - 1s - loss: 0.6200 - acc: 0.7500 - recall: 0.7500 - precision: 0.7500 - fmeasure: 0.7500 - val_loss: 0.5568 - val_acc: 0.8125 - val_recall: 0.8125 - val_precision: 0.8125 - val_fmeasure: 0.8125\n",
      "Epoch 164/1500\n",
      "32/32 [==============================] - 1s - loss: 0.5601 - acc: 0.7812 - recall: 0.7812 - precision: 0.7812 - fmeasure: 0.7812 - val_loss: 0.4837 - val_acc: 0.8125 - val_recall: 0.8125 - val_precision: 0.8125 - val_fmeasure: 0.8125\n",
      "Epoch 165/1500\n",
      "32/32 [==============================] - 1s - loss: 0.6157 - acc: 0.7188 - recall: 0.7188 - precision: 0.7188 - fmeasure: 0.7187 - val_loss: 0.7600 - val_acc: 0.5625 - val_recall: 0.5625 - val_precision: 0.5625 - val_fmeasure: 0.5625\n",
      "Epoch 166/1500\n",
      "32/32 [==============================] - 1s - loss: 0.6193 - acc: 0.7188 - recall: 0.7188 - precision: 0.7188 - fmeasure: 0.7187 - val_loss: 0.5135 - val_acc: 0.7812 - val_recall: 0.7812 - val_precision: 0.7812 - val_fmeasure: 0.7812\n",
      "Epoch 167/1500\n",
      "32/32 [==============================] - 1s - loss: 0.4828 - acc: 0.7500 - recall: 0.7500 - precision: 0.7500 - fmeasure: 0.7500 - val_loss: 0.4931 - val_acc: 0.8125 - val_recall: 0.8125 - val_precision: 0.8125 - val_fmeasure: 0.8125\n",
      "Epoch 168/1500\n",
      "32/32 [==============================] - 1s - loss: 0.4665 - acc: 0.7500 - recall: 0.7500 - precision: 0.7500 - fmeasure: 0.7500 - val_loss: 0.4201 - val_acc: 0.8750 - val_recall: 0.8750 - val_precision: 0.8750 - val_fmeasure: 0.8750\n",
      "Epoch 169/1500\n",
      "32/32 [==============================] - 1s - loss: 0.7349 - acc: 0.6250 - recall: 0.6250 - precision: 0.6250 - fmeasure: 0.6250 - val_loss: 0.5794 - val_acc: 0.7500 - val_recall: 0.7500 - val_precision: 0.7500 - val_fmeasure: 0.7500\n",
      "Epoch 170/1500\n",
      "32/32 [==============================] - 1s - loss: 0.7240 - acc: 0.6875 - recall: 0.6875 - precision: 0.6875 - fmeasure: 0.6875 - val_loss: 0.6110 - val_acc: 0.7812 - val_recall: 0.7812 - val_precision: 0.7812 - val_fmeasure: 0.7812\n",
      "Epoch 171/1500\n",
      "32/32 [==============================] - 1s - loss: 0.7013 - acc: 0.6562 - recall: 0.6562 - precision: 0.6562 - fmeasure: 0.6562 - val_loss: 0.4597 - val_acc: 0.9062 - val_recall: 0.9062 - val_precision: 0.9062 - val_fmeasure: 0.9062\n",
      "Epoch 172/1500\n",
      "32/32 [==============================] - 1s - loss: 0.3910 - acc: 0.9688 - recall: 0.9688 - precision: 0.9688 - fmeasure: 0.9687 - val_loss: 0.4700 - val_acc: 0.8750 - val_recall: 0.8750 - val_precision: 0.8750 - val_fmeasure: 0.8750\n",
      "Epoch 173/1500\n",
      "32/32 [==============================] - 1s - loss: 0.5786 - acc: 0.8125 - recall: 0.8125 - precision: 0.8125 - fmeasure: 0.8125 - val_loss: 0.6381 - val_acc: 0.7812 - val_recall: 0.7812 - val_precision: 0.7812 - val_fmeasure: 0.7812\n",
      "Epoch 174/1500\n",
      "32/32 [==============================] - 1s - loss: 0.7319 - acc: 0.6562 - recall: 0.6562 - precision: 0.6562 - fmeasure: 0.6562 - val_loss: 0.5903 - val_acc: 0.6875 - val_recall: 0.6875 - val_precision: 0.6875 - val_fmeasure: 0.6875\n",
      "Epoch 175/1500\n",
      "32/32 [==============================] - 1s - loss: 0.5946 - acc: 0.7812 - recall: 0.7812 - precision: 0.7812 - fmeasure: 0.7812 - val_loss: 0.6192 - val_acc: 0.6875 - val_recall: 0.6875 - val_precision: 0.6875 - val_fmeasure: 0.6875\n",
      "Epoch 176/1500\n",
      "32/32 [==============================] - 1s - loss: 0.5785 - acc: 0.7812 - recall: 0.7812 - precision: 0.7812 - fmeasure: 0.7812 - val_loss: 0.5830 - val_acc: 0.7500 - val_recall: 0.7500 - val_precision: 0.7500 - val_fmeasure: 0.7500\n",
      "Epoch 177/1500\n",
      "32/32 [==============================] - 1s - loss: 0.6505 - acc: 0.7812 - recall: 0.7812 - precision: 0.7812 - fmeasure: 0.7812 - val_loss: 0.4868 - val_acc: 0.8125 - val_recall: 0.8125 - val_precision: 0.8125 - val_fmeasure: 0.8125\n",
      "Epoch 178/1500\n",
      "32/32 [==============================] - 1s - loss: 0.5997 - acc: 0.8125 - recall: 0.8125 - precision: 0.8125 - fmeasure: 0.8125 - val_loss: 0.5323 - val_acc: 0.7812 - val_recall: 0.7812 - val_precision: 0.7812 - val_fmeasure: 0.7812\n",
      "Epoch 179/1500\n",
      "32/32 [==============================] - 1s - loss: 0.7322 - acc: 0.6562 - recall: 0.6562 - precision: 0.6562 - fmeasure: 0.6562 - val_loss: 0.4802 - val_acc: 0.8750 - val_recall: 0.8750 - val_precision: 0.8750 - val_fmeasure: 0.8750\n",
      "Epoch 180/1500\n",
      "32/32 [==============================] - 1s - loss: 0.5161 - acc: 0.8125 - recall: 0.8125 - precision: 0.8125 - fmeasure: 0.8125 - val_loss: 0.4505 - val_acc: 0.8750 - val_recall: 0.8750 - val_precision: 0.8750 - val_fmeasure: 0.8750\n",
      "Epoch 181/1500\n",
      "32/32 [==============================] - 1s - loss: 0.5484 - acc: 0.7500 - recall: 0.7500 - precision: 0.7500 - fmeasure: 0.7500 - val_loss: 0.7413 - val_acc: 0.5938 - val_recall: 0.5938 - val_precision: 0.5938 - val_fmeasure: 0.5937\n",
      "Epoch 182/1500\n",
      "32/32 [==============================] - 1s - loss: 0.4831 - acc: 0.8125 - recall: 0.8125 - precision: 0.8125 - fmeasure: 0.8125 - val_loss: 0.5073 - val_acc: 0.8125 - val_recall: 0.8125 - val_precision: 0.8125 - val_fmeasure: 0.8125\n",
      "Epoch 183/1500\n",
      "32/32 [==============================] - 1s - loss: 0.7522 - acc: 0.6562 - recall: 0.6562 - precision: 0.6562 - fmeasure: 0.6562 - val_loss: 0.5363 - val_acc: 0.7812 - val_recall: 0.7812 - val_precision: 0.7812 - val_fmeasure: 0.7812\n",
      "Epoch 184/1500\n",
      "32/32 [==============================] - 1s - loss: 0.6773 - acc: 0.6875 - recall: 0.6875 - precision: 0.6875 - fmeasure: 0.6875 - val_loss: 0.5825 - val_acc: 0.7812 - val_recall: 0.7812 - val_precision: 0.7812 - val_fmeasure: 0.7812\n",
      "Epoch 185/1500\n",
      "32/32 [==============================] - 1s - loss: 0.6259 - acc: 0.8125 - recall: 0.8125 - precision: 0.8125 - fmeasure: 0.8125 - val_loss: 0.5942 - val_acc: 0.7812 - val_recall: 0.7812 - val_precision: 0.7812 - val_fmeasure: 0.7812\n",
      "Epoch 186/1500\n",
      "32/32 [==============================] - 1s - loss: 0.4589 - acc: 0.8125 - recall: 0.8125 - precision: 0.8125 - fmeasure: 0.8125 - val_loss: 0.5554 - val_acc: 0.8125 - val_recall: 0.8125 - val_precision: 0.8125 - val_fmeasure: 0.8125\n",
      "Epoch 187/1500\n",
      "32/32 [==============================] - 1s - loss: 0.5680 - acc: 0.7812 - recall: 0.7812 - precision: 0.7812 - fmeasure: 0.7812 - val_loss: 0.6135 - val_acc: 0.7188 - val_recall: 0.7188 - val_precision: 0.7188 - val_fmeasure: 0.7187\n",
      "Epoch 188/1500\n",
      "32/32 [==============================] - 1s - loss: 0.5892 - acc: 0.7188 - recall: 0.7188 - precision: 0.7188 - fmeasure: 0.7187 - val_loss: 0.6109 - val_acc: 0.7188 - val_recall: 0.7188 - val_precision: 0.7188 - val_fmeasure: 0.7187\n",
      "Epoch 189/1500\n",
      "32/32 [==============================] - 1s - loss: 0.4474 - acc: 0.8125 - recall: 0.8125 - precision: 0.8125 - fmeasure: 0.8125 - val_loss: 0.6288 - val_acc: 0.6562 - val_recall: 0.6562 - val_precision: 0.6562 - val_fmeasure: 0.6562\n",
      "Epoch 190/1500\n",
      "32/32 [==============================] - 1s - loss: 0.5381 - acc: 0.8438 - recall: 0.8438 - precision: 0.8438 - fmeasure: 0.8437 - val_loss: 0.5528 - val_acc: 0.7500 - val_recall: 0.7500 - val_precision: 0.7500 - val_fmeasure: 0.7500\n",
      "Epoch 191/1500\n",
      "32/32 [==============================] - 1s - loss: 0.4165 - acc: 0.9062 - recall: 0.9062 - precision: 0.9062 - fmeasure: 0.9062 - val_loss: 0.4247 - val_acc: 0.9062 - val_recall: 0.9062 - val_precision: 0.9062 - val_fmeasure: 0.9062\n",
      "Epoch 192/1500\n",
      "32/32 [==============================] - 1s - loss: 0.6266 - acc: 0.7188 - recall: 0.7188 - precision: 0.7188 - fmeasure: 0.7187 - val_loss: 0.4748 - val_acc: 0.8438 - val_recall: 0.8438 - val_precision: 0.8438 - val_fmeasure: 0.8437\n",
      "Epoch 193/1500\n",
      "32/32 [==============================] - 1s - loss: 0.5767 - acc: 0.8125 - recall: 0.8125 - precision: 0.8125 - fmeasure: 0.8125 - val_loss: 0.6745 - val_acc: 0.7188 - val_recall: 0.7188 - val_precision: 0.7188 - val_fmeasure: 0.7187\n",
      "Epoch 194/1500\n",
      "32/32 [==============================] - 1s - loss: 0.5225 - acc: 0.8438 - recall: 0.8438 - precision: 0.8438 - fmeasure: 0.8437 - val_loss: 0.5940 - val_acc: 0.7188 - val_recall: 0.7188 - val_precision: 0.7188 - val_fmeasure: 0.7187\n",
      "Epoch 195/1500\n",
      "32/32 [==============================] - 1s - loss: 0.4872 - acc: 0.8125 - recall: 0.8125 - precision: 0.8125 - fmeasure: 0.8125 - val_loss: 0.5722 - val_acc: 0.7500 - val_recall: 0.7500 - val_precision: 0.7500 - val_fmeasure: 0.7500\n",
      "Epoch 196/1500\n",
      "32/32 [==============================] - 1s - loss: 0.6137 - acc: 0.8125 - recall: 0.8125 - precision: 0.8125 - fmeasure: 0.8125 - val_loss: 0.5423 - val_acc: 0.8125 - val_recall: 0.8125 - val_precision: 0.8125 - val_fmeasure: 0.8125\n",
      "Epoch 197/1500\n",
      "32/32 [==============================] - 1s - loss: 0.5688 - acc: 0.7500 - recall: 0.7500 - precision: 0.7500 - fmeasure: 0.7500 - val_loss: 0.5100 - val_acc: 0.8125 - val_recall: 0.8125 - val_precision: 0.8125 - val_fmeasure: 0.8125\n",
      "Epoch 198/1500\n",
      "32/32 [==============================] - 1s - loss: 0.6054 - acc: 0.7500 - recall: 0.7500 - precision: 0.7500 - fmeasure: 0.7500 - val_loss: 0.5401 - val_acc: 0.7812 - val_recall: 0.7812 - val_precision: 0.7812 - val_fmeasure: 0.7812\n",
      "Epoch 199/1500\n",
      "32/32 [==============================] - 1s - loss: 0.5560 - acc: 0.7812 - recall: 0.7812 - precision: 0.7812 - fmeasure: 0.7812 - val_loss: 0.4080 - val_acc: 0.8750 - val_recall: 0.8750 - val_precision: 0.8750 - val_fmeasure: 0.8750\n",
      "Epoch 200/1500\n",
      "32/32 [==============================] - 1s - loss: 0.6004 - acc: 0.7188 - recall: 0.7188 - precision: 0.7188 - fmeasure: 0.7187 - val_loss: 0.5474 - val_acc: 0.7812 - val_recall: 0.7812 - val_precision: 0.7812 - val_fmeasure: 0.7812\n",
      "Epoch 201/1500\n",
      "32/32 [==============================] - 1s - loss: 0.7144 - acc: 0.6875 - recall: 0.6875 - precision: 0.6875 - fmeasure: 0.6875 - val_loss: 0.4582 - val_acc: 0.8750 - val_recall: 0.8750 - val_precision: 0.8750 - val_fmeasure: 0.8750\n",
      "Epoch 202/1500\n",
      "32/32 [==============================] - 1s - loss: 0.5804 - acc: 0.7188 - recall: 0.7188 - precision: 0.7188 - fmeasure: 0.7187 - val_loss: 0.5238 - val_acc: 0.8125 - val_recall: 0.8125 - val_precision: 0.8125 - val_fmeasure: 0.8125\n",
      "Epoch 203/1500\n",
      "32/32 [==============================] - 1s - loss: 0.5865 - acc: 0.7188 - recall: 0.7188 - precision: 0.7188 - fmeasure: 0.7187 - val_loss: 0.5358 - val_acc: 0.7812 - val_recall: 0.7812 - val_precision: 0.7812 - val_fmeasure: 0.7812\n",
      "Epoch 204/1500\n",
      "32/32 [==============================] - 1s - loss: 0.4634 - acc: 0.8125 - recall: 0.8125 - precision: 0.8125 - fmeasure: 0.8125 - val_loss: 0.4519 - val_acc: 0.8750 - val_recall: 0.8750 - val_precision: 0.8750 - val_fmeasure: 0.8750\n",
      "Epoch 205/1500\n",
      "32/32 [==============================] - 1s - loss: 0.5516 - acc: 0.7500 - recall: 0.7500 - precision: 0.7500 - fmeasure: 0.7500 - val_loss: 0.5289 - val_acc: 0.7812 - val_recall: 0.7812 - val_precision: 0.7812 - val_fmeasure: 0.7812\n",
      "Epoch 206/1500\n",
      "32/32 [==============================] - 1s - loss: 0.4609 - acc: 0.8125 - recall: 0.8125 - precision: 0.8125 - fmeasure: 0.8125 - val_loss: 0.5239 - val_acc: 0.7500 - val_recall: 0.7500 - val_precision: 0.7500 - val_fmeasure: 0.7500\n",
      "Epoch 207/1500\n",
      "32/32 [==============================] - 1s - loss: 0.4049 - acc: 0.9062 - recall: 0.9062 - precision: 0.9062 - fmeasure: 0.9062 - val_loss: 0.5459 - val_acc: 0.8125 - val_recall: 0.8125 - val_precision: 0.8125 - val_fmeasure: 0.8125\n",
      "Epoch 208/1500\n",
      "32/32 [==============================] - 1s - loss: 0.5508 - acc: 0.7812 - recall: 0.7812 - precision: 0.7812 - fmeasure: 0.7812 - val_loss: 0.5709 - val_acc: 0.7188 - val_recall: 0.7188 - val_precision: 0.7188 - val_fmeasure: 0.7187\n",
      "Epoch 209/1500\n",
      "32/32 [==============================] - 1s - loss: 0.4444 - acc: 0.8750 - recall: 0.8750 - precision: 0.8750 - fmeasure: 0.8750 - val_loss: 0.5139 - val_acc: 0.8125 - val_recall: 0.8125 - val_precision: 0.8125 - val_fmeasure: 0.8125\n",
      "Epoch 210/1500\n",
      "32/32 [==============================] - 1s - loss: 0.5796 - acc: 0.7812 - recall: 0.7812 - precision: 0.7812 - fmeasure: 0.7812 - val_loss: 0.4860 - val_acc: 0.8438 - val_recall: 0.8438 - val_precision: 0.8438 - val_fmeasure: 0.8437\n",
      "Epoch 211/1500\n",
      "32/32 [==============================] - 1s - loss: 0.5165 - acc: 0.8125 - recall: 0.8125 - precision: 0.8125 - fmeasure: 0.8125 - val_loss: 0.5854 - val_acc: 0.7500 - val_recall: 0.7500 - val_precision: 0.7500 - val_fmeasure: 0.7500\n",
      "Epoch 212/1500\n",
      "32/32 [==============================] - 1s - loss: 0.5040 - acc: 0.7500 - recall: 0.7500 - precision: 0.7500 - fmeasure: 0.7500 - val_loss: 0.6135 - val_acc: 0.7812 - val_recall: 0.7812 - val_precision: 0.7812 - val_fmeasure: 0.7812\n",
      "Epoch 213/1500\n",
      "32/32 [==============================] - 1s - loss: 0.6440 - acc: 0.6562 - recall: 0.6562 - precision: 0.6562 - fmeasure: 0.6562 - val_loss: 0.4650 - val_acc: 0.8438 - val_recall: 0.8438 - val_precision: 0.8438 - val_fmeasure: 0.8437\n",
      "Epoch 214/1500\n",
      "32/32 [==============================] - 1s - loss: 0.4950 - acc: 0.7812 - recall: 0.7812 - precision: 0.7812 - fmeasure: 0.7812 - val_loss: 0.4311 - val_acc: 0.8750 - val_recall: 0.8750 - val_precision: 0.8750 - val_fmeasure: 0.8750\n",
      "Epoch 215/1500\n",
      "32/32 [==============================] - 1s - loss: 0.5688 - acc: 0.7188 - recall: 0.7188 - precision: 0.7188 - fmeasure: 0.7187 - val_loss: 0.4217 - val_acc: 0.9062 - val_recall: 0.9062 - val_precision: 0.9062 - val_fmeasure: 0.9062\n",
      "Epoch 216/1500\n",
      "32/32 [==============================] - 1s - loss: 0.5300 - acc: 0.8125 - recall: 0.8125 - precision: 0.8125 - fmeasure: 0.8125 - val_loss: 0.5055 - val_acc: 0.7812 - val_recall: 0.7812 - val_precision: 0.7812 - val_fmeasure: 0.7812\n",
      "Epoch 217/1500\n",
      "32/32 [==============================] - 1s - loss: 0.6101 - acc: 0.7500 - recall: 0.7500 - precision: 0.7500 - fmeasure: 0.7500 - val_loss: 0.6467 - val_acc: 0.7188 - val_recall: 0.7188 - val_precision: 0.7188 - val_fmeasure: 0.7187\n",
      "Epoch 218/1500\n",
      "32/32 [==============================] - 1s - loss: 0.7158 - acc: 0.6875 - recall: 0.6875 - precision: 0.6875 - fmeasure: 0.6875 - val_loss: 0.4696 - val_acc: 0.8125 - val_recall: 0.8125 - val_precision: 0.8125 - val_fmeasure: 0.8125\n",
      "Epoch 219/1500\n",
      "32/32 [==============================] - 1s - loss: 0.6929 - acc: 0.7812 - recall: 0.7812 - precision: 0.7812 - fmeasure: 0.7812 - val_loss: 0.6571 - val_acc: 0.7188 - val_recall: 0.7188 - val_precision: 0.7188 - val_fmeasure: 0.7187\n",
      "Epoch 220/1500\n",
      "32/32 [==============================] - 1s - loss: 0.5907 - acc: 0.6875 - recall: 0.6875 - precision: 0.6875 - fmeasure: 0.6875 - val_loss: 0.5279 - val_acc: 0.7812 - val_recall: 0.7812 - val_precision: 0.7812 - val_fmeasure: 0.7812\n",
      "Epoch 221/1500\n",
      "32/32 [==============================] - 1s - loss: 0.5057 - acc: 0.8125 - recall: 0.8125 - precision: 0.8125 - fmeasure: 0.8125 - val_loss: 0.5128 - val_acc: 0.7812 - val_recall: 0.7812 - val_precision: 0.7812 - val_fmeasure: 0.7812\n",
      "Epoch 222/1500\n",
      "32/32 [==============================] - 1s - loss: 0.5168 - acc: 0.7500 - recall: 0.7500 - precision: 0.7500 - fmeasure: 0.7500 - val_loss: 0.5374 - val_acc: 0.7500 - val_recall: 0.7500 - val_precision: 0.7500 - val_fmeasure: 0.7500\n",
      "Epoch 223/1500\n",
      "32/32 [==============================] - 1s - loss: 0.5747 - acc: 0.7188 - recall: 0.7188 - precision: 0.7188 - fmeasure: 0.7187 - val_loss: 0.5314 - val_acc: 0.8125 - val_recall: 0.8125 - val_precision: 0.8125 - val_fmeasure: 0.8125\n",
      "Epoch 224/1500\n",
      "32/32 [==============================] - 1s - loss: 0.5828 - acc: 0.7500 - recall: 0.7500 - precision: 0.7500 - fmeasure: 0.7500 - val_loss: 0.5487 - val_acc: 0.8125 - val_recall: 0.8125 - val_precision: 0.8125 - val_fmeasure: 0.8125\n",
      "Epoch 225/1500\n",
      "32/32 [==============================] - 1s - loss: 0.5038 - acc: 0.7812 - recall: 0.7812 - precision: 0.7812 - fmeasure: 0.7812 - val_loss: 0.5468 - val_acc: 0.7812 - val_recall: 0.7812 - val_precision: 0.7812 - val_fmeasure: 0.7812\n",
      "Epoch 226/1500\n",
      "32/32 [==============================] - 1s - loss: 0.7304 - acc: 0.6875 - recall: 0.6875 - precision: 0.6875 - fmeasure: 0.6875 - val_loss: 0.5347 - val_acc: 0.7812 - val_recall: 0.7812 - val_precision: 0.7812 - val_fmeasure: 0.7812\n",
      "Epoch 227/1500\n",
      "32/32 [==============================] - 1s - loss: 0.6971 - acc: 0.6562 - recall: 0.6562 - precision: 0.6562 - fmeasure: 0.6562 - val_loss: 0.7520 - val_acc: 0.6562 - val_recall: 0.6562 - val_precision: 0.6562 - val_fmeasure: 0.6562\n",
      "Epoch 228/1500\n",
      "32/32 [==============================] - 1s - loss: 0.5780 - acc: 0.7812 - recall: 0.7812 - precision: 0.7812 - fmeasure: 0.7812 - val_loss: 0.6278 - val_acc: 0.7500 - val_recall: 0.7500 - val_precision: 0.7500 - val_fmeasure: 0.7500\n",
      "Epoch 229/1500\n",
      "32/32 [==============================] - 1s - loss: 0.6891 - acc: 0.6562 - recall: 0.6562 - precision: 0.6562 - fmeasure: 0.6562 - val_loss: 0.5071 - val_acc: 0.8438 - val_recall: 0.8438 - val_precision: 0.8438 - val_fmeasure: 0.8437\n",
      "Epoch 230/1500\n",
      "32/32 [==============================] - 1s - loss: 0.4634 - acc: 0.8438 - recall: 0.8438 - precision: 0.8438 - fmeasure: 0.8437 - val_loss: 0.4453 - val_acc: 0.8438 - val_recall: 0.8438 - val_precision: 0.8438 - val_fmeasure: 0.8437\n",
      "Epoch 231/1500\n",
      "32/32 [==============================] - 1s - loss: 0.5772 - acc: 0.7812 - recall: 0.7812 - precision: 0.7812 - fmeasure: 0.7812 - val_loss: 0.4425 - val_acc: 0.8750 - val_recall: 0.8750 - val_precision: 0.8750 - val_fmeasure: 0.8750\n",
      "Epoch 232/1500\n",
      "32/32 [==============================] - 1s - loss: 0.4874 - acc: 0.8438 - recall: 0.8438 - precision: 0.8438 - fmeasure: 0.8437 - val_loss: 0.5058 - val_acc: 0.8125 - val_recall: 0.8125 - val_precision: 0.8125 - val_fmeasure: 0.8125\n",
      "Epoch 233/1500\n",
      "32/32 [==============================] - 1s - loss: 0.7141 - acc: 0.7812 - recall: 0.7812 - precision: 0.7812 - fmeasure: 0.7812 - val_loss: 0.4946 - val_acc: 0.8438 - val_recall: 0.8438 - val_precision: 0.8438 - val_fmeasure: 0.8437\n",
      "Epoch 234/1500\n",
      "32/32 [==============================] - 1s - loss: 0.7438 - acc: 0.6250 - recall: 0.6250 - precision: 0.6250 - fmeasure: 0.6250 - val_loss: 0.6411 - val_acc: 0.7812 - val_recall: 0.7812 - val_precision: 0.7812 - val_fmeasure: 0.7812\n",
      "Epoch 235/1500\n",
      "32/32 [==============================] - 1s - loss: 0.4963 - acc: 0.8125 - recall: 0.8125 - precision: 0.8125 - fmeasure: 0.8125 - val_loss: 0.6224 - val_acc: 0.6875 - val_recall: 0.6875 - val_precision: 0.6875 - val_fmeasure: 0.6875\n",
      "Epoch 236/1500\n",
      "32/32 [==============================] - 1s - loss: 0.4436 - acc: 0.8438 - recall: 0.8438 - precision: 0.8438 - fmeasure: 0.8437 - val_loss: 0.5310 - val_acc: 0.7812 - val_recall: 0.7812 - val_precision: 0.7812 - val_fmeasure: 0.7812\n",
      "Epoch 237/1500\n",
      "32/32 [==============================] - 1s - loss: 0.4972 - acc: 0.8125 - recall: 0.8125 - precision: 0.8125 - fmeasure: 0.8125 - val_loss: 0.4260 - val_acc: 0.8750 - val_recall: 0.8750 - val_precision: 0.8750 - val_fmeasure: 0.8750\n",
      "Epoch 238/1500\n",
      "32/32 [==============================] - 1s - loss: 0.7031 - acc: 0.7188 - recall: 0.7188 - precision: 0.7188 - fmeasure: 0.7187 - val_loss: 0.5256 - val_acc: 0.8125 - val_recall: 0.8125 - val_precision: 0.8125 - val_fmeasure: 0.8125\n",
      "Epoch 239/1500\n",
      "32/32 [==============================] - 1s - loss: 0.5109 - acc: 0.8438 - recall: 0.8438 - precision: 0.8438 - fmeasure: 0.8437 - val_loss: 0.6293 - val_acc: 0.7188 - val_recall: 0.7188 - val_precision: 0.7188 - val_fmeasure: 0.7187\n",
      "Epoch 240/1500\n",
      "32/32 [==============================] - 1s - loss: 0.6099 - acc: 0.7500 - recall: 0.7500 - precision: 0.7500 - fmeasure: 0.7500 - val_loss: 0.5591 - val_acc: 0.7500 - val_recall: 0.7500 - val_precision: 0.7500 - val_fmeasure: 0.7500\n",
      "Epoch 241/1500\n",
      "32/32 [==============================] - 1s - loss: 0.5177 - acc: 0.8438 - recall: 0.8438 - precision: 0.8438 - fmeasure: 0.8437 - val_loss: 0.4571 - val_acc: 0.8438 - val_recall: 0.8438 - val_precision: 0.8438 - val_fmeasure: 0.8437\n",
      "Epoch 242/1500\n",
      "32/32 [==============================] - 1s - loss: 0.5763 - acc: 0.7500 - recall: 0.7500 - precision: 0.7500 - fmeasure: 0.7500 - val_loss: 0.5012 - val_acc: 0.8125 - val_recall: 0.8125 - val_precision: 0.8125 - val_fmeasure: 0.8125\n",
      "Epoch 243/1500\n",
      "32/32 [==============================] - 1s - loss: 0.4540 - acc: 0.8125 - recall: 0.8125 - precision: 0.8125 - fmeasure: 0.8125 - val_loss: 0.5061 - val_acc: 0.8125 - val_recall: 0.8125 - val_precision: 0.8125 - val_fmeasure: 0.8125\n",
      "Epoch 244/1500\n",
      "32/32 [==============================] - 1s - loss: 0.5852 - acc: 0.7812 - recall: 0.7812 - precision: 0.7812 - fmeasure: 0.7812 - val_loss: 0.6285 - val_acc: 0.7188 - val_recall: 0.7188 - val_precision: 0.7188 - val_fmeasure: 0.7187\n",
      "Epoch 245/1500\n",
      "32/32 [==============================] - 1s - loss: 0.5791 - acc: 0.7500 - recall: 0.7500 - precision: 0.7500 - fmeasure: 0.7500 - val_loss: 0.3871 - val_acc: 0.9375 - val_recall: 0.9375 - val_precision: 0.9375 - val_fmeasure: 0.9375\n",
      "Epoch 246/1500\n",
      "32/32 [==============================] - 1s - loss: 0.5957 - acc: 0.7812 - recall: 0.7812 - precision: 0.7812 - fmeasure: 0.7812 - val_loss: 0.5826 - val_acc: 0.7188 - val_recall: 0.7188 - val_precision: 0.7188 - val_fmeasure: 0.7187\n",
      "Epoch 247/1500\n",
      "32/32 [==============================] - 1s - loss: 0.6751 - acc: 0.7188 - recall: 0.7188 - precision: 0.7188 - fmeasure: 0.7187 - val_loss: 0.6400 - val_acc: 0.6875 - val_recall: 0.6875 - val_precision: 0.6875 - val_fmeasure: 0.6875\n",
      "Epoch 248/1500\n",
      "32/32 [==============================] - 1s - loss: 0.5087 - acc: 0.7812 - recall: 0.7812 - precision: 0.7812 - fmeasure: 0.7812 - val_loss: 0.4998 - val_acc: 0.8125 - val_recall: 0.8125 - val_precision: 0.8125 - val_fmeasure: 0.8125\n",
      "Epoch 249/1500\n",
      "32/32 [==============================] - 1s - loss: 0.5241 - acc: 0.7812 - recall: 0.7812 - precision: 0.7812 - fmeasure: 0.7812 - val_loss: 0.4644 - val_acc: 0.8438 - val_recall: 0.8438 - val_precision: 0.8438 - val_fmeasure: 0.8437\n",
      "Epoch 250/1500\n",
      "32/32 [==============================] - 1s - loss: 0.5592 - acc: 0.7500 - recall: 0.7500 - precision: 0.7500 - fmeasure: 0.7500 - val_loss: 0.4260 - val_acc: 0.8750 - val_recall: 0.8750 - val_precision: 0.8750 - val_fmeasure: 0.8750\n",
      "Epoch 251/1500\n",
      "32/32 [==============================] - 1s - loss: 0.6163 - acc: 0.7188 - recall: 0.7188 - precision: 0.7188 - fmeasure: 0.7187 - val_loss: 0.6320 - val_acc: 0.7188 - val_recall: 0.7188 - val_precision: 0.7188 - val_fmeasure: 0.7187\n",
      "Epoch 252/1500\n",
      "32/32 [==============================] - 1s - loss: 0.4568 - acc: 0.8438 - recall: 0.8438 - precision: 0.8438 - fmeasure: 0.8437 - val_loss: 0.6223 - val_acc: 0.6562 - val_recall: 0.6562 - val_precision: 0.6562 - val_fmeasure: 0.6562\n",
      "Epoch 253/1500\n",
      "32/32 [==============================] - 1s - loss: 0.6045 - acc: 0.7812 - recall: 0.7812 - precision: 0.7812 - fmeasure: 0.7812 - val_loss: 0.6831 - val_acc: 0.6562 - val_recall: 0.6562 - val_precision: 0.6562 - val_fmeasure: 0.6562\n",
      "Epoch 254/1500\n",
      "32/32 [==============================] - 1s - loss: 0.6244 - acc: 0.6562 - recall: 0.6562 - precision: 0.6562 - fmeasure: 0.6562 - val_loss: 0.4952 - val_acc: 0.8125 - val_recall: 0.8125 - val_precision: 0.8125 - val_fmeasure: 0.8125\n",
      "Epoch 255/1500\n",
      "32/32 [==============================] - 1s - loss: 0.5400 - acc: 0.7500 - recall: 0.7500 - precision: 0.7500 - fmeasure: 0.7500 - val_loss: 0.4388 - val_acc: 0.8750 - val_recall: 0.8750 - val_precision: 0.8750 - val_fmeasure: 0.8750\n",
      "Epoch 256/1500\n",
      "32/32 [==============================] - 1s - loss: 0.7185 - acc: 0.6562 - recall: 0.6562 - precision: 0.6562 - fmeasure: 0.6562 - val_loss: 0.6173 - val_acc: 0.6875 - val_recall: 0.6875 - val_precision: 0.6875 - val_fmeasure: 0.6875\n",
      "Epoch 257/1500\n",
      "32/32 [==============================] - 1s - loss: 0.5668 - acc: 0.7188 - recall: 0.7188 - precision: 0.7188 - fmeasure: 0.7187 - val_loss: 0.5615 - val_acc: 0.7500 - val_recall: 0.7500 - val_precision: 0.7500 - val_fmeasure: 0.7500\n",
      "Epoch 258/1500\n",
      "32/32 [==============================] - 1s - loss: 0.5048 - acc: 0.7812 - recall: 0.7812 - precision: 0.7812 - fmeasure: 0.7812 - val_loss: 0.4381 - val_acc: 0.8750 - val_recall: 0.8750 - val_precision: 0.8750 - val_fmeasure: 0.8750\n",
      "Epoch 259/1500\n",
      "32/32 [==============================] - 1s - loss: 0.6429 - acc: 0.7812 - recall: 0.7812 - precision: 0.7812 - fmeasure: 0.7812 - val_loss: 0.4372 - val_acc: 0.8750 - val_recall: 0.8750 - val_precision: 0.8750 - val_fmeasure: 0.8750\n",
      "Epoch 260/1500\n",
      "32/32 [==============================] - 1s - loss: 0.5965 - acc: 0.7812 - recall: 0.7812 - precision: 0.7812 - fmeasure: 0.7812 - val_loss: 0.4806 - val_acc: 0.7812 - val_recall: 0.7812 - val_precision: 0.7812 - val_fmeasure: 0.7812\n",
      "Epoch 261/1500\n",
      "32/32 [==============================] - 1s - loss: 0.4913 - acc: 0.8438 - recall: 0.8438 - precision: 0.8438 - fmeasure: 0.8437 - val_loss: 0.5476 - val_acc: 0.7500 - val_recall: 0.7500 - val_precision: 0.7500 - val_fmeasure: 0.7500\n",
      "Epoch 262/1500\n",
      "32/32 [==============================] - 1s - loss: 0.6187 - acc: 0.8125 - recall: 0.8125 - precision: 0.8125 - fmeasure: 0.8125 - val_loss: 0.5383 - val_acc: 0.7812 - val_recall: 0.7812 - val_precision: 0.7812 - val_fmeasure: 0.7812\n",
      "Epoch 263/1500\n",
      "32/32 [==============================] - 1s - loss: 0.6718 - acc: 0.6875 - recall: 0.6875 - precision: 0.6875 - fmeasure: 0.6875 - val_loss: 0.5906 - val_acc: 0.7188 - val_recall: 0.7188 - val_precision: 0.7188 - val_fmeasure: 0.7187\n",
      "Epoch 264/1500\n",
      "32/32 [==============================] - 1s - loss: 0.4903 - acc: 0.8125 - recall: 0.8125 - precision: 0.8125 - fmeasure: 0.8125 - val_loss: 0.4569 - val_acc: 0.8438 - val_recall: 0.8438 - val_precision: 0.8438 - val_fmeasure: 0.8437\n",
      "Epoch 265/1500\n",
      "32/32 [==============================] - 1s - loss: 0.5791 - acc: 0.7188 - recall: 0.7188 - precision: 0.7188 - fmeasure: 0.7187 - val_loss: 0.5229 - val_acc: 0.7812 - val_recall: 0.7812 - val_precision: 0.7812 - val_fmeasure: 0.7812\n",
      "Epoch 266/1500\n",
      "32/32 [==============================] - 1s - loss: 0.4912 - acc: 0.7812 - recall: 0.7812 - precision: 0.7812 - fmeasure: 0.7812 - val_loss: 0.5086 - val_acc: 0.8438 - val_recall: 0.8438 - val_precision: 0.8438 - val_fmeasure: 0.8437\n",
      "Epoch 267/1500\n",
      "32/32 [==============================] - 1s - loss: 0.5127 - acc: 0.8125 - recall: 0.8125 - precision: 0.8125 - fmeasure: 0.8125 - val_loss: 0.5291 - val_acc: 0.7812 - val_recall: 0.7812 - val_precision: 0.7812 - val_fmeasure: 0.7812\n",
      "Epoch 268/1500\n",
      "32/32 [==============================] - 1s - loss: 0.4552 - acc: 0.8438 - recall: 0.8438 - precision: 0.8438 - fmeasure: 0.8437 - val_loss: 0.6388 - val_acc: 0.6875 - val_recall: 0.6875 - val_precision: 0.6875 - val_fmeasure: 0.6875\n",
      "Epoch 269/1500\n",
      "32/32 [==============================] - 1s - loss: 0.4943 - acc: 0.8438 - recall: 0.8438 - precision: 0.8438 - fmeasure: 0.8437 - val_loss: 0.6217 - val_acc: 0.7188 - val_recall: 0.7188 - val_precision: 0.7188 - val_fmeasure: 0.7187\n",
      "Epoch 270/1500\n",
      "32/32 [==============================] - 1s - loss: 0.4611 - acc: 0.8125 - recall: 0.8125 - precision: 0.8125 - fmeasure: 0.8125 - val_loss: 0.6005 - val_acc: 0.7188 - val_recall: 0.7188 - val_precision: 0.7188 - val_fmeasure: 0.7187\n",
      "Epoch 271/1500\n",
      "32/32 [==============================] - 1s - loss: 0.3967 - acc: 0.9062 - recall: 0.9062 - precision: 0.9062 - fmeasure: 0.9062 - val_loss: 0.4860 - val_acc: 0.8125 - val_recall: 0.8125 - val_precision: 0.8125 - val_fmeasure: 0.8125\n",
      "Epoch 272/1500\n",
      "32/32 [==============================] - 1s - loss: 0.6977 - acc: 0.7188 - recall: 0.7188 - precision: 0.7188 - fmeasure: 0.7187 - val_loss: 0.4863 - val_acc: 0.8125 - val_recall: 0.8125 - val_precision: 0.8125 - val_fmeasure: 0.8125\n",
      "Epoch 273/1500\n",
      "32/32 [==============================] - 1s - loss: 0.6336 - acc: 0.7188 - recall: 0.7188 - precision: 0.7188 - fmeasure: 0.7187 - val_loss: 0.5008 - val_acc: 0.7812 - val_recall: 0.7812 - val_precision: 0.7812 - val_fmeasure: 0.7812\n",
      "Epoch 274/1500\n",
      "32/32 [==============================] - 1s - loss: 0.5138 - acc: 0.7812 - recall: 0.7812 - precision: 0.7812 - fmeasure: 0.7812 - val_loss: 0.5043 - val_acc: 0.7812 - val_recall: 0.7812 - val_precision: 0.7812 - val_fmeasure: 0.7812\n",
      "Epoch 275/1500\n",
      "32/32 [==============================] - 1s - loss: 0.4524 - acc: 0.8750 - recall: 0.8750 - precision: 0.8750 - fmeasure: 0.8750 - val_loss: 0.3757 - val_acc: 0.9062 - val_recall: 0.9062 - val_precision: 0.9062 - val_fmeasure: 0.9062\n",
      "Epoch 276/1500\n",
      "32/32 [==============================] - 1s - loss: 0.6848 - acc: 0.7500 - recall: 0.7500 - precision: 0.7500 - fmeasure: 0.7500 - val_loss: 0.4970 - val_acc: 0.8125 - val_recall: 0.8125 - val_precision: 0.8125 - val_fmeasure: 0.8125\n",
      "Epoch 277/1500\n",
      "32/32 [==============================] - 1s - loss: 0.6010 - acc: 0.7188 - recall: 0.7188 - precision: 0.7188 - fmeasure: 0.7187 - val_loss: 0.4509 - val_acc: 0.8438 - val_recall: 0.8438 - val_precision: 0.8438 - val_fmeasure: 0.8437\n",
      "Epoch 278/1500\n",
      "32/32 [==============================] - 1s - loss: 0.5734 - acc: 0.7812 - recall: 0.7812 - precision: 0.7812 - fmeasure: 0.7812 - val_loss: 0.5257 - val_acc: 0.7812 - val_recall: 0.7812 - val_precision: 0.7812 - val_fmeasure: 0.7812\n",
      "Epoch 279/1500\n",
      "32/32 [==============================] - 1s - loss: 0.5630 - acc: 0.7812 - recall: 0.7812 - precision: 0.7812 - fmeasure: 0.7812 - val_loss: 0.5380 - val_acc: 0.7812 - val_recall: 0.7812 - val_precision: 0.7812 - val_fmeasure: 0.7812\n",
      "Epoch 280/1500\n",
      "32/32 [==============================] - 1s - loss: 0.5517 - acc: 0.7188 - recall: 0.7188 - precision: 0.7188 - fmeasure: 0.7187 - val_loss: 0.4451 - val_acc: 0.8438 - val_recall: 0.8438 - val_precision: 0.8438 - val_fmeasure: 0.8437\n",
      "Epoch 281/1500\n",
      "32/32 [==============================] - 1s - loss: 0.4907 - acc: 0.7812 - recall: 0.7812 - precision: 0.7812 - fmeasure: 0.7812 - val_loss: 0.5435 - val_acc: 0.7812 - val_recall: 0.7812 - val_precision: 0.7812 - val_fmeasure: 0.7812\n",
      "Epoch 282/1500\n",
      "32/32 [==============================] - 1s - loss: 0.5995 - acc: 0.7188 - recall: 0.7188 - precision: 0.7188 - fmeasure: 0.7187 - val_loss: 0.5177 - val_acc: 0.8125 - val_recall: 0.8125 - val_precision: 0.8125 - val_fmeasure: 0.8125\n",
      "Epoch 283/1500\n",
      "32/32 [==============================] - 1s - loss: 0.6178 - acc: 0.7500 - recall: 0.7500 - precision: 0.7500 - fmeasure: 0.7500 - val_loss: 0.3419 - val_acc: 0.9688 - val_recall: 0.9688 - val_precision: 0.9688 - val_fmeasure: 0.9687\n",
      "Epoch 284/1500\n",
      "32/32 [==============================] - 1s - loss: 0.5417 - acc: 0.7500 - recall: 0.7500 - precision: 0.7500 - fmeasure: 0.7500 - val_loss: 0.6971 - val_acc: 0.6250 - val_recall: 0.6250 - val_precision: 0.6250 - val_fmeasure: 0.6250\n",
      "Epoch 285/1500\n",
      "32/32 [==============================] - 1s - loss: 0.5308 - acc: 0.7812 - recall: 0.7812 - precision: 0.7812 - fmeasure: 0.7812 - val_loss: 0.6797 - val_acc: 0.6562 - val_recall: 0.6562 - val_precision: 0.6562 - val_fmeasure: 0.6562\n",
      "Epoch 286/1500\n",
      "32/32 [==============================] - 1s - loss: 0.5465 - acc: 0.7812 - recall: 0.7812 - precision: 0.7812 - fmeasure: 0.7812 - val_loss: 0.5349 - val_acc: 0.7812 - val_recall: 0.7812 - val_precision: 0.7812 - val_fmeasure: 0.7812\n",
      "Epoch 287/1500\n",
      "32/32 [==============================] - 1s - loss: 0.6095 - acc: 0.7188 - recall: 0.7188 - precision: 0.7188 - fmeasure: 0.7187 - val_loss: 0.4605 - val_acc: 0.8438 - val_recall: 0.8438 - val_precision: 0.8438 - val_fmeasure: 0.8437\n",
      "Epoch 288/1500\n",
      "32/32 [==============================] - 1s - loss: 0.5229 - acc: 0.7812 - recall: 0.7812 - precision: 0.7812 - fmeasure: 0.7812 - val_loss: 0.6759 - val_acc: 0.7188 - val_recall: 0.7188 - val_precision: 0.7188 - val_fmeasure: 0.7187\n",
      "Epoch 289/1500\n",
      "32/32 [==============================] - 1s - loss: 0.4777 - acc: 0.7812 - recall: 0.7812 - precision: 0.7812 - fmeasure: 0.7812 - val_loss: 0.6498 - val_acc: 0.6875 - val_recall: 0.6875 - val_precision: 0.6875 - val_fmeasure: 0.6875\n",
      "Epoch 290/1500\n",
      "32/32 [==============================] - 1s - loss: 0.5575 - acc: 0.7812 - recall: 0.7812 - precision: 0.7812 - fmeasure: 0.7812 - val_loss: 0.4633 - val_acc: 0.8125 - val_recall: 0.8125 - val_precision: 0.8125 - val_fmeasure: 0.8125\n",
      "Epoch 291/1500\n",
      "32/32 [==============================] - 1s - loss: 0.5311 - acc: 0.7812 - recall: 0.7812 - precision: 0.7812 - fmeasure: 0.7812 - val_loss: 0.4793 - val_acc: 0.8125 - val_recall: 0.8125 - val_precision: 0.8125 - val_fmeasure: 0.8125\n",
      "Epoch 292/1500\n",
      "32/32 [==============================] - 1s - loss: 0.5357 - acc: 0.8125 - recall: 0.8125 - precision: 0.8125 - fmeasure: 0.8125 - val_loss: 0.5310 - val_acc: 0.7812 - val_recall: 0.7812 - val_precision: 0.7812 - val_fmeasure: 0.7812\n",
      "Epoch 293/1500\n",
      "32/32 [==============================] - 1s - loss: 0.5046 - acc: 0.7812 - recall: 0.7812 - precision: 0.7812 - fmeasure: 0.7812 - val_loss: 0.4547 - val_acc: 0.8750 - val_recall: 0.8750 - val_precision: 0.8750 - val_fmeasure: 0.8750\n",
      "Epoch 294/1500\n",
      "32/32 [==============================] - 1s - loss: 0.5119 - acc: 0.8438 - recall: 0.8438 - precision: 0.8438 - fmeasure: 0.8437 - val_loss: 0.4878 - val_acc: 0.8125 - val_recall: 0.8125 - val_precision: 0.8125 - val_fmeasure: 0.8125\n",
      "Epoch 295/1500\n",
      "32/32 [==============================] - 1s - loss: 0.4294 - acc: 0.8438 - recall: 0.8438 - precision: 0.8438 - fmeasure: 0.8437 - val_loss: 0.4540 - val_acc: 0.8750 - val_recall: 0.8750 - val_precision: 0.8750 - val_fmeasure: 0.8750\n",
      "Epoch 296/1500\n",
      "32/32 [==============================] - 1s - loss: 0.4966 - acc: 0.8125 - recall: 0.8125 - precision: 0.8125 - fmeasure: 0.8125 - val_loss: 0.5312 - val_acc: 0.8125 - val_recall: 0.8125 - val_precision: 0.8125 - val_fmeasure: 0.8125\n",
      "Epoch 297/1500\n",
      "32/32 [==============================] - 1s - loss: 0.4652 - acc: 0.8125 - recall: 0.8125 - precision: 0.8125 - fmeasure: 0.8125 - val_loss: 0.4875 - val_acc: 0.8438 - val_recall: 0.8438 - val_precision: 0.8438 - val_fmeasure: 0.8437\n",
      "Epoch 298/1500\n",
      "32/32 [==============================] - 1s - loss: 0.7024 - acc: 0.7188 - recall: 0.7188 - precision: 0.7188 - fmeasure: 0.7187 - val_loss: 0.5565 - val_acc: 0.7812 - val_recall: 0.7812 - val_precision: 0.7812 - val_fmeasure: 0.7812\n",
      "Epoch 299/1500\n",
      "32/32 [==============================] - 1s - loss: 0.7201 - acc: 0.6875 - recall: 0.6875 - precision: 0.6875 - fmeasure: 0.6875 - val_loss: 0.5736 - val_acc: 0.7812 - val_recall: 0.7812 - val_precision: 0.7812 - val_fmeasure: 0.7812\n",
      "Epoch 300/1500\n",
      "32/32 [==============================] - 1s - loss: 0.5502 - acc: 0.7812 - recall: 0.7812 - precision: 0.7812 - fmeasure: 0.7812 - val_loss: 0.3964 - val_acc: 0.9062 - val_recall: 0.9062 - val_precision: 0.9062 - val_fmeasure: 0.9062\n",
      "Epoch 301/1500\n",
      "32/32 [==============================] - 1s - loss: 0.5972 - acc: 0.7188 - recall: 0.7188 - precision: 0.7188 - fmeasure: 0.7187 - val_loss: 0.6149 - val_acc: 0.7500 - val_recall: 0.7500 - val_precision: 0.7500 - val_fmeasure: 0.7500\n",
      "Epoch 302/1500\n",
      "32/32 [==============================] - 1s - loss: 0.6592 - acc: 0.6562 - recall: 0.6562 - precision: 0.6562 - fmeasure: 0.6562 - val_loss: 0.4172 - val_acc: 0.8750 - val_recall: 0.8750 - val_precision: 0.8750 - val_fmeasure: 0.8750\n",
      "Epoch 303/1500\n",
      "32/32 [==============================] - 1s - loss: 0.5316 - acc: 0.7500 - recall: 0.7500 - precision: 0.7500 - fmeasure: 0.7500 - val_loss: 0.3676 - val_acc: 0.9062 - val_recall: 0.9062 - val_precision: 0.9062 - val_fmeasure: 0.9062\n",
      "Epoch 304/1500\n",
      "32/32 [==============================] - 1s - loss: 0.6302 - acc: 0.6875 - recall: 0.6875 - precision: 0.6875 - fmeasure: 0.6875 - val_loss: 0.3622 - val_acc: 0.9375 - val_recall: 0.9375 - val_precision: 0.9375 - val_fmeasure: 0.9375\n",
      "Epoch 305/1500\n",
      "32/32 [==============================] - 1s - loss: 0.6190 - acc: 0.7188 - recall: 0.7188 - precision: 0.7188 - fmeasure: 0.7187 - val_loss: 0.4643 - val_acc: 0.8438 - val_recall: 0.8438 - val_precision: 0.8438 - val_fmeasure: 0.8437\n",
      "Epoch 306/1500\n",
      "32/32 [==============================] - 1s - loss: 0.7225 - acc: 0.6562 - recall: 0.6562 - precision: 0.6562 - fmeasure: 0.6562 - val_loss: 0.5764 - val_acc: 0.7188 - val_recall: 0.7188 - val_precision: 0.7188 - val_fmeasure: 0.7187\n",
      "Epoch 307/1500\n",
      "32/32 [==============================] - 1s - loss: 0.6988 - acc: 0.6875 - recall: 0.6875 - precision: 0.6875 - fmeasure: 0.6875 - val_loss: 0.5709 - val_acc: 0.7188 - val_recall: 0.7188 - val_precision: 0.7188 - val_fmeasure: 0.7187\n",
      "Epoch 308/1500\n",
      "32/32 [==============================] - 1s - loss: 0.4603 - acc: 0.8438 - recall: 0.8438 - precision: 0.8438 - fmeasure: 0.8437 - val_loss: 0.4239 - val_acc: 0.8750 - val_recall: 0.8750 - val_precision: 0.8750 - val_fmeasure: 0.8750\n",
      "Epoch 309/1500\n",
      "32/32 [==============================] - 1s - loss: 0.5900 - acc: 0.6875 - recall: 0.6875 - precision: 0.6875 - fmeasure: 0.6875 - val_loss: 0.6491 - val_acc: 0.6562 - val_recall: 0.6562 - val_precision: 0.6562 - val_fmeasure: 0.6562\n",
      "Epoch 310/1500\n",
      "32/32 [==============================] - 1s - loss: 0.5896 - acc: 0.7812 - recall: 0.7812 - precision: 0.7812 - fmeasure: 0.7812 - val_loss: 0.5840 - val_acc: 0.8125 - val_recall: 0.8125 - val_precision: 0.8125 - val_fmeasure: 0.8125\n",
      "Epoch 311/1500\n",
      "32/32 [==============================] - 1s - loss: 0.5038 - acc: 0.8125 - recall: 0.8125 - precision: 0.8125 - fmeasure: 0.8125 - val_loss: 0.5645 - val_acc: 0.7500 - val_recall: 0.7500 - val_precision: 0.7500 - val_fmeasure: 0.7500\n",
      "Epoch 312/1500\n",
      "32/32 [==============================] - 1s - loss: 0.5945 - acc: 0.7188 - recall: 0.7188 - precision: 0.7188 - fmeasure: 0.7187 - val_loss: 0.5014 - val_acc: 0.8125 - val_recall: 0.8125 - val_precision: 0.8125 - val_fmeasure: 0.8125\n",
      "Epoch 313/1500\n",
      "32/32 [==============================] - 1s - loss: 0.4414 - acc: 0.8438 - recall: 0.8438 - precision: 0.8438 - fmeasure: 0.8437 - val_loss: 0.6793 - val_acc: 0.6875 - val_recall: 0.6875 - val_precision: 0.6875 - val_fmeasure: 0.6875\n",
      "Epoch 314/1500\n",
      "32/32 [==============================] - 1s - loss: 0.3682 - acc: 0.9375 - recall: 0.9375 - precision: 0.9375 - fmeasure: 0.9375 - val_loss: 0.6238 - val_acc: 0.6875 - val_recall: 0.6875 - val_precision: 0.6875 - val_fmeasure: 0.6875\n",
      "Epoch 315/1500\n",
      "32/32 [==============================] - 1s - loss: 0.6720 - acc: 0.6562 - recall: 0.6562 - precision: 0.6562 - fmeasure: 0.6562 - val_loss: 0.6114 - val_acc: 0.6875 - val_recall: 0.6875 - val_precision: 0.6875 - val_fmeasure: 0.6875\n",
      "Epoch 316/1500\n",
      "32/32 [==============================] - 1s - loss: 0.4316 - acc: 0.8438 - recall: 0.8438 - precision: 0.8438 - fmeasure: 0.8437 - val_loss: 0.5931 - val_acc: 0.7500 - val_recall: 0.7500 - val_precision: 0.7500 - val_fmeasure: 0.7500\n",
      "Epoch 317/1500\n",
      "32/32 [==============================] - 1s - loss: 0.4549 - acc: 0.8125 - recall: 0.8125 - precision: 0.8125 - fmeasure: 0.8125 - val_loss: 0.4878 - val_acc: 0.7812 - val_recall: 0.7812 - val_precision: 0.7812 - val_fmeasure: 0.7812\n",
      "Epoch 318/1500\n",
      "32/32 [==============================] - 1s - loss: 0.3495 - acc: 0.9062 - recall: 0.9062 - precision: 0.9062 - fmeasure: 0.9062 - val_loss: 0.5852 - val_acc: 0.7500 - val_recall: 0.7500 - val_precision: 0.7500 - val_fmeasure: 0.7500\n",
      "Epoch 319/1500\n",
      "32/32 [==============================] - 1s - loss: 0.5976 - acc: 0.7188 - recall: 0.7188 - precision: 0.7188 - fmeasure: 0.7187 - val_loss: 0.7222 - val_acc: 0.6562 - val_recall: 0.6562 - val_precision: 0.6562 - val_fmeasure: 0.6562\n",
      "Epoch 320/1500\n",
      "32/32 [==============================] - 1s - loss: 0.4489 - acc: 0.8750 - recall: 0.8750 - precision: 0.8750 - fmeasure: 0.8750 - val_loss: 0.7014 - val_acc: 0.6875 - val_recall: 0.6875 - val_precision: 0.6875 - val_fmeasure: 0.6875\n",
      "Epoch 321/1500\n",
      "32/32 [==============================] - 1s - loss: 0.4881 - acc: 0.8438 - recall: 0.8438 - precision: 0.8438 - fmeasure: 0.8437 - val_loss: 0.5777 - val_acc: 0.7812 - val_recall: 0.7812 - val_precision: 0.7812 - val_fmeasure: 0.7812\n",
      "Epoch 322/1500\n",
      "32/32 [==============================] - 1s - loss: 0.4852 - acc: 0.8125 - recall: 0.8125 - precision: 0.8125 - fmeasure: 0.8125 - val_loss: 0.6170 - val_acc: 0.6875 - val_recall: 0.6875 - val_precision: 0.6875 - val_fmeasure: 0.6875\n",
      "Epoch 323/1500\n",
      "32/32 [==============================] - 1s - loss: 0.7823 - acc: 0.6250 - recall: 0.6250 - precision: 0.6250 - fmeasure: 0.6250 - val_loss: 0.5006 - val_acc: 0.7812 - val_recall: 0.7812 - val_precision: 0.7812 - val_fmeasure: 0.7812\n",
      "Epoch 324/1500\n",
      "32/32 [==============================] - 1s - loss: 0.4739 - acc: 0.8438 - recall: 0.8438 - precision: 0.8438 - fmeasure: 0.8437 - val_loss: 0.5227 - val_acc: 0.7812 - val_recall: 0.7812 - val_precision: 0.7812 - val_fmeasure: 0.7812\n",
      "Epoch 325/1500\n",
      "32/32 [==============================] - 1s - loss: 0.5376 - acc: 0.8125 - recall: 0.8125 - precision: 0.8125 - fmeasure: 0.8125 - val_loss: 0.6247 - val_acc: 0.7188 - val_recall: 0.7188 - val_precision: 0.7188 - val_fmeasure: 0.7187\n",
      "Epoch 326/1500\n",
      "32/32 [==============================] - 1s - loss: 0.6489 - acc: 0.7188 - recall: 0.7188 - precision: 0.7188 - fmeasure: 0.7187 - val_loss: 0.5462 - val_acc: 0.7812 - val_recall: 0.7812 - val_precision: 0.7812 - val_fmeasure: 0.7812\n",
      "Epoch 327/1500\n",
      "32/32 [==============================] - 1s - loss: 0.6780 - acc: 0.7500 - recall: 0.7500 - precision: 0.7500 - fmeasure: 0.7500 - val_loss: 0.4914 - val_acc: 0.8125 - val_recall: 0.8125 - val_precision: 0.8125 - val_fmeasure: 0.8125\n",
      "Epoch 328/1500\n",
      "32/32 [==============================] - 1s - loss: 0.5225 - acc: 0.7812 - recall: 0.7812 - precision: 0.7812 - fmeasure: 0.7812 - val_loss: 0.6842 - val_acc: 0.6250 - val_recall: 0.6250 - val_precision: 0.6250 - val_fmeasure: 0.6250\n",
      "Epoch 329/1500\n",
      "32/32 [==============================] - 1s - loss: 0.4699 - acc: 0.8750 - recall: 0.8750 - precision: 0.8750 - fmeasure: 0.8750 - val_loss: 0.5254 - val_acc: 0.7812 - val_recall: 0.7812 - val_precision: 0.7812 - val_fmeasure: 0.7812\n",
      "Epoch 330/1500\n",
      "32/32 [==============================] - 1s - loss: 0.5353 - acc: 0.8438 - recall: 0.8438 - precision: 0.8438 - fmeasure: 0.8437 - val_loss: 0.4400 - val_acc: 0.8750 - val_recall: 0.8750 - val_precision: 0.8750 - val_fmeasure: 0.8750\n",
      "Epoch 331/1500\n",
      "32/32 [==============================] - 1s - loss: 0.4474 - acc: 0.8125 - recall: 0.8125 - precision: 0.8125 - fmeasure: 0.8125 - val_loss: 0.5789 - val_acc: 0.7500 - val_recall: 0.7500 - val_precision: 0.7500 - val_fmeasure: 0.7500\n",
      "Epoch 332/1500\n",
      "32/32 [==============================] - 1s - loss: 0.6668 - acc: 0.6562 - recall: 0.6562 - precision: 0.6562 - fmeasure: 0.6562 - val_loss: 0.6424 - val_acc: 0.6562 - val_recall: 0.6562 - val_precision: 0.6562 - val_fmeasure: 0.6562\n",
      "Epoch 333/1500\n",
      "32/32 [==============================] - 1s - loss: 0.6690 - acc: 0.7812 - recall: 0.7812 - precision: 0.7812 - fmeasure: 0.7812 - val_loss: 0.6475 - val_acc: 0.6562 - val_recall: 0.6562 - val_precision: 0.6562 - val_fmeasure: 0.6562\n",
      "Epoch 334/1500\n",
      "32/32 [==============================] - 1s - loss: 0.4898 - acc: 0.8750 - recall: 0.8750 - precision: 0.8750 - fmeasure: 0.8750 - val_loss: 0.5525 - val_acc: 0.7812 - val_recall: 0.7812 - val_precision: 0.7812 - val_fmeasure: 0.7812\n",
      "Epoch 335/1500\n",
      "32/32 [==============================] - 1s - loss: 0.4788 - acc: 0.8438 - recall: 0.8438 - precision: 0.8438 - fmeasure: 0.8437 - val_loss: 0.4988 - val_acc: 0.8125 - val_recall: 0.8125 - val_precision: 0.8125 - val_fmeasure: 0.8125\n",
      "Epoch 336/1500\n",
      "32/32 [==============================] - 1s - loss: 0.4083 - acc: 0.8750 - recall: 0.8750 - precision: 0.8750 - fmeasure: 0.8750 - val_loss: 0.6766 - val_acc: 0.6562 - val_recall: 0.6562 - val_precision: 0.6562 - val_fmeasure: 0.6562\n",
      "Epoch 337/1500\n",
      "32/32 [==============================] - 1s - loss: 0.7483 - acc: 0.6250 - recall: 0.6250 - precision: 0.6250 - fmeasure: 0.6250 - val_loss: 0.5702 - val_acc: 0.7500 - val_recall: 0.7500 - val_precision: 0.7500 - val_fmeasure: 0.7500\n",
      "Epoch 338/1500\n",
      "32/32 [==============================] - 1s - loss: 0.4932 - acc: 0.8438 - recall: 0.8438 - precision: 0.8438 - fmeasure: 0.8437 - val_loss: 0.7298 - val_acc: 0.5938 - val_recall: 0.5938 - val_precision: 0.5938 - val_fmeasure: 0.5937\n",
      "Epoch 339/1500\n",
      "32/32 [==============================] - 1s - loss: 0.4043 - acc: 0.8438 - recall: 0.8438 - precision: 0.8438 - fmeasure: 0.8437 - val_loss: 0.3998 - val_acc: 0.8750 - val_recall: 0.8750 - val_precision: 0.8750 - val_fmeasure: 0.8750\n",
      "Epoch 340/1500\n",
      "32/32 [==============================] - 1s - loss: 0.5830 - acc: 0.7188 - recall: 0.7188 - precision: 0.7188 - fmeasure: 0.7187 - val_loss: 0.5332 - val_acc: 0.7812 - val_recall: 0.7812 - val_precision: 0.7812 - val_fmeasure: 0.7812\n",
      "Epoch 341/1500\n",
      "32/32 [==============================] - 1s - loss: 0.5624 - acc: 0.7812 - recall: 0.7812 - precision: 0.7812 - fmeasure: 0.7812 - val_loss: 0.5529 - val_acc: 0.7500 - val_recall: 0.7500 - val_precision: 0.7500 - val_fmeasure: 0.7500\n",
      "Epoch 342/1500\n",
      "32/32 [==============================] - 1s - loss: 0.4657 - acc: 0.8125 - recall: 0.8125 - precision: 0.8125 - fmeasure: 0.8125 - val_loss: 0.5802 - val_acc: 0.7812 - val_recall: 0.7812 - val_precision: 0.7812 - val_fmeasure: 0.7812\n",
      "Epoch 343/1500\n",
      "32/32 [==============================] - 1s - loss: 0.8159 - acc: 0.5938 - recall: 0.5938 - precision: 0.5938 - fmeasure: 0.5937 - val_loss: 0.5650 - val_acc: 0.7812 - val_recall: 0.7812 - val_precision: 0.7812 - val_fmeasure: 0.7812\n",
      "Epoch 344/1500\n",
      "32/32 [==============================] - 1s - loss: 0.5812 - acc: 0.7188 - recall: 0.7188 - precision: 0.7188 - fmeasure: 0.7187 - val_loss: 0.5192 - val_acc: 0.7500 - val_recall: 0.7500 - val_precision: 0.7500 - val_fmeasure: 0.7500\n",
      "Epoch 345/1500\n",
      "32/32 [==============================] - 1s - loss: 0.5555 - acc: 0.8125 - recall: 0.8125 - precision: 0.8125 - fmeasure: 0.8125 - val_loss: 0.5262 - val_acc: 0.7812 - val_recall: 0.7812 - val_precision: 0.7812 - val_fmeasure: 0.7812\n",
      "Epoch 346/1500\n",
      "32/32 [==============================] - 1s - loss: 0.4620 - acc: 0.8438 - recall: 0.8438 - precision: 0.8438 - fmeasure: 0.8437 - val_loss: 0.3991 - val_acc: 0.8750 - val_recall: 0.8750 - val_precision: 0.8750 - val_fmeasure: 0.8750\n",
      "Epoch 347/1500\n",
      "32/32 [==============================] - 1s - loss: 0.3543 - acc: 0.9375 - recall: 0.9375 - precision: 0.9375 - fmeasure: 0.9375 - val_loss: 0.5023 - val_acc: 0.8125 - val_recall: 0.8125 - val_precision: 0.8125 - val_fmeasure: 0.8125\n",
      "Epoch 348/1500\n",
      "32/32 [==============================] - 1s - loss: 0.5594 - acc: 0.7188 - recall: 0.7188 - precision: 0.7188 - fmeasure: 0.7187 - val_loss: 0.3392 - val_acc: 0.9375 - val_recall: 0.9375 - val_precision: 0.9375 - val_fmeasure: 0.9375\n",
      "Epoch 349/1500\n",
      "32/32 [==============================] - 1s - loss: 0.4673 - acc: 0.8125 - recall: 0.8125 - precision: 0.8125 - fmeasure: 0.8125 - val_loss: 0.6156 - val_acc: 0.6875 - val_recall: 0.6875 - val_precision: 0.6875 - val_fmeasure: 0.6875\n",
      "Epoch 350/1500\n",
      "32/32 [==============================] - 1s - loss: 0.6840 - acc: 0.7188 - recall: 0.7188 - precision: 0.7188 - fmeasure: 0.7187 - val_loss: 0.5067 - val_acc: 0.8125 - val_recall: 0.8125 - val_precision: 0.8125 - val_fmeasure: 0.8125\n",
      "Epoch 351/1500\n",
      "32/32 [==============================] - 1s - loss: 0.5034 - acc: 0.8125 - recall: 0.8125 - precision: 0.8125 - fmeasure: 0.8125 - val_loss: 0.5205 - val_acc: 0.7812 - val_recall: 0.7812 - val_precision: 0.7812 - val_fmeasure: 0.7812\n",
      "Epoch 352/1500\n",
      "32/32 [==============================] - 1s - loss: 0.5827 - acc: 0.7188 - recall: 0.7188 - precision: 0.7188 - fmeasure: 0.7187 - val_loss: 0.4921 - val_acc: 0.8125 - val_recall: 0.8125 - val_precision: 0.8125 - val_fmeasure: 0.8125\n",
      "Epoch 353/1500\n",
      "32/32 [==============================] - 1s - loss: 0.6894 - acc: 0.7188 - recall: 0.7188 - precision: 0.7188 - fmeasure: 0.7187 - val_loss: 0.4503 - val_acc: 0.8438 - val_recall: 0.8438 - val_precision: 0.8438 - val_fmeasure: 0.8437\n",
      "Epoch 354/1500\n",
      "32/32 [==============================] - 1s - loss: 0.4245 - acc: 0.8750 - recall: 0.8750 - precision: 0.8750 - fmeasure: 0.8750 - val_loss: 0.3413 - val_acc: 0.9375 - val_recall: 0.9375 - val_precision: 0.9375 - val_fmeasure: 0.9375\n",
      "Epoch 355/1500\n",
      "32/32 [==============================] - 1s - loss: 0.4402 - acc: 0.8438 - recall: 0.8438 - precision: 0.8438 - fmeasure: 0.8437 - val_loss: 0.5751 - val_acc: 0.7188 - val_recall: 0.7188 - val_precision: 0.7188 - val_fmeasure: 0.7187\n",
      "Epoch 356/1500\n",
      "32/32 [==============================] - 1s - loss: 0.4751 - acc: 0.8750 - recall: 0.8750 - precision: 0.8750 - fmeasure: 0.8750 - val_loss: 0.5363 - val_acc: 0.7812 - val_recall: 0.7812 - val_precision: 0.7812 - val_fmeasure: 0.7812\n",
      "Epoch 357/1500\n",
      "32/32 [==============================] - 1s - loss: 0.3703 - acc: 0.9062 - recall: 0.9062 - precision: 0.9062 - fmeasure: 0.9062 - val_loss: 0.4441 - val_acc: 0.8438 - val_recall: 0.8438 - val_precision: 0.8438 - val_fmeasure: 0.8437\n",
      "Epoch 358/1500\n",
      "32/32 [==============================] - 1s - loss: 0.4439 - acc: 0.8438 - recall: 0.8438 - precision: 0.8438 - fmeasure: 0.8437 - val_loss: 0.4049 - val_acc: 0.8750 - val_recall: 0.8750 - val_precision: 0.8750 - val_fmeasure: 0.8750\n",
      "Epoch 359/1500\n",
      "32/32 [==============================] - 1s - loss: 0.6644 - acc: 0.6562 - recall: 0.6562 - precision: 0.6562 - fmeasure: 0.6562 - val_loss: 0.6180 - val_acc: 0.7188 - val_recall: 0.7188 - val_precision: 0.7188 - val_fmeasure: 0.7187\n",
      "Epoch 360/1500\n",
      "32/32 [==============================] - 1s - loss: 0.6798 - acc: 0.6875 - recall: 0.6875 - precision: 0.6875 - fmeasure: 0.6875 - val_loss: 0.4113 - val_acc: 0.8750 - val_recall: 0.8750 - val_precision: 0.8750 - val_fmeasure: 0.8750\n",
      "Epoch 361/1500\n",
      "32/32 [==============================] - 1s - loss: 0.5160 - acc: 0.8125 - recall: 0.8125 - precision: 0.8125 - fmeasure: 0.8125 - val_loss: 0.6067 - val_acc: 0.7188 - val_recall: 0.7188 - val_precision: 0.7188 - val_fmeasure: 0.7187\n",
      "Epoch 362/1500\n",
      "32/32 [==============================] - 1s - loss: 0.6703 - acc: 0.7500 - recall: 0.7500 - precision: 0.7500 - fmeasure: 0.7500 - val_loss: 0.6387 - val_acc: 0.6875 - val_recall: 0.6875 - val_precision: 0.6875 - val_fmeasure: 0.6875\n",
      "Epoch 363/1500\n",
      "32/32 [==============================] - 1s - loss: 0.4666 - acc: 0.8438 - recall: 0.8438 - precision: 0.8438 - fmeasure: 0.8437 - val_loss: 0.6048 - val_acc: 0.7188 - val_recall: 0.7188 - val_precision: 0.7188 - val_fmeasure: 0.7187\n",
      "Epoch 364/1500\n",
      "32/32 [==============================] - 1s - loss: 0.5919 - acc: 0.7500 - recall: 0.7500 - precision: 0.7500 - fmeasure: 0.7500 - val_loss: 0.5455 - val_acc: 0.7812 - val_recall: 0.7812 - val_precision: 0.7812 - val_fmeasure: 0.7812\n",
      "Epoch 365/1500\n",
      "32/32 [==============================] - 1s - loss: 0.9009 - acc: 0.5312 - recall: 0.5312 - precision: 0.5312 - fmeasure: 0.5312 - val_loss: 0.6602 - val_acc: 0.6562 - val_recall: 0.6562 - val_precision: 0.6562 - val_fmeasure: 0.6562\n",
      "Epoch 366/1500\n",
      "32/32 [==============================] - 1s - loss: 0.6463 - acc: 0.7500 - recall: 0.7500 - precision: 0.7500 - fmeasure: 0.7500 - val_loss: 0.5460 - val_acc: 0.7812 - val_recall: 0.7812 - val_precision: 0.7812 - val_fmeasure: 0.7812\n",
      "Epoch 367/1500\n",
      "32/32 [==============================] - 1s - loss: 0.6245 - acc: 0.7188 - recall: 0.7188 - precision: 0.7188 - fmeasure: 0.7187 - val_loss: 0.4336 - val_acc: 0.8750 - val_recall: 0.8750 - val_precision: 0.8750 - val_fmeasure: 0.8750\n",
      "Epoch 368/1500\n",
      "32/32 [==============================] - 1s - loss: 0.4314 - acc: 0.9062 - recall: 0.9062 - precision: 0.9062 - fmeasure: 0.9062 - val_loss: 0.4757 - val_acc: 0.8438 - val_recall: 0.8438 - val_precision: 0.8438 - val_fmeasure: 0.8437\n",
      "Epoch 369/1500\n",
      "32/32 [==============================] - 1s - loss: 0.5852 - acc: 0.7188 - recall: 0.7188 - precision: 0.7188 - fmeasure: 0.7187 - val_loss: 0.5558 - val_acc: 0.7500 - val_recall: 0.7500 - val_precision: 0.7500 - val_fmeasure: 0.7500\n",
      "Epoch 370/1500\n",
      "32/32 [==============================] - 1s - loss: 0.5721 - acc: 0.8125 - recall: 0.8125 - precision: 0.8125 - fmeasure: 0.8125 - val_loss: 0.4859 - val_acc: 0.8125 - val_recall: 0.8125 - val_precision: 0.8125 - val_fmeasure: 0.8125\n",
      "Epoch 371/1500\n",
      "32/32 [==============================] - 1s - loss: 0.5445 - acc: 0.7812 - recall: 0.7812 - precision: 0.7812 - fmeasure: 0.7812 - val_loss: 0.4569 - val_acc: 0.8438 - val_recall: 0.8438 - val_precision: 0.8438 - val_fmeasure: 0.8437\n",
      "Epoch 372/1500\n",
      "32/32 [==============================] - 1s - loss: 0.4919 - acc: 0.8125 - recall: 0.8125 - precision: 0.8125 - fmeasure: 0.8125 - val_loss: 0.5200 - val_acc: 0.7812 - val_recall: 0.7812 - val_precision: 0.7812 - val_fmeasure: 0.7812\n",
      "Epoch 373/1500\n",
      "32/32 [==============================] - 1s - loss: 0.5152 - acc: 0.8125 - recall: 0.8125 - precision: 0.8125 - fmeasure: 0.8125 - val_loss: 0.5613 - val_acc: 0.7500 - val_recall: 0.7500 - val_precision: 0.7500 - val_fmeasure: 0.7500\n",
      "Epoch 374/1500\n",
      "32/32 [==============================] - 1s - loss: 0.6540 - acc: 0.6562 - recall: 0.6562 - precision: 0.6562 - fmeasure: 0.6562 - val_loss: 0.6227 - val_acc: 0.6875 - val_recall: 0.6875 - val_precision: 0.6875 - val_fmeasure: 0.6875\n",
      "Epoch 375/1500\n",
      "32/32 [==============================] - 1s - loss: 0.4944 - acc: 0.8125 - recall: 0.8125 - precision: 0.8125 - fmeasure: 0.8125 - val_loss: 0.4180 - val_acc: 0.8750 - val_recall: 0.8750 - val_precision: 0.8750 - val_fmeasure: 0.8750\n",
      "Epoch 376/1500\n",
      "32/32 [==============================] - 1s - loss: 0.4851 - acc: 0.7812 - recall: 0.7812 - precision: 0.7812 - fmeasure: 0.7812 - val_loss: 0.5005 - val_acc: 0.8125 - val_recall: 0.8125 - val_precision: 0.8125 - val_fmeasure: 0.8125\n",
      "Epoch 377/1500\n",
      "32/32 [==============================] - 1s - loss: 0.6746 - acc: 0.7188 - recall: 0.7188 - precision: 0.7188 - fmeasure: 0.7187 - val_loss: 0.5239 - val_acc: 0.7812 - val_recall: 0.7812 - val_precision: 0.7812 - val_fmeasure: 0.7812\n",
      "Epoch 378/1500\n",
      "32/32 [==============================] - 1s - loss: 0.5720 - acc: 0.7812 - recall: 0.7812 - precision: 0.7812 - fmeasure: 0.7812 - val_loss: 0.4039 - val_acc: 0.8750 - val_recall: 0.8750 - val_precision: 0.8750 - val_fmeasure: 0.8750\n",
      "Epoch 379/1500\n"
     ]
    }
   ],
   "source": [
    "history = model.fit_generator(w_gender_train_gen, \n",
    "                              validation_data=w_gender_valid_gen,\n",
    "                              nb_val_samples=BATCH_SIZE,\n",
    "                              samples_per_epoch=BATCH_SIZE, \n",
    "                              nb_epoch=NUM_EPOCHS)"
   ]
  },
  {
   "cell_type": "markdown",
   "metadata": {
    "deletable": true,
    "editable": true
   },
   "source": [
    "## 7. Evaluating the results"
   ]
  },
  {
   "cell_type": "code",
   "execution_count": null,
   "metadata": {
    "collapsed": false,
    "deletable": true,
    "editable": true
   },
   "outputs": [],
   "source": [
    "train_history = history.history['acc']\n",
    "valid_history = history.history['val_acc']"
   ]
  },
  {
   "cell_type": "code",
   "execution_count": null,
   "metadata": {
    "collapsed": false,
    "deletable": true,
    "editable": true
   },
   "outputs": [],
   "source": [
    " # Plotting training accuracy and testing accuracy acros epochs\n",
    "plt.figure(figsize=(20,10))\n",
    "plt.plot(train_history)\n",
    "plt.plot(valid_history)\n",
    "plt.title('Training and Validation Accuracy')\n",
    "plt.ylabel('accuracy')\n",
    "plt.xlabel('epoch')\n",
    "plt.legend(['train', 'test'], loc='upper left')\n",
    "plt.show()\n",
    "plt.savefig(PIC_NAME)"
   ]
  },
  {
   "cell_type": "code",
   "execution_count": null,
   "metadata": {
    "collapsed": true,
    "deletable": true,
    "editable": true
   },
   "outputs": [],
   "source": [
    "# Tail-rolling average transform\n",
    "series_train = Series(train_history)\n",
    "rolling_train = series_train.rolling(window=100)\n",
    "rolling_mean_train = rolling_train.mean()\n",
    "\n",
    "series_valid = Series(valid_history)\n",
    "rolling_valid = series_valid.rolling(window=100)\n",
    "rolling_mean_valid = rolling_valid.mean()"
   ]
  },
  {
   "cell_type": "code",
   "execution_count": null,
   "metadata": {
    "collapsed": false,
    "deletable": true,
    "editable": true
   },
   "outputs": [],
   "source": [
    "plt.figure(figsize=(20,10))\n",
    "plt.plot(rolling_mean_train)\n",
    "plt.plot(rolling_mean_valid)\n",
    "plt.title('Smoothened training and Validation Accuracy')\n",
    "plt.ylabel('accuracy')\n",
    "plt.xlabel('epoch')\n",
    "plt.legend(['train', 'validation'], loc='upper left')\n",
    "plt.show()"
   ]
  },
  {
   "cell_type": "code",
   "execution_count": null,
   "metadata": {
    "collapsed": false,
    "deletable": true,
    "editable": true
   },
   "outputs": [],
   "source": [
    "# Saving histories\n",
    "np.save(TRA_HISTORY_NAME, train_history)\n",
    "np.save(VAL_HISTORY_NAME, valid_history)"
   ]
  },
  {
   "cell_type": "code",
   "execution_count": null,
   "metadata": {
    "collapsed": true,
    "deletable": true,
    "editable": true
   },
   "outputs": [],
   "source": [
    "# saving weights\n",
    "model.save_weights(WEIGHTS_NAME)"
   ]
  },
  {
   "cell_type": "markdown",
   "metadata": {
    "deletable": true,
    "editable": true
   },
   "source": [
    "### Results on Adience"
   ]
  },
  {
   "cell_type": "code",
   "execution_count": null,
   "metadata": {
    "collapsed": false,
    "deletable": true,
    "editable": true
   },
   "outputs": [],
   "source": [
    "model.evaluate_generator(adience_gender_test_gen,BATCH_SIZE*400)"
   ]
  },
  {
   "cell_type": "code",
   "execution_count": null,
   "metadata": {
    "collapsed": false,
    "deletable": true,
    "editable": true
   },
   "outputs": [],
   "source": [
    "raise EX"
   ]
  },
  {
   "cell_type": "markdown",
   "metadata": {
    "deletable": true,
    "editable": true
   },
   "source": [
    "## Finetuning with Adience"
   ]
  },
  {
   "cell_type": "code",
   "execution_count": null,
   "metadata": {
    "collapsed": false,
    "deletable": true,
    "editable": true
   },
   "outputs": [],
   "source": [
    "history = model.fit_generator(adience_gender_train_gen, \n",
    "                              validation_data=adience_gender_valid_gen,\n",
    "                              nb_val_samples=BATCH_SIZE,\n",
    "                              samples_per_epoch=BATCH_SIZE, \n",
    "                              nb_epoch=NUM_EPOCHS2)"
   ]
  },
  {
   "cell_type": "code",
   "execution_count": null,
   "metadata": {
    "collapsed": true,
    "deletable": true,
    "editable": true
   },
   "outputs": [],
   "source": [
    "train_history = history.history['acc']\n",
    "valid_history = history.history['val_acc']"
   ]
  },
  {
   "cell_type": "code",
   "execution_count": null,
   "metadata": {
    "collapsed": false,
    "deletable": true,
    "editable": true
   },
   "outputs": [],
   "source": [
    " # Plotting training accuracy and testing accuracy acros epochs\n",
    "plt.figure(figsize=(20,10))\n",
    "plt.plot(train_history)\n",
    "plt.plot(valid_history)\n",
    "plt.title('Training and Validation Accuracy')\n",
    "plt.ylabel('accuracy')\n",
    "plt.xlabel('epoch')\n",
    "plt.legend(['train', 'test'], loc='upper left')\n",
    "plt.show()\n",
    "plt.savefig(PIC_NAME_FINETUNING)"
   ]
  },
  {
   "cell_type": "code",
   "execution_count": null,
   "metadata": {
    "collapsed": false,
    "deletable": true,
    "editable": true
   },
   "outputs": [],
   "source": [
    "# Tail-rolling average transform\n",
    "series_train = Series(train_history)\n",
    "rolling_train = series_train.rolling(window=100)\n",
    "rolling_mean_train = rolling_train.mean()\n",
    "\n",
    "series_valid = Series(valid_history)\n",
    "rolling_valid = series_valid.rolling(window=100)\n",
    "rolling_mean_valid = rolling_valid.mean()"
   ]
  },
  {
   "cell_type": "code",
   "execution_count": null,
   "metadata": {
    "collapsed": false,
    "deletable": true,
    "editable": true
   },
   "outputs": [],
   "source": [
    "plt.figure(figsize=(20,10))\n",
    "plt.plot(rolling_mean_train)\n",
    "plt.plot(rolling_mean_valid)\n",
    "plt.title('Smoothened training and Validation Accuracy')\n",
    "plt.ylabel('accuracy')\n",
    "plt.xlabel('epoch')\n",
    "plt.legend(['train', 'validation'], loc='upper left')\n",
    "plt.show()"
   ]
  },
  {
   "cell_type": "code",
   "execution_count": null,
   "metadata": {
    "collapsed": false,
    "deletable": true,
    "editable": true
   },
   "outputs": [],
   "source": [
    "# Saving histories\n",
    "np.save(TRA_HISTORY_NAME_FINETUNING, train_history)\n",
    "np.save(VAL_HISTORY_NAME_FINETUNING, valid_history)"
   ]
  },
  {
   "cell_type": "code",
   "execution_count": null,
   "metadata": {
    "collapsed": true,
    "deletable": true,
    "editable": true
   },
   "outputs": [],
   "source": [
    "# saving weights\n",
    "model.save_weights(WEIGHTS_NAME_FINETUNING)"
   ]
  },
  {
   "cell_type": "code",
   "execution_count": null,
   "metadata": {
    "collapsed": false,
    "deletable": true,
    "editable": true
   },
   "outputs": [],
   "source": [
    "model.evaluate_generator(adience_gender_test_gen,BATCH_SIZE*400)"
   ]
  }
 ],
 "metadata": {
  "kernelspec": {
   "display_name": "Python 2",
   "language": "python",
   "name": "python2"
  },
  "language_info": {
   "codemirror_mode": {
    "name": "ipython",
    "version": 2
   },
   "file_extension": ".py",
   "mimetype": "text/x-python",
   "name": "python",
   "nbconvert_exporter": "python",
   "pygments_lexer": "ipython2",
   "version": "2.7.6"
  }
 },
 "nbformat": 4,
 "nbformat_minor": 2
}
