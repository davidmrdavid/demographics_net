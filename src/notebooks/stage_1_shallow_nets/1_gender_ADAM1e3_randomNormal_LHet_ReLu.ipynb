{
 "cells": [
  {
   "cell_type": "markdown",
   "metadata": {
    "deletable": true,
    "editable": true
   },
   "source": [
    "# Model Evaluation"
   ]
  },
  {
   "cell_type": "markdown",
   "metadata": {
    "deletable": true,
    "editable": true
   },
   "source": [
    "## 1. Setup"
   ]
  },
  {
   "cell_type": "code",
   "execution_count": 1,
   "metadata": {
    "collapsed": false,
    "deletable": true,
    "editable": true
   },
   "outputs": [
    {
     "name": "stderr",
     "output_type": "stream",
     "text": [
      "Using TensorFlow backend.\n"
     ]
    }
   ],
   "source": [
    "# NECESSARY IMPORTS\n",
    "import pandas as pd\n",
    "import numpy  as np\n",
    "\n",
    "from keras.models     import Sequential\n",
    "from keras.layers     import Dense, Dropout, Activation, Flatten, advanced_activations\n",
    "from keras.layers     import Convolution2D, MaxPooling2D\n",
    "from keras.optimizers import SGD, Adam\n",
    "\n",
    "from keras import initializations\n",
    "from keras.callbacks import ModelCheckpoint\n",
    "import keras.backend     as K\n",
    "import matplotlib.pyplot as plt\n",
    "\n",
    "from pandas                     import Series\n",
    "from scipy.misc                 import imresize\n",
    "from keras.layers.normalization import BatchNormalization\n",
    "from keras.preprocessing.image  import (ImageDataGenerator, \n",
    "                                        array_to_img,\n",
    "                                        img_to_array,\n",
    "                                        load_img)\n",
    "from keras.wrappers.scikit_learn import KerasClassifier\n",
    "from sklearn.metrics import precision_score, recall_score, f1_score, confusion_matrix"
   ]
  },
  {
   "cell_type": "code",
   "execution_count": 2,
   "metadata": {
    "collapsed": false,
    "deletable": true,
    "editable": true
   },
   "outputs": [],
   "source": [
    "%matplotlib inline"
   ]
  },
  {
   "cell_type": "code",
   "execution_count": 3,
   "metadata": {
    "collapsed": false,
    "deletable": true,
    "editable": true
   },
   "outputs": [
    {
     "data": {
      "text/plain": [
       "['__call__',\n",
       " '__class__',\n",
       " '__closure__',\n",
       " '__code__',\n",
       " '__defaults__',\n",
       " '__delattr__',\n",
       " '__dict__',\n",
       " '__doc__',\n",
       " '__format__',\n",
       " '__get__',\n",
       " '__getattribute__',\n",
       " '__globals__',\n",
       " '__hash__',\n",
       " '__init__',\n",
       " '__module__',\n",
       " '__name__',\n",
       " '__new__',\n",
       " '__reduce__',\n",
       " '__reduce_ex__',\n",
       " '__repr__',\n",
       " '__setattr__',\n",
       " '__sizeof__',\n",
       " '__str__',\n",
       " '__subclasshook__',\n",
       " 'func_closure',\n",
       " 'func_code',\n",
       " 'func_defaults',\n",
       " 'func_dict',\n",
       " 'func_doc',\n",
       " 'func_globals',\n",
       " 'func_name']"
      ]
     },
     "execution_count": 3,
     "metadata": {},
     "output_type": "execute_result"
    }
   ],
   "source": [
    "dir(initializations.normal)"
   ]
  },
  {
   "cell_type": "code",
   "execution_count": 4,
   "metadata": {
    "collapsed": true,
    "deletable": true,
    "editable": true
   },
   "outputs": [],
   "source": [
    "# Ensure reproducibility\n",
    "np.random.seed(0)"
   ]
  },
  {
   "cell_type": "code",
   "execution_count": 5,
   "metadata": {
    "collapsed": true,
    "deletable": true,
    "editable": true
   },
   "outputs": [],
   "source": [
    "# Path constants\n",
    "DATA_TEMPLATE     = \"./../../data/\"\n",
    "ADIENCE_META_P    = DATA_TEMPLATE + \"adience/meta\"\n",
    "ADIENCE_RAW_P     = DATA_TEMPLATE + \"adience/keras_format\"\n",
    "ADIENCE_AGE_P     = ADIENCE_RAW_P + \"/age\"\n",
    "ADIENCE_GEN_P     = ADIENCE_RAW_P + \"/gender\"\n",
    "IMG_PATH          = DATA_TEMPLATE + \"wiki/%s\"\n",
    "\n",
    "WIKI_META_P       = DATA_TEMPLATE + \"wiki_meta\"\n",
    "MODEL_TEMPLATE    = \"./models/%s\"\n",
    "WEIGHTS_TEMPLATE  = \"./weights/%s\"\n",
    "GRAPHS_TEMPLATE   = \"./graphs/%s\"\n",
    "HISTORY_TEMPLATE   = \"./histories/%s\""
   ]
  },
  {
   "cell_type": "code",
   "execution_count": 6,
   "metadata": {
    "collapsed": false,
    "deletable": true,
    "editable": true
   },
   "outputs": [],
   "source": [
    "# Independent constants\n",
    "MODEL_NAME = \"1_gender_ADAM1e3_randomNormal_LHet_ReLu\"\n",
    "INITIALIZATION = 'normal'\n",
    "LOSS           = \"categorical_crossentropy\"\n",
    "OPTIMIZER      = Adam(lr=1e-3)\n",
    "BATCH_SIZE     = 32\n",
    "\n",
    "\n",
    "PIC_NAME     = GRAPHS_TEMPLATE % (MODEL_NAME + \".png\")\n",
    "PIC_NAME_FINETUNING = GRAPHS_TEMPLATE % (MODEL_NAME + \"_finetuning_.png\")\n",
    "WEIGHTS_NAME = WEIGHTS_TEMPLATE % (MODEL_NAME + \".h5\")\n",
    "TRA_HISTORY_NAME = HISTORY_TEMPLATE % (MODEL_NAME + \"_train_\"+\".npy\")\n",
    "VAL_HISTORY_NAME = HISTORY_TEMPLATE % (MODEL_NAME + \"_valid_\"+\".npy\")\n",
    "\n",
    "\n",
    "WEIGHTS_NAME_FINETUNING = WEIGHTS_TEMPLATE % (MODEL_NAME + \"_finetuning_.h5\")\n",
    "TRA_HISTORY_NAME_FINETUNING = HISTORY_TEMPLATE % (MODEL_NAME + \"_train_\"+\"_finetuning_.npy\")\n",
    "VAL_HISTORY_NAME_FINETUNING = HISTORY_TEMPLATE % (MODEL_NAME + \"_valid_\"+\"_finetuning_.npy\")\n",
    "\n",
    "IMG_WIDTH  = 227\n",
    "IMG_HEIGHT = 227\n",
    "\n",
    "\n",
    "ADIENCE_FULL = [\"idx\",\"user_id\",\"face_id\",\"original_image\",\"gender\",\"age\",\"img_path\",\"keras_path\"]\n",
    "ADIENCE_HEADER = [\"user_id\",\"face_id\",\"original_image\",\"gender\",\"age\",\"img_path\",\"keras_path\"]\n",
    "WIKI_HEADER    = [\"full_path\",\"age\",\"gender\"]\n",
    "\n",
    "NUM_EPOCHS  = 1500\n",
    "NUM_EPOCHS2 = 500\n",
    "\n",
    "\n",
    "BEST_CHECKPOINT = MODEL_NAME + \".weights.{epoch:02d}-{val_loss:.2f}.hdf5\"\n",
    "BEST_CHECKPOINT_FINE = MODEL_NAME + \"FINETUNE.weights.{epoch:02d}-{val_loss:.2f}.hdf5\""
   ]
  },
  {
   "cell_type": "code",
   "execution_count": 7,
   "metadata": {
    "collapsed": false,
    "deletable": true,
    "editable": true
   },
   "outputs": [],
   "source": [
    "callback1 = ModelCheckpoint(BEST_CHECKPOINT, monitor='val_loss', verbose=0, save_best_only=True, save_weights_only=True, mode='auto', period=10)"
   ]
  },
  {
   "cell_type": "code",
   "execution_count": 8,
   "metadata": {
    "collapsed": true,
    "deletable": true,
    "editable": true
   },
   "outputs": [],
   "source": [
    "callback2 = ModelCheckpoint(BEST_CHECKPOINT_FINE, monitor='val_loss', verbose=0, save_best_only=True, save_weights_only=True, mode='auto', period=10)"
   ]
  },
  {
   "cell_type": "code",
   "execution_count": 9,
   "metadata": {
    "collapsed": false,
    "deletable": true,
    "editable": true
   },
   "outputs": [],
   "source": [
    "# Dependent constants\n",
    "IMG_DIMS = (IMG_WIDTH, IMG_HEIGHT)\n",
    "MODEL_W  = MODEL_NAME + \".h5\"\n",
    "MODEL_P  = MODEL_NAME + \".txt\" "
   ]
  },
  {
   "cell_type": "markdown",
   "metadata": {
    "deletable": true,
    "editable": true
   },
   "source": [
    "## 2. Loading metadata"
   ]
  },
  {
   "cell_type": "markdown",
   "metadata": {
    "deletable": true,
    "editable": true
   },
   "source": [
    "### Adience"
   ]
  },
  {
   "cell_type": "code",
   "execution_count": 10,
   "metadata": {
    "collapsed": false,
    "deletable": true,
    "editable": true
   },
   "outputs": [],
   "source": [
    "gender_train_path = ADIENCE_META_P + \"/gender_train_0.csv\"\n",
    "gender_valid_path = ADIENCE_META_P + \"/gender_valid_0.csv\"\n",
    "gender_train = pd.read_csv(filepath_or_buffer =gender_train_path)\n",
    "gender_valid = pd.read_csv(filepath_or_buffer =gender_valid_path)\n",
    "\n",
    "gender_train = gender_train[ADIENCE_HEADER]\n",
    "gender_valid = gender_valid[ADIENCE_HEADER]"
   ]
  },
  {
   "cell_type": "code",
   "execution_count": 11,
   "metadata": {
    "collapsed": false,
    "deletable": true,
    "editable": true
   },
   "outputs": [],
   "source": [
    "age_train_path = ADIENCE_META_P + \"/age_train_0.csv\"\n",
    "age_valid_path = ADIENCE_META_P + \"/age_valid_0.csv\"\n",
    "age_train = pd.read_csv(filepath_or_buffer =gender_train_path)\n",
    "age_valid = pd.read_csv(filepath_or_buffer =gender_valid_path)\n",
    "\n",
    "age_train = age_train[ADIENCE_HEADER]\n",
    "age_valid = age_valid[ADIENCE_HEADER]"
   ]
  },
  {
   "cell_type": "markdown",
   "metadata": {
    "deletable": true,
    "editable": true
   },
   "source": [
    "### Wiki"
   ]
  },
  {
   "cell_type": "code",
   "execution_count": 12,
   "metadata": {
    "collapsed": false,
    "deletable": true,
    "editable": true
   },
   "outputs": [],
   "source": [
    "w_gender_train_path = WIKI_META_P + \"/gender/train_1.csv\"\n",
    "w_gender_valid_path = WIKI_META_P + \"/gender/valid_1.csv\"\n",
    "\n",
    "w_gender_train = pd.read_csv(filepath_or_buffer =w_gender_train_path)\n",
    "w_gender_valid = pd.read_csv(filepath_or_buffer =w_gender_valid_path)\n",
    "\n",
    "w_gender_train = w_gender_train[WIKI_HEADER]\n",
    "w_gender_valid = w_gender_valid[WIKI_HEADER]"
   ]
  },
  {
   "cell_type": "code",
   "execution_count": 13,
   "metadata": {
    "collapsed": false,
    "deletable": true,
    "editable": true
   },
   "outputs": [],
   "source": [
    "w_age_train_path = WIKI_META_P + \"/gender/train_1.csv\"\n",
    "w_age_valid_path = WIKI_META_P + \"/gender/valid_1.csv\"\n",
    "w_age_train = pd.read_csv(filepath_or_buffer =w_age_train_path)\n",
    "w_age_valid = pd.read_csv(filepath_or_buffer =w_age_valid_path)\n",
    "\n",
    "w_age_train = w_age_train[WIKI_HEADER]\n",
    "w_age_valid = w_age_valid[WIKI_HEADER]"
   ]
  },
  {
   "cell_type": "markdown",
   "metadata": {
    "deletable": true,
    "editable": true
   },
   "source": [
    "### SHALLOW-ONLY TASK: Fix age ranges"
   ]
  },
  {
   "cell_type": "code",
   "execution_count": 14,
   "metadata": {
    "collapsed": false,
    "deletable": true,
    "editable": true
   },
   "outputs": [],
   "source": [
    "def fix_age_ranges(age):\n",
    "    if age < 4:\n",
    "        return \"(0, 2)\"\n",
    "    if age < 8:\n",
    "        return \"(4, 6)\"\n",
    "    if age < 15:\n",
    "        return \"(8, 13)\"\n",
    "    if age < 25:\n",
    "        return \"(15, 20)\"\n",
    "    if age < 38:\n",
    "        return \"(25, 32)\"\n",
    "    if age < 48:\n",
    "        return \"(38, 43)\"\n",
    "    if age < 60:\n",
    "        return \"(48, 53)\"\n",
    "    return \"(60-100)\"\n",
    "\n",
    "w_age_train[\"age\"]    = w_age_train[\"age\"].apply(lambda x: fix_age_ranges(x))\n",
    "w_age_valid[\"age\"]    = w_age_valid[\"age\"].apply(lambda x: fix_age_ranges(x))\n",
    "w_gender_train[\"age\"] = w_gender_train[\"age\"].apply(lambda x: fix_age_ranges(x))\n",
    "w_gender_valid[\"age\"] = w_gender_valid[\"age\"].apply(lambda x: fix_age_ranges(x))"
   ]
  },
  {
   "cell_type": "markdown",
   "metadata": {
    "deletable": true,
    "editable": true
   },
   "source": [
    "## 3. Data pipeline"
   ]
  },
  {
   "cell_type": "markdown",
   "metadata": {
    "deletable": true,
    "editable": true
   },
   "source": [
    "### 3.1 Adience"
   ]
  },
  {
   "cell_type": "code",
   "execution_count": 15,
   "metadata": {
    "collapsed": false,
    "deletable": true,
    "editable": true
   },
   "outputs": [],
   "source": [
    "adience_train_aug = ImageDataGenerator(\n",
    "        rotation_range=40,\n",
    "        width_shift_range=0.2,\n",
    "        height_shift_range=0.2,\n",
    "        shear_range=0.2,\n",
    "        zoom_range=0.2,\n",
    "        rescale=1./255,\n",
    "        horizontal_flip=True,\n",
    "        fill_mode='nearest')"
   ]
  },
  {
   "cell_type": "code",
   "execution_count": 16,
   "metadata": {
    "collapsed": true,
    "deletable": true,
    "editable": true
   },
   "outputs": [],
   "source": [
    "adience_valid_aug = ImageDataGenerator(rescale=1./255)"
   ]
  },
  {
   "cell_type": "markdown",
   "metadata": {
    "deletable": true,
    "editable": true
   },
   "source": [
    "### Train"
   ]
  },
  {
   "cell_type": "code",
   "execution_count": 17,
   "metadata": {
    "collapsed": false,
    "deletable": true,
    "editable": true
   },
   "outputs": [
    {
     "name": "stdout",
     "output_type": "stream",
     "text": [
      "Found 10505 images belonging to 2 classes.\n"
     ]
    }
   ],
   "source": [
    "ADIENCE_GENDER_TRAIN_P = ADIENCE_GEN_P + \"/train/1\"\n",
    "adience_gender_train_gen = adience_train_aug.flow_from_directory(\n",
    "    ADIENCE_GENDER_TRAIN_P,\n",
    "    target_size=IMG_DIMS,\n",
    "    batch_size=BATCH_SIZE,\n",
    "    class_mode=\"categorical\")"
   ]
  },
  {
   "cell_type": "code",
   "execution_count": 18,
   "metadata": {
    "collapsed": false,
    "deletable": true,
    "editable": true
   },
   "outputs": [
    {
     "name": "stdout",
     "output_type": "stream",
     "text": [
      "Found 10505 images belonging to 8 classes.\n"
     ]
    }
   ],
   "source": [
    "ADIENCE_AGE_TRAIN_P = ADIENCE_AGE_P + \"/train/1\"\n",
    "adience_age_train_gen = adience_train_aug.flow_from_directory(\n",
    "    ADIENCE_AGE_TRAIN_P,\n",
    "    target_size=IMG_DIMS,\n",
    "    batch_size=BATCH_SIZE,\n",
    "    class_mode=\"categorical\")"
   ]
  },
  {
   "cell_type": "markdown",
   "metadata": {
    "deletable": true,
    "editable": true
   },
   "source": [
    "### Validation"
   ]
  },
  {
   "cell_type": "code",
   "execution_count": 19,
   "metadata": {
    "collapsed": false,
    "deletable": true,
    "editable": true
   },
   "outputs": [
    {
     "name": "stdout",
     "output_type": "stream",
     "text": [
      "Found 3502 images belonging to 2 classes.\n"
     ]
    }
   ],
   "source": [
    "ADIENCE_GENDER_VALID_P = ADIENCE_GEN_P + \"/valid/1\"\n",
    "adience_gender_valid_gen = adience_valid_aug.flow_from_directory(\n",
    "    ADIENCE_GENDER_VALID_P,\n",
    "    target_size=IMG_DIMS,\n",
    "    batch_size=BATCH_SIZE,\n",
    "    class_mode=\"categorical\")"
   ]
  },
  {
   "cell_type": "code",
   "execution_count": 20,
   "metadata": {
    "collapsed": false,
    "deletable": true,
    "editable": true
   },
   "outputs": [
    {
     "name": "stdout",
     "output_type": "stream",
     "text": [
      "Found 3502 images belonging to 8 classes.\n"
     ]
    }
   ],
   "source": [
    "ADIENCE_AGE_VALID_P = ADIENCE_AGE_P + \"/valid/1\"\n",
    "adience_age_valid_gen = adience_valid_aug.flow_from_directory(\n",
    "    ADIENCE_AGE_VALID_P,\n",
    "    target_size=IMG_DIMS,\n",
    "    batch_size=BATCH_SIZE,\n",
    "    class_mode=\"categorical\")"
   ]
  },
  {
   "cell_type": "markdown",
   "metadata": {
    "deletable": true,
    "editable": true
   },
   "source": [
    "### Test"
   ]
  },
  {
   "cell_type": "code",
   "execution_count": 21,
   "metadata": {
    "collapsed": false,
    "deletable": true,
    "editable": true
   },
   "outputs": [
    {
     "name": "stdout",
     "output_type": "stream",
     "text": [
      "Found 3445 images belonging to 2 classes.\n"
     ]
    }
   ],
   "source": [
    "ADIENCE_GENDER_TEST_P = ADIENCE_GEN_P + \"/test/\"\n",
    "adience_gender_test_gen = adience_valid_aug.flow_from_directory(\n",
    "    ADIENCE_GENDER_TEST_P,\n",
    "    target_size=IMG_DIMS,\n",
    "    batch_size=BATCH_SIZE,\n",
    "    class_mode=\"categorical\")"
   ]
  },
  {
   "cell_type": "code",
   "execution_count": 22,
   "metadata": {
    "collapsed": false,
    "deletable": true,
    "editable": true
   },
   "outputs": [
    {
     "name": "stdout",
     "output_type": "stream",
     "text": [
      "Found 3445 images belonging to 8 classes.\n"
     ]
    }
   ],
   "source": [
    "ADIENCE_AGE_TEST_P = ADIENCE_AGE_P + \"/test/\"\n",
    "adience_age_test_gen = adience_valid_aug.flow_from_directory(\n",
    "    ADIENCE_AGE_TEST_P,\n",
    "    target_size=IMG_DIMS,\n",
    "    batch_size=BATCH_SIZE,\n",
    "    class_mode=\"categorical\")"
   ]
  },
  {
   "cell_type": "markdown",
   "metadata": {
    "deletable": true,
    "editable": true
   },
   "source": [
    "### 3.2 Wiki"
   ]
  },
  {
   "cell_type": "code",
   "execution_count": 23,
   "metadata": {
    "collapsed": false,
    "deletable": true,
    "editable": true
   },
   "outputs": [],
   "source": [
    "true_path = lambda x: IMG_PATH % x\n",
    "w_age_train[\"full_path\"]    = w_age_train[\"full_path\"].apply(lambda x: true_path(x))\n",
    "w_gender_train[\"full_path\"] = w_gender_train[\"full_path\"].apply(lambda x: true_path(x))\n",
    "w_age_valid[\"full_path\"]    = w_age_valid[\"full_path\"].apply(lambda x: true_path(x))\n",
    "w_gender_valid[\"full_path\"] = w_gender_valid[\"full_path\"].apply(lambda x: true_path(x))"
   ]
  },
  {
   "cell_type": "code",
   "execution_count": 24,
   "metadata": {
    "collapsed": true,
    "deletable": true,
    "editable": true
   },
   "outputs": [],
   "source": [
    "def get_image(x):\n",
    "    try:\n",
    "        val = img_to_array(imresize(load_img(x),IMG_DIMS))\n",
    "    except:\n",
    "        val = \"ERR\"\n",
    "    return val"
   ]
  },
  {
   "cell_type": "code",
   "execution_count": 25,
   "metadata": {
    "collapsed": false,
    "deletable": true,
    "editable": true
   },
   "outputs": [],
   "source": [
    "# Data generator\n",
    "def generate_test(df, batch_size, target_feature):\n",
    "    start, end = 0, batch_size\n",
    "    while True:\n",
    "        while end < len(dfs.shape[0]):\n",
    "            ages_h = list(pd.get_dummies(data[\"age\"]).columns.values)\n",
    "            ages   = pd.get_dummies(data[\"age\"])\n",
    "            data[ages_h] = ages\n",
    "\n",
    "            sample = data[start:end]\n",
    "            start += batch_size\n",
    "            end   += batch_size\n",
    "\n",
    "            X         = pd.DataFrame(sample[\"full_path\"].apply(lambda x:get_image(x)))\n",
    "            good_rows = X[\"full_path\"] != \"ERR\"\n",
    "            X         = X[good_rows]\n",
    "            X.reset_index(inplace=True)\n",
    "            X = X[\"full_path\"].apply(lambda x: x.reshape((1,)+ x.shape))\n",
    "            X = np.vstack(X)\n",
    "            X /= 255\n",
    "\n",
    "            #X = model.predict(X, X.shape[0])\n",
    "\n",
    "            Y = sample[good_rows]\n",
    "            if target_feature == \"age\":\n",
    "                Y = Y[ages_h].as_matrix()\n",
    "            else:\n",
    "                Y = pd.get_dummies(Y[\"gender\"]).as_matrix()\n",
    "            yield (X,Y)"
   ]
  },
  {
   "cell_type": "code",
   "execution_count": 26,
   "metadata": {
    "collapsed": false,
    "deletable": true,
    "editable": true
   },
   "outputs": [],
   "source": [
    "# Data generator\n",
    "def generate_data(df, batch_size, target_feature):\n",
    "    start, end = 0, batch_size\n",
    "    while True:\n",
    "        data   = df.sample(frac=1).reset_index(drop=True)\n",
    "        ages_h = list(pd.get_dummies(data[\"age\"]).columns.values)\n",
    "        ages   = pd.get_dummies(data[\"age\"])\n",
    "        data[ages_h] = ages\n",
    "        \n",
    "        sample = data[start:end]\n",
    "        \n",
    "        X         = pd.DataFrame(sample[\"full_path\"].apply(lambda x:get_image(x)))\n",
    "        good_rows = X[\"full_path\"] != \"ERR\"\n",
    "        X         = X[good_rows]\n",
    "        X.reset_index(inplace=True)\n",
    "        X = X[\"full_path\"].apply(lambda x: x.reshape((1,)+ x.shape))\n",
    "        X = np.vstack(X)\n",
    "        X /= 255\n",
    "        #X = model.predict(X, X.shape[0])\n",
    "        \n",
    "        Y = sample[good_rows]\n",
    "        if target_feature == \"age\":\n",
    "            Y = Y[ages_h].as_matrix()\n",
    "        else:\n",
    "            Y = pd.get_dummies(Y[\"gender\"]).as_matrix()\n",
    "        yield (X,Y)"
   ]
  },
  {
   "cell_type": "code",
   "execution_count": 27,
   "metadata": {
    "collapsed": false,
    "deletable": true,
    "editable": true
   },
   "outputs": [],
   "source": [
    "w_age_train_gen = generate_data(w_age_train, BATCH_SIZE, \"age\")\n",
    "w_age_valid_gen = generate_data(w_age_valid, BATCH_SIZE, \"age\")\n",
    "w_gender_train_gen = generate_data(w_gender_train, BATCH_SIZE, \"gender\")\n",
    "w_gender_valid_gen = generate_data(w_gender_valid, BATCH_SIZE, \"gender\")"
   ]
  },
  {
   "cell_type": "code",
   "execution_count": 28,
   "metadata": {
    "collapsed": false,
    "deletable": true,
    "editable": true
   },
   "outputs": [],
   "source": [
    "from keras.engine.topology import Layer\n",
    "class LRN2D(Layer):\n",
    "    \"\"\"\n",
    "    This code is adapted from pylearn2.\n",
    "    License at: https://github.com/lisa-lab/pylearn2/blob/master/LICENSE.txt\n",
    "    \"\"\"\n",
    "\n",
    "    def __init__(self, alpha=1e-4, k=2, beta=0.75, n=5):\n",
    "        if n % 2 == 0:\n",
    "            raise NotImplementedError(\"LRN2D only works with odd n. n provided: \" + str(n))\n",
    "        super(LRN2D, self).__init__()\n",
    "        self.alpha = alpha\n",
    "        self.k = k\n",
    "        self.beta = beta\n",
    "        self.n = n\n",
    "\n",
    "    def get_output(self, train):\n",
    "        X = self.get_input(train)\n",
    "        b, ch, r, c = X.shape\n",
    "        half_n = self.n // 2\n",
    "        input_sqr = T.sqr(X)\n",
    "        extra_channels = T.alloc(0., b, ch + 2*half_n, r, c)\n",
    "        input_sqr = T.set_subtensor(extra_channels[:, half_n:half_n+ch, :, :], input_sqr)\n",
    "        scale = self.k\n",
    "        for i in range(self.n):\n",
    "            scale += self.alpha * input_sqr[:, i:i+ch, :, :]\n",
    "        scale = scale ** self.beta\n",
    "        return X / scale\n",
    "\n",
    "    def get_config(self):\n",
    "        return {\"name\": self.__class__.__name__,\n",
    "                \"alpha\": self.alpha,\n",
    "                \"k\": self.k,\n",
    "                \"beta\": self.beta,\n",
    "\"n\": self.n}"
   ]
  },
  {
   "cell_type": "markdown",
   "metadata": {
    "deletable": true,
    "editable": true
   },
   "source": [
    "## 4. Building the model"
   ]
  },
  {
   "cell_type": "code",
   "execution_count": 29,
   "metadata": {
    "collapsed": false,
    "deletable": true,
    "editable": true
   },
   "outputs": [],
   "source": [
    "# Building a vainilla CNN\n",
    "model = Sequential()\n",
    "model.add(Convolution2D(96, 7, 7, input_shape=(IMG_WIDTH,IMG_HEIGHT,3), init=INITIALIZATION))\n",
    "model.add(Activation('relu'))\n",
    "model.add(MaxPooling2D(pool_size=(3, 3),strides=(2,2)))\n",
    "model.add(LRN2D())\n",
    "\n",
    "model.add(Convolution2D(256, 5, 5, init=INITIALIZATION))\n",
    "model.add(Activation('relu'))\n",
    "model.add(Convolution2D(64, 3, 3, init=INITIALIZATION))\n",
    "model.add(Activation('relu'))\n",
    "model.add(MaxPooling2D(pool_size=(2, 2)))\n",
    "model.add(LRN2D())\n",
    "\n",
    "model.add(Convolution2D(384, 3, 3, init=INITIALIZATION))\n",
    "model.add(Activation('relu'))\n",
    "model.add(MaxPooling2D(pool_size=(3, 3)))\n",
    "\n",
    "model.add(Flatten())\n",
    "model.add(Dense(output_dim=512,input_dim=512, init=INITIALIZATION))\n",
    "model.add(Dropout(0.5))\n",
    "model.add(Activation('relu'))\n",
    "model.add(Dense(output_dim=512,input_dim=512, init=INITIALIZATION))\n",
    "model.add(Dropout(0.5))\n",
    "model.add(Activation('relu'))\n",
    "model.add(Dense(output_dim=2))\n",
    "model.add(Activation(\"softmax\"))\n"
   ]
  },
  {
   "cell_type": "code",
   "execution_count": 30,
   "metadata": {
    "collapsed": false,
    "deletable": true,
    "editable": true
   },
   "outputs": [],
   "source": [
    "model.compile(loss=LOSS, optimizer=OPTIMIZER, metrics=['accuracy', 'recall', 'precision','f1score'])"
   ]
  },
  {
   "cell_type": "markdown",
   "metadata": {
    "deletable": true,
    "editable": true
   },
   "source": [
    "## 6. Training the model"
   ]
  },
  {
   "cell_type": "code",
   "execution_count": 31,
   "metadata": {
    "collapsed": false,
    "deletable": true,
    "editable": true
   },
   "outputs": [
    {
     "name": "stdout",
     "output_type": "stream",
     "text": [
      "Epoch 1/1500\n"
     ]
    },
    {
     "name": "stderr",
     "output_type": "stream",
     "text": [
      "/usr/local/lib/python2.7/dist-packages/pandas/core/ops.py:739: FutureWarning: elementwise comparison failed; returning scalar instead, but in the future will perform elementwise comparison\n",
      "  result = lib.scalar_compare(x, y, op)\n"
     ]
    },
    {
     "name": "stdout",
     "output_type": "stream",
     "text": [
      "32/32 [==============================] - 9s - loss: 5.3957 - acc: 0.4062 - recall: 0.4062 - precision: 0.4062 - fmeasure: 0.4062 - val_loss: 3.0221 - val_acc: 0.8125 - val_recall: 0.8125 - val_precision: 0.8125 - val_fmeasure: 0.8125\n",
      "Epoch 2/1500\n",
      "32/32 [==============================] - 1s - loss: 2.6591 - acc: 0.8125 - recall: 0.8125 - precision: 0.8125 - fmeasure: 0.8125 - val_loss: 2.5185 - val_acc: 0.8438 - val_recall: 0.8438 - val_precision: 0.8438 - val_fmeasure: 0.8437\n",
      "Epoch 3/1500\n",
      "32/32 [==============================] - 1s - loss: 7.0517 - acc: 0.5625 - recall: 0.5625 - precision: 0.5625 - fmeasure: 0.5625 - val_loss: 1.5111 - val_acc: 0.9062 - val_recall: 0.9062 - val_precision: 0.9062 - val_fmeasure: 0.9062\n",
      "Epoch 4/1500\n",
      "32/32 [==============================] - 1s - loss: 4.0295 - acc: 0.7500 - recall: 0.7500 - precision: 0.7500 - fmeasure: 0.7500 - val_loss: 5.5406 - val_acc: 0.6562 - val_recall: 0.6562 - val_precision: 0.6562 - val_fmeasure: 0.6562\n",
      "Epoch 5/1500\n",
      "32/32 [==============================] - 1s - loss: 3.0221 - acc: 0.8125 - recall: 0.8125 - precision: 0.8125 - fmeasure: 0.8125 - val_loss: 3.0221 - val_acc: 0.8125 - val_recall: 0.8125 - val_precision: 0.8125 - val_fmeasure: 0.8125\n",
      "Epoch 6/1500\n",
      "32/32 [==============================] - 1s - loss: 5.0369 - acc: 0.6875 - recall: 0.6875 - precision: 0.6875 - fmeasure: 0.6875 - val_loss: 2.0148 - val_acc: 0.8750 - val_recall: 0.8750 - val_precision: 0.8750 - val_fmeasure: 0.8750\n",
      "Epoch 7/1500\n",
      "32/32 [==============================] - 1s - loss: 1.5113 - acc: 0.9062 - recall: 0.9062 - precision: 0.9062 - fmeasure: 0.9062 - val_loss: 3.0221 - val_acc: 0.8125 - val_recall: 0.8125 - val_precision: 0.8125 - val_fmeasure: 0.8125\n",
      "Epoch 8/1500\n",
      "32/32 [==============================] - 1s - loss: 2.5185 - acc: 0.8438 - recall: 0.8438 - precision: 0.8438 - fmeasure: 0.8437 - val_loss: 3.5258 - val_acc: 0.7812 - val_recall: 0.7812 - val_precision: 0.7812 - val_fmeasure: 0.7812\n",
      "Epoch 9/1500\n",
      "32/32 [==============================] - 1s - loss: 4.5332 - acc: 0.7188 - recall: 0.7188 - precision: 0.7188 - fmeasure: 0.7187 - val_loss: 2.5185 - val_acc: 0.8438 - val_recall: 0.8438 - val_precision: 0.8438 - val_fmeasure: 0.8437\n",
      "Epoch 10/1500\n",
      "32/32 [==============================] - 1s - loss: 3.5258 - acc: 0.7812 - recall: 0.7812 - precision: 0.7812 - fmeasure: 0.7812 - val_loss: 1.0074 - val_acc: 0.9375 - val_recall: 0.9375 - val_precision: 0.9375 - val_fmeasure: 0.9375\n",
      "Epoch 11/1500\n",
      "32/32 [==============================] - 1s - loss: 3.5258 - acc: 0.7812 - recall: 0.7812 - precision: 0.7812 - fmeasure: 0.7812 - val_loss: 3.5258 - val_acc: 0.7812 - val_recall: 0.7812 - val_precision: 0.7812 - val_fmeasure: 0.7812\n",
      "Epoch 12/1500\n",
      "32/32 [==============================] - 1s - loss: 4.0295 - acc: 0.7500 - recall: 0.7500 - precision: 0.7500 - fmeasure: 0.7500 - val_loss: 4.5332 - val_acc: 0.7188 - val_recall: 0.7188 - val_precision: 0.7188 - val_fmeasure: 0.7187\n",
      "Epoch 13/1500\n",
      "32/32 [==============================] - 1s - loss: 4.0295 - acc: 0.7500 - recall: 0.7500 - precision: 0.7500 - fmeasure: 0.7500 - val_loss: 5.0369 - val_acc: 0.6875 - val_recall: 0.6875 - val_precision: 0.6875 - val_fmeasure: 0.6875\n",
      "Epoch 14/1500\n",
      "32/32 [==============================] - 1s - loss: 3.5258 - acc: 0.7812 - recall: 0.7812 - precision: 0.7812 - fmeasure: 0.7812 - val_loss: 1.5111 - val_acc: 0.9062 - val_recall: 0.9062 - val_precision: 0.9062 - val_fmeasure: 0.9062\n",
      "Epoch 15/1500\n",
      "32/32 [==============================] - 1s - loss: 3.5258 - acc: 0.7812 - recall: 0.7812 - precision: 0.7812 - fmeasure: 0.7812 - val_loss: 3.5258 - val_acc: 0.7812 - val_recall: 0.7812 - val_precision: 0.7812 - val_fmeasure: 0.7812\n",
      "Epoch 16/1500\n",
      "32/32 [==============================] - 1s - loss: 3.5258 - acc: 0.7812 - recall: 0.7812 - precision: 0.7812 - fmeasure: 0.7812 - val_loss: 3.5258 - val_acc: 0.7812 - val_recall: 0.7812 - val_precision: 0.7812 - val_fmeasure: 0.7812\n",
      "Epoch 17/1500\n",
      "32/32 [==============================] - 1s - loss: 3.0221 - acc: 0.8125 - recall: 0.8125 - precision: 0.8125 - fmeasure: 0.8125 - val_loss: 2.5185 - val_acc: 0.8438 - val_recall: 0.8438 - val_precision: 0.8438 - val_fmeasure: 0.8437\n",
      "Epoch 18/1500\n",
      "32/32 [==============================] - 1s - loss: 2.5185 - acc: 0.8438 - recall: 0.8438 - precision: 0.8438 - fmeasure: 0.8437 - val_loss: 5.5406 - val_acc: 0.6562 - val_recall: 0.6562 - val_precision: 0.6562 - val_fmeasure: 0.6562\n",
      "Epoch 19/1500\n",
      "32/32 [==============================] - 1s - loss: 3.5258 - acc: 0.7812 - recall: 0.7812 - precision: 0.7812 - fmeasure: 0.7812 - val_loss: 4.5332 - val_acc: 0.7188 - val_recall: 0.7188 - val_precision: 0.7188 - val_fmeasure: 0.7187\n",
      "Epoch 20/1500\n",
      "32/32 [==============================] - 1s - loss: 2.0148 - acc: 0.8750 - recall: 0.8750 - precision: 0.8750 - fmeasure: 0.8750 - val_loss: 3.0221 - val_acc: 0.8125 - val_recall: 0.8125 - val_precision: 0.8125 - val_fmeasure: 0.8125\n",
      "Epoch 21/1500\n",
      "32/32 [==============================] - 1s - loss: 4.0295 - acc: 0.7500 - recall: 0.7500 - precision: 0.7500 - fmeasure: 0.7500 - val_loss: 1.5111 - val_acc: 0.9062 - val_recall: 0.9062 - val_precision: 0.9062 - val_fmeasure: 0.9062\n",
      "Epoch 22/1500\n",
      "32/32 [==============================] - 1s - loss: 4.0295 - acc: 0.7500 - recall: 0.7500 - precision: 0.7500 - fmeasure: 0.7500 - val_loss: 3.5258 - val_acc: 0.7812 - val_recall: 0.7812 - val_precision: 0.7812 - val_fmeasure: 0.7812\n",
      "Epoch 23/1500\n",
      "32/32 [==============================] - 1s - loss: 4.0295 - acc: 0.7500 - recall: 0.7500 - precision: 0.7500 - fmeasure: 0.7500 - val_loss: 3.0221 - val_acc: 0.8125 - val_recall: 0.8125 - val_precision: 0.8125 - val_fmeasure: 0.8125\n",
      "Epoch 24/1500\n",
      "32/32 [==============================] - 1s - loss: 7.5554 - acc: 0.5312 - recall: 0.5312 - precision: 0.5312 - fmeasure: 0.5312 - val_loss: 4.5332 - val_acc: 0.7188 - val_recall: 0.7188 - val_precision: 0.7188 - val_fmeasure: 0.7187\n",
      "Epoch 25/1500\n",
      "32/32 [==============================] - 1s - loss: 3.5258 - acc: 0.7812 - recall: 0.7812 - precision: 0.7812 - fmeasure: 0.7812 - val_loss: 3.5258 - val_acc: 0.7812 - val_recall: 0.7812 - val_precision: 0.7812 - val_fmeasure: 0.7812\n",
      "Epoch 26/1500\n",
      "32/32 [==============================] - 1s - loss: 4.5332 - acc: 0.7188 - recall: 0.7188 - precision: 0.7188 - fmeasure: 0.7187 - val_loss: 3.0221 - val_acc: 0.8125 - val_recall: 0.8125 - val_precision: 0.8125 - val_fmeasure: 0.8125\n",
      "Epoch 27/1500\n",
      "32/32 [==============================] - 1s - loss: 3.0221 - acc: 0.8125 - recall: 0.8125 - precision: 0.8125 - fmeasure: 0.8125 - val_loss: 3.5258 - val_acc: 0.7812 - val_recall: 0.7812 - val_precision: 0.7812 - val_fmeasure: 0.7812\n",
      "Epoch 28/1500\n",
      "32/32 [==============================] - 1s - loss: 4.5332 - acc: 0.7188 - recall: 0.7188 - precision: 0.7188 - fmeasure: 0.7187 - val_loss: 3.5258 - val_acc: 0.7812 - val_recall: 0.7812 - val_precision: 0.7812 - val_fmeasure: 0.7812\n",
      "Epoch 29/1500\n",
      "32/32 [==============================] - 1s - loss: 3.0221 - acc: 0.8125 - recall: 0.8125 - precision: 0.8125 - fmeasure: 0.8125 - val_loss: 5.0369 - val_acc: 0.6875 - val_recall: 0.6875 - val_precision: 0.6875 - val_fmeasure: 0.6875\n",
      "Epoch 30/1500\n",
      "32/32 [==============================] - 1s - loss: 3.0221 - acc: 0.8125 - recall: 0.8125 - precision: 0.8125 - fmeasure: 0.8125 - val_loss: 2.5185 - val_acc: 0.8438 - val_recall: 0.8438 - val_precision: 0.8438 - val_fmeasure: 0.8437\n",
      "Epoch 31/1500\n",
      "32/32 [==============================] - 1s - loss: 3.0221 - acc: 0.8125 - recall: 0.8125 - precision: 0.8125 - fmeasure: 0.8125 - val_loss: 2.5185 - val_acc: 0.8438 - val_recall: 0.8438 - val_precision: 0.8438 - val_fmeasure: 0.8437\n",
      "Epoch 32/1500\n",
      "32/32 [==============================] - 1s - loss: 4.0295 - acc: 0.7500 - recall: 0.7500 - precision: 0.7500 - fmeasure: 0.7500 - val_loss: 3.0221 - val_acc: 0.8125 - val_recall: 0.8125 - val_precision: 0.8125 - val_fmeasure: 0.8125\n",
      "Epoch 33/1500\n",
      "32/32 [==============================] - 1s - loss: 5.0369 - acc: 0.6875 - recall: 0.6875 - precision: 0.6875 - fmeasure: 0.6875 - val_loss: 5.0369 - val_acc: 0.6875 - val_recall: 0.6875 - val_precision: 0.6875 - val_fmeasure: 0.6875\n",
      "Epoch 34/1500\n",
      "32/32 [==============================] - 1s - loss: 3.0221 - acc: 0.8125 - recall: 0.8125 - precision: 0.8125 - fmeasure: 0.8125 - val_loss: 3.5258 - val_acc: 0.7812 - val_recall: 0.7812 - val_precision: 0.7812 - val_fmeasure: 0.7812\n",
      "Epoch 35/1500\n",
      "32/32 [==============================] - 1s - loss: 3.0221 - acc: 0.8125 - recall: 0.8125 - precision: 0.8125 - fmeasure: 0.8125 - val_loss: 2.0148 - val_acc: 0.8750 - val_recall: 0.8750 - val_precision: 0.8750 - val_fmeasure: 0.8750\n",
      "Epoch 36/1500\n",
      "32/32 [==============================] - 1s - loss: 0.5037 - acc: 0.9688 - recall: 0.9688 - precision: 0.9688 - fmeasure: 0.9687 - val_loss: 2.0148 - val_acc: 0.8750 - val_recall: 0.8750 - val_precision: 0.8750 - val_fmeasure: 0.8750\n",
      "Epoch 37/1500\n",
      "32/32 [==============================] - 1s - loss: 4.0295 - acc: 0.7500 - recall: 0.7500 - precision: 0.7500 - fmeasure: 0.7500 - val_loss: 2.5185 - val_acc: 0.8438 - val_recall: 0.8438 - val_precision: 0.8438 - val_fmeasure: 0.8437\n",
      "Epoch 38/1500\n",
      "32/32 [==============================] - 1s - loss: 3.5258 - acc: 0.7812 - recall: 0.7812 - precision: 0.7812 - fmeasure: 0.7812 - val_loss: 4.5332 - val_acc: 0.7188 - val_recall: 0.7188 - val_precision: 0.7188 - val_fmeasure: 0.7187\n",
      "Epoch 39/1500\n",
      "32/32 [==============================] - 1s - loss: 3.0221 - acc: 0.8125 - recall: 0.8125 - precision: 0.8125 - fmeasure: 0.8125 - val_loss: 4.5332 - val_acc: 0.7188 - val_recall: 0.7188 - val_precision: 0.7188 - val_fmeasure: 0.7187\n",
      "Epoch 40/1500\n",
      "32/32 [==============================] - 1s - loss: 1.5111 - acc: 0.9062 - recall: 0.9062 - precision: 0.9062 - fmeasure: 0.9062 - val_loss: 3.0221 - val_acc: 0.8125 - val_recall: 0.8125 - val_precision: 0.8125 - val_fmeasure: 0.8125\n",
      "Epoch 41/1500\n",
      "32/32 [==============================] - 1s - loss: 3.5258 - acc: 0.7812 - recall: 0.7812 - precision: 0.7812 - fmeasure: 0.7812 - val_loss: 1.0074 - val_acc: 0.9375 - val_recall: 0.9375 - val_precision: 0.9375 - val_fmeasure: 0.9375\n",
      "Epoch 42/1500\n",
      "32/32 [==============================] - 1s - loss: 2.0148 - acc: 0.8750 - recall: 0.8750 - precision: 0.8750 - fmeasure: 0.8750 - val_loss: 3.5258 - val_acc: 0.7812 - val_recall: 0.7812 - val_precision: 0.7812 - val_fmeasure: 0.7812\n",
      "Epoch 43/1500\n",
      "32/32 [==============================] - 1s - loss: 3.0221 - acc: 0.8125 - recall: 0.8125 - precision: 0.8125 - fmeasure: 0.8125 - val_loss: 3.5258 - val_acc: 0.7812 - val_recall: 0.7812 - val_precision: 0.7812 - val_fmeasure: 0.7812\n",
      "Epoch 44/1500\n",
      "32/32 [==============================] - 1s - loss: 2.0148 - acc: 0.8750 - recall: 0.8750 - precision: 0.8750 - fmeasure: 0.8750 - val_loss: 4.0295 - val_acc: 0.7500 - val_recall: 0.7500 - val_precision: 0.7500 - val_fmeasure: 0.7500\n",
      "Epoch 45/1500\n",
      "32/32 [==============================] - 1s - loss: 3.5258 - acc: 0.7812 - recall: 0.7812 - precision: 0.7812 - fmeasure: 0.7812 - val_loss: 2.5185 - val_acc: 0.8438 - val_recall: 0.8438 - val_precision: 0.8438 - val_fmeasure: 0.8437\n",
      "Epoch 46/1500\n",
      "32/32 [==============================] - 1s - loss: 2.0148 - acc: 0.8750 - recall: 0.8750 - precision: 0.8750 - fmeasure: 0.8750 - val_loss: 5.0369 - val_acc: 0.6875 - val_recall: 0.6875 - val_precision: 0.6875 - val_fmeasure: 0.6875\n",
      "Epoch 47/1500\n",
      "32/32 [==============================] - 1s - loss: 7.0517 - acc: 0.5625 - recall: 0.5625 - precision: 0.5625 - fmeasure: 0.5625 - val_loss: 2.0148 - val_acc: 0.8750 - val_recall: 0.8750 - val_precision: 0.8750 - val_fmeasure: 0.8750\n",
      "Epoch 48/1500\n",
      "32/32 [==============================] - 1s - loss: 3.0221 - acc: 0.8125 - recall: 0.8125 - precision: 0.8125 - fmeasure: 0.8125 - val_loss: 2.0148 - val_acc: 0.8750 - val_recall: 0.8750 - val_precision: 0.8750 - val_fmeasure: 0.8750\n",
      "Epoch 49/1500\n",
      "32/32 [==============================] - 1s - loss: 4.5332 - acc: 0.7188 - recall: 0.7188 - precision: 0.7188 - fmeasure: 0.7187 - val_loss: 2.5185 - val_acc: 0.8438 - val_recall: 0.8438 - val_precision: 0.8438 - val_fmeasure: 0.8437\n",
      "Epoch 50/1500\n",
      "32/32 [==============================] - 1s - loss: 4.5332 - acc: 0.7188 - recall: 0.7188 - precision: 0.7188 - fmeasure: 0.7187 - val_loss: 4.0295 - val_acc: 0.7500 - val_recall: 0.7500 - val_precision: 0.7500 - val_fmeasure: 0.7500\n",
      "Epoch 51/1500\n",
      "32/32 [==============================] - 1s - loss: 2.5185 - acc: 0.8438 - recall: 0.8438 - precision: 0.8438 - fmeasure: 0.8437 - val_loss: 3.5258 - val_acc: 0.7812 - val_recall: 0.7812 - val_precision: 0.7812 - val_fmeasure: 0.7812\n",
      "Epoch 52/1500\n",
      "32/32 [==============================] - 1s - loss: 2.5185 - acc: 0.8438 - recall: 0.8438 - precision: 0.8438 - fmeasure: 0.8437 - val_loss: 2.5185 - val_acc: 0.8438 - val_recall: 0.8438 - val_precision: 0.8438 - val_fmeasure: 0.8437\n",
      "Epoch 53/1500\n",
      "32/32 [==============================] - 1s - loss: 1.5111 - acc: 0.9062 - recall: 0.9062 - precision: 0.9062 - fmeasure: 0.9062 - val_loss: 3.0221 - val_acc: 0.8125 - val_recall: 0.8125 - val_precision: 0.8125 - val_fmeasure: 0.8125\n",
      "Epoch 54/1500\n",
      "32/32 [==============================] - 1s - loss: 5.0369 - acc: 0.6875 - recall: 0.6875 - precision: 0.6875 - fmeasure: 0.6875 - val_loss: 5.5406 - val_acc: 0.6562 - val_recall: 0.6562 - val_precision: 0.6562 - val_fmeasure: 0.6562\n",
      "Epoch 55/1500\n",
      "32/32 [==============================] - 1s - loss: 4.0295 - acc: 0.7500 - recall: 0.7500 - precision: 0.7500 - fmeasure: 0.7500 - val_loss: 2.5185 - val_acc: 0.8438 - val_recall: 0.8438 - val_precision: 0.8438 - val_fmeasure: 0.8437\n",
      "Epoch 56/1500\n",
      "32/32 [==============================] - 1s - loss: 4.5332 - acc: 0.7188 - recall: 0.7188 - precision: 0.7188 - fmeasure: 0.7187 - val_loss: 3.0221 - val_acc: 0.8125 - val_recall: 0.8125 - val_precision: 0.8125 - val_fmeasure: 0.8125\n",
      "Epoch 57/1500\n",
      "32/32 [==============================] - 1s - loss: 4.0295 - acc: 0.7500 - recall: 0.7500 - precision: 0.7500 - fmeasure: 0.7500 - val_loss: 4.5332 - val_acc: 0.7188 - val_recall: 0.7188 - val_precision: 0.7188 - val_fmeasure: 0.7187\n",
      "Epoch 58/1500\n",
      "32/32 [==============================] - 1s - loss: 3.5258 - acc: 0.7812 - recall: 0.7812 - precision: 0.7812 - fmeasure: 0.7812 - val_loss: 3.0221 - val_acc: 0.8125 - val_recall: 0.8125 - val_precision: 0.8125 - val_fmeasure: 0.8125\n",
      "Epoch 59/1500\n",
      "32/32 [==============================] - 1s - loss: 4.5332 - acc: 0.7188 - recall: 0.7188 - precision: 0.7188 - fmeasure: 0.7187 - val_loss: 2.5185 - val_acc: 0.8438 - val_recall: 0.8438 - val_precision: 0.8438 - val_fmeasure: 0.8437\n",
      "Epoch 60/1500\n",
      "32/32 [==============================] - 1s - loss: 2.5185 - acc: 0.8438 - recall: 0.8438 - precision: 0.8438 - fmeasure: 0.8437 - val_loss: 3.5258 - val_acc: 0.7812 - val_recall: 0.7812 - val_precision: 0.7812 - val_fmeasure: 0.7812\n",
      "Epoch 61/1500\n",
      "32/32 [==============================] - 1s - loss: 4.5332 - acc: 0.7188 - recall: 0.7188 - precision: 0.7188 - fmeasure: 0.7187 - val_loss: 3.5258 - val_acc: 0.7812 - val_recall: 0.7812 - val_precision: 0.7812 - val_fmeasure: 0.7812\n",
      "Epoch 62/1500\n",
      "32/32 [==============================] - 1s - loss: 2.5185 - acc: 0.8438 - recall: 0.8438 - precision: 0.8438 - fmeasure: 0.8437 - val_loss: 6.5480 - val_acc: 0.5938 - val_recall: 0.5938 - val_precision: 0.5938 - val_fmeasure: 0.5937\n",
      "Epoch 63/1500\n",
      "32/32 [==============================] - 1s - loss: 3.0221 - acc: 0.8125 - recall: 0.8125 - precision: 0.8125 - fmeasure: 0.8125 - val_loss: 4.5332 - val_acc: 0.7188 - val_recall: 0.7188 - val_precision: 0.7188 - val_fmeasure: 0.7187\n",
      "Epoch 64/1500\n",
      "32/32 [==============================] - 1s - loss: 1.5111 - acc: 0.9062 - recall: 0.9062 - precision: 0.9062 - fmeasure: 0.9062 - val_loss: 6.5480 - val_acc: 0.5938 - val_recall: 0.5938 - val_precision: 0.5938 - val_fmeasure: 0.5937\n",
      "Epoch 65/1500\n",
      "32/32 [==============================] - 1s - loss: 5.0369 - acc: 0.6875 - recall: 0.6875 - precision: 0.6875 - fmeasure: 0.6875 - val_loss: 1.0074 - val_acc: 0.9375 - val_recall: 0.9375 - val_precision: 0.9375 - val_fmeasure: 0.9375\n",
      "Epoch 66/1500\n",
      "32/32 [==============================] - 1s - loss: 2.5185 - acc: 0.8438 - recall: 0.8438 - precision: 0.8438 - fmeasure: 0.8437 - val_loss: 3.5258 - val_acc: 0.7812 - val_recall: 0.7812 - val_precision: 0.7812 - val_fmeasure: 0.7812\n",
      "Epoch 67/1500\n",
      "32/32 [==============================] - 1s - loss: 3.5258 - acc: 0.7812 - recall: 0.7812 - precision: 0.7812 - fmeasure: 0.7812 - val_loss: 3.0221 - val_acc: 0.8125 - val_recall: 0.8125 - val_precision: 0.8125 - val_fmeasure: 0.8125\n",
      "Epoch 68/1500\n",
      "32/32 [==============================] - 1s - loss: 4.5332 - acc: 0.7188 - recall: 0.7188 - precision: 0.7188 - fmeasure: 0.7187 - val_loss: 3.0221 - val_acc: 0.8125 - val_recall: 0.8125 - val_precision: 0.8125 - val_fmeasure: 0.8125\n",
      "Epoch 69/1500\n",
      "32/32 [==============================] - 1s - loss: 3.5258 - acc: 0.7812 - recall: 0.7812 - precision: 0.7812 - fmeasure: 0.7812 - val_loss: 5.0369 - val_acc: 0.6875 - val_recall: 0.6875 - val_precision: 0.6875 - val_fmeasure: 0.6875\n",
      "Epoch 70/1500\n",
      "32/32 [==============================] - 1s - loss: 3.0221 - acc: 0.8125 - recall: 0.8125 - precision: 0.8125 - fmeasure: 0.8125 - val_loss: 2.5185 - val_acc: 0.8438 - val_recall: 0.8438 - val_precision: 0.8438 - val_fmeasure: 0.8437\n",
      "Epoch 71/1500\n",
      "32/32 [==============================] - 1s - loss: 2.0148 - acc: 0.8750 - recall: 0.8750 - precision: 0.8750 - fmeasure: 0.8750 - val_loss: 4.5332 - val_acc: 0.7188 - val_recall: 0.7188 - val_precision: 0.7188 - val_fmeasure: 0.7187\n",
      "Epoch 72/1500\n",
      "32/32 [==============================] - 1s - loss: 5.0369 - acc: 0.6875 - recall: 0.6875 - precision: 0.6875 - fmeasure: 0.6875 - val_loss: 4.5332 - val_acc: 0.7188 - val_recall: 0.7188 - val_precision: 0.7188 - val_fmeasure: 0.7187\n",
      "Epoch 73/1500\n",
      "32/32 [==============================] - 1s - loss: 4.5332 - acc: 0.7188 - recall: 0.7188 - precision: 0.7188 - fmeasure: 0.7187 - val_loss: 3.0221 - val_acc: 0.8125 - val_recall: 0.8125 - val_precision: 0.8125 - val_fmeasure: 0.8125\n",
      "Epoch 74/1500\n",
      "32/32 [==============================] - 1s - loss: 3.0221 - acc: 0.8125 - recall: 0.8125 - precision: 0.8125 - fmeasure: 0.8125 - val_loss: 2.0148 - val_acc: 0.8750 - val_recall: 0.8750 - val_precision: 0.8750 - val_fmeasure: 0.8750\n",
      "Epoch 75/1500\n",
      "32/32 [==============================] - 1s - loss: 4.5332 - acc: 0.7188 - recall: 0.7188 - precision: 0.7188 - fmeasure: 0.7187 - val_loss: 6.0443 - val_acc: 0.6250 - val_recall: 0.6250 - val_precision: 0.6250 - val_fmeasure: 0.6250\n",
      "Epoch 76/1500\n",
      "32/32 [==============================] - 1s - loss: 4.5332 - acc: 0.7188 - recall: 0.7188 - precision: 0.7188 - fmeasure: 0.7187 - val_loss: 7.0517 - val_acc: 0.5625 - val_recall: 0.5625 - val_precision: 0.5625 - val_fmeasure: 0.5625\n",
      "Epoch 77/1500\n",
      "32/32 [==============================] - 1s - loss: 1.5111 - acc: 0.9062 - recall: 0.9062 - precision: 0.9062 - fmeasure: 0.9062 - val_loss: 3.5258 - val_acc: 0.7812 - val_recall: 0.7812 - val_precision: 0.7812 - val_fmeasure: 0.7812\n",
      "Epoch 78/1500\n",
      "32/32 [==============================] - 1s - loss: 6.0443 - acc: 0.6250 - recall: 0.6250 - precision: 0.6250 - fmeasure: 0.6250 - val_loss: 3.5258 - val_acc: 0.7812 - val_recall: 0.7812 - val_precision: 0.7812 - val_fmeasure: 0.7812\n",
      "Epoch 79/1500\n",
      "32/32 [==============================] - 1s - loss: 4.5332 - acc: 0.7188 - recall: 0.7188 - precision: 0.7188 - fmeasure: 0.7187 - val_loss: 6.0443 - val_acc: 0.6250 - val_recall: 0.6250 - val_precision: 0.6250 - val_fmeasure: 0.6250\n",
      "Epoch 80/1500\n",
      "32/32 [==============================] - 1s - loss: 3.0221 - acc: 0.8125 - recall: 0.8125 - precision: 0.8125 - fmeasure: 0.8125 - val_loss: 3.5258 - val_acc: 0.7812 - val_recall: 0.7812 - val_precision: 0.7812 - val_fmeasure: 0.7812\n",
      "Epoch 81/1500\n",
      "32/32 [==============================] - 1s - loss: 2.0148 - acc: 0.8750 - recall: 0.8750 - precision: 0.8750 - fmeasure: 0.8750 - val_loss: 4.0295 - val_acc: 0.7500 - val_recall: 0.7500 - val_precision: 0.7500 - val_fmeasure: 0.7500\n",
      "Epoch 82/1500\n",
      "32/32 [==============================] - 1s - loss: 3.5258 - acc: 0.7812 - recall: 0.7812 - precision: 0.7812 - fmeasure: 0.7812 - val_loss: 1.5111 - val_acc: 0.9062 - val_recall: 0.9062 - val_precision: 0.9062 - val_fmeasure: 0.9062\n",
      "Epoch 83/1500\n",
      "32/32 [==============================] - 1s - loss: 2.0148 - acc: 0.8750 - recall: 0.8750 - precision: 0.8750 - fmeasure: 0.8750 - val_loss: 3.0221 - val_acc: 0.8125 - val_recall: 0.8125 - val_precision: 0.8125 - val_fmeasure: 0.8125\n",
      "Epoch 84/1500\n",
      "32/32 [==============================] - 1s - loss: 3.5258 - acc: 0.7812 - recall: 0.7812 - precision: 0.7812 - fmeasure: 0.7812 - val_loss: 3.5258 - val_acc: 0.7812 - val_recall: 0.7812 - val_precision: 0.7812 - val_fmeasure: 0.7812\n",
      "Epoch 85/1500\n",
      "32/32 [==============================] - 1s - loss: 4.5332 - acc: 0.7188 - recall: 0.7188 - precision: 0.7188 - fmeasure: 0.7187 - val_loss: 2.5185 - val_acc: 0.8438 - val_recall: 0.8438 - val_precision: 0.8438 - val_fmeasure: 0.8437\n",
      "Epoch 86/1500\n",
      "32/32 [==============================] - 1s - loss: 4.0295 - acc: 0.7500 - recall: 0.7500 - precision: 0.7500 - fmeasure: 0.7500 - val_loss: 3.5258 - val_acc: 0.7812 - val_recall: 0.7812 - val_precision: 0.7812 - val_fmeasure: 0.7812\n",
      "Epoch 87/1500\n",
      "32/32 [==============================] - 1s - loss: 6.0443 - acc: 0.6250 - recall: 0.6250 - precision: 0.6250 - fmeasure: 0.6250 - val_loss: 2.5185 - val_acc: 0.8438 - val_recall: 0.8438 - val_precision: 0.8438 - val_fmeasure: 0.8437\n",
      "Epoch 88/1500\n",
      "32/32 [==============================] - 1s - loss: 4.0295 - acc: 0.7500 - recall: 0.7500 - precision: 0.7500 - fmeasure: 0.7500 - val_loss: 3.0221 - val_acc: 0.8125 - val_recall: 0.8125 - val_precision: 0.8125 - val_fmeasure: 0.8125\n",
      "Epoch 89/1500\n",
      "32/32 [==============================] - 1s - loss: 5.0369 - acc: 0.6875 - recall: 0.6875 - precision: 0.6875 - fmeasure: 0.6875 - val_loss: 7.5554 - val_acc: 0.5312 - val_recall: 0.5312 - val_precision: 0.5312 - val_fmeasure: 0.5312\n",
      "Epoch 90/1500\n",
      "32/32 [==============================] - 1s - loss: 5.5406 - acc: 0.6562 - recall: 0.6562 - precision: 0.6562 - fmeasure: 0.6562 - val_loss: 2.5185 - val_acc: 0.8438 - val_recall: 0.8438 - val_precision: 0.8438 - val_fmeasure: 0.8437\n",
      "Epoch 91/1500\n",
      "32/32 [==============================] - 1s - loss: 3.0221 - acc: 0.8125 - recall: 0.8125 - precision: 0.8125 - fmeasure: 0.8125 - val_loss: 1.0074 - val_acc: 0.9375 - val_recall: 0.9375 - val_precision: 0.9375 - val_fmeasure: 0.9375\n",
      "Epoch 92/1500\n",
      "32/32 [==============================] - 1s - loss: 3.0221 - acc: 0.8125 - recall: 0.8125 - precision: 0.8125 - fmeasure: 0.8125 - val_loss: 3.0221 - val_acc: 0.8125 - val_recall: 0.8125 - val_precision: 0.8125 - val_fmeasure: 0.8125\n",
      "Epoch 93/1500\n",
      "32/32 [==============================] - 1s - loss: 3.0221 - acc: 0.8125 - recall: 0.8125 - precision: 0.8125 - fmeasure: 0.8125 - val_loss: 6.0443 - val_acc: 0.6250 - val_recall: 0.6250 - val_precision: 0.6250 - val_fmeasure: 0.6250\n",
      "Epoch 94/1500\n",
      "32/32 [==============================] - 1s - loss: 2.0148 - acc: 0.8750 - recall: 0.8750 - precision: 0.8750 - fmeasure: 0.8750 - val_loss: 4.5332 - val_acc: 0.7188 - val_recall: 0.7188 - val_precision: 0.7188 - val_fmeasure: 0.7187\n",
      "Epoch 95/1500\n",
      "32/32 [==============================] - 1s - loss: 3.0221 - acc: 0.8125 - recall: 0.8125 - precision: 0.8125 - fmeasure: 0.8125 - val_loss: 3.0221 - val_acc: 0.8125 - val_recall: 0.8125 - val_precision: 0.8125 - val_fmeasure: 0.8125\n",
      "Epoch 96/1500\n",
      "32/32 [==============================] - 1s - loss: 1.5111 - acc: 0.9062 - recall: 0.9062 - precision: 0.9062 - fmeasure: 0.9062 - val_loss: 3.0221 - val_acc: 0.8125 - val_recall: 0.8125 - val_precision: 0.8125 - val_fmeasure: 0.8125\n",
      "Epoch 97/1500\n",
      "32/32 [==============================] - 1s - loss: 4.0295 - acc: 0.7500 - recall: 0.7500 - precision: 0.7500 - fmeasure: 0.7500 - val_loss: 3.5258 - val_acc: 0.7812 - val_recall: 0.7812 - val_precision: 0.7812 - val_fmeasure: 0.7812\n",
      "Epoch 98/1500\n",
      "32/32 [==============================] - 1s - loss: 1.0074 - acc: 0.9375 - recall: 0.9375 - precision: 0.9375 - fmeasure: 0.9375 - val_loss: 3.5258 - val_acc: 0.7812 - val_recall: 0.7812 - val_precision: 0.7812 - val_fmeasure: 0.7812\n",
      "Epoch 99/1500\n",
      "32/32 [==============================] - 1s - loss: 1.5111 - acc: 0.9062 - recall: 0.9062 - precision: 0.9062 - fmeasure: 0.9062 - val_loss: 4.0295 - val_acc: 0.7500 - val_recall: 0.7500 - val_precision: 0.7500 - val_fmeasure: 0.7500\n",
      "Epoch 100/1500\n",
      "32/32 [==============================] - 1s - loss: 4.5332 - acc: 0.7188 - recall: 0.7188 - precision: 0.7188 - fmeasure: 0.7187 - val_loss: 3.5258 - val_acc: 0.7812 - val_recall: 0.7812 - val_precision: 0.7812 - val_fmeasure: 0.7812\n",
      "Epoch 101/1500\n",
      "32/32 [==============================] - 1s - loss: 4.5332 - acc: 0.7188 - recall: 0.7188 - precision: 0.7188 - fmeasure: 0.7187 - val_loss: 3.5258 - val_acc: 0.7812 - val_recall: 0.7812 - val_precision: 0.7812 - val_fmeasure: 0.7812\n",
      "Epoch 102/1500\n",
      "32/32 [==============================] - 1s - loss: 2.5185 - acc: 0.8438 - recall: 0.8438 - precision: 0.8438 - fmeasure: 0.8437 - val_loss: 4.0295 - val_acc: 0.7500 - val_recall: 0.7500 - val_precision: 0.7500 - val_fmeasure: 0.7500\n",
      "Epoch 103/1500\n",
      "32/32 [==============================] - 1s - loss: 4.0295 - acc: 0.7500 - recall: 0.7500 - precision: 0.7500 - fmeasure: 0.7500 - val_loss: 4.5332 - val_acc: 0.7188 - val_recall: 0.7188 - val_precision: 0.7188 - val_fmeasure: 0.7187\n",
      "Epoch 104/1500\n",
      "32/32 [==============================] - 1s - loss: 2.0148 - acc: 0.8750 - recall: 0.8750 - precision: 0.8750 - fmeasure: 0.8750 - val_loss: 5.0369 - val_acc: 0.6875 - val_recall: 0.6875 - val_precision: 0.6875 - val_fmeasure: 0.6875\n",
      "Epoch 105/1500\n",
      "32/32 [==============================] - 1s - loss: 4.0295 - acc: 0.7500 - recall: 0.7500 - precision: 0.7500 - fmeasure: 0.7500 - val_loss: 4.0295 - val_acc: 0.7500 - val_recall: 0.7500 - val_precision: 0.7500 - val_fmeasure: 0.7500\n",
      "Epoch 106/1500\n",
      "32/32 [==============================] - 1s - loss: 1.5111 - acc: 0.9062 - recall: 0.9062 - precision: 0.9062 - fmeasure: 0.9062 - val_loss: 3.0221 - val_acc: 0.8125 - val_recall: 0.8125 - val_precision: 0.8125 - val_fmeasure: 0.8125\n",
      "Epoch 107/1500\n",
      "32/32 [==============================] - 1s - loss: 4.5332 - acc: 0.7188 - recall: 0.7188 - precision: 0.7188 - fmeasure: 0.7187 - val_loss: 4.0295 - val_acc: 0.7500 - val_recall: 0.7500 - val_precision: 0.7500 - val_fmeasure: 0.7500\n",
      "Epoch 108/1500\n",
      "32/32 [==============================] - 1s - loss: 3.5258 - acc: 0.7812 - recall: 0.7812 - precision: 0.7812 - fmeasure: 0.7812 - val_loss: 4.5332 - val_acc: 0.7188 - val_recall: 0.7188 - val_precision: 0.7188 - val_fmeasure: 0.7187\n",
      "Epoch 109/1500\n",
      "32/32 [==============================] - 1s - loss: 2.5185 - acc: 0.8438 - recall: 0.8438 - precision: 0.8438 - fmeasure: 0.8437 - val_loss: 3.0221 - val_acc: 0.8125 - val_recall: 0.8125 - val_precision: 0.8125 - val_fmeasure: 0.8125\n",
      "Epoch 110/1500\n",
      "32/32 [==============================] - 1s - loss: 4.0295 - acc: 0.7500 - recall: 0.7500 - precision: 0.7500 - fmeasure: 0.7500 - val_loss: 3.0221 - val_acc: 0.8125 - val_recall: 0.8125 - val_precision: 0.8125 - val_fmeasure: 0.8125\n",
      "Epoch 111/1500\n",
      "32/32 [==============================] - 1s - loss: 4.5332 - acc: 0.7188 - recall: 0.7188 - precision: 0.7188 - fmeasure: 0.7187 - val_loss: 0.5037 - val_acc: 0.9688 - val_recall: 0.9688 - val_precision: 0.9688 - val_fmeasure: 0.9687\n",
      "Epoch 112/1500\n",
      "32/32 [==============================] - 1s - loss: 6.0443 - acc: 0.6250 - recall: 0.6250 - precision: 0.6250 - fmeasure: 0.6250 - val_loss: 2.0148 - val_acc: 0.8750 - val_recall: 0.8750 - val_precision: 0.8750 - val_fmeasure: 0.8750\n",
      "Epoch 113/1500\n",
      "32/32 [==============================] - 1s - loss: 4.0295 - acc: 0.7500 - recall: 0.7500 - precision: 0.7500 - fmeasure: 0.7500 - val_loss: 5.5406 - val_acc: 0.6562 - val_recall: 0.6562 - val_precision: 0.6562 - val_fmeasure: 0.6562\n",
      "Epoch 114/1500\n",
      "32/32 [==============================] - 1s - loss: 2.0148 - acc: 0.8750 - recall: 0.8750 - precision: 0.8750 - fmeasure: 0.8750 - val_loss: 3.0221 - val_acc: 0.8125 - val_recall: 0.8125 - val_precision: 0.8125 - val_fmeasure: 0.8125\n",
      "Epoch 115/1500\n",
      "32/32 [==============================] - 1s - loss: 1.5111 - acc: 0.9062 - recall: 0.9062 - precision: 0.9062 - fmeasure: 0.9062 - val_loss: 3.5258 - val_acc: 0.7812 - val_recall: 0.7812 - val_precision: 0.7812 - val_fmeasure: 0.7812\n",
      "Epoch 116/1500\n",
      "32/32 [==============================] - 1s - loss: 4.5332 - acc: 0.7188 - recall: 0.7188 - precision: 0.7188 - fmeasure: 0.7187 - val_loss: 3.5258 - val_acc: 0.7812 - val_recall: 0.7812 - val_precision: 0.7812 - val_fmeasure: 0.7812\n",
      "Epoch 117/1500\n",
      "32/32 [==============================] - 1s - loss: 4.0295 - acc: 0.7500 - recall: 0.7500 - precision: 0.7500 - fmeasure: 0.7500 - val_loss: 1.5111 - val_acc: 0.9062 - val_recall: 0.9062 - val_precision: 0.9062 - val_fmeasure: 0.9062\n",
      "Epoch 118/1500\n",
      "32/32 [==============================] - 1s - loss: 4.5332 - acc: 0.7188 - recall: 0.7188 - precision: 0.7188 - fmeasure: 0.7187 - val_loss: 2.0148 - val_acc: 0.8750 - val_recall: 0.8750 - val_precision: 0.8750 - val_fmeasure: 0.8750\n",
      "Epoch 119/1500\n",
      "32/32 [==============================] - 1s - loss: 5.0369 - acc: 0.6875 - recall: 0.6875 - precision: 0.6875 - fmeasure: 0.6875 - val_loss: 3.0221 - val_acc: 0.8125 - val_recall: 0.8125 - val_precision: 0.8125 - val_fmeasure: 0.8125\n",
      "Epoch 120/1500\n"
     ]
    },
    {
     "ename": "ValueError",
     "evalue": "Error when checking model target: expected activation_7 to have shape (None, 2) but got array with shape (32, 1)",
     "output_type": "error",
     "traceback": [
      "\u001b[0;31m---------------------------------------------------------------------------\u001b[0m",
      "\u001b[0;31mValueError\u001b[0m                                Traceback (most recent call last)",
      "\u001b[0;32m<ipython-input-31-c65a03e3d225>\u001b[0m in \u001b[0;36m<module>\u001b[0;34m()\u001b[0m\n\u001b[1;32m      3\u001b[0m                               \u001b[0mnb_val_samples\u001b[0m\u001b[0;34m=\u001b[0m\u001b[0mBATCH_SIZE\u001b[0m\u001b[0;34m,\u001b[0m\u001b[0;34m\u001b[0m\u001b[0m\n\u001b[1;32m      4\u001b[0m                               \u001b[0msamples_per_epoch\u001b[0m\u001b[0;34m=\u001b[0m\u001b[0mBATCH_SIZE\u001b[0m\u001b[0;34m,\u001b[0m\u001b[0;34m\u001b[0m\u001b[0m\n\u001b[0;32m----> 5\u001b[0;31m                               nb_epoch=NUM_EPOCHS)\n\u001b[0m",
      "\u001b[0;32m/usr/local/lib/python2.7/dist-packages/Keras-1.2.2-py2.7.egg/keras/models.pyc\u001b[0m in \u001b[0;36mfit_generator\u001b[0;34m(self, generator, samples_per_epoch, nb_epoch, verbose, callbacks, validation_data, nb_val_samples, class_weight, max_q_size, nb_worker, pickle_safe, initial_epoch, **kwargs)\u001b[0m\n\u001b[1;32m    933\u001b[0m                                         \u001b[0mnb_worker\u001b[0m\u001b[0;34m=\u001b[0m\u001b[0mnb_worker\u001b[0m\u001b[0;34m,\u001b[0m\u001b[0;34m\u001b[0m\u001b[0m\n\u001b[1;32m    934\u001b[0m                                         \u001b[0mpickle_safe\u001b[0m\u001b[0;34m=\u001b[0m\u001b[0mpickle_safe\u001b[0m\u001b[0;34m,\u001b[0m\u001b[0;34m\u001b[0m\u001b[0m\n\u001b[0;32m--> 935\u001b[0;31m                                         initial_epoch=initial_epoch)\n\u001b[0m\u001b[1;32m    936\u001b[0m \u001b[0;34m\u001b[0m\u001b[0m\n\u001b[1;32m    937\u001b[0m     def evaluate_generator(self, generator, val_samples,\n",
      "\u001b[0;32m/usr/local/lib/python2.7/dist-packages/Keras-1.2.2-py2.7.egg/keras/engine/training.pyc\u001b[0m in \u001b[0;36mfit_generator\u001b[0;34m(self, generator, samples_per_epoch, nb_epoch, verbose, callbacks, validation_data, nb_val_samples, class_weight, max_q_size, nb_worker, pickle_safe, initial_epoch)\u001b[0m\n\u001b[1;32m   1583\u001b[0m                                 \u001b[0mmax_q_size\u001b[0m\u001b[0;34m=\u001b[0m\u001b[0mmax_q_size\u001b[0m\u001b[0;34m,\u001b[0m\u001b[0;34m\u001b[0m\u001b[0m\n\u001b[1;32m   1584\u001b[0m                                 \u001b[0mnb_worker\u001b[0m\u001b[0;34m=\u001b[0m\u001b[0mnb_worker\u001b[0m\u001b[0;34m,\u001b[0m\u001b[0;34m\u001b[0m\u001b[0m\n\u001b[0;32m-> 1585\u001b[0;31m                                 pickle_safe=pickle_safe)\n\u001b[0m\u001b[1;32m   1586\u001b[0m                         \u001b[0;32melse\u001b[0m\u001b[0;34m:\u001b[0m\u001b[0;34m\u001b[0m\u001b[0m\n\u001b[1;32m   1587\u001b[0m                             \u001b[0;31m# no need for try/except because\u001b[0m\u001b[0;34m\u001b[0m\u001b[0;34m\u001b[0m\u001b[0m\n",
      "\u001b[0;32m/usr/local/lib/python2.7/dist-packages/Keras-1.2.2-py2.7.egg/keras/engine/training.pyc\u001b[0m in \u001b[0;36mevaluate_generator\u001b[0;34m(self, generator, val_samples, max_q_size, nb_worker, pickle_safe)\u001b[0m\n\u001b[1;32m   1675\u001b[0m                                      'or (x, y). Found: ' + str(generator_output))\n\u001b[1;32m   1676\u001b[0m \u001b[0;34m\u001b[0m\u001b[0m\n\u001b[0;32m-> 1677\u001b[0;31m                 \u001b[0mouts\u001b[0m \u001b[0;34m=\u001b[0m \u001b[0mself\u001b[0m\u001b[0;34m.\u001b[0m\u001b[0mtest_on_batch\u001b[0m\u001b[0;34m(\u001b[0m\u001b[0mx\u001b[0m\u001b[0;34m,\u001b[0m \u001b[0my\u001b[0m\u001b[0;34m,\u001b[0m \u001b[0msample_weight\u001b[0m\u001b[0;34m=\u001b[0m\u001b[0msample_weight\u001b[0m\u001b[0;34m)\u001b[0m\u001b[0;34m\u001b[0m\u001b[0m\n\u001b[0m\u001b[1;32m   1678\u001b[0m \u001b[0;34m\u001b[0m\u001b[0m\n\u001b[1;32m   1679\u001b[0m                 \u001b[0;32mif\u001b[0m \u001b[0misinstance\u001b[0m\u001b[0;34m(\u001b[0m\u001b[0mx\u001b[0m\u001b[0;34m,\u001b[0m \u001b[0mlist\u001b[0m\u001b[0;34m)\u001b[0m\u001b[0;34m:\u001b[0m\u001b[0;34m\u001b[0m\u001b[0m\n",
      "\u001b[0;32m/usr/local/lib/python2.7/dist-packages/Keras-1.2.2-py2.7.egg/keras/engine/training.pyc\u001b[0m in \u001b[0;36mtest_on_batch\u001b[0;34m(self, x, y, sample_weight)\u001b[0m\n\u001b[1;32m   1354\u001b[0m             \u001b[0mx\u001b[0m\u001b[0;34m,\u001b[0m \u001b[0my\u001b[0m\u001b[0;34m,\u001b[0m\u001b[0;34m\u001b[0m\u001b[0m\n\u001b[1;32m   1355\u001b[0m             \u001b[0msample_weight\u001b[0m\u001b[0;34m=\u001b[0m\u001b[0msample_weight\u001b[0m\u001b[0;34m,\u001b[0m\u001b[0;34m\u001b[0m\u001b[0m\n\u001b[0;32m-> 1356\u001b[0;31m             check_batch_axis=True)\n\u001b[0m\u001b[1;32m   1357\u001b[0m         \u001b[0;32mif\u001b[0m \u001b[0mself\u001b[0m\u001b[0;34m.\u001b[0m\u001b[0muses_learning_phase\u001b[0m \u001b[0;32mand\u001b[0m \u001b[0;32mnot\u001b[0m \u001b[0misinstance\u001b[0m\u001b[0;34m(\u001b[0m\u001b[0mK\u001b[0m\u001b[0;34m.\u001b[0m\u001b[0mlearning_phase\u001b[0m\u001b[0;34m,\u001b[0m \u001b[0mint\u001b[0m\u001b[0;34m)\u001b[0m\u001b[0;34m:\u001b[0m\u001b[0;34m\u001b[0m\u001b[0m\n\u001b[1;32m   1358\u001b[0m             \u001b[0mins\u001b[0m \u001b[0;34m=\u001b[0m \u001b[0mx\u001b[0m \u001b[0;34m+\u001b[0m \u001b[0my\u001b[0m \u001b[0;34m+\u001b[0m \u001b[0msample_weights\u001b[0m \u001b[0;34m+\u001b[0m \u001b[0;34m[\u001b[0m\u001b[0;36m0.\u001b[0m\u001b[0;34m]\u001b[0m\u001b[0;34m\u001b[0m\u001b[0m\n",
      "\u001b[0;32m/usr/local/lib/python2.7/dist-packages/Keras-1.2.2-py2.7.egg/keras/engine/training.pyc\u001b[0m in \u001b[0;36m_standardize_user_data\u001b[0;34m(self, x, y, sample_weight, class_weight, check_batch_axis, batch_size)\u001b[0m\n\u001b[1;32m   1031\u001b[0m                                    \u001b[0moutput_shapes\u001b[0m\u001b[0;34m,\u001b[0m\u001b[0;34m\u001b[0m\u001b[0m\n\u001b[1;32m   1032\u001b[0m                                    \u001b[0mcheck_batch_axis\u001b[0m\u001b[0;34m=\u001b[0m\u001b[0mFalse\u001b[0m\u001b[0;34m,\u001b[0m\u001b[0;34m\u001b[0m\u001b[0m\n\u001b[0;32m-> 1033\u001b[0;31m                                    exception_prefix='model target')\n\u001b[0m\u001b[1;32m   1034\u001b[0m         sample_weights = standardize_sample_weights(sample_weight,\n\u001b[1;32m   1035\u001b[0m                                                     self.output_names)\n",
      "\u001b[0;32m/usr/local/lib/python2.7/dist-packages/Keras-1.2.2-py2.7.egg/keras/engine/training.pyc\u001b[0m in \u001b[0;36mstandardize_input_data\u001b[0;34m(data, names, shapes, check_batch_axis, exception_prefix)\u001b[0m\n\u001b[1;32m    122\u001b[0m                             \u001b[0;34m' to have shape '\u001b[0m \u001b[0;34m+\u001b[0m \u001b[0mstr\u001b[0m\u001b[0;34m(\u001b[0m\u001b[0mshapes\u001b[0m\u001b[0;34m[\u001b[0m\u001b[0mi\u001b[0m\u001b[0;34m]\u001b[0m\u001b[0;34m)\u001b[0m \u001b[0;34m+\u001b[0m\u001b[0;34m\u001b[0m\u001b[0m\n\u001b[1;32m    123\u001b[0m                             \u001b[0;34m' but got array with shape '\u001b[0m \u001b[0;34m+\u001b[0m\u001b[0;34m\u001b[0m\u001b[0m\n\u001b[0;32m--> 124\u001b[0;31m                             str(array.shape))\n\u001b[0m\u001b[1;32m    125\u001b[0m     \u001b[0;32mreturn\u001b[0m \u001b[0marrays\u001b[0m\u001b[0;34m\u001b[0m\u001b[0m\n\u001b[1;32m    126\u001b[0m \u001b[0;34m\u001b[0m\u001b[0m\n",
      "\u001b[0;31mValueError\u001b[0m: Error when checking model target: expected activation_7 to have shape (None, 2) but got array with shape (32, 1)"
     ]
    }
   ],
   "source": [
    "history = model.fit_generator(w_gender_train_gen, \n",
    "                              validation_data=w_gender_valid_gen,\n",
    "                              nb_val_samples=BATCH_SIZE,\n",
    "                              samples_per_epoch=BATCH_SIZE, \n",
    "                              nb_epoch=NUM_EPOCHS)"
   ]
  },
  {
   "cell_type": "markdown",
   "metadata": {
    "deletable": true,
    "editable": true
   },
   "source": [
    "## 7. Evaluating the results"
   ]
  },
  {
   "cell_type": "code",
   "execution_count": null,
   "metadata": {
    "collapsed": false,
    "deletable": true,
    "editable": true
   },
   "outputs": [],
   "source": [
    "train_history = history.history['acc']\n",
    "valid_history = history.history['val_acc']"
   ]
  },
  {
   "cell_type": "code",
   "execution_count": null,
   "metadata": {
    "collapsed": false,
    "deletable": true,
    "editable": true
   },
   "outputs": [],
   "source": [
    " # Plotting training accuracy and testing accuracy acros epochs\n",
    "plt.figure(figsize=(20,10))\n",
    "plt.plot(train_history)\n",
    "plt.plot(valid_history)\n",
    "plt.title('Training and Validation Accuracy')\n",
    "plt.ylabel('accuracy')\n",
    "plt.xlabel('epoch')\n",
    "plt.legend(['train', 'test'], loc='upper left')\n",
    "plt.show()\n",
    "plt.savefig(PIC_NAME)"
   ]
  },
  {
   "cell_type": "code",
   "execution_count": null,
   "metadata": {
    "collapsed": true,
    "deletable": true,
    "editable": true
   },
   "outputs": [],
   "source": [
    "# Tail-rolling average transform\n",
    "series_train = Series(train_history)\n",
    "rolling_train = series_train.rolling(window=100)\n",
    "rolling_mean_train = rolling_train.mean()\n",
    "\n",
    "series_valid = Series(valid_history)\n",
    "rolling_valid = series_valid.rolling(window=100)\n",
    "rolling_mean_valid = rolling_valid.mean()"
   ]
  },
  {
   "cell_type": "code",
   "execution_count": null,
   "metadata": {
    "collapsed": false,
    "deletable": true,
    "editable": true
   },
   "outputs": [],
   "source": [
    "plt.figure(figsize=(20,10))\n",
    "plt.plot(rolling_mean_train)\n",
    "plt.plot(rolling_mean_valid)\n",
    "plt.title('Smoothened training and Validation Accuracy')\n",
    "plt.ylabel('accuracy')\n",
    "plt.xlabel('epoch')\n",
    "plt.legend(['train', 'validation'], loc='upper left')\n",
    "plt.show()"
   ]
  },
  {
   "cell_type": "code",
   "execution_count": null,
   "metadata": {
    "collapsed": false,
    "deletable": true,
    "editable": true
   },
   "outputs": [],
   "source": [
    "# Saving histories\n",
    "np.save(TRA_HISTORY_NAME, train_history)\n",
    "np.save(VAL_HISTORY_NAME, valid_history)"
   ]
  },
  {
   "cell_type": "code",
   "execution_count": null,
   "metadata": {
    "collapsed": true,
    "deletable": true,
    "editable": true
   },
   "outputs": [],
   "source": [
    "# saving weights\n",
    "model.save_weights(WEIGHTS_NAME)"
   ]
  },
  {
   "cell_type": "markdown",
   "metadata": {
    "deletable": true,
    "editable": true
   },
   "source": [
    "### Results on Adience"
   ]
  },
  {
   "cell_type": "code",
   "execution_count": null,
   "metadata": {
    "collapsed": false,
    "deletable": true,
    "editable": true
   },
   "outputs": [],
   "source": [
    "model.evaluate_generator(adience_gender_test_gen,BATCH_SIZE*400)"
   ]
  },
  {
   "cell_type": "code",
   "execution_count": null,
   "metadata": {
    "collapsed": false,
    "deletable": true,
    "editable": true
   },
   "outputs": [],
   "source": [
    "raise EX"
   ]
  },
  {
   "cell_type": "markdown",
   "metadata": {
    "deletable": true,
    "editable": true
   },
   "source": [
    "## Finetuning with Adience"
   ]
  },
  {
   "cell_type": "code",
   "execution_count": null,
   "metadata": {
    "collapsed": false,
    "deletable": true,
    "editable": true
   },
   "outputs": [],
   "source": [
    "history = model.fit_generator(adience_gender_train_gen, \n",
    "                              validation_data=adience_gender_valid_gen,\n",
    "                              nb_val_samples=BATCH_SIZE,\n",
    "                              samples_per_epoch=BATCH_SIZE, \n",
    "                              nb_epoch=NUM_EPOCHS2)"
   ]
  },
  {
   "cell_type": "code",
   "execution_count": null,
   "metadata": {
    "collapsed": true,
    "deletable": true,
    "editable": true
   },
   "outputs": [],
   "source": [
    "train_history = history.history['acc']\n",
    "valid_history = history.history['val_acc']"
   ]
  },
  {
   "cell_type": "code",
   "execution_count": null,
   "metadata": {
    "collapsed": false,
    "deletable": true,
    "editable": true
   },
   "outputs": [],
   "source": [
    " # Plotting training accuracy and testing accuracy acros epochs\n",
    "plt.figure(figsize=(20,10))\n",
    "plt.plot(train_history)\n",
    "plt.plot(valid_history)\n",
    "plt.title('Training and Validation Accuracy')\n",
    "plt.ylabel('accuracy')\n",
    "plt.xlabel('epoch')\n",
    "plt.legend(['train', 'test'], loc='upper left')\n",
    "plt.show()\n",
    "plt.savefig(PIC_NAME_FINETUNING)"
   ]
  },
  {
   "cell_type": "code",
   "execution_count": null,
   "metadata": {
    "collapsed": false,
    "deletable": true,
    "editable": true
   },
   "outputs": [],
   "source": [
    "# Tail-rolling average transform\n",
    "series_train = Series(train_history)\n",
    "rolling_train = series_train.rolling(window=100)\n",
    "rolling_mean_train = rolling_train.mean()\n",
    "\n",
    "series_valid = Series(valid_history)\n",
    "rolling_valid = series_valid.rolling(window=100)\n",
    "rolling_mean_valid = rolling_valid.mean()"
   ]
  },
  {
   "cell_type": "code",
   "execution_count": null,
   "metadata": {
    "collapsed": false,
    "deletable": true,
    "editable": true
   },
   "outputs": [],
   "source": [
    "plt.figure(figsize=(20,10))\n",
    "plt.plot(rolling_mean_train)\n",
    "plt.plot(rolling_mean_valid)\n",
    "plt.title('Smoothened training and Validation Accuracy')\n",
    "plt.ylabel('accuracy')\n",
    "plt.xlabel('epoch')\n",
    "plt.legend(['train', 'validation'], loc='upper left')\n",
    "plt.show()"
   ]
  },
  {
   "cell_type": "code",
   "execution_count": null,
   "metadata": {
    "collapsed": false,
    "deletable": true,
    "editable": true
   },
   "outputs": [],
   "source": [
    "# Saving histories\n",
    "np.save(TRA_HISTORY_NAME_FINETUNING, train_history)\n",
    "np.save(VAL_HISTORY_NAME_FINETUNING, valid_history)"
   ]
  },
  {
   "cell_type": "code",
   "execution_count": null,
   "metadata": {
    "collapsed": true,
    "deletable": true,
    "editable": true
   },
   "outputs": [],
   "source": [
    "# saving weights\n",
    "model.save_weights(WEIGHTS_NAME_FINETUNING)"
   ]
  },
  {
   "cell_type": "code",
   "execution_count": null,
   "metadata": {
    "collapsed": false,
    "deletable": true,
    "editable": true
   },
   "outputs": [],
   "source": [
    "model.evaluate_generator(adience_gender_test_gen,BATCH_SIZE*400)"
   ]
  }
 ],
 "metadata": {
  "kernelspec": {
   "display_name": "Python 2",
   "language": "python",
   "name": "python2"
  },
  "language_info": {
   "codemirror_mode": {
    "name": "ipython",
    "version": 2
   },
   "file_extension": ".py",
   "mimetype": "text/x-python",
   "name": "python",
   "nbconvert_exporter": "python",
   "pygments_lexer": "ipython2",
   "version": "2.7.6"
  }
 },
 "nbformat": 4,
 "nbformat_minor": 2
}
