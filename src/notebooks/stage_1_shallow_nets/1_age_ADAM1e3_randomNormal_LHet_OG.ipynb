{
 "cells": [
  {
   "cell_type": "markdown",
   "metadata": {
    "deletable": true,
    "editable": true
   },
   "source": [
    "# Model Evaluation"
   ]
  },
  {
   "cell_type": "markdown",
   "metadata": {
    "deletable": true,
    "editable": true
   },
   "source": [
    "## 1. Setup"
   ]
  },
  {
   "cell_type": "code",
   "execution_count": 1,
   "metadata": {
    "collapsed": false,
    "deletable": true,
    "editable": true
   },
   "outputs": [
    {
     "name": "stderr",
     "output_type": "stream",
     "text": [
      "Using TensorFlow backend.\n"
     ]
    }
   ],
   "source": [
    "# NECESSARY IMPORTS\n",
    "import pandas as pd\n",
    "import numpy  as np\n",
    "\n",
    "from keras.models     import Sequential\n",
    "from keras.layers     import Dense, Dropout, Activation, Flatten, advanced_activations\n",
    "from keras.layers     import Convolution2D, MaxPooling2D\n",
    "from keras.optimizers import SGD, Adam\n",
    "\n",
    "from keras import initializations\n",
    "import keras.backend     as K\n",
    "import matplotlib.pyplot as plt\n",
    "\n",
    "from pandas                     import Series\n",
    "from scipy.misc                 import imresize\n",
    "from keras.layers.normalization import BatchNormalization\n",
    "from keras.preprocessing.image  import (ImageDataGenerator, \n",
    "                                        array_to_img,\n",
    "                                        img_to_array,\n",
    "                                        load_img)\n",
    "from keras.wrappers.scikit_learn import KerasClassifier\n",
    "from sklearn.metrics import precision_score, recall_score, f1_score, confusion_matrix"
   ]
  },
  {
   "cell_type": "code",
   "execution_count": 2,
   "metadata": {
    "collapsed": false,
    "deletable": true,
    "editable": true
   },
   "outputs": [],
   "source": [
    "%matplotlib inline"
   ]
  },
  {
   "cell_type": "code",
   "execution_count": 3,
   "metadata": {
    "collapsed": false,
    "deletable": true,
    "editable": true
   },
   "outputs": [
    {
     "data": {
      "text/plain": [
       "['__call__',\n",
       " '__class__',\n",
       " '__closure__',\n",
       " '__code__',\n",
       " '__defaults__',\n",
       " '__delattr__',\n",
       " '__dict__',\n",
       " '__doc__',\n",
       " '__format__',\n",
       " '__get__',\n",
       " '__getattribute__',\n",
       " '__globals__',\n",
       " '__hash__',\n",
       " '__init__',\n",
       " '__module__',\n",
       " '__name__',\n",
       " '__new__',\n",
       " '__reduce__',\n",
       " '__reduce_ex__',\n",
       " '__repr__',\n",
       " '__setattr__',\n",
       " '__sizeof__',\n",
       " '__str__',\n",
       " '__subclasshook__',\n",
       " 'func_closure',\n",
       " 'func_code',\n",
       " 'func_defaults',\n",
       " 'func_dict',\n",
       " 'func_doc',\n",
       " 'func_globals',\n",
       " 'func_name']"
      ]
     },
     "execution_count": 3,
     "metadata": {},
     "output_type": "execute_result"
    }
   ],
   "source": [
    "dir(initializations.normal)"
   ]
  },
  {
   "cell_type": "code",
   "execution_count": 4,
   "metadata": {
    "collapsed": true,
    "deletable": true,
    "editable": true
   },
   "outputs": [],
   "source": [
    "# Ensure reproducibility\n",
    "np.random.seed(0)"
   ]
  },
  {
   "cell_type": "code",
   "execution_count": 5,
   "metadata": {
    "collapsed": true,
    "deletable": true,
    "editable": true
   },
   "outputs": [],
   "source": [
    "# Path constants\n",
    "DATA_TEMPLATE     = \"./../../data/\"\n",
    "ADIENCE_META_P    = DATA_TEMPLATE + \"adience/meta\"\n",
    "ADIENCE_RAW_P     = DATA_TEMPLATE + \"adience/keras_format\"\n",
    "ADIENCE_AGE_P     = ADIENCE_RAW_P + \"/age\"\n",
    "ADIENCE_GEN_P     = ADIENCE_RAW_P + \"/gender\"\n",
    "IMG_PATH          = DATA_TEMPLATE + \"wiki/%s\"\n",
    "\n",
    "WIKI_META_P       = DATA_TEMPLATE + \"wiki_meta\"\n",
    "MODEL_TEMPLATE    = \"./models/%s\"\n",
    "WEIGHTS_TEMPLATE  = \"./weights/%s\"\n",
    "GRAPHS_TEMPLATE   = \"./graphs/%s\"\n",
    "HISTORY_TEMPLATE   = \"./graphs/%s\""
   ]
  },
  {
   "cell_type": "code",
   "execution_count": 6,
   "metadata": {
    "collapsed": false,
    "deletable": true,
    "editable": true
   },
   "outputs": [],
   "source": [
    "# Independent constants\n",
    "MODEL_NAME = \"1_age_ADAM1e3_randomNormal_LHet_OG\"\n",
    "INITIALIZATION = 'normal'\n",
    "LOSS           = \"categorical_crossentropy\"\n",
    "OPTIMIZER      = Adam(lr=1e-3, beta_1=0.9, beta_2=0.999, epsilon=1e-08, decay=0.0)\n",
    "BATCH_SIZE     = 32\n",
    "\n",
    "\n",
    "PIC_NAME     = GRAPHS_TEMPLATE % (MODEL_NAME + \".png\")\n",
    "PIC_NAME_FINETUNING = GRAPHS_TEMPLATE % (MODEL_NAME + \"_finetuning_.png\")\n",
    "WEIGHTS_NAME = WEIGHTS_TEMPLATE % (MODEL_NAME + \".h5\")\n",
    "TRA_HISTORY_NAME = HISTORY_TEMPLATE % (MODEL_NAME + \"_train_\"+\".npy\")\n",
    "VAL_HISTORY_NAME = HISTORY_TEMPLATE % (MODEL_NAME + \"_valid_\"+\".npy\")\n",
    "\n",
    "\n",
    "WEIGHTS_NAME_FINETUNING = WEIGHTS_TEMPLATE % (MODEL_NAME + \"_finetuning_.h5\")\n",
    "TRA_HISTORY_NAME_FINETUNING = HISTORY_TEMPLATE % (MODEL_NAME + \"_train_\"+\"_finetuning_.npy\")\n",
    "VAL_HISTORY_NAME_FINETUNING = HISTORY_TEMPLATE % (MODEL_NAME + \"_valid_\"+\"_finetuning_.npy\")\n",
    "\n",
    "IMG_WIDTH  = 227\n",
    "IMG_HEIGHT = 227\n",
    "\n",
    "\n",
    "ADIENCE_FULL = [\"idx\",\"user_id\",\"face_id\",\"original_image\",\"gender\",\"age\",\"img_path\",\"keras_path\"]\n",
    "ADIENCE_HEADER = [\"user_id\",\"face_id\",\"original_image\",\"gender\",\"age\",\"img_path\",\"keras_path\"]\n",
    "WIKI_HEADER    = [\"full_path\",\"age\",\"gender\"]\n",
    "\n",
    "NUM_EPOCHS = 1500"
   ]
  },
  {
   "cell_type": "code",
   "execution_count": 7,
   "metadata": {
    "collapsed": false,
    "deletable": true,
    "editable": true
   },
   "outputs": [],
   "source": [
    "# Dependent constants\n",
    "IMG_DIMS = (IMG_WIDTH, IMG_HEIGHT)\n",
    "MODEL_W  = MODEL_NAME + \".h5\"\n",
    "MODEL_P  = MODEL_NAME + \".txt\" "
   ]
  },
  {
   "cell_type": "markdown",
   "metadata": {
    "deletable": true,
    "editable": true
   },
   "source": [
    "## 2. Loading metadata"
   ]
  },
  {
   "cell_type": "markdown",
   "metadata": {
    "deletable": true,
    "editable": true
   },
   "source": [
    "### Adience"
   ]
  },
  {
   "cell_type": "code",
   "execution_count": 8,
   "metadata": {
    "collapsed": false,
    "deletable": true,
    "editable": true
   },
   "outputs": [],
   "source": [
    "gender_train_path = ADIENCE_META_P + \"/gender_train_0.csv\"\n",
    "gender_valid_path = ADIENCE_META_P + \"/gender_valid_0.csv\"\n",
    "gender_train = pd.read_csv(filepath_or_buffer =gender_train_path)\n",
    "gender_valid = pd.read_csv(filepath_or_buffer =gender_valid_path)\n",
    "\n",
    "gender_train = gender_train[ADIENCE_HEADER]\n",
    "gender_valid = gender_valid[ADIENCE_HEADER]"
   ]
  },
  {
   "cell_type": "code",
   "execution_count": 9,
   "metadata": {
    "collapsed": false,
    "deletable": true,
    "editable": true
   },
   "outputs": [],
   "source": [
    "age_train_path = ADIENCE_META_P + \"/age_train_0.csv\"\n",
    "age_valid_path = ADIENCE_META_P + \"/age_valid_0.csv\"\n",
    "age_train = pd.read_csv(filepath_or_buffer =gender_train_path)\n",
    "age_valid = pd.read_csv(filepath_or_buffer =gender_valid_path)\n",
    "\n",
    "age_train = age_train[ADIENCE_HEADER]\n",
    "age_valid = age_valid[ADIENCE_HEADER]"
   ]
  },
  {
   "cell_type": "markdown",
   "metadata": {
    "deletable": true,
    "editable": true
   },
   "source": [
    "### Wiki"
   ]
  },
  {
   "cell_type": "code",
   "execution_count": 10,
   "metadata": {
    "collapsed": false,
    "deletable": true,
    "editable": true
   },
   "outputs": [],
   "source": [
    "w_gender_train_path = WIKI_META_P + \"/gender/train_1.csv\"\n",
    "w_gender_valid_path = WIKI_META_P + \"/gender/valid_1.csv\"\n",
    "\n",
    "w_gender_train = pd.read_csv(filepath_or_buffer =w_gender_train_path)\n",
    "w_gender_valid = pd.read_csv(filepath_or_buffer =w_gender_valid_path)\n",
    "\n",
    "w_gender_train = w_gender_train[WIKI_HEADER]\n",
    "w_gender_valid = w_gender_valid[WIKI_HEADER]"
   ]
  },
  {
   "cell_type": "code",
   "execution_count": 11,
   "metadata": {
    "collapsed": false,
    "deletable": true,
    "editable": true
   },
   "outputs": [],
   "source": [
    "w_age_train_path = WIKI_META_P + \"/gender/train_1.csv\"\n",
    "w_age_valid_path = WIKI_META_P + \"/gender/valid_1.csv\"\n",
    "w_age_train = pd.read_csv(filepath_or_buffer =w_age_train_path)\n",
    "w_age_valid = pd.read_csv(filepath_or_buffer =w_age_valid_path)\n",
    "\n",
    "w_age_train = w_age_train[WIKI_HEADER]\n",
    "w_age_valid = w_age_valid[WIKI_HEADER]"
   ]
  },
  {
   "cell_type": "markdown",
   "metadata": {
    "deletable": true,
    "editable": true
   },
   "source": [
    "### SHALLOW-ONLY TASK: Fix age ranges"
   ]
  },
  {
   "cell_type": "code",
   "execution_count": 12,
   "metadata": {
    "collapsed": false,
    "deletable": true,
    "editable": true
   },
   "outputs": [],
   "source": [
    "def fix_age_ranges(age):\n",
    "    if age < 4:\n",
    "        return \"(0, 2)\"\n",
    "    if age < 8:\n",
    "        return \"(4, 6)\"\n",
    "    if age < 15:\n",
    "        return \"(8, 13)\"\n",
    "    if age < 25:\n",
    "        return \"(15, 20)\"\n",
    "    if age < 38:\n",
    "        return \"(25, 32)\"\n",
    "    if age < 48:\n",
    "        return \"(38, 43)\"\n",
    "    if age < 60:\n",
    "        return \"(48, 53)\"\n",
    "    return \"(60-100)\"\n",
    "\n",
    "w_age_train[\"age\"]    = w_age_train[\"age\"].apply(lambda x: fix_age_ranges(x))\n",
    "w_age_valid[\"age\"]    = w_age_valid[\"age\"].apply(lambda x: fix_age_ranges(x))\n",
    "w_gender_train[\"age\"] = w_gender_train[\"age\"].apply(lambda x: fix_age_ranges(x))\n",
    "w_gender_valid[\"age\"] = w_gender_valid[\"age\"].apply(lambda x: fix_age_ranges(x))"
   ]
  },
  {
   "cell_type": "markdown",
   "metadata": {
    "deletable": true,
    "editable": true
   },
   "source": [
    "## 3. Data pipeline"
   ]
  },
  {
   "cell_type": "markdown",
   "metadata": {
    "deletable": true,
    "editable": true
   },
   "source": [
    "### 3.1 Adience"
   ]
  },
  {
   "cell_type": "code",
   "execution_count": 13,
   "metadata": {
    "collapsed": false,
    "deletable": true,
    "editable": true
   },
   "outputs": [],
   "source": [
    "adience_train_aug = ImageDataGenerator(\n",
    "        rotation_range=40,\n",
    "        width_shift_range=0.2,\n",
    "        height_shift_range=0.2,\n",
    "        shear_range=0.2,\n",
    "        zoom_range=0.2,\n",
    "        horizontal_flip=True,\n",
    "        fill_mode='nearest')"
   ]
  },
  {
   "cell_type": "code",
   "execution_count": 14,
   "metadata": {
    "collapsed": true,
    "deletable": true,
    "editable": true
   },
   "outputs": [],
   "source": [
    "adience_valid_aug = ImageDataGenerator()"
   ]
  },
  {
   "cell_type": "markdown",
   "metadata": {
    "deletable": true,
    "editable": true
   },
   "source": [
    "### Train"
   ]
  },
  {
   "cell_type": "code",
   "execution_count": 15,
   "metadata": {
    "collapsed": false,
    "deletable": true,
    "editable": true
   },
   "outputs": [
    {
     "name": "stdout",
     "output_type": "stream",
     "text": [
      "Found 10505 images belonging to 2 classes.\n"
     ]
    }
   ],
   "source": [
    "ADIENCE_GENDER_TRAIN_P = ADIENCE_GEN_P + \"/train/1\"\n",
    "adience_gender_train_gen = adience_train_aug.flow_from_directory(\n",
    "    ADIENCE_GENDER_TRAIN_P,\n",
    "    target_size=IMG_DIMS,\n",
    "    batch_size=BATCH_SIZE,\n",
    "    class_mode=\"categorical\")"
   ]
  },
  {
   "cell_type": "code",
   "execution_count": 16,
   "metadata": {
    "collapsed": false,
    "deletable": true,
    "editable": true
   },
   "outputs": [
    {
     "name": "stdout",
     "output_type": "stream",
     "text": [
      "Found 10505 images belonging to 8 classes.\n"
     ]
    }
   ],
   "source": [
    "ADIENCE_AGE_TRAIN_P = ADIENCE_AGE_P + \"/train/1\"\n",
    "adience_age_train_gen = adience_train_aug.flow_from_directory(\n",
    "    ADIENCE_AGE_TRAIN_P,\n",
    "    target_size=IMG_DIMS,\n",
    "    batch_size=BATCH_SIZE,\n",
    "    class_mode=\"categorical\")"
   ]
  },
  {
   "cell_type": "markdown",
   "metadata": {
    "deletable": true,
    "editable": true
   },
   "source": [
    "### Validation"
   ]
  },
  {
   "cell_type": "code",
   "execution_count": 17,
   "metadata": {
    "collapsed": false,
    "deletable": true,
    "editable": true
   },
   "outputs": [
    {
     "name": "stdout",
     "output_type": "stream",
     "text": [
      "Found 3502 images belonging to 2 classes.\n"
     ]
    }
   ],
   "source": [
    "ADIENCE_GENDER_VALID_P = ADIENCE_GEN_P + \"/valid/1\"\n",
    "adience_gender_valid_gen = adience_valid_aug.flow_from_directory(\n",
    "    ADIENCE_GENDER_VALID_P,\n",
    "    target_size=IMG_DIMS,\n",
    "    batch_size=BATCH_SIZE,\n",
    "    class_mode=\"categorical\")"
   ]
  },
  {
   "cell_type": "code",
   "execution_count": 18,
   "metadata": {
    "collapsed": false,
    "deletable": true,
    "editable": true
   },
   "outputs": [
    {
     "name": "stdout",
     "output_type": "stream",
     "text": [
      "Found 3502 images belonging to 8 classes.\n"
     ]
    }
   ],
   "source": [
    "ADIENCE_AGE_VALID_P = ADIENCE_AGE_P + \"/valid/1\"\n",
    "adience_age_valid_gen = adience_valid_aug.flow_from_directory(\n",
    "    ADIENCE_AGE_VALID_P,\n",
    "    target_size=IMG_DIMS,\n",
    "    batch_size=BATCH_SIZE,\n",
    "    class_mode=\"categorical\")"
   ]
  },
  {
   "cell_type": "markdown",
   "metadata": {
    "deletable": true,
    "editable": true
   },
   "source": [
    "### Test"
   ]
  },
  {
   "cell_type": "code",
   "execution_count": 19,
   "metadata": {
    "collapsed": false,
    "deletable": true,
    "editable": true
   },
   "outputs": [
    {
     "name": "stdout",
     "output_type": "stream",
     "text": [
      "Found 3445 images belonging to 8 classes.\n"
     ]
    }
   ],
   "source": [
    "ADIENCE_GENDER_TEST_P = ADIENCE_AGE_P + \"/test/\"\n",
    "adience_gender_test_gen = adience_valid_aug.flow_from_directory(\n",
    "    ADIENCE_GENDER_TEST_P,\n",
    "    target_size=IMG_DIMS,\n",
    "    batch_size=BATCH_SIZE,\n",
    "    class_mode=\"categorical\")"
   ]
  },
  {
   "cell_type": "code",
   "execution_count": 20,
   "metadata": {
    "collapsed": false,
    "deletable": true,
    "editable": true
   },
   "outputs": [
    {
     "name": "stdout",
     "output_type": "stream",
     "text": [
      "Found 3445 images belonging to 8 classes.\n"
     ]
    }
   ],
   "source": [
    "ADIENCE_AGE_TEST_P = ADIENCE_AGE_P + \"/test/\"\n",
    "adience_age_test_gen = adience_valid_aug.flow_from_directory(\n",
    "    ADIENCE_AGE_TEST_P,\n",
    "    target_size=IMG_DIMS,\n",
    "    batch_size=BATCH_SIZE,\n",
    "    class_mode=\"categorical\")"
   ]
  },
  {
   "cell_type": "markdown",
   "metadata": {
    "deletable": true,
    "editable": true
   },
   "source": [
    "### 3.2 Wiki"
   ]
  },
  {
   "cell_type": "code",
   "execution_count": 21,
   "metadata": {
    "collapsed": false,
    "deletable": true,
    "editable": true
   },
   "outputs": [],
   "source": [
    "true_path = lambda x: IMG_PATH % x\n",
    "w_age_train[\"full_path\"]    = w_age_train[\"full_path\"].apply(lambda x: true_path(x))\n",
    "w_gender_train[\"full_path\"] = w_gender_train[\"full_path\"].apply(lambda x: true_path(x))\n",
    "w_age_valid[\"full_path\"]    = w_age_valid[\"full_path\"].apply(lambda x: true_path(x))\n",
    "w_gender_valid[\"full_path\"] = w_gender_valid[\"full_path\"].apply(lambda x: true_path(x))"
   ]
  },
  {
   "cell_type": "code",
   "execution_count": 22,
   "metadata": {
    "collapsed": true,
    "deletable": true,
    "editable": true
   },
   "outputs": [],
   "source": [
    "def get_image(x):\n",
    "    try:\n",
    "        val = img_to_array(imresize(load_img(x),IMG_DIMS))\n",
    "    except:\n",
    "        val = \"ERR\"\n",
    "    return val"
   ]
  },
  {
   "cell_type": "code",
   "execution_count": 23,
   "metadata": {
    "collapsed": false,
    "deletable": true,
    "editable": true
   },
   "outputs": [],
   "source": [
    "# Data generator\n",
    "def generate_data(df, batch_size, target_feature):\n",
    "    start, end = 0, batch_size\n",
    "    while True:\n",
    "        data   = df.sample(frac=1).reset_index(drop=True)\n",
    "        ages_h = list(pd.get_dummies(data[\"age\"]).columns.values)\n",
    "        ages   = pd.get_dummies(data[\"age\"])\n",
    "        data[ages_h] = ages\n",
    "        \n",
    "        sample = data[start:end]\n",
    "        \n",
    "        X         = pd.DataFrame(sample[\"full_path\"].apply(lambda x:get_image(x)))\n",
    "        good_rows = X[\"full_path\"] != \"ERR\"\n",
    "        X         = X[good_rows]\n",
    "        X.reset_index(inplace=True)\n",
    "        X = X[\"full_path\"].apply(lambda x: x.reshape((1,)+ x.shape))\n",
    "        X = np.vstack(X)\n",
    "        #X = model.predict(X, X.shape[0])\n",
    "        \n",
    "        Y = sample[good_rows]\n",
    "        if target_feature == \"age\":\n",
    "            Y = Y[ages_h].as_matrix()\n",
    "        else:\n",
    "            Y = Y[target_feature].as_matrix()\n",
    "        yield (X,Y)"
   ]
  },
  {
   "cell_type": "code",
   "execution_count": 24,
   "metadata": {
    "collapsed": false,
    "deletable": true,
    "editable": true
   },
   "outputs": [],
   "source": [
    "# Data generator\n",
    "def generate_test(df, batch_size, target_feature):\n",
    "    start, end = 0, batch_size\n",
    "    while True:\n",
    "        while end < len(dfs.shape[0]):\n",
    "            ages_h = list(pd.get_dummies(data[\"age\"]).columns.values)\n",
    "            ages   = pd.get_dummies(data[\"age\"])\n",
    "            data[ages_h] = ages\n",
    "\n",
    "            sample = data[start:end]\n",
    "            start += batch_size\n",
    "            end   += batch_size\n",
    "\n",
    "            X         = pd.DataFrame(sample[\"full_path\"].apply(lambda x:get_image(x)))\n",
    "            good_rows = X[\"full_path\"] != \"ERR\"\n",
    "            X         = X[good_rows]\n",
    "            X.reset_index(inplace=True)\n",
    "            X = X[\"full_path\"].apply(lambda x: x.reshape((1,)+ x.shape))\n",
    "            X = np.vstack(X)\n",
    "            #X = model.predict(X, X.shape[0])\n",
    "\n",
    "            Y = sample[good_rows]\n",
    "            if target_feature == \"age\":\n",
    "                Y = Y[ages_h].as_matrix()\n",
    "            else:\n",
    "                Y = Y[target_feature].as_matrix()\n",
    "            yield (X,Y)"
   ]
  },
  {
   "cell_type": "code",
   "execution_count": 25,
   "metadata": {
    "collapsed": false,
    "deletable": true,
    "editable": true
   },
   "outputs": [],
   "source": [
    "w_age_train_gen = generate_data(w_age_train, BATCH_SIZE, \"age\")\n",
    "w_age_valid_gen = generate_data(w_age_valid, BATCH_SIZE, \"age\")\n",
    "w_gender_train_gen = generate_data(w_gender_train, BATCH_SIZE, \"gender\")\n",
    "w_gender_valid_gen = generate_data(w_gender_valid, BATCH_SIZE, \"gender\")"
   ]
  },
  {
   "cell_type": "code",
   "execution_count": 26,
   "metadata": {
    "collapsed": false,
    "deletable": true,
    "editable": true
   },
   "outputs": [
    {
     "name": "stderr",
     "output_type": "stream",
     "text": [
      "/usr/local/lib/python2.7/dist-packages/pandas/core/ops.py:739: FutureWarning: elementwise comparison failed; returning scalar instead, but in the future will perform elementwise comparison\n",
      "  result = lib.scalar_compare(x, y, op)\n"
     ]
    }
   ],
   "source": [
    "X, Y = w_age_valid_gen.next()"
   ]
  },
  {
   "cell_type": "code",
   "execution_count": 27,
   "metadata": {
    "collapsed": false,
    "deletable": true,
    "editable": true
   },
   "outputs": [],
   "source": [
    "from keras.engine.topology import Layer\n",
    "class LRN2D(Layer):\n",
    "    \"\"\"\n",
    "    This code is adapted from pylearn2.\n",
    "    License at: https://github.com/lisa-lab/pylearn2/blob/master/LICENSE.txt\n",
    "    \"\"\"\n",
    "\n",
    "    def __init__(self, alpha=1e-4, k=2, beta=0.75, n=5):\n",
    "        if n % 2 == 0:\n",
    "            raise NotImplementedError(\"LRN2D only works with odd n. n provided: \" + str(n))\n",
    "        super(LRN2D, self).__init__()\n",
    "        self.alpha = alpha\n",
    "        self.k = k\n",
    "        self.beta = beta\n",
    "        self.n = n\n",
    "\n",
    "    def get_output(self, train):\n",
    "        X = self.get_input(train)\n",
    "        b, ch, r, c = X.shape\n",
    "        half_n = self.n // 2\n",
    "        input_sqr = T.sqr(X)\n",
    "        extra_channels = T.alloc(0., b, ch + 2*half_n, r, c)\n",
    "        input_sqr = T.set_subtensor(extra_channels[:, half_n:half_n+ch, :, :], input_sqr)\n",
    "        scale = self.k\n",
    "        for i in range(self.n):\n",
    "            scale += self.alpha * input_sqr[:, i:i+ch, :, :]\n",
    "        scale = scale ** self.beta\n",
    "        return X / scale\n",
    "\n",
    "    def get_config(self):\n",
    "        return {\"name\": self.__class__.__name__,\n",
    "                \"alpha\": self.alpha,\n",
    "                \"k\": self.k,\n",
    "                \"beta\": self.beta,\n",
    "\"n\": self.n}"
   ]
  },
  {
   "cell_type": "markdown",
   "metadata": {
    "deletable": true,
    "editable": true
   },
   "source": [
    "## 4. Building the model"
   ]
  },
  {
   "cell_type": "code",
   "execution_count": 28,
   "metadata": {
    "collapsed": false,
    "deletable": true,
    "editable": true
   },
   "outputs": [],
   "source": [
    "# Building a vainilla CNN\n",
    "model = Sequential()\n",
    "model.add(Convolution2D(96, 7, 7, input_shape=(IMG_WIDTH,IMG_HEIGHT,3), init=INITIALIZATION))\n",
    "model.add(Activation('relu'))\n",
    "model.add(MaxPooling2D(pool_size=(3, 3),strides=(2,2)))\n",
    "model.add(LRN2D())\n",
    "\n",
    "model.add(Convolution2D(256, 5, 5, init=INITIALIZATION))\n",
    "model.add(Activation('relu'))\n",
    "model.add(Convolution2D(64, 3, 3, init=INITIALIZATION))\n",
    "model.add(Activation('relu'))\n",
    "model.add(MaxPooling2D(pool_size=(2, 2)))\n",
    "model.add(LRN2D())\n",
    "\n",
    "model.add(Convolution2D(384, 3, 3, init=INITIALIZATION))\n",
    "model.add(Activation('relu'))\n",
    "model.add(MaxPooling2D(pool_size=(3, 3)))\n",
    "\n",
    "model.add(Flatten())\n",
    "model.add(Dense(output_dim=512,input_dim=512, init=INITIALIZATION))\n",
    "model.add(Dropout(0.5))\n",
    "model.add(Activation('relu'))\n",
    "model.add(Dense(output_dim=512,input_dim=512, init=INITIALIZATION))\n",
    "model.add(Dropout(0.5))\n",
    "model.add(Activation('relu'))\n",
    "model.add(Dense(output_dim=8))\n",
    "model.add(Activation(\"softmax\"))\n"
   ]
  },
  {
   "cell_type": "code",
   "execution_count": null,
   "metadata": {
    "collapsed": false,
    "deletable": true,
    "editable": true
   },
   "outputs": [],
   "source": [
    "model.compile(loss=LOSS, optimizer=OPTIMIZER, metrics=['accuracy', 'recall', 'precision','f1score'])"
   ]
  },
  {
   "cell_type": "markdown",
   "metadata": {
    "deletable": true,
    "editable": true
   },
   "source": [
    "## 6. Training the model"
   ]
  },
  {
   "cell_type": "code",
   "execution_count": null,
   "metadata": {
    "collapsed": false,
    "deletable": true,
    "editable": true
   },
   "outputs": [
    {
     "name": "stdout",
     "output_type": "stream",
     "text": [
      "Epoch 1/1500\n",
      "32/32 [==============================] - 9s - loss: 12.0886 - acc: 0.2500 - recall: 0.2500 - precision: 0.2500 - fmeasure: 0.2500 - val_loss: 15.1107 - val_acc: 0.0625 - val_recall: 0.0625 - val_precision: 0.0625 - val_fmeasure: 0.0625\n",
      "Epoch 2/1500\n",
      "32/32 [==============================] - 1s - loss: 13.0960 - acc: 0.1875 - recall: 0.1875 - precision: 0.1875 - fmeasure: 0.1875 - val_loss: 16.1181 - val_acc: 0.0000e+00 - val_recall: 0.0000e+00 - val_precision: 0.0000e+00 - val_fmeasure: 0.0000e+00\n",
      "Epoch 3/1500\n",
      "32/32 [==============================] - 1s - loss: 13.0960 - acc: 0.1875 - recall: 0.1875 - precision: 0.1875 - fmeasure: 0.1875 - val_loss: 14.6070 - val_acc: 0.0938 - val_recall: 0.0938 - val_precision: 0.0938 - val_fmeasure: 0.0937\n",
      "Epoch 4/1500\n",
      "32/32 [==============================] - 1s - loss: 15.1107 - acc: 0.0625 - recall: 0.0625 - precision: 0.0625 - fmeasure: 0.0625 - val_loss: 15.1107 - val_acc: 0.0625 - val_recall: 0.0625 - val_precision: 0.0625 - val_fmeasure: 0.0625\n",
      "Epoch 5/1500\n",
      "32/32 [==============================] - 1s - loss: 11.0812 - acc: 0.3125 - recall: 0.3125 - precision: 0.3125 - fmeasure: 0.3125 - val_loss: 11.5849 - val_acc: 0.2812 - val_recall: 0.2812 - val_precision: 0.2812 - val_fmeasure: 0.2812\n",
      "Epoch 6/1500\n",
      "32/32 [==============================] - 1s - loss: 12.5923 - acc: 0.2188 - recall: 0.2188 - precision: 0.2188 - fmeasure: 0.2187 - val_loss: 14.6070 - val_acc: 0.0938 - val_recall: 0.0938 - val_precision: 0.0938 - val_fmeasure: 0.0937\n",
      "Epoch 7/1500\n",
      "32/32 [==============================] - 1s - loss: 11.0812 - acc: 0.3125 - recall: 0.3125 - precision: 0.3125 - fmeasure: 0.3125 - val_loss: 15.1107 - val_acc: 0.0625 - val_recall: 0.0625 - val_precision: 0.0625 - val_fmeasure: 0.0625\n",
      "Epoch 8/1500\n",
      "32/32 [==============================] - 1s - loss: 12.3974 - acc: 0.2188 - recall: 0.2188 - precision: 0.2188 - fmeasure: 0.2187 - val_loss: 14.6070 - val_acc: 0.0938 - val_recall: 0.0938 - val_precision: 0.0938 - val_fmeasure: 0.0937\n",
      "Epoch 9/1500\n",
      "32/32 [==============================] - 1s - loss: 13.0960 - acc: 0.1875 - recall: 0.1875 - precision: 0.1875 - fmeasure: 0.1875 - val_loss: 14.6070 - val_acc: 0.0938 - val_recall: 0.0938 - val_precision: 0.0938 - val_fmeasure: 0.0937\n",
      "Epoch 10/1500\n",
      "32/32 [==============================] - 1s - loss: 13.5996 - acc: 0.1562 - recall: 0.1562 - precision: 0.1562 - fmeasure: 0.1562 - val_loss: 14.1033 - val_acc: 0.1250 - val_recall: 0.1250 - val_precision: 0.1250 - val_fmeasure: 0.1250\n",
      "Epoch 11/1500\n",
      "32/32 [==============================] - 1s - loss: 13.0960 - acc: 0.1875 - recall: 0.1875 - precision: 0.1875 - fmeasure: 0.1875 - val_loss: 14.1033 - val_acc: 0.1250 - val_recall: 0.1250 - val_precision: 0.1250 - val_fmeasure: 0.1250\n",
      "Epoch 12/1500\n",
      "32/32 [==============================] - 1s - loss: 13.5996 - acc: 0.1562 - recall: 0.1562 - precision: 0.1562 - fmeasure: 0.1562 - val_loss: 13.5996 - val_acc: 0.1562 - val_recall: 0.1562 - val_precision: 0.1562 - val_fmeasure: 0.1562\n",
      "Epoch 13/1500\n",
      "32/32 [==============================] - 1s - loss: 12.5923 - acc: 0.2188 - recall: 0.2188 - precision: 0.2188 - fmeasure: 0.2187 - val_loss: 13.5996 - val_acc: 0.1562 - val_recall: 0.1562 - val_precision: 0.1562 - val_fmeasure: 0.1562\n",
      "Epoch 14/1500\n",
      "32/32 [==============================] - 1s - loss: 14.6070 - acc: 0.0938 - recall: 0.0938 - precision: 0.0938 - fmeasure: 0.0937 - val_loss: 12.5923 - val_acc: 0.2188 - val_recall: 0.2188 - val_precision: 0.2188 - val_fmeasure: 0.2187\n",
      "Epoch 15/1500\n",
      "32/32 [==============================] - 1s - loss: 15.1107 - acc: 0.0625 - recall: 0.0625 - precision: 0.0625 - fmeasure: 0.0625 - val_loss: 13.5996 - val_acc: 0.1562 - val_recall: 0.1562 - val_precision: 0.1562 - val_fmeasure: 0.1562\n",
      "Epoch 16/1500\n",
      "32/32 [==============================] - 1s - loss: 14.1033 - acc: 0.1250 - recall: 0.1250 - precision: 0.1250 - fmeasure: 0.1250 - val_loss: 14.1033 - val_acc: 0.1250 - val_recall: 0.1250 - val_precision: 0.1250 - val_fmeasure: 0.1250\n",
      "Epoch 17/1500\n",
      "32/32 [==============================] - 1s - loss: 14.1033 - acc: 0.1250 - recall: 0.1250 - precision: 0.1250 - fmeasure: 0.1250 - val_loss: 13.0960 - val_acc: 0.1875 - val_recall: 0.1875 - val_precision: 0.1875 - val_fmeasure: 0.1875\n",
      "Epoch 18/1500\n",
      "32/32 [==============================] - 1s - loss: 14.1033 - acc: 0.1250 - recall: 0.1250 - precision: 0.1250 - fmeasure: 0.1250 - val_loss: 15.1107 - val_acc: 0.0625 - val_recall: 0.0625 - val_precision: 0.0625 - val_fmeasure: 0.0625\n",
      "Epoch 19/1500\n",
      "32/32 [==============================] - 1s - loss: 13.0960 - acc: 0.1875 - recall: 0.1875 - precision: 0.1875 - fmeasure: 0.1875 - val_loss: 13.0960 - val_acc: 0.1875 - val_recall: 0.1875 - val_precision: 0.1875 - val_fmeasure: 0.1875\n",
      "Epoch 20/1500\n",
      "32/32 [==============================] - 1s - loss: 13.5996 - acc: 0.1562 - recall: 0.1562 - precision: 0.1562 - fmeasure: 0.1562 - val_loss: 13.0960 - val_acc: 0.1875 - val_recall: 0.1875 - val_precision: 0.1875 - val_fmeasure: 0.1875\n",
      "Epoch 21/1500\n",
      "32/32 [==============================] - 1s - loss: 14.6070 - acc: 0.0938 - recall: 0.0938 - precision: 0.0938 - fmeasure: 0.0937 - val_loss: 14.1033 - val_acc: 0.1250 - val_recall: 0.1250 - val_precision: 0.1250 - val_fmeasure: 0.1250\n",
      "Epoch 22/1500\n",
      "32/32 [==============================] - 1s - loss: 14.6070 - acc: 0.0938 - recall: 0.0938 - precision: 0.0938 - fmeasure: 0.0937 - val_loss: 14.1033 - val_acc: 0.1250 - val_recall: 0.1250 - val_precision: 0.1250 - val_fmeasure: 0.1250\n",
      "Epoch 23/1500\n",
      "32/32 [==============================] - 1s - loss: 14.6070 - acc: 0.0938 - recall: 0.0938 - precision: 0.0938 - fmeasure: 0.0937 - val_loss: 15.1107 - val_acc: 0.0625 - val_recall: 0.0625 - val_precision: 0.0625 - val_fmeasure: 0.0625\n",
      "Epoch 24/1500\n",
      "32/32 [==============================] - 1s - loss: 13.5996 - acc: 0.1562 - recall: 0.1562 - precision: 0.1562 - fmeasure: 0.1562 - val_loss: 14.6070 - val_acc: 0.0938 - val_recall: 0.0938 - val_precision: 0.0938 - val_fmeasure: 0.0937\n",
      "Epoch 25/1500\n",
      "32/32 [==============================] - 1s - loss: 13.0960 - acc: 0.1875 - recall: 0.1875 - precision: 0.1875 - fmeasure: 0.1875 - val_loss: 15.1107 - val_acc: 0.0625 - val_recall: 0.0625 - val_precision: 0.0625 - val_fmeasure: 0.0625\n",
      "Epoch 26/1500\n",
      "32/32 [==============================] - 1s - loss: 13.0960 - acc: 0.1875 - recall: 0.1875 - precision: 0.1875 - fmeasure: 0.1875 - val_loss: 15.1107 - val_acc: 0.0625 - val_recall: 0.0625 - val_precision: 0.0625 - val_fmeasure: 0.0625\n",
      "Epoch 27/1500\n",
      "32/32 [==============================] - 1s - loss: 13.0960 - acc: 0.1875 - recall: 0.1875 - precision: 0.1875 - fmeasure: 0.1875 - val_loss: 13.5996 - val_acc: 0.1562 - val_recall: 0.1562 - val_precision: 0.1562 - val_fmeasure: 0.1562\n",
      "Epoch 28/1500\n",
      "32/32 [==============================] - 1s - loss: 13.5996 - acc: 0.1562 - recall: 0.1562 - precision: 0.1562 - fmeasure: 0.1562 - val_loss: 14.1033 - val_acc: 0.1250 - val_recall: 0.1250 - val_precision: 0.1250 - val_fmeasure: 0.1250\n",
      "Epoch 29/1500\n",
      "32/32 [==============================] - 1s - loss: 14.1033 - acc: 0.1250 - recall: 0.1250 - precision: 0.1250 - fmeasure: 0.1250 - val_loss: 14.1033 - val_acc: 0.1250 - val_recall: 0.1250 - val_precision: 0.1250 - val_fmeasure: 0.1250\n",
      "Epoch 30/1500\n",
      "32/32 [==============================] - 1s - loss: 15.1107 - acc: 0.0625 - recall: 0.0625 - precision: 0.0625 - fmeasure: 0.0625 - val_loss: 13.0960 - val_acc: 0.1875 - val_recall: 0.1875 - val_precision: 0.1875 - val_fmeasure: 0.1875\n",
      "Epoch 31/1500\n",
      "32/32 [==============================] - 1s - loss: 15.1107 - acc: 0.0625 - recall: 0.0625 - precision: 0.0625 - fmeasure: 0.0625 - val_loss: 15.6144 - val_acc: 0.0312 - val_recall: 0.0312 - val_precision: 0.0312 - val_fmeasure: 0.0312\n",
      "Epoch 32/1500\n",
      "32/32 [==============================] - 1s - loss: 13.5996 - acc: 0.1562 - recall: 0.1562 - precision: 0.1562 - fmeasure: 0.1562 - val_loss: 12.0886 - val_acc: 0.2500 - val_recall: 0.2500 - val_precision: 0.2500 - val_fmeasure: 0.2500\n",
      "Epoch 33/1500\n",
      "32/32 [==============================] - 1s - loss: 15.1107 - acc: 0.0625 - recall: 0.0625 - precision: 0.0625 - fmeasure: 0.0625 - val_loss: 13.5996 - val_acc: 0.1562 - val_recall: 0.1562 - val_precision: 0.1562 - val_fmeasure: 0.1562\n",
      "Epoch 34/1500\n",
      "32/32 [==============================] - 1s - loss: 14.6070 - acc: 0.0938 - recall: 0.0938 - precision: 0.0938 - fmeasure: 0.0937 - val_loss: 15.6144 - val_acc: 0.0312 - val_recall: 0.0312 - val_precision: 0.0312 - val_fmeasure: 0.0312\n",
      "Epoch 35/1500\n",
      "32/32 [==============================] - 1s - loss: 14.6070 - acc: 0.0938 - recall: 0.0938 - precision: 0.0938 - fmeasure: 0.0937 - val_loss: 14.6070 - val_acc: 0.0938 - val_recall: 0.0938 - val_precision: 0.0938 - val_fmeasure: 0.0937\n",
      "Epoch 36/1500\n",
      "32/32 [==============================] - 1s - loss: 14.1033 - acc: 0.1250 - recall: 0.1250 - precision: 0.1250 - fmeasure: 0.1250 - val_loss: 15.1107 - val_acc: 0.0625 - val_recall: 0.0625 - val_precision: 0.0625 - val_fmeasure: 0.0625\n",
      "Epoch 37/1500\n",
      "32/32 [==============================] - 1s - loss: 14.6070 - acc: 0.0938 - recall: 0.0938 - precision: 0.0938 - fmeasure: 0.0937 - val_loss: 11.5849 - val_acc: 0.2812 - val_recall: 0.2812 - val_precision: 0.2812 - val_fmeasure: 0.2812\n",
      "Epoch 38/1500\n",
      "32/32 [==============================] - 1s - loss: 14.6070 - acc: 0.0938 - recall: 0.0938 - precision: 0.0938 - fmeasure: 0.0937 - val_loss: 15.1107 - val_acc: 0.0625 - val_recall: 0.0625 - val_precision: 0.0625 - val_fmeasure: 0.0625\n",
      "Epoch 39/1500\n",
      "32/32 [==============================] - 1s - loss: 14.1033 - acc: 0.1250 - recall: 0.1250 - precision: 0.1250 - fmeasure: 0.1250 - val_loss: 13.5996 - val_acc: 0.1562 - val_recall: 0.1562 - val_precision: 0.1562 - val_fmeasure: 0.1562\n",
      "Epoch 40/1500\n",
      "32/32 [==============================] - 1s - loss: 14.1033 - acc: 0.1250 - recall: 0.1250 - precision: 0.1250 - fmeasure: 0.1250 - val_loss: 14.6070 - val_acc: 0.0938 - val_recall: 0.0938 - val_precision: 0.0938 - val_fmeasure: 0.0937\n",
      "Epoch 41/1500\n",
      "32/32 [==============================] - 1s - loss: 14.1033 - acc: 0.1250 - recall: 0.1250 - precision: 0.1250 - fmeasure: 0.1250 - val_loss: 13.5996 - val_acc: 0.1562 - val_recall: 0.1562 - val_precision: 0.1562 - val_fmeasure: 0.1562\n",
      "Epoch 42/1500\n",
      "32/32 [==============================] - 1s - loss: 11.5849 - acc: 0.2812 - recall: 0.2812 - precision: 0.2812 - fmeasure: 0.2812 - val_loss: 14.6070 - val_acc: 0.0938 - val_recall: 0.0938 - val_precision: 0.0938 - val_fmeasure: 0.0937\n",
      "Epoch 43/1500\n",
      "32/32 [==============================] - 1s - loss: 14.1033 - acc: 0.1250 - recall: 0.1250 - precision: 0.1250 - fmeasure: 0.1250 - val_loss: 15.6144 - val_acc: 0.0312 - val_recall: 0.0312 - val_precision: 0.0312 - val_fmeasure: 0.0312\n",
      "Epoch 44/1500\n",
      "32/32 [==============================] - 1s - loss: 14.1033 - acc: 0.1250 - recall: 0.1250 - precision: 0.1250 - fmeasure: 0.1250 - val_loss: 13.5996 - val_acc: 0.1562 - val_recall: 0.1562 - val_precision: 0.1562 - val_fmeasure: 0.1562\n",
      "Epoch 45/1500\n",
      "32/32 [==============================] - 1s - loss: 12.5923 - acc: 0.2188 - recall: 0.2188 - precision: 0.2188 - fmeasure: 0.2187 - val_loss: 13.5996 - val_acc: 0.1562 - val_recall: 0.1562 - val_precision: 0.1562 - val_fmeasure: 0.1562\n",
      "Epoch 46/1500\n",
      "32/32 [==============================] - 1s - loss: 13.5996 - acc: 0.1562 - recall: 0.1562 - precision: 0.1562 - fmeasure: 0.1562 - val_loss: 15.1107 - val_acc: 0.0625 - val_recall: 0.0625 - val_precision: 0.0625 - val_fmeasure: 0.0625\n",
      "Epoch 47/1500\n",
      "32/32 [==============================] - 1s - loss: 12.0886 - acc: 0.2500 - recall: 0.2500 - precision: 0.2500 - fmeasure: 0.2500 - val_loss: 15.1107 - val_acc: 0.0625 - val_recall: 0.0625 - val_precision: 0.0625 - val_fmeasure: 0.0625\n",
      "Epoch 48/1500\n",
      "32/32 [==============================] - 1s - loss: 14.6070 - acc: 0.0938 - recall: 0.0938 - precision: 0.0938 - fmeasure: 0.0937 - val_loss: 13.0960 - val_acc: 0.1875 - val_recall: 0.1875 - val_precision: 0.1875 - val_fmeasure: 0.1875\n",
      "Epoch 49/1500\n",
      "32/32 [==============================] - 1s - loss: 15.1107 - acc: 0.0625 - recall: 0.0625 - precision: 0.0625 - fmeasure: 0.0625 - val_loss: 14.1033 - val_acc: 0.1250 - val_recall: 0.1250 - val_precision: 0.1250 - val_fmeasure: 0.1250\n",
      "Epoch 50/1500\n",
      "32/32 [==============================] - 1s - loss: 14.6070 - acc: 0.0938 - recall: 0.0938 - precision: 0.0938 - fmeasure: 0.0937 - val_loss: 15.1107 - val_acc: 0.0625 - val_recall: 0.0625 - val_precision: 0.0625 - val_fmeasure: 0.0625\n",
      "Epoch 51/1500\n",
      "32/32 [==============================] - 1s - loss: 13.0960 - acc: 0.1875 - recall: 0.1875 - precision: 0.1875 - fmeasure: 0.1875 - val_loss: 14.6070 - val_acc: 0.0938 - val_recall: 0.0938 - val_precision: 0.0938 - val_fmeasure: 0.0937\n",
      "Epoch 52/1500\n",
      "32/32 [==============================] - 1s - loss: 14.1033 - acc: 0.1250 - recall: 0.1250 - precision: 0.1250 - fmeasure: 0.1250 - val_loss: 13.5996 - val_acc: 0.1562 - val_recall: 0.1562 - val_precision: 0.1562 - val_fmeasure: 0.1562\n",
      "Epoch 53/1500\n",
      "32/32 [==============================] - 1s - loss: 14.1033 - acc: 0.1250 - recall: 0.1250 - precision: 0.1250 - fmeasure: 0.1250 - val_loss: 15.6144 - val_acc: 0.0312 - val_recall: 0.0312 - val_precision: 0.0312 - val_fmeasure: 0.0312\n",
      "Epoch 54/1500\n",
      "32/32 [==============================] - 1s - loss: 14.6070 - acc: 0.0938 - recall: 0.0938 - precision: 0.0938 - fmeasure: 0.0937 - val_loss: 14.1033 - val_acc: 0.1250 - val_recall: 0.1250 - val_precision: 0.1250 - val_fmeasure: 0.1250\n",
      "Epoch 55/1500\n",
      "32/32 [==============================] - 1s - loss: 13.5996 - acc: 0.1562 - recall: 0.1562 - precision: 0.1562 - fmeasure: 0.1562 - val_loss: 14.1033 - val_acc: 0.1250 - val_recall: 0.1250 - val_precision: 0.1250 - val_fmeasure: 0.1250\n",
      "Epoch 56/1500\n",
      "32/32 [==============================] - 1s - loss: 14.1033 - acc: 0.1250 - recall: 0.1250 - precision: 0.1250 - fmeasure: 0.1250 - val_loss: 13.5996 - val_acc: 0.1562 - val_recall: 0.1562 - val_precision: 0.1562 - val_fmeasure: 0.1562\n",
      "Epoch 57/1500\n",
      "32/32 [==============================] - 1s - loss: 15.1107 - acc: 0.0625 - recall: 0.0625 - precision: 0.0625 - fmeasure: 0.0625 - val_loss: 13.5996 - val_acc: 0.1562 - val_recall: 0.1562 - val_precision: 0.1562 - val_fmeasure: 0.1562\n",
      "Epoch 58/1500\n",
      "32/32 [==============================] - 1s - loss: 15.1107 - acc: 0.0625 - recall: 0.0625 - precision: 0.0625 - fmeasure: 0.0625 - val_loss: 13.0960 - val_acc: 0.1875 - val_recall: 0.1875 - val_precision: 0.1875 - val_fmeasure: 0.1875\n",
      "Epoch 59/1500\n",
      "32/32 [==============================] - 1s - loss: 12.5923 - acc: 0.2188 - recall: 0.2188 - precision: 0.2188 - fmeasure: 0.2187 - val_loss: 15.1107 - val_acc: 0.0625 - val_recall: 0.0625 - val_precision: 0.0625 - val_fmeasure: 0.0625\n",
      "Epoch 60/1500\n",
      "32/32 [==============================] - 1s - loss: 14.6070 - acc: 0.0938 - recall: 0.0938 - precision: 0.0938 - fmeasure: 0.0937 - val_loss: 15.1107 - val_acc: 0.0625 - val_recall: 0.0625 - val_precision: 0.0625 - val_fmeasure: 0.0625\n",
      "Epoch 61/1500\n",
      "32/32 [==============================] - 1s - loss: 14.6070 - acc: 0.0938 - recall: 0.0938 - precision: 0.0938 - fmeasure: 0.0937 - val_loss: 14.6070 - val_acc: 0.0938 - val_recall: 0.0938 - val_precision: 0.0938 - val_fmeasure: 0.0937\n",
      "Epoch 62/1500\n",
      "32/32 [==============================] - 1s - loss: 14.1033 - acc: 0.1250 - recall: 0.1250 - precision: 0.1250 - fmeasure: 0.1250 - val_loss: 15.1107 - val_acc: 0.0625 - val_recall: 0.0625 - val_precision: 0.0625 - val_fmeasure: 0.0625\n",
      "Epoch 63/1500\n",
      "32/32 [==============================] - 1s - loss: 15.1107 - acc: 0.0625 - recall: 0.0625 - precision: 0.0625 - fmeasure: 0.0625 - val_loss: 14.6070 - val_acc: 0.0938 - val_recall: 0.0938 - val_precision: 0.0938 - val_fmeasure: 0.0937\n",
      "Epoch 64/1500\n",
      "32/32 [==============================] - 1s - loss: 14.6070 - acc: 0.0938 - recall: 0.0938 - precision: 0.0938 - fmeasure: 0.0937 - val_loss: 14.6070 - val_acc: 0.0938 - val_recall: 0.0938 - val_precision: 0.0938 - val_fmeasure: 0.0937\n",
      "Epoch 65/1500\n",
      "32/32 [==============================] - 1s - loss: 13.5996 - acc: 0.1562 - recall: 0.1562 - precision: 0.1562 - fmeasure: 0.1562 - val_loss: 13.0960 - val_acc: 0.1875 - val_recall: 0.1875 - val_precision: 0.1875 - val_fmeasure: 0.1875\n",
      "Epoch 66/1500\n",
      "32/32 [==============================] - 1s - loss: 14.6070 - acc: 0.0938 - recall: 0.0938 - precision: 0.0938 - fmeasure: 0.0937 - val_loss: 15.1107 - val_acc: 0.0625 - val_recall: 0.0625 - val_precision: 0.0625 - val_fmeasure: 0.0625\n",
      "Epoch 67/1500\n",
      "32/32 [==============================] - 1s - loss: 15.1107 - acc: 0.0625 - recall: 0.0625 - precision: 0.0625 - fmeasure: 0.0625 - val_loss: 15.1107 - val_acc: 0.0625 - val_recall: 0.0625 - val_precision: 0.0625 - val_fmeasure: 0.0625\n",
      "Epoch 68/1500\n",
      "32/32 [==============================] - 1s - loss: 13.5996 - acc: 0.1562 - recall: 0.1562 - precision: 0.1562 - fmeasure: 0.1562 - val_loss: 13.0960 - val_acc: 0.1875 - val_recall: 0.1875 - val_precision: 0.1875 - val_fmeasure: 0.1875\n",
      "Epoch 69/1500\n",
      "32/32 [==============================] - 1s - loss: 13.5996 - acc: 0.1562 - recall: 0.1562 - precision: 0.1562 - fmeasure: 0.1562 - val_loss: 13.5996 - val_acc: 0.1562 - val_recall: 0.1562 - val_precision: 0.1562 - val_fmeasure: 0.1562\n",
      "Epoch 70/1500\n",
      "32/32 [==============================] - 1s - loss: 15.1107 - acc: 0.0625 - recall: 0.0625 - precision: 0.0625 - fmeasure: 0.0625 - val_loss: 14.1033 - val_acc: 0.1250 - val_recall: 0.1250 - val_precision: 0.1250 - val_fmeasure: 0.1250\n",
      "Epoch 71/1500\n",
      "32/32 [==============================] - 1s - loss: 14.6070 - acc: 0.0938 - recall: 0.0938 - precision: 0.0938 - fmeasure: 0.0937 - val_loss: 14.6070 - val_acc: 0.0938 - val_recall: 0.0938 - val_precision: 0.0938 - val_fmeasure: 0.0937\n",
      "Epoch 72/1500\n",
      "32/32 [==============================] - 1s - loss: 13.5996 - acc: 0.1562 - recall: 0.1562 - precision: 0.1562 - fmeasure: 0.1562 - val_loss: 12.5923 - val_acc: 0.2188 - val_recall: 0.2188 - val_precision: 0.2188 - val_fmeasure: 0.2187\n",
      "Epoch 73/1500\n",
      "32/32 [==============================] - 1s - loss: 11.0812 - acc: 0.3125 - recall: 0.3125 - precision: 0.3125 - fmeasure: 0.3125 - val_loss: 14.1033 - val_acc: 0.1250 - val_recall: 0.1250 - val_precision: 0.1250 - val_fmeasure: 0.1250\n",
      "Epoch 74/1500\n",
      "32/32 [==============================] - 1s - loss: 13.5996 - acc: 0.1562 - recall: 0.1562 - precision: 0.1562 - fmeasure: 0.1562 - val_loss: 15.1107 - val_acc: 0.0625 - val_recall: 0.0625 - val_precision: 0.0625 - val_fmeasure: 0.0625\n",
      "Epoch 75/1500\n",
      "32/32 [==============================] - 1s - loss: 15.6144 - acc: 0.0312 - recall: 0.0312 - precision: 0.0312 - fmeasure: 0.0312 - val_loss: 14.1033 - val_acc: 0.1250 - val_recall: 0.1250 - val_precision: 0.1250 - val_fmeasure: 0.1250\n",
      "Epoch 76/1500\n",
      "32/32 [==============================] - 1s - loss: 13.5996 - acc: 0.1562 - recall: 0.1562 - precision: 0.1562 - fmeasure: 0.1562 - val_loss: 14.6070 - val_acc: 0.0938 - val_recall: 0.0938 - val_precision: 0.0938 - val_fmeasure: 0.0937\n",
      "Epoch 77/1500\n",
      "32/32 [==============================] - 1s - loss: 13.5996 - acc: 0.1562 - recall: 0.1562 - precision: 0.1562 - fmeasure: 0.1562 - val_loss: 14.6070 - val_acc: 0.0938 - val_recall: 0.0938 - val_precision: 0.0938 - val_fmeasure: 0.0937\n",
      "Epoch 78/1500\n",
      "32/32 [==============================] - 1s - loss: 13.0960 - acc: 0.1875 - recall: 0.1875 - precision: 0.1875 - fmeasure: 0.1875 - val_loss: 14.6070 - val_acc: 0.0938 - val_recall: 0.0938 - val_precision: 0.0938 - val_fmeasure: 0.0937\n",
      "Epoch 79/1500\n",
      "32/32 [==============================] - 1s - loss: 15.1107 - acc: 0.0625 - recall: 0.0625 - precision: 0.0625 - fmeasure: 0.0625 - val_loss: 13.5996 - val_acc: 0.1562 - val_recall: 0.1562 - val_precision: 0.1562 - val_fmeasure: 0.1562\n",
      "Epoch 80/1500\n",
      "32/32 [==============================] - 1s - loss: 13.0960 - acc: 0.1875 - recall: 0.1875 - precision: 0.1875 - fmeasure: 0.1875 - val_loss: 13.5996 - val_acc: 0.1562 - val_recall: 0.1562 - val_precision: 0.1562 - val_fmeasure: 0.1562\n",
      "Epoch 81/1500\n",
      "32/32 [==============================] - 1s - loss: 14.6070 - acc: 0.0938 - recall: 0.0938 - precision: 0.0938 - fmeasure: 0.0937 - val_loss: 16.1181 - val_acc: 0.0000e+00 - val_recall: 0.0000e+00 - val_precision: 0.0000e+00 - val_fmeasure: 0.0000e+00\n",
      "Epoch 82/1500\n",
      "32/32 [==============================] - 1s - loss: 14.1033 - acc: 0.1250 - recall: 0.1250 - precision: 0.1250 - fmeasure: 0.1250 - val_loss: 14.6070 - val_acc: 0.0938 - val_recall: 0.0938 - val_precision: 0.0938 - val_fmeasure: 0.0937\n",
      "Epoch 83/1500\n",
      "32/32 [==============================] - 1s - loss: 13.5996 - acc: 0.1562 - recall: 0.1562 - precision: 0.1562 - fmeasure: 0.1562 - val_loss: 14.6070 - val_acc: 0.0938 - val_recall: 0.0938 - val_precision: 0.0938 - val_fmeasure: 0.0937\n",
      "Epoch 84/1500\n",
      "32/32 [==============================] - 1s - loss: 15.1107 - acc: 0.0625 - recall: 0.0625 - precision: 0.0625 - fmeasure: 0.0625 - val_loss: 13.5996 - val_acc: 0.1562 - val_recall: 0.1562 - val_precision: 0.1562 - val_fmeasure: 0.1562\n",
      "Epoch 85/1500\n",
      "32/32 [==============================] - 1s - loss: 13.5996 - acc: 0.1562 - recall: 0.1562 - precision: 0.1562 - fmeasure: 0.1562 - val_loss: 11.5849 - val_acc: 0.2812 - val_recall: 0.2812 - val_precision: 0.2812 - val_fmeasure: 0.2812\n",
      "Epoch 86/1500\n",
      "32/32 [==============================] - 1s - loss: 16.1181 - acc: 0.0000e+00 - recall: 0.0000e+00 - precision: 0.0000e+00 - fmeasure: 0.0000e+00 - val_loss: 15.6144 - val_acc: 0.0312 - val_recall: 0.0312 - val_precision: 0.0312 - val_fmeasure: 0.0312\n",
      "Epoch 87/1500\n",
      "32/32 [==============================] - 1s - loss: 13.5996 - acc: 0.1562 - recall: 0.1562 - precision: 0.1562 - fmeasure: 0.1562 - val_loss: 14.1033 - val_acc: 0.1250 - val_recall: 0.1250 - val_precision: 0.1250 - val_fmeasure: 0.1250\n",
      "Epoch 88/1500\n",
      "32/32 [==============================] - 1s - loss: 14.1033 - acc: 0.1250 - recall: 0.1250 - precision: 0.1250 - fmeasure: 0.1250 - val_loss: 14.6070 - val_acc: 0.0938 - val_recall: 0.0938 - val_precision: 0.0938 - val_fmeasure: 0.0937\n",
      "Epoch 89/1500\n",
      "32/32 [==============================] - 1s - loss: 13.5996 - acc: 0.1562 - recall: 0.1562 - precision: 0.1562 - fmeasure: 0.1562 - val_loss: 13.5996 - val_acc: 0.1562 - val_recall: 0.1562 - val_precision: 0.1562 - val_fmeasure: 0.1562\n",
      "Epoch 90/1500\n",
      "32/32 [==============================] - 1s - loss: 15.1107 - acc: 0.0625 - recall: 0.0625 - precision: 0.0625 - fmeasure: 0.0625 - val_loss: 14.1033 - val_acc: 0.1250 - val_recall: 0.1250 - val_precision: 0.1250 - val_fmeasure: 0.1250\n",
      "Epoch 91/1500\n",
      "32/32 [==============================] - 1s - loss: 13.5996 - acc: 0.1562 - recall: 0.1562 - precision: 0.1562 - fmeasure: 0.1562 - val_loss: 15.1107 - val_acc: 0.0625 - val_recall: 0.0625 - val_precision: 0.0625 - val_fmeasure: 0.0625\n",
      "Epoch 92/1500\n",
      "32/32 [==============================] - 1s - loss: 15.6144 - acc: 0.0312 - recall: 0.0312 - precision: 0.0312 - fmeasure: 0.0312 - val_loss: 12.5923 - val_acc: 0.2188 - val_recall: 0.2188 - val_precision: 0.2188 - val_fmeasure: 0.2187\n",
      "Epoch 93/1500\n",
      "32/32 [==============================] - 1s - loss: 13.5996 - acc: 0.1562 - recall: 0.1562 - precision: 0.1562 - fmeasure: 0.1562 - val_loss: 14.6070 - val_acc: 0.0938 - val_recall: 0.0938 - val_precision: 0.0938 - val_fmeasure: 0.0937\n",
      "Epoch 94/1500\n",
      "32/32 [==============================] - 1s - loss: 13.0960 - acc: 0.1875 - recall: 0.1875 - precision: 0.1875 - fmeasure: 0.1875 - val_loss: 14.6070 - val_acc: 0.0938 - val_recall: 0.0938 - val_precision: 0.0938 - val_fmeasure: 0.0937\n",
      "Epoch 95/1500\n",
      "32/32 [==============================] - 1s - loss: 14.6070 - acc: 0.0938 - recall: 0.0938 - precision: 0.0938 - fmeasure: 0.0937 - val_loss: 13.0960 - val_acc: 0.1875 - val_recall: 0.1875 - val_precision: 0.1875 - val_fmeasure: 0.1875\n",
      "Epoch 96/1500\n",
      "32/32 [==============================] - 1s - loss: 14.6070 - acc: 0.0938 - recall: 0.0938 - precision: 0.0938 - fmeasure: 0.0937 - val_loss: 13.0960 - val_acc: 0.1875 - val_recall: 0.1875 - val_precision: 0.1875 - val_fmeasure: 0.1875\n",
      "Epoch 97/1500\n",
      "32/32 [==============================] - 1s - loss: 15.1107 - acc: 0.0625 - recall: 0.0625 - precision: 0.0625 - fmeasure: 0.0625 - val_loss: 12.0886 - val_acc: 0.2500 - val_recall: 0.2500 - val_precision: 0.2500 - val_fmeasure: 0.2500\n",
      "Epoch 98/1500\n",
      "32/32 [==============================] - 1s - loss: 15.6144 - acc: 0.0312 - recall: 0.0312 - precision: 0.0312 - fmeasure: 0.0312 - val_loss: 15.1107 - val_acc: 0.0625 - val_recall: 0.0625 - val_precision: 0.0625 - val_fmeasure: 0.0625\n",
      "Epoch 99/1500\n",
      "32/32 [==============================] - 1s - loss: 14.6070 - acc: 0.0938 - recall: 0.0938 - precision: 0.0938 - fmeasure: 0.0937 - val_loss: 12.0886 - val_acc: 0.2500 - val_recall: 0.2500 - val_precision: 0.2500 - val_fmeasure: 0.2500\n",
      "Epoch 100/1500\n",
      "32/32 [==============================] - 1s - loss: 15.6144 - acc: 0.0312 - recall: 0.0312 - precision: 0.0312 - fmeasure: 0.0312 - val_loss: 14.1033 - val_acc: 0.1250 - val_recall: 0.1250 - val_precision: 0.1250 - val_fmeasure: 0.1250\n",
      "Epoch 101/1500\n",
      "32/32 [==============================] - 1s - loss: 14.1033 - acc: 0.1250 - recall: 0.1250 - precision: 0.1250 - fmeasure: 0.1250 - val_loss: 13.5996 - val_acc: 0.1562 - val_recall: 0.1562 - val_precision: 0.1562 - val_fmeasure: 0.1562\n",
      "Epoch 102/1500\n",
      "32/32 [==============================] - 1s - loss: 13.5996 - acc: 0.1562 - recall: 0.1562 - precision: 0.1562 - fmeasure: 0.1562 - val_loss: 14.6070 - val_acc: 0.0938 - val_recall: 0.0938 - val_precision: 0.0938 - val_fmeasure: 0.0937\n",
      "Epoch 103/1500\n",
      "32/32 [==============================] - 1s - loss: 14.6070 - acc: 0.0938 - recall: 0.0938 - precision: 0.0938 - fmeasure: 0.0937 - val_loss: 14.6070 - val_acc: 0.0938 - val_recall: 0.0938 - val_precision: 0.0938 - val_fmeasure: 0.0937\n",
      "Epoch 104/1500\n",
      "32/32 [==============================] - 1s - loss: 13.0960 - acc: 0.1875 - recall: 0.1875 - precision: 0.1875 - fmeasure: 0.1875 - val_loss: 12.5923 - val_acc: 0.2188 - val_recall: 0.2188 - val_precision: 0.2188 - val_fmeasure: 0.2187\n",
      "Epoch 105/1500\n",
      "32/32 [==============================] - 1s - loss: 13.0960 - acc: 0.1875 - recall: 0.1875 - precision: 0.1875 - fmeasure: 0.1875 - val_loss: 14.6070 - val_acc: 0.0938 - val_recall: 0.0938 - val_precision: 0.0938 - val_fmeasure: 0.0937\n",
      "Epoch 106/1500\n",
      "32/32 [==============================] - 1s - loss: 12.5923 - acc: 0.2188 - recall: 0.2188 - precision: 0.2188 - fmeasure: 0.2187 - val_loss: 13.5996 - val_acc: 0.1562 - val_recall: 0.1562 - val_precision: 0.1562 - val_fmeasure: 0.1562\n",
      "Epoch 107/1500\n",
      "32/32 [==============================] - 1s - loss: 15.1107 - acc: 0.0625 - recall: 0.0625 - precision: 0.0625 - fmeasure: 0.0625 - val_loss: 14.6070 - val_acc: 0.0938 - val_recall: 0.0938 - val_precision: 0.0938 - val_fmeasure: 0.0937\n",
      "Epoch 108/1500\n",
      "32/32 [==============================] - 1s - loss: 14.6070 - acc: 0.0938 - recall: 0.0938 - precision: 0.0938 - fmeasure: 0.0937 - val_loss: 12.5923 - val_acc: 0.2188 - val_recall: 0.2188 - val_precision: 0.2188 - val_fmeasure: 0.2187\n",
      "Epoch 109/1500\n",
      "32/32 [==============================] - 1s - loss: 15.6144 - acc: 0.0312 - recall: 0.0312 - precision: 0.0312 - fmeasure: 0.0312 - val_loss: 14.6070 - val_acc: 0.0938 - val_recall: 0.0938 - val_precision: 0.0938 - val_fmeasure: 0.0937\n",
      "Epoch 110/1500\n",
      "32/32 [==============================] - 1s - loss: 12.5923 - acc: 0.2188 - recall: 0.2188 - precision: 0.2188 - fmeasure: 0.2187 - val_loss: 14.1033 - val_acc: 0.1250 - val_recall: 0.1250 - val_precision: 0.1250 - val_fmeasure: 0.1250\n",
      "Epoch 111/1500\n",
      "32/32 [==============================] - 1s - loss: 15.1107 - acc: 0.0625 - recall: 0.0625 - precision: 0.0625 - fmeasure: 0.0625 - val_loss: 15.6144 - val_acc: 0.0312 - val_recall: 0.0312 - val_precision: 0.0312 - val_fmeasure: 0.0312\n",
      "Epoch 112/1500\n",
      "32/32 [==============================] - 1s - loss: 15.1107 - acc: 0.0625 - recall: 0.0625 - precision: 0.0625 - fmeasure: 0.0625 - val_loss: 14.6070 - val_acc: 0.0938 - val_recall: 0.0938 - val_precision: 0.0938 - val_fmeasure: 0.0937\n",
      "Epoch 113/1500\n",
      "32/32 [==============================] - 1s - loss: 14.6070 - acc: 0.0938 - recall: 0.0938 - precision: 0.0938 - fmeasure: 0.0937 - val_loss: 14.1033 - val_acc: 0.1250 - val_recall: 0.1250 - val_precision: 0.1250 - val_fmeasure: 0.1250\n",
      "Epoch 114/1500\n",
      "32/32 [==============================] - 1s - loss: 15.1107 - acc: 0.0625 - recall: 0.0625 - precision: 0.0625 - fmeasure: 0.0625 - val_loss: 13.5996 - val_acc: 0.1562 - val_recall: 0.1562 - val_precision: 0.1562 - val_fmeasure: 0.1562\n",
      "Epoch 115/1500\n",
      "32/32 [==============================] - 1s - loss: 15.1107 - acc: 0.0625 - recall: 0.0625 - precision: 0.0625 - fmeasure: 0.0625 - val_loss: 14.6070 - val_acc: 0.0938 - val_recall: 0.0938 - val_precision: 0.0938 - val_fmeasure: 0.0937\n",
      "Epoch 116/1500\n",
      "32/32 [==============================] - 1s - loss: 15.1107 - acc: 0.0625 - recall: 0.0625 - precision: 0.0625 - fmeasure: 0.0625 - val_loss: 14.6070 - val_acc: 0.0938 - val_recall: 0.0938 - val_precision: 0.0938 - val_fmeasure: 0.0937\n",
      "Epoch 117/1500\n",
      "32/32 [==============================] - 1s - loss: 13.5996 - acc: 0.1562 - recall: 0.1562 - precision: 0.1562 - fmeasure: 0.1562 - val_loss: 11.5849 - val_acc: 0.2812 - val_recall: 0.2812 - val_precision: 0.2812 - val_fmeasure: 0.2812\n",
      "Epoch 118/1500\n",
      "32/32 [==============================] - 1s - loss: 13.0960 - acc: 0.1875 - recall: 0.1875 - precision: 0.1875 - fmeasure: 0.1875 - val_loss: 15.1107 - val_acc: 0.0625 - val_recall: 0.0625 - val_precision: 0.0625 - val_fmeasure: 0.0625\n",
      "Epoch 119/1500\n",
      "32/32 [==============================] - 1s - loss: 13.0960 - acc: 0.1875 - recall: 0.1875 - precision: 0.1875 - fmeasure: 0.1875 - val_loss: 13.5996 - val_acc: 0.1562 - val_recall: 0.1562 - val_precision: 0.1562 - val_fmeasure: 0.1562\n",
      "Epoch 120/1500\n",
      "32/32 [==============================] - 1s - loss: 13.5996 - acc: 0.1562 - recall: 0.1562 - precision: 0.1562 - fmeasure: 0.1562 - val_loss: 15.1107 - val_acc: 0.0625 - val_recall: 0.0625 - val_precision: 0.0625 - val_fmeasure: 0.0625\n",
      "Epoch 121/1500\n",
      "32/32 [==============================] - 1s - loss: 14.1033 - acc: 0.1250 - recall: 0.1250 - precision: 0.1250 - fmeasure: 0.1250 - val_loss: 13.5996 - val_acc: 0.1562 - val_recall: 0.1562 - val_precision: 0.1562 - val_fmeasure: 0.1562\n",
      "Epoch 122/1500\n",
      "32/32 [==============================] - 1s - loss: 14.6070 - acc: 0.0938 - recall: 0.0938 - precision: 0.0938 - fmeasure: 0.0937 - val_loss: 14.6070 - val_acc: 0.0938 - val_recall: 0.0938 - val_precision: 0.0938 - val_fmeasure: 0.0937\n",
      "Epoch 123/1500\n",
      "32/32 [==============================] - 1s - loss: 14.1033 - acc: 0.1250 - recall: 0.1250 - precision: 0.1250 - fmeasure: 0.1250 - val_loss: 13.5996 - val_acc: 0.1562 - val_recall: 0.1562 - val_precision: 0.1562 - val_fmeasure: 0.1562\n",
      "Epoch 124/1500\n",
      "32/32 [==============================] - 1s - loss: 12.0886 - acc: 0.2500 - recall: 0.2500 - precision: 0.2500 - fmeasure: 0.2500 - val_loss: 13.5996 - val_acc: 0.1562 - val_recall: 0.1562 - val_precision: 0.1562 - val_fmeasure: 0.1562\n",
      "Epoch 125/1500\n",
      "32/32 [==============================] - 1s - loss: 13.5996 - acc: 0.1562 - recall: 0.1562 - precision: 0.1562 - fmeasure: 0.1562 - val_loss: 13.5996 - val_acc: 0.1562 - val_recall: 0.1562 - val_precision: 0.1562 - val_fmeasure: 0.1562\n",
      "Epoch 126/1500\n",
      "32/32 [==============================] - 1s - loss: 14.6070 - acc: 0.0938 - recall: 0.0938 - precision: 0.0938 - fmeasure: 0.0937 - val_loss: 15.1107 - val_acc: 0.0625 - val_recall: 0.0625 - val_precision: 0.0625 - val_fmeasure: 0.0625\n",
      "Epoch 127/1500\n",
      "32/32 [==============================] - 1s - loss: 15.1107 - acc: 0.0625 - recall: 0.0625 - precision: 0.0625 - fmeasure: 0.0625 - val_loss: 13.0960 - val_acc: 0.1875 - val_recall: 0.1875 - val_precision: 0.1875 - val_fmeasure: 0.1875\n",
      "Epoch 128/1500\n",
      "32/32 [==============================] - 1s - loss: 13.5996 - acc: 0.1562 - recall: 0.1562 - precision: 0.1562 - fmeasure: 0.1562 - val_loss: 12.5923 - val_acc: 0.2188 - val_recall: 0.2188 - val_precision: 0.2188 - val_fmeasure: 0.2187\n",
      "Epoch 129/1500\n",
      "32/32 [==============================] - 1s - loss: 13.5996 - acc: 0.1562 - recall: 0.1562 - precision: 0.1562 - fmeasure: 0.1562 - val_loss: 13.0960 - val_acc: 0.1875 - val_recall: 0.1875 - val_precision: 0.1875 - val_fmeasure: 0.1875\n",
      "Epoch 130/1500\n",
      "32/32 [==============================] - 1s - loss: 13.5996 - acc: 0.1562 - recall: 0.1562 - precision: 0.1562 - fmeasure: 0.1562 - val_loss: 14.6070 - val_acc: 0.0938 - val_recall: 0.0938 - val_precision: 0.0938 - val_fmeasure: 0.0937\n",
      "Epoch 131/1500\n",
      "32/32 [==============================] - 1s - loss: 13.5996 - acc: 0.1562 - recall: 0.1562 - precision: 0.1562 - fmeasure: 0.1562 - val_loss: 15.6144 - val_acc: 0.0312 - val_recall: 0.0312 - val_precision: 0.0312 - val_fmeasure: 0.0312\n",
      "Epoch 132/1500\n",
      "32/32 [==============================] - 1s - loss: 14.6070 - acc: 0.0938 - recall: 0.0938 - precision: 0.0938 - fmeasure: 0.0937 - val_loss: 14.6070 - val_acc: 0.0938 - val_recall: 0.0938 - val_precision: 0.0938 - val_fmeasure: 0.0937\n",
      "Epoch 133/1500\n",
      "32/32 [==============================] - 1s - loss: 14.6070 - acc: 0.0938 - recall: 0.0938 - precision: 0.0938 - fmeasure: 0.0937 - val_loss: 13.0960 - val_acc: 0.1875 - val_recall: 0.1875 - val_precision: 0.1875 - val_fmeasure: 0.1875\n",
      "Epoch 134/1500\n",
      "32/32 [==============================] - 1s - loss: 13.5996 - acc: 0.1562 - recall: 0.1562 - precision: 0.1562 - fmeasure: 0.1562 - val_loss: 13.0960 - val_acc: 0.1875 - val_recall: 0.1875 - val_precision: 0.1875 - val_fmeasure: 0.1875\n",
      "Epoch 135/1500\n",
      "32/32 [==============================] - 1s - loss: 13.0960 - acc: 0.1875 - recall: 0.1875 - precision: 0.1875 - fmeasure: 0.1875 - val_loss: 12.0886 - val_acc: 0.2500 - val_recall: 0.2500 - val_precision: 0.2500 - val_fmeasure: 0.2500\n",
      "Epoch 136/1500\n",
      "32/32 [==============================] - 1s - loss: 13.5996 - acc: 0.1562 - recall: 0.1562 - precision: 0.1562 - fmeasure: 0.1562 - val_loss: 14.6070 - val_acc: 0.0938 - val_recall: 0.0938 - val_precision: 0.0938 - val_fmeasure: 0.0937\n",
      "Epoch 137/1500\n",
      "32/32 [==============================] - 1s - loss: 13.0960 - acc: 0.1875 - recall: 0.1875 - precision: 0.1875 - fmeasure: 0.1875 - val_loss: 15.1107 - val_acc: 0.0625 - val_recall: 0.0625 - val_precision: 0.0625 - val_fmeasure: 0.0625\n",
      "Epoch 138/1500\n",
      "32/32 [==============================] - 1s - loss: 13.5996 - acc: 0.1562 - recall: 0.1562 - precision: 0.1562 - fmeasure: 0.1562 - val_loss: 14.6070 - val_acc: 0.0938 - val_recall: 0.0938 - val_precision: 0.0938 - val_fmeasure: 0.0937\n",
      "Epoch 139/1500\n",
      "32/32 [==============================] - 1s - loss: 13.5996 - acc: 0.1562 - recall: 0.1562 - precision: 0.1562 - fmeasure: 0.1562 - val_loss: 12.5923 - val_acc: 0.2188 - val_recall: 0.2188 - val_precision: 0.2188 - val_fmeasure: 0.2187\n",
      "Epoch 140/1500\n",
      "32/32 [==============================] - 1s - loss: 15.6144 - acc: 0.0312 - recall: 0.0312 - precision: 0.0312 - fmeasure: 0.0312 - val_loss: 14.1033 - val_acc: 0.1250 - val_recall: 0.1250 - val_precision: 0.1250 - val_fmeasure: 0.1250\n",
      "Epoch 141/1500\n",
      "32/32 [==============================] - 1s - loss: 15.1107 - acc: 0.0625 - recall: 0.0625 - precision: 0.0625 - fmeasure: 0.0625 - val_loss: 14.1033 - val_acc: 0.1250 - val_recall: 0.1250 - val_precision: 0.1250 - val_fmeasure: 0.1250\n",
      "Epoch 142/1500\n",
      "32/32 [==============================] - 1s - loss: 14.1033 - acc: 0.1250 - recall: 0.1250 - precision: 0.1250 - fmeasure: 0.1250 - val_loss: 11.5849 - val_acc: 0.2812 - val_recall: 0.2812 - val_precision: 0.2812 - val_fmeasure: 0.2812\n",
      "Epoch 143/1500\n",
      "32/32 [==============================] - 1s - loss: 14.1033 - acc: 0.1250 - recall: 0.1250 - precision: 0.1250 - fmeasure: 0.1250 - val_loss: 13.0960 - val_acc: 0.1875 - val_recall: 0.1875 - val_precision: 0.1875 - val_fmeasure: 0.1875\n",
      "Epoch 144/1500\n",
      "32/32 [==============================] - 1s - loss: 14.6070 - acc: 0.0938 - recall: 0.0938 - precision: 0.0938 - fmeasure: 0.0937 - val_loss: 15.1107 - val_acc: 0.0625 - val_recall: 0.0625 - val_precision: 0.0625 - val_fmeasure: 0.0625\n",
      "Epoch 145/1500\n",
      "32/32 [==============================] - 1s - loss: 15.6144 - acc: 0.0312 - recall: 0.0312 - precision: 0.0312 - fmeasure: 0.0312 - val_loss: 14.1033 - val_acc: 0.1250 - val_recall: 0.1250 - val_precision: 0.1250 - val_fmeasure: 0.1250\n",
      "Epoch 146/1500\n",
      "32/32 [==============================] - 1s - loss: 13.0960 - acc: 0.1875 - recall: 0.1875 - precision: 0.1875 - fmeasure: 0.1875 - val_loss: 13.0960 - val_acc: 0.1875 - val_recall: 0.1875 - val_precision: 0.1875 - val_fmeasure: 0.1875\n",
      "Epoch 147/1500\n",
      "32/32 [==============================] - 1s - loss: 14.1033 - acc: 0.1250 - recall: 0.1250 - precision: 0.1250 - fmeasure: 0.1250 - val_loss: 13.0960 - val_acc: 0.1875 - val_recall: 0.1875 - val_precision: 0.1875 - val_fmeasure: 0.1875\n",
      "Epoch 148/1500\n",
      "32/32 [==============================] - 1s - loss: 13.5996 - acc: 0.1562 - recall: 0.1562 - precision: 0.1562 - fmeasure: 0.1562 - val_loss: 14.1033 - val_acc: 0.1250 - val_recall: 0.1250 - val_precision: 0.1250 - val_fmeasure: 0.1250\n",
      "Epoch 149/1500\n",
      "32/32 [==============================] - 1s - loss: 15.1107 - acc: 0.0625 - recall: 0.0625 - precision: 0.0625 - fmeasure: 0.0625 - val_loss: 14.1033 - val_acc: 0.1250 - val_recall: 0.1250 - val_precision: 0.1250 - val_fmeasure: 0.1250\n",
      "Epoch 150/1500\n",
      "32/32 [==============================] - 1s - loss: 14.1033 - acc: 0.1250 - recall: 0.1250 - precision: 0.1250 - fmeasure: 0.1250 - val_loss: 15.6144 - val_acc: 0.0312 - val_recall: 0.0312 - val_precision: 0.0312 - val_fmeasure: 0.0312\n",
      "Epoch 151/1500\n",
      "32/32 [==============================] - 1s - loss: 14.1033 - acc: 0.1250 - recall: 0.1250 - precision: 0.1250 - fmeasure: 0.1250 - val_loss: 14.1033 - val_acc: 0.1250 - val_recall: 0.1250 - val_precision: 0.1250 - val_fmeasure: 0.1250\n",
      "Epoch 152/1500\n",
      "32/32 [==============================] - 1s - loss: 13.5996 - acc: 0.1562 - recall: 0.1562 - precision: 0.1562 - fmeasure: 0.1562 - val_loss: 12.5923 - val_acc: 0.2188 - val_recall: 0.2188 - val_precision: 0.2188 - val_fmeasure: 0.2187\n",
      "Epoch 153/1500\n",
      "32/32 [==============================] - 1s - loss: 13.5996 - acc: 0.1562 - recall: 0.1562 - precision: 0.1562 - fmeasure: 0.1562 - val_loss: 14.1033 - val_acc: 0.1250 - val_recall: 0.1250 - val_precision: 0.1250 - val_fmeasure: 0.1250\n",
      "Epoch 154/1500\n",
      "32/32 [==============================] - 1s - loss: 15.6144 - acc: 0.0312 - recall: 0.0312 - precision: 0.0312 - fmeasure: 0.0312 - val_loss: 15.1107 - val_acc: 0.0625 - val_recall: 0.0625 - val_precision: 0.0625 - val_fmeasure: 0.0625\n",
      "Epoch 155/1500\n",
      "32/32 [==============================] - 1s - loss: 14.6070 - acc: 0.0938 - recall: 0.0938 - precision: 0.0938 - fmeasure: 0.0937 - val_loss: 14.1033 - val_acc: 0.1250 - val_recall: 0.1250 - val_precision: 0.1250 - val_fmeasure: 0.1250\n",
      "Epoch 156/1500\n",
      "32/32 [==============================] - 1s - loss: 14.1033 - acc: 0.1250 - recall: 0.1250 - precision: 0.1250 - fmeasure: 0.1250 - val_loss: 15.6144 - val_acc: 0.0312 - val_recall: 0.0312 - val_precision: 0.0312 - val_fmeasure: 0.0312\n",
      "Epoch 157/1500\n",
      "32/32 [==============================] - 1s - loss: 13.5996 - acc: 0.1562 - recall: 0.1562 - precision: 0.1562 - fmeasure: 0.1562 - val_loss: 13.5996 - val_acc: 0.1562 - val_recall: 0.1562 - val_precision: 0.1562 - val_fmeasure: 0.1562\n",
      "Epoch 158/1500\n",
      "32/32 [==============================] - 1s - loss: 15.6144 - acc: 0.0312 - recall: 0.0312 - precision: 0.0312 - fmeasure: 0.0312 - val_loss: 15.1107 - val_acc: 0.0625 - val_recall: 0.0625 - val_precision: 0.0625 - val_fmeasure: 0.0625\n",
      "Epoch 159/1500\n",
      "32/32 [==============================] - 1s - loss: 12.5923 - acc: 0.2188 - recall: 0.2188 - precision: 0.2188 - fmeasure: 0.2187 - val_loss: 13.5996 - val_acc: 0.1562 - val_recall: 0.1562 - val_precision: 0.1562 - val_fmeasure: 0.1562\n",
      "Epoch 160/1500\n",
      "32/32 [==============================] - 1s - loss: 15.1107 - acc: 0.0625 - recall: 0.0625 - precision: 0.0625 - fmeasure: 0.0625 - val_loss: 15.1107 - val_acc: 0.0625 - val_recall: 0.0625 - val_precision: 0.0625 - val_fmeasure: 0.0625\n",
      "Epoch 161/1500\n",
      "32/32 [==============================] - 1s - loss: 13.5996 - acc: 0.1562 - recall: 0.1562 - precision: 0.1562 - fmeasure: 0.1562 - val_loss: 15.1107 - val_acc: 0.0625 - val_recall: 0.0625 - val_precision: 0.0625 - val_fmeasure: 0.0625\n",
      "Epoch 162/1500\n",
      "32/32 [==============================] - 1s - loss: 14.1033 - acc: 0.1250 - recall: 0.1250 - precision: 0.1250 - fmeasure: 0.1250 - val_loss: 13.5996 - val_acc: 0.1562 - val_recall: 0.1562 - val_precision: 0.1562 - val_fmeasure: 0.1562\n",
      "Epoch 163/1500\n",
      "32/32 [==============================] - 1s - loss: 15.1107 - acc: 0.0625 - recall: 0.0625 - precision: 0.0625 - fmeasure: 0.0625 - val_loss: 14.1033 - val_acc: 0.1250 - val_recall: 0.1250 - val_precision: 0.1250 - val_fmeasure: 0.1250\n",
      "Epoch 164/1500\n",
      "32/32 [==============================] - 1s - loss: 14.6070 - acc: 0.0938 - recall: 0.0938 - precision: 0.0938 - fmeasure: 0.0937 - val_loss: 13.0960 - val_acc: 0.1875 - val_recall: 0.1875 - val_precision: 0.1875 - val_fmeasure: 0.1875\n",
      "Epoch 165/1500\n",
      "32/32 [==============================] - 1s - loss: 14.1033 - acc: 0.1250 - recall: 0.1250 - precision: 0.1250 - fmeasure: 0.1250 - val_loss: 15.1107 - val_acc: 0.0625 - val_recall: 0.0625 - val_precision: 0.0625 - val_fmeasure: 0.0625\n",
      "Epoch 166/1500\n",
      "32/32 [==============================] - 1s - loss: 13.0960 - acc: 0.1875 - recall: 0.1875 - precision: 0.1875 - fmeasure: 0.1875 - val_loss: 14.6070 - val_acc: 0.0938 - val_recall: 0.0938 - val_precision: 0.0938 - val_fmeasure: 0.0937\n",
      "Epoch 167/1500\n",
      "32/32 [==============================] - 1s - loss: 13.5996 - acc: 0.1562 - recall: 0.1562 - precision: 0.1562 - fmeasure: 0.1562 - val_loss: 15.1107 - val_acc: 0.0625 - val_recall: 0.0625 - val_precision: 0.0625 - val_fmeasure: 0.0625\n",
      "Epoch 168/1500\n",
      "32/32 [==============================] - 1s - loss: 12.5923 - acc: 0.2188 - recall: 0.2188 - precision: 0.2188 - fmeasure: 0.2187 - val_loss: 15.6144 - val_acc: 0.0312 - val_recall: 0.0312 - val_precision: 0.0312 - val_fmeasure: 0.0312\n",
      "Epoch 169/1500\n",
      "32/32 [==============================] - 1s - loss: 13.5996 - acc: 0.1562 - recall: 0.1562 - precision: 0.1562 - fmeasure: 0.1562 - val_loss: 13.5996 - val_acc: 0.1562 - val_recall: 0.1562 - val_precision: 0.1562 - val_fmeasure: 0.1562\n",
      "Epoch 170/1500\n",
      "32/32 [==============================] - 1s - loss: 13.0960 - acc: 0.1875 - recall: 0.1875 - precision: 0.1875 - fmeasure: 0.1875 - val_loss: 14.1033 - val_acc: 0.1250 - val_recall: 0.1250 - val_precision: 0.1250 - val_fmeasure: 0.1250\n",
      "Epoch 171/1500\n",
      "32/32 [==============================] - 1s - loss: 13.5996 - acc: 0.1562 - recall: 0.1562 - precision: 0.1562 - fmeasure: 0.1562 - val_loss: 14.1033 - val_acc: 0.1250 - val_recall: 0.1250 - val_precision: 0.1250 - val_fmeasure: 0.1250\n",
      "Epoch 172/1500\n",
      "32/32 [==============================] - 1s - loss: 12.5923 - acc: 0.2188 - recall: 0.2188 - precision: 0.2188 - fmeasure: 0.2187 - val_loss: 13.0960 - val_acc: 0.1875 - val_recall: 0.1875 - val_precision: 0.1875 - val_fmeasure: 0.1875\n",
      "Epoch 173/1500\n",
      "32/32 [==============================] - 1s - loss: 13.0960 - acc: 0.1875 - recall: 0.1875 - precision: 0.1875 - fmeasure: 0.1875 - val_loss: 14.1033 - val_acc: 0.1250 - val_recall: 0.1250 - val_precision: 0.1250 - val_fmeasure: 0.1250\n",
      "Epoch 174/1500\n",
      "32/32 [==============================] - 1s - loss: 14.6070 - acc: 0.0938 - recall: 0.0938 - precision: 0.0938 - fmeasure: 0.0937 - val_loss: 15.6144 - val_acc: 0.0312 - val_recall: 0.0312 - val_precision: 0.0312 - val_fmeasure: 0.0312\n",
      "Epoch 175/1500\n",
      "32/32 [==============================] - 1s - loss: 13.0960 - acc: 0.1875 - recall: 0.1875 - precision: 0.1875 - fmeasure: 0.1875 - val_loss: 15.6144 - val_acc: 0.0312 - val_recall: 0.0312 - val_precision: 0.0312 - val_fmeasure: 0.0312\n",
      "Epoch 176/1500\n",
      "32/32 [==============================] - 1s - loss: 13.5996 - acc: 0.1562 - recall: 0.1562 - precision: 0.1562 - fmeasure: 0.1562 - val_loss: 14.6070 - val_acc: 0.0938 - val_recall: 0.0938 - val_precision: 0.0938 - val_fmeasure: 0.0937\n",
      "Epoch 177/1500\n",
      "32/32 [==============================] - 1s - loss: 13.5996 - acc: 0.1562 - recall: 0.1562 - precision: 0.1562 - fmeasure: 0.1562 - val_loss: 13.5996 - val_acc: 0.1562 - val_recall: 0.1562 - val_precision: 0.1562 - val_fmeasure: 0.1562\n",
      "Epoch 178/1500\n",
      "32/32 [==============================] - 1s - loss: 14.6070 - acc: 0.0938 - recall: 0.0938 - precision: 0.0938 - fmeasure: 0.0937 - val_loss: 15.1107 - val_acc: 0.0625 - val_recall: 0.0625 - val_precision: 0.0625 - val_fmeasure: 0.0625\n",
      "Epoch 179/1500\n",
      "32/32 [==============================] - 1s - loss: 14.1033 - acc: 0.1250 - recall: 0.1250 - precision: 0.1250 - fmeasure: 0.1250 - val_loss: 15.1107 - val_acc: 0.0625 - val_recall: 0.0625 - val_precision: 0.0625 - val_fmeasure: 0.0625\n",
      "Epoch 180/1500\n",
      "32/32 [==============================] - 1s - loss: 14.6070 - acc: 0.0938 - recall: 0.0938 - precision: 0.0938 - fmeasure: 0.0937 - val_loss: 13.0960 - val_acc: 0.1875 - val_recall: 0.1875 - val_precision: 0.1875 - val_fmeasure: 0.1875\n",
      "Epoch 181/1500\n",
      "32/32 [==============================] - 1s - loss: 13.0960 - acc: 0.1875 - recall: 0.1875 - precision: 0.1875 - fmeasure: 0.1875 - val_loss: 13.5996 - val_acc: 0.1562 - val_recall: 0.1562 - val_precision: 0.1562 - val_fmeasure: 0.1562\n",
      "Epoch 182/1500\n",
      "32/32 [==============================] - 1s - loss: 14.1033 - acc: 0.1250 - recall: 0.1250 - precision: 0.1250 - fmeasure: 0.1250 - val_loss: 13.5996 - val_acc: 0.1562 - val_recall: 0.1562 - val_precision: 0.1562 - val_fmeasure: 0.1562\n",
      "Epoch 183/1500\n",
      "32/32 [==============================] - 1s - loss: 13.5996 - acc: 0.1562 - recall: 0.1562 - precision: 0.1562 - fmeasure: 0.1562 - val_loss: 14.6070 - val_acc: 0.0938 - val_recall: 0.0938 - val_precision: 0.0938 - val_fmeasure: 0.0937\n",
      "Epoch 184/1500\n",
      "32/32 [==============================] - 1s - loss: 14.6070 - acc: 0.0938 - recall: 0.0938 - precision: 0.0938 - fmeasure: 0.0937 - val_loss: 14.1033 - val_acc: 0.1250 - val_recall: 0.1250 - val_precision: 0.1250 - val_fmeasure: 0.1250\n",
      "Epoch 185/1500\n",
      "32/32 [==============================] - 1s - loss: 13.0960 - acc: 0.1875 - recall: 0.1875 - precision: 0.1875 - fmeasure: 0.1875 - val_loss: 14.6070 - val_acc: 0.0938 - val_recall: 0.0938 - val_precision: 0.0938 - val_fmeasure: 0.0937\n",
      "Epoch 186/1500\n",
      "32/32 [==============================] - 1s - loss: 14.1033 - acc: 0.1250 - recall: 0.1250 - precision: 0.1250 - fmeasure: 0.1250 - val_loss: 15.6144 - val_acc: 0.0312 - val_recall: 0.0312 - val_precision: 0.0312 - val_fmeasure: 0.0312\n",
      "Epoch 187/1500\n",
      "32/32 [==============================] - 1s - loss: 14.6070 - acc: 0.0938 - recall: 0.0938 - precision: 0.0938 - fmeasure: 0.0937 - val_loss: 13.0960 - val_acc: 0.1875 - val_recall: 0.1875 - val_precision: 0.1875 - val_fmeasure: 0.1875\n",
      "Epoch 188/1500\n",
      "32/32 [==============================] - 1s - loss: 15.1107 - acc: 0.0625 - recall: 0.0625 - precision: 0.0625 - fmeasure: 0.0625 - val_loss: 14.1033 - val_acc: 0.1250 - val_recall: 0.1250 - val_precision: 0.1250 - val_fmeasure: 0.1250\n",
      "Epoch 189/1500\n",
      "32/32 [==============================] - 1s - loss: 13.5996 - acc: 0.1562 - recall: 0.1562 - precision: 0.1562 - fmeasure: 0.1562 - val_loss: 14.1033 - val_acc: 0.1250 - val_recall: 0.1250 - val_precision: 0.1250 - val_fmeasure: 0.1250\n",
      "Epoch 190/1500\n",
      "32/32 [==============================] - 1s - loss: 12.5923 - acc: 0.2188 - recall: 0.2188 - precision: 0.2188 - fmeasure: 0.2187 - val_loss: 14.1033 - val_acc: 0.1250 - val_recall: 0.1250 - val_precision: 0.1250 - val_fmeasure: 0.1250\n",
      "Epoch 191/1500\n",
      "32/32 [==============================] - 1s - loss: 13.0960 - acc: 0.1875 - recall: 0.1875 - precision: 0.1875 - fmeasure: 0.1875 - val_loss: 15.1107 - val_acc: 0.0625 - val_recall: 0.0625 - val_precision: 0.0625 - val_fmeasure: 0.0625\n",
      "Epoch 192/1500\n",
      "32/32 [==============================] - 1s - loss: 14.6070 - acc: 0.0938 - recall: 0.0938 - precision: 0.0938 - fmeasure: 0.0937 - val_loss: 15.1107 - val_acc: 0.0625 - val_recall: 0.0625 - val_precision: 0.0625 - val_fmeasure: 0.0625\n",
      "Epoch 193/1500\n",
      "32/32 [==============================] - 1s - loss: 12.0886 - acc: 0.2500 - recall: 0.2500 - precision: 0.2500 - fmeasure: 0.2500 - val_loss: 14.6070 - val_acc: 0.0938 - val_recall: 0.0938 - val_precision: 0.0938 - val_fmeasure: 0.0937\n",
      "Epoch 194/1500\n",
      "32/32 [==============================] - 1s - loss: 12.5923 - acc: 0.2188 - recall: 0.2188 - precision: 0.2188 - fmeasure: 0.2187 - val_loss: 15.6144 - val_acc: 0.0312 - val_recall: 0.0312 - val_precision: 0.0312 - val_fmeasure: 0.0312\n",
      "Epoch 195/1500\n",
      "32/32 [==============================] - 1s - loss: 14.1033 - acc: 0.1250 - recall: 0.1250 - precision: 0.1250 - fmeasure: 0.1250 - val_loss: 13.5996 - val_acc: 0.1562 - val_recall: 0.1562 - val_precision: 0.1562 - val_fmeasure: 0.1562\n",
      "Epoch 196/1500\n",
      "32/32 [==============================] - 1s - loss: 12.5923 - acc: 0.2188 - recall: 0.2188 - precision: 0.2188 - fmeasure: 0.2187 - val_loss: 14.1033 - val_acc: 0.1250 - val_recall: 0.1250 - val_precision: 0.1250 - val_fmeasure: 0.1250\n",
      "Epoch 197/1500\n",
      "32/32 [==============================] - 1s - loss: 14.1033 - acc: 0.1250 - recall: 0.1250 - precision: 0.1250 - fmeasure: 0.1250 - val_loss: 13.0960 - val_acc: 0.1875 - val_recall: 0.1875 - val_precision: 0.1875 - val_fmeasure: 0.1875\n",
      "Epoch 198/1500\n",
      "32/32 [==============================] - 1s - loss: 15.6144 - acc: 0.0312 - recall: 0.0312 - precision: 0.0312 - fmeasure: 0.0312 - val_loss: 15.1107 - val_acc: 0.0625 - val_recall: 0.0625 - val_precision: 0.0625 - val_fmeasure: 0.0625\n",
      "Epoch 199/1500\n",
      "32/32 [==============================] - 1s - loss: 14.6070 - acc: 0.0938 - recall: 0.0938 - precision: 0.0938 - fmeasure: 0.0937 - val_loss: 15.1107 - val_acc: 0.0625 - val_recall: 0.0625 - val_precision: 0.0625 - val_fmeasure: 0.0625\n",
      "Epoch 200/1500\n",
      "32/32 [==============================] - 1s - loss: 14.6070 - acc: 0.0938 - recall: 0.0938 - precision: 0.0938 - fmeasure: 0.0937 - val_loss: 15.1107 - val_acc: 0.0625 - val_recall: 0.0625 - val_precision: 0.0625 - val_fmeasure: 0.0625\n",
      "Epoch 201/1500\n",
      "32/32 [==============================] - 1s - loss: 15.1107 - acc: 0.0625 - recall: 0.0625 - precision: 0.0625 - fmeasure: 0.0625 - val_loss: 14.1033 - val_acc: 0.1250 - val_recall: 0.1250 - val_precision: 0.1250 - val_fmeasure: 0.1250\n",
      "Epoch 202/1500\n",
      "32/32 [==============================] - 1s - loss: 15.1107 - acc: 0.0625 - recall: 0.0625 - precision: 0.0625 - fmeasure: 0.0625 - val_loss: 13.5996 - val_acc: 0.1562 - val_recall: 0.1562 - val_precision: 0.1562 - val_fmeasure: 0.1562\n",
      "Epoch 203/1500\n",
      "32/32 [==============================] - 1s - loss: 14.6070 - acc: 0.0938 - recall: 0.0938 - precision: 0.0938 - fmeasure: 0.0937 - val_loss: 13.0960 - val_acc: 0.1875 - val_recall: 0.1875 - val_precision: 0.1875 - val_fmeasure: 0.1875\n",
      "Epoch 204/1500\n",
      "32/32 [==============================] - 1s - loss: 14.1033 - acc: 0.1250 - recall: 0.1250 - precision: 0.1250 - fmeasure: 0.1250 - val_loss: 14.1033 - val_acc: 0.1250 - val_recall: 0.1250 - val_precision: 0.1250 - val_fmeasure: 0.1250\n",
      "Epoch 205/1500\n",
      "32/32 [==============================] - 1s - loss: 14.6070 - acc: 0.0938 - recall: 0.0938 - precision: 0.0938 - fmeasure: 0.0937 - val_loss: 15.6144 - val_acc: 0.0312 - val_recall: 0.0312 - val_precision: 0.0312 - val_fmeasure: 0.0312\n",
      "Epoch 206/1500\n",
      "32/32 [==============================] - 1s - loss: 15.6144 - acc: 0.0312 - recall: 0.0312 - precision: 0.0312 - fmeasure: 0.0312 - val_loss: 14.6070 - val_acc: 0.0938 - val_recall: 0.0938 - val_precision: 0.0938 - val_fmeasure: 0.0937\n",
      "Epoch 207/1500\n",
      "32/32 [==============================] - 1s - loss: 14.1033 - acc: 0.1250 - recall: 0.1250 - precision: 0.1250 - fmeasure: 0.1250 - val_loss: 13.5996 - val_acc: 0.1562 - val_recall: 0.1562 - val_precision: 0.1562 - val_fmeasure: 0.1562\n",
      "Epoch 208/1500\n",
      "32/32 [==============================] - 1s - loss: 14.6070 - acc: 0.0938 - recall: 0.0938 - precision: 0.0938 - fmeasure: 0.0937 - val_loss: 14.1033 - val_acc: 0.1250 - val_recall: 0.1250 - val_precision: 0.1250 - val_fmeasure: 0.1250\n",
      "Epoch 209/1500\n",
      "32/32 [==============================] - 1s - loss: 13.0960 - acc: 0.1875 - recall: 0.1875 - precision: 0.1875 - fmeasure: 0.1875 - val_loss: 13.0960 - val_acc: 0.1875 - val_recall: 0.1875 - val_precision: 0.1875 - val_fmeasure: 0.1875\n",
      "Epoch 210/1500\n",
      "32/32 [==============================] - 1s - loss: 14.1033 - acc: 0.1250 - recall: 0.1250 - precision: 0.1250 - fmeasure: 0.1250 - val_loss: 15.1107 - val_acc: 0.0625 - val_recall: 0.0625 - val_precision: 0.0625 - val_fmeasure: 0.0625\n",
      "Epoch 211/1500\n",
      "32/32 [==============================] - 1s - loss: 14.1033 - acc: 0.1250 - recall: 0.1250 - precision: 0.1250 - fmeasure: 0.1250 - val_loss: 14.1033 - val_acc: 0.1250 - val_recall: 0.1250 - val_precision: 0.1250 - val_fmeasure: 0.1250\n",
      "Epoch 212/1500\n",
      "32/32 [==============================] - 1s - loss: 14.6070 - acc: 0.0938 - recall: 0.0938 - precision: 0.0938 - fmeasure: 0.0937 - val_loss: 14.1033 - val_acc: 0.1250 - val_recall: 0.1250 - val_precision: 0.1250 - val_fmeasure: 0.1250\n",
      "Epoch 213/1500\n",
      "32/32 [==============================] - 1s - loss: 14.6070 - acc: 0.0938 - recall: 0.0938 - precision: 0.0938 - fmeasure: 0.0937 - val_loss: 15.1107 - val_acc: 0.0625 - val_recall: 0.0625 - val_precision: 0.0625 - val_fmeasure: 0.0625\n",
      "Epoch 214/1500\n",
      "32/32 [==============================] - 1s - loss: 14.6070 - acc: 0.0938 - recall: 0.0938 - precision: 0.0938 - fmeasure: 0.0937 - val_loss: 13.5996 - val_acc: 0.1562 - val_recall: 0.1562 - val_precision: 0.1562 - val_fmeasure: 0.1562\n",
      "Epoch 215/1500\n",
      "32/32 [==============================] - 1s - loss: 12.5923 - acc: 0.2188 - recall: 0.2188 - precision: 0.2188 - fmeasure: 0.2187 - val_loss: 14.1033 - val_acc: 0.1250 - val_recall: 0.1250 - val_precision: 0.1250 - val_fmeasure: 0.1250\n",
      "Epoch 216/1500\n",
      "32/32 [==============================] - 1s - loss: 14.1033 - acc: 0.1250 - recall: 0.1250 - precision: 0.1250 - fmeasure: 0.1250 - val_loss: 14.1033 - val_acc: 0.1250 - val_recall: 0.1250 - val_precision: 0.1250 - val_fmeasure: 0.1250\n",
      "Epoch 217/1500\n",
      "32/32 [==============================] - 1s - loss: 13.5996 - acc: 0.1562 - recall: 0.1562 - precision: 0.1562 - fmeasure: 0.1562 - val_loss: 14.1033 - val_acc: 0.1250 - val_recall: 0.1250 - val_precision: 0.1250 - val_fmeasure: 0.1250\n",
      "Epoch 218/1500\n",
      "32/32 [==============================] - 1s - loss: 15.1107 - acc: 0.0625 - recall: 0.0625 - precision: 0.0625 - fmeasure: 0.0625 - val_loss: 13.5996 - val_acc: 0.1562 - val_recall: 0.1562 - val_precision: 0.1562 - val_fmeasure: 0.1562\n",
      "Epoch 219/1500\n",
      "32/32 [==============================] - 1s - loss: 13.0960 - acc: 0.1875 - recall: 0.1875 - precision: 0.1875 - fmeasure: 0.1875 - val_loss: 14.6070 - val_acc: 0.0938 - val_recall: 0.0938 - val_precision: 0.0938 - val_fmeasure: 0.0937\n",
      "Epoch 220/1500\n",
      "32/32 [==============================] - 1s - loss: 14.1033 - acc: 0.1250 - recall: 0.1250 - precision: 0.1250 - fmeasure: 0.1250 - val_loss: 14.1033 - val_acc: 0.1250 - val_recall: 0.1250 - val_precision: 0.1250 - val_fmeasure: 0.1250\n",
      "Epoch 221/1500\n",
      "32/32 [==============================] - 1s - loss: 13.5996 - acc: 0.1562 - recall: 0.1562 - precision: 0.1562 - fmeasure: 0.1562 - val_loss: 14.6070 - val_acc: 0.0938 - val_recall: 0.0938 - val_precision: 0.0938 - val_fmeasure: 0.0937\n",
      "Epoch 222/1500\n",
      "32/32 [==============================] - 1s - loss: 13.5996 - acc: 0.1562 - recall: 0.1562 - precision: 0.1562 - fmeasure: 0.1562 - val_loss: 15.6144 - val_acc: 0.0312 - val_recall: 0.0312 - val_precision: 0.0312 - val_fmeasure: 0.0312\n",
      "Epoch 223/1500\n",
      "32/32 [==============================] - 1s - loss: 14.1033 - acc: 0.1250 - recall: 0.1250 - precision: 0.1250 - fmeasure: 0.1250 - val_loss: 15.6144 - val_acc: 0.0312 - val_recall: 0.0312 - val_precision: 0.0312 - val_fmeasure: 0.0312\n",
      "Epoch 224/1500\n",
      "32/32 [==============================] - 1s - loss: 14.6070 - acc: 0.0938 - recall: 0.0938 - precision: 0.0938 - fmeasure: 0.0937 - val_loss: 14.1033 - val_acc: 0.1250 - val_recall: 0.1250 - val_precision: 0.1250 - val_fmeasure: 0.1250\n",
      "Epoch 225/1500\n",
      "32/32 [==============================] - 1s - loss: 14.6070 - acc: 0.0938 - recall: 0.0938 - precision: 0.0938 - fmeasure: 0.0937 - val_loss: 14.6070 - val_acc: 0.0938 - val_recall: 0.0938 - val_precision: 0.0938 - val_fmeasure: 0.0937\n",
      "Epoch 226/1500\n",
      "32/32 [==============================] - 1s - loss: 13.0960 - acc: 0.1875 - recall: 0.1875 - precision: 0.1875 - fmeasure: 0.1875 - val_loss: 14.6070 - val_acc: 0.0938 - val_recall: 0.0938 - val_precision: 0.0938 - val_fmeasure: 0.0937\n",
      "Epoch 227/1500\n",
      "32/32 [==============================] - 1s - loss: 14.1033 - acc: 0.1250 - recall: 0.1250 - precision: 0.1250 - fmeasure: 0.1250 - val_loss: 14.1033 - val_acc: 0.1250 - val_recall: 0.1250 - val_precision: 0.1250 - val_fmeasure: 0.1250\n",
      "Epoch 228/1500\n",
      "32/32 [==============================] - 1s - loss: 13.0960 - acc: 0.1875 - recall: 0.1875 - precision: 0.1875 - fmeasure: 0.1875 - val_loss: 14.1033 - val_acc: 0.1250 - val_recall: 0.1250 - val_precision: 0.1250 - val_fmeasure: 0.1250\n",
      "Epoch 229/1500\n",
      "32/32 [==============================] - 1s - loss: 14.1033 - acc: 0.1250 - recall: 0.1250 - precision: 0.1250 - fmeasure: 0.1250 - val_loss: 15.1107 - val_acc: 0.0625 - val_recall: 0.0625 - val_precision: 0.0625 - val_fmeasure: 0.0625\n",
      "Epoch 230/1500\n",
      "32/32 [==============================] - 1s - loss: 14.6070 - acc: 0.0938 - recall: 0.0938 - precision: 0.0938 - fmeasure: 0.0937 - val_loss: 14.1033 - val_acc: 0.1250 - val_recall: 0.1250 - val_precision: 0.1250 - val_fmeasure: 0.1250\n",
      "Epoch 231/1500\n",
      "32/32 [==============================] - 1s - loss: 13.5996 - acc: 0.1562 - recall: 0.1562 - precision: 0.1562 - fmeasure: 0.1562 - val_loss: 14.1033 - val_acc: 0.1250 - val_recall: 0.1250 - val_precision: 0.1250 - val_fmeasure: 0.1250\n",
      "Epoch 232/1500\n",
      "32/32 [==============================] - 1s - loss: 14.6070 - acc: 0.0938 - recall: 0.0938 - precision: 0.0938 - fmeasure: 0.0937 - val_loss: 13.5996 - val_acc: 0.1562 - val_recall: 0.1562 - val_precision: 0.1562 - val_fmeasure: 0.1562\n",
      "Epoch 233/1500\n",
      "32/32 [==============================] - 1s - loss: 15.1107 - acc: 0.0625 - recall: 0.0625 - precision: 0.0625 - fmeasure: 0.0625 - val_loss: 13.5996 - val_acc: 0.1562 - val_recall: 0.1562 - val_precision: 0.1562 - val_fmeasure: 0.1562\n",
      "Epoch 234/1500\n",
      "32/32 [==============================] - 1s - loss: 13.0960 - acc: 0.1875 - recall: 0.1875 - precision: 0.1875 - fmeasure: 0.1875 - val_loss: 15.6144 - val_acc: 0.0312 - val_recall: 0.0312 - val_precision: 0.0312 - val_fmeasure: 0.0312\n",
      "Epoch 235/1500\n",
      "32/32 [==============================] - 1s - loss: 13.5996 - acc: 0.1562 - recall: 0.1562 - precision: 0.1562 - fmeasure: 0.1562 - val_loss: 14.6070 - val_acc: 0.0938 - val_recall: 0.0938 - val_precision: 0.0938 - val_fmeasure: 0.0937\n",
      "Epoch 236/1500\n",
      "32/32 [==============================] - 1s - loss: 13.5996 - acc: 0.1562 - recall: 0.1562 - precision: 0.1562 - fmeasure: 0.1562 - val_loss: 14.6070 - val_acc: 0.0938 - val_recall: 0.0938 - val_precision: 0.0938 - val_fmeasure: 0.0937\n",
      "Epoch 237/1500\n",
      "32/32 [==============================] - 1s - loss: 14.1033 - acc: 0.1250 - recall: 0.1250 - precision: 0.1250 - fmeasure: 0.1250 - val_loss: 14.1033 - val_acc: 0.1250 - val_recall: 0.1250 - val_precision: 0.1250 - val_fmeasure: 0.1250\n",
      "Epoch 238/1500\n",
      "32/32 [==============================] - 1s - loss: 15.1107 - acc: 0.0625 - recall: 0.0625 - precision: 0.0625 - fmeasure: 0.0625 - val_loss: 14.6070 - val_acc: 0.0938 - val_recall: 0.0938 - val_precision: 0.0938 - val_fmeasure: 0.0937\n",
      "Epoch 239/1500\n",
      "32/32 [==============================] - 1s - loss: 15.6144 - acc: 0.0312 - recall: 0.0312 - precision: 0.0312 - fmeasure: 0.0312 - val_loss: 14.6070 - val_acc: 0.0938 - val_recall: 0.0938 - val_precision: 0.0938 - val_fmeasure: 0.0937\n",
      "Epoch 240/1500\n",
      "32/32 [==============================] - 1s - loss: 14.6070 - acc: 0.0938 - recall: 0.0938 - precision: 0.0938 - fmeasure: 0.0937 - val_loss: 15.1107 - val_acc: 0.0625 - val_recall: 0.0625 - val_precision: 0.0625 - val_fmeasure: 0.0625\n",
      "Epoch 241/1500\n",
      "32/32 [==============================] - 1s - loss: 14.6070 - acc: 0.0938 - recall: 0.0938 - precision: 0.0938 - fmeasure: 0.0937 - val_loss: 12.5923 - val_acc: 0.2188 - val_recall: 0.2188 - val_precision: 0.2188 - val_fmeasure: 0.2187\n",
      "Epoch 242/1500\n",
      "32/32 [==============================] - 1s - loss: 12.0886 - acc: 0.2500 - recall: 0.2500 - precision: 0.2500 - fmeasure: 0.2500 - val_loss: 15.6144 - val_acc: 0.0312 - val_recall: 0.0312 - val_precision: 0.0312 - val_fmeasure: 0.0312\n",
      "Epoch 243/1500\n",
      "32/32 [==============================] - 1s - loss: 13.5996 - acc: 0.1562 - recall: 0.1562 - precision: 0.1562 - fmeasure: 0.1562 - val_loss: 14.1033 - val_acc: 0.1250 - val_recall: 0.1250 - val_precision: 0.1250 - val_fmeasure: 0.1250\n",
      "Epoch 244/1500\n",
      "32/32 [==============================] - 1s - loss: 14.6070 - acc: 0.0938 - recall: 0.0938 - precision: 0.0938 - fmeasure: 0.0937 - val_loss: 15.1107 - val_acc: 0.0625 - val_recall: 0.0625 - val_precision: 0.0625 - val_fmeasure: 0.0625\n",
      "Epoch 245/1500\n",
      "32/32 [==============================] - 1s - loss: 11.5849 - acc: 0.2812 - recall: 0.2812 - precision: 0.2812 - fmeasure: 0.2812 - val_loss: 13.5996 - val_acc: 0.1562 - val_recall: 0.1562 - val_precision: 0.1562 - val_fmeasure: 0.1562\n",
      "Epoch 246/1500\n",
      "32/32 [==============================] - 1s - loss: 14.6070 - acc: 0.0938 - recall: 0.0938 - precision: 0.0938 - fmeasure: 0.0937 - val_loss: 12.5923 - val_acc: 0.2188 - val_recall: 0.2188 - val_precision: 0.2188 - val_fmeasure: 0.2187\n",
      "Epoch 247/1500\n",
      "32/32 [==============================] - 1s - loss: 14.1033 - acc: 0.1250 - recall: 0.1250 - precision: 0.1250 - fmeasure: 0.1250 - val_loss: 12.5923 - val_acc: 0.2188 - val_recall: 0.2188 - val_precision: 0.2188 - val_fmeasure: 0.2187\n",
      "Epoch 248/1500\n",
      "32/32 [==============================] - 1s - loss: 13.0960 - acc: 0.1875 - recall: 0.1875 - precision: 0.1875 - fmeasure: 0.1875 - val_loss: 13.0960 - val_acc: 0.1875 - val_recall: 0.1875 - val_precision: 0.1875 - val_fmeasure: 0.1875\n",
      "Epoch 249/1500\n",
      "32/32 [==============================] - 1s - loss: 15.6144 - acc: 0.0312 - recall: 0.0312 - precision: 0.0312 - fmeasure: 0.0312 - val_loss: 14.6070 - val_acc: 0.0938 - val_recall: 0.0938 - val_precision: 0.0938 - val_fmeasure: 0.0937\n",
      "Epoch 250/1500\n",
      "32/32 [==============================] - 1s - loss: 13.5996 - acc: 0.1562 - recall: 0.1562 - precision: 0.1562 - fmeasure: 0.1562 - val_loss: 12.0886 - val_acc: 0.2500 - val_recall: 0.2500 - val_precision: 0.2500 - val_fmeasure: 0.2500\n",
      "Epoch 251/1500\n",
      "32/32 [==============================] - 1s - loss: 13.0960 - acc: 0.1875 - recall: 0.1875 - precision: 0.1875 - fmeasure: 0.1875 - val_loss: 13.5996 - val_acc: 0.1562 - val_recall: 0.1562 - val_precision: 0.1562 - val_fmeasure: 0.1562\n",
      "Epoch 252/1500\n",
      "32/32 [==============================] - 1s - loss: 15.1107 - acc: 0.0625 - recall: 0.0625 - precision: 0.0625 - fmeasure: 0.0625 - val_loss: 15.1107 - val_acc: 0.0625 - val_recall: 0.0625 - val_precision: 0.0625 - val_fmeasure: 0.0625\n",
      "Epoch 253/1500\n",
      "32/32 [==============================] - 1s - loss: 15.1107 - acc: 0.0625 - recall: 0.0625 - precision: 0.0625 - fmeasure: 0.0625 - val_loss: 15.1107 - val_acc: 0.0625 - val_recall: 0.0625 - val_precision: 0.0625 - val_fmeasure: 0.0625\n",
      "Epoch 254/1500\n",
      "32/32 [==============================] - 1s - loss: 14.1033 - acc: 0.1250 - recall: 0.1250 - precision: 0.1250 - fmeasure: 0.1250 - val_loss: 14.6070 - val_acc: 0.0938 - val_recall: 0.0938 - val_precision: 0.0938 - val_fmeasure: 0.0937\n",
      "Epoch 255/1500\n",
      "32/32 [==============================] - 1s - loss: 15.6144 - acc: 0.0312 - recall: 0.0312 - precision: 0.0312 - fmeasure: 0.0312 - val_loss: 15.1107 - val_acc: 0.0625 - val_recall: 0.0625 - val_precision: 0.0625 - val_fmeasure: 0.0625\n",
      "Epoch 256/1500\n",
      "32/32 [==============================] - 1s - loss: 11.0812 - acc: 0.3125 - recall: 0.3125 - precision: 0.3125 - fmeasure: 0.3125 - val_loss: 13.0960 - val_acc: 0.1875 - val_recall: 0.1875 - val_precision: 0.1875 - val_fmeasure: 0.1875\n",
      "Epoch 257/1500\n",
      "32/32 [==============================] - 1s - loss: 14.1033 - acc: 0.1250 - recall: 0.1250 - precision: 0.1250 - fmeasure: 0.1250 - val_loss: 15.1107 - val_acc: 0.0625 - val_recall: 0.0625 - val_precision: 0.0625 - val_fmeasure: 0.0625\n",
      "Epoch 258/1500\n",
      "32/32 [==============================] - 1s - loss: 13.5996 - acc: 0.1562 - recall: 0.1562 - precision: 0.1562 - fmeasure: 0.1562 - val_loss: 15.1107 - val_acc: 0.0625 - val_recall: 0.0625 - val_precision: 0.0625 - val_fmeasure: 0.0625\n",
      "Epoch 259/1500\n",
      "32/32 [==============================] - 1s - loss: 12.5923 - acc: 0.2188 - recall: 0.2188 - precision: 0.2188 - fmeasure: 0.2187 - val_loss: 15.1107 - val_acc: 0.0625 - val_recall: 0.0625 - val_precision: 0.0625 - val_fmeasure: 0.0625\n",
      "Epoch 260/1500\n",
      "32/32 [==============================] - 1s - loss: 13.5996 - acc: 0.1562 - recall: 0.1562 - precision: 0.1562 - fmeasure: 0.1562 - val_loss: 14.1033 - val_acc: 0.1250 - val_recall: 0.1250 - val_precision: 0.1250 - val_fmeasure: 0.1250\n",
      "Epoch 261/1500\n",
      "32/32 [==============================] - 1s - loss: 13.0960 - acc: 0.1875 - recall: 0.1875 - precision: 0.1875 - fmeasure: 0.1875 - val_loss: 12.0886 - val_acc: 0.2500 - val_recall: 0.2500 - val_precision: 0.2500 - val_fmeasure: 0.2500\n",
      "Epoch 262/1500\n",
      "32/32 [==============================] - 1s - loss: 14.1033 - acc: 0.1250 - recall: 0.1250 - precision: 0.1250 - fmeasure: 0.1250 - val_loss: 13.0960 - val_acc: 0.1875 - val_recall: 0.1875 - val_precision: 0.1875 - val_fmeasure: 0.1875\n",
      "Epoch 263/1500\n",
      "32/32 [==============================] - 1s - loss: 14.1033 - acc: 0.1250 - recall: 0.1250 - precision: 0.1250 - fmeasure: 0.1250 - val_loss: 14.1033 - val_acc: 0.1250 - val_recall: 0.1250 - val_precision: 0.1250 - val_fmeasure: 0.1250\n",
      "Epoch 264/1500\n",
      "32/32 [==============================] - 1s - loss: 13.0960 - acc: 0.1875 - recall: 0.1875 - precision: 0.1875 - fmeasure: 0.1875 - val_loss: 14.6070 - val_acc: 0.0938 - val_recall: 0.0938 - val_precision: 0.0938 - val_fmeasure: 0.0937\n",
      "Epoch 265/1500\n",
      "32/32 [==============================] - 1s - loss: 14.6070 - acc: 0.0938 - recall: 0.0938 - precision: 0.0938 - fmeasure: 0.0937 - val_loss: 13.5996 - val_acc: 0.1562 - val_recall: 0.1562 - val_precision: 0.1562 - val_fmeasure: 0.1562\n",
      "Epoch 266/1500\n",
      "32/32 [==============================] - 1s - loss: 14.1033 - acc: 0.1250 - recall: 0.1250 - precision: 0.1250 - fmeasure: 0.1250 - val_loss: 13.5996 - val_acc: 0.1562 - val_recall: 0.1562 - val_precision: 0.1562 - val_fmeasure: 0.1562\n",
      "Epoch 267/1500\n",
      "32/32 [==============================] - 1s - loss: 13.0960 - acc: 0.1875 - recall: 0.1875 - precision: 0.1875 - fmeasure: 0.1875 - val_loss: 13.5996 - val_acc: 0.1562 - val_recall: 0.1562 - val_precision: 0.1562 - val_fmeasure: 0.1562\n",
      "Epoch 268/1500\n",
      "32/32 [==============================] - 1s - loss: 12.5923 - acc: 0.2188 - recall: 0.2188 - precision: 0.2188 - fmeasure: 0.2187 - val_loss: 14.1033 - val_acc: 0.1250 - val_recall: 0.1250 - val_precision: 0.1250 - val_fmeasure: 0.1250\n",
      "Epoch 269/1500\n",
      "32/32 [==============================] - 1s - loss: 13.5996 - acc: 0.1562 - recall: 0.1562 - precision: 0.1562 - fmeasure: 0.1562 - val_loss: 14.1033 - val_acc: 0.1250 - val_recall: 0.1250 - val_precision: 0.1250 - val_fmeasure: 0.1250\n",
      "Epoch 270/1500\n",
      "32/32 [==============================] - 1s - loss: 14.1033 - acc: 0.1250 - recall: 0.1250 - precision: 0.1250 - fmeasure: 0.1250 - val_loss: 13.5996 - val_acc: 0.1562 - val_recall: 0.1562 - val_precision: 0.1562 - val_fmeasure: 0.1562\n",
      "Epoch 271/1500\n",
      "32/32 [==============================] - 1s - loss: 12.0886 - acc: 0.2500 - recall: 0.2500 - precision: 0.2500 - fmeasure: 0.2500 - val_loss: 14.1033 - val_acc: 0.1250 - val_recall: 0.1250 - val_precision: 0.1250 - val_fmeasure: 0.1250\n",
      "Epoch 272/1500\n",
      "32/32 [==============================] - 1s - loss: 14.6070 - acc: 0.0938 - recall: 0.0938 - precision: 0.0938 - fmeasure: 0.0937 - val_loss: 15.1107 - val_acc: 0.0625 - val_recall: 0.0625 - val_precision: 0.0625 - val_fmeasure: 0.0625\n",
      "Epoch 273/1500\n",
      "32/32 [==============================] - 1s - loss: 13.5996 - acc: 0.1562 - recall: 0.1562 - precision: 0.1562 - fmeasure: 0.1562 - val_loss: 13.0960 - val_acc: 0.1875 - val_recall: 0.1875 - val_precision: 0.1875 - val_fmeasure: 0.1875\n",
      "Epoch 274/1500\n",
      "32/32 [==============================] - 1s - loss: 14.6070 - acc: 0.0938 - recall: 0.0938 - precision: 0.0938 - fmeasure: 0.0937 - val_loss: 13.5996 - val_acc: 0.1562 - val_recall: 0.1562 - val_precision: 0.1562 - val_fmeasure: 0.1562\n",
      "Epoch 275/1500\n",
      "32/32 [==============================] - 1s - loss: 12.5923 - acc: 0.2188 - recall: 0.2188 - precision: 0.2188 - fmeasure: 0.2187 - val_loss: 13.5996 - val_acc: 0.1562 - val_recall: 0.1562 - val_precision: 0.1562 - val_fmeasure: 0.1562\n",
      "Epoch 276/1500\n",
      "32/32 [==============================] - 1s - loss: 15.1107 - acc: 0.0625 - recall: 0.0625 - precision: 0.0625 - fmeasure: 0.0625 - val_loss: 13.5996 - val_acc: 0.1562 - val_recall: 0.1562 - val_precision: 0.1562 - val_fmeasure: 0.1562\n",
      "Epoch 277/1500\n",
      "32/32 [==============================] - 1s - loss: 13.5996 - acc: 0.1562 - recall: 0.1562 - precision: 0.1562 - fmeasure: 0.1562 - val_loss: 14.6070 - val_acc: 0.0938 - val_recall: 0.0938 - val_precision: 0.0938 - val_fmeasure: 0.0937\n",
      "Epoch 278/1500\n",
      "32/32 [==============================] - 1s - loss: 14.6070 - acc: 0.0938 - recall: 0.0938 - precision: 0.0938 - fmeasure: 0.0937 - val_loss: 15.1107 - val_acc: 0.0625 - val_recall: 0.0625 - val_precision: 0.0625 - val_fmeasure: 0.0625\n",
      "Epoch 279/1500\n",
      "32/32 [==============================] - 1s - loss: 14.1033 - acc: 0.1250 - recall: 0.1250 - precision: 0.1250 - fmeasure: 0.1250 - val_loss: 15.1107 - val_acc: 0.0625 - val_recall: 0.0625 - val_precision: 0.0625 - val_fmeasure: 0.0625\n",
      "Epoch 280/1500\n",
      "32/32 [==============================] - 1s - loss: 14.6070 - acc: 0.0938 - recall: 0.0938 - precision: 0.0938 - fmeasure: 0.0937 - val_loss: 13.5996 - val_acc: 0.1562 - val_recall: 0.1562 - val_precision: 0.1562 - val_fmeasure: 0.1562\n",
      "Epoch 281/1500\n",
      "32/32 [==============================] - 1s - loss: 12.5923 - acc: 0.2188 - recall: 0.2188 - precision: 0.2188 - fmeasure: 0.2187 - val_loss: 14.1033 - val_acc: 0.1250 - val_recall: 0.1250 - val_precision: 0.1250 - val_fmeasure: 0.1250\n",
      "Epoch 282/1500\n",
      "32/32 [==============================] - 1s - loss: 14.1033 - acc: 0.1250 - recall: 0.1250 - precision: 0.1250 - fmeasure: 0.1250 - val_loss: 15.1107 - val_acc: 0.0625 - val_recall: 0.0625 - val_precision: 0.0625 - val_fmeasure: 0.0625\n",
      "Epoch 283/1500\n",
      "32/32 [==============================] - 1s - loss: 14.6070 - acc: 0.0938 - recall: 0.0938 - precision: 0.0938 - fmeasure: 0.0937 - val_loss: 15.1107 - val_acc: 0.0625 - val_recall: 0.0625 - val_precision: 0.0625 - val_fmeasure: 0.0625\n",
      "Epoch 284/1500\n",
      "32/32 [==============================] - 1s - loss: 12.5923 - acc: 0.2188 - recall: 0.2188 - precision: 0.2188 - fmeasure: 0.2187 - val_loss: 13.5996 - val_acc: 0.1562 - val_recall: 0.1562 - val_precision: 0.1562 - val_fmeasure: 0.1562\n",
      "Epoch 285/1500\n",
      "32/32 [==============================] - 1s - loss: 15.1107 - acc: 0.0625 - recall: 0.0625 - precision: 0.0625 - fmeasure: 0.0625 - val_loss: 15.1107 - val_acc: 0.0625 - val_recall: 0.0625 - val_precision: 0.0625 - val_fmeasure: 0.0625\n",
      "Epoch 286/1500\n",
      "32/32 [==============================] - 1s - loss: 14.1033 - acc: 0.1250 - recall: 0.1250 - precision: 0.1250 - fmeasure: 0.1250 - val_loss: 14.6070 - val_acc: 0.0938 - val_recall: 0.0938 - val_precision: 0.0938 - val_fmeasure: 0.0937\n",
      "Epoch 287/1500\n",
      "32/32 [==============================] - 1s - loss: 14.1033 - acc: 0.1250 - recall: 0.1250 - precision: 0.1250 - fmeasure: 0.1250 - val_loss: 14.6070 - val_acc: 0.0938 - val_recall: 0.0938 - val_precision: 0.0938 - val_fmeasure: 0.0937\n",
      "Epoch 288/1500\n",
      "32/32 [==============================] - 1s - loss: 15.1107 - acc: 0.0625 - recall: 0.0625 - precision: 0.0625 - fmeasure: 0.0625 - val_loss: 13.5996 - val_acc: 0.1562 - val_recall: 0.1562 - val_precision: 0.1562 - val_fmeasure: 0.1562\n",
      "Epoch 289/1500\n",
      "32/32 [==============================] - 1s - loss: 14.1033 - acc: 0.1250 - recall: 0.1250 - precision: 0.1250 - fmeasure: 0.1250 - val_loss: 13.5996 - val_acc: 0.1562 - val_recall: 0.1562 - val_precision: 0.1562 - val_fmeasure: 0.1562\n",
      "Epoch 290/1500\n",
      "32/32 [==============================] - 1s - loss: 13.5996 - acc: 0.1562 - recall: 0.1562 - precision: 0.1562 - fmeasure: 0.1562 - val_loss: 14.6070 - val_acc: 0.0938 - val_recall: 0.0938 - val_precision: 0.0938 - val_fmeasure: 0.0937\n",
      "Epoch 291/1500\n",
      "32/32 [==============================] - 1s - loss: 12.5923 - acc: 0.2188 - recall: 0.2188 - precision: 0.2188 - fmeasure: 0.2187 - val_loss: 13.0960 - val_acc: 0.1875 - val_recall: 0.1875 - val_precision: 0.1875 - val_fmeasure: 0.1875\n",
      "Epoch 292/1500\n",
      "32/32 [==============================] - 1s - loss: 13.5996 - acc: 0.1562 - recall: 0.1562 - precision: 0.1562 - fmeasure: 0.1562 - val_loss: 14.1033 - val_acc: 0.1250 - val_recall: 0.1250 - val_precision: 0.1250 - val_fmeasure: 0.1250\n",
      "Epoch 293/1500\n",
      "32/32 [==============================] - 1s - loss: 13.5996 - acc: 0.1562 - recall: 0.1562 - precision: 0.1562 - fmeasure: 0.1562 - val_loss: 13.5996 - val_acc: 0.1562 - val_recall: 0.1562 - val_precision: 0.1562 - val_fmeasure: 0.1562\n",
      "Epoch 294/1500\n",
      "32/32 [==============================] - 1s - loss: 14.6070 - acc: 0.0938 - recall: 0.0938 - precision: 0.0938 - fmeasure: 0.0937 - val_loss: 15.6144 - val_acc: 0.0312 - val_recall: 0.0312 - val_precision: 0.0312 - val_fmeasure: 0.0312\n",
      "Epoch 295/1500\n",
      "32/32 [==============================] - 1s - loss: 13.5996 - acc: 0.1562 - recall: 0.1562 - precision: 0.1562 - fmeasure: 0.1562 - val_loss: 15.1107 - val_acc: 0.0625 - val_recall: 0.0625 - val_precision: 0.0625 - val_fmeasure: 0.0625\n",
      "Epoch 296/1500\n",
      "32/32 [==============================] - 1s - loss: 14.1033 - acc: 0.1250 - recall: 0.1250 - precision: 0.1250 - fmeasure: 0.1250 - val_loss: 12.0886 - val_acc: 0.2500 - val_recall: 0.2500 - val_precision: 0.2500 - val_fmeasure: 0.2500\n",
      "Epoch 297/1500\n",
      "32/32 [==============================] - 1s - loss: 12.5923 - acc: 0.2188 - recall: 0.2188 - precision: 0.2188 - fmeasure: 0.2187 - val_loss: 15.1107 - val_acc: 0.0625 - val_recall: 0.0625 - val_precision: 0.0625 - val_fmeasure: 0.0625\n",
      "Epoch 298/1500\n",
      "32/32 [==============================] - 1s - loss: 13.5996 - acc: 0.1562 - recall: 0.1562 - precision: 0.1562 - fmeasure: 0.1562 - val_loss: 12.5923 - val_acc: 0.2188 - val_recall: 0.2188 - val_precision: 0.2188 - val_fmeasure: 0.2187\n",
      "Epoch 299/1500\n",
      "32/32 [==============================] - 1s - loss: 15.1107 - acc: 0.0625 - recall: 0.0625 - precision: 0.0625 - fmeasure: 0.0625 - val_loss: 13.0960 - val_acc: 0.1875 - val_recall: 0.1875 - val_precision: 0.1875 - val_fmeasure: 0.1875\n",
      "Epoch 300/1500\n",
      "32/32 [==============================] - 1s - loss: 13.5996 - acc: 0.1562 - recall: 0.1562 - precision: 0.1562 - fmeasure: 0.1562 - val_loss: 13.5996 - val_acc: 0.1562 - val_recall: 0.1562 - val_precision: 0.1562 - val_fmeasure: 0.1562\n",
      "Epoch 301/1500\n",
      "32/32 [==============================] - 1s - loss: 14.6070 - acc: 0.0938 - recall: 0.0938 - precision: 0.0938 - fmeasure: 0.0937 - val_loss: 11.5849 - val_acc: 0.2812 - val_recall: 0.2812 - val_precision: 0.2812 - val_fmeasure: 0.2812\n",
      "Epoch 302/1500\n",
      "32/32 [==============================] - 1s - loss: 14.6070 - acc: 0.0938 - recall: 0.0938 - precision: 0.0938 - fmeasure: 0.0937 - val_loss: 14.1033 - val_acc: 0.1250 - val_recall: 0.1250 - val_precision: 0.1250 - val_fmeasure: 0.1250\n",
      "Epoch 303/1500\n",
      "32/32 [==============================] - 1s - loss: 15.1107 - acc: 0.0625 - recall: 0.0625 - precision: 0.0625 - fmeasure: 0.0625 - val_loss: 14.1033 - val_acc: 0.1250 - val_recall: 0.1250 - val_precision: 0.1250 - val_fmeasure: 0.1250\n",
      "Epoch 304/1500\n",
      "32/32 [==============================] - 1s - loss: 13.5996 - acc: 0.1562 - recall: 0.1562 - precision: 0.1562 - fmeasure: 0.1562 - val_loss: 16.1181 - val_acc: 0.0000e+00 - val_recall: 0.0000e+00 - val_precision: 0.0000e+00 - val_fmeasure: 0.0000e+00\n",
      "Epoch 305/1500\n",
      "32/32 [==============================] - 1s - loss: 13.0960 - acc: 0.1875 - recall: 0.1875 - precision: 0.1875 - fmeasure: 0.1875 - val_loss: 13.0960 - val_acc: 0.1875 - val_recall: 0.1875 - val_precision: 0.1875 - val_fmeasure: 0.1875\n",
      "Epoch 306/1500\n",
      "32/32 [==============================] - 1s - loss: 13.5996 - acc: 0.1562 - recall: 0.1562 - precision: 0.1562 - fmeasure: 0.1562 - val_loss: 15.1107 - val_acc: 0.0625 - val_recall: 0.0625 - val_precision: 0.0625 - val_fmeasure: 0.0625\n",
      "Epoch 307/1500\n",
      "32/32 [==============================] - 1s - loss: 11.5849 - acc: 0.2812 - recall: 0.2812 - precision: 0.2812 - fmeasure: 0.2812 - val_loss: 15.1107 - val_acc: 0.0625 - val_recall: 0.0625 - val_precision: 0.0625 - val_fmeasure: 0.0625\n",
      "Epoch 308/1500\n",
      "32/32 [==============================] - 1s - loss: 14.1033 - acc: 0.1250 - recall: 0.1250 - precision: 0.1250 - fmeasure: 0.1250 - val_loss: 12.5923 - val_acc: 0.2188 - val_recall: 0.2188 - val_precision: 0.2188 - val_fmeasure: 0.2187\n",
      "Epoch 309/1500\n",
      "32/32 [==============================] - 1s - loss: 14.6070 - acc: 0.0938 - recall: 0.0938 - precision: 0.0938 - fmeasure: 0.0937 - val_loss: 14.1033 - val_acc: 0.1250 - val_recall: 0.1250 - val_precision: 0.1250 - val_fmeasure: 0.1250\n",
      "Epoch 310/1500\n",
      "32/32 [==============================] - 1s - loss: 14.6070 - acc: 0.0938 - recall: 0.0938 - precision: 0.0938 - fmeasure: 0.0937 - val_loss: 15.6144 - val_acc: 0.0312 - val_recall: 0.0312 - val_precision: 0.0312 - val_fmeasure: 0.0312\n",
      "Epoch 311/1500\n",
      "32/32 [==============================] - 1s - loss: 14.1033 - acc: 0.1250 - recall: 0.1250 - precision: 0.1250 - fmeasure: 0.1250 - val_loss: 14.1033 - val_acc: 0.1250 - val_recall: 0.1250 - val_precision: 0.1250 - val_fmeasure: 0.1250\n",
      "Epoch 312/1500\n",
      "32/32 [==============================] - 1s - loss: 15.6144 - acc: 0.0312 - recall: 0.0312 - precision: 0.0312 - fmeasure: 0.0312 - val_loss: 15.1107 - val_acc: 0.0625 - val_recall: 0.0625 - val_precision: 0.0625 - val_fmeasure: 0.0625\n",
      "Epoch 313/1500\n",
      "32/32 [==============================] - 1s - loss: 14.1033 - acc: 0.1250 - recall: 0.1250 - precision: 0.1250 - fmeasure: 0.1250 - val_loss: 14.1033 - val_acc: 0.1250 - val_recall: 0.1250 - val_precision: 0.1250 - val_fmeasure: 0.1250\n",
      "Epoch 314/1500\n",
      "32/32 [==============================] - 1s - loss: 13.5996 - acc: 0.1562 - recall: 0.1562 - precision: 0.1562 - fmeasure: 0.1562 - val_loss: 14.6070 - val_acc: 0.0938 - val_recall: 0.0938 - val_precision: 0.0938 - val_fmeasure: 0.0937\n",
      "Epoch 315/1500\n",
      "32/32 [==============================] - 1s - loss: 14.6070 - acc: 0.0938 - recall: 0.0938 - precision: 0.0938 - fmeasure: 0.0937 - val_loss: 14.1033 - val_acc: 0.1250 - val_recall: 0.1250 - val_precision: 0.1250 - val_fmeasure: 0.1250\n",
      "Epoch 316/1500\n",
      "32/32 [==============================] - 1s - loss: 12.0886 - acc: 0.2500 - recall: 0.2500 - precision: 0.2500 - fmeasure: 0.2500 - val_loss: 14.1033 - val_acc: 0.1250 - val_recall: 0.1250 - val_precision: 0.1250 - val_fmeasure: 0.1250\n",
      "Epoch 317/1500\n",
      "32/32 [==============================] - 1s - loss: 14.6070 - acc: 0.0938 - recall: 0.0938 - precision: 0.0938 - fmeasure: 0.0937 - val_loss: 14.1033 - val_acc: 0.1250 - val_recall: 0.1250 - val_precision: 0.1250 - val_fmeasure: 0.1250\n",
      "Epoch 318/1500\n",
      "32/32 [==============================] - 1s - loss: 13.5996 - acc: 0.1562 - recall: 0.1562 - precision: 0.1562 - fmeasure: 0.1562 - val_loss: 14.1033 - val_acc: 0.1250 - val_recall: 0.1250 - val_precision: 0.1250 - val_fmeasure: 0.1250\n",
      "Epoch 319/1500\n",
      "32/32 [==============================] - 1s - loss: 14.1033 - acc: 0.1250 - recall: 0.1250 - precision: 0.1250 - fmeasure: 0.1250 - val_loss: 12.5923 - val_acc: 0.2188 - val_recall: 0.2188 - val_precision: 0.2188 - val_fmeasure: 0.2187\n",
      "Epoch 320/1500\n",
      "32/32 [==============================] - 1s - loss: 14.6070 - acc: 0.0938 - recall: 0.0938 - precision: 0.0938 - fmeasure: 0.0937 - val_loss: 14.1033 - val_acc: 0.1250 - val_recall: 0.1250 - val_precision: 0.1250 - val_fmeasure: 0.1250\n",
      "Epoch 321/1500\n",
      "32/32 [==============================] - 1s - loss: 14.1033 - acc: 0.1250 - recall: 0.1250 - precision: 0.1250 - fmeasure: 0.1250 - val_loss: 14.1033 - val_acc: 0.1250 - val_recall: 0.1250 - val_precision: 0.1250 - val_fmeasure: 0.1250\n",
      "Epoch 322/1500\n",
      "32/32 [==============================] - 1s - loss: 14.1033 - acc: 0.1250 - recall: 0.1250 - precision: 0.1250 - fmeasure: 0.1250 - val_loss: 14.6070 - val_acc: 0.0938 - val_recall: 0.0938 - val_precision: 0.0938 - val_fmeasure: 0.0937\n",
      "Epoch 323/1500\n",
      "32/32 [==============================] - 1s - loss: 14.1033 - acc: 0.1250 - recall: 0.1250 - precision: 0.1250 - fmeasure: 0.1250 - val_loss: 14.6070 - val_acc: 0.0938 - val_recall: 0.0938 - val_precision: 0.0938 - val_fmeasure: 0.0937\n",
      "Epoch 324/1500\n",
      "32/32 [==============================] - 1s - loss: 14.6070 - acc: 0.0938 - recall: 0.0938 - precision: 0.0938 - fmeasure: 0.0937 - val_loss: 14.6070 - val_acc: 0.0938 - val_recall: 0.0938 - val_precision: 0.0938 - val_fmeasure: 0.0937\n",
      "Epoch 325/1500\n",
      "32/32 [==============================] - 1s - loss: 14.1033 - acc: 0.1250 - recall: 0.1250 - precision: 0.1250 - fmeasure: 0.1250 - val_loss: 11.5849 - val_acc: 0.2812 - val_recall: 0.2812 - val_precision: 0.2812 - val_fmeasure: 0.2812\n",
      "Epoch 326/1500\n",
      "32/32 [==============================] - 1s - loss: 15.1107 - acc: 0.0625 - recall: 0.0625 - precision: 0.0625 - fmeasure: 0.0625 - val_loss: 14.1033 - val_acc: 0.1250 - val_recall: 0.1250 - val_precision: 0.1250 - val_fmeasure: 0.1250\n",
      "Epoch 327/1500\n",
      "32/32 [==============================] - 1s - loss: 13.5996 - acc: 0.1562 - recall: 0.1562 - precision: 0.1562 - fmeasure: 0.1562 - val_loss: 14.6070 - val_acc: 0.0938 - val_recall: 0.0938 - val_precision: 0.0938 - val_fmeasure: 0.0937\n",
      "Epoch 328/1500\n",
      "32/32 [==============================] - 1s - loss: 14.1033 - acc: 0.1250 - recall: 0.1250 - precision: 0.1250 - fmeasure: 0.1250 - val_loss: 12.0886 - val_acc: 0.2500 - val_recall: 0.2500 - val_precision: 0.2500 - val_fmeasure: 0.2500\n",
      "Epoch 329/1500\n",
      "32/32 [==============================] - 1s - loss: 12.5923 - acc: 0.2188 - recall: 0.2188 - precision: 0.2188 - fmeasure: 0.2187 - val_loss: 14.1033 - val_acc: 0.1250 - val_recall: 0.1250 - val_precision: 0.1250 - val_fmeasure: 0.1250\n",
      "Epoch 330/1500\n",
      "32/32 [==============================] - 1s - loss: 13.5996 - acc: 0.1562 - recall: 0.1562 - precision: 0.1562 - fmeasure: 0.1562 - val_loss: 12.5923 - val_acc: 0.2188 - val_recall: 0.2188 - val_precision: 0.2188 - val_fmeasure: 0.2187\n",
      "Epoch 331/1500\n",
      "32/32 [==============================] - 1s - loss: 15.1107 - acc: 0.0625 - recall: 0.0625 - precision: 0.0625 - fmeasure: 0.0625 - val_loss: 14.1033 - val_acc: 0.1250 - val_recall: 0.1250 - val_precision: 0.1250 - val_fmeasure: 0.1250\n",
      "Epoch 332/1500\n",
      "32/32 [==============================] - 1s - loss: 13.5996 - acc: 0.1562 - recall: 0.1562 - precision: 0.1562 - fmeasure: 0.1562 - val_loss: 14.6070 - val_acc: 0.0938 - val_recall: 0.0938 - val_precision: 0.0938 - val_fmeasure: 0.0937\n",
      "Epoch 333/1500\n",
      "32/32 [==============================] - 1s - loss: 13.5996 - acc: 0.1562 - recall: 0.1562 - precision: 0.1562 - fmeasure: 0.1562 - val_loss: 14.6070 - val_acc: 0.0938 - val_recall: 0.0938 - val_precision: 0.0938 - val_fmeasure: 0.0937\n",
      "Epoch 334/1500\n",
      "32/32 [==============================] - 1s - loss: 15.1107 - acc: 0.0625 - recall: 0.0625 - precision: 0.0625 - fmeasure: 0.0625 - val_loss: 14.1033 - val_acc: 0.1250 - val_recall: 0.1250 - val_precision: 0.1250 - val_fmeasure: 0.1250\n",
      "Epoch 335/1500\n",
      "32/32 [==============================] - 1s - loss: 14.6070 - acc: 0.0938 - recall: 0.0938 - precision: 0.0938 - fmeasure: 0.0937 - val_loss: 13.5996 - val_acc: 0.1562 - val_recall: 0.1562 - val_precision: 0.1562 - val_fmeasure: 0.1562\n",
      "Epoch 336/1500\n",
      "32/32 [==============================] - 1s - loss: 13.5996 - acc: 0.1562 - recall: 0.1562 - precision: 0.1562 - fmeasure: 0.1562 - val_loss: 15.1107 - val_acc: 0.0625 - val_recall: 0.0625 - val_precision: 0.0625 - val_fmeasure: 0.0625\n",
      "Epoch 337/1500\n",
      "32/32 [==============================] - 1s - loss: 15.1107 - acc: 0.0625 - recall: 0.0625 - precision: 0.0625 - fmeasure: 0.0625 - val_loss: 13.0960 - val_acc: 0.1875 - val_recall: 0.1875 - val_precision: 0.1875 - val_fmeasure: 0.1875\n",
      "Epoch 338/1500\n",
      "32/32 [==============================] - 1s - loss: 15.6144 - acc: 0.0312 - recall: 0.0312 - precision: 0.0312 - fmeasure: 0.0312 - val_loss: 14.1033 - val_acc: 0.1250 - val_recall: 0.1250 - val_precision: 0.1250 - val_fmeasure: 0.1250\n",
      "Epoch 339/1500\n",
      "32/32 [==============================] - 1s - loss: 13.5996 - acc: 0.1562 - recall: 0.1562 - precision: 0.1562 - fmeasure: 0.1562 - val_loss: 12.0886 - val_acc: 0.2500 - val_recall: 0.2500 - val_precision: 0.2500 - val_fmeasure: 0.2500\n",
      "Epoch 340/1500\n",
      "32/32 [==============================] - 1s - loss: 14.6070 - acc: 0.0938 - recall: 0.0938 - precision: 0.0938 - fmeasure: 0.0937 - val_loss: 13.0960 - val_acc: 0.1875 - val_recall: 0.1875 - val_precision: 0.1875 - val_fmeasure: 0.1875\n",
      "Epoch 341/1500\n",
      "32/32 [==============================] - 1s - loss: 13.5996 - acc: 0.1562 - recall: 0.1562 - precision: 0.1562 - fmeasure: 0.1562 - val_loss: 15.6144 - val_acc: 0.0312 - val_recall: 0.0312 - val_precision: 0.0312 - val_fmeasure: 0.0312\n",
      "Epoch 342/1500\n",
      "32/32 [==============================] - 1s - loss: 13.0960 - acc: 0.1875 - recall: 0.1875 - precision: 0.1875 - fmeasure: 0.1875 - val_loss: 14.6070 - val_acc: 0.0938 - val_recall: 0.0938 - val_precision: 0.0938 - val_fmeasure: 0.0937\n",
      "Epoch 343/1500\n",
      "32/32 [==============================] - 1s - loss: 15.1107 - acc: 0.0625 - recall: 0.0625 - precision: 0.0625 - fmeasure: 0.0625 - val_loss: 13.5996 - val_acc: 0.1562 - val_recall: 0.1562 - val_precision: 0.1562 - val_fmeasure: 0.1562\n",
      "Epoch 344/1500\n",
      "32/32 [==============================] - 1s - loss: 12.0886 - acc: 0.2500 - recall: 0.2500 - precision: 0.2500 - fmeasure: 0.2500 - val_loss: 11.5849 - val_acc: 0.2812 - val_recall: 0.2812 - val_precision: 0.2812 - val_fmeasure: 0.2812\n",
      "Epoch 345/1500\n",
      "32/32 [==============================] - 1s - loss: 14.1033 - acc: 0.1250 - recall: 0.1250 - precision: 0.1250 - fmeasure: 0.1250 - val_loss: 14.1033 - val_acc: 0.1250 - val_recall: 0.1250 - val_precision: 0.1250 - val_fmeasure: 0.1250\n",
      "Epoch 346/1500\n",
      "32/32 [==============================] - 1s - loss: 15.1107 - acc: 0.0625 - recall: 0.0625 - precision: 0.0625 - fmeasure: 0.0625 - val_loss: 15.1107 - val_acc: 0.0625 - val_recall: 0.0625 - val_precision: 0.0625 - val_fmeasure: 0.0625\n",
      "Epoch 347/1500\n",
      "32/32 [==============================] - 1s - loss: 12.5923 - acc: 0.2188 - recall: 0.2188 - precision: 0.2188 - fmeasure: 0.2187 - val_loss: 13.5996 - val_acc: 0.1562 - val_recall: 0.1562 - val_precision: 0.1562 - val_fmeasure: 0.1562\n",
      "Epoch 348/1500\n",
      "32/32 [==============================] - 1s - loss: 15.1107 - acc: 0.0625 - recall: 0.0625 - precision: 0.0625 - fmeasure: 0.0625 - val_loss: 13.5996 - val_acc: 0.1562 - val_recall: 0.1562 - val_precision: 0.1562 - val_fmeasure: 0.1562\n",
      "Epoch 349/1500\n",
      "32/32 [==============================] - 1s - loss: 14.1033 - acc: 0.1250 - recall: 0.1250 - precision: 0.1250 - fmeasure: 0.1250 - val_loss: 13.0960 - val_acc: 0.1875 - val_recall: 0.1875 - val_precision: 0.1875 - val_fmeasure: 0.1875\n",
      "Epoch 350/1500\n",
      "32/32 [==============================] - 1s - loss: 13.0960 - acc: 0.1875 - recall: 0.1875 - precision: 0.1875 - fmeasure: 0.1875 - val_loss: 13.5996 - val_acc: 0.1562 - val_recall: 0.1562 - val_precision: 0.1562 - val_fmeasure: 0.1562\n",
      "Epoch 351/1500\n",
      "32/32 [==============================] - 1s - loss: 13.5996 - acc: 0.1562 - recall: 0.1562 - precision: 0.1562 - fmeasure: 0.1562 - val_loss: 15.1107 - val_acc: 0.0625 - val_recall: 0.0625 - val_precision: 0.0625 - val_fmeasure: 0.0625\n",
      "Epoch 352/1500\n",
      "32/32 [==============================] - 1s - loss: 15.1107 - acc: 0.0625 - recall: 0.0625 - precision: 0.0625 - fmeasure: 0.0625 - val_loss: 14.6070 - val_acc: 0.0938 - val_recall: 0.0938 - val_precision: 0.0938 - val_fmeasure: 0.0937\n",
      "Epoch 353/1500\n",
      "32/32 [==============================] - 1s - loss: 13.5996 - acc: 0.1562 - recall: 0.1562 - precision: 0.1562 - fmeasure: 0.1562 - val_loss: 13.5996 - val_acc: 0.1562 - val_recall: 0.1562 - val_precision: 0.1562 - val_fmeasure: 0.1562\n",
      "Epoch 354/1500\n",
      "32/32 [==============================] - 1s - loss: 15.1107 - acc: 0.0625 - recall: 0.0625 - precision: 0.0625 - fmeasure: 0.0625 - val_loss: 13.5996 - val_acc: 0.1562 - val_recall: 0.1562 - val_precision: 0.1562 - val_fmeasure: 0.1562\n",
      "Epoch 355/1500\n",
      "32/32 [==============================] - 1s - loss: 14.1033 - acc: 0.1250 - recall: 0.1250 - precision: 0.1250 - fmeasure: 0.1250 - val_loss: 14.1033 - val_acc: 0.1250 - val_recall: 0.1250 - val_precision: 0.1250 - val_fmeasure: 0.1250\n",
      "Epoch 356/1500\n",
      "32/32 [==============================] - 1s - loss: 14.1033 - acc: 0.1250 - recall: 0.1250 - precision: 0.1250 - fmeasure: 0.1250 - val_loss: 15.1107 - val_acc: 0.0625 - val_recall: 0.0625 - val_precision: 0.0625 - val_fmeasure: 0.0625\n",
      "Epoch 357/1500\n",
      "32/32 [==============================] - 1s - loss: 13.0960 - acc: 0.1875 - recall: 0.1875 - precision: 0.1875 - fmeasure: 0.1875 - val_loss: 15.6144 - val_acc: 0.0312 - val_recall: 0.0312 - val_precision: 0.0312 - val_fmeasure: 0.0312\n",
      "Epoch 358/1500\n",
      "32/32 [==============================] - 1s - loss: 15.1107 - acc: 0.0625 - recall: 0.0625 - precision: 0.0625 - fmeasure: 0.0625 - val_loss: 13.5996 - val_acc: 0.1562 - val_recall: 0.1562 - val_precision: 0.1562 - val_fmeasure: 0.1562\n",
      "Epoch 359/1500\n",
      "32/32 [==============================] - 1s - loss: 13.0960 - acc: 0.1875 - recall: 0.1875 - precision: 0.1875 - fmeasure: 0.1875 - val_loss: 14.6070 - val_acc: 0.0938 - val_recall: 0.0938 - val_precision: 0.0938 - val_fmeasure: 0.0937\n",
      "Epoch 360/1500\n",
      "32/32 [==============================] - 1s - loss: 14.1033 - acc: 0.1250 - recall: 0.1250 - precision: 0.1250 - fmeasure: 0.1250 - val_loss: 15.1107 - val_acc: 0.0625 - val_recall: 0.0625 - val_precision: 0.0625 - val_fmeasure: 0.0625\n",
      "Epoch 361/1500\n",
      "32/32 [==============================] - 1s - loss: 15.6144 - acc: 0.0312 - recall: 0.0312 - precision: 0.0312 - fmeasure: 0.0312 - val_loss: 14.1033 - val_acc: 0.1250 - val_recall: 0.1250 - val_precision: 0.1250 - val_fmeasure: 0.1250\n",
      "Epoch 362/1500\n",
      "32/32 [==============================] - 1s - loss: 10.5775 - acc: 0.3438 - recall: 0.3438 - precision: 0.3438 - fmeasure: 0.3437 - val_loss: 14.6070 - val_acc: 0.0938 - val_recall: 0.0938 - val_precision: 0.0938 - val_fmeasure: 0.0937\n",
      "Epoch 363/1500\n",
      "32/32 [==============================] - 1s - loss: 15.1107 - acc: 0.0625 - recall: 0.0625 - precision: 0.0625 - fmeasure: 0.0625 - val_loss: 15.6144 - val_acc: 0.0312 - val_recall: 0.0312 - val_precision: 0.0312 - val_fmeasure: 0.0312\n",
      "Epoch 364/1500\n",
      "32/32 [==============================] - 1s - loss: 13.5996 - acc: 0.1562 - recall: 0.1562 - precision: 0.1562 - fmeasure: 0.1562 - val_loss: 15.1107 - val_acc: 0.0625 - val_recall: 0.0625 - val_precision: 0.0625 - val_fmeasure: 0.0625\n",
      "Epoch 365/1500\n",
      "32/32 [==============================] - 1s - loss: 13.5996 - acc: 0.1562 - recall: 0.1562 - precision: 0.1562 - fmeasure: 0.1562 - val_loss: 14.6070 - val_acc: 0.0938 - val_recall: 0.0938 - val_precision: 0.0938 - val_fmeasure: 0.0937\n",
      "Epoch 366/1500\n",
      "32/32 [==============================] - 1s - loss: 15.6144 - acc: 0.0312 - recall: 0.0312 - precision: 0.0312 - fmeasure: 0.0312 - val_loss: 13.0960 - val_acc: 0.1875 - val_recall: 0.1875 - val_precision: 0.1875 - val_fmeasure: 0.1875\n",
      "Epoch 367/1500\n",
      "32/32 [==============================] - 1s - loss: 14.6070 - acc: 0.0938 - recall: 0.0938 - precision: 0.0938 - fmeasure: 0.0937 - val_loss: 14.6070 - val_acc: 0.0938 - val_recall: 0.0938 - val_precision: 0.0938 - val_fmeasure: 0.0937\n",
      "Epoch 368/1500\n",
      "32/32 [==============================] - 1s - loss: 14.1033 - acc: 0.1250 - recall: 0.1250 - precision: 0.1250 - fmeasure: 0.1250 - val_loss: 14.6070 - val_acc: 0.0938 - val_recall: 0.0938 - val_precision: 0.0938 - val_fmeasure: 0.0937\n",
      "Epoch 369/1500\n",
      "32/32 [==============================] - 1s - loss: 15.1107 - acc: 0.0625 - recall: 0.0625 - precision: 0.0625 - fmeasure: 0.0625 - val_loss: 14.1033 - val_acc: 0.1250 - val_recall: 0.1250 - val_precision: 0.1250 - val_fmeasure: 0.1250\n",
      "Epoch 370/1500\n",
      "32/32 [==============================] - 1s - loss: 14.1033 - acc: 0.1250 - recall: 0.1250 - precision: 0.1250 - fmeasure: 0.1250 - val_loss: 15.1107 - val_acc: 0.0625 - val_recall: 0.0625 - val_precision: 0.0625 - val_fmeasure: 0.0625\n",
      "Epoch 371/1500\n",
      "32/32 [==============================] - 1s - loss: 13.0960 - acc: 0.1875 - recall: 0.1875 - precision: 0.1875 - fmeasure: 0.1875 - val_loss: 15.6144 - val_acc: 0.0312 - val_recall: 0.0312 - val_precision: 0.0312 - val_fmeasure: 0.0312\n",
      "Epoch 372/1500\n",
      "32/32 [==============================] - 1s - loss: 12.5923 - acc: 0.2188 - recall: 0.2188 - precision: 0.2188 - fmeasure: 0.2187 - val_loss: 14.1033 - val_acc: 0.1250 - val_recall: 0.1250 - val_precision: 0.1250 - val_fmeasure: 0.1250\n",
      "Epoch 373/1500\n",
      "32/32 [==============================] - 1s - loss: 12.0886 - acc: 0.2500 - recall: 0.2500 - precision: 0.2500 - fmeasure: 0.2500 - val_loss: 14.6070 - val_acc: 0.0938 - val_recall: 0.0938 - val_precision: 0.0938 - val_fmeasure: 0.0937\n",
      "Epoch 374/1500\n",
      "32/32 [==============================] - 1s - loss: 13.5996 - acc: 0.1562 - recall: 0.1562 - precision: 0.1562 - fmeasure: 0.1562 - val_loss: 14.1033 - val_acc: 0.1250 - val_recall: 0.1250 - val_precision: 0.1250 - val_fmeasure: 0.1250\n",
      "Epoch 375/1500\n",
      "32/32 [==============================] - 1s - loss: 12.5923 - acc: 0.2188 - recall: 0.2188 - precision: 0.2188 - fmeasure: 0.2187 - val_loss: 14.6070 - val_acc: 0.0938 - val_recall: 0.0938 - val_precision: 0.0938 - val_fmeasure: 0.0937\n",
      "Epoch 376/1500\n",
      "32/32 [==============================] - 1s - loss: 14.6070 - acc: 0.0938 - recall: 0.0938 - precision: 0.0938 - fmeasure: 0.0937 - val_loss: 13.5996 - val_acc: 0.1562 - val_recall: 0.1562 - val_precision: 0.1562 - val_fmeasure: 0.1562\n",
      "Epoch 377/1500\n",
      "32/32 [==============================] - 1s - loss: 14.6070 - acc: 0.0938 - recall: 0.0938 - precision: 0.0938 - fmeasure: 0.0937 - val_loss: 15.6144 - val_acc: 0.0312 - val_recall: 0.0312 - val_precision: 0.0312 - val_fmeasure: 0.0312\n",
      "Epoch 378/1500\n",
      "32/32 [==============================] - 1s - loss: 13.0960 - acc: 0.1875 - recall: 0.1875 - precision: 0.1875 - fmeasure: 0.1875 - val_loss: 15.1107 - val_acc: 0.0625 - val_recall: 0.0625 - val_precision: 0.0625 - val_fmeasure: 0.0625\n",
      "Epoch 379/1500\n",
      "32/32 [==============================] - 1s - loss: 14.1033 - acc: 0.1250 - recall: 0.1250 - precision: 0.1250 - fmeasure: 0.1250 - val_loss: 13.5996 - val_acc: 0.1562 - val_recall: 0.1562 - val_precision: 0.1562 - val_fmeasure: 0.1562\n",
      "Epoch 380/1500\n",
      "32/32 [==============================] - 1s - loss: 15.1107 - acc: 0.0625 - recall: 0.0625 - precision: 0.0625 - fmeasure: 0.0625 - val_loss: 13.5996 - val_acc: 0.1562 - val_recall: 0.1562 - val_precision: 0.1562 - val_fmeasure: 0.1562\n",
      "Epoch 381/1500\n",
      "32/32 [==============================] - 1s - loss: 14.6070 - acc: 0.0938 - recall: 0.0938 - precision: 0.0938 - fmeasure: 0.0937 - val_loss: 15.1107 - val_acc: 0.0625 - val_recall: 0.0625 - val_precision: 0.0625 - val_fmeasure: 0.0625\n",
      "Epoch 382/1500\n",
      "32/32 [==============================] - 1s - loss: 14.1033 - acc: 0.1250 - recall: 0.1250 - precision: 0.1250 - fmeasure: 0.1250 - val_loss: 14.1033 - val_acc: 0.1250 - val_recall: 0.1250 - val_precision: 0.1250 - val_fmeasure: 0.1250\n",
      "Epoch 383/1500\n",
      "32/32 [==============================] - 1s - loss: 14.1033 - acc: 0.1250 - recall: 0.1250 - precision: 0.1250 - fmeasure: 0.1250 - val_loss: 11.5849 - val_acc: 0.2812 - val_recall: 0.2812 - val_precision: 0.2812 - val_fmeasure: 0.2812\n",
      "Epoch 384/1500\n",
      "32/32 [==============================] - 1s - loss: 13.5996 - acc: 0.1562 - recall: 0.1562 - precision: 0.1562 - fmeasure: 0.1562 - val_loss: 13.5996 - val_acc: 0.1562 - val_recall: 0.1562 - val_precision: 0.1562 - val_fmeasure: 0.1562\n",
      "Epoch 385/1500\n",
      "32/32 [==============================] - 1s - loss: 14.1033 - acc: 0.1250 - recall: 0.1250 - precision: 0.1250 - fmeasure: 0.1250 - val_loss: 14.1033 - val_acc: 0.1250 - val_recall: 0.1250 - val_precision: 0.1250 - val_fmeasure: 0.1250\n",
      "Epoch 386/1500\n",
      "32/32 [==============================] - 1s - loss: 13.5996 - acc: 0.1562 - recall: 0.1562 - precision: 0.1562 - fmeasure: 0.1562 - val_loss: 14.6070 - val_acc: 0.0938 - val_recall: 0.0938 - val_precision: 0.0938 - val_fmeasure: 0.0937\n",
      "Epoch 387/1500\n",
      "32/32 [==============================] - 1s - loss: 14.6070 - acc: 0.0938 - recall: 0.0938 - precision: 0.0938 - fmeasure: 0.0937 - val_loss: 13.5996 - val_acc: 0.1562 - val_recall: 0.1562 - val_precision: 0.1562 - val_fmeasure: 0.1562\n",
      "Epoch 388/1500\n",
      "32/32 [==============================] - 1s - loss: 13.5996 - acc: 0.1562 - recall: 0.1562 - precision: 0.1562 - fmeasure: 0.1562 - val_loss: 13.5996 - val_acc: 0.1562 - val_recall: 0.1562 - val_precision: 0.1562 - val_fmeasure: 0.1562\n",
      "Epoch 389/1500\n",
      "32/32 [==============================] - 1s - loss: 15.6144 - acc: 0.0312 - recall: 0.0312 - precision: 0.0312 - fmeasure: 0.0312 - val_loss: 13.5996 - val_acc: 0.1562 - val_recall: 0.1562 - val_precision: 0.1562 - val_fmeasure: 0.1562\n",
      "Epoch 390/1500\n",
      "32/32 [==============================] - 1s - loss: 13.5996 - acc: 0.1562 - recall: 0.1562 - precision: 0.1562 - fmeasure: 0.1562 - val_loss: 13.5996 - val_acc: 0.1562 - val_recall: 0.1562 - val_precision: 0.1562 - val_fmeasure: 0.1562\n",
      "Epoch 391/1500\n",
      "32/32 [==============================] - 1s - loss: 14.6070 - acc: 0.0938 - recall: 0.0938 - precision: 0.0938 - fmeasure: 0.0937 - val_loss: 12.5923 - val_acc: 0.2188 - val_recall: 0.2188 - val_precision: 0.2188 - val_fmeasure: 0.2187\n",
      "Epoch 392/1500\n",
      "32/32 [==============================] - 1s - loss: 14.1033 - acc: 0.1250 - recall: 0.1250 - precision: 0.1250 - fmeasure: 0.1250 - val_loss: 14.6070 - val_acc: 0.0938 - val_recall: 0.0938 - val_precision: 0.0938 - val_fmeasure: 0.0937\n",
      "Epoch 393/1500\n",
      "32/32 [==============================] - 1s - loss: 13.5996 - acc: 0.1562 - recall: 0.1562 - precision: 0.1562 - fmeasure: 0.1562 - val_loss: 13.5996 - val_acc: 0.1562 - val_recall: 0.1562 - val_precision: 0.1562 - val_fmeasure: 0.1562\n",
      "Epoch 394/1500\n",
      "32/32 [==============================] - 1s - loss: 12.5923 - acc: 0.2188 - recall: 0.2188 - precision: 0.2188 - fmeasure: 0.2187 - val_loss: 12.0886 - val_acc: 0.2500 - val_recall: 0.2500 - val_precision: 0.2500 - val_fmeasure: 0.2500\n",
      "Epoch 395/1500\n",
      "32/32 [==============================] - 1s - loss: 12.5923 - acc: 0.2188 - recall: 0.2188 - precision: 0.2188 - fmeasure: 0.2187 - val_loss: 15.1107 - val_acc: 0.0625 - val_recall: 0.0625 - val_precision: 0.0625 - val_fmeasure: 0.0625\n",
      "Epoch 396/1500\n",
      "32/32 [==============================] - 1s - loss: 12.5923 - acc: 0.2188 - recall: 0.2188 - precision: 0.2188 - fmeasure: 0.2187 - val_loss: 15.6144 - val_acc: 0.0312 - val_recall: 0.0312 - val_precision: 0.0312 - val_fmeasure: 0.0312\n",
      "Epoch 397/1500\n",
      "32/32 [==============================] - 1s - loss: 13.5996 - acc: 0.1562 - recall: 0.1562 - precision: 0.1562 - fmeasure: 0.1562 - val_loss: 13.5996 - val_acc: 0.1562 - val_recall: 0.1562 - val_precision: 0.1562 - val_fmeasure: 0.1562\n",
      "Epoch 398/1500\n",
      "32/32 [==============================] - 1s - loss: 14.1033 - acc: 0.1250 - recall: 0.1250 - precision: 0.1250 - fmeasure: 0.1250 - val_loss: 13.0960 - val_acc: 0.1875 - val_recall: 0.1875 - val_precision: 0.1875 - val_fmeasure: 0.1875\n",
      "Epoch 399/1500\n",
      "32/32 [==============================] - 1s - loss: 12.5923 - acc: 0.2188 - recall: 0.2188 - precision: 0.2188 - fmeasure: 0.2187 - val_loss: 13.0960 - val_acc: 0.1875 - val_recall: 0.1875 - val_precision: 0.1875 - val_fmeasure: 0.1875\n",
      "Epoch 400/1500\n",
      "32/32 [==============================] - 1s - loss: 13.5996 - acc: 0.1562 - recall: 0.1562 - precision: 0.1562 - fmeasure: 0.1562 - val_loss: 13.5996 - val_acc: 0.1562 - val_recall: 0.1562 - val_precision: 0.1562 - val_fmeasure: 0.1562\n",
      "Epoch 401/1500\n",
      "32/32 [==============================] - 1s - loss: 12.5923 - acc: 0.2188 - recall: 0.2188 - precision: 0.2188 - fmeasure: 0.2187 - val_loss: 15.1107 - val_acc: 0.0625 - val_recall: 0.0625 - val_precision: 0.0625 - val_fmeasure: 0.0625\n",
      "Epoch 402/1500\n",
      "32/32 [==============================] - 1s - loss: 13.5996 - acc: 0.1562 - recall: 0.1562 - precision: 0.1562 - fmeasure: 0.1562 - val_loss: 15.6144 - val_acc: 0.0312 - val_recall: 0.0312 - val_precision: 0.0312 - val_fmeasure: 0.0312\n",
      "Epoch 403/1500\n",
      "32/32 [==============================] - 1s - loss: 13.0960 - acc: 0.1875 - recall: 0.1875 - precision: 0.1875 - fmeasure: 0.1875 - val_loss: 14.6070 - val_acc: 0.0938 - val_recall: 0.0938 - val_precision: 0.0938 - val_fmeasure: 0.0937\n",
      "Epoch 404/1500\n",
      "32/32 [==============================] - 1s - loss: 13.0960 - acc: 0.1875 - recall: 0.1875 - precision: 0.1875 - fmeasure: 0.1875 - val_loss: 13.5996 - val_acc: 0.1562 - val_recall: 0.1562 - val_precision: 0.1562 - val_fmeasure: 0.1562\n",
      "Epoch 405/1500\n",
      "32/32 [==============================] - 1s - loss: 13.0960 - acc: 0.1875 - recall: 0.1875 - precision: 0.1875 - fmeasure: 0.1875 - val_loss: 14.6070 - val_acc: 0.0938 - val_recall: 0.0938 - val_precision: 0.0938 - val_fmeasure: 0.0937\n",
      "Epoch 406/1500\n",
      "32/32 [==============================] - 1s - loss: 15.6144 - acc: 0.0312 - recall: 0.0312 - precision: 0.0312 - fmeasure: 0.0312 - val_loss: 13.5996 - val_acc: 0.1562 - val_recall: 0.1562 - val_precision: 0.1562 - val_fmeasure: 0.1562\n",
      "Epoch 407/1500\n",
      "32/32 [==============================] - 1s - loss: 12.5923 - acc: 0.2188 - recall: 0.2188 - precision: 0.2188 - fmeasure: 0.2187 - val_loss: 15.1107 - val_acc: 0.0625 - val_recall: 0.0625 - val_precision: 0.0625 - val_fmeasure: 0.0625\n",
      "Epoch 408/1500\n",
      "32/32 [==============================] - 1s - loss: 14.1033 - acc: 0.1250 - recall: 0.1250 - precision: 0.1250 - fmeasure: 0.1250 - val_loss: 14.6070 - val_acc: 0.0938 - val_recall: 0.0938 - val_precision: 0.0938 - val_fmeasure: 0.0937\n",
      "Epoch 409/1500\n",
      "32/32 [==============================] - 1s - loss: 14.1033 - acc: 0.1250 - recall: 0.1250 - precision: 0.1250 - fmeasure: 0.1250 - val_loss: 16.1181 - val_acc: 0.0000e+00 - val_recall: 0.0000e+00 - val_precision: 0.0000e+00 - val_fmeasure: 0.0000e+00\n",
      "Epoch 410/1500\n",
      "32/32 [==============================] - 1s - loss: 14.6070 - acc: 0.0938 - recall: 0.0938 - precision: 0.0938 - fmeasure: 0.0937 - val_loss: 14.1033 - val_acc: 0.1250 - val_recall: 0.1250 - val_precision: 0.1250 - val_fmeasure: 0.1250\n",
      "Epoch 411/1500\n",
      "32/32 [==============================] - 1s - loss: 13.0960 - acc: 0.1875 - recall: 0.1875 - precision: 0.1875 - fmeasure: 0.1875 - val_loss: 15.1107 - val_acc: 0.0625 - val_recall: 0.0625 - val_precision: 0.0625 - val_fmeasure: 0.0625\n",
      "Epoch 412/1500\n",
      "32/32 [==============================] - 1s - loss: 13.5996 - acc: 0.1562 - recall: 0.1562 - precision: 0.1562 - fmeasure: 0.1562 - val_loss: 14.1033 - val_acc: 0.1250 - val_recall: 0.1250 - val_precision: 0.1250 - val_fmeasure: 0.1250\n",
      "Epoch 413/1500\n",
      "32/32 [==============================] - 1s - loss: 13.0960 - acc: 0.1875 - recall: 0.1875 - precision: 0.1875 - fmeasure: 0.1875 - val_loss: 14.6070 - val_acc: 0.0938 - val_recall: 0.0938 - val_precision: 0.0938 - val_fmeasure: 0.0937\n",
      "Epoch 414/1500\n",
      "32/32 [==============================] - 1s - loss: 12.5923 - acc: 0.2188 - recall: 0.2188 - precision: 0.2188 - fmeasure: 0.2187 - val_loss: 13.5996 - val_acc: 0.1562 - val_recall: 0.1562 - val_precision: 0.1562 - val_fmeasure: 0.1562\n",
      "Epoch 415/1500\n",
      "32/32 [==============================] - 1s - loss: 11.5849 - acc: 0.2812 - recall: 0.2812 - precision: 0.2812 - fmeasure: 0.2812 - val_loss: 14.6070 - val_acc: 0.0938 - val_recall: 0.0938 - val_precision: 0.0938 - val_fmeasure: 0.0937\n",
      "Epoch 416/1500\n",
      "32/32 [==============================] - 1s - loss: 14.6070 - acc: 0.0938 - recall: 0.0938 - precision: 0.0938 - fmeasure: 0.0937 - val_loss: 15.1107 - val_acc: 0.0625 - val_recall: 0.0625 - val_precision: 0.0625 - val_fmeasure: 0.0625\n",
      "Epoch 417/1500\n",
      "32/32 [==============================] - 1s - loss: 13.5996 - acc: 0.1562 - recall: 0.1562 - precision: 0.1562 - fmeasure: 0.1562 - val_loss: 13.0960 - val_acc: 0.1875 - val_recall: 0.1875 - val_precision: 0.1875 - val_fmeasure: 0.1875\n",
      "Epoch 418/1500\n",
      "32/32 [==============================] - 1s - loss: 12.0886 - acc: 0.2500 - recall: 0.2500 - precision: 0.2500 - fmeasure: 0.2500 - val_loss: 12.5923 - val_acc: 0.2188 - val_recall: 0.2188 - val_precision: 0.2188 - val_fmeasure: 0.2187\n",
      "Epoch 419/1500\n",
      "32/32 [==============================] - 1s - loss: 14.6070 - acc: 0.0938 - recall: 0.0938 - precision: 0.0938 - fmeasure: 0.0937 - val_loss: 13.5996 - val_acc: 0.1562 - val_recall: 0.1562 - val_precision: 0.1562 - val_fmeasure: 0.1562\n",
      "Epoch 420/1500\n",
      "32/32 [==============================] - 1s - loss: 13.5996 - acc: 0.1562 - recall: 0.1562 - precision: 0.1562 - fmeasure: 0.1562 - val_loss: 13.5996 - val_acc: 0.1562 - val_recall: 0.1562 - val_precision: 0.1562 - val_fmeasure: 0.1562\n",
      "Epoch 421/1500\n",
      "32/32 [==============================] - 1s - loss: 14.6070 - acc: 0.0938 - recall: 0.0938 - precision: 0.0938 - fmeasure: 0.0937 - val_loss: 14.6070 - val_acc: 0.0938 - val_recall: 0.0938 - val_precision: 0.0938 - val_fmeasure: 0.0937\n",
      "Epoch 422/1500\n",
      "32/32 [==============================] - 1s - loss: 16.1181 - acc: 0.0000e+00 - recall: 0.0000e+00 - precision: 0.0000e+00 - fmeasure: 0.0000e+00 - val_loss: 14.1033 - val_acc: 0.1250 - val_recall: 0.1250 - val_precision: 0.1250 - val_fmeasure: 0.1250\n",
      "Epoch 423/1500\n",
      "32/32 [==============================] - 1s - loss: 14.1033 - acc: 0.1250 - recall: 0.1250 - precision: 0.1250 - fmeasure: 0.1250 - val_loss: 14.1033 - val_acc: 0.1250 - val_recall: 0.1250 - val_precision: 0.1250 - val_fmeasure: 0.1250\n",
      "Epoch 424/1500\n",
      "32/32 [==============================] - 1s - loss: 15.1107 - acc: 0.0625 - recall: 0.0625 - precision: 0.0625 - fmeasure: 0.0625 - val_loss: 12.5923 - val_acc: 0.2188 - val_recall: 0.2188 - val_precision: 0.2188 - val_fmeasure: 0.2187\n",
      "Epoch 425/1500\n",
      "32/32 [==============================] - 1s - loss: 14.6070 - acc: 0.0938 - recall: 0.0938 - precision: 0.0938 - fmeasure: 0.0937 - val_loss: 12.5923 - val_acc: 0.2188 - val_recall: 0.2188 - val_precision: 0.2188 - val_fmeasure: 0.2187\n",
      "Epoch 426/1500\n",
      "32/32 [==============================] - 1s - loss: 12.0886 - acc: 0.2500 - recall: 0.2500 - precision: 0.2500 - fmeasure: 0.2500 - val_loss: 14.6070 - val_acc: 0.0938 - val_recall: 0.0938 - val_precision: 0.0938 - val_fmeasure: 0.0937\n",
      "Epoch 427/1500\n",
      "32/32 [==============================] - 1s - loss: 13.5996 - acc: 0.1562 - recall: 0.1562 - precision: 0.1562 - fmeasure: 0.1562 - val_loss: 13.5996 - val_acc: 0.1562 - val_recall: 0.1562 - val_precision: 0.1562 - val_fmeasure: 0.1562\n",
      "Epoch 428/1500\n",
      "32/32 [==============================] - 1s - loss: 14.1033 - acc: 0.1250 - recall: 0.1250 - precision: 0.1250 - fmeasure: 0.1250 - val_loss: 12.5923 - val_acc: 0.2188 - val_recall: 0.2188 - val_precision: 0.2188 - val_fmeasure: 0.2187\n",
      "Epoch 429/1500\n",
      "32/32 [==============================] - 1s - loss: 12.0886 - acc: 0.2500 - recall: 0.2500 - precision: 0.2500 - fmeasure: 0.2500 - val_loss: 13.0960 - val_acc: 0.1875 - val_recall: 0.1875 - val_precision: 0.1875 - val_fmeasure: 0.1875\n",
      "Epoch 430/1500\n",
      "32/32 [==============================] - 1s - loss: 14.1033 - acc: 0.1250 - recall: 0.1250 - precision: 0.1250 - fmeasure: 0.1250 - val_loss: 14.6070 - val_acc: 0.0938 - val_recall: 0.0938 - val_precision: 0.0938 - val_fmeasure: 0.0937\n",
      "Epoch 431/1500\n",
      "32/32 [==============================] - 1s - loss: 13.0960 - acc: 0.1875 - recall: 0.1875 - precision: 0.1875 - fmeasure: 0.1875 - val_loss: 13.5996 - val_acc: 0.1562 - val_recall: 0.1562 - val_precision: 0.1562 - val_fmeasure: 0.1562\n",
      "Epoch 432/1500\n",
      "32/32 [==============================] - 1s - loss: 15.6144 - acc: 0.0312 - recall: 0.0312 - precision: 0.0312 - fmeasure: 0.0312 - val_loss: 15.1107 - val_acc: 0.0625 - val_recall: 0.0625 - val_precision: 0.0625 - val_fmeasure: 0.0625\n",
      "Epoch 433/1500\n",
      "32/32 [==============================] - 1s - loss: 15.1107 - acc: 0.0625 - recall: 0.0625 - precision: 0.0625 - fmeasure: 0.0625 - val_loss: 14.1033 - val_acc: 0.1250 - val_recall: 0.1250 - val_precision: 0.1250 - val_fmeasure: 0.1250\n",
      "Epoch 434/1500\n",
      "32/32 [==============================] - 1s - loss: 13.5996 - acc: 0.1562 - recall: 0.1562 - precision: 0.1562 - fmeasure: 0.1562 - val_loss: 14.6070 - val_acc: 0.0938 - val_recall: 0.0938 - val_precision: 0.0938 - val_fmeasure: 0.0937\n",
      "Epoch 435/1500\n",
      "32/32 [==============================] - 1s - loss: 12.0886 - acc: 0.2500 - recall: 0.2500 - precision: 0.2500 - fmeasure: 0.2500 - val_loss: 14.1033 - val_acc: 0.1250 - val_recall: 0.1250 - val_precision: 0.1250 - val_fmeasure: 0.1250\n",
      "Epoch 436/1500\n",
      "32/32 [==============================] - 1s - loss: 14.6070 - acc: 0.0938 - recall: 0.0938 - precision: 0.0938 - fmeasure: 0.0937 - val_loss: 13.0960 - val_acc: 0.1875 - val_recall: 0.1875 - val_precision: 0.1875 - val_fmeasure: 0.1875\n",
      "Epoch 437/1500\n",
      "32/32 [==============================] - 1s - loss: 13.5996 - acc: 0.1562 - recall: 0.1562 - precision: 0.1562 - fmeasure: 0.1562 - val_loss: 14.1033 - val_acc: 0.1250 - val_recall: 0.1250 - val_precision: 0.1250 - val_fmeasure: 0.1250\n",
      "Epoch 438/1500\n",
      "32/32 [==============================] - 1s - loss: 14.6070 - acc: 0.0938 - recall: 0.0938 - precision: 0.0938 - fmeasure: 0.0937 - val_loss: 13.5996 - val_acc: 0.1562 - val_recall: 0.1562 - val_precision: 0.1562 - val_fmeasure: 0.1562\n",
      "Epoch 439/1500\n",
      "32/32 [==============================] - 1s - loss: 13.0960 - acc: 0.1875 - recall: 0.1875 - precision: 0.1875 - fmeasure: 0.1875 - val_loss: 15.6144 - val_acc: 0.0312 - val_recall: 0.0312 - val_precision: 0.0312 - val_fmeasure: 0.0312\n",
      "Epoch 440/1500\n",
      "32/32 [==============================] - 1s - loss: 13.0960 - acc: 0.1875 - recall: 0.1875 - precision: 0.1875 - fmeasure: 0.1875 - val_loss: 14.6070 - val_acc: 0.0938 - val_recall: 0.0938 - val_precision: 0.0938 - val_fmeasure: 0.0937\n",
      "Epoch 441/1500\n",
      "32/32 [==============================] - 1s - loss: 13.5996 - acc: 0.1562 - recall: 0.1562 - precision: 0.1562 - fmeasure: 0.1562 - val_loss: 14.6070 - val_acc: 0.0938 - val_recall: 0.0938 - val_precision: 0.0938 - val_fmeasure: 0.0937\n",
      "Epoch 442/1500\n",
      "32/32 [==============================] - 1s - loss: 15.6144 - acc: 0.0312 - recall: 0.0312 - precision: 0.0312 - fmeasure: 0.0312 - val_loss: 13.0960 - val_acc: 0.1875 - val_recall: 0.1875 - val_precision: 0.1875 - val_fmeasure: 0.1875\n",
      "Epoch 443/1500\n",
      "32/32 [==============================] - 1s - loss: 13.5996 - acc: 0.1562 - recall: 0.1562 - precision: 0.1562 - fmeasure: 0.1562 - val_loss: 15.1107 - val_acc: 0.0625 - val_recall: 0.0625 - val_precision: 0.0625 - val_fmeasure: 0.0625\n",
      "Epoch 444/1500\n"
     ]
    }
   ],
   "source": [
    "history = model.fit_generator(w_age_train_gen, \n",
    "                              validation_data=w_age_valid_gen,\n",
    "                              nb_val_samples=BATCH_SIZE,\n",
    "                              samples_per_epoch=BATCH_SIZE, \n",
    "                              nb_epoch=NUM_EPOCHS)"
   ]
  },
  {
   "cell_type": "markdown",
   "metadata": {
    "deletable": true,
    "editable": true
   },
   "source": [
    "## 7. Evaluating the results"
   ]
  },
  {
   "cell_type": "code",
   "execution_count": null,
   "metadata": {
    "collapsed": false,
    "deletable": true,
    "editable": true
   },
   "outputs": [],
   "source": [
    "train_history = history.history['acc']\n",
    "valid_history = history.history['val_acc']"
   ]
  },
  {
   "cell_type": "code",
   "execution_count": null,
   "metadata": {
    "collapsed": false,
    "deletable": true,
    "editable": true
   },
   "outputs": [],
   "source": [
    " # Plotting training accuracy and testing accuracy acros epochs\n",
    "plt.figure(figsize=(20,10))\n",
    "plt.plot(train_history)\n",
    "plt.plot(valid_history)\n",
    "plt.title('Training and Validation Accuracy')\n",
    "plt.ylabel('accuracy')\n",
    "plt.xlabel('epoch')\n",
    "plt.legend(['train', 'test'], loc='upper left')\n",
    "plt.show()\n",
    "plt.savefig(PIC_NAME)"
   ]
  },
  {
   "cell_type": "code",
   "execution_count": null,
   "metadata": {
    "collapsed": true,
    "deletable": true,
    "editable": true
   },
   "outputs": [],
   "source": [
    "# Tail-rolling average transform\n",
    "series_train = Series(train_history)\n",
    "rolling_train = series_train.rolling(window=100)\n",
    "rolling_mean_train = rolling_train.mean()\n",
    "\n",
    "series_valid = Series(valid_history)\n",
    "rolling_valid = series_valid.rolling(window=100)\n",
    "rolling_mean_valid = rolling_valid.mean()"
   ]
  },
  {
   "cell_type": "code",
   "execution_count": null,
   "metadata": {
    "collapsed": false,
    "deletable": true,
    "editable": true
   },
   "outputs": [],
   "source": [
    "plt.figure(figsize=(20,10))\n",
    "plt.plot(rolling_mean_train)\n",
    "plt.plot(rolling_mean_valid)\n",
    "plt.title('Smoothened training and Validation Accuracy')\n",
    "plt.ylabel('accuracy')\n",
    "plt.xlabel('epoch')\n",
    "plt.legend(['train', 'validation'], loc='upper left')\n",
    "plt.show()"
   ]
  },
  {
   "cell_type": "code",
   "execution_count": null,
   "metadata": {
    "collapsed": false,
    "deletable": true,
    "editable": true
   },
   "outputs": [],
   "source": [
    "# Saving histories\n",
    "np.save(TRA_HISTORY_NAME, train_history)\n",
    "np.save(VAL_HISTORY_NAME, valid_history)"
   ]
  },
  {
   "cell_type": "code",
   "execution_count": null,
   "metadata": {
    "collapsed": true,
    "deletable": true,
    "editable": true
   },
   "outputs": [],
   "source": [
    "# saving weights\n",
    "model.save_weights(WEIGHTS_NAME)"
   ]
  },
  {
   "cell_type": "markdown",
   "metadata": {
    "deletable": true,
    "editable": true
   },
   "source": [
    "### Results on Adience"
   ]
  },
  {
   "cell_type": "code",
   "execution_count": null,
   "metadata": {
    "collapsed": false,
    "deletable": true,
    "editable": true
   },
   "outputs": [],
   "source": [
    "model.evaluate_generator(adience_age_test_gen,BATCH_SIZE*400)"
   ]
  },
  {
   "cell_type": "code",
   "execution_count": null,
   "metadata": {
    "collapsed": true
   },
   "outputs": [],
   "source": [
    "raise Ex"
   ]
  },
  {
   "cell_type": "markdown",
   "metadata": {
    "deletable": true,
    "editable": true
   },
   "source": [
    "## Finetuning with Adience"
   ]
  },
  {
   "cell_type": "code",
   "execution_count": null,
   "metadata": {
    "collapsed": false,
    "deletable": true,
    "editable": true
   },
   "outputs": [],
   "source": [
    "history = model.fit_generator(adience_age_train_gen, \n",
    "                              validation_data=adience_age_valid_gen,\n",
    "                              nb_val_samples=BATCH_SIZE,\n",
    "                              samples_per_epoch=BATCH_SIZE, \n",
    "                              nb_epoch=NUM_EPOCHS)"
   ]
  },
  {
   "cell_type": "code",
   "execution_count": null,
   "metadata": {
    "collapsed": true,
    "deletable": true,
    "editable": true
   },
   "outputs": [],
   "source": [
    "train_history = history.history['acc']\n",
    "valid_history = history.history['val_acc']"
   ]
  },
  {
   "cell_type": "code",
   "execution_count": null,
   "metadata": {
    "collapsed": false,
    "deletable": true,
    "editable": true
   },
   "outputs": [],
   "source": [
    " # Plotting training accuracy and testing accuracy acros epochs\n",
    "plt.figure(figsize=(20,10))\n",
    "plt.plot(train_history)\n",
    "plt.plot(valid_history)\n",
    "plt.title('Training and Validation Accuracy')\n",
    "plt.ylabel('accuracy')\n",
    "plt.xlabel('epoch')\n",
    "plt.legend(['train', 'test'], loc='upper left')\n",
    "plt.show()\n",
    "plt.savefig(PIC_NAME_FINETUNING)"
   ]
  },
  {
   "cell_type": "code",
   "execution_count": null,
   "metadata": {
    "collapsed": false,
    "deletable": true,
    "editable": true
   },
   "outputs": [],
   "source": [
    "# Tail-rolling average transform\n",
    "series_train = Series(train_history)\n",
    "rolling_train = series_train.rolling(window=100)\n",
    "rolling_mean_train = rolling_train.mean()\n",
    "\n",
    "series_valid = Series(valid_history)\n",
    "rolling_valid = series_valid.rolling(window=100)\n",
    "rolling_mean_valid = rolling_valid.mean()"
   ]
  },
  {
   "cell_type": "code",
   "execution_count": null,
   "metadata": {
    "collapsed": false,
    "deletable": true,
    "editable": true
   },
   "outputs": [],
   "source": [
    "plt.figure(figsize=(20,10))\n",
    "plt.plot(rolling_mean_train)\n",
    "plt.plot(rolling_mean_valid)\n",
    "plt.title('Smoothened training and Validation Accuracy')\n",
    "plt.ylabel('accuracy')\n",
    "plt.xlabel('epoch')\n",
    "plt.legend(['train', 'validation'], loc='upper left')\n",
    "plt.show()"
   ]
  },
  {
   "cell_type": "code",
   "execution_count": null,
   "metadata": {
    "collapsed": false,
    "deletable": true,
    "editable": true
   },
   "outputs": [],
   "source": [
    "# Saving histories\n",
    "np.save(TRA_HISTORY_NAME_FINETUNING, train_history)\n",
    "np.save(VAL_HISTORY_NAME_FINETUNING, valid_history)"
   ]
  },
  {
   "cell_type": "code",
   "execution_count": null,
   "metadata": {
    "collapsed": true,
    "deletable": true,
    "editable": true
   },
   "outputs": [],
   "source": [
    "# saving weights\n",
    "model.save_weights(WEIGHTS_NAME_FINETUNING)"
   ]
  },
  {
   "cell_type": "code",
   "execution_count": null,
   "metadata": {
    "collapsed": false,
    "deletable": true,
    "editable": true
   },
   "outputs": [],
   "source": [
    "model.evaluate_generator(adience_age_test_gen,BATCH_SIZE*400)"
   ]
  }
 ],
 "metadata": {
  "kernelspec": {
   "display_name": "Python 2",
   "language": "python",
   "name": "python2"
  },
  "language_info": {
   "codemirror_mode": {
    "name": "ipython",
    "version": 2
   },
   "file_extension": ".py",
   "mimetype": "text/x-python",
   "name": "python",
   "nbconvert_exporter": "python",
   "pygments_lexer": "ipython2",
   "version": "2.7.6"
  }
 },
 "nbformat": 4,
 "nbformat_minor": 2
}
