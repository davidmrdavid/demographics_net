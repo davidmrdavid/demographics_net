{
 "cells": [
  {
   "cell_type": "markdown",
   "metadata": {},
   "source": [
    "<center><h1>2. Vainilla CNNs</h1></center>"
   ]
  },
  {
   "cell_type": "code",
   "execution_count": 12,
   "metadata": {
    "collapsed": false
   },
   "outputs": [],
   "source": [
    "# Necessary modules\n",
    "from keras.models import Sequential\n",
    "from keras.layers import Dense, Dropout, Activation, Flatten\n",
    "from keras.layers import Convolution2D, MaxPooling2D"
   ]
  },
  {
   "cell_type": "code",
   "execution_count": 25,
   "metadata": {
    "collapsed": false
   },
   "outputs": [],
   "source": [
    "# Building a vainilla CNN\n",
    "vainilla_cnn = Sequential()\n",
    "vainilla_cnn.add(Convolution2D(32, 3, 3,input_shape=(300,300,1)))\n",
    "vainilla_cnn.add(Activation('relu'))\n",
    "vainilla_cnn.add(MaxPooling2D(pool_size=(2, 2)))\n",
    "vainilla_cnn.add(Convolution2D(64, 3, 3))\n",
    "vainilla_cnn.add(Activation('relu'))\n",
    "vainilla_cnn.add(Convolution2D(64, 3, 3))\n",
    "vainilla_cnn.add(Activation('relu'))\n",
    "vainilla_cnn.add(MaxPooling2D(pool_size=(2, 2)))\n",
    "vainilla_cnn.add(Flatten())\n",
    "vainilla_cnn.add(Dense(output_dim=100, input_dim=500))\n",
    "vainilla_cnn.add(Activation(\"relu\"))\n",
    "vainilla_cnn.add(Dense(output_dim=200, input_dim=500))\n",
    "vainilla_cnn.add(Activation(\"relu\"))\n",
    "vainilla_cnn.add(Dense(output_dim=1))\n",
    "vainilla_cnn.add(Activation(\"sigmoid\"))"
   ]
  },
  {
   "cell_type": "code",
   "execution_count": 26,
   "metadata": {
    "collapsed": false
   },
   "outputs": [],
   "source": [
    "# Compile\n",
    "vainilla_cnn.compile(loss='binary_crossentropy', optimizer='sgd', metrics=['accuracy'])"
   ]
  },
  {
   "cell_type": "code",
   "execution_count": 28,
   "metadata": {
    "collapsed": true
   },
   "outputs": [],
   "source": [
    "# Train\n",
    "# [FINISH ME]"
   ]
  }
 ],
 "metadata": {
  "kernelspec": {
   "display_name": "Python 2",
   "language": "python",
   "name": "python2"
  },
  "language_info": {
   "codemirror_mode": {
    "name": "ipython",
    "version": 2
   },
   "file_extension": ".py",
   "mimetype": "text/x-python",
   "name": "python",
   "nbconvert_exporter": "python",
   "pygments_lexer": "ipython2",
   "version": "2.7.12"
  }
 },
 "nbformat": 4,
 "nbformat_minor": 2
}
