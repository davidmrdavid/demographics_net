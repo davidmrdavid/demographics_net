{
 "cells": [
  {
   "cell_type": "markdown",
   "metadata": {},
   "source": [
    "<center><h1>2. Vainilla CNNs</h1></center>"
   ]
  },
  {
   "cell_type": "code",
   "execution_count": 1,
   "metadata": {
    "collapsed": false
   },
   "outputs": [
    {
     "name": "stderr",
     "output_type": "stream",
     "text": [
      "Using Theano backend.\n"
     ]
    }
   ],
   "source": [
    "# Necessary modules\n",
    "import pandas as pd\n",
    "import numpy as np\n",
    "\n",
    "from keras.models import Sequential\n",
    "from keras.layers import Dense, Dropout, Activation, Flatten\n",
    "from keras.layers import Convolution2D, MaxPooling2D\n",
    "from keras.preprocessing.image import ImageDataGenerator, array_to_img, img_to_array, load_img\n",
    "from keras.optimizers import SGD"
   ]
  },
  {
   "cell_type": "code",
   "execution_count": 2,
   "metadata": {
    "collapsed": false
   },
   "outputs": [
    {
     "name": "stderr",
     "output_type": "stream",
     "text": [
      "/Library/Python/2.7/site-packages/ipykernel/__main__.py:4: SettingWithCopyWarning: \n",
      "A value is trying to be set on a copy of a slice from a DataFrame\n",
      "\n",
      "See the caveats in the documentation: http://pandas.pydata.org/pandas-docs/stable/indexing.html#indexing-view-versus-copy\n",
      "/Library/Python/2.7/site-packages/ipykernel/__main__.py:5: SettingWithCopyWarning: \n",
      "A value is trying to be set on a copy of a slice from a DataFrame\n",
      "\n",
      "See the caveats in the documentation: http://pandas.pydata.org/pandas-docs/stable/indexing.html#indexing-view-versus-copy\n",
      "/Library/Python/2.7/site-packages/ipykernel/__main__.py:6: SettingWithCopyWarning: \n",
      "A value is trying to be set on a copy of a slice from a DataFrame\n",
      "\n",
      "See the caveats in the documentation: http://pandas.pydata.org/pandas-docs/stable/indexing.html#indexing-view-versus-copy\n"
     ]
    }
   ],
   "source": [
    "# Get the data\n",
    "data = pd.read_csv(filepath_or_buffer=\"../data/face_image_project/fold_0_data.txt\", sep=\"\\t\")\n",
    "#data = pd.get_dummies(data, columns=[\"gender\"])\n",
    "data[\"gender\"][data[\"gender\"] == \"f\"] = 0\n",
    "data[\"gender\"][data[\"gender\"] == \"m\"] = 1\n",
    "data[\"gender\"][data[\"gender\"] == \"u\"] = 0"
   ]
  },
  {
   "cell_type": "code",
   "execution_count": 3,
   "metadata": {
    "collapsed": false
   },
   "outputs": [],
   "source": [
    "def rowToImgPath(row):\n",
    "    userid = row[\"user_id\"]\n",
    "    faceid = row[\"face_id\"]\n",
    "    original_img = row[\"original_image\"]\n",
    "    imgPath = \"../data/face_image_project/aligned/%s/landmark_aligned_face.%d.%s\" % (userid, faceid, original_img)\n",
    "    return imgPath\n",
    "\n",
    "def loadXY(data):\n",
    "    \"\"\" BE INCREDIBLY CAREFUL... The data is large - you could run out of memory and start thrashing.\n",
    "    It is highly advised to load a small subset at a time (100-200 rows)\n",
    "    \"\"\" \n",
    "    X = np.zeros((len(data), 816, 816, 3))\n",
    "    #Y = data[[\"gender_f\", \"gender_m\", \"gender_u\"]]\n",
    "    Y = data[\"gender\"]\n",
    "    for i in range(len(data)):\n",
    "        row = data.iloc[i]\n",
    "        img = load_img(rowToImgPath(row))\n",
    "        imgArray = img_to_array(img)\n",
    "        X[i] = imgArray\n",
    "    return X, Y\n",
    "\n",
    "def generateXY(data, size=5):\n",
    "    \"\"\" From Keras fit_generator API: The generator is expected to loop over its data indefinitely. \"\"\"\n",
    "    while True:\n",
    "        start, end = 0, size\n",
    "        while end <= len(data):\n",
    "            #print start, end\n",
    "            yield loadXY(data[start: end])\n",
    "            start, end =  start + size, end + size"
   ]
  },
  {
   "cell_type": "code",
   "execution_count": 4,
   "metadata": {
    "collapsed": false
   },
   "outputs": [],
   "source": [
    "# Building a vainilla CNN\n",
    "vainilla_cnn = Sequential()\n",
    "vainilla_cnn.add(Convolution2D(32, 3, 3, input_shape=(816,816,3)))\n",
    "vainilla_cnn.add(Activation('relu'))\n",
    "vainilla_cnn.add(MaxPooling2D(pool_size=(2, 2)))\n",
    "vainilla_cnn.add(Convolution2D(64, 3, 3))\n",
    "vainilla_cnn.add(Activation('relu'))\n",
    "vainilla_cnn.add(Convolution2D(64, 3, 3))\n",
    "vainilla_cnn.add(Activation('relu'))\n",
    "vainilla_cnn.add(MaxPooling2D(pool_size=(2, 2)))\n",
    "vainilla_cnn.add(Flatten())\n",
    "vainilla_cnn.add(Dense(output_dim=100, input_dim=500))\n",
    "vainilla_cnn.add(Activation(\"relu\"))\n",
    "vainilla_cnn.add(Dense(output_dim=200, input_dim=500))\n",
    "vainilla_cnn.add(Activation(\"relu\"))\n",
    "vainilla_cnn.add(Dense(output_dim=1))\n",
    "vainilla_cnn.add(Activation(\"sigmoid\"))"
   ]
  },
  {
   "cell_type": "code",
   "execution_count": 5,
   "metadata": {
    "collapsed": false
   },
   "outputs": [],
   "source": [
    "# Compile\n",
    "sgd = SGD(lr=0.1, decay=1e-6, momentum=0.9, nesterov=True)\n",
    "vainilla_cnn.compile(loss='binary_crossentropy', optimizer=sgd, metrics=['accuracy'])"
   ]
  },
  {
   "cell_type": "code",
   "execution_count": 7,
   "metadata": {
    "collapsed": false
   },
   "outputs": [
    {
     "name": "stdout",
     "output_type": "stream",
     "text": [
      "Epoch 1/20\n",
      "5/2 [===========================================================================] - 28s - loss: 6.3770 - acc: 0.6000\n",
      "Epoch 2/20\n",
      "5/2 [===========================================================================] - 28s - loss: 12.7539 - acc: 0.2000\n",
      "Epoch 3/20\n",
      "5/2 [===========================================================================] - 26s - loss: 6.3770 - acc: 0.6000\n",
      "Epoch 4/20\n",
      "5/2 [===========================================================================] - 25s - loss: 6.3770 - acc: 0.6000\n",
      "Epoch 5/20\n",
      "5/2 [===========================================================================] - 22s - loss: 6.3770 - acc: 0.6000\n",
      "Epoch 6/20\n",
      "5/2 [===========================================================================] - 21s - loss: 12.7539 - acc: 0.2000\n",
      "Epoch 7/20\n",
      "5/2 [===========================================================================] - 21s - loss: 6.3770 - acc: 0.6000\n",
      "Epoch 8/20\n",
      "5/2 [===========================================================================] - 22s - loss: 6.3770 - acc: 0.6000\n",
      "Epoch 9/20\n",
      "5/2 [===========================================================================] - 20s - loss: 6.3770 - acc: 0.6000\n",
      "Epoch 10/20\n",
      "5/2 [===========================================================================] - 23s - loss: 12.7539 - acc: 0.2000\n",
      "Epoch 11/20\n",
      "5/2 [===========================================================================] - 23s - loss: 6.3770 - acc: 0.6000\n",
      "Epoch 12/20\n",
      "5/2 [===========================================================================] - 20s - loss: 6.3770 - acc: 0.6000\n",
      "Epoch 13/20\n",
      "5/2 [===========================================================================] - 19s - loss: 6.3770 - acc: 0.6000\n",
      "Epoch 14/20\n",
      "5/2 [===========================================================================] - 19s - loss: 12.7539 - acc: 0.2000\n",
      "Epoch 15/20\n",
      "5/2 [===========================================================================] - 20s - loss: 6.3770 - acc: 0.6000\n",
      "Epoch 16/20\n",
      "5/2 [===========================================================================] - 20s - loss: 6.3770 - acc: 0.6000\n",
      "Epoch 17/20\n",
      "5/2 [===========================================================================] - 21s - loss: 6.3770 - acc: 0.6000\n",
      "Epoch 18/20\n",
      "5/2 [===========================================================================] - 20s - loss: 12.7539 - acc: 0.2000\n",
      "Epoch 19/20\n",
      "5/2 [===========================================================================] - 19s - loss: 6.3770 - acc: 0.6000\n",
      "Epoch 20/20\n",
      "5/2 [===========================================================================] - 24s - loss: 6.3770 - acc: 0.6000\n"
     ]
    },
    {
     "name": "stderr",
     "output_type": "stream",
     "text": [
      "/Library/Python/2.7/site-packages/keras/engine/training.py:1462: UserWarning: Epoch comprised more than `samples_per_epoch` samples, which might affect learning results. Set `samples_per_epoch` correctly to avoid this warning.\n",
      "  warnings.warn('Epoch comprised more than '\n"
     ]
    },
    {
     "data": {
      "text/plain": [
       "<keras.callbacks.History at 0x10a6a1fd0>"
      ]
     },
     "execution_count": 7,
     "metadata": {},
     "output_type": "execute_result"
    }
   ],
   "source": [
    "# Train\n",
    "vainilla_cnn.fit_generator(generateXY(data[:20]), samples_per_epoch=2, nb_epoch=20)"
   ]
  }
 ],
 "metadata": {
  "kernelspec": {
   "display_name": "Python 2",
   "language": "python",
   "name": "python2"
  }
 },
 "nbformat": 4,
 "nbformat_minor": 2
}
