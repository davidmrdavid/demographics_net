{
 "cells": [
  {
   "cell_type": "markdown",
   "metadata": {
    "deletable": true,
    "editable": true
   },
   "source": [
    "<center><h1>1. Cross Validation Prep</h1></center>"
   ]
  },
  {
   "cell_type": "markdown",
   "metadata": {
    "deletable": true,
    "editable": true
   },
   "source": [
    "## About this notebook"
   ]
  },
  {
   "cell_type": "markdown",
   "metadata": {
    "deletable": true,
    "editable": true
   },
   "source": [
    "In order to evaluate our model, we need to split our available data intro training, validation and testing portions. That way, we can use the traning split to learn parameters, the validation set to decide on hyperparameters and the testing set to determine the final performance of our models unseen data. This method of model evaluation is called <b>Cross Validation</b>.\n",
    "\n",
    "However, it is often problematic to decide on which portions of the dataset should be used for training, testing and validation because the quality of the splits has a non-trivial effect on the model's performance. Luckily enough, the question of which portion to use for testing is already answered by the Adience Benchmark guidelines. More precisely, the 5th fold - that would be the fold4 because the folds are indexed starting at 0- is to be used as the testing set.\n",
    "\n",
    "With that question out of the way, we're still concerned with how to split the remaining data into a training and validation split. The technique of <b>K-Fold Cross Validation</b> answer this question by creating K different training and validation splits out of the remaining data, then testing our model and all of them and having the average performance of our models on all splits be our measure of accuracy / 'goodness'. We'll be using a specific variant of K-Fold Cross Validation called <b>Stratified K-Fold Cross Validation</b>.\n",
    "\n",
    "Stratified K-Fold Cross Validation forces the K different training-validation splits to have roughly the same distribution of classes in each of them. The idea here is to prevent any fold from having a non-trivial excess of a given class that would then bias the classifier created on it.\n",
    "\n",
    "Lastly, after our folds have been created, we'll organize them into directories in such a way that Keras's Image Processing tools can make use of it without extra -often hacky- workarounds"
   ]
  },
  {
   "cell_type": "markdown",
   "metadata": {
    "deletable": true,
    "editable": true
   },
   "source": [
    "## Suggested Sources"
   ]
  },
  {
   "cell_type": "markdown",
   "metadata": {
    "deletable": true,
    "editable": true
   },
   "source": [
    "If the explanation above didn't quite make sense. I recommend reviewing the sources below.\n",
    "\n",
    "1. https://www.youtube.com/watch?v=TIgfjmp-4BA\n",
    "2. stats.stackexchange.com/questions/117643/why-use-stratified-cross-validation-why-does-this-not-damage-variance-related-b"
   ]
  },
  {
   "cell_type": "markdown",
   "metadata": {
    "deletable": true,
    "editable": true
   },
   "source": [
    "## Creating the foundational splits on the Adience Benchmark"
   ]
  },
  {
   "cell_type": "markdown",
   "metadata": {
    "deletable": true,
    "editable": true
   },
   "source": [
    "Adience Benchmark source: http://www.openu.ac.il/home/hassner/Adience/data.html"
   ]
  },
  {
   "cell_type": "code",
   "execution_count": 314,
   "metadata": {
    "collapsed": false,
    "deletable": true,
    "editable": true
   },
   "outputs": [],
   "source": [
    "# Necessary imports\n",
    "import os\n",
    "import pandas as pd\n",
    "import numpy  as np\n",
    "from sklearn.model_selection import StratifiedShuffleSplit"
   ]
  },
  {
   "cell_type": "code",
   "execution_count": 315,
   "metadata": {
    "collapsed": true,
    "deletable": true,
    "editable": true
   },
   "outputs": [],
   "source": [
    "# Useful constants\n",
    "num_train_folds   = 4\n",
    "ind_test_fold     = 4\n",
    "validation_splits = 4\n",
    "\n",
    "metadata_path  = \"../data/face_image_project/fold_%s_data.txt\"\n",
    "metadata_test  = metadata_path % ind_test_fold\n",
    "\n",
    "img_path         = \"../data/face_image_project/aligned/%s/landmark_aligned_face.%d.%s\"\n",
    "keras_train_path = \"../data/face_image_project/keras_format/train/%s/%d.jpg\"\n",
    "keras_valid_path = \"../data/face_image_project/keras_format/vali/%s/%d.jpg\"\n",
    "keras_test_path  = \"../data/face_image_project/keras_format/test/%s/%d.jpg\"\n",
    "\n",
    "relevant_cols = [\"user_id\",\"face_id\",\"original_image\",\"gender\",\"age\"]"
   ]
  },
  {
   "cell_type": "code",
   "execution_count": 316,
   "metadata": {
    "collapsed": false,
    "deletable": true,
    "editable": true
   },
   "outputs": [],
   "source": [
    "# Extracting the test partition and creating a combined train_validation (trvl) superset\n",
    "\n",
    "folds = []\n",
    "for index in range(num_train_folds):\n",
    "    path = metadata_path % index\n",
    "    folds.append(pd.read_csv(filepath_or_buffer=path, sep=\"\\t\"))\n",
    "    \n",
    "trvl_meta = pd.concat(folds, ignore_index=True)\n",
    "test_meta   = pd.read_csv(filepath_or_buffer=metadata_test, sep=\"\\t\")\n",
    "\n",
    "trvl_meta = trvl_meta[relevant_cols]\n",
    "test_meta = test_meta[relevant_cols]"
   ]
  },
  {
   "cell_type": "markdown",
   "metadata": {
    "deletable": true,
    "editable": true
   },
   "source": [
    "At this point, we've created an initial partition of our dataset into a testing split and its complement. Both splits still need more processing before they're ready for primetime"
   ]
  },
  {
   "cell_type": "markdown",
   "metadata": {
    "deletable": true,
    "editable": true
   },
   "source": [
    "## Overview of current splits"
   ]
  },
  {
   "cell_type": "markdown",
   "metadata": {
    "deletable": true,
    "editable": true
   },
   "source": [
    "### Testing split"
   ]
  },
  {
   "cell_type": "code",
   "execution_count": 317,
   "metadata": {
    "collapsed": false,
    "deletable": true,
    "editable": true
   },
   "outputs": [
    {
     "data": {
      "text/html": [
       "<div>\n",
       "<table border=\"1\" class=\"dataframe\">\n",
       "  <thead>\n",
       "    <tr style=\"text-align: right;\">\n",
       "      <th></th>\n",
       "      <th>user_id</th>\n",
       "      <th>face_id</th>\n",
       "      <th>original_image</th>\n",
       "      <th>gender</th>\n",
       "      <th>age</th>\n",
       "    </tr>\n",
       "  </thead>\n",
       "  <tbody>\n",
       "    <tr>\n",
       "      <th>0</th>\n",
       "      <td>115321157@N03</td>\n",
       "      <td>1744</td>\n",
       "      <td>12111738395_a7f715aa4e_o.jpg</td>\n",
       "      <td>m</td>\n",
       "      <td>(4, 6)</td>\n",
       "    </tr>\n",
       "    <tr>\n",
       "      <th>1</th>\n",
       "      <td>115321157@N03</td>\n",
       "      <td>1745</td>\n",
       "      <td>12112413505_0aea8e17c6_o.jpg</td>\n",
       "      <td>m</td>\n",
       "      <td>(48, 53)</td>\n",
       "    </tr>\n",
       "    <tr>\n",
       "      <th>2</th>\n",
       "      <td>115321157@N03</td>\n",
       "      <td>1744</td>\n",
       "      <td>12112392255_995532c2f0_o.jpg</td>\n",
       "      <td>m</td>\n",
       "      <td>(4, 6)</td>\n",
       "    </tr>\n",
       "    <tr>\n",
       "      <th>3</th>\n",
       "      <td>115321157@N03</td>\n",
       "      <td>1746</td>\n",
       "      <td>12112392255_995532c2f0_o.jpg</td>\n",
       "      <td>m</td>\n",
       "      <td>(25, 32)</td>\n",
       "    </tr>\n",
       "    <tr>\n",
       "      <th>4</th>\n",
       "      <td>115321157@N03</td>\n",
       "      <td>1747</td>\n",
       "      <td>12112392255_995532c2f0_o.jpg</td>\n",
       "      <td>m</td>\n",
       "      <td>(25, 32)</td>\n",
       "    </tr>\n",
       "  </tbody>\n",
       "</table>\n",
       "</div>"
      ],
      "text/plain": [
       "         user_id  face_id                original_image gender       age\n",
       "0  115321157@N03     1744  12111738395_a7f715aa4e_o.jpg      m    (4, 6)\n",
       "1  115321157@N03     1745  12112413505_0aea8e17c6_o.jpg      m  (48, 53)\n",
       "2  115321157@N03     1744  12112392255_995532c2f0_o.jpg      m    (4, 6)\n",
       "3  115321157@N03     1746  12112392255_995532c2f0_o.jpg      m  (25, 32)\n",
       "4  115321157@N03     1747  12112392255_995532c2f0_o.jpg      m  (25, 32)"
      ]
     },
     "execution_count": 317,
     "metadata": {},
     "output_type": "execute_result"
    }
   ],
   "source": [
    "test_meta.head()"
   ]
  },
  {
   "cell_type": "code",
   "execution_count": 318,
   "metadata": {
    "collapsed": false,
    "deletable": true,
    "editable": true
   },
   "outputs": [
    {
     "data": {
      "text/plain": [
       "(3816, 5)"
      ]
     },
     "execution_count": 318,
     "metadata": {},
     "output_type": "execute_result"
    }
   ],
   "source": [
    "test_meta.shape"
   ]
  },
  {
   "cell_type": "code",
   "execution_count": 319,
   "metadata": {
    "collapsed": false,
    "deletable": true,
    "editable": true
   },
   "outputs": [
    {
     "data": {
      "text/plain": [
       "f    1848\n",
       "m    1597\n",
       "u     286\n",
       "Name: gender, dtype: int64"
      ]
     },
     "execution_count": 319,
     "metadata": {},
     "output_type": "execute_result"
    }
   ],
   "source": [
    "test_meta[\"gender\"].value_counts()"
   ]
  },
  {
   "cell_type": "code",
   "execution_count": 320,
   "metadata": {
    "collapsed": false,
    "deletable": true,
    "editable": true
   },
   "outputs": [
    {
     "data": {
      "text/plain": [
       "(25, 32)     1056\n",
       "(4, 6)        570\n",
       "(38, 43)      502\n",
       "(0, 2)        483\n",
       "(8, 12)       340\n",
       "(60, 100)     257\n",
       "(48, 53)      241\n",
       "(15, 20)      227\n",
       "None           62\n",
       "35             36\n",
       "57             17\n",
       "55             11\n",
       "45              6\n",
       "(38, 48)        5\n",
       "32              3\n",
       "Name: age, dtype: int64"
      ]
     },
     "execution_count": 320,
     "metadata": {},
     "output_type": "execute_result"
    }
   ],
   "source": [
    "test_meta[\"age\"].value_counts()"
   ]
  },
  {
   "cell_type": "markdown",
   "metadata": {
    "deletable": true,
    "editable": true
   },
   "source": [
    "Aha! There are 'None'-valued ages. That's problematic. We'll need to do something about those. Thanfully, it's apparently only a few"
   ]
  },
  {
   "cell_type": "code",
   "execution_count": 321,
   "metadata": {
    "collapsed": false,
    "deletable": true,
    "editable": true
   },
   "outputs": [
    {
     "data": {
      "text/plain": [
       "True"
      ]
     },
     "execution_count": 321,
     "metadata": {},
     "output_type": "execute_result"
    }
   ],
   "source": [
    "test_meta.isnull().values.any()"
   ]
  },
  {
   "cell_type": "markdown",
   "metadata": {
    "deletable": true,
    "editable": true
   },
   "source": [
    "This is unexpected, there are null / NaN values in this split. Let us inspect that further"
   ]
  },
  {
   "cell_type": "code",
   "execution_count": 322,
   "metadata": {
    "collapsed": false,
    "deletable": true,
    "editable": true
   },
   "outputs": [
    {
     "data": {
      "text/html": [
       "<div>\n",
       "<table border=\"1\" class=\"dataframe\">\n",
       "  <thead>\n",
       "    <tr style=\"text-align: right;\">\n",
       "      <th></th>\n",
       "      <th>user_id</th>\n",
       "      <th>face_id</th>\n",
       "      <th>original_image</th>\n",
       "      <th>gender</th>\n",
       "      <th>age</th>\n",
       "    </tr>\n",
       "  </thead>\n",
       "  <tbody>\n",
       "    <tr>\n",
       "      <th>2805</th>\n",
       "      <td>7285955@N06</td>\n",
       "      <td>2059</td>\n",
       "      <td>9489513876_86d04ff460_o.jpg</td>\n",
       "      <td>NaN</td>\n",
       "      <td>None</td>\n",
       "    </tr>\n",
       "    <tr>\n",
       "      <th>3091</th>\n",
       "      <td>8007224@N07</td>\n",
       "      <td>2118</td>\n",
       "      <td>8917875562_c7925a4e2b_o.jpg</td>\n",
       "      <td>NaN</td>\n",
       "      <td>(25, 32)</td>\n",
       "    </tr>\n",
       "    <tr>\n",
       "      <th>3092</th>\n",
       "      <td>8007224@N07</td>\n",
       "      <td>2118</td>\n",
       "      <td>8755673180_d6945bff9f_o.jpg</td>\n",
       "      <td>NaN</td>\n",
       "      <td>(25, 32)</td>\n",
       "    </tr>\n",
       "    <tr>\n",
       "      <th>3096</th>\n",
       "      <td>8007224@N07</td>\n",
       "      <td>2118</td>\n",
       "      <td>11866643475_3a8d5ef09f_o.jpg</td>\n",
       "      <td>NaN</td>\n",
       "      <td>(25, 32)</td>\n",
       "    </tr>\n",
       "    <tr>\n",
       "      <th>3103</th>\n",
       "      <td>8007224@N07</td>\n",
       "      <td>2118</td>\n",
       "      <td>8917875226_98976f714e_o.jpg</td>\n",
       "      <td>NaN</td>\n",
       "      <td>(25, 32)</td>\n",
       "    </tr>\n",
       "  </tbody>\n",
       "</table>\n",
       "</div>"
      ],
      "text/plain": [
       "          user_id  face_id                original_image gender       age\n",
       "2805  7285955@N06     2059   9489513876_86d04ff460_o.jpg    NaN      None\n",
       "3091  8007224@N07     2118   8917875562_c7925a4e2b_o.jpg    NaN  (25, 32)\n",
       "3092  8007224@N07     2118   8755673180_d6945bff9f_o.jpg    NaN  (25, 32)\n",
       "3096  8007224@N07     2118  11866643475_3a8d5ef09f_o.jpg    NaN  (25, 32)\n",
       "3103  8007224@N07     2118   8917875226_98976f714e_o.jpg    NaN  (25, 32)"
      ]
     },
     "execution_count": 322,
     "metadata": {},
     "output_type": "execute_result"
    }
   ],
   "source": [
    "test_meta[test_meta.isnull().any(axis=1)].head()"
   ]
  },
  {
   "cell_type": "markdown",
   "metadata": {
    "deletable": true,
    "editable": true
   },
   "source": [
    "### test complement set"
   ]
  },
  {
   "cell_type": "code",
   "execution_count": 323,
   "metadata": {
    "collapsed": false,
    "deletable": true,
    "editable": true
   },
   "outputs": [
    {
     "data": {
      "text/html": [
       "<div>\n",
       "<table border=\"1\" class=\"dataframe\">\n",
       "  <thead>\n",
       "    <tr style=\"text-align: right;\">\n",
       "      <th></th>\n",
       "      <th>user_id</th>\n",
       "      <th>face_id</th>\n",
       "      <th>original_image</th>\n",
       "      <th>gender</th>\n",
       "      <th>age</th>\n",
       "    </tr>\n",
       "  </thead>\n",
       "  <tbody>\n",
       "    <tr>\n",
       "      <th>0</th>\n",
       "      <td>30601258@N03</td>\n",
       "      <td>1</td>\n",
       "      <td>10399646885_67c7d20df9_o.jpg</td>\n",
       "      <td>f</td>\n",
       "      <td>(25, 32)</td>\n",
       "    </tr>\n",
       "    <tr>\n",
       "      <th>1</th>\n",
       "      <td>30601258@N03</td>\n",
       "      <td>2</td>\n",
       "      <td>10424815813_e94629b1ec_o.jpg</td>\n",
       "      <td>m</td>\n",
       "      <td>(25, 32)</td>\n",
       "    </tr>\n",
       "    <tr>\n",
       "      <th>2</th>\n",
       "      <td>30601258@N03</td>\n",
       "      <td>1</td>\n",
       "      <td>10437979845_5985be4b26_o.jpg</td>\n",
       "      <td>f</td>\n",
       "      <td>(25, 32)</td>\n",
       "    </tr>\n",
       "    <tr>\n",
       "      <th>3</th>\n",
       "      <td>30601258@N03</td>\n",
       "      <td>3</td>\n",
       "      <td>10437979845_5985be4b26_o.jpg</td>\n",
       "      <td>m</td>\n",
       "      <td>(25, 32)</td>\n",
       "    </tr>\n",
       "    <tr>\n",
       "      <th>4</th>\n",
       "      <td>30601258@N03</td>\n",
       "      <td>2</td>\n",
       "      <td>11816644924_075c3d8d59_o.jpg</td>\n",
       "      <td>m</td>\n",
       "      <td>(25, 32)</td>\n",
       "    </tr>\n",
       "  </tbody>\n",
       "</table>\n",
       "</div>"
      ],
      "text/plain": [
       "        user_id  face_id                original_image gender       age\n",
       "0  30601258@N03        1  10399646885_67c7d20df9_o.jpg      f  (25, 32)\n",
       "1  30601258@N03        2  10424815813_e94629b1ec_o.jpg      m  (25, 32)\n",
       "2  30601258@N03        1  10437979845_5985be4b26_o.jpg      f  (25, 32)\n",
       "3  30601258@N03        3  10437979845_5985be4b26_o.jpg      m  (25, 32)\n",
       "4  30601258@N03        2  11816644924_075c3d8d59_o.jpg      m  (25, 32)"
      ]
     },
     "execution_count": 323,
     "metadata": {},
     "output_type": "execute_result"
    }
   ],
   "source": [
    "trvl_meta.head()"
   ]
  },
  {
   "cell_type": "code",
   "execution_count": 324,
   "metadata": {
    "collapsed": false,
    "deletable": true,
    "editable": true
   },
   "outputs": [
    {
     "data": {
      "text/plain": [
       "(15554, 5)"
      ]
     },
     "execution_count": 324,
     "metadata": {},
     "output_type": "execute_result"
    }
   ],
   "source": [
    "trvl_meta.shape"
   ]
  },
  {
   "cell_type": "code",
   "execution_count": 325,
   "metadata": {
    "collapsed": false,
    "deletable": true,
    "editable": true
   },
   "outputs": [
    {
     "data": {
      "text/plain": [
       "f    7524\n",
       "m    6523\n",
       "u     813\n",
       "Name: gender, dtype: int64"
      ]
     },
     "execution_count": 325,
     "metadata": {},
     "output_type": "execute_result"
    }
   ],
   "source": [
    "trvl_meta[\"gender\"].value_counts()"
   ]
  },
  {
   "cell_type": "code",
   "execution_count": 326,
   "metadata": {
    "collapsed": false,
    "deletable": true,
    "editable": true
   },
   "outputs": [
    {
     "data": {
      "text/plain": [
       "(25, 32)     3948\n",
       "(0, 2)       2005\n",
       "(38, 43)     1791\n",
       "(8, 12)      1784\n",
       "(4, 6)       1570\n",
       "(15, 20)     1415\n",
       "None          686\n",
       "(60, 100)     615\n",
       "(48, 53)      589\n",
       "35            257\n",
       "13            168\n",
       "22            149\n",
       "34            105\n",
       "23             96\n",
       "45             82\n",
       "(27, 32)       77\n",
       "55             65\n",
       "36             56\n",
       "(38, 42)       46\n",
       "3              18\n",
       "29             11\n",
       "57              7\n",
       "58              5\n",
       "2               3\n",
       "56              2\n",
       "42              1\n",
       "(38, 48)        1\n",
       "46              1\n",
       "(8, 23)         1\n",
       "Name: age, dtype: int64"
      ]
     },
     "execution_count": 326,
     "metadata": {},
     "output_type": "execute_result"
    }
   ],
   "source": [
    "trvl_meta[\"age\"].value_counts()"
   ]
  },
  {
   "cell_type": "markdown",
   "metadata": {
    "deletable": true,
    "editable": true
   },
   "source": [
    "This is weird. There should not be ages outside ranges. Let's look into this as well"
   ]
  },
  {
   "cell_type": "code",
   "execution_count": 327,
   "metadata": {
    "collapsed": false,
    "deletable": true,
    "editable": true
   },
   "outputs": [
    {
     "data": {
      "text/plain": [
       "True"
      ]
     },
     "execution_count": 327,
     "metadata": {},
     "output_type": "execute_result"
    }
   ],
   "source": [
    "trvl_meta.isnull().values.any()"
   ]
  },
  {
   "cell_type": "markdown",
   "metadata": {
    "deletable": true,
    "editable": true
   },
   "source": [
    "Is is TRUE that there are NaN value in this set as well. We'll have to fix it too"
   ]
  },
  {
   "cell_type": "markdown",
   "metadata": {
    "deletable": true,
    "editable": true
   },
   "source": [
    "## Fixing dataset inconsistencies and filling missing values"
   ]
  },
  {
   "cell_type": "markdown",
   "metadata": {
    "deletable": true,
    "editable": true
   },
   "source": [
    "The summaries above show problems with the dataset. Namely, NaNs as gender values, None as age values and inconsistent / overlapping labels for age. We address those issues right here."
   ]
  },
  {
   "cell_type": "markdown",
   "metadata": {
    "deletable": true,
    "editable": true
   },
   "source": [
    "### Dropping rows with NaN gender and None age simultaneously"
   ]
  },
  {
   "cell_type": "markdown",
   "metadata": {
    "deletable": true,
    "editable": true
   },
   "source": [
    "Rows with NaN gender and None age are the most problematic because we cannot average any values in order to 'guesstimate' their real values. A possible solution would be to fill in those values by running a state-of-the-art model such as Face++ or Microsofts' Facial Features model but we think that'd be unecessary given that there aren't that many rows with these two characteristics at the same time"
   ]
  },
  {
   "cell_type": "code",
   "execution_count": 328,
   "metadata": {
    "collapsed": false,
    "deletable": true,
    "editable": true
   },
   "outputs": [],
   "source": [
    "# Conditions for dropping\n",
    "NaN_gender_trvl = trvl_meta[\"gender\"].isnull()\n",
    "None_age_trvl   = trvl_meta[\"age\"] == \"None\"\n",
    "trvl_bad_rows    = NaN_gender_trvl & None_age_trvl\n",
    "trvl_bad_indices = trvl_meta[trvl_bad_rows].index.values\n",
    "\n",
    "# Dropping rows when two conditions are present\n",
    "trvl_meta.drop(labels=trvl_bad_indices, inplace=True)"
   ]
  },
  {
   "cell_type": "code",
   "execution_count": 329,
   "metadata": {
    "collapsed": false,
    "deletable": true,
    "editable": true
   },
   "outputs": [],
   "source": [
    "# Conditions for dropping\n",
    "NaN_gender_test = test_meta[\"gender\"].isnull()\n",
    "None_age_test   = test_meta[\"age\"] == \"None\"\n",
    "test_bad_rows   = NaN_gender_test & None_age_test\n",
    "test_bad_indices = test_meta[test_bad_rows].index.values\n",
    "\n",
    "# Dropping rows when two conditions are present\n",
    "test_meta.drop(labels=test_bad_indices, inplace=True)"
   ]
  },
  {
   "cell_type": "markdown",
   "metadata": {
    "deletable": true,
    "editable": true
   },
   "source": [
    "### Fixing bad age ranges"
   ]
  },
  {
   "cell_type": "markdown",
   "metadata": {
    "deletable": true,
    "editable": true
   },
   "source": [
    "We already know that some of the age labels for some reason are not declared as a range, as most other labels, but instead as a single number. This is problematic. The next section transform real, continuous ages into their matching ranges"
   ]
  },
  {
   "cell_type": "markdown",
   "metadata": {
    "deletable": true,
    "editable": true
   },
   "source": [
    "#### Testing complement"
   ]
  },
  {
   "cell_type": "code",
   "execution_count": 330,
   "metadata": {
    "collapsed": false,
    "deletable": true,
    "editable": true
   },
   "outputs": [
    {
     "data": {
      "text/plain": [
       "(25, 32)     3948\n",
       "(0, 2)       2005\n",
       "(38, 43)     1791\n",
       "(8, 12)      1784\n",
       "(4, 6)       1570\n",
       "(15, 20)     1415\n",
       "(60, 100)     615\n",
       "(48, 53)      589\n",
       "35            257\n",
       "13            168\n",
       "22            149\n",
       "34            105\n",
       "23             96\n",
       "45             82\n",
       "(27, 32)       77\n",
       "55             65\n",
       "36             56\n",
       "(38, 42)       46\n",
       "None           40\n",
       "3              18\n",
       "29             11\n",
       "57              7\n",
       "58              5\n",
       "2               3\n",
       "56              2\n",
       "42              1\n",
       "(38, 48)        1\n",
       "46              1\n",
       "(8, 23)         1\n",
       "Name: age, dtype: int64"
      ]
     },
     "execution_count": 330,
     "metadata": {},
     "output_type": "execute_result"
    }
   ],
   "source": [
    "trvl_meta[\"age\"].value_counts()"
   ]
  },
  {
   "cell_type": "markdown",
   "metadata": {
    "deletable": true,
    "editable": true
   },
   "source": [
    "So we see that there are a lot of ages that are not in range format. Since the number of such occurences is rather limited. We'll fix them manually in the cell below."
   ]
  },
  {
   "cell_type": "code",
   "execution_count": 331,
   "metadata": {
    "collapsed": false,
    "deletable": true,
    "editable": true
   },
   "outputs": [],
   "source": [
    "trvl_meta[\"age\"] = trvl_meta[\"age\"].replace(\"13\",\"(8, 13)\")\n",
    "trvl_meta[\"age\"] = trvl_meta[\"age\"].replace(\"(8, 12)\",\"(8, 13)\")\n",
    "trvl_meta[\"age\"] = trvl_meta[\"age\"].replace(\"42\",\"(38, 42)\")\n",
    "trvl_meta[\"age\"] = trvl_meta[\"age\"].replace(\"2\",\"(0, 2)\")\n",
    "trvl_meta[\"age\"] = trvl_meta[\"age\"].replace(\"29\",\"(25, 32)\")"
   ]
  },
  {
   "cell_type": "markdown",
   "metadata": {
    "deletable": true,
    "editable": true
   },
   "source": [
    "What follows is a non-trivial change. For some reason, some of the ages don't fit into the supposed labeled ranges in the dataset. So we're gonna have to take some ages and simply group them inside their closest label, which will not necessary extend to the right range"
   ]
  },
  {
   "cell_type": "code",
   "execution_count": 332,
   "metadata": {
    "collapsed": false,
    "deletable": true,
    "editable": true
   },
   "outputs": [],
   "source": [
    "trvl_meta[\"age\"] = trvl_meta[\"age\"].replace(\"35\",\"(25, 32)\")\n",
    "trvl_meta[\"age\"] = trvl_meta[\"age\"].replace(\"22\",\"(15, 20)\")\n",
    "trvl_meta[\"age\"] = trvl_meta[\"age\"].replace(\"34\",\"(25, 32)\")\n",
    "trvl_meta[\"age\"] = trvl_meta[\"age\"].replace(\"23\",\"(25, 32)\")\n",
    "trvl_meta[\"age\"] = trvl_meta[\"age\"].replace(\"45\",\"(48, 53)\")\n",
    "trvl_meta[\"age\"] = trvl_meta[\"age\"].replace(\"55\",\"(48, 53)\")\n",
    "trvl_meta[\"age\"] = trvl_meta[\"age\"].replace(\"36\",\"(38, 43)\")\n",
    "trvl_meta[\"age\"] = trvl_meta[\"age\"].replace(\"3\",\"(0, 2)\")\n",
    "\n",
    "\n",
    "trvl_meta[\"age\"] = trvl_meta[\"age\"].replace(\"57\",\"(60, 100)\")\n",
    "trvl_meta[\"age\"] = trvl_meta[\"age\"].replace(\"58\",\"(60, 100)\")\n",
    "trvl_meta[\"age\"] = trvl_meta[\"age\"].replace(\"56\",\"(60, 100)\")\n",
    "trvl_meta[\"age\"] = trvl_meta[\"age\"].replace(\"46\",\"(48, 53)\")"
   ]
  },
  {
   "cell_type": "code",
   "execution_count": 333,
   "metadata": {
    "collapsed": false,
    "deletable": true,
    "editable": true
   },
   "outputs": [
    {
     "data": {
      "text/plain": [
       "(25, 32)     4417\n",
       "(0, 2)       2026\n",
       "(8, 13)      1952\n",
       "(38, 43)     1847\n",
       "(4, 6)       1570\n",
       "(15, 20)     1564\n",
       "(48, 53)      737\n",
       "(60, 100)     629\n",
       "(27, 32)       77\n",
       "(38, 42)       47\n",
       "None           40\n",
       "(38, 48)        1\n",
       "(8, 23)         1\n",
       "Name: age, dtype: int64"
      ]
     },
     "execution_count": 333,
     "metadata": {},
     "output_type": "execute_result"
    }
   ],
   "source": [
    "trvl_meta[\"age\"].value_counts()"
   ]
  },
  {
   "cell_type": "code",
   "execution_count": 334,
   "metadata": {
    "collapsed": false,
    "deletable": true,
    "editable": true
   },
   "outputs": [],
   "source": [
    "# Dropping None ages. Not worth manually tagging them\n",
    "trvl_meta = trvl_meta[trvl_meta[\"age\"] != \"None\"]"
   ]
  },
  {
   "cell_type": "code",
   "execution_count": 335,
   "metadata": {
    "collapsed": false,
    "deletable": true,
    "editable": true
   },
   "outputs": [
    {
     "data": {
      "text/plain": [
       "(25, 32)     4417\n",
       "(0, 2)       2026\n",
       "(8, 13)      1952\n",
       "(38, 43)     1847\n",
       "(4, 6)       1570\n",
       "(15, 20)     1564\n",
       "(48, 53)      737\n",
       "(60, 100)     629\n",
       "(27, 32)       77\n",
       "(38, 42)       47\n",
       "(38, 48)        1\n",
       "(8, 23)         1\n",
       "Name: age, dtype: int64"
      ]
     },
     "execution_count": 335,
     "metadata": {},
     "output_type": "execute_result"
    }
   ],
   "source": [
    "trvl_meta[\"age\"].value_counts()"
   ]
  },
  {
   "cell_type": "markdown",
   "metadata": {
    "deletable": true,
    "editable": true
   },
   "source": [
    "Now we do the same procedure as above but with the testing set"
   ]
  },
  {
   "cell_type": "markdown",
   "metadata": {
    "deletable": true,
    "editable": true
   },
   "source": [
    "#### Testing set"
   ]
  },
  {
   "cell_type": "code",
   "execution_count": 336,
   "metadata": {
    "collapsed": false,
    "deletable": true,
    "editable": true
   },
   "outputs": [
    {
     "data": {
      "text/plain": [
       "(25, 32)     1056\n",
       "(4, 6)        570\n",
       "(38, 43)      502\n",
       "(0, 2)        483\n",
       "(8, 12)       340\n",
       "(60, 100)     257\n",
       "(48, 53)      241\n",
       "(15, 20)      227\n",
       "35             36\n",
       "57             17\n",
       "55             11\n",
       "45              6\n",
       "(38, 48)        5\n",
       "32              3\n",
       "Name: age, dtype: int64"
      ]
     },
     "execution_count": 336,
     "metadata": {},
     "output_type": "execute_result"
    }
   ],
   "source": [
    "test_meta[\"age\"].value_counts()"
   ]
  },
  {
   "cell_type": "code",
   "execution_count": 337,
   "metadata": {
    "collapsed": false,
    "deletable": true,
    "editable": true
   },
   "outputs": [],
   "source": [
    "test_meta[\"age\"] = test_meta[\"age\"].replace(\"35\", \"(25, 32)\")\n",
    "test_meta[\"age\"] = test_meta[\"age\"].replace(\"57\", \"(60, 100)\")\n",
    "test_meta[\"age\"] = test_meta[\"age\"].replace(\"55\", \"(48, 53)\")\n",
    "test_meta[\"age\"] = test_meta[\"age\"].replace(\"45\", \"(38, 43)\")\n",
    "test_meta[\"age\"] = test_meta[\"age\"].replace(\"32\", \"(25, 32)\")"
   ]
  },
  {
   "cell_type": "code",
   "execution_count": 338,
   "metadata": {
    "collapsed": false,
    "deletable": true,
    "editable": true
   },
   "outputs": [
    {
     "data": {
      "text/plain": [
       "f    1848\n",
       "m    1597\n",
       "u     286\n",
       "Name: gender, dtype: int64"
      ]
     },
     "execution_count": 338,
     "metadata": {},
     "output_type": "execute_result"
    }
   ],
   "source": [
    "trvl_meta[\"gender\"].value_counts()\n",
    "test_meta[\"gender\"].value_counts()"
   ]
  },
  {
   "cell_type": "code",
   "execution_count": 339,
   "metadata": {
    "collapsed": false,
    "deletable": true,
    "editable": true
   },
   "outputs": [
    {
     "data": {
      "text/plain": [
       "(25, 32)     1095\n",
       "(4, 6)        570\n",
       "(38, 43)      508\n",
       "(0, 2)        483\n",
       "(8, 12)       340\n",
       "(60, 100)     274\n",
       "(48, 53)      252\n",
       "(15, 20)      227\n",
       "(38, 48)        5\n",
       "Name: age, dtype: int64"
      ]
     },
     "execution_count": 339,
     "metadata": {},
     "output_type": "execute_result"
    }
   ],
   "source": [
    "test_meta[\"age\"].value_counts()"
   ]
  },
  {
   "cell_type": "markdown",
   "metadata": {
    "deletable": true,
    "editable": true
   },
   "source": [
    "### Nan Genders"
   ]
  },
  {
   "cell_type": "code",
   "execution_count": 340,
   "metadata": {
    "collapsed": false,
    "deletable": true,
    "editable": true
   },
   "outputs": [
    {
     "data": {
      "text/plain": [
       "True     14820\n",
       "False       48\n",
       "Name: gender, dtype: int64"
      ]
     },
     "execution_count": 340,
     "metadata": {},
     "output_type": "execute_result"
    }
   ],
   "source": [
    "NaN_gender_trvl = trvl_meta[\"gender\"].notnull()\n",
    "NaN_gender_trvl.value_counts()"
   ]
  },
  {
   "cell_type": "code",
   "execution_count": 341,
   "metadata": {
    "collapsed": false,
    "deletable": true,
    "editable": true
   },
   "outputs": [
    {
     "data": {
      "text/plain": [
       "True     3731\n",
       "False      23\n",
       "Name: gender, dtype: int64"
      ]
     },
     "execution_count": 341,
     "metadata": {},
     "output_type": "execute_result"
    }
   ],
   "source": [
    "NaN_gender_test = test_meta[\"gender\"].notnull()\n",
    "NaN_gender_test.value_counts()"
   ]
  },
  {
   "cell_type": "markdown",
   "metadata": {
    "deletable": true,
    "editable": true
   },
   "source": [
    "Since the number of NaN gender is quite small, there's no problem with dropping those as wel"
   ]
  },
  {
   "cell_type": "code",
   "execution_count": 342,
   "metadata": {
    "collapsed": false,
    "deletable": true,
    "editable": true
   },
   "outputs": [],
   "source": [
    "test_meta = test_meta[NaN_gender_test]\n",
    "trvl_meta = trvl_meta[NaN_gender_trvl]"
   ]
  },
  {
   "cell_type": "markdown",
   "metadata": {
    "deletable": true,
    "editable": true
   },
   "source": [
    "Checking value counts again for sanity check"
   ]
  },
  {
   "cell_type": "code",
   "execution_count": 343,
   "metadata": {
    "collapsed": false,
    "deletable": true,
    "editable": true
   },
   "outputs": [
    {
     "data": {
      "text/plain": [
       "True    14820\n",
       "Name: gender, dtype: int64"
      ]
     },
     "execution_count": 343,
     "metadata": {},
     "output_type": "execute_result"
    }
   ],
   "source": [
    "NaN_gender_trvl = trvl_meta[\"gender\"].notnull()\n",
    "NaN_gender_trvl.value_counts()"
   ]
  },
  {
   "cell_type": "code",
   "execution_count": 344,
   "metadata": {
    "collapsed": false,
    "deletable": true,
    "editable": true
   },
   "outputs": [
    {
     "data": {
      "text/plain": [
       "True    3731\n",
       "Name: gender, dtype: int64"
      ]
     },
     "execution_count": 344,
     "metadata": {},
     "output_type": "execute_result"
    }
   ],
   "source": [
    "NaN_gender_test = test_meta[\"gender\"].notnull()\n",
    "NaN_gender_test.value_counts()"
   ]
  },
  {
   "cell_type": "markdown",
   "metadata": {
    "deletable": true,
    "editable": true
   },
   "source": [
    "Perfect! The dataset has been fully curated"
   ]
  },
  {
   "cell_type": "markdown",
   "metadata": {
    "deletable": true,
    "editable": true
   },
   "source": [
    "## Generating k-folds of train and validation splits"
   ]
  },
  {
   "cell_type": "markdown",
   "metadata": {
    "deletable": true,
    "editable": true
   },
   "source": [
    "In this section we create K stratified folds of training and validation splits out of the complement of the testing set. We'll set the number of folds created to be equal to 5 as that is the number of splits suggested by the Adience Benchmark README file.\n",
    "\n",
    "Let us take this moment to discuss propotions. Each fold of the original, unprocessed, dataset contains roughly the same amount of data. Given that there are a total of 5 folds and one of them is reserved for testing, the percentage of the dataset used for testing will be roughly 20%. Out of the remaining data, we'll use  25% of each of the k-folds to be reserved for validation. This means that our testing dataset split follows roughly the following proportions.\n",
    "\n",
    "<ul>\n",
    "<li><b>Testing:</b> 20%</li>\n",
    "<li><b>Validation:</b>20%</li>\n",
    "<li><b>Training</b>:60%</li>\n",
    "</ul>\n",
    "\n",
    "This configuration is not accidental, we've chosen this proportions because they're common practice"
   ]
  },
  {
   "cell_type": "code",
   "execution_count": 345,
   "metadata": {
    "collapsed": true,
    "deletable": true,
    "editable": true
   },
   "outputs": [],
   "source": [
    "num_splits = 5\n",
    "validation_prop = 0.25"
   ]
  },
  {
   "cell_type": "code",
   "execution_count": 346,
   "metadata": {
    "collapsed": true,
    "deletable": true,
    "editable": true
   },
   "outputs": [],
   "source": [
    "sss = StratifiedShuffleSplit(n_splits=num_splits, test_size=validation_prop, random_state=0)"
   ]
  },
  {
   "cell_type": "markdown",
   "metadata": {
    "deletable": true,
    "editable": true
   },
   "source": [
    "### Prepping the test complement set"
   ]
  },
  {
   "cell_type": "markdown",
   "metadata": {
    "deletable": true,
    "editable": true
   },
   "source": [
    "For the stratified k-fold partitioning tool to function, all classes need to appear at least twice in the training dataset. Given the amount of data we've dropped, such is not the case anymore. Observe below the current frequency of targets for age."
   ]
  },
  {
   "cell_type": "code",
   "execution_count": 347,
   "metadata": {
    "collapsed": false,
    "deletable": true,
    "editable": true
   },
   "outputs": [
    {
     "data": {
      "text/plain": [
       "(25, 32)     4386\n",
       "(0, 2)       2026\n",
       "(8, 13)      1947\n",
       "(38, 43)     1847\n",
       "(4, 6)       1570\n",
       "(15, 20)     1564\n",
       "(48, 53)      732\n",
       "(60, 100)     622\n",
       "(27, 32)       77\n",
       "(38, 42)       47\n",
       "(38, 48)        1\n",
       "(8, 23)         1\n",
       "Name: age, dtype: int64"
      ]
     },
     "execution_count": 347,
     "metadata": {},
     "output_type": "execute_result"
    }
   ],
   "source": [
    "trvl_meta[\"age\"].value_counts()"
   ]
  },
  {
   "cell_type": "markdown",
   "metadata": {
    "deletable": true,
    "editable": true
   },
   "source": [
    "As one can observe, (8,23) and (38,48) appear only once. We'll artifically force them to appear twice by literally duplicating their entries."
   ]
  },
  {
   "cell_type": "code",
   "execution_count": 348,
   "metadata": {
    "collapsed": false,
    "deletable": true,
    "editable": true
   },
   "outputs": [
    {
     "data": {
      "text/html": [
       "<div>\n",
       "<table border=\"1\" class=\"dataframe\">\n",
       "  <thead>\n",
       "    <tr style=\"text-align: right;\">\n",
       "      <th></th>\n",
       "      <th>user_id</th>\n",
       "      <th>face_id</th>\n",
       "      <th>original_image</th>\n",
       "      <th>gender</th>\n",
       "      <th>age</th>\n",
       "    </tr>\n",
       "  </thead>\n",
       "  <tbody>\n",
       "    <tr>\n",
       "      <th>2711</th>\n",
       "      <td>9017386@N06</td>\n",
       "      <td>206</td>\n",
       "      <td>11793675354_e1761c4c06_o.jpg</td>\n",
       "      <td>m</td>\n",
       "      <td>(38, 48)</td>\n",
       "    </tr>\n",
       "    <tr>\n",
       "      <th>8207</th>\n",
       "      <td>35953373@N04</td>\n",
       "      <td>905</td>\n",
       "      <td>9494119869_174fb904e7_o.jpg</td>\n",
       "      <td>m</td>\n",
       "      <td>(8, 23)</td>\n",
       "    </tr>\n",
       "  </tbody>\n",
       "</table>\n",
       "</div>"
      ],
      "text/plain": [
       "           user_id  face_id                original_image gender       age\n",
       "2711   9017386@N06      206  11793675354_e1761c4c06_o.jpg      m  (38, 48)\n",
       "8207  35953373@N04      905   9494119869_174fb904e7_o.jpg      m   (8, 23)"
      ]
     },
     "execution_count": 348,
     "metadata": {},
     "output_type": "execute_result"
    }
   ],
   "source": [
    "query1 = trvl_meta[\"age\"] == \"(8, 23)\"\n",
    "query2 = trvl_meta[\"age\"] == \"(38, 48)\"\n",
    "trvl_meta[query1 | query2]"
   ]
  },
  {
   "cell_type": "code",
   "execution_count": 349,
   "metadata": {
    "collapsed": false,
    "deletable": true,
    "editable": true
   },
   "outputs": [
    {
     "data": {
      "text/plain": [
       "(25, 32)     4386\n",
       "(0, 2)       2026\n",
       "(8, 13)      1947\n",
       "(38, 43)     1847\n",
       "(4, 6)       1570\n",
       "(15, 20)     1564\n",
       "(48, 53)      732\n",
       "(60, 100)     622\n",
       "(27, 32)       77\n",
       "(38, 42)       47\n",
       "(38, 48)        2\n",
       "(8, 23)         2\n",
       "Name: age, dtype: int64"
      ]
     },
     "execution_count": 349,
     "metadata": {},
     "output_type": "execute_result"
    }
   ],
   "source": [
    "trvl_meta = trvl_meta.append(trvl_meta[query1 | query2], ignore_index=True)\n",
    "trvl_meta[\"age\"].value_counts()"
   ]
  },
  {
   "cell_type": "markdown",
   "metadata": {
    "deletable": true,
    "editable": true
   },
   "source": [
    "Now we're good to go! "
   ]
  },
  {
   "cell_type": "markdown",
   "metadata": {},
   "source": [
    "Here I'll introduce a minor but necessary fix to the dataset. Directory names in UNIX cannot start with parenthesis. Thus, I'll remove the parenthesis from the age column and replace them with '_'"
   ]
  },
  {
   "cell_type": "code",
   "execution_count": 350,
   "metadata": {
    "collapsed": false
   },
   "outputs": [
    {
     "data": {
      "text/plain": [
       "_25-32_     4386\n",
       "_0-2_       2026\n",
       "_8-13_      1947\n",
       "_38-43_     1847\n",
       "_4-6_       1570\n",
       "_15-20_     1564\n",
       "_48-53_      732\n",
       "_60-100_     622\n",
       "_27-32_       77\n",
       "_38-42_       47\n",
       "_38-48_        2\n",
       "_8-23_         2\n",
       "Name: age, dtype: int64"
      ]
     },
     "execution_count": 350,
     "metadata": {},
     "output_type": "execute_result"
    }
   ],
   "source": [
    "trvl_meta[\"age\"] = trvl_meta[\"age\"].str.replace(\"(\", \"_\")\n",
    "trvl_meta[\"age\"] = trvl_meta[\"age\"].str.replace(\")\", \"_\")\n",
    "trvl_meta[\"age\"] = trvl_meta[\"age\"].str.replace(\" \", \"-\")\n",
    "trvl_meta[\"age\"] = trvl_meta[\"age\"].str.replace(\",\", \"\")\n",
    "trvl_meta[\"age\"].value_counts()"
   ]
  },
  {
   "cell_type": "code",
   "execution_count": 351,
   "metadata": {
    "collapsed": false
   },
   "outputs": [
    {
     "data": {
      "text/plain": [
       "_25-32_     1072\n",
       "_4-6_        570\n",
       "_38-43_      508\n",
       "_0-2_        483\n",
       "_8-12_       340\n",
       "_60-100_     274\n",
       "_48-53_      252\n",
       "_15-20_      227\n",
       "_38-48_        5\n",
       "Name: age, dtype: int64"
      ]
     },
     "execution_count": 351,
     "metadata": {},
     "output_type": "execute_result"
    }
   ],
   "source": [
    "test_meta[\"age\"] = test_meta[\"age\"].str.replace(\"(\", \"_\")\n",
    "test_meta[\"age\"] = test_meta[\"age\"].str.replace(\")\", \"_\")\n",
    "test_meta[\"age\"] = test_meta[\"age\"].str.replace(\" \", \"-\")\n",
    "test_meta[\"age\"] = test_meta[\"age\"].str.replace(\",\", \"\")\n",
    "test_meta[\"age\"].value_counts()"
   ]
  },
  {
   "cell_type": "markdown",
   "metadata": {
    "deletable": true,
    "editable": true
   },
   "source": [
    "Next up, since we'll be creating models for various classification tasks (predict gender, age and gender+age) then we need to make sure that our dataset has all those targets as columns. We're missing the column for gender+age. That column is created below."
   ]
  },
  {
   "cell_type": "code",
   "execution_count": 352,
   "metadata": {
    "collapsed": false,
    "deletable": true,
    "editable": true
   },
   "outputs": [
    {
     "data": {
      "text/html": [
       "<div>\n",
       "<table border=\"1\" class=\"dataframe\">\n",
       "  <thead>\n",
       "    <tr style=\"text-align: right;\">\n",
       "      <th></th>\n",
       "      <th>user_id</th>\n",
       "      <th>face_id</th>\n",
       "      <th>original_image</th>\n",
       "      <th>gender</th>\n",
       "      <th>age</th>\n",
       "      <th>gender_age</th>\n",
       "    </tr>\n",
       "  </thead>\n",
       "  <tbody>\n",
       "    <tr>\n",
       "      <th>0</th>\n",
       "      <td>30601258@N03</td>\n",
       "      <td>1</td>\n",
       "      <td>10399646885_67c7d20df9_o.jpg</td>\n",
       "      <td>f</td>\n",
       "      <td>_25-32_</td>\n",
       "      <td>f__25-32_</td>\n",
       "    </tr>\n",
       "    <tr>\n",
       "      <th>1</th>\n",
       "      <td>30601258@N03</td>\n",
       "      <td>2</td>\n",
       "      <td>10424815813_e94629b1ec_o.jpg</td>\n",
       "      <td>m</td>\n",
       "      <td>_25-32_</td>\n",
       "      <td>m__25-32_</td>\n",
       "    </tr>\n",
       "    <tr>\n",
       "      <th>2</th>\n",
       "      <td>30601258@N03</td>\n",
       "      <td>1</td>\n",
       "      <td>10437979845_5985be4b26_o.jpg</td>\n",
       "      <td>f</td>\n",
       "      <td>_25-32_</td>\n",
       "      <td>f__25-32_</td>\n",
       "    </tr>\n",
       "    <tr>\n",
       "      <th>3</th>\n",
       "      <td>30601258@N03</td>\n",
       "      <td>3</td>\n",
       "      <td>10437979845_5985be4b26_o.jpg</td>\n",
       "      <td>m</td>\n",
       "      <td>_25-32_</td>\n",
       "      <td>m__25-32_</td>\n",
       "    </tr>\n",
       "    <tr>\n",
       "      <th>4</th>\n",
       "      <td>30601258@N03</td>\n",
       "      <td>2</td>\n",
       "      <td>11816644924_075c3d8d59_o.jpg</td>\n",
       "      <td>m</td>\n",
       "      <td>_25-32_</td>\n",
       "      <td>m__25-32_</td>\n",
       "    </tr>\n",
       "  </tbody>\n",
       "</table>\n",
       "</div>"
      ],
      "text/plain": [
       "        user_id  face_id                original_image gender      age  \\\n",
       "0  30601258@N03        1  10399646885_67c7d20df9_o.jpg      f  _25-32_   \n",
       "1  30601258@N03        2  10424815813_e94629b1ec_o.jpg      m  _25-32_   \n",
       "2  30601258@N03        1  10437979845_5985be4b26_o.jpg      f  _25-32_   \n",
       "3  30601258@N03        3  10437979845_5985be4b26_o.jpg      m  _25-32_   \n",
       "4  30601258@N03        2  11816644924_075c3d8d59_o.jpg      m  _25-32_   \n",
       "\n",
       "  gender_age  \n",
       "0  f__25-32_  \n",
       "1  m__25-32_  \n",
       "2  f__25-32_  \n",
       "3  m__25-32_  \n",
       "4  m__25-32_  "
      ]
     },
     "execution_count": 352,
     "metadata": {},
     "output_type": "execute_result"
    }
   ],
   "source": [
    "trvl_meta[\"gender_age\"] = trvl_meta[[\"gender\",\"age\"]].apply(lambda x: x[0]+\"_\"+x[1], axis=1)\n",
    "trvl_meta.head()"
   ]
  },
  {
   "cell_type": "markdown",
   "metadata": {
    "deletable": true,
    "editable": true
   },
   "source": [
    "This column will suffer from the same problem as age: to few instances of a given class. We fix that below."
   ]
  },
  {
   "cell_type": "code",
   "execution_count": 353,
   "metadata": {
    "collapsed": false,
    "deletable": true,
    "editable": true
   },
   "outputs": [],
   "source": [
    "query1 = trvl_meta[\"gender_age\"] == \"u__4-6_\"\n",
    "query2 = trvl_meta[\"gender_age\"] == \"u__60-100_\"\n",
    "trvl_meta[query1 | query2]\n",
    "trvl_meta = trvl_meta.append(trvl_meta[query1 | query2], ignore_index=True)"
   ]
  },
  {
   "cell_type": "code",
   "execution_count": 354,
   "metadata": {
    "collapsed": false,
    "deletable": true,
    "editable": true
   },
   "outputs": [],
   "source": [
    "trvl_meta_X     = trvl_meta\n",
    "trvl_meta_X_arr = trvl_meta_X.as_matrix()"
   ]
  },
  {
   "cell_type": "code",
   "execution_count": 355,
   "metadata": {
    "collapsed": false,
    "deletable": true,
    "editable": true
   },
   "outputs": [],
   "source": [
    "trvl_meta_Y_gender  = trvl_meta[\"gender\"].as_matrix()\n",
    "trvl_meta_Y_age     = trvl_meta[\"age\"].as_matrix()\n",
    "trvl_meta_Y_both    = trvl_meta[\"gender_age\"].as_matrix()"
   ]
  },
  {
   "cell_type": "markdown",
   "metadata": {
    "deletable": true,
    "editable": true
   },
   "source": [
    "### Splits for gender-only classication"
   ]
  },
  {
   "cell_type": "code",
   "execution_count": 356,
   "metadata": {
    "collapsed": false,
    "deletable": true,
    "editable": true
   },
   "outputs": [
    {
     "name": "stdout",
     "output_type": "stream",
     "text": [
      "FOLD #: 1\n",
      "TRAIN      : [14058 14148  7913 ...,  9402  1012 10739]\n",
      "VALIDATION : [ 4944 11747  8268 ..., 11517  5573 12257]\n",
      "=========================================================\n",
      "FOLD #: 2\n",
      "TRAIN      : [9111 3769 7718 ..., 5112 7374 8025]\n",
      "VALIDATION : [10198  9480  2627 ...,   682  6724    83]\n",
      "=========================================================\n",
      "FOLD #: 3\n",
      "TRAIN      : [ 4346 13689  2784 ...,  8527 12635  2697]\n",
      "VALIDATION : [13686 11767 10055 ..., 12792  2932  9481]\n",
      "=========================================================\n",
      "FOLD #: 4\n",
      "TRAIN      : [ 3050  1821  3412 ..., 10572  6473  8054]\n",
      "VALIDATION : [12649  8025  4613 ...,  6274 12443  5326]\n",
      "=========================================================\n",
      "FOLD #: 5\n",
      "TRAIN      : [13269  1789 11673 ..., 11193  3038 10356]\n",
      "VALIDATION : [ 7568 11181 10662 ..., 11991  5513 14254]\n",
      "=========================================================\n"
     ]
    }
   ],
   "source": [
    "from sklearn.model_selection import StratifiedShuffleSplit\n",
    "X = trvl_meta_X_arr\n",
    "y = trvl_meta_Y_gender\n",
    "sss = StratifiedShuffleSplit(n_splits=num_splits, test_size=validation_prop, random_state=0)\n",
    "sss.get_n_splits(X, y)\n",
    "\n",
    "fold_count   = 1\n",
    "fold_container_gender = []\n",
    "for train_index, test_index in sss.split(X, y):\n",
    "    print \"FOLD #: %d\" % fold_count\n",
    "    print \"TRAIN      :\", train_index\n",
    "    print \"VALIDATION :\", test_index\n",
    "    print \"=========================================================\"\n",
    "    fold_count += 1\n",
    "    X_train, X_valid = X[train_index], X[test_index]\n",
    "    fold_container_gender.append([X_train,X_valid])"
   ]
  },
  {
   "cell_type": "markdown",
   "metadata": {
    "deletable": true,
    "editable": true
   },
   "source": [
    "### Splits for age-only classication"
   ]
  },
  {
   "cell_type": "code",
   "execution_count": 357,
   "metadata": {
    "collapsed": false,
    "deletable": true,
    "editable": true
   },
   "outputs": [
    {
     "name": "stdout",
     "output_type": "stream",
     "text": [
      "FOLD #: 1\n",
      "TRAIN      : [ 5225 12740   242 ..., 10132  9003   349]\n",
      "VALIDATION : [11401  7229 13112 ..., 13433  8833 13396]\n",
      "=========================================================\n",
      "FOLD #: 2\n",
      "TRAIN      : [ 6221  8654 13436 ...,  8207  6387  1063]\n",
      "VALIDATION : [ 7379  9455 13714 ...,  6238  1943  4456]\n",
      "=========================================================\n",
      "FOLD #: 3\n",
      "TRAIN      : [ 1207 10318 10719 ...,  9518  1574 12373]\n",
      "VALIDATION : [10324 12737  1321 ..., 14414  8921 10820]\n",
      "=========================================================\n",
      "FOLD #: 4\n",
      "TRAIN      : [ 7749   565 10917 ..., 14541 12886  5930]\n",
      "VALIDATION : [  187 12588  9030 ...,   985  4767 10622]\n",
      "=========================================================\n",
      "FOLD #: 5\n",
      "TRAIN      : [ 5947  9990  8735 ..., 14081  9244 11987]\n",
      "VALIDATION : [ 3346 13372  1992 ...,  8364  3751  3497]\n",
      "=========================================================\n"
     ]
    }
   ],
   "source": [
    "from sklearn.model_selection import StratifiedShuffleSplit\n",
    "X = trvl_meta_X_arr\n",
    "y = trvl_meta_Y_age\n",
    "sss = StratifiedShuffleSplit(n_splits=num_splits, test_size=validation_prop, random_state=0)\n",
    "sss.get_n_splits(X, y)\n",
    "\n",
    "fold_count   = 1\n",
    "fold_container_age = []\n",
    "for train_index, test_index in sss.split(X, y):\n",
    "    print \"FOLD #: %d\" % fold_count\n",
    "    print \"TRAIN      :\", train_index\n",
    "    print \"VALIDATION :\", test_index\n",
    "    print \"=========================================================\"\n",
    "    fold_count += 1\n",
    "    X_train, X_valid = X[train_index], X[test_index]\n",
    "    fold_container_age.append([X_train,X_valid])"
   ]
  },
  {
   "cell_type": "markdown",
   "metadata": {
    "deletable": true,
    "editable": true
   },
   "source": [
    "### Splits for age and gender classication"
   ]
  },
  {
   "cell_type": "code",
   "execution_count": 358,
   "metadata": {
    "collapsed": false,
    "deletable": true,
    "editable": true
   },
   "outputs": [
    {
     "name": "stdout",
     "output_type": "stream",
     "text": [
      "FOLD #: 1\n",
      "TRAIN      : [ 6143  5890 11993 ...,  3810 12742  2735]\n",
      "VALIDATION : [12208  7006 13771 ..., 10191  2029  6094]\n",
      "=========================================================\n",
      "FOLD #: 2\n",
      "TRAIN      : [ 6114 14444  5450 ...,  6394 12621 11314]\n",
      "VALIDATION : [8201 5276 2142 ..., 6858 3188 9070]\n",
      "=========================================================\n",
      "FOLD #: 3\n",
      "TRAIN      : [ 1749  9266  4266 ..., 12381  8570 10812]\n",
      "VALIDATION : [ 2793  8145  7833 ..., 12421  7752  6372]\n",
      "=========================================================\n",
      "FOLD #: 4\n",
      "TRAIN      : [11124 10215  1761 ...,  1389  6741  9917]\n",
      "VALIDATION : [ 1766  3151  8043 ..., 13527  8929  1764]\n",
      "=========================================================\n",
      "FOLD #: 5\n",
      "TRAIN      : [4974 2204 5790 ..., 8007 7012 2252]\n",
      "VALIDATION : [  489 11032  1414 ...,  1818  3856  4556]\n",
      "=========================================================\n"
     ]
    }
   ],
   "source": [
    "from sklearn.model_selection import StratifiedShuffleSplit\n",
    "X = trvl_meta_X_arr\n",
    "y = trvl_meta_Y_both\n",
    "sss = StratifiedShuffleSplit(n_splits=num_splits, test_size=validation_prop, random_state=0)\n",
    "sss.get_n_splits(X, y)\n",
    "\n",
    "fold_count   = 1\n",
    "fold_container_both = []\n",
    "for train_index, test_index in sss.split(X, y):\n",
    "    print \"FOLD #: %d\" % fold_count\n",
    "    print \"TRAIN      :\", train_index\n",
    "    print \"VALIDATION :\", test_index\n",
    "    print \"=========================================================\"\n",
    "    fold_count += 1\n",
    "    X_train, X_valid = X[train_index], X[test_index]\n",
    "    fold_container_both.append([X_train, X_valid])"
   ]
  },
  {
   "cell_type": "markdown",
   "metadata": {
    "deletable": true,
    "editable": true
   },
   "source": [
    "## Generating dataframes for each classification task"
   ]
  },
  {
   "cell_type": "code",
   "execution_count": 359,
   "metadata": {
    "collapsed": true,
    "deletable": true,
    "editable": true
   },
   "outputs": [],
   "source": [
    "headers = [\"user_id\",\"face_id\",\"original_image\",\"gender\",\"age\",\"gender_age\"]"
   ]
  },
  {
   "cell_type": "code",
   "execution_count": 360,
   "metadata": {
    "collapsed": false,
    "deletable": true,
    "editable": true
   },
   "outputs": [],
   "source": [
    "gender_fold1_train = pd.DataFrame(fold_container_gender[0][0], columns=headers)\n",
    "gender_fold1_valid = pd.DataFrame(fold_container_gender[0][1], columns=headers)\n",
    "\n",
    "gender_fold2_train = pd.DataFrame(fold_container_gender[1][0], columns=headers)\n",
    "gender_fold2_valid = pd.DataFrame(fold_container_gender[1][1], columns=headers)\n",
    "\n",
    "gender_fold3_train = pd.DataFrame(fold_container_gender[2][0], columns=headers)\n",
    "gender_fold3_valid = pd.DataFrame(fold_container_gender[2][1], columns=headers)\n",
    "\n",
    "gender_fold4_train = pd.DataFrame(fold_container_gender[3][0], columns=headers)\n",
    "gender_fold4_valid = pd.DataFrame(fold_container_gender[3][1], columns=headers)\n",
    "\n",
    "gender_fold5_train = pd.DataFrame(fold_container_gender[4][0], columns=headers)\n",
    "gender_fold5_valid = pd.DataFrame(fold_container_gender[4][1], columns=headers)"
   ]
  },
  {
   "cell_type": "code",
   "execution_count": 361,
   "metadata": {
    "collapsed": true,
    "deletable": true,
    "editable": true
   },
   "outputs": [],
   "source": [
    "age_fold1_train = pd.DataFrame(fold_container_age[0][0], columns=headers)\n",
    "age_fold1_valid = pd.DataFrame(fold_container_age[0][1], columns=headers)\n",
    "\n",
    "age_fold2_train = pd.DataFrame(fold_container_age[1][0], columns=headers)\n",
    "age_fold2_valid = pd.DataFrame(fold_container_age[1][1], columns=headers)\n",
    "\n",
    "age_fold3_train = pd.DataFrame(fold_container_age[2][0], columns=headers)\n",
    "age_fold3_valid = pd.DataFrame(fold_container_age[2][1], columns=headers)\n",
    "\n",
    "age_fold4_train = pd.DataFrame(fold_container_age[3][0], columns=headers)\n",
    "age_fold4_valid = pd.DataFrame(fold_container_age[3][1], columns=headers)\n",
    "\n",
    "age_fold5_train = pd.DataFrame(fold_container_age[4][0], columns=headers)\n",
    "age_fold5_valid = pd.DataFrame(fold_container_age[4][1], columns=headers)"
   ]
  },
  {
   "cell_type": "code",
   "execution_count": 362,
   "metadata": {
    "collapsed": true,
    "deletable": true,
    "editable": true
   },
   "outputs": [],
   "source": [
    "both_fold1_train = pd.DataFrame(fold_container_both[0][0], columns=headers)\n",
    "both_fold1_valid = pd.DataFrame(fold_container_both[0][1], columns=headers)\n",
    "\n",
    "both_fold2_train = pd.DataFrame(fold_container_both[1][0], columns=headers)\n",
    "both_fold2_valid = pd.DataFrame(fold_container_both[1][1], columns=headers)\n",
    "\n",
    "both_fold3_train = pd.DataFrame(fold_container_both[2][0], columns=headers)\n",
    "both_fold3_valid = pd.DataFrame(fold_container_both[2][1], columns=headers)\n",
    "\n",
    "both_fold4_train = pd.DataFrame(fold_container_both[3][0], columns=headers)\n",
    "both_fold4_valid = pd.DataFrame(fold_container_both[3][1], columns=headers)\n",
    "\n",
    "both_fold5_train = pd.DataFrame(fold_container_both[4][0], columns=headers)\n",
    "both_fold5_valid = pd.DataFrame(fold_container_both[4][1], columns=headers)"
   ]
  },
  {
   "cell_type": "markdown",
   "metadata": {
    "deletable": true,
    "editable": true
   },
   "source": [
    "## Augment Dataframes to contain the current image path and the image path to generate"
   ]
  },
  {
   "cell_type": "code",
   "execution_count": 363,
   "metadata": {
    "collapsed": true,
    "deletable": true,
    "editable": true
   },
   "outputs": [],
   "source": [
    "img_path         = \"../data/face_image_project/aligned/%s/landmark_aligned_face.%d.%s\"\n",
    "\n",
    "keras_gender_train_path = \"../data/face_image_project/keras_format/gender/%d/train/%s/%d.jpg\"\n",
    "keras_gender_valid_path = \"../data/face_image_project/keras_format/gender/%d/valid/%s/%d.jpg\"\n",
    "\n",
    "keras_age_train_path = \"../data/face_image_project/keras_format/age/%d/train/%s/%d.jpg\"\n",
    "keras_age_valid_path = \"../data/face_image_project/keras_format/age/%d/valid/%s/%d.jpg\"\n",
    "\n",
    "keras_both_train_path = \"../data/face_image_project/keras_format/both/%d/train/%s/%d.jpg\"\n",
    "keras_both_valid_path = \"../data/face_image_project/keras_format/both/%d/valid/%s/%d.jpg\"\n",
    "\n",
    "relevant_cols = [\"user_id\",\"face_id\",\"original_image\",\"gender\",\"age\",\"gender_age\"]"
   ]
  },
  {
   "cell_type": "markdown",
   "metadata": {
    "deletable": true,
    "editable": true
   },
   "source": [
    "### Image path"
   ]
  },
  {
   "cell_type": "code",
   "execution_count": 364,
   "metadata": {
    "collapsed": false,
    "deletable": true,
    "editable": true
   },
   "outputs": [],
   "source": [
    "gender_fold1_train[\"img_path\"] = gender_fold1_train[relevant_cols].apply(lambda x: img_path % (x[0],x[1],x[2]), axis=1)\n",
    "gender_fold1_valid[\"img_path\"] = gender_fold1_valid[relevant_cols].apply(lambda x: img_path % (x[0],x[1],x[2]), axis=1)\n",
    "\n",
    "gender_fold2_train[\"img_path\"] = gender_fold2_train[relevant_cols].apply(lambda x: img_path % (x[0],x[1],x[2]), axis=1)\n",
    "gender_fold2_valid[\"img_path\"] = gender_fold2_valid[relevant_cols].apply(lambda x: img_path % (x[0],x[1],x[2]), axis=1)\n",
    "\n",
    "gender_fold3_train[\"img_path\"] = gender_fold3_train[relevant_cols].apply(lambda x: img_path % (x[0],x[1],x[2]), axis=1)\n",
    "gender_fold3_valid[\"img_path\"] = gender_fold3_valid[relevant_cols].apply(lambda x: img_path % (x[0],x[1],x[2]), axis=1)\n",
    "\n",
    "gender_fold4_train[\"img_path\"] = gender_fold4_train[relevant_cols].apply(lambda x: img_path % (x[0],x[1],x[2]), axis=1)\n",
    "gender_fold4_valid[\"img_path\"] = gender_fold4_valid[relevant_cols].apply(lambda x: img_path % (x[0],x[1],x[2]), axis=1)\n",
    "\n",
    "gender_fold5_train[\"img_path\"] = gender_fold5_train[relevant_cols].apply(lambda x: img_path % (x[0],x[1],x[2]), axis=1)\n",
    "gender_fold5_valid[\"img_path\"] = gender_fold5_valid[relevant_cols].apply(lambda x: img_path % (x[0],x[1],x[2]), axis=1)"
   ]
  },
  {
   "cell_type": "code",
   "execution_count": 365,
   "metadata": {
    "collapsed": false,
    "deletable": true,
    "editable": true
   },
   "outputs": [],
   "source": [
    "age_fold1_train[\"img_path\"] = age_fold1_train[relevant_cols].apply(lambda x: img_path % (x[0],x[1],x[2]), axis=1)\n",
    "age_fold1_valid[\"img_path\"] = age_fold1_valid[relevant_cols].apply(lambda x: img_path % (x[0],x[1],x[2]), axis=1)\n",
    "\n",
    "age_fold2_train[\"img_path\"] = age_fold2_train[relevant_cols].apply(lambda x: img_path % (x[0],x[1],x[2]), axis=1)\n",
    "age_fold2_valid[\"img_path\"] = age_fold2_valid[relevant_cols].apply(lambda x: img_path % (x[0],x[1],x[2]), axis=1)\n",
    "\n",
    "age_fold3_train[\"img_path\"] = age_fold3_train[relevant_cols].apply(lambda x: img_path % (x[0],x[1],x[2]), axis=1)\n",
    "age_fold3_valid[\"img_path\"] = age_fold3_valid[relevant_cols].apply(lambda x: img_path % (x[0],x[1],x[2]), axis=1)\n",
    "\n",
    "age_fold4_train[\"img_path\"] = age_fold4_train[relevant_cols].apply(lambda x: img_path % (x[0],x[1],x[2]), axis=1)\n",
    "age_fold4_valid[\"img_path\"] = age_fold4_valid[relevant_cols].apply(lambda x: img_path % (x[0],x[1],x[2]), axis=1)\n",
    "\n",
    "age_fold5_train[\"img_path\"] = age_fold5_train[relevant_cols].apply(lambda x: img_path % (x[0],x[1],x[2]), axis=1)\n",
    "age_fold5_valid[\"img_path\"] = age_fold5_valid[relevant_cols].apply(lambda x: img_path % (x[0],x[1],x[2]), axis=1)"
   ]
  },
  {
   "cell_type": "code",
   "execution_count": 366,
   "metadata": {
    "collapsed": false,
    "deletable": true,
    "editable": true
   },
   "outputs": [],
   "source": [
    "both_fold1_train[\"img_path\"] = both_fold1_train[relevant_cols].apply(lambda x: img_path % (x[0],x[1],x[2]), axis=1)\n",
    "both_fold1_valid[\"img_path\"] = both_fold1_valid[relevant_cols].apply(lambda x: img_path % (x[0],x[1],x[2]), axis=1)\n",
    "\n",
    "both_fold2_train[\"img_path\"] = both_fold2_train[relevant_cols].apply(lambda x: img_path % (x[0],x[1],x[2]), axis=1)\n",
    "both_fold2_valid[\"img_path\"] = both_fold2_valid[relevant_cols].apply(lambda x: img_path % (x[0],x[1],x[2]), axis=1)\n",
    "\n",
    "both_fold3_train[\"img_path\"] = both_fold3_train[relevant_cols].apply(lambda x: img_path % (x[0],x[1],x[2]), axis=1)\n",
    "both_fold3_valid[\"img_path\"] = both_fold3_valid[relevant_cols].apply(lambda x: img_path % (x[0],x[1],x[2]), axis=1)\n",
    "\n",
    "both_fold4_train[\"img_path\"] = both_fold4_train[relevant_cols].apply(lambda x: img_path % (x[0],x[1],x[2]), axis=1)\n",
    "both_fold4_valid[\"img_path\"] = both_fold4_valid[relevant_cols].apply(lambda x: img_path % (x[0],x[1],x[2]), axis=1)\n",
    "\n",
    "both_fold5_train[\"img_path\"] = both_fold5_train[relevant_cols].apply(lambda x: img_path % (x[0],x[1],x[2]), axis=1)\n",
    "both_fold5_valid[\"img_path\"] = both_fold5_valid[relevant_cols].apply(lambda x: img_path % (x[0],x[1],x[2]), axis=1)"
   ]
  },
  {
   "cell_type": "markdown",
   "metadata": {
    "deletable": true,
    "editable": true
   },
   "source": [
    "### Keras path"
   ]
  },
  {
   "cell_type": "code",
   "execution_count": 367,
   "metadata": {
    "collapsed": true,
    "deletable": true,
    "editable": true
   },
   "outputs": [],
   "source": [
    "gender_fold1_train[\"keras_path\"] = gender_fold1_train[relevant_cols].apply(lambda x: keras_gender_train_path % (1, x[3],x.name), axis=1)\n",
    "gender_fold1_valid[\"keras_path\"] = gender_fold1_valid[relevant_cols].apply(lambda x: keras_gender_valid_path % (1, x[3],x.name), axis=1)\n",
    "\n",
    "gender_fold2_train[\"keras_path\"] = gender_fold2_train[relevant_cols].apply(lambda x: keras_gender_train_path % (2, x[3],x.name), axis=1)\n",
    "gender_fold2_valid[\"keras_path\"] = gender_fold2_valid[relevant_cols].apply(lambda x: keras_gender_valid_path % (2, x[3],x.name), axis=1)\n",
    "\n",
    "gender_fold3_train[\"keras_path\"] = gender_fold3_train[relevant_cols].apply(lambda x: keras_gender_train_path % (3, x[3],x.name), axis=1)\n",
    "gender_fold3_valid[\"keras_path\"] = gender_fold3_valid[relevant_cols].apply(lambda x: keras_gender_valid_path % (3, x[3],x.name), axis=1)\n",
    "\n",
    "gender_fold4_train[\"keras_path\"] = gender_fold4_train[relevant_cols].apply(lambda x: keras_gender_train_path % (4, x[3],x.name), axis=1)\n",
    "gender_fold4_valid[\"keras_path\"] = gender_fold4_valid[relevant_cols].apply(lambda x: keras_gender_valid_path % (4, x[3],x.name), axis=1)\n",
    "\n",
    "gender_fold5_train[\"keras_path\"] = gender_fold5_train[relevant_cols].apply(lambda x: keras_gender_train_path % (5, x[3],x.name), axis=1)\n",
    "gender_fold5_valid[\"keras_path\"] = gender_fold5_valid[relevant_cols].apply(lambda x: keras_gender_valid_path % (5, x[3],x.name), axis=1)"
   ]
  },
  {
   "cell_type": "code",
   "execution_count": 368,
   "metadata": {
    "collapsed": true,
    "deletable": true,
    "editable": true
   },
   "outputs": [],
   "source": [
    "age_fold1_train[\"keras_path\"] = age_fold1_train[relevant_cols].apply(lambda x: keras_age_train_path % (1, x[4],x.name), axis=1)\n",
    "age_fold1_valid[\"keras_path\"] = age_fold1_valid[relevant_cols].apply(lambda x: keras_age_valid_path % (1, x[4],x.name), axis=1)\n",
    "\n",
    "age_fold2_train[\"keras_path\"] = age_fold2_train[relevant_cols].apply(lambda x: keras_age_train_path % (2, x[4],x.name), axis=1)\n",
    "age_fold2_valid[\"keras_path\"] = age_fold2_valid[relevant_cols].apply(lambda x: keras_age_valid_path % (2, x[4],x.name), axis=1)\n",
    "\n",
    "age_fold3_train[\"keras_path\"] = age_fold3_train[relevant_cols].apply(lambda x: keras_age_train_path % (3, x[4],x.name), axis=1)\n",
    "age_fold3_valid[\"keras_path\"] = age_fold3_valid[relevant_cols].apply(lambda x: keras_age_valid_path % (3, x[4],x.name), axis=1)\n",
    "\n",
    "age_fold4_train[\"keras_path\"] = age_fold4_train[relevant_cols].apply(lambda x: keras_age_train_path % (4, x[4],x.name), axis=1)\n",
    "age_fold4_valid[\"keras_path\"] = age_fold4_valid[relevant_cols].apply(lambda x: keras_age_valid_path % (4, x[4],x.name), axis=1)\n",
    "\n",
    "age_fold5_train[\"keras_path\"] = age_fold5_train[relevant_cols].apply(lambda x: keras_age_train_path % (5, x[4],x.name), axis=1)\n",
    "age_fold5_valid[\"keras_path\"] = age_fold5_valid[relevant_cols].apply(lambda x: keras_age_valid_path % (5, x[4],x.name), axis=1)"
   ]
  },
  {
   "cell_type": "code",
   "execution_count": 369,
   "metadata": {
    "collapsed": false,
    "deletable": true,
    "editable": true
   },
   "outputs": [],
   "source": [
    "both_fold1_train[\"keras_path\"] = both_fold1_train[relevant_cols].apply(lambda x: keras_both_train_path % (1, x[5],x.name), axis=1)\n",
    "both_fold1_valid[\"keras_path\"] = both_fold1_valid[relevant_cols].apply(lambda x: keras_both_valid_path % (1, x[5],x.name), axis=1)\n",
    "\n",
    "both_fold2_train[\"keras_path\"] = both_fold2_train[relevant_cols].apply(lambda x: keras_both_train_path % (2, x[5],x.name), axis=1)\n",
    "both_fold2_valid[\"keras_path\"] = both_fold2_valid[relevant_cols].apply(lambda x: keras_both_valid_path % (2, x[5],x.name), axis=1)\n",
    "\n",
    "both_fold3_train[\"keras_path\"] = both_fold3_train[relevant_cols].apply(lambda x: keras_both_train_path % (3, x[5],x.name), axis=1)\n",
    "both_fold3_valid[\"keras_path\"] = both_fold3_valid[relevant_cols].apply(lambda x: keras_both_valid_path % (3, x[5],x.name), axis=1)\n",
    "\n",
    "both_fold4_train[\"keras_path\"] = both_fold4_train[relevant_cols].apply(lambda x: keras_both_train_path % (4, x[5],x.name), axis=1)\n",
    "both_fold4_valid[\"keras_path\"] = both_fold4_valid[relevant_cols].apply(lambda x: keras_both_valid_path % (4, x[5],x.name), axis=1)\n",
    "\n",
    "both_fold5_train[\"keras_path\"] = both_fold5_train[relevant_cols].apply(lambda x: keras_both_train_path % (5, x[5],x.name), axis=1)\n",
    "both_fold5_valid[\"keras_path\"] = both_fold5_valid[relevant_cols].apply(lambda x: keras_both_valid_path % (5, x[5],x.name), axis=1)"
   ]
  },
  {
   "cell_type": "code",
   "execution_count": 395,
   "metadata": {
    "collapsed": false,
    "deletable": true,
    "editable": true
   },
   "outputs": [],
   "source": [
    "def prep_adience():\n",
    "    all_gender_train = [gender_fold1_train,gender_fold2_train,gender_fold3_train,gender_fold4_train,gender_fold5_train]\n",
    "    all_gender_valid = [gender_fold1_valid,gender_fold2_valid,gender_fold3_valid,gender_fold4_valid,gender_fold5_valid]\n",
    "    \n",
    "    all_age_train = [age_fold1_train,age_fold2_train,age_fold3_train,age_fold4_train,age_fold5_train]\n",
    "    all_age_valid = [age_fold1_valid,age_fold2_valid,age_fold3_valid,age_fold4_valid,age_fold5_valid]\n",
    "\n",
    "    all_both_train = [both_fold1_train,both_fold2_train,both_fold3_train,both_fold4_train,both_fold5_train]\n",
    "    all_both_valid = [both_fold1_valid,both_fold2_valid,both_fold3_valid,both_fold4_valid,both_fold5_valid]\n",
    "    \n",
    "    full_meta = pd.concat(all_gender_train + all_gender_valid + all_age_train + all_age_valid + all_both_train + all_both_valid)\n",
    "\n",
    "    for index, row in full_meta.iterrows():\n",
    "        \n",
    "        mkdir_template = \"mkdir -p %s\"\n",
    "        command_template = \"cp -p %s %s\"\n",
    "        command0 = mkdir_template % row[\"keras_path\"]\n",
    "        command1 = command_template % (row[\"img_path\"], row[\"keras_path\"])\n",
    "        wkspFldr = os.path.dirname(row[\"keras_path\"])\n",
    "        \n",
    "        os.system(command0)\n",
    "        os.system(command1)\n"
   ]
  },
  {
   "cell_type": "code",
   "execution_count": 58,
   "metadata": {
    "collapsed": false
   },
   "outputs": [
    {
     "ename": "NameError",
     "evalue": "name 'Ex' is not defined",
     "output_type": "error",
     "traceback": [
      "\u001b[0;31m---------------------------------------------------------------------------\u001b[0m",
      "\u001b[0;31mNameError\u001b[0m                                 Traceback (most recent call last)",
      "\u001b[0;32m<ipython-input-58-969de6ee779e>\u001b[0m in \u001b[0;36m<module>\u001b[0;34m()\u001b[0m\n\u001b[0;32m----> 1\u001b[0;31m \u001b[0;32mraise\u001b[0m \u001b[0mEx\u001b[0m\u001b[0;34m\u001b[0m\u001b[0m\n\u001b[0m",
      "\u001b[0;31mNameError\u001b[0m: name 'Ex' is not defined"
     ]
    }
   ],
   "source": [
    "raise Ex"
   ]
  },
  {
   "cell_type": "code",
   "execution_count": null,
   "metadata": {
    "collapsed": false,
    "deletable": true,
    "editable": true
   },
   "outputs": [],
   "source": [
    "prep_adience()"
   ]
  },
  {
   "cell_type": "markdown",
   "metadata": {
    "deletable": true,
    "editable": true
   },
   "source": [
    "## 2. Testing Image Pre-Processing tools"
   ]
  },
  {
   "cell_type": "code",
   "execution_count": null,
   "metadata": {
    "collapsed": false,
    "deletable": true,
    "editable": true
   },
   "outputs": [],
   "source": [
    "from keras.preprocessing.image import ImageDataGenerator, array_to_img, img_to_array, load_img\n",
    "\n",
    "datagen = ImageDataGenerator(\n",
    "        rotation_range=40,\n",
    "        width_shift_range=0.2,\n",
    "        height_shift_range=0.2,\n",
    "        shear_range=0.2,\n",
    "        zoom_range=0.2,\n",
    "        horizontal_flip=True,\n",
    "        fill_mode='nearest')\n",
    "\n",
    "img = load_img(\"../data/face_image_project/keras_format/train/m/9.jpg\")\n",
    "img"
   ]
  },
  {
   "cell_type": "code",
   "execution_count": null,
   "metadata": {
    "collapsed": false,
    "deletable": true,
    "editable": true
   },
   "outputs": [],
   "source": [
    "x = img_to_array(img)\n",
    "x = x.reshape((1,) + x.shape)\n",
    "\n",
    "#os.makedirs(\"../data/preview\")\n",
    "\n",
    "i = 0\n",
    "for batch in datagen.flow(x, batch_size=1,\n",
    "                          save_to_dir='../data/preview', save_prefix='augmented_', save_format='jpeg'):\n",
    "    i += 1\n",
    "    if i > 5:\n",
    "        break  # otherwise the generator would loop indefinitely"
   ]
  },
  {
   "cell_type": "code",
   "execution_count": null,
   "metadata": {
    "collapsed": false,
    "deletable": true,
    "editable": true
   },
   "outputs": [],
   "source": [
    "%matplotlib inline\n",
    "import matplotlib.pyplot as plt\n",
    "import numpy as np\n",
    "\n",
    "from IPython.display import display, Image\n",
    "\n",
    "from glob import glob\n",
    "import PIL\n",
    "images = [ PIL.Image.open(f) for f in glob('../data/preview/*') ]\n",
    "\n",
    "def img2array(im):\n",
    "    if im.mode != 'RGB':\n",
    "        im = im.convert(mode='RGB')\n",
    "    return np.fromstring(im.tobytes(), dtype='uint8').reshape((im.size[1], im.size[0], 3))\n",
    "\n",
    "np_images = [ img2array(im) for im in images ]\n",
    "\n",
    "\n",
    "\n",
    "for img in np_images:\n",
    "    plt.figure()\n",
    "    plt.imshow(img)\n",
    "\n"
   ]
  }
 ],
 "metadata": {
  "kernelspec": {
   "display_name": "Python 2",
   "language": "python",
   "name": "python2"
  },
  "language_info": {
   "codemirror_mode": {
    "name": "ipython",
    "version": 2
   },
   "file_extension": ".py",
   "mimetype": "text/x-python",
   "name": "python",
   "nbconvert_exporter": "python",
   "pygments_lexer": "ipython2",
   "version": "2.7.6"
  }
 },
 "nbformat": 4,
 "nbformat_minor": 2
}
