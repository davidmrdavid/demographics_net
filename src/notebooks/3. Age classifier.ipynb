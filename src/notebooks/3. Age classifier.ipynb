{
 "cells": [
  {
   "cell_type": "code",
   "execution_count": 1,
   "metadata": {
    "collapsed": false
   },
   "outputs": [
    {
     "name": "stderr",
     "output_type": "stream",
     "text": [
      "Using Theano backend.\n"
     ]
    }
   ],
   "source": [
    "# Necessary modules\n",
    "import pandas as pd\n",
    "import numpy  as np\n",
    "\n",
    "from keras.models     import Sequential\n",
    "from keras.layers     import Dense, Dropout, Activation, Flatten\n",
    "from keras.layers     import Convolution2D, MaxPooling2D\n",
    "from keras.optimizers import SGD\n",
    "from keras.layers.normalization import BatchNormalization\n",
    "\n",
    "from keras.preprocessing.image import ImageDataGenerator, array_to_img, img_to_array, load_img"
   ]
  },
  {
   "cell_type": "code",
   "execution_count": 40,
   "metadata": {
    "collapsed": false
   },
   "outputs": [
    {
     "data": {
      "text/html": [
       "<div>\n",
       "<table border=\"1\" class=\"dataframe\">\n",
       "  <thead>\n",
       "    <tr style=\"text-align: right;\">\n",
       "      <th></th>\n",
       "      <th>user_id</th>\n",
       "      <th>original_image</th>\n",
       "      <th>face_id</th>\n",
       "      <th>age</th>\n",
       "      <th>gender</th>\n",
       "      <th>x</th>\n",
       "      <th>y</th>\n",
       "      <th>dx</th>\n",
       "      <th>dy</th>\n",
       "      <th>tilt_ang</th>\n",
       "      <th>fiducial_yaw_angle</th>\n",
       "      <th>fiducial_score</th>\n",
       "    </tr>\n",
       "  </thead>\n",
       "  <tbody>\n",
       "    <tr>\n",
       "      <th>0</th>\n",
       "      <td>68825596@N05</td>\n",
       "      <td>11594021023_9744cdf4d8_o.jpg</td>\n",
       "      <td>296</td>\n",
       "      <td>(4, 6)</td>\n",
       "      <td>f</td>\n",
       "      <td>0</td>\n",
       "      <td>15</td>\n",
       "      <td>723</td>\n",
       "      <td>724</td>\n",
       "      <td>-70</td>\n",
       "      <td>0</td>\n",
       "      <td>43</td>\n",
       "    </tr>\n",
       "    <tr>\n",
       "      <th>1</th>\n",
       "      <td>20254529@N04</td>\n",
       "      <td>9981870036_a1198b3d04_o.jpg</td>\n",
       "      <td>14</td>\n",
       "      <td>(4, 6)</td>\n",
       "      <td>f</td>\n",
       "      <td>1216</td>\n",
       "      <td>449</td>\n",
       "      <td>1332</td>\n",
       "      <td>1332</td>\n",
       "      <td>0</td>\n",
       "      <td>30</td>\n",
       "      <td>91</td>\n",
       "    </tr>\n",
       "    <tr>\n",
       "      <th>2</th>\n",
       "      <td>9017386@N06</td>\n",
       "      <td>10770880025_bc9af5c520_o.jpg</td>\n",
       "      <td>211</td>\n",
       "      <td>(38, 43)</td>\n",
       "      <td>m</td>\n",
       "      <td>396</td>\n",
       "      <td>543</td>\n",
       "      <td>287</td>\n",
       "      <td>287</td>\n",
       "      <td>0</td>\n",
       "      <td>0</td>\n",
       "      <td>55</td>\n",
       "    </tr>\n",
       "    <tr>\n",
       "      <th>3</th>\n",
       "      <td>113605644@N05</td>\n",
       "      <td>11817301845_0219448693_o.jpg</td>\n",
       "      <td>417</td>\n",
       "      <td>(0, 2)</td>\n",
       "      <td>m</td>\n",
       "      <td>25</td>\n",
       "      <td>0</td>\n",
       "      <td>1104</td>\n",
       "      <td>960</td>\n",
       "      <td>-100</td>\n",
       "      <td>0</td>\n",
       "      <td>143</td>\n",
       "    </tr>\n",
       "    <tr>\n",
       "      <th>4</th>\n",
       "      <td>30601258@N03</td>\n",
       "      <td>9347577463_4db4ea3de9_o.jpg</td>\n",
       "      <td>2</td>\n",
       "      <td>(25, 32)</td>\n",
       "      <td>m</td>\n",
       "      <td>1034</td>\n",
       "      <td>651</td>\n",
       "      <td>1058</td>\n",
       "      <td>1059</td>\n",
       "      <td>-95</td>\n",
       "      <td>0</td>\n",
       "      <td>17</td>\n",
       "    </tr>\n",
       "  </tbody>\n",
       "</table>\n",
       "</div>"
      ],
      "text/plain": [
       "         user_id                original_image  face_id       age gender  \\\n",
       "0   68825596@N05  11594021023_9744cdf4d8_o.jpg      296    (4, 6)      f   \n",
       "1   20254529@N04   9981870036_a1198b3d04_o.jpg       14    (4, 6)      f   \n",
       "2    9017386@N06  10770880025_bc9af5c520_o.jpg      211  (38, 43)      m   \n",
       "3  113605644@N05  11817301845_0219448693_o.jpg      417    (0, 2)      m   \n",
       "4   30601258@N03   9347577463_4db4ea3de9_o.jpg        2  (25, 32)      m   \n",
       "\n",
       "      x    y    dx    dy  tilt_ang  fiducial_yaw_angle  fiducial_score  \n",
       "0     0   15   723   724       -70                   0              43  \n",
       "1  1216  449  1332  1332         0                  30              91  \n",
       "2   396  543   287   287         0                   0              55  \n",
       "3    25    0  1104   960      -100                   0             143  \n",
       "4  1034  651  1058  1059       -95                   0              17  "
      ]
     },
     "execution_count": 40,
     "metadata": {},
     "output_type": "execute_result"
    }
   ],
   "source": [
    "# Get the data\n",
    "data = pd.read_csv(filepath_or_buffer=\"../data/face_image_project/fold_0_data.txt\", sep=\"\\t\")\n",
    "data = data.sample(frac=1).reset_index(drop=True)\n",
    "data.head()"
   ]
  },
  {
   "cell_type": "code",
   "execution_count": 41,
   "metadata": {
    "collapsed": false
   },
   "outputs": [
    {
     "data": {
      "text/html": [
       "<div>\n",
       "<table border=\"1\" class=\"dataframe\">\n",
       "  <thead>\n",
       "    <tr style=\"text-align: right;\">\n",
       "      <th></th>\n",
       "      <th>user_id</th>\n",
       "      <th>original_image</th>\n",
       "      <th>face_id</th>\n",
       "      <th>gender</th>\n",
       "      <th>age</th>\n",
       "    </tr>\n",
       "  </thead>\n",
       "  <tbody>\n",
       "    <tr>\n",
       "      <th>0</th>\n",
       "      <td>68825596@N05</td>\n",
       "      <td>11594021023_9744cdf4d8_o.jpg</td>\n",
       "      <td>296</td>\n",
       "      <td>f</td>\n",
       "      <td>(4, 6)</td>\n",
       "    </tr>\n",
       "    <tr>\n",
       "      <th>1</th>\n",
       "      <td>20254529@N04</td>\n",
       "      <td>9981870036_a1198b3d04_o.jpg</td>\n",
       "      <td>14</td>\n",
       "      <td>f</td>\n",
       "      <td>(4, 6)</td>\n",
       "    </tr>\n",
       "    <tr>\n",
       "      <th>2</th>\n",
       "      <td>9017386@N06</td>\n",
       "      <td>10770880025_bc9af5c520_o.jpg</td>\n",
       "      <td>211</td>\n",
       "      <td>m</td>\n",
       "      <td>(38, 43)</td>\n",
       "    </tr>\n",
       "    <tr>\n",
       "      <th>3</th>\n",
       "      <td>113605644@N05</td>\n",
       "      <td>11817301845_0219448693_o.jpg</td>\n",
       "      <td>417</td>\n",
       "      <td>m</td>\n",
       "      <td>(0, 2)</td>\n",
       "    </tr>\n",
       "    <tr>\n",
       "      <th>4</th>\n",
       "      <td>30601258@N03</td>\n",
       "      <td>9347577463_4db4ea3de9_o.jpg</td>\n",
       "      <td>2</td>\n",
       "      <td>m</td>\n",
       "      <td>(25, 32)</td>\n",
       "    </tr>\n",
       "  </tbody>\n",
       "</table>\n",
       "</div>"
      ],
      "text/plain": [
       "         user_id                original_image  face_id gender       age\n",
       "0   68825596@N05  11594021023_9744cdf4d8_o.jpg      296      f    (4, 6)\n",
       "1   20254529@N04   9981870036_a1198b3d04_o.jpg       14      f    (4, 6)\n",
       "2    9017386@N06  10770880025_bc9af5c520_o.jpg      211      m  (38, 43)\n",
       "3  113605644@N05  11817301845_0219448693_o.jpg      417      m    (0, 2)\n",
       "4   30601258@N03   9347577463_4db4ea3de9_o.jpg        2      m  (25, 32)"
      ]
     },
     "execution_count": 41,
     "metadata": {},
     "output_type": "execute_result"
    }
   ],
   "source": [
    "data = data[[\"user_id\",\"original_image\",\"face_id\",\"gender\", \"age\"]]\n",
    "data.head()"
   ]
  },
  {
   "cell_type": "code",
   "execution_count": 42,
   "metadata": {
    "collapsed": false
   },
   "outputs": [
    {
     "data": {
      "text/plain": [
       "m    2047\n",
       "f    1948\n",
       "Name: gender, dtype: int64"
      ]
     },
     "execution_count": 42,
     "metadata": {},
     "output_type": "execute_result"
    }
   ],
   "source": [
    "data = data[data.gender != \"u\"]\n",
    "data.gender.value_counts()"
   ]
  },
  {
   "cell_type": "code",
   "execution_count": 43,
   "metadata": {
    "collapsed": false
   },
   "outputs": [
    {
     "data": {
      "text/html": [
       "<div>\n",
       "<table border=\"1\" class=\"dataframe\">\n",
       "  <thead>\n",
       "    <tr style=\"text-align: right;\">\n",
       "      <th></th>\n",
       "      <th>user_id</th>\n",
       "      <th>original_image</th>\n",
       "      <th>face_id</th>\n",
       "      <th>gender</th>\n",
       "      <th>age</th>\n",
       "    </tr>\n",
       "  </thead>\n",
       "  <tbody>\n",
       "    <tr>\n",
       "      <th>0</th>\n",
       "      <td>68825596@N05</td>\n",
       "      <td>11594021023_9744cdf4d8_o.jpg</td>\n",
       "      <td>296</td>\n",
       "      <td>0</td>\n",
       "      <td>(4, 6)</td>\n",
       "    </tr>\n",
       "    <tr>\n",
       "      <th>1</th>\n",
       "      <td>20254529@N04</td>\n",
       "      <td>9981870036_a1198b3d04_o.jpg</td>\n",
       "      <td>14</td>\n",
       "      <td>0</td>\n",
       "      <td>(4, 6)</td>\n",
       "    </tr>\n",
       "    <tr>\n",
       "      <th>2</th>\n",
       "      <td>9017386@N06</td>\n",
       "      <td>10770880025_bc9af5c520_o.jpg</td>\n",
       "      <td>211</td>\n",
       "      <td>1</td>\n",
       "      <td>(38, 43)</td>\n",
       "    </tr>\n",
       "    <tr>\n",
       "      <th>3</th>\n",
       "      <td>113605644@N05</td>\n",
       "      <td>11817301845_0219448693_o.jpg</td>\n",
       "      <td>417</td>\n",
       "      <td>1</td>\n",
       "      <td>(0, 2)</td>\n",
       "    </tr>\n",
       "    <tr>\n",
       "      <th>4</th>\n",
       "      <td>30601258@N03</td>\n",
       "      <td>9347577463_4db4ea3de9_o.jpg</td>\n",
       "      <td>2</td>\n",
       "      <td>1</td>\n",
       "      <td>(25, 32)</td>\n",
       "    </tr>\n",
       "  </tbody>\n",
       "</table>\n",
       "</div>"
      ],
      "text/plain": [
       "         user_id                original_image  face_id gender       age\n",
       "0   68825596@N05  11594021023_9744cdf4d8_o.jpg      296      0    (4, 6)\n",
       "1   20254529@N04   9981870036_a1198b3d04_o.jpg       14      0    (4, 6)\n",
       "2    9017386@N06  10770880025_bc9af5c520_o.jpg      211      1  (38, 43)\n",
       "3  113605644@N05  11817301845_0219448693_o.jpg      417      1    (0, 2)\n",
       "4   30601258@N03   9347577463_4db4ea3de9_o.jpg        2      1  (25, 32)"
      ]
     },
     "execution_count": 43,
     "metadata": {},
     "output_type": "execute_result"
    }
   ],
   "source": [
    "data.loc[data.gender == \"f\", \"gender\"] = 0\n",
    "data.loc[data.gender == \"m\", \"gender\"] = 1\n",
    "data.head()"
   ]
  },
  {
   "cell_type": "code",
   "execution_count": null,
   "metadata": {
    "collapsed": false
   },
   "outputs": [],
   "source": [
    "path_template = \"../data/face_image_project/aligned/%s/landmark_aligned_face.%d.%s\"\n",
    "data[\"file_path\"] = data[[\"user_id\",\"face_id\",\"original_image\"]].apply(lambda x:  \n",
    "                                                                   path_template % (x[0],x[1],x[2]),\n",
    "                                                                   axis=1)\n",
    "data.head()"
   ]
  },
  {
   "cell_type": "code",
   "execution_count": 67,
   "metadata": {
    "collapsed": false
   },
   "outputs": [
    {
     "data": {
      "text/plain": [
       "True"
      ]
     },
     "execution_count": 67,
     "metadata": {},
     "output_type": "execute_result"
    }
   ],
   "source": [
    "data.age[11] == 'None'"
   ]
  },
  {
   "cell_type": "code",
   "execution_count": 73,
   "metadata": {
    "collapsed": false
   },
   "outputs": [],
   "source": [
    "data = data[data.age != 'None']"
   ]
  },
  {
   "cell_type": "code",
   "execution_count": null,
   "metadata": {
    "collapsed": false
   },
   "outputs": [],
   "source": [
    "data = data[[\"file_path\",\"gender\", \"age\"]]\n",
    "data = pd.get_dummies(data, columns=[\"age\"])\n",
    "data.head()"
   ]
  },
  {
   "cell_type": "code",
   "execution_count": 88,
   "metadata": {
    "collapsed": false
   },
   "outputs": [
    {
     "data": {
      "text/plain": [
       "19"
      ]
     },
     "execution_count": 88,
     "metadata": {},
     "output_type": "execute_result"
    }
   ],
   "source": [
    "len(data.columns)"
   ]
  },
  {
   "cell_type": "code",
   "execution_count": 93,
   "metadata": {
    "collapsed": false
   },
   "outputs": [
    {
     "data": {
      "text/plain": [
       "Index([u'file_path', u'gender', u'age_(0, 2)', u'age_(15, 20)',\n",
       "       u'age_(25, 32)', u'age_(38, 43)', u'age_(38, 48)', u'age_(4, 6)',\n",
       "       u'age_(48, 53)', u'age_(60, 100)', u'age_(8, 12)', u'age_13', u'age_22',\n",
       "       u'age_3', u'age_35', u'age_36', u'age_45', u'age_55', u'age_58'],\n",
       "      dtype='object')"
      ]
     },
     "execution_count": 93,
     "metadata": {},
     "output_type": "execute_result"
    }
   ],
   "source": [
    "data.columns"
   ]
  },
  {
   "cell_type": "code",
   "execution_count": null,
   "metadata": {
    "collapsed": true
   },
   "outputs": [],
   "source": []
  },
  {
   "cell_type": "code",
   "execution_count": 95,
   "metadata": {
    "collapsed": false
   },
   "outputs": [
    {
     "data": {
      "text/plain": [
       "17"
      ]
     },
     "execution_count": 95,
     "metadata": {},
     "output_type": "execute_result"
    }
   ],
   "source": [
    "age_cols =  [u'age_(0, 2)', u'age_(15, 20)',\n",
    "       u'age_(25, 32)', u'age_(38, 43)', u'age_(38, 48)', u'age_(4, 6)',\n",
    "       u'age_(48, 53)', u'age_(60, 100)', u'age_(8, 12)', u'age_13', u'age_22',\n",
    "       u'age_3', u'age_35', u'age_36', u'age_45', u'age_55', u'age_58']\n",
    "len(age_cols)"
   ]
  },
  {
   "cell_type": "markdown",
   "metadata": {},
   "source": [
    "### So there are 17 age categories..."
   ]
  },
  {
   "cell_type": "code",
   "execution_count": 101,
   "metadata": {
    "collapsed": false
   },
   "outputs": [
    {
     "name": "stdout",
     "output_type": "stream",
     "text": [
      "(32, 227, 227, 3)\n",
      "(32, 17)\n"
     ]
    }
   ],
   "source": [
    "import scipy.misc\n",
    "\n",
    "i_width  = 227\n",
    "i_height = 227\n",
    "\n",
    "#scipy.misc.imresize(original_image, (i_height, i_width))\n",
    "\n",
    "\n",
    "def train_generator(data):\n",
    "    while True:\n",
    "        start, end = 0, 32\n",
    "        while end < len(data):\n",
    "            data = data.sample(frac=1).reset_index(drop=True)\n",
    "            sample  = data[start:end]\n",
    "\n",
    "            X = pd.DataFrame(sample[\"file_path\"].apply(lambda x:  img_to_array( scipy.misc.imresize(load_img(x), (i_height, i_width) ) ) ))\n",
    "            \n",
    "            X = X[\"file_path\"].apply(lambda x: x.reshape((1,)+ x.shape))\n",
    "            X = np.vstack(X)\n",
    "            #print X[0].shape\n",
    "            #print X.shape\n",
    "            #\n",
    "            Y = sample[age_cols].as_matrix()\n",
    "            #print Y.as_matrix()\n",
    "            #print Y.shape\n",
    "            #print X\n",
    "            yield (X, Y)\n",
    "            start += 32\n",
    "            end += 32"
   ]
  },
  {
   "cell_type": "code",
   "execution_count": 98,
   "metadata": {
    "collapsed": false
   },
   "outputs": [
    {
     "name": "stdout",
     "output_type": "stream",
     "text": [
      "(32, 227, 227, 3)\n",
      "(32, 17)\n"
     ]
    }
   ],
   "source": [
    "a,b = train_generator(data).next()"
   ]
  },
  {
   "cell_type": "code",
   "execution_count": 90,
   "metadata": {
    "collapsed": true
   },
   "outputs": [],
   "source": [
    "# Building a vainilla CNN\n",
    "vainilla_cnn = Sequential()\n",
    "vainilla_cnn.add(Convolution2D(32, 3, 3, input_shape=(227,227,3)))\n",
    "vainilla_cnn.add(Activation('relu'))\n",
    "vainilla_cnn.add(MaxPooling2D(pool_size=(2, 2)))\n",
    "vainilla_cnn.add(Convolution2D(64, 3, 3))\n",
    "vainilla_cnn.add(Activation('relu'))\n",
    "vainilla_cnn.add(Convolution2D(64, 3, 3))\n",
    "vainilla_cnn.add(Activation('relu'))\n",
    "vainilla_cnn.add(MaxPooling2D(pool_size=(2, 2)))\n",
    "vainilla_cnn.add(Flatten())\n",
    "vainilla_cnn.add(Dense(output_dim=200, input_dim=500))\n",
    "vainilla_cnn.add(BatchNormalization())\n",
    "vainilla_cnn.add(Activation(\"relu\"))\n",
    "vainilla_cnn.add(Dense(output_dim=100, input_dim=200))\n",
    "vainilla_cnn.add(BatchNormalization())\n",
    "vainilla_cnn.add(Activation(\"relu\"))\n",
    "vainilla_cnn.add(Dense(output_dim=17))\n",
    "vainilla_cnn.add(Activation(\"softmax\"))"
   ]
  },
  {
   "cell_type": "code",
   "execution_count": 102,
   "metadata": {
    "collapsed": true
   },
   "outputs": [],
   "source": [
    "vainilla_cnn.compile(loss='categorical_crossentropy', optimizer='adam', metrics=['accuracy'])"
   ]
  },
  {
   "cell_type": "code",
   "execution_count": 103,
   "metadata": {
    "collapsed": false
   },
   "outputs": [
    {
     "name": "stdout",
     "output_type": "stream",
     "text": [
      "Epoch 1/200\n",
      "64/64 [==============================] - 19s - loss: 2.7521 - acc: 0.2656    \n",
      "Epoch 2/200\n",
      "64/64 [==============================] - 19s - loss: 2.9546 - acc: 0.2188    \n",
      "Epoch 3/200\n",
      "64/64 [==============================] - 18s - loss: 2.6796 - acc: 0.2656    \n",
      "Epoch 4/200\n",
      "64/64 [==============================] - 18s - loss: 2.5652 - acc: 0.3125    \n",
      "Epoch 5/200\n",
      "64/64 [==============================] - 19s - loss: 2.2829 - acc: 0.3750    \n",
      "Epoch 6/200\n",
      "64/64 [==============================] - 22s - loss: 2.7411 - acc: 0.2969     \n",
      "Epoch 7/200\n",
      "64/64 [==============================] - 19s - loss: 2.2047 - acc: 0.3750     \n",
      "Epoch 8/200\n",
      "64/64 [==============================] - 23s - loss: 2.1619 - acc: 0.4219     \n",
      "Epoch 9/200\n",
      "64/64 [==============================] - 24s - loss: 2.1908 - acc: 0.3906     \n",
      "Epoch 10/200\n",
      "64/64 [==============================] - 22s - loss: 2.0013 - acc: 0.3750     \n",
      "Epoch 11/200\n",
      "64/64 [==============================] - 20s - loss: 2.2875 - acc: 0.3594     \n",
      "Epoch 12/200\n",
      "64/64 [==============================] - 23s - loss: 2.0926 - acc: 0.4062     \n",
      "Epoch 13/200\n",
      "64/64 [==============================] - 22s - loss: 2.1052 - acc: 0.3438     \n",
      "Epoch 14/200\n",
      "64/64 [==============================] - 18s - loss: 1.8957 - acc: 0.4531    \n",
      "Epoch 15/200\n",
      "64/64 [==============================] - 18s - loss: 1.9299 - acc: 0.4375    \n",
      "Epoch 16/200\n",
      "64/64 [==============================] - 17s - loss: 1.8671 - acc: 0.4062    \n",
      "Epoch 17/200\n",
      "64/64 [==============================] - 17s - loss: 1.7918 - acc: 0.3750    \n",
      "Epoch 18/200\n",
      "64/64 [==============================] - 18s - loss: 1.5913 - acc: 0.5156    \n",
      "Epoch 19/200\n",
      "64/64 [==============================] - 18s - loss: 1.6813 - acc: 0.4688    \n",
      "Epoch 20/200\n",
      "64/64 [==============================] - 21s - loss: 2.1049 - acc: 0.3750     \n",
      "Epoch 21/200\n",
      "64/64 [==============================] - 22s - loss: 1.8427 - acc: 0.3594     \n",
      "Epoch 22/200\n",
      "64/64 [==============================] - 19s - loss: 1.8107 - acc: 0.3281    \n",
      "Epoch 23/200\n",
      "64/64 [==============================] - 18s - loss: 1.5844 - acc: 0.5781    \n",
      "Epoch 24/200\n",
      "64/64 [==============================] - 18s - loss: 1.5494 - acc: 0.4688    \n",
      "Epoch 25/200\n",
      "64/64 [==============================] - 20s - loss: 1.6351 - acc: 0.4688    \n",
      "Epoch 26/200\n",
      "64/64 [==============================] - 17s - loss: 1.4036 - acc: 0.5469    \n",
      "Epoch 27/200\n",
      "64/64 [==============================] - 17s - loss: 1.6285 - acc: 0.4688    \n",
      "Epoch 28/200\n",
      "64/64 [==============================] - 17s - loss: 1.6246 - acc: 0.4062    \n",
      "Epoch 29/200\n",
      "64/64 [==============================] - 20s - loss: 1.3801 - acc: 0.5625    \n",
      "Epoch 30/200\n",
      "64/64 [==============================] - 18s - loss: 1.3869 - acc: 0.5938    \n",
      "Epoch 31/200\n",
      "64/64 [==============================] - 17s - loss: 1.4060 - acc: 0.5625    \n",
      "Epoch 32/200\n",
      "64/64 [==============================] - 18s - loss: 1.4421 - acc: 0.5156    \n",
      "Epoch 33/200\n",
      "64/64 [==============================] - 17s - loss: 1.5298 - acc: 0.5625    \n",
      "Epoch 34/200\n",
      "64/64 [==============================] - 17s - loss: 1.3621 - acc: 0.6562    \n",
      "Epoch 35/200\n",
      "64/64 [==============================] - 18s - loss: 1.4729 - acc: 0.5000    \n",
      "Epoch 36/200\n",
      "64/64 [==============================] - 18s - loss: 1.3692 - acc: 0.5469    \n",
      "Epoch 37/200\n",
      "64/64 [==============================] - 19s - loss: 1.4045 - acc: 0.5312     \n",
      "Epoch 38/200\n",
      "64/64 [==============================] - 18s - loss: 1.1836 - acc: 0.6094    \n",
      "Epoch 39/200\n",
      "64/64 [==============================] - 18s - loss: 1.5279 - acc: 0.5000    \n",
      "Epoch 40/200\n",
      "64/64 [==============================] - 18s - loss: 1.4959 - acc: 0.5312    \n",
      "Epoch 41/200\n",
      "64/64 [==============================] - 18s - loss: 1.3310 - acc: 0.6094    \n",
      "Epoch 42/200\n",
      "64/64 [==============================] - 19s - loss: 1.3454 - acc: 0.5000    \n",
      "Epoch 43/200\n",
      "64/64 [==============================] - 20s - loss: 1.3835 - acc: 0.5312     \n",
      "Epoch 44/200\n",
      "64/64 [==============================] - 18s - loss: 1.6569 - acc: 0.5000    \n",
      "Epoch 45/200\n",
      "64/64 [==============================] - 18s - loss: 1.5349 - acc: 0.4375    \n",
      "Epoch 46/200\n",
      "64/64 [==============================] - 18s - loss: 1.3938 - acc: 0.5469    \n",
      "Epoch 47/200\n",
      "64/64 [==============================] - 18s - loss: 1.4497 - acc: 0.5625    \n",
      "Epoch 48/200\n",
      "64/64 [==============================] - 19s - loss: 1.4817 - acc: 0.5312     \n",
      "Epoch 49/200\n",
      "64/64 [==============================] - 18s - loss: 1.4631 - acc: 0.5938    \n",
      "Epoch 50/200\n",
      "64/64 [==============================] - 18s - loss: 1.5434 - acc: 0.5000    \n",
      "Epoch 51/200\n",
      "64/64 [==============================] - 20s - loss: 1.3933 - acc: 0.4844     \n",
      "Epoch 52/200\n",
      "64/64 [==============================] - 18s - loss: 1.1479 - acc: 0.6094    \n",
      "Epoch 53/200\n",
      "64/64 [==============================] - 18s - loss: 1.3113 - acc: 0.6094    \n",
      "Epoch 54/200\n",
      "64/64 [==============================] - 18s - loss: 1.4840 - acc: 0.5000    \n",
      "Epoch 55/200\n",
      "64/64 [==============================] - 18s - loss: 1.2060 - acc: 0.6406    \n",
      "Epoch 56/200\n",
      "64/64 [==============================] - 18s - loss: 1.2926 - acc: 0.5469    \n",
      "Epoch 57/200\n",
      "64/64 [==============================] - 18s - loss: 1.2474 - acc: 0.5000    \n",
      "Epoch 58/200\n",
      "64/64 [==============================] - 18s - loss: 1.2274 - acc: 0.5469    \n",
      "Epoch 59/200\n",
      "64/64 [==============================] - 22s - loss: 1.3429 - acc: 0.5000    \n",
      "Epoch 60/200\n",
      "64/64 [==============================] - 20s - loss: 1.1560 - acc: 0.6250     \n",
      "Epoch 61/200\n",
      "64/64 [==============================] - 18s - loss: 1.2450 - acc: 0.5625    \n",
      "Epoch 62/200\n",
      "64/64 [==============================] - 20s - loss: 1.0516 - acc: 0.5781     \n",
      "Epoch 63/200\n",
      "64/64 [==============================] - 19s - loss: 1.2893 - acc: 0.5000     \n",
      "Epoch 64/200\n",
      "64/64 [==============================] - 22s - loss: 1.1094 - acc: 0.6562     \n",
      "Epoch 65/200\n",
      "64/64 [==============================] - 20s - loss: 1.1336 - acc: 0.6250     \n",
      "Epoch 66/200\n",
      "64/64 [==============================] - 20s - loss: 1.1462 - acc: 0.6094     \n",
      "Epoch 67/200\n",
      "64/64 [==============================] - 18s - loss: 1.0876 - acc: 0.6562    \n",
      "Epoch 68/200\n",
      "64/64 [==============================] - 18s - loss: 1.5569 - acc: 0.6094    \n",
      "Epoch 69/200\n",
      "64/64 [==============================] - 21s - loss: 1.0619 - acc: 0.5938     \n",
      "Epoch 70/200\n",
      "64/64 [==============================] - 20s - loss: 0.9570 - acc: 0.6562    \n",
      "Epoch 71/200\n",
      "64/64 [==============================] - 19s - loss: 1.0836 - acc: 0.6562     \n",
      "Epoch 72/200\n",
      "64/64 [==============================] - 21s - loss: 1.0684 - acc: 0.6406     \n",
      "Epoch 73/200\n",
      "64/64 [==============================] - 20s - loss: 1.0997 - acc: 0.6719     \n",
      "Epoch 74/200\n",
      "64/64 [==============================] - 20s - loss: 1.0331 - acc: 0.6875     \n",
      "Epoch 75/200\n",
      "64/64 [==============================] - 20s - loss: 1.1319 - acc: 0.6406    \n",
      "Epoch 76/200\n",
      "64/64 [==============================] - 19s - loss: 1.0981 - acc: 0.6094    \n",
      "Epoch 77/200\n",
      "64/64 [==============================] - 19s - loss: 1.3011 - acc: 0.5938     \n",
      "Epoch 78/200\n",
      "64/64 [==============================] - 18s - loss: 1.1465 - acc: 0.6562    \n",
      "Epoch 79/200\n",
      "64/64 [==============================] - 19s - loss: 0.8926 - acc: 0.7500     \n",
      "Epoch 80/200\n",
      "64/64 [==============================] - 20s - loss: 1.0609 - acc: 0.6406     \n",
      "Epoch 81/200\n",
      "64/64 [==============================] - 22s - loss: 1.0705 - acc: 0.6406     \n",
      "Epoch 82/200\n",
      "64/64 [==============================] - 23s - loss: 1.2610 - acc: 0.6094     \n",
      "Epoch 83/200\n",
      "64/64 [==============================] - 21s - loss: 1.2835 - acc: 0.6094     \n",
      "Epoch 84/200\n",
      "64/64 [==============================] - 22s - loss: 1.0944 - acc: 0.5938     \n",
      "Epoch 85/200\n",
      "64/64 [==============================] - 20s - loss: 1.2810 - acc: 0.5312     \n",
      "Epoch 86/200\n",
      "64/64 [==============================] - 20s - loss: 1.0566 - acc: 0.7188     \n",
      "Epoch 87/200\n",
      "64/64 [==============================] - 20s - loss: 0.8831 - acc: 0.7344     \n",
      "Epoch 88/200\n",
      "64/64 [==============================] - 21s - loss: 0.9150 - acc: 0.7031     \n",
      "Epoch 89/200\n",
      "64/64 [==============================] - 21s - loss: 0.8022 - acc: 0.7188     \n",
      "Epoch 90/200\n",
      "64/64 [==============================] - 20s - loss: 0.8120 - acc: 0.7031     \n",
      "Epoch 91/200\n",
      "64/64 [==============================] - 20s - loss: 0.9645 - acc: 0.6562    \n",
      "Epoch 92/200\n",
      "64/64 [==============================] - 19s - loss: 0.9579 - acc: 0.6250    \n",
      "Epoch 93/200\n",
      "64/64 [==============================] - 19s - loss: 0.6819 - acc: 0.7656    \n",
      "Epoch 94/200\n",
      "64/64 [==============================] - 20s - loss: 1.0908 - acc: 0.5938     \n",
      "Epoch 95/200\n",
      "64/64 [==============================] - 20s - loss: 1.1308 - acc: 0.6562     \n",
      "Epoch 96/200\n",
      "64/64 [==============================] - 20s - loss: 0.7779 - acc: 0.7812     \n",
      "Epoch 97/200\n",
      "64/64 [==============================] - 21s - loss: 0.9513 - acc: 0.6875     \n",
      "Epoch 98/200\n",
      "64/64 [==============================] - 19s - loss: 0.7691 - acc: 0.7344    \n",
      "Epoch 99/200\n",
      "64/64 [==============================] - 19s - loss: 0.9467 - acc: 0.6562    \n",
      "Epoch 100/200\n",
      "64/64 [==============================] - 19s - loss: 0.9069 - acc: 0.6719    \n",
      "Epoch 101/200\n",
      "64/64 [==============================] - 19s - loss: 0.8407 - acc: 0.7344    \n",
      "Epoch 102/200\n",
      "64/64 [==============================] - 18s - loss: 0.8311 - acc: 0.7656    \n",
      "Epoch 103/200\n",
      "64/64 [==============================] - 18s - loss: 0.8759 - acc: 0.7031    \n",
      "Epoch 104/200\n",
      "64/64 [==============================] - 19s - loss: 0.9120 - acc: 0.7031    \n",
      "Epoch 105/200\n",
      "64/64 [==============================] - 19s - loss: 1.0427 - acc: 0.6094    \n",
      "Epoch 106/200\n",
      "64/64 [==============================] - 24s - loss: 1.2459 - acc: 0.5469    \n",
      "Epoch 107/200\n",
      "64/64 [==============================] - 24s - loss: 0.9071 - acc: 0.7031     \n",
      "Epoch 108/200\n",
      "64/64 [==============================] - 23s - loss: 0.7554 - acc: 0.7031     \n",
      "Epoch 109/200\n",
      "64/64 [==============================] - 23s - loss: 0.7648 - acc: 0.7031     \n",
      "Epoch 110/200\n",
      "64/64 [==============================] - 21s - loss: 0.7510 - acc: 0.8125     \n",
      "Epoch 111/200\n",
      "64/64 [==============================] - 20s - loss: 0.7416 - acc: 0.7500     \n",
      "Epoch 112/200\n",
      "64/64 [==============================] - 21s - loss: 0.7545 - acc: 0.7656     \n",
      "Epoch 113/200\n",
      "64/64 [==============================] - 20s - loss: 0.5715 - acc: 0.7969     \n",
      "Epoch 114/200\n",
      "64/64 [==============================] - 19s - loss: 0.7206 - acc: 0.7812     \n",
      "Epoch 115/200\n",
      "64/64 [==============================] - 19s - loss: 0.5882 - acc: 0.8125    \n",
      "Epoch 116/200\n",
      "64/64 [==============================] - 20s - loss: 0.6098 - acc: 0.7812     \n",
      "Epoch 117/200\n",
      "64/64 [==============================] - 21s - loss: 0.9973 - acc: 0.7031     \n",
      "Epoch 118/200\n",
      "64/64 [==============================] - 19s - loss: 0.6812 - acc: 0.8125     \n",
      "Epoch 119/200\n",
      "64/64 [==============================] - 20s - loss: 0.6607 - acc: 0.8125     \n",
      "Epoch 120/200\n",
      "64/64 [==============================] - 19s - loss: 0.7150 - acc: 0.7969     \n",
      "Epoch 121/200\n",
      "64/64 [==============================] - 19s - loss: 0.9152 - acc: 0.6719    \n",
      "Epoch 122/200\n",
      "64/64 [==============================] - 18s - loss: 0.8096 - acc: 0.6719    \n",
      "Epoch 123/200\n",
      "64/64 [==============================] - 18s - loss: 0.7057 - acc: 0.7812    \n",
      "Epoch 124/200\n",
      "64/64 [==============================] - 19s - loss: 0.5683 - acc: 0.8125    \n",
      "Epoch 125/200\n",
      "64/64 [==============================] - 23s - loss: 0.7721 - acc: 0.6875     \n",
      "Epoch 126/200\n",
      "64/64 [==============================] - 22s - loss: 0.6366 - acc: 0.8594     \n",
      "Epoch 127/200\n",
      "64/64 [==============================] - 22s - loss: 0.6209 - acc: 0.7500     \n",
      "Epoch 128/200\n",
      "64/64 [==============================] - 19s - loss: 0.6008 - acc: 0.8438     \n",
      "Epoch 129/200\n",
      "64/64 [==============================] - 18s - loss: 0.7274 - acc: 0.8125    \n",
      "Epoch 130/200\n",
      "64/64 [==============================] - 19s - loss: 0.8485 - acc: 0.7812    \n",
      "Epoch 131/200\n",
      "64/64 [==============================] - 20s - loss: 0.6400 - acc: 0.8125     \n",
      "Epoch 132/200\n",
      "64/64 [==============================] - 19s - loss: 0.7401 - acc: 0.7500     \n",
      "Epoch 133/200\n",
      "64/64 [==============================] - 20s - loss: 0.5549 - acc: 0.7656    \n",
      "Epoch 134/200\n",
      "64/64 [==============================] - 20s - loss: 0.7818 - acc: 0.7188     \n",
      "Epoch 135/200\n",
      "64/64 [==============================] - 19s - loss: 0.7320 - acc: 0.7500    \n",
      "Epoch 136/200\n",
      "64/64 [==============================] - 19s - loss: 0.6742 - acc: 0.7969    \n",
      "Epoch 137/200\n",
      "64/64 [==============================] - 18s - loss: 0.6611 - acc: 0.8125    \n",
      "Epoch 138/200\n",
      "64/64 [==============================] - 21s - loss: 0.6876 - acc: 0.7500     \n",
      "Epoch 139/200\n",
      "64/64 [==============================] - 20s - loss: 0.6510 - acc: 0.7656    \n",
      "Epoch 140/200\n",
      "64/64 [==============================] - 19s - loss: 0.7075 - acc: 0.7656    \n",
      "Epoch 141/200\n",
      "64/64 [==============================] - 19s - loss: 0.6402 - acc: 0.7969    \n",
      "Epoch 142/200\n",
      "64/64 [==============================] - 19s - loss: 0.5434 - acc: 0.7812     \n",
      "Epoch 143/200\n",
      "64/64 [==============================] - 18s - loss: 0.6586 - acc: 0.7812    \n",
      "Epoch 144/200\n",
      "64/64 [==============================] - 18s - loss: 0.5289 - acc: 0.8594    \n",
      "Epoch 145/200\n",
      "64/64 [==============================] - 19s - loss: 0.4045 - acc: 0.8594    \n",
      "Epoch 146/200\n",
      "64/64 [==============================] - 18s - loss: 0.5974 - acc: 0.7969    \n",
      "Epoch 147/200\n",
      "64/64 [==============================] - 19s - loss: 0.7775 - acc: 0.7656    \n",
      "Epoch 148/200\n",
      "64/64 [==============================] - 19s - loss: 0.5828 - acc: 0.7812     \n",
      "Epoch 149/200\n",
      "64/64 [==============================] - 20s - loss: 0.4145 - acc: 0.8594     \n",
      "Epoch 150/200\n",
      "64/64 [==============================] - 20s - loss: 0.5731 - acc: 0.8125    \n",
      "Epoch 151/200\n",
      "64/64 [==============================] - 19s - loss: 0.5471 - acc: 0.8281    \n",
      "Epoch 152/200\n",
      "64/64 [==============================] - 21s - loss: 0.3310 - acc: 0.9375    \n",
      "Epoch 153/200\n",
      "64/64 [==============================] - 18s - loss: 0.6700 - acc: 0.8125    \n",
      "Epoch 154/200\n",
      "64/64 [==============================] - 19s - loss: 0.6157 - acc: 0.8281    \n",
      "Epoch 155/200\n",
      "64/64 [==============================] - 19s - loss: 0.4446 - acc: 0.8750    \n",
      "Epoch 156/200\n",
      "64/64 [==============================] - 18s - loss: 0.8145 - acc: 0.7656    \n",
      "Epoch 157/200\n",
      "64/64 [==============================] - 22s - loss: 0.4538 - acc: 0.8594     \n",
      "Epoch 158/200\n",
      "64/64 [==============================] - 21s - loss: 0.5263 - acc: 0.8594     \n",
      "Epoch 159/200\n",
      "64/64 [==============================] - 20s - loss: 0.4213 - acc: 0.8750     \n",
      "Epoch 160/200\n",
      "64/64 [==============================] - 19s - loss: 0.5887 - acc: 0.8125    \n",
      "Epoch 161/200\n",
      "64/64 [==============================] - 18s - loss: 0.6656 - acc: 0.8281    \n",
      "Epoch 162/200\n",
      "64/64 [==============================] - 20s - loss: 0.3523 - acc: 0.9062     \n",
      "Epoch 163/200\n",
      "64/64 [==============================] - 19s - loss: 0.7930 - acc: 0.7812    \n",
      "Epoch 164/200\n",
      "64/64 [==============================] - 18s - loss: 0.5141 - acc: 0.8281    \n",
      "Epoch 165/200\n",
      "64/64 [==============================] - 18s - loss: 0.4043 - acc: 0.8594    \n",
      "Epoch 166/200\n",
      "64/64 [==============================] - 18s - loss: 0.3513 - acc: 0.9062    \n",
      "Epoch 167/200\n",
      "64/64 [==============================] - 18s - loss: 0.4903 - acc: 0.8594    \n",
      "Epoch 168/200\n",
      "64/64 [==============================] - 18s - loss: 0.4697 - acc: 0.9062    \n",
      "Epoch 169/200\n",
      "64/64 [==============================] - 19s - loss: 0.3138 - acc: 0.8594    \n",
      "Epoch 170/200\n",
      "64/64 [==============================] - 21s - loss: 0.3125 - acc: 0.9531     \n",
      "Epoch 171/200\n",
      "64/64 [==============================] - 19s - loss: 0.4081 - acc: 0.9219    \n",
      "Epoch 172/200\n",
      "64/64 [==============================] - 20s - loss: 0.4572 - acc: 0.8594     \n",
      "Epoch 173/200\n",
      "64/64 [==============================] - 20s - loss: 0.3601 - acc: 0.9062    \n",
      "Epoch 174/200\n",
      "64/64 [==============================] - 21s - loss: 0.4882 - acc: 0.8281    \n",
      "Epoch 175/200\n",
      "64/64 [==============================] - 18s - loss: 0.5968 - acc: 0.8125    \n",
      "Epoch 176/200\n",
      "64/64 [==============================] - 19s - loss: 0.4797 - acc: 0.9062    \n",
      "Epoch 177/200\n",
      "64/64 [==============================] - 20s - loss: 0.4894 - acc: 0.8750    \n",
      "Epoch 178/200\n",
      "64/64 [==============================] - 20s - loss: 0.4564 - acc: 0.8594     \n",
      "Epoch 179/200\n",
      "64/64 [==============================] - 19s - loss: 0.3622 - acc: 0.8750    \n",
      "Epoch 180/200\n",
      "64/64 [==============================] - 18s - loss: 0.5157 - acc: 0.8438    \n",
      "Epoch 181/200\n",
      "64/64 [==============================] - 21s - loss: 0.3816 - acc: 0.8594     \n",
      "Epoch 182/200\n",
      "64/64 [==============================] - 20s - loss: 0.3370 - acc: 0.8750     \n",
      "Epoch 183/200\n",
      "64/64 [==============================] - 23s - loss: 0.3008 - acc: 0.9062     \n",
      "Epoch 184/200\n",
      "64/64 [==============================] - 18s - loss: 0.4581 - acc: 0.8906    \n",
      "Epoch 185/200\n",
      "64/64 [==============================] - 19s - loss: 0.3749 - acc: 0.8750    \n",
      "Epoch 186/200\n",
      "64/64 [==============================] - 20s - loss: 0.5507 - acc: 0.7812     \n",
      "Epoch 187/200\n",
      "64/64 [==============================] - 19s - loss: 0.4026 - acc: 0.8906    \n",
      "Epoch 188/200\n",
      "64/64 [==============================] - 19s - loss: 0.6508 - acc: 0.8281    \n",
      "Epoch 189/200\n",
      "64/64 [==============================] - 21s - loss: 0.3483 - acc: 0.9375     \n",
      "Epoch 190/200\n",
      "64/64 [==============================] - 19s - loss: 0.2289 - acc: 0.9531     \n",
      "Epoch 191/200\n",
      "64/64 [==============================] - 20s - loss: 0.5685 - acc: 0.8594     \n",
      "Epoch 192/200\n",
      "64/64 [==============================] - 19s - loss: 0.2869 - acc: 0.9219    \n",
      "Epoch 193/200\n",
      "64/64 [==============================] - 18s - loss: 0.2443 - acc: 0.9219    \n",
      "Epoch 194/200\n",
      "64/64 [==============================] - 19s - loss: 0.5527 - acc: 0.8594    \n",
      "Epoch 195/200\n",
      "64/64 [==============================] - 20s - loss: 0.3217 - acc: 0.9062    \n",
      "Epoch 196/200\n",
      "64/64 [==============================] - 21s - loss: 0.2435 - acc: 0.9219     \n",
      "Epoch 197/200\n",
      "64/64 [==============================] - 20s - loss: 0.3329 - acc: 0.9062    \n",
      "Epoch 198/200\n",
      "64/64 [==============================] - 19s - loss: 0.4748 - acc: 0.8594    \n",
      "Epoch 199/200\n",
      "64/64 [==============================] - 18s - loss: 0.2991 - acc: 0.9219    \n",
      "Epoch 200/200\n",
      "64/64 [==============================] - 19s - loss: 0.2549 - acc: 0.9375    \n"
     ]
    }
   ],
   "source": [
    "history = vainilla_cnn.fit_generator(train_generator(data), samples_per_epoch=64, nb_epoch=200)"
   ]
  },
  {
   "cell_type": "code",
   "execution_count": 115,
   "metadata": {
    "collapsed": false
   },
   "outputs": [
    {
     "data": {
      "text/plain": [
       "[<matplotlib.lines.Line2D at 0x114bb5110>]"
      ]
     },
     "execution_count": 115,
     "metadata": {},
     "output_type": "execute_result"
    },
    {
     "data": {
      "image/png": "[encoded data removed]",
      "text/plain": [
       "<matplotlib.figure.Figure at 0x114d99390>"
      ]
     },
     "metadata": {},
     "output_type": "display_data"
    }
   ],
   "source": [
    "import matplotlib.pyplot as plt\n",
    "%matplotlib inline\n",
    "plt.plot(history.history['loss'])"
   ]
  },
  {
   "cell_type": "code",
   "execution_count": 5,
   "metadata": {
    "collapsed": false
   },
   "outputs": [
    {
     "ename": "NameError",
     "evalue": "name 'vainilla_cnn' is not defined",
     "output_type": "error",
     "traceback": [
      "\u001b[0;31m---------------------------------------------------------------------------\u001b[0m",
      "\u001b[0;31mNameError\u001b[0m                                 Traceback (most recent call last)",
      "\u001b[0;32m<ipython-input-5-91ba8ff3ae0c>\u001b[0m in \u001b[0;36m<module>\u001b[0;34m()\u001b[0m\n\u001b[0;32m----> 1\u001b[0;31m \u001b[0;32mprint\u001b[0m \u001b[0mvainilla_cnn\u001b[0m\u001b[0;34m\u001b[0m\u001b[0m\n\u001b[0m",
      "\u001b[0;31mNameError\u001b[0m: name 'vainilla_cnn' is not defined"
     ]
    }
   ],
   "source": []
  }
 ],
 "metadata": {
  "kernelspec": {
   "display_name": "Python 2",
   "language": "python",
   "name": "python2"
  },
  "language_info": {
   "codemirror_mode": {
    "name": "ipython",
    "version": 2
   },
   "file_extension": ".py",
   "mimetype": "text/x-python",
   "name": "python",
   "nbconvert_exporter": "python",
   "pygments_lexer": "ipython2",
   "version": "2.7.10"
  }
 },
 "nbformat": 4,
 "nbformat_minor": 0
}
